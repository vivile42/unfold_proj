{
 "cells": [
  {
   "cell_type": "code",
   "execution_count": 2,
   "id": "initial_id",
   "metadata": {
    "collapsed": true,
    "ExecuteTime": {
     "end_time": "2025-05-14T12:04:26.492269Z",
     "start_time": "2025-05-14T12:04:26.349575100Z"
    }
   },
   "outputs": [],
   "source": [
    "import pandas as pd\n",
    "import mne\n",
    "import sys\n",
    "import platform\n",
    "import os\n",
    "import scipy.io\n",
    "import base.files_in_out as files_in_out\n",
    "import numpy as np\n",
    "\n",
    "if platform.system()=='Darwin':\n",
    "    os.chdir('/Volumes/BBC/BBC/WP1/data/EEG/tsk/')\n",
    "    sys.path.append('/Users/leupinv/BBC/WP1/data/Code/python/BBC')\n",
    "    #if this doesn't work pound line right above this, restart the kernel, rerun the cell. \n",
    "    #Then uncomment the same line and rerun\n",
    "\n",
    "else:\n",
    "    #os.chdir('Z:/BBC/WP1/data/EEG/tsk')\n",
    "    sys.path.append('C:/Users/Vivi/switchdrive/BBC/WP1/data/Code/python/BBC')\n",
    "    os.chdir('Z:/BBC/WP1/data/EEG/tsk')\n",
    "from base.files_in_out import getListOfFiles,GetFiles\n",
    "import base.base_constants as b_cs\n",
    "import raw_export.raw_export_helper as hp\n",
    "\n",
    "\n"
   ]
  },
  {
   "cell_type": "code",
   "outputs": [
    {
     "name": "stdout",
     "output_type": "stream",
     "text": [
      "Opening raw data file raw/g12/g12_n_tsk_ICA_rec-raw.fif...\n",
      "    Read a total of 1 projection items:\n",
      "        Average EEG reference (1 x 128) active\n",
      "    Range : 0 ... 831487 =      0.000 ...  3247.996 secs\n",
      "Ready.\n",
      "Reading 0 ... 831487  =      0.000 ...  3247.996 secs...\n",
      "g12_n_tsk_ICA_rec-raw\n"
     ]
    }
   ],
   "source": [
    "for g_num in b_cs.G_N[1:]:\n",
    "    raw = hp.load_raw_data(g_num)\n",
    "    onsets, durations, descriptions, event_table = hp.parse_annotations(raw)\n",
    "    event_table = event_table.sort_values(by=\"time\").reset_index(drop=True)\n",
    "    new_raw = hp.set_new_annotations(raw, onsets, durations, descriptions)\n",
    "    hp.save_outputs(new_raw, event_table, g_num, files_in_out)"
   ],
   "metadata": {
    "collapsed": false,
    "ExecuteTime": {
     "end_time": "2025-04-23T09:37:46.287890Z",
     "start_time": "2025-04-23T09:31:13.196966Z"
    }
   },
   "id": "b39998693b7df8ca",
   "execution_count": 2
  },
  {
   "cell_type": "code",
   "outputs": [],
   "source": [
    "for g_n in b_cs.G_N[:5]:\n",
    "    # Load  MNE Raw object (example)\n",
    "    raw = mne.io.read_raw_fif(f\"raw/{g_num}/{g_num}_n_tsk_ICA_rec-raw.fif\", preload=True)\n",
    "    # Extract the data (channels × time)\n",
    "    data = raw.get_data()  # Shape: (n_channels, n_times)\n",
    "    # Extract channel names and sampling rate\n",
    "    channel_names = raw.ch_names\n",
    "    sfreq = raw.info[\"sfreq\"]\n",
    "    #raw.drop_channels(['EXG1','Erg1','Status'])\n",
    "    annotations=raw.annotations\n",
    "    # Convert onsets from seconds to sample\n",
    "    sample_indices = np.round(annotations.onset * sfreq).astype(int)\n",
    "    # Parse the descriptions and filter/remap events\n",
    "filtered_onsets = []\n",
    "filtered_durations = []\n",
    "filtered_descriptions = []\n",
    "\n",
    "# Create event table\n",
    "# Parse the descriptions and create the event table\n",
    "event_data = {\n",
    "    \"time\": [],  # Onset in seconds\n",
    "    \"event\": [],  # Simplified event type (\"hep\" or \"vep\")\n",
    "    \"awareness\": [],  # Awareness state (\"aware\" or \"unaware\")\n",
    "    \"duration\": [],  # Duration in seconds\n",
    "    \"card_phase\": [], # cardiac phase\n",
    "    \"rsp_phase\":[],# rsp phase\n",
    "}\n",
    "\n",
    "\n",
    "for i, desc in enumerate(annotations.description):\n",
    "    # Split the description into tags\n",
    "    tags = desc.split(\"/\")\n",
    "    if \"bad\" in tags[0].lower():\n",
    "        continue\n",
    "\n",
    "    # Check if the event matches the stimulus criteria\n",
    "    # Must contain \"vep\", \"normal\", \"correct\"\n",
    "    if (\n",
    "            \"normal\" in tags[1].lower() and  # Check for \"normal\" in the second tag\n",
    "            \"correct\" in tags[2].lower()  # Check for \"correct\" in the third tag\n",
    "    ):\n",
    "        # Check for hep events with RRCA or RRCU\n",
    "        if \"hep\" in tags[0].lower():\n",
    "            if tags[-1] in [\"RRCA\", \"RRCU\"]:\n",
    "                condition_name = \"hep\"  # Collapse RRCA and RRCU into \"hep\"\n",
    "                awareness = \"aware\" if tags[-1] == \"RRCA\" else \"unaware\"\n",
    "                card_phase='dia' if tags[-3]=='R2'else 'sys'\n",
    "                rsp_phase='inh'if tags[-2]=='inh' else 'exh'\n",
    "            else:\n",
    "                continue  # Skip if not RRCA or RRCU\n",
    "            filtered_onsets.append(annotations.onset[i])\n",
    "            filtered_durations.append(annotations.duration[i])\n",
    "            filtered_descriptions.append(condition_name)\n",
    "            event_data[\"time\"].append(annotations.onset[i])\n",
    "            event_data[\"event\"].append(condition_name)\n",
    "            event_data[\"awareness\"].append(awareness)\n",
    "            event_data[\"duration\"].append(annotations.duration[i])\n",
    "            event_data[\"card_phase\"].append(card_phase)\n",
    "            event_data[\"rsp_phase\"].append(rsp_phase)\n",
    "\n",
    "        # Check for vep events with aware or unaware\n",
    "        elif \"vep\" in tags[0].lower():\n",
    "            if \"aware\" in tags[3].lower() or \"unaware\" in tags[3].lower():\n",
    "                condition_name = \"vep\"  # Collapse aware and unaware into \"vep\"\n",
    "                awareness = \"unaware\" if \"unaware\" in tags[3].lower() else \"aware\"\n",
    "                card_phase='dia' if tags[-2]=='dia'else 'sys'\n",
    "                rsp_phase='inh'if tags[-1]=='inh' else 'exh'\n",
    "            else:\n",
    "                continue  # Skip if not aware or unaware\n",
    "            filtered_onsets.append(annotations.onset[i])\n",
    "            filtered_durations.append(annotations.duration[i])\n",
    "            filtered_descriptions.append(condition_name)\n",
    "            event_data[\"time\"].append(annotations.onset[i])\n",
    "            event_data[\"event\"].append(condition_name)\n",
    "            event_data[\"awareness\"].append(awareness)\n",
    "            event_data[\"duration\"].append(annotations.duration[i])\n",
    "            event_data[\"card_phase\"].append(card_phase)\n",
    "            event_data[\"rsp_phase\"].append(rsp_phase)\n",
    "    # Create a DataFrame from the event data\n",
    "    event_table = pd.DataFrame(event_data)\n",
    "    # Sort the event table by time (ensures chronological order)\n",
    "    event_table = event_table.sort_values(by=\"time\").reset_index(drop=True)\n",
    "    # Create a new Annotations object with the simplified conditions\n",
    "    new_annotations = mne.Annotations(\n",
    "        onset=filtered_onsets,  # Onsets in seconds\n",
    "        duration=filtered_durations,  # Durations in seconds\n",
    "        description=filtered_descriptions  # Simplified descriptions (\"hep\" or \"vep\")\n",
    "    )\n",
    "    # Set the new annotations in the Raw object, replacing the old ones\n",
    "    new_raw=raw.copy()\n",
    "    new_raw.set_annotations(new_annotations)\n",
    "\n",
    "    new_raw.pick_types(eeg=True)\n",
    "    #parametres to save output\n",
    "    eeg_format='fif'\n",
    "    eeg_exp='tsk'\n",
    "    datafolder='raw'\n",
    "    files=files_in_out.GetFiles(filepath=datafolder,eeg_format=eeg_format,g_num=g_num)\n",
    "    files.select_condition('n')\n",
    "    files.get_info(end_fix=29)\n",
    "    files.current_filename=files.current_filename[:9]\n",
    "    output_file_eeg=files.out_filename(type_sig='deconv',file_end='eeg_data.set')\n",
    "    output_file_table=files.out_filename(type_sig='deconv',file_end='event_table.csv')\n",
    "    output_file_table\n",
    "    # Save the Raw object to a .set file for EEGLAB\n",
    "    mne.export.export_raw(output_file_eeg,raw=new_raw,overwrite=True)\n",
    "    # Save the event table to a CSV file\n",
    "    event_table.to_csv(output_file_table, index=False)  \n",
    "\n",
    "\n"
   ],
   "metadata": {
    "collapsed": false
   },
   "id": "b2c5965cf9742c57"
  },
  {
   "cell_type": "code",
   "outputs": [
    {
     "name": "stdout",
     "output_type": "stream",
     "text": [
      "Reading Z:\\BBC\\WP1\\data\\EEG\\tsk\\preproc\\g10\\g10_epochs\\g10_final\\g10_n_tsk_cfa_vep_clean_epo.fif ...\n",
      "    Read a total of 1 projection items:\n",
      "        Average EEG reference (1 x 128) active\n",
      "    Found the data of interest:\n",
      "        t =    -199.22 ...    1000.00 ms\n",
      "        0 CTF compensation matrices available\n",
      "0 bad epochs dropped\n",
      "Adding metadata with 40 columns\n",
      "786 matching events found\n",
      "No baseline correction applied\n",
      "Created an SSP operator (subspace dimension = 1)\n",
      "1 projection items activated\n"
     ]
    }
   ],
   "source": [
    "# check vep subject\n",
    "g_num='g10'\n",
    "epo_vep=mne.read_epochs(f'preproc/{g_num}/{g_num}_epochs/{g_num}_final/{g_num}_n_tsk_cfa_vep_clean_epo.fif')"
   ],
   "metadata": {
    "collapsed": false,
    "ExecuteTime": {
     "end_time": "2025-05-14T12:05:02.242884500Z",
     "start_time": "2025-05-14T12:04:54.465192400Z"
    }
   },
   "id": "15949e44fe3e56fb",
   "execution_count": 3
  },
  {
   "cell_type": "code",
   "outputs": [
    {
     "name": "stdout",
     "output_type": "stream",
     "text": [
      "NOTE: pick_channels() is a legacy function. New code should use inst.pick(...).\n"
     ]
    },
    {
     "name": "stderr",
     "output_type": "stream",
     "text": [
      "C:\\Users\\Vivi\\AppData\\Local\\Temp\\ipykernel_22772\\568287729.py:2: RuntimeWarning: tmin is not in time interval. tmin is set to <class 'mne.evoked.EvokedArray'>.tmin (-0.199219 s)\n",
      "  epo_vep[('vep/normal/correct')].average().crop(-0.3,0.6).plot(picks='A15')\n"
     ]
    },
    {
     "name": "stdout",
     "output_type": "stream",
     "text": [
      "Need more than one channel to make topography for eeg. Disabling interactivity.\n"
     ]
    },
    {
     "data": {
      "text/plain": "<Figure size 640x300 with 1 Axes>"
     },
     "execution_count": 3,
     "metadata": {},
     "output_type": "execute_result"
    }
   ],
   "source": [
    "%matplotlib qt\n",
    "epo_vep[('vep/normal/correct')].average().crop(-0.3,0.6).plot(picks='A15')"
   ],
   "metadata": {
    "collapsed": false,
    "ExecuteTime": {
     "end_time": "2025-04-22T07:27:33.908204100Z",
     "start_time": "2025-04-22T07:27:31.043998200Z"
    }
   },
   "id": "67d158e3c6a53b76",
   "execution_count": 3
  },
  {
   "cell_type": "code",
   "outputs": [
    {
     "name": "stdout",
     "output_type": "stream",
     "text": [
      "Reading Z:\\BBC\\WP1\\data\\EEG\\tsk\\preproc\\g10\\g10_epochs\\g10_final\\g10_n_tsk_cfa_hep_clean_epo.fif ...\n",
      "    Read a total of 1 projection items:\n",
      "        Average EEG reference (1 x 128) active\n",
      "    Found the data of interest:\n",
      "        t =    -199.22 ...    1000.00 ms\n",
      "        0 CTF compensation matrices available\n",
      "0 bad epochs dropped\n",
      "Adding metadata with 40 columns\n",
      "1502 matching events found\n",
      "No baseline correction applied\n",
      "Created an SSP operator (subspace dimension = 1)\n",
      "1 projection items activated\n"
     ]
    },
    {
     "name": "stderr",
     "output_type": "stream",
     "text": [
      "C:\\Users\\Vivi\\AppData\\Local\\Temp\\ipykernel_23564\\3032453574.py:2: RuntimeWarning: tmin is not in Evoked time interval. tmin is set to evoked.tmin (-0.199219 sec)\n",
      "  epo_hep[('hep/RRCA')].average().crop(-0.3,0.6).plot(picks='A15')\n"
     ]
    },
    {
     "name": "stdout",
     "output_type": "stream",
     "text": [
      "Need more than one channel to make topography for eeg. Disabling interactivity.\n"
     ]
    },
    {
     "data": {
      "text/plain": "<Figure size 460.8x216 with 1 Axes>",
      "image/png": "[encoded data removed]"
     },
     "metadata": {
      "needs_background": "light"
     },
     "output_type": "display_data"
    },
    {
     "data": {
      "text/plain": "<Figure size 460.8x216 with 1 Axes>",
      "image/png": "[encoded data removed]"
     },
     "execution_count": 5,
     "metadata": {},
     "output_type": "execute_result"
    }
   ],
   "source": [
    "epo_hep=mne.read_epochs(f'preproc/{g_num}/{g_num}_epochs/{g_num}_final/{g_num}_n_tsk_cfa_hep_clean_epo.fif')\n",
    "epo_hep[('hep/RRCA')].average().crop(-0.3,0.6).plot(picks='A15')"
   ],
   "metadata": {
    "collapsed": false,
    "ExecuteTime": {
     "end_time": "2025-05-14T12:06:56.945462300Z",
     "start_time": "2025-05-14T12:06:45.325591700Z"
    }
   },
   "id": "67887fde58d82bc",
   "execution_count": 5
  },
  {
   "cell_type": "markdown",
   "source": [],
   "metadata": {
    "collapsed": false
   },
   "id": "3bb17bce3dcf5000"
  },
  {
   "cell_type": "code",
   "outputs": [
    {
     "name": "stdout",
     "output_type": "stream",
     "text": [
      "Opening raw data file raw/g10/g10_n_tsk_ICA_rec-raw.fif...\n",
      "    Read a total of 1 projection items:\n",
      "        Average EEG reference (1 x 128) active\n",
      "    Range : 0 ... 649983 =      0.000 ...  2538.996 secs\n",
      "Ready.\n",
      "Reading 0 ... 649983  =      0.000 ...  2538.996 secs...\n"
     ]
    }
   ],
   "source": [
    "# Load your MNE Raw object (example)\n",
    "raw = mne.io.read_raw_fif(f\"raw/{g_num}/{g_num}_n_tsk_ICA_rec-raw.fif\", preload=True)\n",
    "# Extract the data (channels × time)\n",
    "data = raw.get_data()  # Shape: (n_channels, n_times)\n",
    "# Extract channel names and sampling rate\n",
    "channel_names = raw.ch_names\n",
    "sfreq = raw.info[\"sfreq\"]"
   ],
   "metadata": {
    "collapsed": false,
    "ExecuteTime": {
     "end_time": "2025-05-14T12:06:16.818676300Z",
     "start_time": "2025-05-14T12:05:31.847532100Z"
    }
   },
   "id": "18a520c1e7ab67f",
   "execution_count": 4
  },
  {
   "cell_type": "code",
   "execution_count": 10,
   "outputs": [
    {
     "data": {
      "text/plain": "           TF          RT difficulty accuracy awareness cardiac_phase  \\\n0       11656  924.617188     normal  correct   unaware           sys   \n1       11909  924.617188     normal  correct   unaware           dia   \n2       11970  924.617188     normal  correct   unaware           sys   \n3       12925  184.382812     normal  correct   unaware           sys   \n4       13830  874.812500       easy  mistake   unaware           sys   \n...       ...         ...        ...      ...       ...           ...   \n3838  2588463   82.820312     normal  mistake   unaware           dia   \n3839  2589381  800.593750     normal  correct     aware           sys   \n3840  2589650  800.593750     normal  correct     aware           dia   \n3841  2589785  800.593750     normal  correct     aware           dia   \n3842  2590613  142.390625     normal  correct     aware           dia   \n\n           RRI  HeartRate  HeartRate_post  HeartRate_rolling_5_before  ...  \\\n0     1.028320  58.347578       54.808207                   56.472632  ...   \n1     1.028320  58.347578       54.808207                   56.472632  ...   \n2     1.028320  58.347578       54.808207                   56.472632  ...   \n3     1.028320  58.347578       54.808207                   56.472632  ...   \n4     1.139648  52.647815       51.673675                   56.761203  ...   \n...        ...        ...             ...                         ...  ...   \n3838  1.111328  53.989455       52.111959                   51.651591  ...   \n3839  1.143555  52.467976       53.519164                   51.621236  ...   \n3840  1.143555  52.467976       53.519164                   51.621236  ...   \n3841  1.143555  52.467976       53.519164                   51.621236  ...   \n3842  1.143555  52.467976       53.519164                   51.621236  ...   \n\n      inh_stim_int  mrk_card_awa_RR  mrk_rsp_awa_RR  signal_type  sys_mask  \\\n0         0.000000             RRCU           RRECU          hep       1.0   \n1         0.000000           no_val          no_val          hep       1.0   \n2         5.139648           no_val          no_val          vep       1.0   \n3         5.139648           no_val          no_val          xns       1.0   \n4         0.000000             RRMU           RREMU          hep       1.0   \n...            ...              ...             ...          ...       ...   \n3838      8.005859           no_val          no_val          xns       0.0   \n3839      0.000000             RRCA           RRECA          hep       0.0   \n3840      0.000000           no_val          no_val          hep       0.0   \n3841     10.222656           no_val          no_val          vep       0.0   \n3842     10.222656           no_val          no_val          xns       0.0   \n\n     stim_idx ECG_Phase_Completion_Ventricular  ECG_Phase_Completion_Atrial  \\\n0         0.0                        -1.000000                     0.000000   \n1         0.0                        -0.231003                     0.291475   \n2         0.0                        -0.045593                     0.361751   \n3         0.0                        -0.341463                     0.229299   \n4         1.0                        -1.000000                     0.000000   \n...       ...                              ...                          ...   \n3838    958.0                        -0.254286                     0.262840   \n3839    959.0                        -1.000000                     0.000000   \n3840    959.0                        -0.229226                     0.273652   \n3841    959.0                         0.065854                     0.410987   \n3842    959.0                        -0.825215                     0.063410   \n\n      RSP_Phase_Completion  RSP_Amplitude  \n0                 0.185432       0.003602  \n1                 0.262215       0.003496  \n2                 0.280728       0.003471  \n3                 0.570561       0.003113  \n4                 0.845220       0.002836  \n...                    ...            ...  \n3838              0.684856       0.002235  \n3839              0.776437       0.002266  \n3840              0.803272       0.002274  \n3841              0.816740       0.002278  \n3842              0.899342       0.002297  \n\n[3843 rows x 40 columns]",
      "text/html": "<div>\n<style scoped>\n    .dataframe tbody tr th:only-of-type {\n        vertical-align: middle;\n    }\n\n    .dataframe tbody tr th {\n        vertical-align: top;\n    }\n\n    .dataframe thead th {\n        text-align: right;\n    }\n</style>\n<table border=\"1\" class=\"dataframe\">\n  <thead>\n    <tr style=\"text-align: right;\">\n      <th></th>\n      <th>TF</th>\n      <th>RT</th>\n      <th>difficulty</th>\n      <th>accuracy</th>\n      <th>awareness</th>\n      <th>cardiac_phase</th>\n      <th>RRI</th>\n      <th>HeartRate</th>\n      <th>HeartRate_post</th>\n      <th>HeartRate_rolling_5_before</th>\n      <th>...</th>\n      <th>inh_stim_int</th>\n      <th>mrk_card_awa_RR</th>\n      <th>mrk_rsp_awa_RR</th>\n      <th>signal_type</th>\n      <th>sys_mask</th>\n      <th>stim_idx</th>\n      <th>ECG_Phase_Completion_Ventricular</th>\n      <th>ECG_Phase_Completion_Atrial</th>\n      <th>RSP_Phase_Completion</th>\n      <th>RSP_Amplitude</th>\n    </tr>\n  </thead>\n  <tbody>\n    <tr>\n      <th>0</th>\n      <td>11656</td>\n      <td>924.617188</td>\n      <td>normal</td>\n      <td>correct</td>\n      <td>unaware</td>\n      <td>sys</td>\n      <td>1.028320</td>\n      <td>58.347578</td>\n      <td>54.808207</td>\n      <td>56.472632</td>\n      <td>...</td>\n      <td>0.000000</td>\n      <td>RRCU</td>\n      <td>RRECU</td>\n      <td>hep</td>\n      <td>1.0</td>\n      <td>0.0</td>\n      <td>-1.000000</td>\n      <td>0.000000</td>\n      <td>0.185432</td>\n      <td>0.003602</td>\n    </tr>\n    <tr>\n      <th>1</th>\n      <td>11909</td>\n      <td>924.617188</td>\n      <td>normal</td>\n      <td>correct</td>\n      <td>unaware</td>\n      <td>dia</td>\n      <td>1.028320</td>\n      <td>58.347578</td>\n      <td>54.808207</td>\n      <td>56.472632</td>\n      <td>...</td>\n      <td>0.000000</td>\n      <td>no_val</td>\n      <td>no_val</td>\n      <td>hep</td>\n      <td>1.0</td>\n      <td>0.0</td>\n      <td>-0.231003</td>\n      <td>0.291475</td>\n      <td>0.262215</td>\n      <td>0.003496</td>\n    </tr>\n    <tr>\n      <th>2</th>\n      <td>11970</td>\n      <td>924.617188</td>\n      <td>normal</td>\n      <td>correct</td>\n      <td>unaware</td>\n      <td>sys</td>\n      <td>1.028320</td>\n      <td>58.347578</td>\n      <td>54.808207</td>\n      <td>56.472632</td>\n      <td>...</td>\n      <td>5.139648</td>\n      <td>no_val</td>\n      <td>no_val</td>\n      <td>vep</td>\n      <td>1.0</td>\n      <td>0.0</td>\n      <td>-0.045593</td>\n      <td>0.361751</td>\n      <td>0.280728</td>\n      <td>0.003471</td>\n    </tr>\n    <tr>\n      <th>3</th>\n      <td>12925</td>\n      <td>184.382812</td>\n      <td>normal</td>\n      <td>correct</td>\n      <td>unaware</td>\n      <td>sys</td>\n      <td>1.028320</td>\n      <td>58.347578</td>\n      <td>54.808207</td>\n      <td>56.472632</td>\n      <td>...</td>\n      <td>5.139648</td>\n      <td>no_val</td>\n      <td>no_val</td>\n      <td>xns</td>\n      <td>1.0</td>\n      <td>0.0</td>\n      <td>-0.341463</td>\n      <td>0.229299</td>\n      <td>0.570561</td>\n      <td>0.003113</td>\n    </tr>\n    <tr>\n      <th>4</th>\n      <td>13830</td>\n      <td>874.812500</td>\n      <td>easy</td>\n      <td>mistake</td>\n      <td>unaware</td>\n      <td>sys</td>\n      <td>1.139648</td>\n      <td>52.647815</td>\n      <td>51.673675</td>\n      <td>56.761203</td>\n      <td>...</td>\n      <td>0.000000</td>\n      <td>RRMU</td>\n      <td>RREMU</td>\n      <td>hep</td>\n      <td>1.0</td>\n      <td>1.0</td>\n      <td>-1.000000</td>\n      <td>0.000000</td>\n      <td>0.845220</td>\n      <td>0.002836</td>\n    </tr>\n    <tr>\n      <th>...</th>\n      <td>...</td>\n      <td>...</td>\n      <td>...</td>\n      <td>...</td>\n      <td>...</td>\n      <td>...</td>\n      <td>...</td>\n      <td>...</td>\n      <td>...</td>\n      <td>...</td>\n      <td>...</td>\n      <td>...</td>\n      <td>...</td>\n      <td>...</td>\n      <td>...</td>\n      <td>...</td>\n      <td>...</td>\n      <td>...</td>\n      <td>...</td>\n      <td>...</td>\n      <td>...</td>\n    </tr>\n    <tr>\n      <th>3838</th>\n      <td>2588463</td>\n      <td>82.820312</td>\n      <td>normal</td>\n      <td>mistake</td>\n      <td>unaware</td>\n      <td>dia</td>\n      <td>1.111328</td>\n      <td>53.989455</td>\n      <td>52.111959</td>\n      <td>51.651591</td>\n      <td>...</td>\n      <td>8.005859</td>\n      <td>no_val</td>\n      <td>no_val</td>\n      <td>xns</td>\n      <td>0.0</td>\n      <td>958.0</td>\n      <td>-0.254286</td>\n      <td>0.262840</td>\n      <td>0.684856</td>\n      <td>0.002235</td>\n    </tr>\n    <tr>\n      <th>3839</th>\n      <td>2589381</td>\n      <td>800.593750</td>\n      <td>normal</td>\n      <td>correct</td>\n      <td>aware</td>\n      <td>sys</td>\n      <td>1.143555</td>\n      <td>52.467976</td>\n      <td>53.519164</td>\n      <td>51.621236</td>\n      <td>...</td>\n      <td>0.000000</td>\n      <td>RRCA</td>\n      <td>RRECA</td>\n      <td>hep</td>\n      <td>0.0</td>\n      <td>959.0</td>\n      <td>-1.000000</td>\n      <td>0.000000</td>\n      <td>0.776437</td>\n      <td>0.002266</td>\n    </tr>\n    <tr>\n      <th>3840</th>\n      <td>2589650</td>\n      <td>800.593750</td>\n      <td>normal</td>\n      <td>correct</td>\n      <td>aware</td>\n      <td>dia</td>\n      <td>1.143555</td>\n      <td>52.467976</td>\n      <td>53.519164</td>\n      <td>51.621236</td>\n      <td>...</td>\n      <td>0.000000</td>\n      <td>no_val</td>\n      <td>no_val</td>\n      <td>hep</td>\n      <td>0.0</td>\n      <td>959.0</td>\n      <td>-0.229226</td>\n      <td>0.273652</td>\n      <td>0.803272</td>\n      <td>0.002274</td>\n    </tr>\n    <tr>\n      <th>3841</th>\n      <td>2589785</td>\n      <td>800.593750</td>\n      <td>normal</td>\n      <td>correct</td>\n      <td>aware</td>\n      <td>dia</td>\n      <td>1.143555</td>\n      <td>52.467976</td>\n      <td>53.519164</td>\n      <td>51.621236</td>\n      <td>...</td>\n      <td>10.222656</td>\n      <td>no_val</td>\n      <td>no_val</td>\n      <td>vep</td>\n      <td>0.0</td>\n      <td>959.0</td>\n      <td>0.065854</td>\n      <td>0.410987</td>\n      <td>0.816740</td>\n      <td>0.002278</td>\n    </tr>\n    <tr>\n      <th>3842</th>\n      <td>2590613</td>\n      <td>142.390625</td>\n      <td>normal</td>\n      <td>correct</td>\n      <td>aware</td>\n      <td>dia</td>\n      <td>1.143555</td>\n      <td>52.467976</td>\n      <td>53.519164</td>\n      <td>51.621236</td>\n      <td>...</td>\n      <td>10.222656</td>\n      <td>no_val</td>\n      <td>no_val</td>\n      <td>xns</td>\n      <td>0.0</td>\n      <td>959.0</td>\n      <td>-0.825215</td>\n      <td>0.063410</td>\n      <td>0.899342</td>\n      <td>0.002297</td>\n    </tr>\n  </tbody>\n</table>\n<p>3843 rows × 40 columns</p>\n</div>"
     },
     "execution_count": 10,
     "metadata": {},
     "output_type": "execute_result"
    }
   ],
   "source": [
    "filedir=f'preproc/{g_num}/{g_num}_mrk_DF/{g_num}_n_tsk_metadata.feather'\n",
    "stim_df=pd.read_feather(filedir)\n",
    "stim_df"
   ],
   "metadata": {
    "collapsed": false,
    "ExecuteTime": {
     "end_time": "2025-05-14T12:19:36.098089100Z",
     "start_time": "2025-05-14T12:19:35.780223900Z"
    }
   }
  },
  {
   "cell_type": "code",
   "outputs": [],
   "source": [
    "#raw.drop_channels(['EXG1','Erg1','Status'])\n",
    "annotations=raw.annotations\n",
    "# Convert onsets from seconds to sample\n",
    "sample_indices = np.round(annotations.onset * sfreq).astype(int)"
   ],
   "metadata": {
    "collapsed": false,
    "ExecuteTime": {
     "end_time": "2025-04-23T07:01:43.223561Z",
     "start_time": "2025-04-23T07:01:43.221557Z"
    }
   },
   "id": "dc4469bc5370278a",
   "execution_count": 4
  },
  {
   "cell_type": "code",
   "execution_count": 5,
   "outputs": [
    {
     "data": {
      "text/plain": "<Raw | g10_n_tsk_ICA_rec-raw.fif, 128 x 649984 (2539.0 s), ~634.9 MB, data loaded>",
      "text/html": "<table class=\"table table-hover table-striped table-sm table-responsive small\">\n    <tr>\n        <th>Measurement date</th>\n        \n        <td>March 21, 2021  10:54:19 GMT</td>\n        \n    </tr>\n    <tr>\n        <th>Experimenter</th>\n        \n        <td>Unknown</td>\n        \n    </tr>\n        <th>Participant</th>\n        \n            \n            <td>g10</td>\n            \n        \n    </tr>\n    <tr>\n        <th>Digitized points</th>\n        \n        <td>0 points</td>\n        \n    </tr>\n    <tr>\n        <th>Good channels</th>\n        <td>128 EEG</td>\n    </tr>\n    <tr>\n        <th>Bad channels</th>\n        <td>None</td>\n    </tr>\n    <tr>\n        <th>EOG channels</th>\n        <td>Not available</td>\n    </tr>\n    <tr>\n        <th>ECG channels</th>\n        <td>Not available</td>\n    \n    <tr>\n        <th>Sampling frequency</th>\n        <td>256.00 Hz</td>\n    </tr>\n    \n    \n    <tr>\n        <th>Highpass</th>\n        <td>0.50 Hz</td>\n    </tr>\n    \n    \n    <tr>\n        <th>Lowpass</th>\n        <td>40.00 Hz</td>\n    </tr>\n    \n    \n    <tr>\n        <th>Projections</th>\n        <td>Average EEG reference : on</td>\n    </tr>\n    \n    \n    <tr>\n        <th>Filenames</th>\n        <td>g10_n_tsk_ICA_rec-raw.fif</td>\n    </tr>\n    \n    <tr>\n        <th>Duration</th>\n        <td>00:42:18 (HH:MM:SS)</td>\n    </tr>\n</table>"
     },
     "execution_count": 5,
     "metadata": {},
     "output_type": "execute_result"
    }
   ],
   "source": [
    "raw.drop_channels(['EXG1','Erg1','Status'])"
   ],
   "metadata": {
    "collapsed": false,
    "ExecuteTime": {
     "end_time": "2025-04-23T07:01:43.501825Z",
     "start_time": "2025-04-23T07:01:43.225037Z"
    }
   },
   "id": "aacc2aacdd09316"
  },
  {
   "cell_type": "code",
   "outputs": [
    {
     "data": {
      "text/plain": "                          onset  duration  \\\n0    2021-03-21 10:54:30.382812  0.000000   \n1    2021-03-21 10:54:30.629883  0.000000   \n2    2021-03-21 10:54:30.689453  0.000000   \n3    2021-03-21 10:54:31.622070  0.000000   \n4    2021-03-21 10:54:32.505859  0.000000   \n...                         ...       ...   \n3880 2021-03-21 11:36:27.692383  0.000000   \n3881 2021-03-21 11:36:27.955078  0.000000   \n3882 2021-03-21 11:36:28.086914  0.000000   \n3883 2021-03-21 11:36:28.895508  0.000000   \n3884 2021-03-21 11:36:32.705078  2.369141   \n\n                                  description  \n0      hep/normal/correct/unaware/R2/exh/RRCU  \n1     hep/normal/correct/unaware/T/exh/no_val  \n2          vep/normal/correct/unaware/sys/exh  \n3          xns/normal/correct/unaware/sys/exh  \n4        hep/easy/mistake/unaware/R2/exh/RRMU  \n...                                       ...  \n3880     hep/normal/correct/aware/R2/exh/RRCA  \n3881    hep/normal/correct/aware/T/exh/no_val  \n3882         vep/normal/correct/aware/dia/exh  \n3883         xns/normal/correct/aware/dia/exh  \n3884                                  BAD_rsp  \n\n[3885 rows x 3 columns]",
      "text/html": "<div>\n<style scoped>\n    .dataframe tbody tr th:only-of-type {\n        vertical-align: middle;\n    }\n\n    .dataframe tbody tr th {\n        vertical-align: top;\n    }\n\n    .dataframe thead th {\n        text-align: right;\n    }\n</style>\n<table border=\"1\" class=\"dataframe\">\n  <thead>\n    <tr style=\"text-align: right;\">\n      <th></th>\n      <th>onset</th>\n      <th>duration</th>\n      <th>description</th>\n    </tr>\n  </thead>\n  <tbody>\n    <tr>\n      <th>0</th>\n      <td>2021-03-21 10:54:30.382812</td>\n      <td>0.000000</td>\n      <td>hep/normal/correct/unaware/R2/exh/RRCU</td>\n    </tr>\n    <tr>\n      <th>1</th>\n      <td>2021-03-21 10:54:30.629883</td>\n      <td>0.000000</td>\n      <td>hep/normal/correct/unaware/T/exh/no_val</td>\n    </tr>\n    <tr>\n      <th>2</th>\n      <td>2021-03-21 10:54:30.689453</td>\n      <td>0.000000</td>\n      <td>vep/normal/correct/unaware/sys/exh</td>\n    </tr>\n    <tr>\n      <th>3</th>\n      <td>2021-03-21 10:54:31.622070</td>\n      <td>0.000000</td>\n      <td>xns/normal/correct/unaware/sys/exh</td>\n    </tr>\n    <tr>\n      <th>4</th>\n      <td>2021-03-21 10:54:32.505859</td>\n      <td>0.000000</td>\n      <td>hep/easy/mistake/unaware/R2/exh/RRMU</td>\n    </tr>\n    <tr>\n      <th>...</th>\n      <td>...</td>\n      <td>...</td>\n      <td>...</td>\n    </tr>\n    <tr>\n      <th>3880</th>\n      <td>2021-03-21 11:36:27.692383</td>\n      <td>0.000000</td>\n      <td>hep/normal/correct/aware/R2/exh/RRCA</td>\n    </tr>\n    <tr>\n      <th>3881</th>\n      <td>2021-03-21 11:36:27.955078</td>\n      <td>0.000000</td>\n      <td>hep/normal/correct/aware/T/exh/no_val</td>\n    </tr>\n    <tr>\n      <th>3882</th>\n      <td>2021-03-21 11:36:28.086914</td>\n      <td>0.000000</td>\n      <td>vep/normal/correct/aware/dia/exh</td>\n    </tr>\n    <tr>\n      <th>3883</th>\n      <td>2021-03-21 11:36:28.895508</td>\n      <td>0.000000</td>\n      <td>xns/normal/correct/aware/dia/exh</td>\n    </tr>\n    <tr>\n      <th>3884</th>\n      <td>2021-03-21 11:36:32.705078</td>\n      <td>2.369141</td>\n      <td>BAD_rsp</td>\n    </tr>\n  </tbody>\n</table>\n<p>3885 rows × 3 columns</p>\n</div>"
     },
     "execution_count": 6,
     "metadata": {},
     "output_type": "execute_result"
    }
   ],
   "source": [
    "annot_df=annotations.to_data_frame()\n",
    "annot_df"
   ],
   "metadata": {
    "collapsed": false,
    "ExecuteTime": {
     "end_time": "2025-04-23T07:01:43.519183Z",
     "start_time": "2025-04-23T07:01:43.502664Z"
    }
   },
   "id": "848408e776c39616",
   "execution_count": 6
  },
  {
   "cell_type": "code",
   "execution_count": 7,
   "outputs": [],
   "source": [
    "for i, desc in enumerate(annotations.description):\n",
    "    # Split the description into tags\n",
    "    #tags = desc.split(\"/\")\n",
    "    if 'bad blink' in desc:\n",
    "        print(desc)"
   ],
   "metadata": {
    "collapsed": false,
    "ExecuteTime": {
     "end_time": "2025-04-23T07:01:43.532633Z",
     "start_time": "2025-04-23T07:01:43.521854Z"
    }
   },
   "id": "2ccb118e263d718b"
  },
  {
   "cell_type": "code",
   "outputs": [],
   "source": [
    "# Parse the descriptions and filter/remap events\n",
    "filtered_onsets = []\n",
    "filtered_durations = []\n",
    "filtered_descriptions = []\n",
    "\n",
    "# Create event table\n",
    "# Parse the descriptions and create the event table\n",
    "event_data = {\n",
    "    \"time\": [],  # Onset in seconds\n",
    "    \"event\": [],  # Simplified event type (\"hep\" or \"vep\")\n",
    "    \"awareness\": [],  # Awareness state (\"aware\" or \"unaware\")\n",
    "    \"duration\": [],  # Duration in seconds\n",
    "    \"card_phase\": [], # cardiac phase\n",
    "    \"rsp_phase\":[],# rsp phase\n",
    "}\n",
    "\n",
    "\n",
    "for i, desc in enumerate(annotations.description):\n",
    "    # Split the description into tags\n",
    "    tags = desc.split(\"/\")\n",
    "    if \"bad\" in tags[0].lower():\n",
    "        continue\n",
    "\n",
    "    # Check if the event matches the stimulus criteria\n",
    "    # Must contain \"vep\", \"normal\", \"correct\"\n",
    "    if (\n",
    "            \"normal\" in tags[1].lower() and  # Check for \"normal\" in the second tag\n",
    "            \"correct\" in tags[2].lower()  # Check for \"correct\" in the third tag\n",
    "    ):\n",
    "        # Check for hep events with RRCA or RRCU\n",
    "        if \"hep\" in tags[0].lower():\n",
    "            if tags[-1] in [\"RRCA\", \"RRCU\"]:\n",
    "                condition_name = \"hep\"  # Collapse RRCA and RRCU into \"hep\"\n",
    "                awareness = \"aware\" if tags[-1] == \"RRCA\" else \"unaware\"\n",
    "                card_phase='dia' if tags[-3]=='R2'else 'sys'\n",
    "                rsp_phase='inh'if tags[-2]=='inh' else 'exh'\n",
    "            else:\n",
    "                continue  # Skip if not RRCA or RRCU\n",
    "            filtered_onsets.append(annotations.onset[i])\n",
    "            filtered_durations.append(annotations.duration[i])\n",
    "            filtered_descriptions.append(condition_name)\n",
    "            event_data[\"time\"].append(annotations.onset[i])\n",
    "            event_data[\"event\"].append(condition_name)\n",
    "            event_data[\"awareness\"].append(awareness)\n",
    "            event_data[\"duration\"].append(annotations.duration[i])\n",
    "            event_data[\"card_phase\"].append(card_phase)\n",
    "            event_data[\"rsp_phase\"].append(rsp_phase)\n",
    "\n",
    "        # Check for vep events with aware or unaware\n",
    "        elif \"vep\" in tags[0].lower():\n",
    "            if \"aware\" in tags[3].lower() or \"unaware\" in tags[3].lower():\n",
    "                condition_name = \"vep\"  # Collapse aware and unaware into \"vep\"\n",
    "                awareness = \"unaware\" if \"unaware\" in tags[3].lower() else \"aware\"\n",
    "                card_phase='dia' if tags[-2]=='dia'else 'sys'\n",
    "                rsp_phase='inh'if tags[-1]=='inh' else 'exh'\n",
    "            else:\n",
    "                continue  # Skip if not aware or unaware\n",
    "            filtered_onsets.append(annotations.onset[i])\n",
    "            filtered_durations.append(annotations.duration[i])\n",
    "            filtered_descriptions.append(condition_name)\n",
    "            event_data[\"time\"].append(annotations.onset[i])\n",
    "            event_data[\"event\"].append(condition_name)\n",
    "            event_data[\"awareness\"].append(awareness)\n",
    "            event_data[\"duration\"].append(annotations.duration[i])\n",
    "            event_data[\"card_phase\"].append(card_phase)\n",
    "            event_data[\"rsp_phase\"].append(rsp_phase)\n"
   ],
   "metadata": {
    "collapsed": false,
    "ExecuteTime": {
     "end_time": "2025-04-23T07:01:43.550884Z",
     "start_time": "2025-04-23T07:01:43.535595Z"
    }
   },
   "id": "9bc1aaee42c2b80c",
   "execution_count": 8
  },
  {
   "cell_type": "code",
   "outputs": [],
   "source": [
    "# Create a DataFrame from the event data\n",
    "event_table = pd.DataFrame(event_data)\n",
    "# Sort the event table by time (ensures chronological order)\n",
    "event_table = event_table.sort_values(by=\"time\").reset_index(drop=True)\n",
    "\n",
    "\n"
   ],
   "metadata": {
    "collapsed": false,
    "ExecuteTime": {
     "end_time": "2025-04-23T07:01:43.555898Z",
     "start_time": "2025-04-23T07:01:43.551697Z"
    }
   },
   "id": "a730b9efa1b2c7b6",
   "execution_count": 9
  },
  {
   "cell_type": "code",
   "outputs": [
    {
     "data": {
      "text/plain": "<Raw | g10_n_tsk_ICA_rec-raw.fif, 128 x 649984 (2539.0 s), ~634.9 MB, data loaded>",
      "text/html": "<table class=\"table table-hover table-striped table-sm table-responsive small\">\n    <tr>\n        <th>Measurement date</th>\n        \n        <td>March 21, 2021  10:54:19 GMT</td>\n        \n    </tr>\n    <tr>\n        <th>Experimenter</th>\n        \n        <td>Unknown</td>\n        \n    </tr>\n        <th>Participant</th>\n        \n            \n            <td>g10</td>\n            \n        \n    </tr>\n    <tr>\n        <th>Digitized points</th>\n        \n        <td>0 points</td>\n        \n    </tr>\n    <tr>\n        <th>Good channels</th>\n        <td>128 EEG</td>\n    </tr>\n    <tr>\n        <th>Bad channels</th>\n        <td>None</td>\n    </tr>\n    <tr>\n        <th>EOG channels</th>\n        <td>Not available</td>\n    </tr>\n    <tr>\n        <th>ECG channels</th>\n        <td>Not available</td>\n    \n    <tr>\n        <th>Sampling frequency</th>\n        <td>256.00 Hz</td>\n    </tr>\n    \n    \n    <tr>\n        <th>Highpass</th>\n        <td>0.50 Hz</td>\n    </tr>\n    \n    \n    <tr>\n        <th>Lowpass</th>\n        <td>40.00 Hz</td>\n    </tr>\n    \n    \n    <tr>\n        <th>Projections</th>\n        <td>Average EEG reference : on</td>\n    </tr>\n    \n    \n    <tr>\n        <th>Filenames</th>\n        <td>g10_n_tsk_ICA_rec-raw.fif</td>\n    </tr>\n    \n    <tr>\n        <th>Duration</th>\n        <td>00:42:18 (HH:MM:SS)</td>\n    </tr>\n</table>"
     },
     "execution_count": 10,
     "metadata": {},
     "output_type": "execute_result"
    }
   ],
   "source": [
    "# Create a new Annotations object with the simplified conditions\n",
    "new_annotations = mne.Annotations(\n",
    "    onset=filtered_onsets,  # Onsets in seconds\n",
    "    duration=filtered_durations,  # Durations in seconds\n",
    "    description=filtered_descriptions  # Simplified descriptions (\"hep\" or \"vep\")\n",
    ")\n",
    "\n",
    "# Set the new annotations in the Raw object, replacing the old ones\n",
    "new_raw=raw.copy()\n",
    "new_raw.set_annotations(None)\n",
    "\n",
    "new_raw.pick_types(eeg=True)\n"
   ],
   "metadata": {
    "collapsed": false,
    "ExecuteTime": {
     "end_time": "2025-04-23T07:01:44.260798Z",
     "start_time": "2025-04-23T07:01:43.556567Z"
    }
   },
   "id": "d9a1d52a3d9eeef9",
   "execution_count": 10
  },
  {
   "cell_type": "code",
   "outputs": [
    {
     "data": {
      "text/plain": "<Raw | g10_n_tsk_ICA_rec-raw.fif, 128 x 649984 (2539.0 s), ~634.9 MB, data loaded>",
      "text/html": "<table class=\"table table-hover table-striped table-sm table-responsive small\">\n    <tr>\n        <th>Measurement date</th>\n        \n        <td>March 21, 2021  10:54:19 GMT</td>\n        \n    </tr>\n    <tr>\n        <th>Experimenter</th>\n        \n        <td>Unknown</td>\n        \n    </tr>\n        <th>Participant</th>\n        \n            \n            <td>g10</td>\n            \n        \n    </tr>\n    <tr>\n        <th>Digitized points</th>\n        \n        <td>0 points</td>\n        \n    </tr>\n    <tr>\n        <th>Good channels</th>\n        <td>128 EEG</td>\n    </tr>\n    <tr>\n        <th>Bad channels</th>\n        <td>None</td>\n    </tr>\n    <tr>\n        <th>EOG channels</th>\n        <td>Not available</td>\n    </tr>\n    <tr>\n        <th>ECG channels</th>\n        <td>Not available</td>\n    \n    <tr>\n        <th>Sampling frequency</th>\n        <td>256.00 Hz</td>\n    </tr>\n    \n    \n    <tr>\n        <th>Highpass</th>\n        <td>0.50 Hz</td>\n    </tr>\n    \n    \n    <tr>\n        <th>Lowpass</th>\n        <td>40.00 Hz</td>\n    </tr>\n    \n    \n    <tr>\n        <th>Projections</th>\n        <td>Average EEG reference : on</td>\n    </tr>\n    \n    \n    <tr>\n        <th>Filenames</th>\n        <td>g10_n_tsk_ICA_rec-raw.fif</td>\n    </tr>\n    \n    <tr>\n        <th>Duration</th>\n        <td>00:42:18 (HH:MM:SS)</td>\n    </tr>\n</table>"
     },
     "execution_count": 11,
     "metadata": {},
     "output_type": "execute_result"
    }
   ],
   "source": [
    "# Set the new annotations in the Raw object, replacing the old ones\n",
    "new_raw=raw.copy()\n",
    "new_raw.set_annotations(new_annotations)\n",
    "\n",
    "new_raw.pick_types(eeg=True)"
   ],
   "metadata": {
    "collapsed": false,
    "ExecuteTime": {
     "end_time": "2025-04-23T07:01:44.655677Z",
     "start_time": "2025-04-23T07:01:44.268739Z"
    }
   },
   "id": "628d17ad41bda213",
   "execution_count": 11
  },
  {
   "cell_type": "code",
   "outputs": [
    {
     "name": "stdout",
     "output_type": "stream",
     "text": [
      "g10_n_tsk_ICA_rec-raw\n"
     ]
    }
   ],
   "source": [
    "eeg_format='fif'\n",
    "eeg_exp='tsk'\n",
    "datafolder='raw'\n",
    "files=files_in_out.GetFiles(filepath=datafolder,eeg_format=eeg_format,g_num=g_num)\n",
    "files.select_condition('n')\n",
    "files.get_info(end_fix=29)\n",
    "files.current_filename=files.current_filename[:9]"
   ],
   "metadata": {
    "collapsed": false,
    "ExecuteTime": {
     "end_time": "2025-04-23T07:01:44.820962Z",
     "start_time": "2025-04-23T07:01:44.656475Z"
    }
   },
   "id": "63170b1b9b5695f8",
   "execution_count": 12
  },
  {
   "cell_type": "code",
   "outputs": [
    {
     "data": {
      "text/plain": "'preproc/g10/g10_deconv/g10_n_tsk_event_table.csv'"
     },
     "execution_count": 13,
     "metadata": {},
     "output_type": "execute_result"
    }
   ],
   "source": [
    "output_file_eeg=files.out_filename(type_sig='deconv',file_end='eeg_data.set')\n",
    "output_file_table=files.out_filename(type_sig='deconv',file_end='event_table.csv')\n",
    "output_file_table"
   ],
   "metadata": {
    "collapsed": false,
    "ExecuteTime": {
     "end_time": "2025-04-23T07:01:44.911499Z",
     "start_time": "2025-04-23T07:01:44.821830Z"
    }
   },
   "id": "5c1f45ebbb985c33",
   "execution_count": 13
  },
  {
   "cell_type": "code",
   "execution_count": 14,
   "outputs": [],
   "source": [
    "\n",
    "# Save the Raw object to a .set file for EEGLAB\n",
    "mne.export.export_raw(output_file_eeg,raw=new_raw,overwrite=True)\n",
    "# Save the event table to a CSV file\n",
    "event_table.to_csv(output_file_table, index=False)"
   ],
   "metadata": {
    "collapsed": false,
    "ExecuteTime": {
     "end_time": "2025-04-23T07:06:00.343589Z",
     "start_time": "2025-04-23T07:01:44.912390Z"
    }
   },
   "id": "9e3bcbd4993ee3dc"
  },
  {
   "cell_type": "code",
   "outputs": [],
   "source": [],
   "metadata": {
    "collapsed": false
   },
   "id": "7db10f4bdf1d2690"
  },
  {
   "cell_type": "code",
   "outputs": [],
   "source": [],
   "metadata": {
    "collapsed": false
   },
   "id": "676d3cf31f27d3fd"
  },
  {
   "cell_type": "markdown",
   "source": [
    "## Extra code for debugging "
   ],
   "metadata": {
    "collapsed": false
   },
   "id": "16a7ef76c0878b93"
  },
  {
   "cell_type": "code",
   "execution_count": 12,
   "outputs": [
    {
     "ename": "TypeError",
     "evalue": "ufunc 'bitwise_or' not supported for the input types, and the inputs could not be safely coerced to any supported types according to the casting rule ''safe''",
     "output_type": "error",
     "traceback": [
      "\u001B[0;31m---------------------------------------------------------------------------\u001B[0m",
      "\u001B[0;31mTypeError\u001B[0m                                 Traceback (most recent call last)",
      "Cell \u001B[0;32mIn[12], line 9\u001B[0m\n\u001B[1;32m      7\u001B[0m invalid_mask \u001B[38;5;241m=\u001B[39m \u001B[38;5;241m~\u001B[39mnp\u001B[38;5;241m.\u001B[39misfinite(onsets) \u001B[38;5;241m|\u001B[39m \u001B[38;5;241m~\u001B[39mnp\u001B[38;5;241m.\u001B[39misfinite(durations)\n\u001B[1;32m      8\u001B[0m \u001B[38;5;66;03m# Optionally: flag empty or non-string descriptions\u001B[39;00m\n\u001B[0;32m----> 9\u001B[0m \u001B[43minvalid_mask\u001B[49m\u001B[43m \u001B[49m\u001B[38;5;241;43m|\u001B[39;49m\u001B[38;5;241;43m=\u001B[39;49m\u001B[43m \u001B[49m\u001B[43m[\u001B[49m\u001B[38;5;129;43;01mnot\u001B[39;49;00m\u001B[43m \u001B[49m\u001B[38;5;28;43misinstance\u001B[39;49m\u001B[43m(\u001B[49m\u001B[43mdesc\u001B[49m\u001B[43m,\u001B[49m\u001B[43m \u001B[49m\u001B[38;5;28;43mstr\u001B[39;49m\u001B[43m)\u001B[49m\u001B[43m \u001B[49m\u001B[38;5;129;43;01mor\u001B[39;49;00m\u001B[43m \u001B[49m\u001B[43mdesc\u001B[49m\u001B[38;5;241;43m.\u001B[39;49m\u001B[43mstrip\u001B[49m\u001B[43m(\u001B[49m\u001B[43m)\u001B[49m\u001B[43m \u001B[49m\u001B[38;5;241;43m==\u001B[39;49m\u001B[43m \u001B[49m\u001B[38;5;124;43m'\u001B[39;49m\u001B[38;5;124;43m'\u001B[39;49m\u001B[43m \u001B[49m\u001B[38;5;28;43;01mfor\u001B[39;49;00m\u001B[43m \u001B[49m\u001B[43mdesc\u001B[49m\u001B[43m \u001B[49m\u001B[38;5;129;43;01min\u001B[39;49;00m\u001B[43m \u001B[49m\u001B[43mdescriptions\u001B[49m\u001B[43m]\u001B[49m\n\u001B[1;32m     10\u001B[0m \u001B[38;5;66;03m# Get indices of problematic annotations\u001B[39;00m\n\u001B[1;32m     11\u001B[0m bad_indices \u001B[38;5;241m=\u001B[39m np\u001B[38;5;241m.\u001B[39mwhere(invalid_mask)[\u001B[38;5;241m0\u001B[39m]\n",
      "\u001B[0;31mTypeError\u001B[0m: ufunc 'bitwise_or' not supported for the input types, and the inputs could not be safely coerced to any supported types according to the casting rule ''safe''"
     ]
    }
   ],
   "source": [
    "import numpy as np\n",
    "annots = new_raw.annotations\n",
    "onsets = np.array(annots.onset)\n",
    "durations = np.array(annots.duration)\n",
    "descriptions = np.array(annots.description)\n",
    "# Identify invalid (non-finite) onsets or durations\n",
    "invalid_mask = ~np.isfinite(onsets) | ~np.isfinite(durations)\n",
    "# Optionally: flag empty or non-string descriptions\n",
    "invalid_mask |= [not isinstance(desc, str) or desc.strip() == '' for desc in descriptions]\n",
    "# Get indices of problematic annotations\n",
    "bad_indices = np.where(invalid_mask)[0]\n",
    "# Print them out\n",
    "print(f\"\\nFound {len(bad_indices)} problematic annotations:\\n\")\n",
    "for idx in bad_indices:\n",
    "    print(f\"[{idx}] Onset: {onsets[idx]}, Duration: {durations[idx]}, Description: {descriptions[idx]}\")\n",
    "if len(bad_indices) == 0:\n",
    "    print(\" No problematic annotations found!\")\n"
   ],
   "metadata": {
    "collapsed": false,
    "ExecuteTime": {
     "end_time": "2025-04-22T07:40:25.533272Z",
     "start_time": "2025-04-22T07:40:25.404185Z"
    }
   },
   "id": "e7471fb069b3e08"
  },
  {
   "cell_type": "code",
   "execution_count": null,
   "outputs": [],
   "source": [
    "from mne.export._eeglab import _get_als_coords_from_chs\n",
    "from eeglabio.raw import export_set\n",
    "# Dummy filename — we won't save yet\n",
    "fname = \"ana/deconvolution/test/test_output.set\"\n",
    "# Get EEG channel names and locations\n",
    "ch_names = new_raw.ch_names\n",
    "ch_locs = _get_als_coords_from_chs(new_raw.info['chs'], drop_chs=[])\n",
    "# Extract annotations for manual check\n",
    "annotations = [new_raw.annotations.description[:100],\n",
    "               new_raw.annotations.onset[:100],\n",
    "               new_raw.annotations.duration[:100]]\n",
    "print(\"Descriptions shape:\", np.array(annotations[0]).shape)\n",
    "print(\"Onsets shape:\", np.array(annotations[1]).shape)\n",
    "print(\"Durations shape:\", np.array(annotations[2]).shape)"
   ],
   "metadata": {
    "collapsed": false
   },
   "id": "1f6fce6755ef1157"
  },
  {
   "cell_type": "code",
   "execution_count": null,
   "outputs": [],
   "source": [
    "import numpy as np\n",
    "from scipy.io import savemat\n",
    "def safe_export_set(raw, fname, n_events=None):\n",
    "    sfreq = raw.info['sfreq']\n",
    "    ch_names = raw.ch_names\n",
    "    data = raw.get_data()\n",
    "    if n_events is None:\n",
    "        n_events = len(raw.annotations)\n",
    "    desc = np.array([str(d) for d in raw.annotations.description[:n_events]], dtype='U20')\n",
    "    latency = (raw.annotations.onset[:n_events] * sfreq + 1).astype(np.float64)\n",
    "    duration = (raw.annotations.duration[:n_events] * sfreq).astype(np.float64)\n",
    "    event = np.rec.fromarrays([desc, latency, duration],\n",
    "                              names=[\"type\", \"latency\", \"duration\"])\n",
    "    eeg_d = {\n",
    "        'data': data,\n",
    "        'srate': sfreq,\n",
    "        'nbchan': raw.info['nchan'],\n",
    "        'trials': 1,\n",
    "        'pnts': data.shape[1],\n",
    "        'event': event,\n",
    "        'chanlocs': [],  # optional: fill in if needed\n",
    "        'chanlabels': ch_names,\n",
    "    }\n",
    "    for key, val in eeg_d.items():\n",
    "        print(f\"{key}: type={type(val)}, dtype={getattr(val, 'dtype', 'NA')}, shape={getattr(val, 'shape', 'NA')}\")\n",
    "    savemat(fname, eeg_d, appendmat=False)\n",
    "    print(f\"Exported to {fname} successfully\")"
   ],
   "metadata": {
    "collapsed": false,
    "ExecuteTime": {
     "end_time": "2025-04-22T07:40:25.535450Z",
     "start_time": "2025-04-22T07:40:25.534950Z"
    }
   },
   "id": "93b694d01387bdf"
  },
  {
   "cell_type": "code",
   "execution_count": 11,
   "outputs": [],
   "source": [
    "def safe_export_set(raw, fname, n_events=None):\n",
    "    import numpy as np\n",
    "    from scipy.io import savemat\n",
    "    from mne.export._eeglab import _get_als_coords_from_chs\n",
    "    ch_locs = _get_als_coords_from_chs(raw.info['chs'], drop_chs=[])\n",
    "    sfreq = raw.info['sfreq']\n",
    "    ch_names = raw.ch_names\n",
    "    data = raw.get_data().astype(np.float64)\n",
    "    if n_events is None:\n",
    "        n_events = len(raw.annotations)\n",
    "    desc = np.array([str(d) for d in raw.annotations.description[:n_events]], dtype='U20')\n",
    "    latency = (raw.annotations.onset[:n_events] * sfreq + 1).astype(np.float64)\n",
    "    duration = (raw.annotations.duration[:n_events] * sfreq).astype(np.float64)\n",
    "    event = np.rec.fromarrays([desc, latency, duration],\n",
    "                              names=[\"type\", \"latency\", \"duration\"])\n",
    "\n",
    "    eeg_d = {\n",
    "        'data': data,\n",
    "        'srate': sfreq,\n",
    "        'nbchan': raw.info['nchan'],\n",
    "        'trials': 1,\n",
    "        'pnts': raw.n_times,\n",
    "        'event': event,\n",
    "        'chanlabels': np.array(ch_names, dtype='U20')  #  proper format\n",
    "        #'chanlocs': ch_locs # optionally fill later,\n",
    "    }\n",
    "    savemat(fname, eeg_d, appendmat=False)\n",
    "    print(f\"Exported to {fname} successfully\")"
   ],
   "metadata": {
    "collapsed": false,
    "ExecuteTime": {
     "end_time": "2025-04-17T11:11:08.171905200Z",
     "start_time": "2025-04-17T11:11:08.156714700Z"
    }
   },
   "id": "c4e2680518ecbc4c"
  },
  {
   "cell_type": "code",
   "execution_count": 12,
   "outputs": [
    {
     "ename": "OSError",
     "evalue": "[Errno 22] Invalid argument",
     "output_type": "error",
     "traceback": [
      "\u001B[1;31m---------------------------------------------------------------------------\u001B[0m",
      "\u001B[1;31mOSError\u001B[0m                                   Traceback (most recent call last)",
      "Input \u001B[1;32mIn [12]\u001B[0m, in \u001B[0;36m<cell line: 1>\u001B[1;34m()\u001B[0m\n\u001B[1;32m----> 1\u001B[0m \u001B[43msafe_export_set\u001B[49m\u001B[43m(\u001B[49m\u001B[43mnew_raw\u001B[49m\u001B[43m,\u001B[49m\u001B[43m \u001B[49m\u001B[38;5;124;43mf\u001B[39;49m\u001B[38;5;124;43m\"\u001B[39;49m\u001B[38;5;124;43mana/deconvolution/test/eeg_data_\u001B[39;49m\u001B[38;5;132;43;01m{\u001B[39;49;00m\u001B[43mg_num\u001B[49m\u001B[38;5;132;43;01m}\u001B[39;49;00m\u001B[38;5;124;43m_SAFE.set\u001B[39;49m\u001B[38;5;124;43m\"\u001B[39;49m\u001B[43m)\u001B[49m\n",
      "Input \u001B[1;32mIn [11]\u001B[0m, in \u001B[0;36msafe_export_set\u001B[1;34m(raw, fname, n_events)\u001B[0m\n\u001B[0;32m     14\u001B[0m event \u001B[38;5;241m=\u001B[39m np\u001B[38;5;241m.\u001B[39mrec\u001B[38;5;241m.\u001B[39mfromarrays([desc, latency, duration],\n\u001B[0;32m     15\u001B[0m                           names\u001B[38;5;241m=\u001B[39m[\u001B[38;5;124m\"\u001B[39m\u001B[38;5;124mtype\u001B[39m\u001B[38;5;124m\"\u001B[39m, \u001B[38;5;124m\"\u001B[39m\u001B[38;5;124mlatency\u001B[39m\u001B[38;5;124m\"\u001B[39m, \u001B[38;5;124m\"\u001B[39m\u001B[38;5;124mduration\u001B[39m\u001B[38;5;124m\"\u001B[39m])\n\u001B[0;32m     17\u001B[0m eeg_d \u001B[38;5;241m=\u001B[39m {\n\u001B[0;32m     18\u001B[0m     \u001B[38;5;124m'\u001B[39m\u001B[38;5;124mdata\u001B[39m\u001B[38;5;124m'\u001B[39m: data,\n\u001B[0;32m     19\u001B[0m     \u001B[38;5;124m'\u001B[39m\u001B[38;5;124msrate\u001B[39m\u001B[38;5;124m'\u001B[39m: sfreq,\n\u001B[1;32m   (...)\u001B[0m\n\u001B[0;32m     25\u001B[0m     \u001B[38;5;66;03m#'chanlocs': ch_locs # optionally fill later,\u001B[39;00m\n\u001B[0;32m     26\u001B[0m }\n\u001B[1;32m---> 27\u001B[0m \u001B[43msavemat\u001B[49m\u001B[43m(\u001B[49m\u001B[43mfname\u001B[49m\u001B[43m,\u001B[49m\u001B[43m \u001B[49m\u001B[43meeg_d\u001B[49m\u001B[43m,\u001B[49m\u001B[43m \u001B[49m\u001B[43mappendmat\u001B[49m\u001B[38;5;241;43m=\u001B[39;49m\u001B[38;5;28;43;01mFalse\u001B[39;49;00m\u001B[43m)\u001B[49m\n\u001B[0;32m     28\u001B[0m \u001B[38;5;28mprint\u001B[39m(\u001B[38;5;124mf\u001B[39m\u001B[38;5;124m\"\u001B[39m\u001B[38;5;124mExported to \u001B[39m\u001B[38;5;132;01m{\u001B[39;00mfname\u001B[38;5;132;01m}\u001B[39;00m\u001B[38;5;124m successfully\u001B[39m\u001B[38;5;124m\"\u001B[39m)\n",
      "File \u001B[1;32m~\\anaconda3\\envs\\mne\\lib\\site-packages\\scipy\\io\\matlab\\_mio.py:298\u001B[0m, in \u001B[0;36msavemat\u001B[1;34m(file_name, mdict, appendmat, format, long_field_names, do_compression, oned_as)\u001B[0m\n\u001B[0;32m    296\u001B[0m \u001B[38;5;28;01melse\u001B[39;00m:\n\u001B[0;32m    297\u001B[0m     \u001B[38;5;28;01mraise\u001B[39;00m \u001B[38;5;167;01mValueError\u001B[39;00m(\u001B[38;5;124m\"\u001B[39m\u001B[38;5;124mFormat should be \u001B[39m\u001B[38;5;124m'\u001B[39m\u001B[38;5;124m4\u001B[39m\u001B[38;5;124m'\u001B[39m\u001B[38;5;124m or \u001B[39m\u001B[38;5;124m'\u001B[39m\u001B[38;5;124m5\u001B[39m\u001B[38;5;124m'\u001B[39m\u001B[38;5;124m\"\u001B[39m)\n\u001B[1;32m--> 298\u001B[0m \u001B[43mMW\u001B[49m\u001B[38;5;241;43m.\u001B[39;49m\u001B[43mput_variables\u001B[49m\u001B[43m(\u001B[49m\u001B[43mmdict\u001B[49m\u001B[43m)\u001B[49m\n",
      "File \u001B[1;32m~\\anaconda3\\envs\\mne\\lib\\site-packages\\scipy\\io\\matlab\\_mio5.py:892\u001B[0m, in \u001B[0;36mMatFile5Writer.put_variables\u001B[1;34m(self, mdict, write_header)\u001B[0m\n\u001B[0;32m    890\u001B[0m     \u001B[38;5;28mself\u001B[39m\u001B[38;5;241m.\u001B[39mfile_stream\u001B[38;5;241m.\u001B[39mwrite(out_str)\n\u001B[0;32m    891\u001B[0m \u001B[38;5;28;01melse\u001B[39;00m:  \u001B[38;5;66;03m# not compressing\u001B[39;00m\n\u001B[1;32m--> 892\u001B[0m     \u001B[38;5;28;43mself\u001B[39;49m\u001B[38;5;241;43m.\u001B[39;49m\u001B[43m_matrix_writer\u001B[49m\u001B[38;5;241;43m.\u001B[39;49m\u001B[43mwrite_top\u001B[49m\u001B[43m(\u001B[49m\u001B[43mvar\u001B[49m\u001B[43m,\u001B[49m\u001B[43m \u001B[49m\u001B[43mname\u001B[49m\u001B[38;5;241;43m.\u001B[39;49m\u001B[43mencode\u001B[49m\u001B[43m(\u001B[49m\u001B[38;5;124;43m'\u001B[39;49m\u001B[38;5;124;43mlatin1\u001B[39;49m\u001B[38;5;124;43m'\u001B[39;49m\u001B[43m)\u001B[49m\u001B[43m,\u001B[49m\u001B[43m \u001B[49m\u001B[43mis_global\u001B[49m\u001B[43m)\u001B[49m\n",
      "File \u001B[1;32m~\\anaconda3\\envs\\mne\\lib\\site-packages\\scipy\\io\\matlab\\_mio5.py:633\u001B[0m, in \u001B[0;36mVarWriter5.write_top\u001B[1;34m(self, arr, name, is_global)\u001B[0m\n\u001B[0;32m    631\u001B[0m \u001B[38;5;28mself\u001B[39m\u001B[38;5;241m.\u001B[39m_var_name \u001B[38;5;241m=\u001B[39m name\n\u001B[0;32m    632\u001B[0m \u001B[38;5;66;03m# write the header and data\u001B[39;00m\n\u001B[1;32m--> 633\u001B[0m \u001B[38;5;28;43mself\u001B[39;49m\u001B[38;5;241;43m.\u001B[39;49m\u001B[43mwrite\u001B[49m\u001B[43m(\u001B[49m\u001B[43marr\u001B[49m\u001B[43m)\u001B[49m\n",
      "File \u001B[1;32m~\\anaconda3\\envs\\mne\\lib\\site-packages\\scipy\\io\\matlab\\_mio5.py:672\u001B[0m, in \u001B[0;36mVarWriter5.write\u001B[1;34m(self, arr)\u001B[0m\n\u001B[0;32m    670\u001B[0m     \u001B[38;5;28mself\u001B[39m\u001B[38;5;241m.\u001B[39mwrite_char(narr, codec)\n\u001B[0;32m    671\u001B[0m \u001B[38;5;28;01melse\u001B[39;00m:\n\u001B[1;32m--> 672\u001B[0m     \u001B[38;5;28;43mself\u001B[39;49m\u001B[38;5;241;43m.\u001B[39;49m\u001B[43mwrite_numeric\u001B[49m\u001B[43m(\u001B[49m\u001B[43mnarr\u001B[49m\u001B[43m)\u001B[49m\n\u001B[0;32m    673\u001B[0m \u001B[38;5;28mself\u001B[39m\u001B[38;5;241m.\u001B[39mupdate_matrix_tag(mat_tag_pos)\n",
      "File \u001B[1;32m~\\anaconda3\\envs\\mne\\lib\\site-packages\\scipy\\io\\matlab\\_mio5.py:698\u001B[0m, in \u001B[0;36mVarWriter5.write_numeric\u001B[1;34m(self, arr)\u001B[0m\n\u001B[0;32m    696\u001B[0m     \u001B[38;5;28mself\u001B[39m\u001B[38;5;241m.\u001B[39mwrite_element(arr\u001B[38;5;241m.\u001B[39mimag)\n\u001B[0;32m    697\u001B[0m \u001B[38;5;28;01melse\u001B[39;00m:\n\u001B[1;32m--> 698\u001B[0m     \u001B[38;5;28;43mself\u001B[39;49m\u001B[38;5;241;43m.\u001B[39;49m\u001B[43mwrite_element\u001B[49m\u001B[43m(\u001B[49m\u001B[43marr\u001B[49m\u001B[43m)\u001B[49m\n",
      "File \u001B[1;32m~\\anaconda3\\envs\\mne\\lib\\site-packages\\scipy\\io\\matlab\\_mio5.py:539\u001B[0m, in \u001B[0;36mVarWriter5.write_element\u001B[1;34m(self, arr, mdtype)\u001B[0m\n\u001B[0;32m    537\u001B[0m     \u001B[38;5;28mself\u001B[39m\u001B[38;5;241m.\u001B[39mwrite_smalldata_element(arr, mdtype, byte_count)\n\u001B[0;32m    538\u001B[0m \u001B[38;5;28;01melse\u001B[39;00m:\n\u001B[1;32m--> 539\u001B[0m     \u001B[38;5;28;43mself\u001B[39;49m\u001B[38;5;241;43m.\u001B[39;49m\u001B[43mwrite_regular_element\u001B[49m\u001B[43m(\u001B[49m\u001B[43marr\u001B[49m\u001B[43m,\u001B[49m\u001B[43m \u001B[49m\u001B[43mmdtype\u001B[49m\u001B[43m,\u001B[49m\u001B[43m \u001B[49m\u001B[43mbyte_count\u001B[49m\u001B[43m)\u001B[49m\n",
      "File \u001B[1;32m~\\anaconda3\\envs\\mne\\lib\\site-packages\\scipy\\io\\matlab\\_mio5.py:555\u001B[0m, in \u001B[0;36mVarWriter5.write_regular_element\u001B[1;34m(self, arr, mdtype, byte_count)\u001B[0m\n\u001B[0;32m    553\u001B[0m tag[\u001B[38;5;124m'\u001B[39m\u001B[38;5;124mbyte_count\u001B[39m\u001B[38;5;124m'\u001B[39m] \u001B[38;5;241m=\u001B[39m byte_count\n\u001B[0;32m    554\u001B[0m \u001B[38;5;28mself\u001B[39m\u001B[38;5;241m.\u001B[39mwrite_bytes(tag)\n\u001B[1;32m--> 555\u001B[0m \u001B[38;5;28;43mself\u001B[39;49m\u001B[38;5;241;43m.\u001B[39;49m\u001B[43mwrite_bytes\u001B[49m\u001B[43m(\u001B[49m\u001B[43marr\u001B[49m\u001B[43m)\u001B[49m\n\u001B[0;32m    556\u001B[0m \u001B[38;5;66;03m# pad to next 64-bit boundary\u001B[39;00m\n\u001B[0;32m    557\u001B[0m bc_mod_8 \u001B[38;5;241m=\u001B[39m byte_count \u001B[38;5;241m%\u001B[39m \u001B[38;5;241m8\u001B[39m\n",
      "File \u001B[1;32m~\\anaconda3\\envs\\mne\\lib\\site-packages\\scipy\\io\\matlab\\_mio5.py:523\u001B[0m, in \u001B[0;36mVarWriter5.write_bytes\u001B[1;34m(self, arr)\u001B[0m\n\u001B[0;32m    522\u001B[0m \u001B[38;5;28;01mdef\u001B[39;00m \u001B[38;5;21mwrite_bytes\u001B[39m(\u001B[38;5;28mself\u001B[39m, arr):\n\u001B[1;32m--> 523\u001B[0m     \u001B[38;5;28;43mself\u001B[39;49m\u001B[38;5;241;43m.\u001B[39;49m\u001B[43mfile_stream\u001B[49m\u001B[38;5;241;43m.\u001B[39;49m\u001B[43mwrite\u001B[49m\u001B[43m(\u001B[49m\u001B[43marr\u001B[49m\u001B[38;5;241;43m.\u001B[39;49m\u001B[43mtobytes\u001B[49m\u001B[43m(\u001B[49m\u001B[43morder\u001B[49m\u001B[38;5;241;43m=\u001B[39;49m\u001B[38;5;124;43m'\u001B[39;49m\u001B[38;5;124;43mF\u001B[39;49m\u001B[38;5;124;43m'\u001B[39;49m\u001B[43m)\u001B[49m\u001B[43m)\u001B[49m\n",
      "\u001B[1;31mOSError\u001B[0m: [Errno 22] Invalid argument"
     ]
    }
   ],
   "source": [
    "safe_export_set(new_raw, f\"ana/deconvolution/test/eeg_data_{g_num}_SAFE.set\")"
   ],
   "metadata": {
    "collapsed": false,
    "ExecuteTime": {
     "end_time": "2025-04-17T11:12:17.301336500Z",
     "start_time": "2025-04-17T11:11:08.985979400Z"
    }
   },
   "id": "f7bf0f2a0d38cae"
  },
  {
   "cell_type": "code",
   "execution_count": 63,
   "outputs": [
    {
     "data": {
      "text/plain": "array([0.        , 0.        , 0.13514873, 0.        , 0.        ,\n       0.        , 0.        , 0.        , 0.        , 0.        ,\n       0.        , 0.        ])"
     },
     "execution_count": 63,
     "metadata": {},
     "output_type": "execute_result"
    }
   ],
   "source": [
    "vcraw.info['chs'][0]['loc']"
   ],
   "metadata": {
    "collapsed": false,
    "ExecuteTime": {
     "end_time": "2025-04-17T09:52:49.755891200Z",
     "start_time": "2025-04-17T09:52:49.724640700Z"
    }
   },
   "id": "3f49cc10f1a2e750"
  },
  {
   "cell_type": "code",
   "execution_count": 59,
   "outputs": [
    {
     "name": "stdout",
     "output_type": "stream",
     "text": [
      "Issues with channel locations:\n",
      "  Channels with incorrect dimensions (not 4 elements): [{'channel': 'A1', 'loc_length': 12}, {'channel': 'A2', 'loc_length': 12}, {'channel': 'A3', 'loc_length': 12}, {'channel': 'A4', 'loc_length': 12}, {'channel': 'A5', 'loc_length': 12}, {'channel': 'A6', 'loc_length': 12}, {'channel': 'A7', 'loc_length': 12}, {'channel': 'A8', 'loc_length': 12}, {'channel': 'A9', 'loc_length': 12}, {'channel': 'A10', 'loc_length': 12}, {'channel': 'A11', 'loc_length': 12}, {'channel': 'A12', 'loc_length': 12}, {'channel': 'A13', 'loc_length': 12}, {'channel': 'A14', 'loc_length': 12}, {'channel': 'A15', 'loc_length': 12}, {'channel': 'A16', 'loc_length': 12}, {'channel': 'A17', 'loc_length': 12}, {'channel': 'A18', 'loc_length': 12}, {'channel': 'A19', 'loc_length': 12}, {'channel': 'A20', 'loc_length': 12}, {'channel': 'A21', 'loc_length': 12}, {'channel': 'A22', 'loc_length': 12}, {'channel': 'A23', 'loc_length': 12}, {'channel': 'A24', 'loc_length': 12}, {'channel': 'A25', 'loc_length': 12}, {'channel': 'A26', 'loc_length': 12}, {'channel': 'A27', 'loc_length': 12}, {'channel': 'A28', 'loc_length': 12}, {'channel': 'A29', 'loc_length': 12}, {'channel': 'A30', 'loc_length': 12}, {'channel': 'A31', 'loc_length': 12}, {'channel': 'A32', 'loc_length': 12}, {'channel': 'B1', 'loc_length': 12}, {'channel': 'B2', 'loc_length': 12}, {'channel': 'B3', 'loc_length': 12}, {'channel': 'B4', 'loc_length': 12}, {'channel': 'B5', 'loc_length': 12}, {'channel': 'B6', 'loc_length': 12}, {'channel': 'B7', 'loc_length': 12}, {'channel': 'B8', 'loc_length': 12}, {'channel': 'B9', 'loc_length': 12}, {'channel': 'B10', 'loc_length': 12}, {'channel': 'B11', 'loc_length': 12}, {'channel': 'B12', 'loc_length': 12}, {'channel': 'B13', 'loc_length': 12}, {'channel': 'B14', 'loc_length': 12}, {'channel': 'B15', 'loc_length': 12}, {'channel': 'B16', 'loc_length': 12}, {'channel': 'B17', 'loc_length': 12}, {'channel': 'B18', 'loc_length': 12}, {'channel': 'B19', 'loc_length': 12}, {'channel': 'B20', 'loc_length': 12}, {'channel': 'B21', 'loc_length': 12}, {'channel': 'B22', 'loc_length': 12}, {'channel': 'B23', 'loc_length': 12}, {'channel': 'B24', 'loc_length': 12}, {'channel': 'B25', 'loc_length': 12}, {'channel': 'B26', 'loc_length': 12}, {'channel': 'B27', 'loc_length': 12}, {'channel': 'B28', 'loc_length': 12}, {'channel': 'B29', 'loc_length': 12}, {'channel': 'B30', 'loc_length': 12}, {'channel': 'B31', 'loc_length': 12}, {'channel': 'B32', 'loc_length': 12}, {'channel': 'C1', 'loc_length': 12}, {'channel': 'C2', 'loc_length': 12}, {'channel': 'C3', 'loc_length': 12}, {'channel': 'C4', 'loc_length': 12}, {'channel': 'C5', 'loc_length': 12}, {'channel': 'C6', 'loc_length': 12}, {'channel': 'C7', 'loc_length': 12}, {'channel': 'C8', 'loc_length': 12}, {'channel': 'C9', 'loc_length': 12}, {'channel': 'C10', 'loc_length': 12}, {'channel': 'C11', 'loc_length': 12}, {'channel': 'C12', 'loc_length': 12}, {'channel': 'C13', 'loc_length': 12}, {'channel': 'C14', 'loc_length': 12}, {'channel': 'C15', 'loc_length': 12}, {'channel': 'C16', 'loc_length': 12}, {'channel': 'C17', 'loc_length': 12}, {'channel': 'C18', 'loc_length': 12}, {'channel': 'C19', 'loc_length': 12}, {'channel': 'C20', 'loc_length': 12}, {'channel': 'C21', 'loc_length': 12}, {'channel': 'C22', 'loc_length': 12}, {'channel': 'C23', 'loc_length': 12}, {'channel': 'C24', 'loc_length': 12}, {'channel': 'C25', 'loc_length': 12}, {'channel': 'C26', 'loc_length': 12}, {'channel': 'C27', 'loc_length': 12}, {'channel': 'C28', 'loc_length': 12}, {'channel': 'C29', 'loc_length': 12}, {'channel': 'C30', 'loc_length': 12}, {'channel': 'C31', 'loc_length': 12}, {'channel': 'C32', 'loc_length': 12}, {'channel': 'D1', 'loc_length': 12}, {'channel': 'D2', 'loc_length': 12}, {'channel': 'D3', 'loc_length': 12}, {'channel': 'D4', 'loc_length': 12}, {'channel': 'D5', 'loc_length': 12}, {'channel': 'D6', 'loc_length': 12}, {'channel': 'D7', 'loc_length': 12}, {'channel': 'D8', 'loc_length': 12}, {'channel': 'D9', 'loc_length': 12}, {'channel': 'D10', 'loc_length': 12}, {'channel': 'D11', 'loc_length': 12}, {'channel': 'D12', 'loc_length': 12}, {'channel': 'D13', 'loc_length': 12}, {'channel': 'D14', 'loc_length': 12}, {'channel': 'D15', 'loc_length': 12}, {'channel': 'D16', 'loc_length': 12}, {'channel': 'D17', 'loc_length': 12}, {'channel': 'D18', 'loc_length': 12}, {'channel': 'D19', 'loc_length': 12}, {'channel': 'D20', 'loc_length': 12}, {'channel': 'D21', 'loc_length': 12}, {'channel': 'D22', 'loc_length': 12}, {'channel': 'D23', 'loc_length': 12}, {'channel': 'D24', 'loc_length': 12}, {'channel': 'D25', 'loc_length': 12}, {'channel': 'D26', 'loc_length': 12}, {'channel': 'D27', 'loc_length': 12}, {'channel': 'D28', 'loc_length': 12}, {'channel': 'D29', 'loc_length': 12}, {'channel': 'D30', 'loc_length': 12}, {'channel': 'D31', 'loc_length': 12}, {'channel': 'D32', 'loc_length': 12}]\n",
      "  Channels with extra elements in 'loc': [{'channel': 'A1', 'loc': array([0.        , 0.        , 0.13514873, 0.        , 0.        ,\n",
      "       0.        , 0.        , 0.        , 0.        , 0.        ,\n",
      "       0.        , 0.        ])}, {'channel': 'A2', 'loc': array([ 1.10994972e-18, -1.81268546e-02,  1.33403317e-01,  0.00000000e+00,\n",
      "        0.00000000e+00,  0.00000000e+00,  0.00000000e+00,  0.00000000e+00,\n",
      "        0.00000000e+00,  0.00000000e+00,  0.00000000e+00,  0.00000000e+00])}, {'channel': 'A3', 'loc': array([ 2.27291122e-18, -3.71194572e-02,  1.27596696e-01,  0.00000000e+00,\n",
      "        0.00000000e+00,  0.00000000e+00,  0.00000000e+00,  0.00000000e+00,\n",
      "        0.00000000e+00,  0.00000000e+00,  0.00000000e+00,  0.00000000e+00])}, {'channel': 'A4', 'loc': array([ 3.25286555e-18, -5.31233258e-02,  1.18907304e-01,  0.00000000e+00,\n",
      "        0.00000000e+00,  0.00000000e+00,  0.00000000e+00,  0.00000000e+00,\n",
      "        0.00000000e+00,  0.00000000e+00,  0.00000000e+00,  0.00000000e+00])}, {'channel': 'A5', 'loc': array([-0.0267015 , -0.0629048 ,  0.10614128,  0.        ,  0.        ,\n",
      "        0.        ,  0.        ,  0.        ,  0.        ,  0.        ,\n",
      "        0.        ,  0.        ])}, {'channel': 'A6', 'loc': array([-0.04832175, -0.04832175,  0.10614128,  0.        ,  0.        ,\n",
      "        0.        ,  0.        ,  0.        ,  0.        ,  0.        ,\n",
      "        0.        ,  0.        ])}, {'channel': 'A7', 'loc': array([-0.05633782, -0.05633782,  0.09188944,  0.        ,  0.        ,\n",
      "        0.        ,  0.        ,  0.        ,  0.        ,  0.        ,\n",
      "        0.        ,  0.        ])}, {'channel': 'A8', 'loc': array([-0.05213076, -0.07175183,  0.07419369,  0.        ,  0.        ,\n",
      "        0.        ,  0.        ,  0.        ,  0.        ,  0.        ,\n",
      "        0.        ,  0.        ])}, {'channel': 'A9', 'loc': array([-0.05499127, -0.07568899,  0.05664531,  0.        ,  0.        ,\n",
      "        0.        ,  0.        ,  0.        ,  0.        ,  0.        ,\n",
      "        0.        ,  0.        ])}, {'channel': 'A10', 'loc': array([-0.05580558, -0.0768098 ,  0.03683328,  0.        ,  0.        ,\n",
      "        0.        ,  0.        ,  0.        ,  0.        ,  0.        ,\n",
      "        0.        ,  0.        ])}, {'channel': 'A11', 'loc': array([-0.05440843, -0.07488678,  0.01877838,  0.        ,  0.        ,\n",
      "        0.        ,  0.        ,  0.        ,  0.        ,  0.        ,\n",
      "        0.        ,  0.        ])}, {'channel': 'A12', 'loc': array([-0.05060786, -0.06965575,  0.        ,  0.        ,  0.        ,\n",
      "        0.        ,  0.        ,  0.        ,  0.        ,  0.        ,\n",
      "        0.        ,  0.        ])}, {'channel': 'A13', 'loc': array([-0.02660613, -0.08188524,  0.        ,  0.        ,  0.        ,\n",
      "        0.        ,  0.        ,  0.        ,  0.        ,  0.        ,\n",
      "        0.        ,  0.        ])}, {'channel': 'A14', 'loc': array([-0.02860421, -0.08803469,  0.01877838,  0.        ,  0.        ,\n",
      "        0.        ,  0.        ,  0.        ,  0.        ,  0.        ,\n",
      "        0.        ,  0.        ])}, {'channel': 'A15', 'loc': array([-0.02933873, -0.09029533,  0.03683328,  0.        ,  0.        ,\n",
      "        0.        ,  0.        ,  0.        ,  0.        ,  0.        ,\n",
      "        0.        ,  0.        ])}, {'channel': 'A16', 'loc': array([-0.02891062, -0.08897774,  0.05664531,  0.        ,  0.        ,\n",
      "        0.        ,  0.        ,  0.        ,  0.        ,  0.        ,\n",
      "        0.        ,  0.        ])}, {'channel': 'A17', 'loc': array([-0.02740676, -0.08434934,  0.07419369,  0.        ,  0.        ,\n",
      "        0.        ,  0.        ,  0.        ,  0.        ,  0.        ,\n",
      "        0.        ,  0.        ])}, {'channel': 'A18', 'loc': array([-0.031131  , -0.07334003,  0.09188944,  0.        ,  0.        ,\n",
      "        0.        ,  0.        ,  0.        ,  0.        ,  0.        ,\n",
      "        0.        ,  0.        ])}, {'channel': 'A19', 'loc': array([ 4.18445162e-18, -6.83372810e-02,  1.06141280e-01,  0.00000000e+00,\n",
      "        0.00000000e+00,  0.00000000e+00,  0.00000000e+00,  0.00000000e+00,\n",
      "        0.00000000e+00,  0.00000000e+00,  0.00000000e+00,  0.00000000e+00])}, {'channel': 'A20', 'loc': array([ 4.87860733e-18, -7.96737040e-02,  9.18894432e-02,  0.00000000e+00,\n",
      "        0.00000000e+00,  0.00000000e+00,  0.00000000e+00,  0.00000000e+00,\n",
      "        0.00000000e+00,  0.00000000e+00,  0.00000000e+00,  0.00000000e+00])}, {'channel': 'A21', 'loc': array([ 5.43070484e-18, -8.86901405e-02,  7.41936901e-02,  0.00000000e+00,\n",
      "        0.00000000e+00,  0.00000000e+00,  0.00000000e+00,  0.00000000e+00,\n",
      "        0.00000000e+00,  0.00000000e+00,  0.00000000e+00,  0.00000000e+00])}, {'channel': 'A22', 'loc': array([ 5.72869790e-18, -9.35567365e-02,  5.66453117e-02,  0.00000000e+00,\n",
      "        0.00000000e+00,  0.00000000e+00,  0.00000000e+00,  0.00000000e+00,\n",
      "        0.00000000e+00,  0.00000000e+00,  0.00000000e+00,  0.00000000e+00])}, {'channel': 'A23', 'loc': array([ 5.81352869e-18, -9.49421286e-02,  3.68332827e-02,  0.00000000e+00,\n",
      "        0.00000000e+00,  0.00000000e+00,  0.00000000e+00,  0.00000000e+00,\n",
      "        0.00000000e+00,  0.00000000e+00,  0.00000000e+00,  0.00000000e+00])}, {'channel': 'A24', 'loc': array([ 5.66798111e-18, -9.25651562e-02,  1.87783847e-02,  0.00000000e+00,\n",
      "        0.00000000e+00,  0.00000000e+00,  0.00000000e+00,  0.00000000e+00,\n",
      "        0.00000000e+00,  0.00000000e+00,  0.00000000e+00,  0.00000000e+00])}, {'channel': 'A25', 'loc': array([ 5.27205792e-18, -8.60992398e-02,  0.00000000e+00,  0.00000000e+00,\n",
      "        0.00000000e+00,  0.00000000e+00,  0.00000000e+00,  0.00000000e+00,\n",
      "        0.00000000e+00,  0.00000000e+00,  0.00000000e+00,  0.00000000e+00])}, {'channel': 'A26', 'loc': array([ 0.02660613, -0.08188524,  0.        ,  0.        ,  0.        ,\n",
      "        0.        ,  0.        ,  0.        ,  0.        ,  0.        ,\n",
      "        0.        ,  0.        ])}, {'channel': 'A27', 'loc': array([ 0.02860421, -0.08803469,  0.01877838,  0.        ,  0.        ,\n",
      "        0.        ,  0.        ,  0.        ,  0.        ,  0.        ,\n",
      "        0.        ,  0.        ])}, {'channel': 'A28', 'loc': array([ 0.02933873, -0.09029533,  0.03683328,  0.        ,  0.        ,\n",
      "        0.        ,  0.        ,  0.        ,  0.        ,  0.        ,\n",
      "        0.        ,  0.        ])}, {'channel': 'A29', 'loc': array([ 0.02891062, -0.08897774,  0.05664531,  0.        ,  0.        ,\n",
      "        0.        ,  0.        ,  0.        ,  0.        ,  0.        ,\n",
      "        0.        ,  0.        ])}, {'channel': 'A30', 'loc': array([ 0.02740676, -0.08434934,  0.07419369,  0.        ,  0.        ,\n",
      "        0.        ,  0.        ,  0.        ,  0.        ,  0.        ,\n",
      "        0.        ,  0.        ])}, {'channel': 'A31', 'loc': array([ 0.031131  , -0.07334003,  0.09188944,  0.        ,  0.        ,\n",
      "        0.        ,  0.        ,  0.        ,  0.        ,  0.        ,\n",
      "        0.        ,  0.        ])}, {'channel': 'A32', 'loc': array([ 0.0267015 , -0.0629048 ,  0.10614128,  0.        ,  0.        ,\n",
      "        0.        ,  0.        ,  0.        ,  0.        ,  0.        ,\n",
      "        0.        ,  0.        ])}, {'channel': 'B1', 'loc': array([ 0.01723966, -0.00560151,  0.13340332,  0.        ,  0.        ,\n",
      "        0.        ,  0.        ,  0.        ,  0.        ,  0.        ,\n",
      "        0.        ,  0.        ])}, {'channel': 'B2', 'loc': array([ 0.02624742, -0.02624742,  0.1275967 ,  0.        ,  0.        ,\n",
      "        0.        ,  0.        ,  0.        ,  0.        ,  0.        ,\n",
      "        0.        ,  0.        ])}, {'channel': 'B3', 'loc': array([ 0.04832175, -0.04832175,  0.10614128,  0.        ,  0.        ,\n",
      "        0.        ,  0.        ,  0.        ,  0.        ,  0.        ,\n",
      "        0.        ,  0.        ])}, {'channel': 'B4', 'loc': array([ 0.05633782, -0.05633782,  0.09188944,  0.        ,  0.        ,\n",
      "        0.        ,  0.        ,  0.        ,  0.        ,  0.        ,\n",
      "        0.        ,  0.        ])}, {'channel': 'B5', 'loc': array([ 0.05213076, -0.07175183,  0.07419369,  0.        ,  0.        ,\n",
      "        0.        ,  0.        ,  0.        ,  0.        ,  0.        ,\n",
      "        0.        ,  0.        ])}, {'channel': 'B6', 'loc': array([ 0.05499127, -0.07568899,  0.05664531,  0.        ,  0.        ,\n",
      "        0.        ,  0.        ,  0.        ,  0.        ,  0.        ,\n",
      "        0.        ,  0.        ])}, {'channel': 'B7', 'loc': array([ 0.05580558, -0.0768098 ,  0.03683328,  0.        ,  0.        ,\n",
      "        0.        ,  0.        ,  0.        ,  0.        ,  0.        ,\n",
      "        0.        ,  0.        ])}, {'channel': 'B8', 'loc': array([ 0.05440843, -0.07488678,  0.01877838,  0.        ,  0.        ,\n",
      "        0.        ,  0.        ,  0.        ,  0.        ,  0.        ,\n",
      "        0.        ,  0.        ])}, {'channel': 'B9', 'loc': array([ 0.05060786, -0.06965575,  0.        ,  0.        ,  0.        ,\n",
      "        0.        ,  0.        ,  0.        ,  0.        ,  0.        ,\n",
      "        0.        ,  0.        ])}, {'channel': 'B10', 'loc': array([ 0.07488678, -0.05440843,  0.01877838,  0.        ,  0.        ,\n",
      "        0.        ,  0.        ,  0.        ,  0.        ,  0.        ,\n",
      "        0.        ,  0.        ])}, {'channel': 'B11', 'loc': array([ 0.0768098 , -0.05580558,  0.03683328,  0.        ,  0.        ,\n",
      "        0.        ,  0.        ,  0.        ,  0.        ,  0.        ,\n",
      "        0.        ,  0.        ])}, {'channel': 'B12', 'loc': array([ 0.07568899, -0.05499127,  0.05664531,  0.        ,  0.        ,\n",
      "        0.        ,  0.        ,  0.        ,  0.        ,  0.        ,\n",
      "        0.        ,  0.        ])}, {'channel': 'B13', 'loc': array([ 0.07175183, -0.05213076,  0.07419369,  0.        ,  0.        ,\n",
      "        0.        ,  0.        ,  0.        ,  0.        ,  0.        ,\n",
      "        0.        ,  0.        ])}, {'channel': 'B14', 'loc': array([ 0.09029533, -0.02933873,  0.03683328,  0.        ,  0.        ,\n",
      "        0.        ,  0.        ,  0.        ,  0.        ,  0.        ,\n",
      "        0.        ,  0.        ])}, {'channel': 'B15', 'loc': array([ 0.08897774, -0.02891062,  0.05664531,  0.        ,  0.        ,\n",
      "        0.        ,  0.        ,  0.        ,  0.        ,  0.        ,\n",
      "        0.        ,  0.        ])}, {'channel': 'B16', 'loc': array([ 0.08434934, -0.02740676,  0.07419369,  0.        ,  0.        ,\n",
      "        0.        ,  0.        ,  0.        ,  0.        ,  0.        ,\n",
      "        0.        ,  0.        ])}, {'channel': 'B17', 'loc': array([ 0.07387217, -0.02984629,  0.09188944,  0.        ,  0.        ,\n",
      "        0.        ,  0.        ,  0.        ,  0.        ,  0.        ,\n",
      "        0.        ,  0.        ])}, {'channel': 'B18', 'loc': array([ 0.06336122, -0.0255996 ,  0.10614128,  0.        ,  0.        ,\n",
      "        0.        ,  0.        ,  0.        ,  0.        ,  0.        ,\n",
      "        0.        ,  0.        ])}, {'channel': 'B19', 'loc': array([ 0.04600615, -0.02656166,  0.1189073 ,  0.        ,  0.        ,\n",
      "        0.        ,  0.        ,  0.        ,  0.        ,  0.        ,\n",
      "        0.        ,  0.        ])}, {'channel': 'B20', 'loc': array([3.71194572e-02, 2.27291122e-18, 1.27596696e-01, 0.00000000e+00,\n",
      "       0.00000000e+00, 0.00000000e+00, 0.00000000e+00, 0.00000000e+00,\n",
      "       0.00000000e+00, 0.00000000e+00, 0.00000000e+00, 0.00000000e+00])}, {'channel': 'B21', 'loc': array([5.31233258e-02, 3.25286555e-18, 1.18907304e-01, 0.00000000e+00,\n",
      "       0.00000000e+00, 0.00000000e+00, 0.00000000e+00, 0.00000000e+00,\n",
      "       0.00000000e+00, 0.00000000e+00, 0.00000000e+00, 0.00000000e+00])}, {'channel': 'B22', 'loc': array([6.83372810e-02, 4.18445162e-18, 1.06141280e-01, 0.00000000e+00,\n",
      "       0.00000000e+00, 0.00000000e+00, 0.00000000e+00, 0.00000000e+00,\n",
      "       0.00000000e+00, 0.00000000e+00, 0.00000000e+00, 0.00000000e+00])}, {'channel': 'B23', 'loc': array([7.96737040e-02, 4.87860733e-18, 9.18894432e-02, 0.00000000e+00,\n",
      "       0.00000000e+00, 0.00000000e+00, 0.00000000e+00, 0.00000000e+00,\n",
      "       0.00000000e+00, 0.00000000e+00, 0.00000000e+00, 0.00000000e+00])}, {'channel': 'B24', 'loc': array([8.86901405e-02, 5.43070484e-18, 7.41936901e-02, 0.00000000e+00,\n",
      "       0.00000000e+00, 0.00000000e+00, 0.00000000e+00, 0.00000000e+00,\n",
      "       0.00000000e+00, 0.00000000e+00, 0.00000000e+00, 0.00000000e+00])}, {'channel': 'B25', 'loc': array([9.35567365e-02, 5.72869790e-18, 5.66453117e-02, 0.00000000e+00,\n",
      "       0.00000000e+00, 0.00000000e+00, 0.00000000e+00, 0.00000000e+00,\n",
      "       0.00000000e+00, 0.00000000e+00, 0.00000000e+00, 0.00000000e+00])}, {'channel': 'B26', 'loc': array([9.49421286e-02, 5.81352869e-18, 3.68332827e-02, 0.00000000e+00,\n",
      "       0.00000000e+00, 0.00000000e+00, 0.00000000e+00, 0.00000000e+00,\n",
      "       0.00000000e+00, 0.00000000e+00, 0.00000000e+00, 0.00000000e+00])}, {'channel': 'B27', 'loc': array([0.09029533, 0.02933873, 0.03683328, 0.        , 0.        ,\n",
      "       0.        , 0.        , 0.        , 0.        , 0.        ,\n",
      "       0.        , 0.        ])}, {'channel': 'B28', 'loc': array([0.08897774, 0.02891062, 0.05664531, 0.        , 0.        ,\n",
      "       0.        , 0.        , 0.        , 0.        , 0.        ,\n",
      "       0.        , 0.        ])}, {'channel': 'B29', 'loc': array([0.08434934, 0.02740676, 0.07419369, 0.        , 0.        ,\n",
      "       0.        , 0.        , 0.        , 0.        , 0.        ,\n",
      "       0.        , 0.        ])}, {'channel': 'B30', 'loc': array([0.07387217, 0.02984629, 0.09188944, 0.        , 0.        ,\n",
      "       0.        , 0.        , 0.        , 0.        , 0.        ,\n",
      "       0.        , 0.        ])}, {'channel': 'B31', 'loc': array([0.06336122, 0.0255996 , 0.10614128, 0.        , 0.        ,\n",
      "       0.        , 0.        , 0.        , 0.        , 0.        ,\n",
      "       0.        , 0.        ])}, {'channel': 'B32', 'loc': array([0.04600615, 0.02656166, 0.1189073 , 0.        , 0.        ,\n",
      "       0.        , 0.        , 0.        , 0.        , 0.        ,\n",
      "       0.        , 0.        ])}, {'channel': 'C1', 'loc': array([0.0106547 , 0.01466493, 0.13340332, 0.        , 0.        ,\n",
      "       0.        , 0.        , 0.        , 0.        , 0.        ,\n",
      "       0.        , 0.        ])}, {'channel': 'C2', 'loc': array([0.02624742, 0.02624742, 0.1275967 , 0.        , 0.        ,\n",
      "       0.        , 0.        , 0.        , 0.        , 0.        ,\n",
      "       0.        , 0.        ])}, {'channel': 'C3', 'loc': array([0.04832175, 0.04832175, 0.10614128, 0.        , 0.        ,\n",
      "       0.        , 0.        , 0.        , 0.        , 0.        ,\n",
      "       0.        , 0.        ])}, {'channel': 'C4', 'loc': array([0.05633782, 0.05633782, 0.09188944, 0.        , 0.        ,\n",
      "       0.        , 0.        , 0.        , 0.        , 0.        ,\n",
      "       0.        , 0.        ])}, {'channel': 'C5', 'loc': array([0.07175183, 0.05213076, 0.07419369, 0.        , 0.        ,\n",
      "       0.        , 0.        , 0.        , 0.        , 0.        ,\n",
      "       0.        , 0.        ])}, {'channel': 'C6', 'loc': array([0.07568899, 0.05499127, 0.05664531, 0.        , 0.        ,\n",
      "       0.        , 0.        , 0.        , 0.        , 0.        ,\n",
      "       0.        , 0.        ])}, {'channel': 'C7', 'loc': array([0.0768098 , 0.05580558, 0.03683328, 0.        , 0.        ,\n",
      "       0.        , 0.        , 0.        , 0.        , 0.        ,\n",
      "       0.        , 0.        ])}, {'channel': 'C8', 'loc': array([0.05580558, 0.0768098 , 0.03683328, 0.        , 0.        ,\n",
      "       0.        , 0.        , 0.        , 0.        , 0.        ,\n",
      "       0.        , 0.        ])}, {'channel': 'C9', 'loc': array([0.05499127, 0.07568899, 0.05664531, 0.        , 0.        ,\n",
      "       0.        , 0.        , 0.        , 0.        , 0.        ,\n",
      "       0.        , 0.        ])}, {'channel': 'C10', 'loc': array([0.05213076, 0.07175183, 0.07419369, 0.        , 0.        ,\n",
      "       0.        , 0.        , 0.        , 0.        , 0.        ,\n",
      "       0.        , 0.        ])}, {'channel': 'C11', 'loc': array([0.02656166, 0.04600615, 0.1189073 , 0.        , 0.        ,\n",
      "       0.        , 0.        , 0.        , 0.        , 0.        ,\n",
      "       0.        , 0.        ])}, {'channel': 'C12', 'loc': array([0.0267015 , 0.0629048 , 0.10614128, 0.        , 0.        ,\n",
      "       0.        , 0.        , 0.        , 0.        , 0.        ,\n",
      "       0.        , 0.        ])}, {'channel': 'C13', 'loc': array([0.031131  , 0.07334003, 0.09188944, 0.        , 0.        ,\n",
      "       0.        , 0.        , 0.        , 0.        , 0.        ,\n",
      "       0.        , 0.        ])}, {'channel': 'C14', 'loc': array([0.02740676, 0.08434934, 0.07419369, 0.        , 0.        ,\n",
      "       0.        , 0.        , 0.        , 0.        , 0.        ,\n",
      "       0.        , 0.        ])}, {'channel': 'C15', 'loc': array([0.02891062, 0.08897774, 0.05664531, 0.        , 0.        ,\n",
      "       0.        , 0.        , 0.        , 0.        , 0.        ,\n",
      "       0.        , 0.        ])}, {'channel': 'C16', 'loc': array([0.02933873, 0.09029533, 0.03683328, 0.        , 0.        ,\n",
      "       0.        , 0.        , 0.        , 0.        , 0.        ,\n",
      "       0.        , 0.        ])}, {'channel': 'C17', 'loc': array([5.81352869e-18, 9.49421286e-02, 3.68332827e-02, 0.00000000e+00,\n",
      "       0.00000000e+00, 0.00000000e+00, 0.00000000e+00, 0.00000000e+00,\n",
      "       0.00000000e+00, 0.00000000e+00, 0.00000000e+00, 0.00000000e+00])}, {'channel': 'C18', 'loc': array([5.72869790e-18, 9.35567365e-02, 5.66453117e-02, 0.00000000e+00,\n",
      "       0.00000000e+00, 0.00000000e+00, 0.00000000e+00, 0.00000000e+00,\n",
      "       0.00000000e+00, 0.00000000e+00, 0.00000000e+00, 0.00000000e+00])}, {'channel': 'C19', 'loc': array([5.43070484e-18, 8.86901405e-02, 7.41936901e-02, 0.00000000e+00,\n",
      "       0.00000000e+00, 0.00000000e+00, 0.00000000e+00, 0.00000000e+00,\n",
      "       0.00000000e+00, 0.00000000e+00, 0.00000000e+00, 0.00000000e+00])}, {'channel': 'C20', 'loc': array([4.87860733e-18, 7.96737040e-02, 9.18894432e-02, 0.00000000e+00,\n",
      "       0.00000000e+00, 0.00000000e+00, 0.00000000e+00, 0.00000000e+00,\n",
      "       0.00000000e+00, 0.00000000e+00, 0.00000000e+00, 0.00000000e+00])}, {'channel': 'C21', 'loc': array([4.18445162e-18, 6.83372810e-02, 1.06141280e-01, 0.00000000e+00,\n",
      "       0.00000000e+00, 0.00000000e+00, 0.00000000e+00, 0.00000000e+00,\n",
      "       0.00000000e+00, 0.00000000e+00, 0.00000000e+00, 0.00000000e+00])}, {'channel': 'C22', 'loc': array([3.25286555e-18, 5.31233258e-02, 1.18907304e-01, 0.00000000e+00,\n",
      "       0.00000000e+00, 0.00000000e+00, 0.00000000e+00, 0.00000000e+00,\n",
      "       0.00000000e+00, 0.00000000e+00, 0.00000000e+00, 0.00000000e+00])}, {'channel': 'C23', 'loc': array([2.27291122e-18, 3.71194572e-02, 1.27596696e-01, 0.00000000e+00,\n",
      "       0.00000000e+00, 0.00000000e+00, 0.00000000e+00, 0.00000000e+00,\n",
      "       0.00000000e+00, 0.00000000e+00, 0.00000000e+00, 0.00000000e+00])}, {'channel': 'C24', 'loc': array([-0.02656166,  0.04600615,  0.1189073 ,  0.        ,  0.        ,\n",
      "        0.        ,  0.        ,  0.        ,  0.        ,  0.        ,\n",
      "        0.        ,  0.        ])}, {'channel': 'C25', 'loc': array([-0.0267015 ,  0.0629048 ,  0.10614128,  0.        ,  0.        ,\n",
      "        0.        ,  0.        ,  0.        ,  0.        ,  0.        ,\n",
      "        0.        ,  0.        ])}, {'channel': 'C26', 'loc': array([-0.031131  ,  0.07334003,  0.09188944,  0.        ,  0.        ,\n",
      "        0.        ,  0.        ,  0.        ,  0.        ,  0.        ,\n",
      "        0.        ,  0.        ])}, {'channel': 'C27', 'loc': array([-0.02740676,  0.08434934,  0.07419369,  0.        ,  0.        ,\n",
      "        0.        ,  0.        ,  0.        ,  0.        ,  0.        ,\n",
      "        0.        ,  0.        ])}, {'channel': 'C28', 'loc': array([-0.02891062,  0.08897774,  0.05664531,  0.        ,  0.        ,\n",
      "        0.        ,  0.        ,  0.        ,  0.        ,  0.        ,\n",
      "        0.        ,  0.        ])}, {'channel': 'C29', 'loc': array([-0.02933873,  0.09029533,  0.03683328,  0.        ,  0.        ,\n",
      "        0.        ,  0.        ,  0.        ,  0.        ,  0.        ,\n",
      "        0.        ,  0.        ])}, {'channel': 'C30', 'loc': array([-0.05580558,  0.0768098 ,  0.03683328,  0.        ,  0.        ,\n",
      "        0.        ,  0.        ,  0.        ,  0.        ,  0.        ,\n",
      "        0.        ,  0.        ])}, {'channel': 'C31', 'loc': array([-0.05499127,  0.07568899,  0.05664531,  0.        ,  0.        ,\n",
      "        0.        ,  0.        ,  0.        ,  0.        ,  0.        ,\n",
      "        0.        ,  0.        ])}, {'channel': 'C32', 'loc': array([-0.05213076,  0.07175183,  0.07419369,  0.        ,  0.        ,\n",
      "        0.        ,  0.        ,  0.        ,  0.        ,  0.        ,\n",
      "        0.        ,  0.        ])}, {'channel': 'D1', 'loc': array([-0.0106547 ,  0.01466493,  0.13340332,  0.        ,  0.        ,\n",
      "        0.        ,  0.        ,  0.        ,  0.        ,  0.        ,\n",
      "        0.        ,  0.        ])}, {'channel': 'D2', 'loc': array([-0.02624742,  0.02624742,  0.1275967 ,  0.        ,  0.        ,\n",
      "        0.        ,  0.        ,  0.        ,  0.        ,  0.        ,\n",
      "        0.        ,  0.        ])}, {'channel': 'D3', 'loc': array([-0.04832175,  0.04832175,  0.10614128,  0.        ,  0.        ,\n",
      "        0.        ,  0.        ,  0.        ,  0.        ,  0.        ,\n",
      "        0.        ,  0.        ])}, {'channel': 'D4', 'loc': array([-0.05633782,  0.05633782,  0.09188944,  0.        ,  0.        ,\n",
      "        0.        ,  0.        ,  0.        ,  0.        ,  0.        ,\n",
      "        0.        ,  0.        ])}, {'channel': 'D5', 'loc': array([-0.07175183,  0.05213076,  0.07419369,  0.        ,  0.        ,\n",
      "        0.        ,  0.        ,  0.        ,  0.        ,  0.        ,\n",
      "        0.        ,  0.        ])}, {'channel': 'D6', 'loc': array([-0.07568899,  0.05499127,  0.05664531,  0.        ,  0.        ,\n",
      "        0.        ,  0.        ,  0.        ,  0.        ,  0.        ,\n",
      "        0.        ,  0.        ])}, {'channel': 'D7', 'loc': array([-0.0768098 ,  0.05580558,  0.03683328,  0.        ,  0.        ,\n",
      "        0.        ,  0.        ,  0.        ,  0.        ,  0.        ,\n",
      "        0.        ,  0.        ])}, {'channel': 'D8', 'loc': array([-0.09029533,  0.02933873,  0.03683328,  0.        ,  0.        ,\n",
      "        0.        ,  0.        ,  0.        ,  0.        ,  0.        ,\n",
      "        0.        ,  0.        ])}, {'channel': 'D9', 'loc': array([-0.08897774,  0.02891062,  0.05664531,  0.        ,  0.        ,\n",
      "        0.        ,  0.        ,  0.        ,  0.        ,  0.        ,\n",
      "        0.        ,  0.        ])}, {'channel': 'D10', 'loc': array([-0.08434934,  0.02740676,  0.07419369,  0.        ,  0.        ,\n",
      "        0.        ,  0.        ,  0.        ,  0.        ,  0.        ,\n",
      "        0.        ,  0.        ])}, {'channel': 'D11', 'loc': array([-0.07387217,  0.02984629,  0.09188944,  0.        ,  0.        ,\n",
      "        0.        ,  0.        ,  0.        ,  0.        ,  0.        ,\n",
      "        0.        ,  0.        ])}, {'channel': 'D12', 'loc': array([-0.06336122,  0.0255996 ,  0.10614128,  0.        ,  0.        ,\n",
      "        0.        ,  0.        ,  0.        ,  0.        ,  0.        ,\n",
      "        0.        ,  0.        ])}, {'channel': 'D13', 'loc': array([-0.04600615,  0.02656166,  0.1189073 ,  0.        ,  0.        ,\n",
      "        0.        ,  0.        ,  0.        ,  0.        ,  0.        ,\n",
      "        0.        ,  0.        ])}, {'channel': 'D14', 'loc': array([-3.71194572e-02, -2.27291122e-18,  1.27596696e-01,  0.00000000e+00,\n",
      "        0.00000000e+00,  0.00000000e+00,  0.00000000e+00,  0.00000000e+00,\n",
      "        0.00000000e+00,  0.00000000e+00,  0.00000000e+00,  0.00000000e+00])}, {'channel': 'D15', 'loc': array([-0.01723966, -0.00560151,  0.13340332,  0.        ,  0.        ,\n",
      "        0.        ,  0.        ,  0.        ,  0.        ,  0.        ,\n",
      "        0.        ,  0.        ])}, {'channel': 'D16', 'loc': array([-0.02624742, -0.02624742,  0.1275967 ,  0.        ,  0.        ,\n",
      "        0.        ,  0.        ,  0.        ,  0.        ,  0.        ,\n",
      "        0.        ,  0.        ])}, {'channel': 'D17', 'loc': array([-0.04600615, -0.02656166,  0.1189073 ,  0.        ,  0.        ,\n",
      "        0.        ,  0.        ,  0.        ,  0.        ,  0.        ,\n",
      "        0.        ,  0.        ])}, {'channel': 'D18', 'loc': array([-5.31233258e-02, -3.25286555e-18,  1.18907304e-01,  0.00000000e+00,\n",
      "        0.00000000e+00,  0.00000000e+00,  0.00000000e+00,  0.00000000e+00,\n",
      "        0.00000000e+00,  0.00000000e+00,  0.00000000e+00,  0.00000000e+00])}, {'channel': 'D19', 'loc': array([-6.83372810e-02, -4.18445162e-18,  1.06141280e-01,  0.00000000e+00,\n",
      "        0.00000000e+00,  0.00000000e+00,  0.00000000e+00,  0.00000000e+00,\n",
      "        0.00000000e+00,  0.00000000e+00,  0.00000000e+00,  0.00000000e+00])}, {'channel': 'D20', 'loc': array([-7.96737040e-02, -4.87860733e-18,  9.18894432e-02,  0.00000000e+00,\n",
      "        0.00000000e+00,  0.00000000e+00,  0.00000000e+00,  0.00000000e+00,\n",
      "        0.00000000e+00,  0.00000000e+00,  0.00000000e+00,  0.00000000e+00])}, {'channel': 'D21', 'loc': array([-8.86901405e-02, -5.43070484e-18,  7.41936901e-02,  0.00000000e+00,\n",
      "        0.00000000e+00,  0.00000000e+00,  0.00000000e+00,  0.00000000e+00,\n",
      "        0.00000000e+00,  0.00000000e+00,  0.00000000e+00,  0.00000000e+00])}, {'channel': 'D22', 'loc': array([-9.35567365e-02, -5.72869790e-18,  5.66453117e-02,  0.00000000e+00,\n",
      "        0.00000000e+00,  0.00000000e+00,  0.00000000e+00,  0.00000000e+00,\n",
      "        0.00000000e+00,  0.00000000e+00,  0.00000000e+00,  0.00000000e+00])}, {'channel': 'D23', 'loc': array([-9.49421286e-02, -5.81352869e-18,  3.68332827e-02,  0.00000000e+00,\n",
      "        0.00000000e+00,  0.00000000e+00,  0.00000000e+00,  0.00000000e+00,\n",
      "        0.00000000e+00,  0.00000000e+00,  0.00000000e+00,  0.00000000e+00])}, {'channel': 'D24', 'loc': array([-0.09029533, -0.02933873,  0.03683328,  0.        ,  0.        ,\n",
      "        0.        ,  0.        ,  0.        ,  0.        ,  0.        ,\n",
      "        0.        ,  0.        ])}, {'channel': 'D25', 'loc': array([-0.08897774, -0.02891062,  0.05664531,  0.        ,  0.        ,\n",
      "        0.        ,  0.        ,  0.        ,  0.        ,  0.        ,\n",
      "        0.        ,  0.        ])}, {'channel': 'D26', 'loc': array([-0.08434934, -0.02740676,  0.07419369,  0.        ,  0.        ,\n",
      "        0.        ,  0.        ,  0.        ,  0.        ,  0.        ,\n",
      "        0.        ,  0.        ])}, {'channel': 'D27', 'loc': array([-0.07387217, -0.02984629,  0.09188944,  0.        ,  0.        ,\n",
      "        0.        ,  0.        ,  0.        ,  0.        ,  0.        ,\n",
      "        0.        ,  0.        ])}, {'channel': 'D28', 'loc': array([-0.06336122, -0.0255996 ,  0.10614128,  0.        ,  0.        ,\n",
      "        0.        ,  0.        ,  0.        ,  0.        ,  0.        ,\n",
      "        0.        ,  0.        ])}, {'channel': 'D29', 'loc': array([-0.07175183, -0.05213076,  0.07419369,  0.        ,  0.        ,\n",
      "        0.        ,  0.        ,  0.        ,  0.        ,  0.        ,\n",
      "        0.        ,  0.        ])}, {'channel': 'D30', 'loc': array([-0.07568899, -0.05499127,  0.05664531,  0.        ,  0.        ,\n",
      "        0.        ,  0.        ,  0.        ,  0.        ,  0.        ,\n",
      "        0.        ,  0.        ])}, {'channel': 'D31', 'loc': array([-0.0768098 , -0.05580558,  0.03683328,  0.        ,  0.        ,\n",
      "        0.        ,  0.        ,  0.        ,  0.        ,  0.        ,\n",
      "        0.        ,  0.        ])}, {'channel': 'D32', 'loc': array([-0.07488678, -0.05440843,  0.01877838,  0.        ,  0.        ,\n",
      "        0.        ,  0.        ,  0.        ,  0.        ,  0.        ,\n",
      "        0.        ,  0.        ])}]\n"
     ]
    }
   ],
   "source": [
    "import numpy as np\n",
    "def check_chanlocs(raw):\n",
    "    # Initialize a report\n",
    "    report = {\n",
    "        \"missing_channels\": [],\n",
    "        \"nan_coordinates\": [],\n",
    "        \"invalid_channels\": [],\n",
    "        \"incorrect_dim\": [],\n",
    "        \"extra_elements\": []\n",
    "    }\n",
    "    # Check each channel's location information\n",
    "    for idx, ch in enumerate(raw.info['chs']):\n",
    "        loc = ch['loc']  # Channel location (should be a 4-element array, [X, Y, Z, 1])\n",
    "        # Check if location is None or contains NaNs\n",
    "        if loc is None or np.any(np.isnan(loc[:3])):  # Check if any X, Y, Z are NaN\n",
    "            report[\"missing_channels\"].append(ch['ch_name'])\n",
    "            report[\"nan_coordinates\"].append({\n",
    "                'channel': ch['ch_name'],\n",
    "                'X': loc[0] if len(loc) > 0 else None,\n",
    "                'Y': loc[1] if len(loc) > 1 else None,\n",
    "                'Z': loc[2] if len(loc) > 2 else None\n",
    "            })\n",
    "        # Check if the dimensions of the loc array are correct (should be 4)\n",
    "        if len(loc) != 4:\n",
    "            report[\"incorrect_dim\"].append({\n",
    "                'channel': ch['ch_name'],\n",
    "                'loc_length': len(loc)\n",
    "            })\n",
    "        # Check if there are any extra elements (should only be [X, Y, Z, 1])\n",
    "        if len(loc) > 4:\n",
    "            report[\"extra_elements\"].append({\n",
    "                'channel': ch['ch_name'],\n",
    "                'loc': loc\n",
    "            })\n",
    "        # Optionally, check if the coordinates are outside a reasonable range\n",
    "        if np.any(np.abs(loc[:3]) > 500):  # Arbitrary threshold of 500 mm for location range\n",
    "            report[\"invalid_channels\"].append({\n",
    "                'channel': ch['ch_name'],\n",
    "                'coordinates': loc[:3]\n",
    "            })\n",
    "    return report\n",
    "# Example usage:\n",
    "report = check_chanlocs(new_raw)\n",
    "# Print the report\n",
    "if not report[\"missing_channels\"] and not report[\"nan_coordinates\"] and not report[\"invalid_channels\"] and not report[\"incorrect_dim\"] and not report[\"extra_elements\"]:\n",
    "    print(\"All channel locations are fine!\")\n",
    "else:\n",
    "    print(\"Issues with channel locations:\")\n",
    "    if report[\"missing_channels\"]:\n",
    "        print(f\"  Missing locations for channels: {', '.join(report['missing_channels'])}\")\n",
    "    if report[\"nan_coordinates\"]:\n",
    "        print(f\"  Channels with NaN coordinates: {report['nan_coordinates']}\")\n",
    "    if report[\"invalid_channels\"]:\n",
    "        print(f\"  Channels with invalid coordinates (out of range): {report['invalid_channels']}\")\n",
    "    if report[\"incorrect_dim\"]:\n",
    "        print(f\"  Channels with incorrect dimensions (not 4 elements): {report['incorrect_dim']}\")\n",
    "    if report[\"extra_elements\"]:\n",
    "        print(f\"  Channels with extra elements in 'loc': {report['extra_elements']}\")"
   ],
   "metadata": {
    "collapsed": false,
    "ExecuteTime": {
     "end_time": "2025-04-17T09:51:08.825770200Z",
     "start_time": "2025-04-17T09:51:08.794519100Z"
    }
   },
   "id": "cfff7b4a18e10e30"
  },
  {
   "cell_type": "code",
   "outputs": [
    {
     "name": "stdout",
     "output_type": "stream",
     "text": [
      "Overwriting existing file.\n"
     ]
    },
    {
     "ename": "OSError",
     "evalue": "[Errno 22] Invalid argument",
     "output_type": "error",
     "traceback": [
      "\u001B[1;31m---------------------------------------------------------------------------\u001B[0m",
      "\u001B[1;31mOSError\u001B[0m                                   Traceback (most recent call last)",
      "Input \u001B[1;32mIn [64]\u001B[0m, in \u001B[0;36m<cell line: 2>\u001B[1;34m()\u001B[0m\n\u001B[0;32m      1\u001B[0m \u001B[38;5;66;03m# Save the Raw object to a .set file for EEGLAB\u001B[39;00m\n\u001B[1;32m----> 2\u001B[0m \u001B[43mmne\u001B[49m\u001B[38;5;241;43m.\u001B[39;49m\u001B[43mexport\u001B[49m\u001B[38;5;241;43m.\u001B[39;49m\u001B[43mexport_raw\u001B[49m\u001B[43m(\u001B[49m\u001B[38;5;124;43mf\u001B[39;49m\u001B[38;5;124;43m\"\u001B[39;49m\u001B[38;5;124;43mana/deconvolution/test/eeg_data_\u001B[39;49m\u001B[38;5;132;43;01m{\u001B[39;49;00m\u001B[43mg_num\u001B[49m\u001B[38;5;132;43;01m}\u001B[39;49;00m\u001B[38;5;124;43m.set\u001B[39;49m\u001B[38;5;124;43m\"\u001B[39;49m\u001B[43m,\u001B[49m\u001B[43mraw\u001B[49m\u001B[38;5;241;43m=\u001B[39;49m\u001B[43mnew_raw\u001B[49m\u001B[43m,\u001B[49m\u001B[43moverwrite\u001B[49m\u001B[38;5;241;43m=\u001B[39;49m\u001B[38;5;28;43;01mTrue\u001B[39;49;00m\u001B[43m)\u001B[49m\n",
      "File \u001B[1;32m<decorator-gen-567>:12\u001B[0m, in \u001B[0;36mexport_raw\u001B[1;34m(fname, raw, fmt, physical_range, add_ch_type, overwrite, verbose)\u001B[0m\n",
      "File \u001B[1;32m~\\anaconda3\\envs\\mne\\lib\\site-packages\\mne\\export\\_export.py:59\u001B[0m, in \u001B[0;36mexport_raw\u001B[1;34m(fname, raw, fmt, physical_range, add_ch_type, overwrite, verbose)\u001B[0m\n\u001B[0;32m     57\u001B[0m \u001B[38;5;28;01mif\u001B[39;00m fmt \u001B[38;5;241m==\u001B[39m \u001B[38;5;124m'\u001B[39m\u001B[38;5;124meeglab\u001B[39m\u001B[38;5;124m'\u001B[39m:\n\u001B[0;32m     58\u001B[0m     \u001B[38;5;28;01mfrom\u001B[39;00m \u001B[38;5;21;01m.\u001B[39;00m\u001B[38;5;21;01m_eeglab\u001B[39;00m \u001B[38;5;28;01mimport\u001B[39;00m _export_raw\n\u001B[1;32m---> 59\u001B[0m     \u001B[43m_export_raw\u001B[49m\u001B[43m(\u001B[49m\u001B[43mfname\u001B[49m\u001B[43m,\u001B[49m\u001B[43m \u001B[49m\u001B[43mraw\u001B[49m\u001B[43m)\u001B[49m\n\u001B[0;32m     60\u001B[0m \u001B[38;5;28;01melif\u001B[39;00m fmt \u001B[38;5;241m==\u001B[39m \u001B[38;5;124m'\u001B[39m\u001B[38;5;124medf\u001B[39m\u001B[38;5;124m'\u001B[39m:\n\u001B[0;32m     61\u001B[0m     \u001B[38;5;28;01mfrom\u001B[39;00m \u001B[38;5;21;01m.\u001B[39;00m\u001B[38;5;21;01m_edf\u001B[39;00m \u001B[38;5;28;01mimport\u001B[39;00m _export_raw\n",
      "File \u001B[1;32m~\\anaconda3\\envs\\mne\\lib\\site-packages\\mne\\export\\_eeglab.py:29\u001B[0m, in \u001B[0;36m_export_raw\u001B[1;34m(fname, raw)\u001B[0m\n\u001B[0;32m     24\u001B[0m cart_coords \u001B[38;5;241m=\u001B[39m _get_als_coords_from_chs(raw\u001B[38;5;241m.\u001B[39minfo[\u001B[38;5;124m'\u001B[39m\u001B[38;5;124mchs\u001B[39m\u001B[38;5;124m'\u001B[39m], drop_chs)\n\u001B[0;32m     26\u001B[0m annotations \u001B[38;5;241m=\u001B[39m [raw\u001B[38;5;241m.\u001B[39mannotations\u001B[38;5;241m.\u001B[39mdescription,\n\u001B[0;32m     27\u001B[0m                raw\u001B[38;5;241m.\u001B[39mannotations\u001B[38;5;241m.\u001B[39monset,\n\u001B[0;32m     28\u001B[0m                raw\u001B[38;5;241m.\u001B[39mannotations\u001B[38;5;241m.\u001B[39mduration]\n\u001B[1;32m---> 29\u001B[0m \u001B[43meeglabio\u001B[49m\u001B[38;5;241;43m.\u001B[39;49m\u001B[43mraw\u001B[49m\u001B[38;5;241;43m.\u001B[39;49m\u001B[43mexport_set\u001B[49m\u001B[43m(\u001B[49m\n\u001B[0;32m     30\u001B[0m \u001B[43m    \u001B[49m\u001B[43mfname\u001B[49m\u001B[43m,\u001B[49m\u001B[43m \u001B[49m\u001B[43mdata\u001B[49m\u001B[38;5;241;43m=\u001B[39;49m\u001B[43mraw\u001B[49m\u001B[38;5;241;43m.\u001B[39;49m\u001B[43mget_data\u001B[49m\u001B[43m(\u001B[49m\u001B[43mpicks\u001B[49m\u001B[38;5;241;43m=\u001B[39;49m\u001B[43mch_names\u001B[49m\u001B[43m)\u001B[49m\u001B[43m,\u001B[49m\u001B[43m \u001B[49m\u001B[43msfreq\u001B[49m\u001B[38;5;241;43m=\u001B[39;49m\u001B[43mraw\u001B[49m\u001B[38;5;241;43m.\u001B[39;49m\u001B[43minfo\u001B[49m\u001B[43m[\u001B[49m\u001B[38;5;124;43m'\u001B[39;49m\u001B[38;5;124;43msfreq\u001B[39;49m\u001B[38;5;124;43m'\u001B[39;49m\u001B[43m]\u001B[49m\u001B[43m,\u001B[49m\n\u001B[0;32m     31\u001B[0m \u001B[43m    \u001B[49m\u001B[43mch_names\u001B[49m\u001B[38;5;241;43m=\u001B[39;49m\u001B[43mch_names\u001B[49m\u001B[43m,\u001B[49m\u001B[43m \u001B[49m\u001B[43mch_locs\u001B[49m\u001B[38;5;241;43m=\u001B[39;49m\u001B[43mcart_coords\u001B[49m\u001B[43m,\u001B[49m\u001B[43m \u001B[49m\u001B[43mannotations\u001B[49m\u001B[38;5;241;43m=\u001B[39;49m\u001B[43mannotations\u001B[49m\u001B[43m)\u001B[49m\n",
      "File \u001B[1;32m~\\anaconda3\\envs\\mne\\lib\\site-packages\\eeglabio\\raw.py:84\u001B[0m, in \u001B[0;36mexport_set\u001B[1;34m(fname, data, sfreq, ch_names, ch_locs, annotations, ref_channels, ch_types)\u001B[0m\n\u001B[0;32m     78\u001B[0m     events \u001B[38;5;241m=\u001B[39m fromarrays([annotations[\u001B[38;5;241m0\u001B[39m],\n\u001B[0;32m     79\u001B[0m                          annotations[\u001B[38;5;241m1\u001B[39m] \u001B[38;5;241m*\u001B[39m sfreq \u001B[38;5;241m+\u001B[39m \u001B[38;5;241m1\u001B[39m,\n\u001B[0;32m     80\u001B[0m                          annotations[\u001B[38;5;241m2\u001B[39m] \u001B[38;5;241m*\u001B[39m sfreq],\n\u001B[0;32m     81\u001B[0m                         names\u001B[38;5;241m=\u001B[39m[\u001B[38;5;124m\"\u001B[39m\u001B[38;5;124mtype\u001B[39m\u001B[38;5;124m\"\u001B[39m, \u001B[38;5;124m\"\u001B[39m\u001B[38;5;124mlatency\u001B[39m\u001B[38;5;124m\"\u001B[39m, \u001B[38;5;124m\"\u001B[39m\u001B[38;5;124mduration\u001B[39m\u001B[38;5;124m\"\u001B[39m])\n\u001B[0;32m     82\u001B[0m     eeg_d[\u001B[38;5;124m'\u001B[39m\u001B[38;5;124mevent\u001B[39m\u001B[38;5;124m'\u001B[39m] \u001B[38;5;241m=\u001B[39m events\n\u001B[1;32m---> 84\u001B[0m \u001B[43msavemat\u001B[49m\u001B[43m(\u001B[49m\u001B[38;5;28;43mstr\u001B[39;49m\u001B[43m(\u001B[49m\u001B[43mfname\u001B[49m\u001B[43m)\u001B[49m\u001B[43m,\u001B[49m\u001B[43m \u001B[49m\u001B[43meeg_d\u001B[49m\u001B[43m,\u001B[49m\u001B[43m \u001B[49m\u001B[43mappendmat\u001B[49m\u001B[38;5;241;43m=\u001B[39;49m\u001B[38;5;28;43;01mFalse\u001B[39;49;00m\u001B[43m)\u001B[49m\n",
      "File \u001B[1;32m~\\anaconda3\\envs\\mne\\lib\\site-packages\\scipy\\io\\matlab\\_mio.py:298\u001B[0m, in \u001B[0;36msavemat\u001B[1;34m(file_name, mdict, appendmat, format, long_field_names, do_compression, oned_as)\u001B[0m\n\u001B[0;32m    296\u001B[0m \u001B[38;5;28;01melse\u001B[39;00m:\n\u001B[0;32m    297\u001B[0m     \u001B[38;5;28;01mraise\u001B[39;00m \u001B[38;5;167;01mValueError\u001B[39;00m(\u001B[38;5;124m\"\u001B[39m\u001B[38;5;124mFormat should be \u001B[39m\u001B[38;5;124m'\u001B[39m\u001B[38;5;124m4\u001B[39m\u001B[38;5;124m'\u001B[39m\u001B[38;5;124m or \u001B[39m\u001B[38;5;124m'\u001B[39m\u001B[38;5;124m5\u001B[39m\u001B[38;5;124m'\u001B[39m\u001B[38;5;124m\"\u001B[39m)\n\u001B[1;32m--> 298\u001B[0m \u001B[43mMW\u001B[49m\u001B[38;5;241;43m.\u001B[39;49m\u001B[43mput_variables\u001B[49m\u001B[43m(\u001B[49m\u001B[43mmdict\u001B[49m\u001B[43m)\u001B[49m\n",
      "File \u001B[1;32m~\\anaconda3\\envs\\mne\\lib\\site-packages\\scipy\\io\\matlab\\_mio5.py:892\u001B[0m, in \u001B[0;36mMatFile5Writer.put_variables\u001B[1;34m(self, mdict, write_header)\u001B[0m\n\u001B[0;32m    890\u001B[0m     \u001B[38;5;28mself\u001B[39m\u001B[38;5;241m.\u001B[39mfile_stream\u001B[38;5;241m.\u001B[39mwrite(out_str)\n\u001B[0;32m    891\u001B[0m \u001B[38;5;28;01melse\u001B[39;00m:  \u001B[38;5;66;03m# not compressing\u001B[39;00m\n\u001B[1;32m--> 892\u001B[0m     \u001B[38;5;28;43mself\u001B[39;49m\u001B[38;5;241;43m.\u001B[39;49m\u001B[43m_matrix_writer\u001B[49m\u001B[38;5;241;43m.\u001B[39;49m\u001B[43mwrite_top\u001B[49m\u001B[43m(\u001B[49m\u001B[43mvar\u001B[49m\u001B[43m,\u001B[49m\u001B[43m \u001B[49m\u001B[43mname\u001B[49m\u001B[38;5;241;43m.\u001B[39;49m\u001B[43mencode\u001B[49m\u001B[43m(\u001B[49m\u001B[38;5;124;43m'\u001B[39;49m\u001B[38;5;124;43mlatin1\u001B[39;49m\u001B[38;5;124;43m'\u001B[39;49m\u001B[43m)\u001B[49m\u001B[43m,\u001B[49m\u001B[43m \u001B[49m\u001B[43mis_global\u001B[49m\u001B[43m)\u001B[49m\n",
      "File \u001B[1;32m~\\anaconda3\\envs\\mne\\lib\\site-packages\\scipy\\io\\matlab\\_mio5.py:633\u001B[0m, in \u001B[0;36mVarWriter5.write_top\u001B[1;34m(self, arr, name, is_global)\u001B[0m\n\u001B[0;32m    631\u001B[0m \u001B[38;5;28mself\u001B[39m\u001B[38;5;241m.\u001B[39m_var_name \u001B[38;5;241m=\u001B[39m name\n\u001B[0;32m    632\u001B[0m \u001B[38;5;66;03m# write the header and data\u001B[39;00m\n\u001B[1;32m--> 633\u001B[0m \u001B[38;5;28;43mself\u001B[39;49m\u001B[38;5;241;43m.\u001B[39;49m\u001B[43mwrite\u001B[49m\u001B[43m(\u001B[49m\u001B[43marr\u001B[49m\u001B[43m)\u001B[49m\n",
      "File \u001B[1;32m~\\anaconda3\\envs\\mne\\lib\\site-packages\\scipy\\io\\matlab\\_mio5.py:672\u001B[0m, in \u001B[0;36mVarWriter5.write\u001B[1;34m(self, arr)\u001B[0m\n\u001B[0;32m    670\u001B[0m     \u001B[38;5;28mself\u001B[39m\u001B[38;5;241m.\u001B[39mwrite_char(narr, codec)\n\u001B[0;32m    671\u001B[0m \u001B[38;5;28;01melse\u001B[39;00m:\n\u001B[1;32m--> 672\u001B[0m     \u001B[38;5;28;43mself\u001B[39;49m\u001B[38;5;241;43m.\u001B[39;49m\u001B[43mwrite_numeric\u001B[49m\u001B[43m(\u001B[49m\u001B[43mnarr\u001B[49m\u001B[43m)\u001B[49m\n\u001B[0;32m    673\u001B[0m \u001B[38;5;28mself\u001B[39m\u001B[38;5;241m.\u001B[39mupdate_matrix_tag(mat_tag_pos)\n",
      "File \u001B[1;32m~\\anaconda3\\envs\\mne\\lib\\site-packages\\scipy\\io\\matlab\\_mio5.py:698\u001B[0m, in \u001B[0;36mVarWriter5.write_numeric\u001B[1;34m(self, arr)\u001B[0m\n\u001B[0;32m    696\u001B[0m     \u001B[38;5;28mself\u001B[39m\u001B[38;5;241m.\u001B[39mwrite_element(arr\u001B[38;5;241m.\u001B[39mimag)\n\u001B[0;32m    697\u001B[0m \u001B[38;5;28;01melse\u001B[39;00m:\n\u001B[1;32m--> 698\u001B[0m     \u001B[38;5;28;43mself\u001B[39;49m\u001B[38;5;241;43m.\u001B[39;49m\u001B[43mwrite_element\u001B[49m\u001B[43m(\u001B[49m\u001B[43marr\u001B[49m\u001B[43m)\u001B[49m\n",
      "File \u001B[1;32m~\\anaconda3\\envs\\mne\\lib\\site-packages\\scipy\\io\\matlab\\_mio5.py:539\u001B[0m, in \u001B[0;36mVarWriter5.write_element\u001B[1;34m(self, arr, mdtype)\u001B[0m\n\u001B[0;32m    537\u001B[0m     \u001B[38;5;28mself\u001B[39m\u001B[38;5;241m.\u001B[39mwrite_smalldata_element(arr, mdtype, byte_count)\n\u001B[0;32m    538\u001B[0m \u001B[38;5;28;01melse\u001B[39;00m:\n\u001B[1;32m--> 539\u001B[0m     \u001B[38;5;28;43mself\u001B[39;49m\u001B[38;5;241;43m.\u001B[39;49m\u001B[43mwrite_regular_element\u001B[49m\u001B[43m(\u001B[49m\u001B[43marr\u001B[49m\u001B[43m,\u001B[49m\u001B[43m \u001B[49m\u001B[43mmdtype\u001B[49m\u001B[43m,\u001B[49m\u001B[43m \u001B[49m\u001B[43mbyte_count\u001B[49m\u001B[43m)\u001B[49m\n",
      "File \u001B[1;32m~\\anaconda3\\envs\\mne\\lib\\site-packages\\scipy\\io\\matlab\\_mio5.py:555\u001B[0m, in \u001B[0;36mVarWriter5.write_regular_element\u001B[1;34m(self, arr, mdtype, byte_count)\u001B[0m\n\u001B[0;32m    553\u001B[0m tag[\u001B[38;5;124m'\u001B[39m\u001B[38;5;124mbyte_count\u001B[39m\u001B[38;5;124m'\u001B[39m] \u001B[38;5;241m=\u001B[39m byte_count\n\u001B[0;32m    554\u001B[0m \u001B[38;5;28mself\u001B[39m\u001B[38;5;241m.\u001B[39mwrite_bytes(tag)\n\u001B[1;32m--> 555\u001B[0m \u001B[38;5;28;43mself\u001B[39;49m\u001B[38;5;241;43m.\u001B[39;49m\u001B[43mwrite_bytes\u001B[49m\u001B[43m(\u001B[49m\u001B[43marr\u001B[49m\u001B[43m)\u001B[49m\n\u001B[0;32m    556\u001B[0m \u001B[38;5;66;03m# pad to next 64-bit boundary\u001B[39;00m\n\u001B[0;32m    557\u001B[0m bc_mod_8 \u001B[38;5;241m=\u001B[39m byte_count \u001B[38;5;241m%\u001B[39m \u001B[38;5;241m8\u001B[39m\n",
      "File \u001B[1;32m~\\anaconda3\\envs\\mne\\lib\\site-packages\\scipy\\io\\matlab\\_mio5.py:523\u001B[0m, in \u001B[0;36mVarWriter5.write_bytes\u001B[1;34m(self, arr)\u001B[0m\n\u001B[0;32m    522\u001B[0m \u001B[38;5;28;01mdef\u001B[39;00m \u001B[38;5;21mwrite_bytes\u001B[39m(\u001B[38;5;28mself\u001B[39m, arr):\n\u001B[1;32m--> 523\u001B[0m     \u001B[38;5;28;43mself\u001B[39;49m\u001B[38;5;241;43m.\u001B[39;49m\u001B[43mfile_stream\u001B[49m\u001B[38;5;241;43m.\u001B[39;49m\u001B[43mwrite\u001B[49m\u001B[43m(\u001B[49m\u001B[43marr\u001B[49m\u001B[38;5;241;43m.\u001B[39;49m\u001B[43mtobytes\u001B[49m\u001B[43m(\u001B[49m\u001B[43morder\u001B[49m\u001B[38;5;241;43m=\u001B[39;49m\u001B[38;5;124;43m'\u001B[39;49m\u001B[38;5;124;43mF\u001B[39;49m\u001B[38;5;124;43m'\u001B[39;49m\u001B[43m)\u001B[49m\u001B[43m)\u001B[49m\n",
      "\u001B[1;31mOSError\u001B[0m: [Errno 22] Invalid argument"
     ]
    }
   ],
   "source": [
    "\n",
    "# Save the Raw object to a .set file for EEGLAB\n",
    "mne.export.export_raw(f\"ana/deconvolution/test/eeg_data_{g_num}.set\",raw=new_raw,overwrite=True)"
   ],
   "metadata": {
    "collapsed": false,
    "ExecuteTime": {
     "end_time": "2025-04-17T10:01:39.949816600Z",
     "start_time": "2025-04-17T10:00:36.552857300Z"
    }
   },
   "id": "ce05e57ff18adae0",
   "execution_count": 64
  },
  {
   "cell_type": "markdown",
   "source": [
    " Test for julia export"
   ],
   "metadata": {
    "collapsed": false
   },
   "id": "b068b59e6c17be4e"
  },
  {
   "cell_type": "code",
   "outputs": [],
   "source": [
    "# Map condition names to numeric IDs\n",
    "unique_conditions = sorted(set(condition_names))  # Should be [\"hep\", \"vep\"]\n",
    "condition_to_id = {cond: idx + 1 for idx, cond in enumerate(unique_conditions)}  # Start IDs at 1\n",
    "event_ids = np.array([condition_to_id[cond] for cond in filtered_conditions])\n",
    "\n",
    "\n",
    "# Create the events array: [sample, prev_id, event_id]\n",
    "events = np.column_stack([\n",
    "    filtered_samples,  # Sample indices\n",
    "    np.zeros(len(filtered_samples), dtype=int),  # prev_id (set to 0)\n",
    "    event_ids  # Event IDs\n",
    "])"
   ],
   "metadata": {
    "collapsed": false,
    "ExecuteTime": {
     "end_time": "2025-04-08T15:12:39.414719Z",
     "start_time": "2025-04-08T15:12:39.403954Z"
    }
   },
   "id": "de7d4108f4d59d51",
   "execution_count": 22
  },
  {
   "cell_type": "code",
   "outputs": [],
   "source": [
    "\n",
    "# Create a dictionary for the .mat file\n",
    "mat_dict = {\n",
    "    \"eeg_data\": data,  # EEG data (channels × time)\n",
    "    \"events\": events,  # Events array (n_events × 3: [sample, prev_id, event_id])\n",
    "    \"channel_names\": channel_names,  # List of channel names\n",
    "    \"sfreq\": sfreq,  # Sampling rate\n",
    "    \"event_descriptions\": np.array(filtered_conditions),  # Remapped condition names\n",
    "    \"condition_to_id\": np.array(list(condition_to_id.items()))  # Mapping of conditions to IDs\n",
    "}"
   ],
   "metadata": {
    "collapsed": false,
    "ExecuteTime": {
     "end_time": "2025-04-08T15:12:40.158377Z",
     "start_time": "2025-04-08T15:12:40.154658Z"
    }
   },
   "id": "83bb28f3627b7584",
   "execution_count": 23
  },
  {
   "cell_type": "code",
   "outputs": [
    {
     "data": {
      "text/plain": "'/Volumes/BBC/BBC/WP1/data/EEG/tsk'"
     },
     "execution_count": 28,
     "metadata": {},
     "output_type": "execute_result"
    }
   ],
   "source": [
    "os.getcwd()"
   ],
   "metadata": {
    "collapsed": false,
    "ExecuteTime": {
     "end_time": "2025-04-08T15:23:39.252033Z",
     "start_time": "2025-04-08T15:23:39.247277Z"
    }
   },
   "id": "79124c0edaa28207",
   "execution_count": 28
  },
  {
   "cell_type": "code",
   "outputs": [],
   "source": [
    "# Save to a .mat file\n",
    "scipy.io.savemat(\"ana/deconvolution/test/eeg_data_g11.mat\", mat_dict)"
   ],
   "metadata": {
    "collapsed": false,
    "ExecuteTime": {
     "end_time": "2025-04-08T15:40:56.412386Z",
     "start_time": "2025-04-08T15:24:46.782985Z"
    }
   },
   "id": "5669f03690ea911c",
   "execution_count": 29
  },
  {
   "cell_type": "code",
   "outputs": [],
   "source": [
    "\n",
    "\n",
    "\n",
    "# Parse the descriptions and filter/remap events\n",
    "filtered_samples = []\n",
    "filtered_conditions = []\n",
    "condition_names = []\n",
    "\n",
    "for i, desc in enumerate(annot_dict[\"description\"]):\n",
    "    # Split the description into tags\n",
    "    tags = desc.split(\"/\")\n",
    "\n",
    "    # Check if the event matches the stimulus criteria\n",
    "    # Must contain \"rep\", \"normal\", \"correct\"\n",
    "    if (\n",
    "            \"rep\" in tags[1].lower() and  # Check for \"rep\" in the second tag\n",
    "            \"normal\" in tags[1].lower() and  # Check for \"normal\" in the second tag\n",
    "            \"correct\" in tags[2].lower()  # Check for \"correct\" in the third tag\n",
    "    ):\n",
    "        # Check for hep events with RRCA or RRCU\n",
    "        if \"hep\" in tags[0].lower():\n",
    "            if tags[-1] in [\"RRCA\", \"RRCU\"]:\n",
    "                condition_name = \"hep\"  # Collapse RRCA and RRCU into \"hep\"\n",
    "            else:\n",
    "                continue  # Skip if not RRCA or RRCU\n",
    "            filtered_samples.append(sample_indices[i])\n",
    "            condition_names.append(condition_name)\n",
    "            filtered_conditions.append(condition_name)\n",
    "\n",
    "        # Check for vep events with aware or unaware\n",
    "        elif \"vep\" in tags[0].lower():\n",
    "            if \"aware\" in tags[3].lower() or \"unaware\" in tags[3].lower():\n",
    "                condition_name = \"vep\"  # Collapse aware and unaware into \"vep\"\n",
    "            else:\n",
    "                continue  # Skip if not aware or unaware\n",
    "            filtered_samples.append(sample_indices[i])\n",
    "            condition_names.append(condition_name)\n",
    "            filtered_conditions.append(condition_name)\n",
    "\n",
    "# Map condition names to numeric IDs\n",
    "unique_conditions = sorted(set(condition_names))  # Should be [\"hep\", \"vep\"]\n",
    "condition_to_id = {cond: idx + 1 for idx, cond in enumerate(unique_conditions)}  # Start IDs at 1\n",
    "event_ids = np.array([condition_to_id[cond] for cond in filtered_conditions])\n",
    "\n",
    "# Create the events array: [sample, prev_id, event_id]\n",
    "events = np.column_stack([\n",
    "    filtered_samples,  # Sample indices\n",
    "    np.zeros(len(filtered_samples), dtype=int),  # prev_id (set to 0)\n",
    "    event_ids  # Event IDs\n",
    "])\n",
    "\n",
    "# Create a dictionary for the .mat file\n",
    "mat_dict = {\n",
    "    \"eeg_data\": data,  # EEG data (channels × time)\n",
    "    \"events\": events,  # Events array (n_events × 3: [sample, prev_id, event_id])\n",
    "    \"channel_names\": channel_names,  # List of channel names\n",
    "    \"sfreq\": sfreq,  # Sampling rate\n",
    "    \"event_descriptions\": np.array(filtered_conditions),  # Remapped condition names\n",
    "    \"condition_to_id\": np.array(list(condition_to_id.items()))  # Mapping of conditions to IDs\n",
    "}\n",
    "\n",
    "# Save to a .mat file\n",
    "scipy.io.savemat(\"eeg_data_filtered.mat\", mat_dict)\n",
    "\n",
    "print(\"Filtered data exported to eeg_data_filtered.mat\")\n",
    "print(\"Unique conditions:\", unique_conditions)"
   ],
   "metadata": {
    "collapsed": false
   },
   "id": "9365f55ac38903c6"
  },
  {
   "cell_type": "code",
   "outputs": [
    {
     "name": "stderr",
     "output_type": "stream",
     "text": [
      "Matplotlib is building the font cache; this may take a moment.\n"
     ]
    },
    {
     "name": "stdout",
     "output_type": "stream",
     "text": [
      "Using qt as 2D backend.\n",
      "Opening raw-browser...\n",
      "Using pyopengl with version 3.1.7\n"
     ]
    },
    {
     "data": {
      "text/plain": "<mne_qt_browser._pg_figure.MNEQtBrowser at 0x16a3a33a0>"
     },
     "execution_count": 8,
     "metadata": {},
     "output_type": "execute_result"
    }
   ],
   "source": [
    "raw.plot()"
   ],
   "metadata": {
    "collapsed": false,
    "ExecuteTime": {
     "end_time": "2025-04-08T14:23:28.062843Z",
     "start_time": "2025-04-08T14:23:08.934362Z"
    }
   },
   "id": "c7174090947930be",
   "execution_count": 8
  },
  {
   "cell_type": "code",
   "outputs": [],
   "source": [
    "\n",
    "\n",
    "\n",
    "\n",
    "\n",
    "\n",
    "# Export the data as a NumPy array\n",
    "np.save(\"eeg_data.npy\", data)\n",
    "\n",
    "# Export event information (if available)\n",
    "events = mne.find_events(raw)  # Shape: (n_events, 3) - [sample, prev_id, event_id]\n",
    "events_df = pd.DataFrame(events, columns=[\"sample\", \"prev_id\", \"event_id\"])\n",
    "events_df.to_csv(\"events.csv\", index=False)\n",
    "\n",
    "# Optionally save channel info\n",
    "info_df = pd.DataFrame({\"channel\": channel_names})\n",
    "info_df.to_csv(\"channel_info.csv\", index=False)"
   ],
   "metadata": {
    "collapsed": false
   },
   "id": "6a2daba30b8234a7"
  }
 ],
 "metadata": {
  "kernelspec": {
   "name": "conda-env-mne-py",
   "language": "python",
   "display_name": "Python [conda env:mne]"
  },
  "language_info": {
   "codemirror_mode": {
    "name": "ipython",
    "version": 2
   },
   "file_extension": ".py",
   "mimetype": "text/x-python",
   "name": "python",
   "nbconvert_exporter": "python",
   "pygments_lexer": "ipython2",
   "version": "2.7.6"
  }
 },
 "nbformat": 4,
 "nbformat_minor": 5
}
