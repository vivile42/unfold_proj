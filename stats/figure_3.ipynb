{
 "cells": [
  {
   "cell_type": "code",
   "execution_count": 1,
   "id": "initial_id",
   "metadata": {
    "collapsed": true,
    "ExecuteTime": {
     "end_time": "2025-08-29T15:57:04.934933100Z",
     "start_time": "2025-08-29T15:57:03.574013800Z"
    }
   },
   "outputs": [
    {
     "name": "stderr",
     "output_type": "stream",
     "text": [
      "C:\\Users\\Vivi\\anaconda3\\envs\\mne\\lib\\site-packages\\outdated\\utils.py:14: OutdatedPackageWarning: The package pingouin is out of date. Your version is 0.5.3, the latest is 0.5.5.\n",
      "Set the environment variable OUTDATED_IGNORE=1 to disable these warnings.\n",
      "  return warn(\n",
      "C:\\Users\\Vivi\\anaconda3\\envs\\mne\\lib\\site-packages\\outdated\\utils.py:14: OutdatedPackageWarning: The package outdated is out of date. Your version is 0.2.1, the latest is 0.2.2.\n",
      "Set the environment variable OUTDATED_IGNORE=1 to disable these warnings.\n",
      "  return warn(\n"
     ]
    }
   ],
   "source": [
    "\n",
    "import pandas as pd\n",
    "import re #regex library to format fast to read into pd \n",
    "import os\n",
    "\n",
    "import matplotlib.pyplot as plt\n",
    "import feather\n",
    "\n",
    "import numpy as np\n",
    "import platform\n",
    "import mne\n",
    "\n",
    "\n",
    "from mne.channels import find_ch_adjacency, make_1020_channel_selections\n",
    "from mne.stats import spatio_temporal_cluster_test\n",
    "from mne.stats import (ttest_1samp_no_p, bonferroni_correction, fdr_correction,\n",
    "\n",
    "\n",
    "                       permutation_t_test, permutation_cluster_1samp_test,spatio_temporal_cluster_1samp_test)\n",
    "import sys\n",
    "if platform.system()=='Darwin':\n",
    "    os.chdir('/Volumes/BBC/BBC/WP1/data/EEG/tsk/')\n",
    "    #sys.path.append('/Users/leupinv/BBC/WP1/data/Code/python/BBC')\n",
    "    #if this doesn't work pound line right above this, restart the kernel, rerun the cell. \n",
    "    #Then uncomment the same line and rerun\n",
    "\n",
    "else:\n",
    "    #os.chdir('Z:/BBC/WP1/data/EEG/tsk')\n",
    "    #sys.path.append('C:/Users/Vivi/switchdrive/BBC/WP1/data/Code/python/BBC')\n",
    "    os.chdir('Z:/BBC/WP1/data/EEG/tsk')\n",
    "\n",
    "from base.files_in_out import getListOfFiles,GetFiles\n",
    "from stats.stats_helper import filter_list, tTest_ana\n",
    "import stats.t_tests_cluster as clus\n",
    "import stats.stats_helper as s_hp\n",
    "import base.base_constants as cs\n",
    "from stats.stats_helper import filter_list, tTest_ana, filter_list_equal"
   ]
  },
  {
   "cell_type": "code",
   "execution_count": 2,
   "outputs": [],
   "source": [
    "from  stats.t_tests_cluster import plot_from_BF\n"
   ],
   "metadata": {
    "collapsed": false,
    "ExecuteTime": {
     "end_time": "2025-08-29T15:57:05.870823100Z",
     "start_time": "2025-08-29T15:57:05.847771100Z"
    }
   }
  },
  {
   "cell_type": "code",
   "execution_count": 3,
   "outputs": [],
   "source": [
    "%load_ext autoreload\n",
    "%autoreload 2\n",
    "import matplotlib as mpl\n",
    "mpl.rcParams['svg.fonttype']='none'\n",
    "mpl.rcParams['text.usetex']=False\n",
    "plt.style.use('default')\n",
    "\n",
    "mpl.rcParams['svg.fonttype']='none'\n",
    "mpl.rcParams['text.usetex']=False"
   ],
   "metadata": {
    "collapsed": false,
    "ExecuteTime": {
     "end_time": "2025-08-29T15:57:06.615135900Z",
     "start_time": "2025-08-29T15:57:06.463215Z"
    }
   },
   "id": "66547ab36728c8ae"
  },
  {
   "cell_type": "code",
   "execution_count": 4,
   "outputs": [],
   "source": [
    "def data_cutter(data, time_limits=[-0.3, 0.8], new_time_limits=[0.2, 0.6], sfreq=256):\n",
    "    \"\"\"\n",
    "    Cuts a 3D EEG data array ( time x electrodes) based on specified time limits.\n",
    "    Parameters:\n",
    "        data (np.ndarray): EEG data of shape (electrodes, time)\n",
    "        time_limits (list of float): Original epoch time range in seconds (e.g., [-0.3, 0.8])\n",
    "        new_time_limits (list of float): Desired time range to extract (e.g., [0.2, 0.6])\n",
    "        sfreq (int): Sampling frequency in Hz (default is 256)\n",
    "    Returns:\n",
    "        np.ndarray: The cut data with shape (new_time_points,electrodes)\n",
    "    \"\"\"\n",
    "    # Calculate the sample indices corresponding to the new time limits\n",
    "    start_idx = int(np.round((new_time_limits[0] - time_limits[0]) * sfreq))\n",
    "    end_idx = int(np.round((new_time_limits[1] - time_limits[0]) * sfreq))\n",
    "    # Cut the data along the time dimension (axis=1)\n",
    "    return data[start_idx:end_idx,:]\n",
    "\n"
   ],
   "metadata": {
    "collapsed": false,
    "ExecuteTime": {
     "end_time": "2025-08-29T15:57:07.405809800Z",
     "start_time": "2025-08-29T15:57:07.290273700Z"
    }
   }
  },
  {
   "cell_type": "markdown",
   "source": [
    "# Plot tvalues and use BF as mask"
   ],
   "metadata": {
    "collapsed": false
   }
  },
  {
   "cell_type": "markdown",
   "source": [
    "# Card fit\n",
    "## mass univariate figure, 3e-f-g"
   ],
   "metadata": {
    "collapsed": false
   }
  },
  {
   "cell_type": "code",
   "execution_count": 14,
   "outputs": [],
   "source": [
    "g_num='g01'\n",
    "file_dir=f'ana/deconvolution/ep_betas/modfit/dc/{g_num}_modfit_hep_awareness_unaware_dc.ep'\n",
    "f = open(file_dir)\n"
   ],
   "metadata": {
    "collapsed": false,
    "ExecuteTime": {
     "end_time": "2025-08-29T15:58:30.087110100Z",
     "start_time": "2025-08-29T15:58:29.947722200Z"
    }
   }
  },
  {
   "cell_type": "code",
   "execution_count": 15,
   "outputs": [
    {
     "data": {
      "text/plain": "(204, 128)"
     },
     "execution_count": 15,
     "metadata": {},
     "output_type": "execute_result"
    }
   ],
   "source": [
    "data=np.loadtxt(file_dir)\n",
    "data=data_cutter(data,time_limits=[-0.2,0.8],new_time_limits=[-0.1,0.7])\n",
    "\n",
    "data.shape"
   ],
   "metadata": {
    "collapsed": false,
    "ExecuteTime": {
     "end_time": "2025-08-29T15:58:30.734049Z",
     "start_time": "2025-08-29T15:58:30.523242700Z"
    }
   }
  },
  {
   "cell_type": "code",
   "execution_count": 16,
   "outputs": [],
   "source": [
    "erp_type='hep'\n",
    "modtype='cardfit'\n",
    "subject_list=cs.G_N\n",
    "X_sys=np.empty((len(subject_list),data.shape[1],data.shape[0]))\n",
    "dc='dc'\n",
    "for idx,g_num in enumerate(subject_list):\n",
    "    file_dir=f'ana/deconvolution/ep_betas/cardfit/{dc}/{g_num}_sys_hep__Intercept__{dc}.ep'\n",
    "    data=np.loadtxt(file_dir)\n",
    "    data=data_cutter(data,time_limits=[-0.2,0.8],new_time_limits=[-0.1,0.7])\n",
    "\n",
    "\n",
    "\n",
    "    X_sys[idx,:,:]=data.T\n",
    "\n",
    "\n"
   ],
   "metadata": {
    "collapsed": false,
    "ExecuteTime": {
     "end_time": "2025-08-29T15:58:35.864956300Z",
     "start_time": "2025-08-29T15:58:31.426988Z"
    }
   }
  },
  {
   "cell_type": "code",
   "execution_count": 17,
   "outputs": [],
   "source": [
    "subject_list=cs.G_N\n",
    "X_dia=np.empty((len(subject_list),data.shape[1],data.shape[0]))\n",
    "for idx,g_num in enumerate(subject_list):\n",
    "    file_dir=f'ana/deconvolution/ep_betas/cardfit/{dc}/{g_num}_dia_hep__Intercept__{dc}.ep'\n",
    "    data=np.loadtxt(file_dir)\n",
    "    data=data_cutter(data,time_limits=[-0.2,0.8],new_time_limits=[-0.1,0.7])\n",
    "\n",
    "    X_dia[idx,:,:]=data.T\n",
    "\n",
    "\n"
   ],
   "metadata": {
    "collapsed": false,
    "ExecuteTime": {
     "end_time": "2025-08-29T15:58:44.777157800Z",
     "start_time": "2025-08-29T15:58:40.256322Z"
    }
   }
  },
  {
   "cell_type": "markdown",
   "source": [
    "### load bf"
   ],
   "metadata": {
    "collapsed": false
   }
  },
  {
   "cell_type": "code",
   "execution_count": 18,
   "outputs": [],
   "source": [
    "cond=\"sys\" # either sys or dia\n",
    "dc_type=dc\n",
    "\n",
    "#load corresponding file\n",
    "\n",
    "\n",
    "\n",
    "file_dir=f'ana/deconvolution/stats/BF_matrix_{modtype}_{erp_type}_{cond}_{dc_type}.ep'\n",
    "f = open(file_dir)"
   ],
   "metadata": {
    "collapsed": false,
    "ExecuteTime": {
     "end_time": "2025-08-29T15:58:48.009679700Z",
     "start_time": "2025-08-29T15:58:47.887746400Z"
    }
   }
  },
  {
   "cell_type": "code",
   "execution_count": 19,
   "outputs": [
    {
     "data": {
      "text/plain": "(128, 204)"
     },
     "execution_count": 19,
     "metadata": {},
     "output_type": "execute_result"
    }
   ],
   "source": [
    "data_BF=np.loadtxt(file_dir)\n",
    "data_BF=data_cutter(data_BF.T,time_limits=[-0.2,0.8],new_time_limits=[-0.1,0.7]).T\n",
    "data_BF.shape"
   ],
   "metadata": {
    "collapsed": false,
    "ExecuteTime": {
     "end_time": "2025-08-29T15:58:48.729148700Z",
     "start_time": "2025-08-29T15:58:48.467387900Z"
    }
   }
  },
  {
   "cell_type": "markdown",
   "source": [],
   "metadata": {
    "collapsed": false
   }
  },
  {
   "cell_type": "markdown",
   "source": [],
   "metadata": {
    "collapsed": false
   }
  },
  {
   "cell_type": "code",
   "execution_count": 20,
   "outputs": [],
   "source": [
    "X=X_sys-X_dia"
   ],
   "metadata": {
    "collapsed": false,
    "ExecuteTime": {
     "end_time": "2025-08-29T15:58:50.550237900Z",
     "start_time": "2025-08-29T15:58:50.431877100Z"
    }
   }
  },
  {
   "cell_type": "code",
   "execution_count": 21,
   "outputs": [
    {
     "name": "stdout",
     "output_type": "stream",
     "text": [
      "-0.1\n",
      "number of time pointst: 25\n",
      "length of minimum time points to be significant: 1\n",
      "at the moment if only one TF is significant the electrode will be displayed as sig\n",
      "(128, 204)\n"
     ]
    },
    {
     "data": {
      "text/plain": "(array([[ 0.248365  ,  0.26676563,  0.35951501, ..., -0.95212936,\n         -0.79109694, -0.68769476],\n        [-0.04293515, -0.13859765, -0.18524604, ...,  0.64856484,\n          0.86024254,  0.99243543],\n        [-0.83707182, -0.88592267, -0.91539075, ...,  2.29017056,\n          2.48816462,  2.55114392],\n        ...,\n        [-0.36067682, -0.55962702, -0.79300544, ...,  0.59800363,\n          0.37129847,  0.1441203 ],\n        [-0.42649205, -0.60635271, -0.72627958, ...,  0.70985018,\n          0.60614368,  0.50389266],\n        [-0.02085958, -0.01895672, -0.07689025, ...,  0.15262367,\n          0.12418812,  0.1230762 ]]),\n array([[0.80560239, 0.79153743, 0.72181462, ..., 0.34890028, 0.43531008,\n         0.49710891],\n        [0.96604749, 0.89072607, 0.85432559, ..., 0.52172272, 0.39671162,\n         0.32919419],\n        [0.4093976 , 0.38294681, 0.36753588, ..., 0.02947327, 0.01883284,\n         0.01627391],\n        ...,\n        [0.72095508, 0.58003101, 0.43421494, ..., 0.55447937, 0.71311416,\n         0.88640235],\n        [0.6728987 , 0.54899807, 0.47348903, ..., 0.48346621, 0.54913496,\n         0.61814356],\n        [0.98350053, 0.98500546, 0.9392389 , ..., 0.87975202, 0.90202313,\n         0.90289578]]))"
     },
     "execution_count": 21,
     "metadata": {},
     "output_type": "execute_result"
    }
   ],
   "source": [
    "%matplotlib qt\n",
    "filepath=f'{modtype}_{erp_type}_{cond}_{dc_type}'\n",
    "s_hp.get_tTest(X,crop_value=[-0.1,0.7],FDR=False,mask_BF=data_BF,BF=True, plot_times=[0.55],averages=0.05,png=filepath,topo_limits=[-9,9])"
   ],
   "metadata": {
    "collapsed": false,
    "ExecuteTime": {
     "end_time": "2025-08-29T15:58:56.798070600Z",
     "start_time": "2025-08-29T15:58:51.126163Z"
    }
   }
  },
  {
   "cell_type": "code",
   "execution_count": null,
   "outputs": [],
   "source": [],
   "metadata": {
    "collapsed": false
   }
  },
  {
   "cell_type": "markdown",
   "source": [
    "# Compute gavgs"
   ],
   "metadata": {
    "collapsed": false
   }
  },
  {
   "cell_type": "markdown",
   "source": [
    "# waveform figure 3 a-b-c"
   ],
   "metadata": {
    "collapsed": false
   }
  },
  {
   "cell_type": "code",
   "execution_count": 4,
   "outputs": [],
   "source": [
    "g_num='g01'\n",
    "file_dir=f'ana/deconvolution/ep_betas/cardfit/dc/{g_num}_sys_hep__Intercept__dc.ep'\n",
    "f = open(file_dir)\n"
   ],
   "metadata": {
    "collapsed": false,
    "ExecuteTime": {
     "end_time": "2025-08-13T12:55:18.445900100Z",
     "start_time": "2025-08-13T12:55:17.102197400Z"
    }
   }
  },
  {
   "cell_type": "code",
   "execution_count": 5,
   "outputs": [
    {
     "data": {
      "text/plain": "(256, 128)"
     },
     "execution_count": 5,
     "metadata": {},
     "output_type": "execute_result"
    }
   ],
   "source": [
    "data=np.loadtxt(file_dir)\n",
    "\n",
    "data.shape"
   ],
   "metadata": {
    "collapsed": false,
    "ExecuteTime": {
     "end_time": "2025-08-13T12:55:19.136501500Z",
     "start_time": "2025-08-13T12:55:18.964336400Z"
    }
   }
  },
  {
   "cell_type": "code",
   "execution_count": 12,
   "outputs": [],
   "source": [
    "subject_list=cs.G_N\n",
    "X=np.empty((len(subject_list),data.shape[1],data.shape[0]))\n",
    "sys_cond='unaware'\n",
    "fit='awafit'\n",
    "dc='nodc'\n",
    "beta_type=\"_Intercept_\"\n",
    "\n",
    "for idx,g_num in enumerate(subject_list):\n",
    "    file_dir=f'ana/deconvolution/ep_betas/{fit}/{dc}/{g_num}_{sys_cond}_hep_{beta_type}_{dc}.ep'\n",
    "    data=np.loadtxt(file_dir)\n",
    "\n",
    "    X[idx,:,:]=data.T\n",
    "\n",
    "\n"
   ],
   "metadata": {
    "collapsed": false,
    "ExecuteTime": {
     "end_time": "2025-08-13T12:56:00.247606200Z",
     "start_time": "2025-08-13T12:55:55.501132600Z"
    }
   }
  },
  {
   "cell_type": "code",
   "execution_count": 13,
   "outputs": [],
   "source": [
    "gavg=np.mean(X,0).T\n",
    "filename=f'ana/deconvolution/ep_betas/{fit}/{dc}/gavg_{fit}_hep_{sys_cond}_{dc}.ep'\n",
    "\n",
    "np.savetxt(filename,gavg)"
   ],
   "metadata": {
    "collapsed": false,
    "ExecuteTime": {
     "end_time": "2025-08-13T12:56:04.280879Z",
     "start_time": "2025-08-13T12:56:00.909824300Z"
    }
   }
  },
  {
   "cell_type": "markdown",
   "source": [],
   "metadata": {
    "collapsed": false
   }
  },
  {
   "cell_type": "markdown",
   "source": [
    "# Plot waveforms gavgs\n"
   ],
   "metadata": {
    "collapsed": false
   }
  },
  {
   "cell_type": "markdown",
   "source": [
    "## plot cardfit sys vs dia"
   ],
   "metadata": {
    "collapsed": false
   }
  },
  {
   "cell_type": "code",
   "execution_count": 223,
   "outputs": [],
   "source": [
    "\n",
    "#define variables\n",
    "modtype='cardfit'\n",
    "erp_type=\"hep\"\n",
    "cond_1='sys'\n",
    "dc_type_1=\"nodc\"\n",
    "\n",
    "k_1=f'{cond_1}_{dc_type_1}'\n",
    "#load corresponding file\n",
    "\n",
    "\n",
    "file_dir=f'ana/deconvolution/ep_betas/{modtype}/{dc_type_1}/gavg_{modtype}_{erp_type}_{cond_1}_{dc_type_1}.ep'\n",
    "f = open(file_dir)"
   ],
   "metadata": {
    "collapsed": false,
    "ExecuteTime": {
     "end_time": "2025-06-02T12:45:12.985688200Z",
     "start_time": "2025-06-02T12:45:12.774348200Z"
    }
   }
  },
  {
   "cell_type": "code",
   "execution_count": 224,
   "outputs": [
    {
     "data": {
      "text/plain": "(204, 128)"
     },
     "execution_count": 224,
     "metadata": {},
     "output_type": "execute_result"
    }
   ],
   "source": [
    "data_1=np.loadtxt(file_dir)\n",
    "data_1=data_cutter(data_1,time_limits=[-0.2,0.8],new_time_limits=[-0.1,0.7])\n",
    "data.shape"
   ],
   "metadata": {
    "collapsed": false,
    "ExecuteTime": {
     "end_time": "2025-06-02T12:45:13.917002Z",
     "start_time": "2025-06-02T12:45:13.642016800Z"
    }
   }
  },
  {
   "cell_type": "code",
   "execution_count": 225,
   "outputs": [],
   "source": [
    "\n",
    "#define variables\n",
    "\n",
    "dc_type_2=\"nodc\"\n",
    "cond_2='dia'\n",
    "k_2=f'{cond_2}_{dc_type_2}'\n",
    "\n",
    "#load corresponding file\n",
    "\n",
    "\n",
    "file_dir=f'ana/deconvolution/ep_betas/{modtype}/{dc_type_2}/gavg_{modtype}_{erp_type}_{cond_2}_{dc_type_2}.ep'\n",
    "f = open(file_dir)"
   ],
   "metadata": {
    "collapsed": false,
    "ExecuteTime": {
     "end_time": "2025-06-02T12:45:14.689794600Z",
     "start_time": "2025-06-02T12:45:14.557184300Z"
    }
   }
  },
  {
   "cell_type": "code",
   "execution_count": 226,
   "outputs": [],
   "source": [
    "data_2=np.loadtxt(file_dir)\n",
    "data_2=data_cutter(data_2,time_limits=[-0.2,0.8],new_time_limits=[-0.1,0.7])\n"
   ],
   "metadata": {
    "collapsed": false,
    "ExecuteTime": {
     "end_time": "2025-06-02T12:45:15.803972200Z",
     "start_time": "2025-06-02T12:45:15.510372200Z"
    }
   }
  },
  {
   "cell_type": "code",
   "execution_count": 227,
   "outputs": [],
   "source": [
    "def get_evo(data,tmin=-0.1):\n",
    "    biosemi_montage = mne.channels.make_standard_montage('biosemi128')\n",
    "\n",
    "    info = mne.create_info(ch_names=biosemi_montage.ch_names, sfreq=256.,\n",
    "                           ch_types='eeg')\n",
    "    evok=mne.EvokedArray(data,info,tmin=tmin)\n",
    "    evok.set_montage(biosemi_montage)\n",
    "    return evok"
   ],
   "metadata": {
    "collapsed": false,
    "ExecuteTime": {
     "end_time": "2025-06-02T12:45:16.445237700Z",
     "start_time": "2025-06-02T12:45:16.335679100Z"
    }
   }
  },
  {
   "cell_type": "markdown",
   "source": [],
   "metadata": {
    "collapsed": false
   }
  },
  {
   "cell_type": "code",
   "execution_count": 228,
   "outputs": [],
   "source": [
    "evo_1=get_evo(data_1.T)\n",
    "evo_2=get_evo(data_2.T)"
   ],
   "metadata": {
    "collapsed": false,
    "ExecuteTime": {
     "end_time": "2025-06-02T12:45:17.515117200Z",
     "start_time": "2025-06-02T12:45:17.372077500Z"
    }
   }
  },
  {
   "cell_type": "code",
   "execution_count": 229,
   "outputs": [],
   "source": [
    "%matplotlib qt\n",
    "\n",
    "evokeds={k_1:evo_1,k_2:evo_2}\n",
    "\n"
   ],
   "metadata": {
    "collapsed": false,
    "ExecuteTime": {
     "end_time": "2025-06-02T12:45:21.315329500Z",
     "start_time": "2025-06-02T12:45:21.213649200Z"
    }
   }
  },
  {
   "cell_type": "code",
   "execution_count": 233,
   "outputs": [
    {
     "name": "stdout",
     "output_type": "stream",
     "text": [
      "combining channels using \"mean\"\n"
     ]
    },
    {
     "name": "stderr",
     "output_type": "stream",
     "text": [
      "C:\\Users\\Vivi\\AppData\\Local\\Temp\\ipykernel_1836\\257251769.py:7: RuntimeWarning: Only 1 channel in \"picks\"; cannot combine by method \"mean\".\n",
      "  fig_fin=mne.viz.plot_compare_evokeds(sub_dict,ci=False,colors=color, picks=['A23'],show_sensors=True,legend='upper right',truncate_yaxis=False,combine='mean',ylim=dict(eeg=[-3*1e6,3*1e6]),vlines=[0,0.7],linestyles=['--'])\n"
     ]
    },
    {
     "name": "stdout",
     "output_type": "stream",
     "text": [
      "combining channels using \"mean\"\n"
     ]
    },
    {
     "name": "stderr",
     "output_type": "stream",
     "text": [
      "C:\\Users\\Vivi\\AppData\\Local\\Temp\\ipykernel_1836\\257251769.py:7: RuntimeWarning: Only 1 channel in \"picks\"; cannot combine by method \"mean\".\n",
      "  fig_fin=mne.viz.plot_compare_evokeds(sub_dict,ci=False,colors=color, picks=['A23'],show_sensors=True,legend='upper right',truncate_yaxis=False,combine='mean',ylim=dict(eeg=[-3*1e6,3*1e6]),vlines=[0,0.7],linestyles=['--'])\n"
     ]
    }
   ],
   "source": [
    "for cond,evo in evokeds.items():\n",
    "    if 'sys'in cond:\n",
    "        color=['tab:orange']\n",
    "    else:\n",
    "        color=['#1f77b4']\n",
    "    sub_dict={cond:evo}\n",
    "    fig_fin=mne.viz.plot_compare_evokeds(sub_dict,ci=False,colors=color, picks=['A23'],show_sensors=True,legend='upper right',truncate_yaxis=False,combine='mean',ylim=dict(eeg=[-3*1e6,3*1e6]),vlines=[0,0.7],linestyles=['--'])\n",
    "    file_dir=f'ana/deconvolution/figures/waveforms_gavg_{modtype}_{erp_type}_{cond}_oz.svg'\n",
    "    fig_fin[0].savefig(file_dir,format='svg')\n"
   ],
   "metadata": {
    "collapsed": false,
    "ExecuteTime": {
     "end_time": "2025-06-02T13:01:20.198639300Z",
     "start_time": "2025-06-02T13:01:19.522637400Z"
    }
   }
  },
  {
   "cell_type": "code",
   "execution_count": null,
   "outputs": [],
   "source": [
    "\n",
    "fig_fin=mne.viz.plot_compare_evokeds(evokeds,ci=False, colors=color,picks=['A23'],show_sensors=True,legend='upper right',truncate_yaxis=False,combine='mean',ylim=dict(eeg=[-3*1e6,3*1e6]),vlines=[0,0.7],linestyles=['-','--','-','--'])"
   ],
   "metadata": {
    "collapsed": false
   }
  },
  {
   "cell_type": "code",
   "execution_count": 86,
   "outputs": [],
   "source": [
    "file_dir=f'ana/deconvolution/figures/waveforms_gavg_{modtype}_{erp_type}_{cond_1}{cond_2}_{dc_type_1}_oz.svg'\n",
    "fig_fin[0].savefig(file_dir,format='svg')"
   ],
   "metadata": {
    "collapsed": false
   }
  },
  {
   "cell_type": "code",
   "execution_count": 131,
   "outputs": [],
   "source": [
    "file_dir=f'ana/deconvolution/figures/waveforms_gavg_{modtype}_{erp_type}_{cond_1}_dcnodc_oz.svg'\n",
    "fig_fin[0].savefig(file_dir,format='svg')"
   ],
   "metadata": {
    "collapsed": false
   }
  },
  {
   "cell_type": "code",
   "execution_count": 61,
   "outputs": [],
   "source": [
    "file_dir=f'ana/deconvolution/figures/waveforms_gavg_{modtype}_{erp_type}_{cond}_dcnodc_oz.svg'\n",
    "fig.savefig(file_dir,format='svg')"
   ],
   "metadata": {
    "collapsed": false
   }
  },
  {
   "cell_type": "markdown",
   "source": [
    "## plot fig3 a, basefit\n",
    "simple intercept fit of all condition pooled, dc vs no dc"
   ],
   "metadata": {
    "collapsed": false
   }
  },
  {
   "cell_type": "code",
   "execution_count": 223,
   "outputs": [],
   "source": [
    "\n",
    "#define variables\n",
    "modtype='base'\n",
    "erp_type=\"hep\"\n",
    "cond_1='Intercept'\n",
    "dc_type_1=\"dc\"\n",
    "\n",
    "k_1=f'{cond_1}_{dc_type_1}'\n",
    "#load corresponding file\n",
    "\n",
    "\n",
    "file_dir=f'ana/deconvolution/ep_betas/{modtype}/{dc_type_1}/gavg_{modtype}_{erp_type}_{cond_1}_{dc_type_1}.ep'\n",
    "f = open(file_dir)"
   ],
   "metadata": {
    "collapsed": false
   }
  },
  {
   "cell_type": "code",
   "execution_count": 224,
   "outputs": [
    {
     "data": {
      "text/plain": "(204, 128)"
     },
     "execution_count": 224,
     "metadata": {},
     "output_type": "execute_result"
    }
   ],
   "source": [
    "data_1=np.loadtxt(file_dir)\n",
    "data_1=data_cutter(data_1,time_limits=[-0.2,0.8],new_time_limits=[-0.1,0.7])\n",
    "data.shape"
   ],
   "metadata": {
    "collapsed": false
   }
  },
  {
   "cell_type": "code",
   "execution_count": 225,
   "outputs": [],
   "source": [
    "\n",
    "#define variables\n",
    "\n",
    "dc_type_2=\"nodc\"\n",
    "cond_2='Intercept'\n",
    "k_2=f'{cond_2}_{dc_type_2}'\n",
    "\n",
    "#load corresponding file\n",
    "\n",
    "\n",
    "file_dir=f'ana/deconvolution/ep_betas/{modtype}/{dc_type_2}/gavg_{modtype}_{erp_type}_{cond_2}_{dc_type_2}.ep'\n",
    "f = open(file_dir)"
   ],
   "metadata": {
    "collapsed": false
   }
  },
  {
   "cell_type": "code",
   "execution_count": 226,
   "outputs": [],
   "source": [
    "data_2=np.loadtxt(file_dir)\n",
    "data_2=data_cutter(data_2,time_limits=[-0.2,0.8],new_time_limits=[-0.1,0.7])\n"
   ],
   "metadata": {
    "collapsed": false
   }
  },
  {
   "cell_type": "code",
   "execution_count": 227,
   "outputs": [],
   "source": [
    "def get_evo(data,tmin=-0.1):\n",
    "    biosemi_montage = mne.channels.make_standard_montage('biosemi128')\n",
    "\n",
    "    info = mne.create_info(ch_names=biosemi_montage.ch_names, sfreq=256.,\n",
    "                           ch_types='eeg')\n",
    "    evok=mne.EvokedArray(data,info,tmin=tmin)\n",
    "    evok.set_montage(biosemi_montage)\n",
    "    return evok"
   ],
   "metadata": {
    "collapsed": false
   }
  },
  {
   "cell_type": "markdown",
   "source": [],
   "metadata": {
    "collapsed": false
   }
  },
  {
   "cell_type": "code",
   "execution_count": 228,
   "outputs": [],
   "source": [
    "evo_1=get_evo(data_1.T)\n",
    "evo_2=get_evo(data_2.T)"
   ],
   "metadata": {
    "collapsed": false
   }
  },
  {
   "cell_type": "code",
   "execution_count": 229,
   "outputs": [],
   "source": [
    "%matplotlib qt\n",
    "\n",
    "evokeds={k_1:evo_1,k_2:evo_2}\n",
    "\n"
   ],
   "metadata": {
    "collapsed": false
   }
  },
  {
   "cell_type": "code",
   "execution_count": 154,
   "outputs": [
    {
     "name": "stdout",
     "output_type": "stream",
     "text": [
      "combining channels using \"mean\"\n",
      "combining channels using \"mean\"\n"
     ]
    },
    {
     "name": "stderr",
     "output_type": "stream",
     "text": [
      "C:\\Users\\Vivi\\AppData\\Local\\Temp\\ipykernel_1836\\2005466826.py:5: RuntimeWarning: Only 1 channel in \"picks\"; cannot combine by method \"mean\".\n",
      "  fig_fin=mne.viz.plot_compare_evokeds(evokeds,ci=False, picks='A23',show_sensors=True,legend='upper right',truncate_yaxis=False,combine='mean',vlines=[0,0.49,0.52,0.7],ylim=dict(eeg=[-3*1e6,3*1e6]),linestyles=['-','--','-','--'],colors=['k','k'])\n"
     ]
    }
   ],
   "source": [
    "\n",
    "\n",
    "evokeds=dict(dc=evo_1,nodc=evo_2)\n",
    "\n",
    "\n",
    "\n",
    "fig_fin=mne.viz.plot_compare_evokeds(evokeds,ci=False, picks='A23',show_sensors=True,legend='upper right',truncate_yaxis=False,combine='mean',vlines=[0,0.49,0.52,0.7],ylim=dict(eeg=[-3*1e6,3*1e6]),linestyles=['-','--','-','--'],colors=['k','k'])\n"
   ],
   "metadata": {
    "collapsed": false,
    "ExecuteTime": {
     "end_time": "2025-06-02T08:40:48.452458200Z",
     "start_time": "2025-06-02T08:40:48.186828900Z"
    }
   }
  },
  {
   "cell_type": "code",
   "execution_count": 155,
   "outputs": [],
   "source": [
    "file_dir=f'ana/deconvolution/figures/waveforms_gavg_{modtype}_{erp_type}_{cond_1}_nodcdc.svg'\n",
    "fig_fin[0].savefig(file_dir,format='svg')"
   ],
   "metadata": {
    "collapsed": false,
    "ExecuteTime": {
     "end_time": "2025-06-02T08:41:05.620665200Z",
     "start_time": "2025-06-02T08:41:05.276907900Z"
    }
   }
  }
 ],
 "metadata": {
  "kernelspec": {
   "name": "mne",
   "language": "python",
   "display_name": "Python (mne)"
  },
  "language_info": {
   "codemirror_mode": {
    "name": "ipython",
    "version": 2
   },
   "file_extension": ".py",
   "mimetype": "text/x-python",
   "name": "python",
   "nbconvert_exporter": "python",
   "pygments_lexer": "ipython2",
   "version": "2.7.6"
  }
 },
 "nbformat": 4,
 "nbformat_minor": 5
}
