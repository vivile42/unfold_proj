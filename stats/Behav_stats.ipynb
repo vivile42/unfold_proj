{
 "cells": [
  {
   "cell_type": "code",
   "execution_count": 1,
   "id": "7d7268a7",
   "metadata": {
    "ExecuteTime": {
     "end_time": "2025-08-19T09:47:29.391071100Z",
     "start_time": "2025-08-19T09:47:26.209032200Z"
    }
   },
   "outputs": [
    {
     "name": "stderr",
     "output_type": "stream",
     "text": [
      "C:\\Users\\Vivi\\anaconda3\\envs\\mne\\lib\\site-packages\\outdated\\utils.py:14: OutdatedPackageWarning: The package pingouin is out of date. Your version is 0.5.3, the latest is 0.5.5.\n",
      "Set the environment variable OUTDATED_IGNORE=1 to disable these warnings.\n",
      "  return warn(\n",
      "C:\\Users\\Vivi\\anaconda3\\envs\\mne\\lib\\site-packages\\outdated\\utils.py:14: OutdatedPackageWarning: The package outdated is out of date. Your version is 0.2.1, the latest is 0.2.2.\n",
      "Set the environment variable OUTDATED_IGNORE=1 to disable these warnings.\n",
      "  return warn(\n"
     ]
    }
   ],
   "source": [
    "import pandas as pd\n",
    "import os\n",
    "import platform\n",
    "import sys\n",
    "import mne\n",
    "import base.base_constants as b_cs\n",
    "if platform.system()=='Darwin':\n",
    "    \n",
    "    sys.path.append('/Users/leupinv/BBC/WP1/data/Code/python/BBC')\n",
    "    os.chdir('/Volumes/BBC/BBC/WP1/data/EEG/tsk/')\n",
    "    sys.path.append('/Users/leupinv/BBC/WP1/data/Code/python/BBC')\n",
    "\n",
    "\n",
    "\n",
    "elif platform.system()=='Windows':\n",
    "    os.chdir('Z:/BBC/WP1/data/EEG/tsk')\n",
    "\n",
    "    #sys.path.append('C:/Users/Vivi/switchdrive/BBC/WP1/data/Code/python/BBC')\n",
    "    #os.chdir('c:/Users/Engi/all/BBC/WP1/data/EEG/tsk')\n",
    "elif platform.system()=='Linux':\n",
    "    os.chdir('/run/user/1000/gvfs/smb-share:server=bigdata,share=arts/Psycho/BBC/BBC/WP1/data/EEG/tsk'\n",
    "             )\n",
    "    #os.chdir('c:/Users/Engi/all/BBC/WP1/data/EEG/tsk')\n",
    "\n",
    "import pingouin as pg\n",
    "import seaborn as sns\n",
    "\n",
    "import matplotlib.pyplot as plt\n",
    "import feather\n",
    "\n",
    "import stats.stats_helper as s_hp"
   ]
  },
  {
   "cell_type": "code",
   "execution_count": 2,
   "id": "353ef8b2",
   "metadata": {
    "ExecuteTime": {
     "end_time": "2025-08-19T09:47:32.324692400Z",
     "start_time": "2025-08-19T09:47:32.187368200Z"
    }
   },
   "outputs": [],
   "source": [
    "%load_ext autoreload\n",
    "\n",
    "\n",
    "%autoreload 2\n",
    "\n",
    "plt.style.use('default')\n",
    "import matplotlib as mpl\n",
    "plt.style.use('default')\n",
    "\n",
    "mpl.rcParams['svg.fonttype']='none'\n",
    "mpl.rcParams['text.usetex']=False"
   ]
  },
  {
   "cell_type": "markdown",
   "source": [
    "## Create behavioral dataframe \n",
    "using directly metadata from clean data"
   ],
   "metadata": {
    "collapsed": false
   },
   "id": "bcbb87f489aa319c"
  },
  {
   "cell_type": "code",
   "execution_count": null,
   "outputs": [],
   "source": [],
   "metadata": {
    "collapsed": false
   }
  },
  {
   "cell_type": "code",
   "execution_count": 3,
   "outputs": [],
   "source": [
    " g_n='g01'\n",
    " df=pd.read_feather(f'preproc/{g_n}/{g_n}_mrk_DF/{g_n}_n_tsk_heps_mrk.feather')"
   ],
   "metadata": {
    "collapsed": false,
    "ExecuteTime": {
     "end_time": "2025-07-22T11:54:15.252478Z",
     "start_time": "2025-07-22T11:54:14.617842900Z"
    }
   }
  },
  {
   "cell_type": "code",
   "execution_count": 28,
   "outputs": [],
   "source": [
    "\n",
    "df=df[(df['cardiac_peak_hep']=='R') | (df['cardiac_peak_hep']=='R2') ]\n",
    "df=df[df['difficulty']=='normal']"
   ],
   "metadata": {
    "collapsed": false,
    "ExecuteTime": {
     "end_time": "2025-07-03T11:33:47.940387300Z",
     "start_time": "2025-07-03T11:33:47.824479900Z"
    }
   }
  },
  {
   "cell_type": "code",
   "execution_count": 23,
   "outputs": [],
   "source": [
    "df=df[df['accuracy'] == 'correct']\n",
    "df=df[df['difficulty']=='normal']\n"
   ],
   "metadata": {
    "collapsed": false,
    "ExecuteTime": {
     "end_time": "2025-07-03T11:31:29.261589300Z",
     "start_time": "2025-07-03T11:31:29.145416500Z"
    }
   }
  },
  {
   "cell_type": "code",
   "execution_count": null,
   "outputs": [],
   "source": [],
   "metadata": {
    "collapsed": false
   }
  },
  {
   "cell_type": "code",
   "outputs": [],
   "source": [
    "#Code to create behavioral dataframe using directly metadata from clean data\n",
    "df_list=[]\n",
    "#loop inside each epoch file and select metadata \n",
    "for g_n in b_cs.G_N:\n",
    "    df=pd.read_feather(f'preproc/{g_n}/{g_n}_mrk_DF/{g_n}_n_tsk_heps_mrk.feather')\n",
    "    df=df[df['accuracy'] == 'correct']\n",
    "    df=df[df['difficulty']=='normal']\n",
    "    df=df[(df['cardiac_peak_hep']=='R') | (df['cardiac_peak_hep']=='R2') ]\n",
    "    df = df[(df.RT < df.RT.quantile(0.975))\n",
    "                & (df.RT > df.RT.quantile(0.025))]\n",
    "    df['g_num']=g_n\n",
    "    df_list.append(df)\n",
    "\n",
    "    \n",
    "\n",
    "df_conc=pd.concat(df_list)\n",
    "df_conc\n",
    "\n",
    "#saves\n",
    "path='ana/deconvolution/behavioral/df_n_heps.feather'\n",
    "filename='/df_n_heps.feather'\n",
    "feather.write_dataframe(df_conc,path)"
   ],
   "metadata": {
    "collapsed": false,
    "ExecuteTime": {
     "end_time": "2025-07-23T08:20:11.903648100Z",
     "start_time": "2025-07-23T08:20:04.714516700Z"
    }
   },
   "id": "253789232ff6c00",
   "execution_count": 3
  },
  {
   "cell_type": "code",
   "execution_count": 4,
   "outputs": [],
   "source": [
    "#Code to create behavioral dataframe using directly metadata from clean data\n",
    "df_list=[]\n",
    "#loop inside each epoch file and select metadata\n",
    "for g_n in b_cs.G_N:\n",
    "    df=pd.read_feather(f'preproc/{g_n}/{g_n}_mrk_DF/{g_n}_n_tsk_heps_mrk.feather')\n",
    "    df=df[df['difficulty']=='normal']\n",
    "    df=df[(df['cardiac_peak_hep']=='R') | (df['cardiac_peak_hep']=='R2') ]\n",
    "    df['g_num']=g_n\n",
    "    df_list.append(df)\n",
    "\n",
    "\n",
    "\n",
    "df_conc=pd.concat(df_list)\n",
    "df_conc\n",
    "\n",
    "#saves\n",
    "path='ana/deconvolution/behavioral/df_n_heps_whole.feather'\n",
    "filename='/df_n_heps_whole.feather'\n",
    "feather.write_dataframe(df_conc,path)"
   ],
   "metadata": {
    "collapsed": false,
    "ExecuteTime": {
     "end_time": "2025-07-23T08:52:42.144840Z",
     "start_time": "2025-07-23T08:52:36.300618200Z"
    }
   }
  },
  {
   "cell_type": "code",
   "execution_count": null,
   "outputs": [],
   "source": [],
   "metadata": {
    "collapsed": false
   }
  },
  {
   "cell_type": "code",
   "execution_count": null,
   "outputs": [],
   "source": [],
   "metadata": {
    "collapsed": false
   }
  },
  {
   "cell_type": "markdown",
   "source": [
    "## load dataframe\n",
    "in case dataframe is already created use this to load it"
   ],
   "metadata": {
    "collapsed": false
   },
   "id": "825d0170fbe583d8"
  },
  {
   "cell_type": "code",
   "outputs": [],
   "source": [
    "path='ana/deconvolution/behavioral/df_n_heps_whole.feather'"
   ],
   "metadata": {
    "collapsed": false,
    "ExecuteTime": {
     "end_time": "2025-07-23T08:53:35.673079900Z",
     "start_time": "2025-07-23T08:53:35.561409600Z"
    }
   },
   "id": "850ae25a4725719e",
   "execution_count": 5
  },
  {
   "cell_type": "code",
   "outputs": [],
   "source": [
    "df=pd.read_feather(path)"
   ],
   "metadata": {
    "collapsed": false,
    "ExecuteTime": {
     "end_time": "2025-07-23T08:53:37.203074300Z",
     "start_time": "2025-07-23T08:53:36.631547700Z"
    }
   },
   "id": "90f91df6592bf8d8",
   "execution_count": 6
  },
  {
   "cell_type": "code",
   "outputs": [
    {
     "data": {
      "text/plain": "Index(['TF', 'RT', 'difficulty', 'accuracy', 'awareness', 'cardiac_phase',\n       'RRI', 'HeartRate', 'HeartRate_post', 'HeartRate_rolling_5_before',\n       'HeartRate_rolling_5_centered', 'HeartRate_rolling_5_after',\n       'HeartRateVar_rolling_10_centered', 'HeartRateVar_rolling_100_centered',\n       'HeartRate_precedent', 'cardiac_peak_hep', 'rsp_phase',\n       'RSP_Rate_precedent', 'rsp_int', 'RSP_Rate', 'RSP_Rate_post',\n       'RSP_Rate_rolling_5_before', 'RSP_Rate_rolling_5_centered',\n       'RSP_Rate_rolling_5_after', 'RspRateVar_rolling_10_centered',\n       'RspRateVar_rolling_100_centered', 'mrk_awa', 'mrk_card_awa_hep',\n       'mrk_rsp_awa_hep', 'sys_mask', 'R_stim_int', 'inh_stim_int',\n       'mrk_card_awa_RR', 'mrk_rsp_awa_RR', 'g_num'],\n      dtype='object')"
     },
     "execution_count": 6,
     "metadata": {},
     "output_type": "execute_result"
    }
   ],
   "source": [
    "df.columns"
   ],
   "metadata": {
    "collapsed": false,
    "ExecuteTime": {
     "end_time": "2025-07-22T11:55:09.707934900Z",
     "start_time": "2025-07-22T11:55:09.582602800Z"
    }
   },
   "id": "caeb31c3b638eb39",
   "execution_count": 6
  },
  {
   "cell_type": "code",
   "execution_count": null,
   "outputs": [],
   "source": [],
   "metadata": {
    "collapsed": false
   }
  },
  {
   "cell_type": "code",
   "execution_count": 33,
   "outputs": [],
   "source": [],
   "metadata": {
    "collapsed": false,
    "ExecuteTime": {
     "end_time": "2024-04-29T13:41:36.616501Z",
     "start_time": "2024-04-29T13:41:36.615053Z"
    }
   },
   "id": "7baf85b89dfbac3b"
  },
  {
   "cell_type": "code",
   "outputs": [
    {
     "data": {
      "text/plain": "accuracy g_num  correct  mistake\n0          g01      689      143\n1          g03      605      236\n2          g08      746       86\n3          g10      754       87\n4          g11      731      110\n5          g12      789       51\n6          g15      673      170\n7          g16      643      197\n8          g17      792       48\n9          g19      708      135\n10         g23      685      155\n11         g24      703      139\n12         g25      995      127\n13         g28      620      212\n14         g32      690      140\n15         g33      800       42\n16         g34      668      175\n17         g37      734      106\n18         g38      730      111\n19         g39      807      103\n20         g40      693      147\n21         g41      806       35\n22         g42      844      139\n23         g44      836        4\n24         g45      737      177\n25         g46      735      106\n26         g47      854      126\n27         g49      654      186\n28         g51      843      137\n29         g52      689      152",
      "text/html": "<div>\n<style scoped>\n    .dataframe tbody tr th:only-of-type {\n        vertical-align: middle;\n    }\n\n    .dataframe tbody tr th {\n        vertical-align: top;\n    }\n\n    .dataframe thead th {\n        text-align: right;\n    }\n</style>\n<table border=\"1\" class=\"dataframe\">\n  <thead>\n    <tr style=\"text-align: right;\">\n      <th>accuracy</th>\n      <th>g_num</th>\n      <th>correct</th>\n      <th>mistake</th>\n    </tr>\n  </thead>\n  <tbody>\n    <tr>\n      <th>0</th>\n      <td>g01</td>\n      <td>689</td>\n      <td>143</td>\n    </tr>\n    <tr>\n      <th>1</th>\n      <td>g03</td>\n      <td>605</td>\n      <td>236</td>\n    </tr>\n    <tr>\n      <th>2</th>\n      <td>g08</td>\n      <td>746</td>\n      <td>86</td>\n    </tr>\n    <tr>\n      <th>3</th>\n      <td>g10</td>\n      <td>754</td>\n      <td>87</td>\n    </tr>\n    <tr>\n      <th>4</th>\n      <td>g11</td>\n      <td>731</td>\n      <td>110</td>\n    </tr>\n    <tr>\n      <th>5</th>\n      <td>g12</td>\n      <td>789</td>\n      <td>51</td>\n    </tr>\n    <tr>\n      <th>6</th>\n      <td>g15</td>\n      <td>673</td>\n      <td>170</td>\n    </tr>\n    <tr>\n      <th>7</th>\n      <td>g16</td>\n      <td>643</td>\n      <td>197</td>\n    </tr>\n    <tr>\n      <th>8</th>\n      <td>g17</td>\n      <td>792</td>\n      <td>48</td>\n    </tr>\n    <tr>\n      <th>9</th>\n      <td>g19</td>\n      <td>708</td>\n      <td>135</td>\n    </tr>\n    <tr>\n      <th>10</th>\n      <td>g23</td>\n      <td>685</td>\n      <td>155</td>\n    </tr>\n    <tr>\n      <th>11</th>\n      <td>g24</td>\n      <td>703</td>\n      <td>139</td>\n    </tr>\n    <tr>\n      <th>12</th>\n      <td>g25</td>\n      <td>995</td>\n      <td>127</td>\n    </tr>\n    <tr>\n      <th>13</th>\n      <td>g28</td>\n      <td>620</td>\n      <td>212</td>\n    </tr>\n    <tr>\n      <th>14</th>\n      <td>g32</td>\n      <td>690</td>\n      <td>140</td>\n    </tr>\n    <tr>\n      <th>15</th>\n      <td>g33</td>\n      <td>800</td>\n      <td>42</td>\n    </tr>\n    <tr>\n      <th>16</th>\n      <td>g34</td>\n      <td>668</td>\n      <td>175</td>\n    </tr>\n    <tr>\n      <th>17</th>\n      <td>g37</td>\n      <td>734</td>\n      <td>106</td>\n    </tr>\n    <tr>\n      <th>18</th>\n      <td>g38</td>\n      <td>730</td>\n      <td>111</td>\n    </tr>\n    <tr>\n      <th>19</th>\n      <td>g39</td>\n      <td>807</td>\n      <td>103</td>\n    </tr>\n    <tr>\n      <th>20</th>\n      <td>g40</td>\n      <td>693</td>\n      <td>147</td>\n    </tr>\n    <tr>\n      <th>21</th>\n      <td>g41</td>\n      <td>806</td>\n      <td>35</td>\n    </tr>\n    <tr>\n      <th>22</th>\n      <td>g42</td>\n      <td>844</td>\n      <td>139</td>\n    </tr>\n    <tr>\n      <th>23</th>\n      <td>g44</td>\n      <td>836</td>\n      <td>4</td>\n    </tr>\n    <tr>\n      <th>24</th>\n      <td>g45</td>\n      <td>737</td>\n      <td>177</td>\n    </tr>\n    <tr>\n      <th>25</th>\n      <td>g46</td>\n      <td>735</td>\n      <td>106</td>\n    </tr>\n    <tr>\n      <th>26</th>\n      <td>g47</td>\n      <td>854</td>\n      <td>126</td>\n    </tr>\n    <tr>\n      <th>27</th>\n      <td>g49</td>\n      <td>654</td>\n      <td>186</td>\n    </tr>\n    <tr>\n      <th>28</th>\n      <td>g51</td>\n      <td>843</td>\n      <td>137</td>\n    </tr>\n    <tr>\n      <th>29</th>\n      <td>g52</td>\n      <td>689</td>\n      <td>152</td>\n    </tr>\n  </tbody>\n</table>\n</div>"
     },
     "execution_count": 8,
     "metadata": {},
     "output_type": "execute_result"
    }
   ],
   "source": [
    "pivot_acc=df.pivot_table(index=['g_num'],columns='accuracy',values='RT',aggfunc='count')\n",
    "pivot_acc.reset_index(inplace=True)\n",
    "pivot_acc"
   ],
   "metadata": {
    "collapsed": false,
    "ExecuteTime": {
     "end_time": "2025-07-23T08:54:18.971391100Z",
     "start_time": "2025-07-23T08:54:18.839856300Z"
    }
   },
   "id": "8f9404b485e810d0",
   "execution_count": 8
  },
  {
   "cell_type": "code",
   "outputs": [],
   "source": [
    "#generate column with % of accurate trials\n",
    "pivot_acc['corr_percentage']=pivot_acc['correct']/(pivot_acc['correct']+pivot_acc['mistake'])"
   ],
   "metadata": {
    "collapsed": false,
    "ExecuteTime": {
     "end_time": "2025-07-23T08:54:21.462196700Z",
     "start_time": "2025-07-23T08:54:21.346289200Z"
    }
   },
   "id": "5e7b29173c1bfe3a",
   "execution_count": 9
  },
  {
   "cell_type": "code",
   "outputs": [
    {
     "data": {
      "text/plain": "count    30.000000\nmean      0.854253\nstd       0.064472\nmin       0.719382\n25%       0.816423\n50%       0.859400\n75%       0.886812\nmax       0.995238\nName: corr_percentage, dtype: float64"
     },
     "execution_count": 10,
     "metadata": {},
     "output_type": "execute_result"
    }
   ],
   "source": [
    "pivot_acc['corr_percentage'].describe()"
   ],
   "metadata": {
    "collapsed": false,
    "ExecuteTime": {
     "end_time": "2025-07-23T08:54:23.350370300Z",
     "start_time": "2025-07-23T08:54:23.250077500Z"
    }
   },
   "id": "121e387adef98bd2",
   "execution_count": 10
  },
  {
   "cell_type": "code",
   "outputs": [
    {
     "data": {
      "text/plain": "0     0.822261\n1     0.708304\n2     0.819949\n3     0.953451\n4     0.837227\n5     0.933841\n6     0.924855\n7     0.798169\n8     0.897028\n9     0.814270\n10    0.867654\n11    0.933309\n12    0.969499\n13    0.812237\n14    0.912714\n15    0.878299\n16    0.835132\n17    0.895897\n18    0.936237\n19    0.838697\n20    0.876869\n21    0.928971\n22    0.944186\n23    0.894068\n24    0.726499\n25    0.860082\n26    0.826482\n27    0.816073\n28    0.886538\n29    0.877897\nName: corr_percentage, dtype: float64"
     },
     "execution_count": 59,
     "metadata": {},
     "output_type": "execute_result"
    }
   ],
   "source": [
    "pivot_acc['corr_percentage']"
   ],
   "metadata": {
    "collapsed": false,
    "ExecuteTime": {
     "end_time": "2024-04-29T13:58:04.133755Z",
     "start_time": "2024-04-29T13:58:04.080876Z"
    }
   },
   "id": "51991219122a556b",
   "execution_count": 59
  },
  {
   "cell_type": "markdown",
   "source": [
    "## awareness \n",
    "for the awareness it is important to remove the mistakes"
   ],
   "metadata": {
    "collapsed": false
   },
   "id": "28d0314ae351c2ed"
  },
  {
   "cell_type": "markdown",
   "source": [],
   "metadata": {
    "collapsed": false
   }
  },
  {
   "cell_type": "code",
   "execution_count": 3,
   "outputs": [],
   "source": [
    "path='ana/deconvolution/behavioral/df_n_heps.feather'"
   ],
   "metadata": {
    "collapsed": false,
    "ExecuteTime": {
     "end_time": "2025-08-19T09:48:19.815132500Z",
     "start_time": "2025-08-19T09:48:19.691232100Z"
    }
   }
  },
  {
   "cell_type": "code",
   "execution_count": 4,
   "outputs": [],
   "source": [
    "df=pd.read_feather(path)"
   ],
   "metadata": {
    "collapsed": false,
    "ExecuteTime": {
     "end_time": "2025-08-19T09:48:21.725464700Z",
     "start_time": "2025-08-19T09:48:20.777333200Z"
    }
   }
  },
  {
   "cell_type": "code",
   "outputs": [
    {
     "data": {
      "text/plain": "awareness g_num  aware  unaware\n0           g01    344      308\n1           g03    363      210\n2           g08    506      200\n3           g10    489      227\n4           g11    356      337\n5           g12    394      354\n6           g15    295      342\n7           g16    306      303\n8           g17    314      438\n9           g19    427      245\n10          g23    429      218\n11          g24    224      440\n12          g25    660      284\n13          g28    197      389\n14          g32    352      302\n15          g33    357      401\n16          g34    402      230\n17          g37    309      386\n18          g38    295      397\n19          g39    240      521\n20          g40    252      405\n21          g41    285      479\n22          g42    377      423\n23          g44    306      488\n24          g45    422      277\n25          g46    437      260\n26          g47    457      353\n27          g49    288      329\n28          g51    360      438\n29          g52    254      399",
      "text/html": "<div>\n<style scoped>\n    .dataframe tbody tr th:only-of-type {\n        vertical-align: middle;\n    }\n\n    .dataframe tbody tr th {\n        vertical-align: top;\n    }\n\n    .dataframe thead th {\n        text-align: right;\n    }\n</style>\n<table border=\"1\" class=\"dataframe\">\n  <thead>\n    <tr style=\"text-align: right;\">\n      <th>awareness</th>\n      <th>g_num</th>\n      <th>aware</th>\n      <th>unaware</th>\n    </tr>\n  </thead>\n  <tbody>\n    <tr>\n      <th>0</th>\n      <td>g01</td>\n      <td>344</td>\n      <td>308</td>\n    </tr>\n    <tr>\n      <th>1</th>\n      <td>g03</td>\n      <td>363</td>\n      <td>210</td>\n    </tr>\n    <tr>\n      <th>2</th>\n      <td>g08</td>\n      <td>506</td>\n      <td>200</td>\n    </tr>\n    <tr>\n      <th>3</th>\n      <td>g10</td>\n      <td>489</td>\n      <td>227</td>\n    </tr>\n    <tr>\n      <th>4</th>\n      <td>g11</td>\n      <td>356</td>\n      <td>337</td>\n    </tr>\n    <tr>\n      <th>5</th>\n      <td>g12</td>\n      <td>394</td>\n      <td>354</td>\n    </tr>\n    <tr>\n      <th>6</th>\n      <td>g15</td>\n      <td>295</td>\n      <td>342</td>\n    </tr>\n    <tr>\n      <th>7</th>\n      <td>g16</td>\n      <td>306</td>\n      <td>303</td>\n    </tr>\n    <tr>\n      <th>8</th>\n      <td>g17</td>\n      <td>314</td>\n      <td>438</td>\n    </tr>\n    <tr>\n      <th>9</th>\n      <td>g19</td>\n      <td>427</td>\n      <td>245</td>\n    </tr>\n    <tr>\n      <th>10</th>\n      <td>g23</td>\n      <td>429</td>\n      <td>218</td>\n    </tr>\n    <tr>\n      <th>11</th>\n      <td>g24</td>\n      <td>224</td>\n      <td>440</td>\n    </tr>\n    <tr>\n      <th>12</th>\n      <td>g25</td>\n      <td>660</td>\n      <td>284</td>\n    </tr>\n    <tr>\n      <th>13</th>\n      <td>g28</td>\n      <td>197</td>\n      <td>389</td>\n    </tr>\n    <tr>\n      <th>14</th>\n      <td>g32</td>\n      <td>352</td>\n      <td>302</td>\n    </tr>\n    <tr>\n      <th>15</th>\n      <td>g33</td>\n      <td>357</td>\n      <td>401</td>\n    </tr>\n    <tr>\n      <th>16</th>\n      <td>g34</td>\n      <td>402</td>\n      <td>230</td>\n    </tr>\n    <tr>\n      <th>17</th>\n      <td>g37</td>\n      <td>309</td>\n      <td>386</td>\n    </tr>\n    <tr>\n      <th>18</th>\n      <td>g38</td>\n      <td>295</td>\n      <td>397</td>\n    </tr>\n    <tr>\n      <th>19</th>\n      <td>g39</td>\n      <td>240</td>\n      <td>521</td>\n    </tr>\n    <tr>\n      <th>20</th>\n      <td>g40</td>\n      <td>252</td>\n      <td>405</td>\n    </tr>\n    <tr>\n      <th>21</th>\n      <td>g41</td>\n      <td>285</td>\n      <td>479</td>\n    </tr>\n    <tr>\n      <th>22</th>\n      <td>g42</td>\n      <td>377</td>\n      <td>423</td>\n    </tr>\n    <tr>\n      <th>23</th>\n      <td>g44</td>\n      <td>306</td>\n      <td>488</td>\n    </tr>\n    <tr>\n      <th>24</th>\n      <td>g45</td>\n      <td>422</td>\n      <td>277</td>\n    </tr>\n    <tr>\n      <th>25</th>\n      <td>g46</td>\n      <td>437</td>\n      <td>260</td>\n    </tr>\n    <tr>\n      <th>26</th>\n      <td>g47</td>\n      <td>457</td>\n      <td>353</td>\n    </tr>\n    <tr>\n      <th>27</th>\n      <td>g49</td>\n      <td>288</td>\n      <td>329</td>\n    </tr>\n    <tr>\n      <th>28</th>\n      <td>g51</td>\n      <td>360</td>\n      <td>438</td>\n    </tr>\n    <tr>\n      <th>29</th>\n      <td>g52</td>\n      <td>254</td>\n      <td>399</td>\n    </tr>\n  </tbody>\n</table>\n</div>"
     },
     "execution_count": 13,
     "metadata": {},
     "output_type": "execute_result"
    }
   ],
   "source": [
    "df_pivot=df.pivot_table(index=['g_num'],columns='awareness',values='RT',aggfunc='count')\n",
    "df_pivot.reset_index(inplace=True)\n",
    "df_pivot"
   ],
   "metadata": {
    "collapsed": false,
    "ExecuteTime": {
     "end_time": "2025-07-23T08:55:45.405836300Z",
     "start_time": "2025-07-23T08:55:45.272131900Z"
    }
   },
   "id": "9f6ae73ca781b562",
   "execution_count": 13
  },
  {
   "cell_type": "code",
   "outputs": [
    {
     "data": {
      "text/plain": "count     30.000000\nmean     356.566667\nstd       96.806128\nmin      197.000000\n25%      295.000000\n50%      354.000000\n75%      417.000000\nmax      660.000000\nName: aware, dtype: float64"
     },
     "execution_count": 14,
     "metadata": {},
     "output_type": "execute_result"
    }
   ],
   "source": [
    "df_pivot.aware.describe()"
   ],
   "metadata": {
    "collapsed": false,
    "ExecuteTime": {
     "end_time": "2025-07-23T08:55:50.680831600Z",
     "start_time": "2025-07-23T08:55:50.564911900Z"
    }
   },
   "id": "77839d36aa16edf9",
   "execution_count": 14
  },
  {
   "cell_type": "code",
   "outputs": [
    {
     "data": {
      "text/plain": "0     0.527607\n1     0.633508\n2     0.716714\n3     0.682961\n4     0.513709\n5     0.526738\n6     0.463108\n7     0.502463\n8     0.417553\n9     0.635417\n10    0.663060\n11    0.337349\n12    0.699153\n13    0.336177\n14    0.538226\n15    0.470976\n16    0.636076\n17    0.444604\n18    0.426301\n19    0.315375\n20    0.383562\n21    0.373037\n22    0.471250\n23    0.385390\n24    0.603720\n25    0.626973\n26    0.564198\n27    0.466775\n28    0.451128\n29    0.388974\nName: awa_ratio, dtype: float64"
     },
     "execution_count": 15,
     "metadata": {},
     "output_type": "execute_result"
    }
   ],
   "source": [
    "df_pivot['awa_ratio']=df_pivot['aware']/(df_pivot['aware']+df_pivot['unaware'])\n",
    "df_pivot['awa_ratio']"
   ],
   "metadata": {
    "collapsed": false,
    "ExecuteTime": {
     "end_time": "2025-07-23T08:55:56.736637100Z",
     "start_time": "2025-07-23T08:55:56.636355100Z"
    }
   },
   "id": "32c8bb136cfa9ed",
   "execution_count": 15
  },
  {
   "cell_type": "code",
   "outputs": [
    {
     "data": {
      "text/plain": "count    30.000000\nmean      0.506736\nstd       0.117221\nmin       0.315375\n25%       0.419740\n50%       0.486857\n75%       0.621159\nmax       0.716714\nName: awa_ratio, dtype: float64"
     },
     "execution_count": 16,
     "metadata": {},
     "output_type": "execute_result"
    }
   ],
   "source": [
    "df_pivot['awa_ratio'].describe()"
   ],
   "metadata": {
    "collapsed": false,
    "ExecuteTime": {
     "end_time": "2025-07-23T08:56:00.430880Z",
     "start_time": "2025-07-23T08:56:00.330598400Z"
    }
   },
   "id": "579c45d0f07368c6",
   "execution_count": 16
  },
  {
   "cell_type": "code",
   "execution_count": 17,
   "outputs": [],
   "source": [
    "df_pivot=df.pivot_table(index=['g_num','awareness'],values=['RT'])\n",
    "df_pivot.reset_index(inplace=True)"
   ],
   "metadata": {
    "collapsed": false,
    "ExecuteTime": {
     "end_time": "2025-07-23T08:56:35.228001200Z",
     "start_time": "2025-07-23T08:56:35.112105500Z"
    }
   },
   "id": "f6f868a84fbdd689"
  },
  {
   "cell_type": "code",
   "execution_count": 18,
   "outputs": [
    {
     "data": {
      "text/plain": "count      30.000000\nmean      748.756875\nstd       190.017178\nmin       510.946958\n25%       638.904621\n50%       700.295345\n75%       802.383719\nmax      1427.942150\nName: RT, dtype: float64"
     },
     "execution_count": 18,
     "metadata": {},
     "output_type": "execute_result"
    }
   ],
   "source": [
    "df_pivot[df_pivot['awareness']=='aware'].RT.describe()"
   ],
   "metadata": {
    "collapsed": false,
    "ExecuteTime": {
     "end_time": "2025-07-23T08:56:38.752001Z",
     "start_time": "2025-07-23T08:56:38.613950900Z"
    }
   },
   "id": "5e247d76e73e3fee"
  },
  {
   "cell_type": "code",
   "execution_count": 25,
   "outputs": [],
   "source": [],
   "metadata": {
    "collapsed": false,
    "ExecuteTime": {
     "end_time": "2025-07-22T12:11:48.124008Z",
     "start_time": "2025-07-22T12:11:48.011549200Z"
    }
   },
   "id": "61c2b8613558fa5a"
  },
  {
   "cell_type": "code",
   "execution_count": 19,
   "outputs": [
    {
     "data": {
      "text/plain": "count      30.000000\nmean      937.605064\nstd       311.364447\nmin       541.575760\n25%       736.396644\n50%       876.401369\n75%       987.019428\nmax      1963.761671\nName: RT, dtype: float64"
     },
     "execution_count": 19,
     "metadata": {},
     "output_type": "execute_result"
    }
   ],
   "source": [
    "df_pivot[df_pivot['awareness']=='unaware'].RT.describe()"
   ],
   "metadata": {
    "collapsed": false,
    "ExecuteTime": {
     "end_time": "2025-07-23T08:56:41.872344800Z",
     "start_time": "2025-07-23T08:56:41.766071100Z"
    }
   },
   "id": "53fed09a4b558a75"
  },
  {
   "cell_type": "markdown",
   "source": [
    "## add interoception"
   ],
   "metadata": {
    "collapsed": false
   }
  },
  {
   "cell_type": "code",
   "execution_count": 5,
   "outputs": [],
   "source": [
    "filepath='Z:/BBC\\WP1\\data\\EEG\\int/ana/behav/group_n_int_acc_df.feather'\n",
    "hbc_df=pd.read_feather(filepath)"
   ],
   "metadata": {
    "collapsed": false,
    "ExecuteTime": {
     "end_time": "2025-08-19T09:54:03.669497100Z",
     "start_time": "2025-08-19T09:54:03.496080Z"
    }
   }
  },
  {
   "cell_type": "code",
   "execution_count": 6,
   "outputs": [],
   "source": [
    "med=hbc_df['mean_int'].median()\n",
    "hbc_df['h_per'] = (hbc_df['mean_int'] >= med).astype(int)"
   ],
   "metadata": {
    "collapsed": false,
    "ExecuteTime": {
     "end_time": "2025-08-19T09:54:04.572351500Z",
     "start_time": "2025-08-19T09:54:04.464054600Z"
    }
   }
  },
  {
   "cell_type": "code",
   "execution_count": 7,
   "outputs": [],
   "source": [
    "hbc_df=hbc_df[['g_num','mean_int','h_per']]"
   ],
   "metadata": {
    "collapsed": false,
    "ExecuteTime": {
     "end_time": "2025-08-19T09:54:05.365484100Z",
     "start_time": "2025-08-19T09:54:05.176049500Z"
    }
   }
  },
  {
   "cell_type": "code",
   "execution_count": 8,
   "outputs": [],
   "source": [
    "df_int=df.merge(hbc_df,on=['g_num'])"
   ],
   "metadata": {
    "collapsed": false,
    "ExecuteTime": {
     "end_time": "2025-08-19T09:54:35.118966400Z",
     "start_time": "2025-08-19T09:54:34.983023800Z"
    }
   }
  },
  {
   "cell_type": "code",
   "execution_count": 10,
   "outputs": [],
   "source": [
    "df_int\n",
    "#saves\n",
    "path='ana/deconvolution/behavioral/df_n_heps_hbc.feather'\n",
    "\n",
    "feather.write_dataframe(df_int,path)"
   ],
   "metadata": {
    "collapsed": false,
    "ExecuteTime": {
     "end_time": "2025-08-19T09:58:40.567486Z",
     "start_time": "2025-08-19T09:58:38.841649300Z"
    }
   }
  },
  {
   "cell_type": "markdown",
   "id": "0a994e64",
   "metadata": {},
   "source": []
  }
 ],
 "metadata": {
  "kernelspec": {
   "name": "mne",
   "language": "python",
   "display_name": "Python (mne)"
  },
  "language_info": {
   "codemirror_mode": {
    "name": "ipython",
    "version": 3
   },
   "file_extension": ".py",
   "mimetype": "text/x-python",
   "name": "python",
   "nbconvert_exporter": "python",
   "pygments_lexer": "ipython3",
   "version": "3.9.13"
  }
 },
 "nbformat": 4,
 "nbformat_minor": 5
}
