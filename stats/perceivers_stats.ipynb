{
 "cells": [
  {
   "cell_type": "code",
   "execution_count": 38,
   "outputs": [],
   "source": [
    "\n",
    "import pandas as pd\n",
    "import re #regex library to format fast to read into pd\n",
    "import os\n",
    "\n",
    "import matplotlib.pyplot as plt\n",
    "import feather\n",
    "\n",
    "import numpy as np\n",
    "import platform\n",
    "import mne\n",
    "\n",
    "\n",
    "from mne.channels import find_ch_adjacency, make_1020_channel_selections\n",
    "from mne.stats import spatio_temporal_cluster_test\n",
    "from mne.stats import (ttest_1samp_no_p, bonferroni_correction, fdr_correction,\n",
    "\n",
    "\n",
    "                       permutation_t_test, permutation_cluster_1samp_test,spatio_temporal_cluster_1samp_test)\n",
    "import sys\n",
    "if platform.system()=='Darwin':\n",
    "    os.chdir('/Volumes/BBC/BBC/WP1/data/EEG/tsk/')\n",
    "    #sys.path.append('/Users/leupinv/BBC/WP1/data/Code/python/BBC')\n",
    "    #if this doesn't work pound line right above this, restart the kernel, rerun the cell.\n",
    "    #Then uncomment the same line and rerun\n",
    "\n",
    "else:\n",
    "    #os.chdir('Z:/BBC/WP1/data/EEG/tsk')\n",
    "    #sys.path.append('C:/Users/Vivi/switchdrive/BBC/WP1/data/Code/python/BBC')\n",
    "    os.chdir('Z:/BBC/WP1/data/EEG/tsk')\n",
    "\n",
    "from base.files_in_out import getListOfFiles,GetFiles\n",
    "from stats.stats_helper import filter_list, tTest_ana\n",
    "import stats.t_tests_cluster as clus\n",
    "import stats.stats_helper as s_hp\n",
    "import base.base_constants as cs\n",
    "from stats.stats_helper import filter_list, tTest_ana, filter_list_equal"
   ],
   "metadata": {
    "collapsed": false,
    "ExecuteTime": {
     "end_time": "2025-08-25T07:51:02.382751100Z",
     "start_time": "2025-08-25T07:51:02.208388800Z"
    }
   }
  },
  {
   "cell_type": "code",
   "execution_count": 39,
   "outputs": [],
   "source": [
    "%load_ext autoreload\n",
    "%autoreload 2\n",
    "import matplotlib as mpl\n",
    "mpl.rcParams['svg.fonttype']='none'\n",
    "mpl.rcParams['text.usetex']=False\n",
    "plt.style.use('default')\n",
    "\n",
    "mpl.rcParams['svg.fonttype']='none'\n",
    "mpl.rcParams['text.usetex']=False"
   ],
   "metadata": {
    "collapsed": false,
    "ExecuteTime": {
     "end_time": "2025-08-25T07:51:03.360321400Z",
     "start_time": "2025-08-25T07:51:03.093347600Z"
    }
   }
  },
  {
   "cell_type": "code",
   "execution_count": 40,
   "outputs": [],
   "source": [
    "def data_cutter(data, time_limits=[-0.3, 0.8], new_time_limits=[0.2, 0.6], sfreq=256):\n",
    "    \"\"\"\n",
    "    Cuts a 3D EEG data array ( time x electrodes) based on specified time limits.\n",
    "    Parameters:\n",
    "        data (np.ndarray): EEG data of shape (electrodes, time)\n",
    "        time_limits (list of float): Original epoch time range in seconds (e.g., [-0.3, 0.8])\n",
    "        new_time_limits (list of float): Desired time range to extract (e.g., [0.2, 0.6])\n",
    "        sfreq (int): Sampling frequency in Hz (default is 256)\n",
    "    Returns:\n",
    "        np.ndarray: The cut data with shape (new_time_points,electrodes)\n",
    "    \"\"\"\n",
    "    # Calculate the sample indices corresponding to the new time limits\n",
    "    start_idx = int(np.round((new_time_limits[0] - time_limits[0]) * sfreq))\n",
    "    end_idx = int(np.round((new_time_limits[1] - time_limits[0]) * sfreq))\n",
    "    # Cut the data along the time dimension (axis=1)\n",
    "    return data[start_idx:end_idx,:]\n",
    "\n"
   ],
   "metadata": {
    "collapsed": false,
    "ExecuteTime": {
     "end_time": "2025-08-25T07:51:03.958307400Z",
     "start_time": "2025-08-25T07:51:03.848774300Z"
    }
   }
  },
  {
   "cell_type": "markdown",
   "source": [
    "# Get HBC data"
   ],
   "metadata": {
    "collapsed": false
   }
  },
  {
   "cell_type": "markdown",
   "source": [],
   "metadata": {
    "collapsed": false
   }
  },
  {
   "cell_type": "code",
   "execution_count": 3,
   "outputs": [],
   "source": [
    "filepath='Z:/BBC\\WP1\\data\\EEG\\int/ana/behav/group_n_int_acc_df.feather'\n",
    "hbc_df=pd.read_feather(filepath)"
   ],
   "metadata": {
    "collapsed": false,
    "ExecuteTime": {
     "end_time": "2025-08-24T13:50:57.992649200Z",
     "start_time": "2025-08-24T13:50:57.903066600Z"
    }
   }
  },
  {
   "cell_type": "code",
   "execution_count": 5,
   "outputs": [
    {
     "data": {
      "text/plain": "<AxesSubplot:xlabel='mean_int', ylabel='Count'>"
     },
     "execution_count": 5,
     "metadata": {},
     "output_type": "execute_result"
    },
    {
     "data": {
      "text/plain": "<Figure size 432x288 with 1 Axes>",
      "image/png": "[encoded data removed]"
     },
     "metadata": {
      "needs_background": "light"
     },
     "output_type": "display_data"
    }
   ],
   "source": [
    "import seaborn as sns\n",
    "sns.histplot(hbc_df['mean_int'],bins=10)"
   ],
   "metadata": {
    "collapsed": false,
    "ExecuteTime": {
     "end_time": "2025-08-24T13:51:29.309402600Z",
     "start_time": "2025-08-24T13:51:28.976715900Z"
    }
   }
  },
  {
   "cell_type": "code",
   "execution_count": 55,
   "outputs": [
    {
     "data": {
      "text/plain": "<matplotlib.collections.LineCollection at 0x2512beb78e0>"
     },
     "execution_count": 55,
     "metadata": {},
     "output_type": "execute_result"
    }
   ],
   "source": [
    "ax=sns.violinplot(data=hbc_df,x='mean_int',inner='box')\n",
    "med=hbc_df['mean_int'].median()\n",
    "ax.vlines(x=med,ymin=-0.4,ymax=0.4,color=\"red\",linewidth=2.5)\n",
    "#ax.set_xlim(0,1)"
   ],
   "metadata": {
    "collapsed": false,
    "ExecuteTime": {
     "end_time": "2025-08-25T07:56:29.089057500Z",
     "start_time": "2025-08-25T07:56:28.959401800Z"
    }
   }
  },
  {
   "cell_type": "code",
   "execution_count": 57,
   "outputs": [
    {
     "data": {
      "text/plain": "0.403133414077417"
     },
     "execution_count": 57,
     "metadata": {},
     "output_type": "execute_result"
    }
   ],
   "source": [
    "hbc_df['mean_int'].median()"
   ],
   "metadata": {
    "collapsed": false,
    "ExecuteTime": {
     "end_time": "2025-08-25T12:52:31.753216300Z",
     "start_time": "2025-08-25T12:52:31.587396900Z"
    }
   }
  },
  {
   "cell_type": "code",
   "execution_count": 56,
   "outputs": [],
   "source": [
    "plt.tight_layout()\n",
    "file_dir='ana/deconvolution/figures/violinplot_HCT.svg'\n",
    "plt.savefig(file_dir, format='svg')\n",
    "plt.close()"
   ],
   "metadata": {
    "collapsed": false,
    "ExecuteTime": {
     "end_time": "2025-08-25T07:56:31.798055700Z",
     "start_time": "2025-08-25T07:56:31.531364Z"
    }
   }
  },
  {
   "cell_type": "code",
   "execution_count": 30,
   "outputs": [
    {
     "data": {
      "text/plain": "count    30.000000\nmean      0.415272\nstd       0.257280\nmin       0.011364\n25%       0.199489\n50%       0.403133\n75%       0.601167\nmax       0.890804\nName: mean_int, dtype: float64"
     },
     "execution_count": 30,
     "metadata": {},
     "output_type": "execute_result"
    }
   ],
   "source": [
    "hbc_df['mean_int'].describe()"
   ],
   "metadata": {
    "collapsed": false,
    "ExecuteTime": {
     "end_time": "2025-08-24T14:42:19.597858400Z",
     "start_time": "2025-08-24T14:42:19.554036800Z"
    }
   }
  },
  {
   "cell_type": "code",
   "execution_count": 31,
   "outputs": [],
   "source": [
    "med=hbc_df['mean_int'].median()\n",
    "hbc_low=hbc_df[hbc_df['mean_int']<med]"
   ],
   "metadata": {
    "collapsed": false,
    "ExecuteTime": {
     "end_time": "2025-08-24T14:42:20.601506600Z",
     "start_time": "2025-08-24T14:42:20.505182200Z"
    }
   }
  },
  {
   "cell_type": "code",
   "execution_count": 32,
   "outputs": [
    {
     "data": {
      "text/plain": "   20_mean_int  30_mean_int  45_mean_int  mean_int g_num  n_none cond\n0     0.461154     0.384027     0.363454  0.402878   g03       0    n\n0     0.106725     0.149676     0.123702  0.126701   g08       0    n\n0     0.380000     0.360657     0.287543  0.342733   g11       0    n\n0     0.239240     0.164935     0.181460  0.195212   g15       0    n\n0     0.068182     0.221687     0.125870  0.138579   g17       0    n\n0     0.293272     0.318080     0.296244  0.303104   g19       1    n\n0     0.243399     0.184168     0.145937  0.191168   g25       0    n\n0     0.127435     0.065104     0.113834  0.102125   g32       0    n\n0     0.206296     0.589286     0.233701  0.343094   g37       0    n\n0     0.408409     0.424122     0.300513  0.377681   g38       0    n\n0     0.034091     0.000000     0.000000  0.011364   g39       0    n\n0     0.000000     0.102273     0.000000  0.034091   g40       0    n\n0     0.125000     0.304032     0.207936  0.212323   g47       0    n\n0     0.534112     0.268056     0.199074  0.333747   g51       0    n\n0     0.000000     0.000000     0.052703  0.017568   g52       0    n",
      "text/html": "<div>\n<style scoped>\n    .dataframe tbody tr th:only-of-type {\n        vertical-align: middle;\n    }\n\n    .dataframe tbody tr th {\n        vertical-align: top;\n    }\n\n    .dataframe thead th {\n        text-align: right;\n    }\n</style>\n<table border=\"1\" class=\"dataframe\">\n  <thead>\n    <tr style=\"text-align: right;\">\n      <th></th>\n      <th>20_mean_int</th>\n      <th>30_mean_int</th>\n      <th>45_mean_int</th>\n      <th>mean_int</th>\n      <th>g_num</th>\n      <th>n_none</th>\n      <th>cond</th>\n    </tr>\n  </thead>\n  <tbody>\n    <tr>\n      <th>0</th>\n      <td>0.461154</td>\n      <td>0.384027</td>\n      <td>0.363454</td>\n      <td>0.402878</td>\n      <td>g03</td>\n      <td>0</td>\n      <td>n</td>\n    </tr>\n    <tr>\n      <th>0</th>\n      <td>0.106725</td>\n      <td>0.149676</td>\n      <td>0.123702</td>\n      <td>0.126701</td>\n      <td>g08</td>\n      <td>0</td>\n      <td>n</td>\n    </tr>\n    <tr>\n      <th>0</th>\n      <td>0.380000</td>\n      <td>0.360657</td>\n      <td>0.287543</td>\n      <td>0.342733</td>\n      <td>g11</td>\n      <td>0</td>\n      <td>n</td>\n    </tr>\n    <tr>\n      <th>0</th>\n      <td>0.239240</td>\n      <td>0.164935</td>\n      <td>0.181460</td>\n      <td>0.195212</td>\n      <td>g15</td>\n      <td>0</td>\n      <td>n</td>\n    </tr>\n    <tr>\n      <th>0</th>\n      <td>0.068182</td>\n      <td>0.221687</td>\n      <td>0.125870</td>\n      <td>0.138579</td>\n      <td>g17</td>\n      <td>0</td>\n      <td>n</td>\n    </tr>\n    <tr>\n      <th>0</th>\n      <td>0.293272</td>\n      <td>0.318080</td>\n      <td>0.296244</td>\n      <td>0.303104</td>\n      <td>g19</td>\n      <td>1</td>\n      <td>n</td>\n    </tr>\n    <tr>\n      <th>0</th>\n      <td>0.243399</td>\n      <td>0.184168</td>\n      <td>0.145937</td>\n      <td>0.191168</td>\n      <td>g25</td>\n      <td>0</td>\n      <td>n</td>\n    </tr>\n    <tr>\n      <th>0</th>\n      <td>0.127435</td>\n      <td>0.065104</td>\n      <td>0.113834</td>\n      <td>0.102125</td>\n      <td>g32</td>\n      <td>0</td>\n      <td>n</td>\n    </tr>\n    <tr>\n      <th>0</th>\n      <td>0.206296</td>\n      <td>0.589286</td>\n      <td>0.233701</td>\n      <td>0.343094</td>\n      <td>g37</td>\n      <td>0</td>\n      <td>n</td>\n    </tr>\n    <tr>\n      <th>0</th>\n      <td>0.408409</td>\n      <td>0.424122</td>\n      <td>0.300513</td>\n      <td>0.377681</td>\n      <td>g38</td>\n      <td>0</td>\n      <td>n</td>\n    </tr>\n    <tr>\n      <th>0</th>\n      <td>0.034091</td>\n      <td>0.000000</td>\n      <td>0.000000</td>\n      <td>0.011364</td>\n      <td>g39</td>\n      <td>0</td>\n      <td>n</td>\n    </tr>\n    <tr>\n      <th>0</th>\n      <td>0.000000</td>\n      <td>0.102273</td>\n      <td>0.000000</td>\n      <td>0.034091</td>\n      <td>g40</td>\n      <td>0</td>\n      <td>n</td>\n    </tr>\n    <tr>\n      <th>0</th>\n      <td>0.125000</td>\n      <td>0.304032</td>\n      <td>0.207936</td>\n      <td>0.212323</td>\n      <td>g47</td>\n      <td>0</td>\n      <td>n</td>\n    </tr>\n    <tr>\n      <th>0</th>\n      <td>0.534112</td>\n      <td>0.268056</td>\n      <td>0.199074</td>\n      <td>0.333747</td>\n      <td>g51</td>\n      <td>0</td>\n      <td>n</td>\n    </tr>\n    <tr>\n      <th>0</th>\n      <td>0.000000</td>\n      <td>0.000000</td>\n      <td>0.052703</td>\n      <td>0.017568</td>\n      <td>g52</td>\n      <td>0</td>\n      <td>n</td>\n    </tr>\n  </tbody>\n</table>\n</div>"
     },
     "execution_count": 32,
     "metadata": {},
     "output_type": "execute_result"
    }
   ],
   "source": [
    "hbc_low"
   ],
   "metadata": {
    "collapsed": false,
    "ExecuteTime": {
     "end_time": "2025-08-24T14:42:21.237784900Z",
     "start_time": "2025-08-24T14:42:21.098042600Z"
    }
   }
  },
  {
   "cell_type": "code",
   "execution_count": 33,
   "outputs": [],
   "source": [
    "g_num_low=hbc_low['g_num']"
   ],
   "metadata": {
    "collapsed": false,
    "ExecuteTime": {
     "end_time": "2025-08-24T14:42:21.823343200Z",
     "start_time": "2025-08-24T14:42:21.788422300Z"
    }
   }
  },
  {
   "cell_type": "code",
   "execution_count": 34,
   "outputs": [
    {
     "data": {
      "text/plain": "   20_mean_int  30_mean_int  45_mean_int  mean_int g_num  n_none cond\n0     0.426692     0.522783     0.519980  0.489818   g01       0    n\n0     0.486038     0.351905     0.487202  0.441715   g10       0    n\n0     0.722756     0.529632     0.566982  0.606457   g12       0    n\n0     0.876105     0.836507     0.719530  0.810714   g16       0    n\n0     0.697713     0.600105     0.738817  0.678878   g23       0    n\n0     0.486025     0.635263     0.305222  0.475503   g24       0    n\n0     0.627002     0.674194     0.563873  0.621689   g28       0    n\n0     0.482172     0.385714     0.342279  0.403388   g33       0    n\n0     0.443182     0.411319     0.425769  0.426757   g34       0    n\n0     0.771711     0.762931     0.775898  0.770180   g41       0    n\n0     0.543297     0.489583     0.496554  0.511650   g42       1    n\n0     0.737772     0.725643     0.719163  0.727526   g44       0    n\n0     0.965368     0.834173     0.872870  0.890804   g45       0    n\n0     0.950000     0.826613     0.879584  0.885399   g46       0    n\n0     0.564989     0.561080     0.629831  0.585300   g49       0    n",
      "text/html": "<div>\n<style scoped>\n    .dataframe tbody tr th:only-of-type {\n        vertical-align: middle;\n    }\n\n    .dataframe tbody tr th {\n        vertical-align: top;\n    }\n\n    .dataframe thead th {\n        text-align: right;\n    }\n</style>\n<table border=\"1\" class=\"dataframe\">\n  <thead>\n    <tr style=\"text-align: right;\">\n      <th></th>\n      <th>20_mean_int</th>\n      <th>30_mean_int</th>\n      <th>45_mean_int</th>\n      <th>mean_int</th>\n      <th>g_num</th>\n      <th>n_none</th>\n      <th>cond</th>\n    </tr>\n  </thead>\n  <tbody>\n    <tr>\n      <th>0</th>\n      <td>0.426692</td>\n      <td>0.522783</td>\n      <td>0.519980</td>\n      <td>0.489818</td>\n      <td>g01</td>\n      <td>0</td>\n      <td>n</td>\n    </tr>\n    <tr>\n      <th>0</th>\n      <td>0.486038</td>\n      <td>0.351905</td>\n      <td>0.487202</td>\n      <td>0.441715</td>\n      <td>g10</td>\n      <td>0</td>\n      <td>n</td>\n    </tr>\n    <tr>\n      <th>0</th>\n      <td>0.722756</td>\n      <td>0.529632</td>\n      <td>0.566982</td>\n      <td>0.606457</td>\n      <td>g12</td>\n      <td>0</td>\n      <td>n</td>\n    </tr>\n    <tr>\n      <th>0</th>\n      <td>0.876105</td>\n      <td>0.836507</td>\n      <td>0.719530</td>\n      <td>0.810714</td>\n      <td>g16</td>\n      <td>0</td>\n      <td>n</td>\n    </tr>\n    <tr>\n      <th>0</th>\n      <td>0.697713</td>\n      <td>0.600105</td>\n      <td>0.738817</td>\n      <td>0.678878</td>\n      <td>g23</td>\n      <td>0</td>\n      <td>n</td>\n    </tr>\n    <tr>\n      <th>0</th>\n      <td>0.486025</td>\n      <td>0.635263</td>\n      <td>0.305222</td>\n      <td>0.475503</td>\n      <td>g24</td>\n      <td>0</td>\n      <td>n</td>\n    </tr>\n    <tr>\n      <th>0</th>\n      <td>0.627002</td>\n      <td>0.674194</td>\n      <td>0.563873</td>\n      <td>0.621689</td>\n      <td>g28</td>\n      <td>0</td>\n      <td>n</td>\n    </tr>\n    <tr>\n      <th>0</th>\n      <td>0.482172</td>\n      <td>0.385714</td>\n      <td>0.342279</td>\n      <td>0.403388</td>\n      <td>g33</td>\n      <td>0</td>\n      <td>n</td>\n    </tr>\n    <tr>\n      <th>0</th>\n      <td>0.443182</td>\n      <td>0.411319</td>\n      <td>0.425769</td>\n      <td>0.426757</td>\n      <td>g34</td>\n      <td>0</td>\n      <td>n</td>\n    </tr>\n    <tr>\n      <th>0</th>\n      <td>0.771711</td>\n      <td>0.762931</td>\n      <td>0.775898</td>\n      <td>0.770180</td>\n      <td>g41</td>\n      <td>0</td>\n      <td>n</td>\n    </tr>\n    <tr>\n      <th>0</th>\n      <td>0.543297</td>\n      <td>0.489583</td>\n      <td>0.496554</td>\n      <td>0.511650</td>\n      <td>g42</td>\n      <td>1</td>\n      <td>n</td>\n    </tr>\n    <tr>\n      <th>0</th>\n      <td>0.737772</td>\n      <td>0.725643</td>\n      <td>0.719163</td>\n      <td>0.727526</td>\n      <td>g44</td>\n      <td>0</td>\n      <td>n</td>\n    </tr>\n    <tr>\n      <th>0</th>\n      <td>0.965368</td>\n      <td>0.834173</td>\n      <td>0.872870</td>\n      <td>0.890804</td>\n      <td>g45</td>\n      <td>0</td>\n      <td>n</td>\n    </tr>\n    <tr>\n      <th>0</th>\n      <td>0.950000</td>\n      <td>0.826613</td>\n      <td>0.879584</td>\n      <td>0.885399</td>\n      <td>g46</td>\n      <td>0</td>\n      <td>n</td>\n    </tr>\n    <tr>\n      <th>0</th>\n      <td>0.564989</td>\n      <td>0.561080</td>\n      <td>0.629831</td>\n      <td>0.585300</td>\n      <td>g49</td>\n      <td>0</td>\n      <td>n</td>\n    </tr>\n  </tbody>\n</table>\n</div>"
     },
     "execution_count": 34,
     "metadata": {},
     "output_type": "execute_result"
    }
   ],
   "source": [
    "hbc_high=hbc_df[hbc_df['mean_int']>=med]\n",
    "hbc_high"
   ],
   "metadata": {
    "collapsed": false,
    "ExecuteTime": {
     "end_time": "2025-08-24T14:42:22.301571500Z",
     "start_time": "2025-08-24T14:42:22.236941600Z"
    }
   }
  },
  {
   "cell_type": "code",
   "execution_count": 35,
   "outputs": [],
   "source": [
    "g_num_high=hbc_high['g_num']"
   ],
   "metadata": {
    "collapsed": false,
    "ExecuteTime": {
     "end_time": "2025-08-24T14:42:23.024336600Z",
     "start_time": "2025-08-24T14:42:22.932110100Z"
    }
   }
  },
  {
   "cell_type": "code",
   "execution_count": 36,
   "outputs": [
    {
     "data": {
      "text/plain": "count    15.000000\nmean      0.621719\nstd       0.165764\nmin       0.403388\n25%       0.482661\n50%       0.606457\n75%       0.748853\nmax       0.890804\nName: mean_int, dtype: float64"
     },
     "execution_count": 36,
     "metadata": {},
     "output_type": "execute_result"
    }
   ],
   "source": [
    "hbc_high['mean_int'].describe()"
   ],
   "metadata": {
    "collapsed": false,
    "ExecuteTime": {
     "end_time": "2025-08-24T14:42:24.213058400Z",
     "start_time": "2025-08-24T14:42:24.165217100Z"
    }
   }
  },
  {
   "cell_type": "code",
   "execution_count": 37,
   "outputs": [
    {
     "data": {
      "text/plain": "count    15.000000\nmean      0.208825\nstd       0.135303\nmin       0.011364\n25%       0.114413\n50%       0.195212\n75%       0.338240\nmax       0.402878\nName: mean_int, dtype: float64"
     },
     "execution_count": 37,
     "metadata": {},
     "output_type": "execute_result"
    }
   ],
   "source": [
    "hbc_low['mean_int'].describe()"
   ],
   "metadata": {
    "collapsed": false,
    "ExecuteTime": {
     "end_time": "2025-08-24T14:42:45.611089500Z",
     "start_time": "2025-08-24T14:42:45.537436700Z"
    }
   }
  },
  {
   "cell_type": "markdown",
   "source": [
    "## aware vs unaware in aware fit"
   ],
   "metadata": {
    "collapsed": false
   }
  },
  {
   "cell_type": "code",
   "execution_count": 10,
   "outputs": [],
   "source": [
    "g_num='g01'\n",
    "file_dir=f'ana/deconvolution/ep_betas/modfit/dc/{g_num}_modfit_hep_awareness_unaware_dc.ep'\n",
    "f = open(file_dir)\n"
   ],
   "metadata": {
    "collapsed": false,
    "ExecuteTime": {
     "end_time": "2025-08-20T07:33:53.126126800Z",
     "start_time": "2025-08-20T07:33:52.969696600Z"
    }
   }
  },
  {
   "cell_type": "code",
   "execution_count": 11,
   "outputs": [
    {
     "data": {
      "text/plain": "(204, 128)"
     },
     "execution_count": 11,
     "metadata": {},
     "output_type": "execute_result"
    }
   ],
   "source": [
    "data=np.loadtxt(file_dir)\n",
    "data=data_cutter(data,time_limits=[-0.2,0.8],new_time_limits=[-0.1,0.7])\n",
    "\n",
    "data.shape"
   ],
   "metadata": {
    "collapsed": false,
    "ExecuteTime": {
     "end_time": "2025-08-20T07:33:53.870220200Z",
     "start_time": "2025-08-20T07:33:53.611384200Z"
    }
   }
  },
  {
   "cell_type": "code",
   "execution_count": 31,
   "outputs": [],
   "source": [
    "erp_type='hep'\n",
    "modtype='awafit'\n",
    "hbc_cond='low'\n",
    "if hbc_cond=='high':\n",
    "    subject_list=g_num_high\n",
    "elif hbc_cond=='low':\n",
    "    subject_list=g_num_low\n",
    "\n",
    "X_awa=np.empty((len(subject_list),data.shape[1],data.shape[0]))\n",
    "dc='dc'\n",
    "for idx,g_num in enumerate(subject_list):\n",
    "    file_dir=f'ana/deconvolution/ep_betas/awafit/{dc}/{g_num}_aware_hep__Intercept__{dc}.ep'\n",
    "    data=np.loadtxt(file_dir)\n",
    "    data=data_cutter(data,time_limits=[-0.2,0.8],new_time_limits=[-0.1,0.7])\n",
    "\n",
    "\n",
    "    X_awa[idx,:,:]=data.T\n",
    "\n",
    "\n"
   ],
   "metadata": {
    "collapsed": false,
    "ExecuteTime": {
     "end_time": "2025-08-20T07:47:53.453883700Z",
     "start_time": "2025-08-20T07:47:50.197426400Z"
    }
   }
  },
  {
   "cell_type": "code",
   "execution_count": 32,
   "outputs": [],
   "source": [
    "\n",
    "X_unawa=np.empty((len(subject_list),data.shape[1],data.shape[0]))\n",
    "for idx,g_num in enumerate(subject_list):\n",
    "    file_dir=f'ana/deconvolution/ep_betas/awafit/{dc}/{g_num}_unaware_hep__Intercept__{dc}.ep'\n",
    "\n",
    "    data=np.loadtxt(file_dir)\n",
    "    data=data_cutter(data,time_limits=[-0.2,0.8],new_time_limits=[-0.1,0.7])\n",
    "\n",
    "    X_unawa[idx,:,:]=data.T\n",
    "\n",
    "\n"
   ],
   "metadata": {
    "collapsed": false,
    "ExecuteTime": {
     "end_time": "2025-08-20T07:47:56.342597100Z",
     "start_time": "2025-08-20T07:47:53.366181800Z"
    }
   }
  },
  {
   "cell_type": "code",
   "execution_count": 33,
   "outputs": [],
   "source": [
    "X=X_awa-X_unawa"
   ],
   "metadata": {
    "collapsed": false,
    "ExecuteTime": {
     "end_time": "2025-08-20T07:48:01.898783900Z",
     "start_time": "2025-08-20T07:48:01.788931900Z"
    }
   }
  },
  {
   "cell_type": "markdown",
   "source": [
    "%matplotlib qt\n",
    "\n",
    "s_hp.get_tTest(X,crop_value=[-0.1,0.7],FDR=False,p_val=0.01,plot_times=[0.505],averages=0.015)"
   ],
   "metadata": {
    "collapsed": false
   }
  },
  {
   "cell_type": "markdown",
   "source": [
    "### load bf"
   ],
   "metadata": {
    "collapsed": false
   }
  },
  {
   "cell_type": "code",
   "execution_count": 34,
   "outputs": [],
   "source": [
    "cond=\"awareness\"\n",
    "dc_type=dc\n",
    "\n",
    "#load corresponding file\n",
    "\n",
    "\n",
    "\n",
    "file_dir=f'ana/deconvolution/stats/BF_matrix_{modtype}_{erp_type}_{cond}_{dc_type}_hbc_{hbc_cond}.ep'\n",
    "f = open(file_dir)"
   ],
   "metadata": {
    "collapsed": false,
    "ExecuteTime": {
     "end_time": "2025-08-20T07:48:02.048381400Z",
     "start_time": "2025-08-20T07:48:01.898783900Z"
    }
   }
  },
  {
   "cell_type": "code",
   "execution_count": 35,
   "outputs": [
    {
     "data": {
      "text/plain": "(128, 204)"
     },
     "execution_count": 35,
     "metadata": {},
     "output_type": "execute_result"
    }
   ],
   "source": [
    "data_BF=np.loadtxt(file_dir)\n",
    "data_BF=data_BF\n",
    "data_BF=data_cutter(data_BF.T,time_limits=[-0.2,0.8],new_time_limits=[-0.1,0.7]).T\n",
    "data_BF.shape"
   ],
   "metadata": {
    "collapsed": false,
    "ExecuteTime": {
     "end_time": "2025-08-20T07:48:02.987722100Z",
     "start_time": "2025-08-20T07:48:02.718720300Z"
    }
   }
  },
  {
   "cell_type": "markdown",
   "source": [],
   "metadata": {
    "collapsed": false
   }
  },
  {
   "cell_type": "code",
   "execution_count": 36,
   "outputs": [
    {
     "name": "stdout",
     "output_type": "stream",
     "text": [
      "-0.1\n",
      "number of time pointst: 8\n",
      "length of minimum time points to be significant: 1\n",
      "at the moment if only one TF is significant the electrode will be displayed as sig\n",
      "(128, 204)\n"
     ]
    },
    {
     "data": {
      "text/plain": "(array([[ 0.26935283,  0.07710084, -0.09286837, ...,  0.21043649,\n          0.55068153,  0.96245235],\n        [ 0.79733219,  0.45130106,  0.15863765, ..., -0.89529153,\n         -0.67429131, -0.30215574],\n        [ 0.56668644,  0.38189875,  0.28175989, ..., -0.71622483,\n         -0.36693674,  0.06890154],\n        ...,\n        [-0.60637529, -0.43331895, -0.3803926 , ..., -1.21429062,\n         -1.28818654, -1.17687756],\n        [-0.1449332 ,  0.20512173,  0.40369063, ..., -1.46585003,\n         -1.68677697, -1.59435448],\n        [ 0.36406042,  0.79693398,  0.99026552, ..., -1.16616827,\n         -1.33702058, -1.2485049 ]]),\n array([[0.79158735, 0.93963438, 0.92732403, ..., 0.83635898, 0.5905317 ,\n         0.35215254],\n        [0.43857261, 0.65868433, 0.87622   , ..., 0.38576584, 0.5111074 ,\n         0.76697561],\n        [0.57989958, 0.7082706 , 0.78224967, ..., 0.48562893, 0.71915299,\n         0.94604244],\n        ...,\n        [0.55397144, 0.67138497, 0.70936314, ..., 0.2447228 , 0.21856531,\n         0.25886662],\n        [0.88682946, 0.84042946, 0.69253879, ..., 0.16478706, 0.11379166,\n         0.13317659],\n        [0.72125238, 0.43879634, 0.33885166, ..., 0.26302896, 0.20253622,\n         0.23232192]]))"
     },
     "execution_count": 36,
     "metadata": {},
     "output_type": "execute_result"
    }
   ],
   "source": [
    "%matplotlib qt\n",
    "filepath=f'{modtype}_{erp_type}_{cond}_{dc_type}_hbc_{hbc_cond}'\n",
    "s_hp.get_tTest(X,crop_value=[-0.1,0.7],FDR=False,mask_BF=data_BF,BF=True, plot_times=[0.505],averages=0.015,png=filepath)"
   ],
   "metadata": {
    "collapsed": false,
    "ExecuteTime": {
     "end_time": "2025-08-20T07:48:09.397122800Z",
     "start_time": "2025-08-20T07:48:04.110128700Z"
    }
   }
  },
  {
   "cell_type": "markdown",
   "source": [
    "# Compute gavgs"
   ],
   "metadata": {
    "collapsed": false
   }
  },
  {
   "cell_type": "code",
   "execution_count": 96,
   "outputs": [],
   "source": [
    "g_num='g01'\n",
    "file_dir=f'ana/deconvolution/ep_betas/awafit/dc/{g_num}_aware_hep__Intercept__dc.ep'\n",
    "f = open(file_dir)\n"
   ],
   "metadata": {
    "collapsed": false,
    "ExecuteTime": {
     "end_time": "2025-08-20T13:12:14.228313200Z",
     "start_time": "2025-08-20T13:12:14.061969400Z"
    }
   }
  },
  {
   "cell_type": "code",
   "execution_count": 97,
   "outputs": [
    {
     "data": {
      "text/plain": "(256, 128)"
     },
     "execution_count": 97,
     "metadata": {},
     "output_type": "execute_result"
    }
   ],
   "source": [
    "data=np.loadtxt(file_dir)\n",
    "data.shape"
   ],
   "metadata": {
    "collapsed": false,
    "ExecuteTime": {
     "end_time": "2025-08-20T13:12:15.384397200Z",
     "start_time": "2025-08-20T13:12:15.082702300Z"
    }
   }
  },
  {
   "cell_type": "code",
   "execution_count": 104,
   "outputs": [],
   "source": [
    "hbc_cond='high'\n",
    "if hbc_cond=='high':\n",
    "    subject_list=g_num_high\n",
    "elif hbc_cond=='low':\n",
    "    subject_list=g_num_low\n",
    "else:\n",
    "    subject_list=None\n",
    "\n",
    "\n",
    "X=np.empty((len(subject_list),data.shape[1],data.shape[0]))\n",
    "sys_cond='unaware'\n",
    "fit='awafit'\n",
    "dc='nodc'\n",
    "beta_type=\"_Intercept_\"\n",
    "\n",
    "for idx,g_num in enumerate(subject_list):\n",
    "    file_dir=f'ana/deconvolution/ep_betas/{fit}/{dc}/{g_num}_{sys_cond}_hep_{beta_type}_{dc}.ep'\n",
    "    data=np.loadtxt(file_dir)\n",
    "\n",
    "    X[idx,:,:]=data.T\n",
    "\n",
    "\n",
    "\n"
   ],
   "metadata": {
    "collapsed": false,
    "ExecuteTime": {
     "end_time": "2025-08-20T13:13:23.537676200Z",
     "start_time": "2025-08-20T13:13:20.288950200Z"
    }
   }
  },
  {
   "cell_type": "code",
   "execution_count": 105,
   "outputs": [],
   "source": [
    "gavg=np.mean(X,0).T\n",
    "filename=f'ana/deconvolution/ep_betas/{fit}/{dc}/gavg_{fit}_hep_{sys_cond}_{dc}_hbc_{hbc_cond}.ep'\n",
    "\n",
    "np.savetxt(filename,gavg)"
   ],
   "metadata": {
    "collapsed": false,
    "ExecuteTime": {
     "end_time": "2025-08-20T13:13:29.515676400Z",
     "start_time": "2025-08-20T13:13:24.439883700Z"
    }
   }
  },
  {
   "cell_type": "markdown",
   "source": [
    "## plot awafit awa vs unawa"
   ],
   "metadata": {
    "collapsed": false
   }
  },
  {
   "cell_type": "code",
   "execution_count": 69,
   "outputs": [],
   "source": [
    "\n",
    "#define variables\n",
    "modtype='awafit'\n",
    "\n",
    "erp_type=\"hep\"\n",
    "cond='aware'\n",
    "dc_type=\"dc\"\n",
    "hbc_cond='low'\n",
    "\n",
    "#load corresponding file\n",
    "\n",
    "\n",
    "file_dir=f'ana/deconvolution/ep_betas/{modtype}/{dc_type}/gavg_{modtype}_{erp_type}_{cond}_{dc_type}_hbc_{hbc_cond}.ep'\n",
    "f = open(file_dir)"
   ],
   "metadata": {
    "collapsed": false,
    "ExecuteTime": {
     "end_time": "2025-08-20T08:09:13.741223600Z",
     "start_time": "2025-08-20T08:09:13.604664400Z"
    }
   }
  },
  {
   "cell_type": "code",
   "execution_count": 70,
   "outputs": [
    {
     "data": {
      "text/plain": "(256, 128)"
     },
     "execution_count": 70,
     "metadata": {},
     "output_type": "execute_result"
    }
   ],
   "source": [
    "data_aware=np.loadtxt(file_dir)\n",
    "data_aware=data_cutter(data_aware,time_limits=[-0.2,0.8],new_time_limits=[-0.1,0.7])\n",
    "data.shape"
   ],
   "metadata": {
    "collapsed": false,
    "ExecuteTime": {
     "end_time": "2025-08-20T08:09:14.631794600Z",
     "start_time": "2025-08-20T08:09:14.281306900Z"
    }
   }
  },
  {
   "cell_type": "code",
   "execution_count": 71,
   "outputs": [],
   "source": [
    "\n",
    "#define variables\n",
    "modtype='awafit'\n",
    "\n",
    "cond='unaware'\n",
    "\n",
    "\n",
    "#load corresponding file\n",
    "\n",
    "\n",
    "file_dir=f'ana/deconvolution/ep_betas/{modtype}/{dc_type}/gavg_{modtype}_{erp_type}_{cond}_{dc_type}_hbc_{hbc_cond}.ep'\n",
    "f = open(file_dir)"
   ],
   "metadata": {
    "collapsed": false,
    "ExecuteTime": {
     "end_time": "2025-08-20T08:09:15.151275700Z",
     "start_time": "2025-08-20T08:09:14.961204Z"
    }
   }
  },
  {
   "cell_type": "code",
   "execution_count": 72,
   "outputs": [],
   "source": [
    "data_unaware=np.loadtxt(file_dir)\n",
    "data_unaware=data_cutter(data_unaware,time_limits=[-0.2,0.8],new_time_limits=[-0.1,0.7])\n"
   ],
   "metadata": {
    "collapsed": false,
    "ExecuteTime": {
     "end_time": "2025-08-20T08:09:16.345965300Z",
     "start_time": "2025-08-20T08:09:15.786430800Z"
    }
   }
  },
  {
   "cell_type": "code",
   "execution_count": 72,
   "outputs": [],
   "source": [
    "\n"
   ],
   "metadata": {
    "collapsed": false,
    "ExecuteTime": {
     "end_time": "2025-08-20T08:09:16.345965300Z",
     "start_time": "2025-08-20T08:09:16.283765700Z"
    }
   }
  },
  {
   "cell_type": "code",
   "execution_count": 73,
   "outputs": [],
   "source": [
    "def get_evo(data,tmin=-0.1):\n",
    "    biosemi_montage = mne.channels.make_standard_montage('biosemi128')\n",
    "\n",
    "    info = mne.create_info(ch_names=biosemi_montage.ch_names, sfreq=256.,\n",
    "                           ch_types='eeg')\n",
    "    evok=mne.EvokedArray(data,info,tmin=tmin)\n",
    "    evok.set_montage(biosemi_montage)\n",
    "    return evok"
   ],
   "metadata": {
    "collapsed": false,
    "ExecuteTime": {
     "end_time": "2025-08-20T08:09:16.796340800Z",
     "start_time": "2025-08-20T08:09:16.660219Z"
    }
   }
  },
  {
   "cell_type": "markdown",
   "source": [],
   "metadata": {
    "collapsed": false
   }
  },
  {
   "cell_type": "code",
   "execution_count": 74,
   "outputs": [],
   "source": [
    "evo_awa=get_evo(data_aware.T)\n",
    "evo_unawa=get_evo(data_unaware.T)"
   ],
   "metadata": {
    "collapsed": false,
    "ExecuteTime": {
     "end_time": "2025-08-20T08:09:17.492453100Z",
     "start_time": "2025-08-20T08:09:17.368340400Z"
    }
   }
  },
  {
   "cell_type": "code",
   "execution_count": 75,
   "outputs": [],
   "source": [
    "regions=dict(dc_post=['A5','A14','A16','A18','A23'],dc_front=['C32','D4'],nodc=['B12','B14','B23','B24'] )"
   ],
   "metadata": {
    "collapsed": false,
    "ExecuteTime": {
     "end_time": "2025-08-20T08:09:17.798223400Z",
     "start_time": "2025-08-20T08:09:17.694813900Z"
    }
   }
  },
  {
   "cell_type": "markdown",
   "source": [
    "regions=dict(nodc_post=['A13','A14','A16','A15','A23'],dc_front=['C32','D4'],nodc=['B12','B14','B23','B24'] )"
   ],
   "metadata": {
    "collapsed": false
   }
  },
  {
   "cell_type": "markdown",
   "source": [
    "if phy_sig=='rsp_phase':\n",
    "    colors=[['olivedrab','darkgreen'],['tab:pink','purple']]\n",
    "elif phy_sig=='cardiac_phase':\n",
    "    colors=[['c','b'],['tab:orange','r']]\n",
    "else:\n",
    "    colors=['k','grey']"
   ],
   "metadata": {
    "collapsed": false
   }
  },
  {
   "cell_type": "code",
   "execution_count": 76,
   "outputs": [
    {
     "name": "stdout",
     "output_type": "stream",
     "text": [
      "['A5', 'A14', 'A16', 'A18', 'A23']\n",
      "combining channels using \"mean\"\n",
      "combining channels using \"mean\"\n",
      "['C32', 'D4']\n",
      "combining channels using \"mean\"\n",
      "combining channels using \"mean\"\n",
      "['B12', 'B14', 'B23', 'B24']\n",
      "combining channels using \"mean\"\n",
      "combining channels using \"mean\"\n"
     ]
    }
   ],
   "source": [
    "%matplotlib qt\n",
    "\n",
    "evokeds=dict(aware=evo_awa,unaware=evo_unawa)\n",
    "\n",
    "fig,axs=plt.subplots(1,3,figsize=(10,5))\n",
    "n=0\n",
    "BF_lim=3\n",
    "for regio, picked in regions.items():\n",
    "    print(picked)\n",
    "\n",
    "    fig_fin=mne.viz.plot_compare_evokeds(evokeds,ci=False, colors=['r','g'],picks=picked,show_sensors=True,legend='upper right',truncate_yaxis=False,axes=axs[n],combine='mean',vlines=[0,0.49,0.52,0.7],ylim=dict(eeg=[-1.5*1e6,1.5*1e6]),truncate_xaxis=False)\n",
    "\n",
    "    n+=1\n"
   ],
   "metadata": {
    "collapsed": false,
    "ExecuteTime": {
     "end_time": "2025-08-20T08:09:19.504770700Z",
     "start_time": "2025-08-20T08:09:18.952908500Z"
    }
   }
  },
  {
   "cell_type": "code",
   "execution_count": 77,
   "outputs": [],
   "source": [
    "file_dir=f'ana/deconvolution/figures/waveforms_gavg_{modtype}_{erp_type}_{cond}_{dc_type}_hbc_{hbc_cond}.svg'\n",
    "fig_fin[0].savefig(file_dir,format='svg')"
   ],
   "metadata": {
    "collapsed": false,
    "ExecuteTime": {
     "end_time": "2025-08-20T08:09:20.532808500Z",
     "start_time": "2025-08-20T08:09:19.948024800Z"
    }
   }
  },
  {
   "cell_type": "code",
   "execution_count": null,
   "outputs": [],
   "source": [],
   "metadata": {
    "collapsed": false
   }
  },
  {
   "cell_type": "code",
   "execution_count": null,
   "outputs": [],
   "source": [],
   "metadata": {
    "collapsed": false
   }
  },
  {
   "cell_type": "code",
   "execution_count": null,
   "outputs": [],
   "source": [],
   "metadata": {
    "collapsed": false
   }
  },
  {
   "cell_type": "markdown",
   "source": [
    "## plot awafit awa vs unawa"
   ],
   "metadata": {
    "collapsed": false
   }
  },
  {
   "cell_type": "code",
   "execution_count": 124,
   "outputs": [],
   "source": [
    "\n",
    "#define variables\n",
    "modtype='awafit'\n",
    "\n",
    "erp_type=\"hep\"\n",
    "cond='aware'\n",
    "dc='dc'\n",
    "\n",
    "\n",
    "#load corresponding file\n",
    "\n",
    "\n",
    "file_dir_high=f'ana/deconvolution/ep_betas/{modtype}/{dc}/gavg_{modtype}_{erp_type}_{cond}_{dc}_hbc_high.ep'\n",
    "file_dir_low=f'ana/deconvolution/ep_betas/{modtype}/{dc}/gavg_{modtype}_{erp_type}_{cond}_{dc}_hbc_low.ep'\n",
    "f = open(file_dir)"
   ],
   "metadata": {
    "collapsed": false,
    "ExecuteTime": {
     "end_time": "2025-08-20T13:31:01.429515500Z",
     "start_time": "2025-08-20T13:31:01.192977400Z"
    }
   }
  },
  {
   "cell_type": "code",
   "execution_count": 125,
   "outputs": [
    {
     "data": {
      "text/plain": "(256, 128)"
     },
     "execution_count": 125,
     "metadata": {},
     "output_type": "execute_result"
    }
   ],
   "source": [
    "data_aware_high=np.loadtxt(file_dir_high)\n",
    "data_aware_high=data_cutter(data_aware_high,time_limits=[-0.2,0.8],new_time_limits=[-0.1,0.7])\n",
    "data.shape"
   ],
   "metadata": {
    "collapsed": false,
    "ExecuteTime": {
     "end_time": "2025-08-20T13:31:02.657473600Z",
     "start_time": "2025-08-20T13:31:02.287497200Z"
    }
   }
  },
  {
   "cell_type": "code",
   "execution_count": 126,
   "outputs": [
    {
     "data": {
      "text/plain": "(256, 128)"
     },
     "execution_count": 126,
     "metadata": {},
     "output_type": "execute_result"
    }
   ],
   "source": [
    "data_aware_low=np.loadtxt(file_dir_low)\n",
    "data_aware_low=data_cutter(data_aware_low,time_limits=[-0.2,0.8],new_time_limits=[-0.1,0.7])\n",
    "data.shape"
   ],
   "metadata": {
    "collapsed": false,
    "ExecuteTime": {
     "end_time": "2025-08-20T13:31:03.749753700Z",
     "start_time": "2025-08-20T13:31:03.415770500Z"
    }
   }
  },
  {
   "cell_type": "code",
   "execution_count": 127,
   "outputs": [],
   "source": [
    "\n",
    "#define variables\n",
    "modtype='awafit'\n",
    "\n",
    "cond='unaware'\n",
    "\n",
    "\n",
    "#load corresponding file\n",
    "\n",
    "\n",
    "file_dir_high=f'ana/deconvolution/ep_betas/{modtype}/{dc}/gavg_{modtype}_{erp_type}_{cond}_{dc}_hbc_high.ep'\n",
    "file_dir_low=f'ana/deconvolution/ep_betas/{modtype}/{dc}/gavg_{modtype}_{erp_type}_{cond}_{dc}_hbc_low.ep'\n",
    "f = open(file_dir)"
   ],
   "metadata": {
    "collapsed": false,
    "ExecuteTime": {
     "end_time": "2025-08-20T13:31:04.543424600Z",
     "start_time": "2025-08-20T13:31:04.416957200Z"
    }
   }
  },
  {
   "cell_type": "code",
   "execution_count": 128,
   "outputs": [],
   "source": [
    "data_unaware_high=np.loadtxt(file_dir_high)\n",
    "data_unaware_high=data_cutter(data_unaware_high,time_limits=[-0.2,0.8],new_time_limits=[-0.1,0.7])\n"
   ],
   "metadata": {
    "collapsed": false,
    "ExecuteTime": {
     "end_time": "2025-08-20T13:31:05.752266700Z",
     "start_time": "2025-08-20T13:31:05.361960800Z"
    }
   }
  },
  {
   "cell_type": "code",
   "execution_count": 129,
   "outputs": [],
   "source": [
    "data_unaware_low=np.loadtxt(file_dir_low)\n",
    "data_unaware_low=data_cutter(data_unaware_low,time_limits=[-0.2,0.8],new_time_limits=[-0.1,0.7])\n"
   ],
   "metadata": {
    "collapsed": false,
    "ExecuteTime": {
     "end_time": "2025-08-20T13:31:06.891920Z",
     "start_time": "2025-08-20T13:31:06.529325800Z"
    }
   }
  },
  {
   "cell_type": "code",
   "execution_count": 129,
   "outputs": [],
   "source": [
    "\n"
   ],
   "metadata": {
    "collapsed": false,
    "ExecuteTime": {
     "end_time": "2025-08-20T13:31:07.361847800Z",
     "start_time": "2025-08-20T13:31:07.337013900Z"
    }
   }
  },
  {
   "cell_type": "code",
   "execution_count": 130,
   "outputs": [],
   "source": [
    "def get_evo(data,tmin=-0.1):\n",
    "    biosemi_montage = mne.channels.make_standard_montage('biosemi128')\n",
    "\n",
    "    info = mne.create_info(ch_names=biosemi_montage.ch_names, sfreq=256.,\n",
    "                           ch_types='eeg')\n",
    "    evok=mne.EvokedArray(data,info,tmin=tmin)\n",
    "    evok.set_montage(biosemi_montage)\n",
    "    return evok"
   ],
   "metadata": {
    "collapsed": false,
    "ExecuteTime": {
     "end_time": "2025-08-20T13:31:08.111644300Z",
     "start_time": "2025-08-20T13:31:08.004540200Z"
    }
   }
  },
  {
   "cell_type": "markdown",
   "source": [],
   "metadata": {
    "collapsed": false
   }
  },
  {
   "cell_type": "code",
   "execution_count": 131,
   "outputs": [],
   "source": [
    "evo_awa_high=get_evo(data_aware_high.T)\n",
    "evo_unawa_high=get_evo(data_unaware_high.T)\n",
    "evo_awa_low=get_evo(data_aware_low.T)\n",
    "evo_unawa_low=get_evo(data_unaware_low.T)"
   ],
   "metadata": {
    "collapsed": false,
    "ExecuteTime": {
     "end_time": "2025-08-20T13:31:09.580182600Z",
     "start_time": "2025-08-20T13:31:09.278738300Z"
    }
   }
  },
  {
   "cell_type": "code",
   "execution_count": 132,
   "outputs": [],
   "source": [
    "regions=dict(dc_post=['A5','A14','A16','A18','A23'],dc_front=['C32','D4'],nodc=['B12','B14','B23','B24'] )"
   ],
   "metadata": {
    "collapsed": false,
    "ExecuteTime": {
     "end_time": "2025-08-20T13:31:10.372608200Z",
     "start_time": "2025-08-20T13:31:10.252121200Z"
    }
   }
  },
  {
   "cell_type": "markdown",
   "source": [
    "regions=dict(nodc_post=['A13','A14','A16','A15','A23'],dc_front=['C32','D4'],nodc=['B12','B14','B23','B24'] )"
   ],
   "metadata": {
    "collapsed": false
   }
  },
  {
   "cell_type": "markdown",
   "source": [
    "if phy_sig=='rsp_phase':\n",
    "    colors=[['olivedrab','darkgreen'],['tab:pink','purple']]\n",
    "elif phy_sig=='cardiac_phase':\n",
    "    colors=[['c','b'],['tab:orange','r']]\n",
    "else:\n",
    "    colors=['k','grey']"
   ],
   "metadata": {
    "collapsed": false
   }
  },
  {
   "cell_type": "code",
   "execution_count": 133,
   "outputs": [
    {
     "name": "stdout",
     "output_type": "stream",
     "text": [
      "['A5', 'A14', 'A16', 'A18', 'A23']\n",
      "combining channels using \"mean\"\n",
      "combining channels using \"mean\"\n",
      "combining channels using \"mean\"\n",
      "combining channels using \"mean\"\n",
      "['C32', 'D4']\n",
      "combining channels using \"mean\"\n",
      "combining channels using \"mean\"\n",
      "combining channels using \"mean\"\n",
      "combining channels using \"mean\"\n",
      "['B12', 'B14', 'B23', 'B24']\n",
      "combining channels using \"mean\"\n",
      "combining channels using \"mean\"\n",
      "combining channels using \"mean\"\n",
      "combining channels using \"mean\"\n"
     ]
    }
   ],
   "source": [
    "%matplotlib qt\n",
    "\n",
    "evokeds=dict(aware_high=evo_awa_high,unaware_high=evo_unawa_high,aware_low=evo_awa_low,unaware_low=evo_unawa_low)\n",
    "\n",
    "fig,axs=plt.subplots(1,3,figsize=(10,5))\n",
    "n=0\n",
    "BF_lim=3\n",
    "for regio, picked in regions.items():\n",
    "    print(picked)\n",
    "\n",
    "    fig_fin=mne.viz.plot_compare_evokeds(evokeds,ci=False, colors=['r','g','r','g'],picks=picked,show_sensors=True,legend='upper right',truncate_yaxis=False,axes=axs[n],combine='mean',vlines=[0,0.49,0.52,0.7],ylim=dict(eeg=[-1.5*1e6,1.5*1e6]),truncate_xaxis=False)\n",
    "\n",
    "    n+=1\n"
   ],
   "metadata": {
    "collapsed": false,
    "ExecuteTime": {
     "end_time": "2025-08-20T13:31:12.966638200Z",
     "start_time": "2025-08-20T13:31:12.278606400Z"
    }
   }
  },
  {
   "cell_type": "code",
   "execution_count": 77,
   "outputs": [],
   "source": [
    "file_dir=f'ana/deconvolution/figures/waveforms_gavg_{modtype}_{erp_type}_{cond}_{dc_type}_hbc_{hbc_cond}.svg'\n",
    "fig_fin[0].savefig(file_dir,format='svg')"
   ],
   "metadata": {
    "collapsed": false
   }
  },
  {
   "cell_type": "markdown",
   "source": [
    "# VEPs"
   ],
   "metadata": {
    "collapsed": false
   }
  },
  {
   "cell_type": "code",
   "execution_count": 118,
   "outputs": [],
   "source": [
    "g_num=None\n",
    "eeg_format='-ave.fif'\n",
    "eeg_exp='tsk'\n",
    "datafolder='ana/MNE/evo_list'\n",
    "\n",
    "\n",
    "#files = getListOfFiles(datafolder,g_num)\n",
    "\n",
    "files = GetFiles(datafolder,g_num=g_num,eeg_format=eeg_format)\n",
    "\n",
    "evo_files=files.fflist"
   ],
   "metadata": {
    "collapsed": false,
    "ExecuteTime": {
     "end_time": "2025-08-13T13:11:08.574621600Z",
     "start_time": "2025-08-13T13:11:01.039264700Z"
    }
   }
  },
  {
   "cell_type": "code",
   "execution_count": 129,
   "outputs": [
    {
     "name": "stdout",
     "output_type": "stream",
     "text": [
      "ana/MNE/evo_list/maskON/mistake/nc/xns/norm/maskON_mistake_nc_xns_norm_unaware_sys_list-ave.fif\n",
      "Reading ana/MNE/evo_list/maskON/correct/cfa/vep/norm/maskON_correct_cfa_vep_norm_aware_list-ave.fif ...\n",
      "    Read a total of 1 projection items:\n",
      "        Average EEG reference (1 x 128) active\n",
      "    Found the data of interest:\n",
      "        t =    -199.22 ...    1000.00 ms (0.33 × vep/normal/correct/aware/dia/exh + 0.20 × vep/normal/correct/aware/dia/inh + 0.31 × vep/normal/correct/aware/sys/exh + 0.17 × vep/normal/correct/aware/sys/inh\n",
      " G_n= g01)\n",
      "        0 CTF compensation matrices available\n",
      "        nave = 224 - aspect type = 100\n",
      "Projections have already been applied. Setting proj attribute to True.\n",
      "No baseline correction applied\n",
      "    Read a total of 1 projection items:\n",
      "        Average EEG reference (1 x 128) active\n",
      "    Found the data of interest:\n",
      "        t =    -199.22 ...    1000.00 ms (0.29 × vep/normal/correct/aware/dia/exh + 0.20 × vep/normal/correct/aware/dia/inh + 0.31 × vep/normal/correct/aware/sys/exh + 0.21 × vep/normal/correct/aware/sys/inh\n",
      " G_n= g03)\n",
      "        0 CTF compensation matrices available\n",
      "        nave = 311 - aspect type = 100\n",
      "Projections have already been applied. Setting proj attribute to True.\n",
      "No baseline correction applied\n",
      "    Read a total of 1 projection items:\n",
      "        Average EEG reference (1 x 128) active\n",
      "    Found the data of interest:\n",
      "        t =    -199.22 ...    1000.00 ms (0.30 × vep/normal/correct/aware/dia/exh + 0.21 × vep/normal/correct/aware/dia/inh + 0.26 × vep/normal/correct/aware/sys/exh + 0.23 × vep/normal/correct/aware/sys/inh\n",
      " G_n= g08)\n",
      "        0 CTF compensation matrices available\n",
      "        nave = 272 - aspect type = 100\n",
      "Projections have already been applied. Setting proj attribute to True.\n",
      "No baseline correction applied\n",
      "    Read a total of 1 projection items:\n",
      "        Average EEG reference (1 x 128) active\n",
      "    Found the data of interest:\n",
      "        t =    -199.22 ...    1000.00 ms (0.26 × vep/normal/correct/aware/dia/exh + 0.19 × vep/normal/correct/aware/dia/inh + 0.33 × vep/normal/correct/aware/sys/exh + 0.22 × vep/normal/correct/aware/sys/inh\n",
      " G_n= g10)\n",
      "        0 CTF compensation matrices available\n",
      "        nave = 243 - aspect type = 100\n",
      "Projections have already been applied. Setting proj attribute to True.\n",
      "No baseline correction applied\n",
      "    Read a total of 1 projection items:\n",
      "        Average EEG reference (1 x 128) active\n",
      "    Found the data of interest:\n",
      "        t =    -199.22 ...    1000.00 ms (0.24 × vep/normal/correct/aware/dia/exh + 0.28 × vep/normal/correct/aware/dia/inh + 0.27 × vep/normal/correct/aware/sys/exh + 0.21 × vep/normal/correct/aware/sys/inh\n",
      " G_n= g11)\n",
      "        0 CTF compensation matrices available\n",
      "        nave = 275 - aspect type = 100\n",
      "Projections have already been applied. Setting proj attribute to True.\n",
      "No baseline correction applied\n",
      "    Read a total of 1 projection items:\n",
      "        Average EEG reference (1 x 128) active\n",
      "    Found the data of interest:\n",
      "        t =    -199.22 ...    1000.00 ms (0.24 × vep/normal/correct/aware/dia/exh + 0.24 × vep/normal/correct/aware/dia/inh + 0.27 × vep/normal/correct/aware/sys/exh + 0.25 × vep/normal/correct/aware/sys/inh\n",
      " G_n= g12)\n",
      "        0 CTF compensation matrices available\n",
      "        nave = 168 - aspect type = 100\n",
      "Projections have already been applied. Setting proj attribute to True.\n",
      "No baseline correction applied\n",
      "    Read a total of 1 projection items:\n",
      "        Average EEG reference (1 x 128) active\n",
      "    Found the data of interest:\n",
      "        t =    -199.22 ...    1000.00 ms (0.30 × vep/normal/correct/aware/dia/exh + 0.22 × vep/normal/correct/aware/dia/inh + 0.29 × vep/normal/correct/aware/sys/exh + 0.20 × vep/normal/correct/aware/sys/inh\n",
      " G_n= g15)\n",
      "        0 CTF compensation matrices available\n",
      "        nave = 223 - aspect type = 100\n",
      "Projections have already been applied. Setting proj attribute to True.\n",
      "No baseline correction applied\n",
      "    Read a total of 1 projection items:\n",
      "        Average EEG reference (1 x 128) active\n",
      "    Found the data of interest:\n",
      "        t =    -199.22 ...    1000.00 ms (0.27 × vep/normal/correct/aware/dia/exh + 0.29 × vep/normal/correct/aware/dia/inh + 0.22 × vep/normal/correct/aware/sys/exh + 0.22 × vep/normal/correct/aware/sys/inh\n",
      " G_n= g16)\n",
      "        0 CTF compensation matrices available\n",
      "        nave = 246 - aspect type = 100\n",
      "Projections have already been applied. Setting proj attribute to True.\n",
      "No baseline correction applied\n",
      "    Read a total of 1 projection items:\n",
      "        Average EEG reference (1 x 128) active\n",
      "    Found the data of interest:\n",
      "        t =    -199.22 ...    1000.00 ms (0.17 × vep/normal/correct/aware/dia/exh + 0.31 × vep/normal/correct/aware/dia/inh + 0.26 × vep/normal/correct/aware/sys/exh + 0.25 × vep/normal/correct/aware/sys/inh\n",
      " G_n= g17)\n",
      "        0 CTF compensation matrices available\n",
      "        nave = 246 - aspect type = 100\n",
      "Projections have already been applied. Setting proj attribute to True.\n",
      "No baseline correction applied\n",
      "    Read a total of 1 projection items:\n",
      "        Average EEG reference (1 x 128) active\n",
      "    Found the data of interest:\n",
      "        t =    -199.22 ...    1000.00 ms (0.29 × vep/normal/correct/aware/dia/exh + 0.20 × vep/normal/correct/aware/dia/inh + 0.25 × vep/normal/correct/aware/sys/exh + 0.26 × vep/normal/correct/aware/sys/inh\n",
      " G_n= g19)\n",
      "        0 CTF compensation matrices available\n",
      "        nave = 347 - aspect type = 100\n",
      "Projections have already been applied. Setting proj attribute to True.\n",
      "No baseline correction applied\n",
      "    Read a total of 1 projection items:\n",
      "        Average EEG reference (1 x 128) active\n",
      "    Found the data of interest:\n",
      "        t =    -199.22 ...    1000.00 ms (0.20 × vep/normal/correct/aware/dia/exh + 0.31 × vep/normal/correct/aware/dia/inh + 0.28 × vep/normal/correct/aware/sys/exh + 0.20 × vep/normal/correct/aware/sys/inh\n",
      " G_n= g23)\n",
      "        0 CTF compensation matrices available\n",
      "        nave = 293 - aspect type = 100\n",
      "Projections have already been applied. Setting proj attribute to True.\n",
      "No baseline correction applied\n",
      "    Read a total of 1 projection items:\n",
      "        Average EEG reference (1 x 128) active\n",
      "    Found the data of interest:\n",
      "        t =    -199.22 ...    1000.00 ms (0.28 × vep/normal/correct/aware/dia/exh + 0.22 × vep/normal/correct/aware/dia/inh + 0.32 × vep/normal/correct/aware/sys/exh + 0.18 × vep/normal/correct/aware/sys/inh\n",
      " G_n= g24)\n",
      "        0 CTF compensation matrices available\n",
      "        nave = 146 - aspect type = 100\n",
      "Projections have already been applied. Setting proj attribute to True.\n",
      "No baseline correction applied\n",
      "    Read a total of 1 projection items:\n",
      "        Average EEG reference (1 x 128) active\n",
      "    Found the data of interest:\n",
      "        t =    -199.22 ...    1000.00 ms (0.20 × vep/normal/correct/aware/dia/exh + 0.28 × vep/normal/correct/aware/dia/inh + 0.32 × vep/normal/correct/aware/sys/exh + 0.21 × vep/normal/correct/aware/sys/inh\n",
      " G_n= g25)\n",
      "        0 CTF compensation matrices available\n",
      "        nave = 520 - aspect type = 100\n",
      "Projections have already been applied. Setting proj attribute to True.\n",
      "No baseline correction applied\n",
      "    Read a total of 1 projection items:\n",
      "        Average EEG reference (1 x 128) active\n",
      "    Found the data of interest:\n",
      "        t =    -199.22 ...    1000.00 ms (0.34 × vep/normal/correct/aware/dia/exh + 0.17 × vep/normal/correct/aware/dia/inh + 0.34 × vep/normal/correct/aware/sys/exh + 0.15 × vep/normal/correct/aware/sys/inh\n",
      " G_n= g28)\n",
      "        0 CTF compensation matrices available\n",
      "        nave = 125 - aspect type = 100\n",
      "Projections have already been applied. Setting proj attribute to True.\n",
      "No baseline correction applied\n",
      "    Read a total of 1 projection items:\n",
      "        Average EEG reference (1 x 128) active\n",
      "    Found the data of interest:\n",
      "        t =    -199.22 ...    1000.00 ms (0.30 × vep/normal/correct/aware/dia/exh + 0.17 × vep/normal/correct/aware/dia/inh + 0.37 × vep/normal/correct/aware/sys/exh + 0.16 × vep/normal/correct/aware/sys/inh\n",
      " G_n= g32)\n",
      "        0 CTF compensation matrices available\n",
      "        nave = 247 - aspect type = 100\n",
      "Projections have already been applied. Setting proj attribute to True.\n",
      "No baseline correction applied\n",
      "    Read a total of 1 projection items:\n",
      "        Average EEG reference (1 x 128) active\n",
      "    Found the data of interest:\n",
      "        t =    -199.22 ...    1000.00 ms (0.29 × vep/normal/correct/aware/dia/exh + 0.19 × vep/normal/correct/aware/dia/inh + 0.30 × vep/normal/correct/aware/sys/exh + 0.21 × vep/normal/correct/aware/sys/inh\n",
      " G_n= g33)\n",
      "        0 CTF compensation matrices available\n",
      "        nave = 285 - aspect type = 100\n",
      "Projections have already been applied. Setting proj attribute to True.\n",
      "No baseline correction applied\n",
      "    Read a total of 1 projection items:\n",
      "        Average EEG reference (1 x 128) active\n",
      "    Found the data of interest:\n",
      "        t =    -199.22 ...    1000.00 ms (0.27 × vep/normal/correct/aware/dia/exh + 0.22 × vep/normal/correct/aware/dia/inh + 0.30 × vep/normal/correct/aware/sys/exh + 0.22 × vep/normal/correct/aware/sys/inh\n",
      " G_n= g34)\n",
      "        0 CTF compensation matrices available\n",
      "        nave = 315 - aspect type = 100\n",
      "Projections have already been applied. Setting proj attribute to True.\n",
      "No baseline correction applied\n",
      "    Read a total of 1 projection items:\n",
      "        Average EEG reference (1 x 128) active\n",
      "    Found the data of interest:\n",
      "        t =    -199.22 ...    1000.00 ms (0.18 × vep/normal/correct/aware/dia/exh + 0.31 × vep/normal/correct/aware/dia/inh + 0.15 × vep/normal/correct/aware/sys/exh + 0.36 × vep/normal/correct/aware/sys/inh\n",
      " G_n= g37)\n",
      "        0 CTF compensation matrices available\n",
      "        nave = 211 - aspect type = 100\n",
      "Projections have already been applied. Setting proj attribute to True.\n",
      "No baseline correction applied\n",
      "    Read a total of 1 projection items:\n",
      "        Average EEG reference (1 x 128) active\n",
      "    Found the data of interest:\n",
      "        t =    -199.22 ...    1000.00 ms (0.30 × vep/normal/correct/aware/dia/exh + 0.24 × vep/normal/correct/aware/dia/inh + 0.27 × vep/normal/correct/aware/sys/exh + 0.20 × vep/normal/correct/aware/sys/inh\n",
      " G_n= g38)\n",
      "        0 CTF compensation matrices available\n",
      "        nave = 271 - aspect type = 100\n",
      "Projections have already been applied. Setting proj attribute to True.\n",
      "No baseline correction applied\n",
      "    Read a total of 1 projection items:\n",
      "        Average EEG reference (1 x 128) active\n",
      "    Found the data of interest:\n",
      "        t =    -199.22 ...    1000.00 ms (0.32 × vep/normal/correct/aware/dia/exh + 0.20 × vep/normal/correct/aware/dia/inh + 0.25 × vep/normal/correct/aware/sys/exh + 0.23 × vep/normal/correct/aware/sys/inh\n",
      " G_n= g39)\n",
      "        0 CTF compensation matrices available\n",
      "        nave = 189 - aspect type = 100\n",
      "Projections have already been applied. Setting proj attribute to True.\n",
      "No baseline correction applied\n",
      "    Read a total of 1 projection items:\n",
      "        Average EEG reference (1 x 128) active\n",
      "    Found the data of interest:\n",
      "        t =    -199.22 ...    1000.00 ms (0.19 × vep/normal/correct/aware/dia/exh + 0.28 × vep/normal/correct/aware/dia/inh + 0.33 × vep/normal/correct/aware/sys/exh + 0.19 × vep/normal/correct/aware/sys/inh\n",
      " G_n= g40)\n",
      "        0 CTF compensation matrices available\n",
      "        nave = 144 - aspect type = 100\n",
      "Projections have already been applied. Setting proj attribute to True.\n",
      "No baseline correction applied\n",
      "    Read a total of 1 projection items:\n",
      "        Average EEG reference (1 x 128) active\n",
      "    Found the data of interest:\n",
      "        t =    -199.22 ...    1000.00 ms (0.18 × vep/normal/correct/aware/dia/exh + 0.26 × vep/normal/correct/aware/dia/inh + 0.32 × vep/normal/correct/aware/sys/exh + 0.25 × vep/normal/correct/aware/sys/inh\n",
      " G_n= g41)\n",
      "        0 CTF compensation matrices available\n",
      "        nave = 171 - aspect type = 100\n",
      "Projections have already been applied. Setting proj attribute to True.\n",
      "No baseline correction applied\n",
      "    Read a total of 1 projection items:\n",
      "        Average EEG reference (1 x 128) active\n",
      "    Found the data of interest:\n",
      "        t =    -199.22 ...    1000.00 ms (0.29 × vep/normal/correct/aware/dia/exh + 0.22 × vep/normal/correct/aware/dia/inh + 0.26 × vep/normal/correct/aware/sys/exh + 0.23 × vep/normal/correct/aware/sys/inh\n",
      " G_n= g42)\n",
      "        0 CTF compensation matrices available\n",
      "        nave = 273 - aspect type = 100\n",
      "Projections have already been applied. Setting proj attribute to True.\n",
      "No baseline correction applied\n",
      "    Read a total of 1 projection items:\n",
      "        Average EEG reference (1 x 128) active\n",
      "    Found the data of interest:\n",
      "        t =    -199.22 ...    1000.00 ms (0.26 × vep/normal/correct/aware/dia/exh + 0.26 × vep/normal/correct/aware/dia/inh + 0.30 × vep/normal/correct/aware/sys/exh + 0.18 × vep/normal/correct/aware/sys/inh\n",
      " G_n= g44)\n",
      "        0 CTF compensation matrices available\n",
      "        nave = 225 - aspect type = 100\n",
      "Projections have already been applied. Setting proj attribute to True.\n",
      "No baseline correction applied\n",
      "    Read a total of 1 projection items:\n",
      "        Average EEG reference (1 x 128) active\n",
      "    Found the data of interest:\n",
      "        t =    -199.22 ...    1000.00 ms (0.32 × vep/normal/correct/aware/dia/exh + 0.21 × vep/normal/correct/aware/dia/inh + 0.33 × vep/normal/correct/aware/sys/exh + 0.15 × vep/normal/correct/aware/sys/inh\n",
      " G_n= g45)\n",
      "        0 CTF compensation matrices available\n",
      "        nave = 322 - aspect type = 100\n",
      "Projections have already been applied. Setting proj attribute to True.\n",
      "No baseline correction applied\n",
      "    Read a total of 1 projection items:\n",
      "        Average EEG reference (1 x 128) active\n",
      "    Found the data of interest:\n",
      "        t =    -199.22 ...    1000.00 ms (0.20 × vep/normal/correct/aware/dia/exh + 0.33 × vep/normal/correct/aware/dia/inh + 0.17 × vep/normal/correct/aware/sys/exh + 0.30 × vep/normal/correct/aware/sys/inh\n",
      " G_n= g46)\n",
      "        0 CTF compensation matrices available\n",
      "        nave = 207 - aspect type = 100\n",
      "Projections have already been applied. Setting proj attribute to True.\n",
      "No baseline correction applied\n",
      "    Read a total of 1 projection items:\n",
      "        Average EEG reference (1 x 128) active\n",
      "    Found the data of interest:\n",
      "        t =    -199.22 ...    1000.00 ms (0.24 × vep/normal/correct/aware/dia/exh + 0.27 × vep/normal/correct/aware/dia/inh + 0.26 × vep/normal/correct/aware/sys/exh + 0.23 × vep/normal/correct/aware/sys/inh\n",
      " G_n= g47)\n",
      "        0 CTF compensation matrices available\n",
      "        nave = 336 - aspect type = 100\n",
      "Projections have already been applied. Setting proj attribute to True.\n",
      "No baseline correction applied\n",
      "    Read a total of 1 projection items:\n",
      "        Average EEG reference (1 x 128) active\n",
      "    Found the data of interest:\n",
      "        t =    -199.22 ...    1000.00 ms (0.23 × vep/normal/correct/aware/dia/exh + 0.25 × vep/normal/correct/aware/dia/inh + 0.35 × vep/normal/correct/aware/sys/exh + 0.17 × vep/normal/correct/aware/sys/inh\n",
      " G_n= g49)\n",
      "        0 CTF compensation matrices available\n",
      "        nave = 230 - aspect type = 100\n",
      "Projections have already been applied. Setting proj attribute to True.\n",
      "No baseline correction applied\n",
      "    Read a total of 1 projection items:\n",
      "        Average EEG reference (1 x 128) active\n",
      "    Found the data of interest:\n",
      "        t =    -199.22 ...    1000.00 ms (0.22 × vep/normal/correct/aware/dia/exh + 0.22 × vep/normal/correct/aware/dia/inh + 0.37 × vep/normal/correct/aware/sys/exh + 0.19 × vep/normal/correct/aware/sys/inh\n",
      " G_n= g51)\n",
      "        0 CTF compensation matrices available\n",
      "        nave = 278 - aspect type = 100\n",
      "Projections have already been applied. Setting proj attribute to True.\n",
      "No baseline correction applied\n",
      "    Read a total of 1 projection items:\n",
      "        Average EEG reference (1 x 128) active\n",
      "    Found the data of interest:\n",
      "        t =    -199.22 ...    1000.00 ms (0.29 × vep/normal/correct/aware/dia/exh + 0.21 × vep/normal/correct/aware/dia/inh + 0.26 × vep/normal/correct/aware/sys/exh + 0.23 × vep/normal/correct/aware/sys/inh\n",
      " G_n= g52)\n",
      "        0 CTF compensation matrices available\n",
      "        nave = 205 - aspect type = 100\n",
      "Projections have already been applied. Setting proj attribute to True.\n",
      "No baseline correction applied\n",
      "ana/MNE/evo_list/maskON/mistake/nc/xns/norm/maskON_mistake_nc_xns_norm_unaware_sys_list-ave.fif\n",
      "Reading ana/MNE/evo_list/maskON/correct/cfa/vep/norm/maskON_correct_cfa_vep_norm_unaware_list-ave.fif ...\n",
      "    Read a total of 1 projection items:\n",
      "        Average EEG reference (1 x 128) active\n",
      "    Found the data of interest:\n",
      "        t =    -199.22 ...    1000.00 ms (0.30 × vep/normal/correct/unaware/dia/exh + 0.23 × vep/normal/correct/unaware/dia/inh + 0.25 × vep/normal/correct/unaware/sys/exh + 0.21 × vep/normal/correct/unaware/sys/inh\n",
      " G_n= g01)\n",
      "        0 CTF compensation matrices available\n",
      "        nave = 191 - aspect type = 100\n",
      "Projections have already been applied. Setting proj attribute to True.\n",
      "No baseline correction applied\n",
      "    Read a total of 1 projection items:\n",
      "        Average EEG reference (1 x 128) active\n",
      "    Found the data of interest:\n",
      "        t =    -199.22 ...    1000.00 ms (0.28 × vep/normal/correct/unaware/dia/exh + 0.22 × vep/normal/correct/unaware/dia/inh + 0.29 × vep/normal/correct/unaware/sys/exh + 0.20 × vep/normal/correct/unaware/sys/inh\n",
      " G_n= g03)\n",
      "        0 CTF compensation matrices available\n",
      "        nave = 176 - aspect type = 100\n",
      "Projections have already been applied. Setting proj attribute to True.\n",
      "No baseline correction applied\n",
      "    Read a total of 1 projection items:\n",
      "        Average EEG reference (1 x 128) active\n",
      "    Found the data of interest:\n",
      "        t =    -199.22 ...    1000.00 ms (0.28 × vep/normal/correct/unaware/dia/exh + 0.14 × vep/normal/correct/unaware/dia/inh + 0.35 × vep/normal/correct/unaware/sys/exh + 0.23 × vep/normal/correct/unaware/sys/inh\n",
      " G_n= g08)\n",
      "        0 CTF compensation matrices available\n",
      "        nave = 124 - aspect type = 100\n",
      "Projections have already been applied. Setting proj attribute to True.\n",
      "No baseline correction applied\n",
      "    Read a total of 1 projection items:\n",
      "        Average EEG reference (1 x 128) active\n",
      "    Found the data of interest:\n",
      "        t =    -199.22 ...    1000.00 ms (0.27 × vep/normal/correct/unaware/dia/exh + 0.19 × vep/normal/correct/unaware/dia/inh + 0.26 × vep/normal/correct/unaware/sys/exh + 0.28 × vep/normal/correct/unaware/sys/inh\n",
      " G_n= g10)\n",
      "        0 CTF compensation matrices available\n",
      "        nave = 107 - aspect type = 100\n",
      "Projections have already been applied. Setting proj attribute to True.\n",
      "No baseline correction applied\n",
      "    Read a total of 1 projection items:\n",
      "        Average EEG reference (1 x 128) active\n",
      "    Found the data of interest:\n",
      "        t =    -199.22 ...    1000.00 ms (0.30 × vep/normal/correct/unaware/dia/exh + 0.25 × vep/normal/correct/unaware/dia/inh + 0.26 × vep/normal/correct/unaware/sys/exh + 0.19 × vep/normal/correct/unaware/sys/inh\n",
      " G_n= g11)\n",
      "        0 CTF compensation matrices available\n",
      "        nave = 282 - aspect type = 100\n",
      "Projections have already been applied. Setting proj attribute to True.\n",
      "No baseline correction applied\n",
      "    Read a total of 1 projection items:\n",
      "        Average EEG reference (1 x 128) active\n",
      "    Found the data of interest:\n",
      "        t =    -199.22 ...    1000.00 ms (0.30 × vep/normal/correct/unaware/dia/exh + 0.24 × vep/normal/correct/unaware/dia/inh + 0.21 × vep/normal/correct/unaware/sys/exh + 0.25 × vep/normal/correct/unaware/sys/inh\n",
      " G_n= g12)\n",
      "        0 CTF compensation matrices available\n",
      "        nave = 157 - aspect type = 100\n",
      "Projections have already been applied. Setting proj attribute to True.\n",
      "No baseline correction applied\n",
      "    Read a total of 1 projection items:\n",
      "        Average EEG reference (1 x 128) active\n",
      "    Found the data of interest:\n",
      "        t =    -199.22 ...    1000.00 ms (0.28 × vep/normal/correct/unaware/dia/exh + 0.23 × vep/normal/correct/unaware/dia/inh + 0.28 × vep/normal/correct/unaware/sys/exh + 0.21 × vep/normal/correct/unaware/sys/inh\n",
      " G_n= g15)\n",
      "        0 CTF compensation matrices available\n",
      "        nave = 246 - aspect type = 100\n",
      "Projections have already been applied. Setting proj attribute to True.\n",
      "No baseline correction applied\n",
      "    Read a total of 1 projection items:\n",
      "        Average EEG reference (1 x 128) active\n",
      "    Found the data of interest:\n",
      "        t =    -199.22 ...    1000.00 ms (0.26 × vep/normal/correct/unaware/dia/exh + 0.24 × vep/normal/correct/unaware/dia/inh + 0.27 × vep/normal/correct/unaware/sys/exh + 0.23 × vep/normal/correct/unaware/sys/inh\n",
      " G_n= g16)\n",
      "        0 CTF compensation matrices available\n",
      "        nave = 249 - aspect type = 100\n",
      "Projections have already been applied. Setting proj attribute to True.\n",
      "No baseline correction applied\n",
      "    Read a total of 1 projection items:\n",
      "        Average EEG reference (1 x 128) active\n",
      "    Found the data of interest:\n",
      "        t =    -199.22 ...    1000.00 ms (0.21 × vep/normal/correct/unaware/dia/exh + 0.32 × vep/normal/correct/unaware/dia/inh + 0.22 × vep/normal/correct/unaware/sys/exh + 0.26 × vep/normal/correct/unaware/sys/inh\n",
      " G_n= g17)\n",
      "        0 CTF compensation matrices available\n",
      "        nave = 322 - aspect type = 100\n",
      "Projections have already been applied. Setting proj attribute to True.\n",
      "No baseline correction applied\n",
      "    Read a total of 1 projection items:\n",
      "        Average EEG reference (1 x 128) active\n",
      "    Found the data of interest:\n",
      "        t =    -199.22 ...    1000.00 ms (0.26 × vep/normal/correct/unaware/dia/exh + 0.27 × vep/normal/correct/unaware/dia/inh + 0.24 × vep/normal/correct/unaware/sys/exh + 0.23 × vep/normal/correct/unaware/sys/inh\n",
      " G_n= g19)\n",
      "        0 CTF compensation matrices available\n",
      "        nave = 205 - aspect type = 100\n",
      "Projections have already been applied. Setting proj attribute to True.\n",
      "No baseline correction applied\n",
      "    Read a total of 1 projection items:\n",
      "        Average EEG reference (1 x 128) active\n",
      "    Found the data of interest:\n",
      "        t =    -199.22 ...    1000.00 ms (0.17 × vep/normal/correct/unaware/dia/exh + 0.33 × vep/normal/correct/unaware/dia/inh + 0.23 × vep/normal/correct/unaware/sys/exh + 0.26 × vep/normal/correct/unaware/sys/inh\n",
      " G_n= g23)\n",
      "        0 CTF compensation matrices available\n",
      "        nave = 162 - aspect type = 100\n",
      "Projections have already been applied. Setting proj attribute to True.\n",
      "No baseline correction applied\n",
      "    Read a total of 1 projection items:\n",
      "        Average EEG reference (1 x 128) active\n",
      "    Found the data of interest:\n",
      "        t =    -199.22 ...    1000.00 ms (0.29 × vep/normal/correct/unaware/dia/exh + 0.26 × vep/normal/correct/unaware/dia/inh + 0.33 × vep/normal/correct/unaware/sys/exh + 0.12 × vep/normal/correct/unaware/sys/inh\n",
      " G_n= g24)\n",
      "        0 CTF compensation matrices available\n",
      "        nave = 291 - aspect type = 100\n",
      "Projections have already been applied. Setting proj attribute to True.\n",
      "No baseline correction applied\n",
      "    Read a total of 1 projection items:\n",
      "        Average EEG reference (1 x 128) active\n",
      "    Found the data of interest:\n",
      "        t =    -199.22 ...    1000.00 ms (0.18 × vep/normal/correct/unaware/dia/exh + 0.29 × vep/normal/correct/unaware/dia/inh + 0.28 × vep/normal/correct/unaware/sys/exh + 0.25 × vep/normal/correct/unaware/sys/inh\n",
      " G_n= g25)\n",
      "        0 CTF compensation matrices available\n",
      "        nave = 230 - aspect type = 100\n",
      "Projections have already been applied. Setting proj attribute to True.\n",
      "No baseline correction applied\n",
      "    Read a total of 1 projection items:\n",
      "        Average EEG reference (1 x 128) active\n",
      "    Found the data of interest:\n",
      "        t =    -199.22 ...    1000.00 ms (0.30 × vep/normal/correct/unaware/dia/exh + 0.19 × vep/normal/correct/unaware/dia/inh + 0.35 × vep/normal/correct/unaware/sys/exh + 0.16 × vep/normal/correct/unaware/sys/inh\n",
      " G_n= g28)\n",
      "        0 CTF compensation matrices available\n",
      "        nave = 284 - aspect type = 100\n",
      "Projections have already been applied. Setting proj attribute to True.\n",
      "No baseline correction applied\n",
      "    Read a total of 1 projection items:\n",
      "        Average EEG reference (1 x 128) active\n",
      "    Found the data of interest:\n",
      "        t =    -199.22 ...    1000.00 ms (0.34 × vep/normal/correct/unaware/dia/exh + 0.19 × vep/normal/correct/unaware/dia/inh + 0.31 × vep/normal/correct/unaware/sys/exh + 0.16 × vep/normal/correct/unaware/sys/inh\n",
      " G_n= g32)\n",
      "        0 CTF compensation matrices available\n",
      "        nave = 182 - aspect type = 100\n",
      "Projections have already been applied. Setting proj attribute to True.\n",
      "No baseline correction applied\n",
      "    Read a total of 1 projection items:\n",
      "        Average EEG reference (1 x 128) active\n",
      "    Found the data of interest:\n",
      "        t =    -199.22 ...    1000.00 ms (0.30 × vep/normal/correct/unaware/dia/exh + 0.20 × vep/normal/correct/unaware/dia/inh + 0.32 × vep/normal/correct/unaware/sys/exh + 0.18 × vep/normal/correct/unaware/sys/inh\n",
      " G_n= g33)\n",
      "        0 CTF compensation matrices available\n",
      "        nave = 311 - aspect type = 100\n",
      "Projections have already been applied. Setting proj attribute to True.\n",
      "No baseline correction applied\n",
      "    Read a total of 1 projection items:\n",
      "        Average EEG reference (1 x 128) active\n",
      "    Found the data of interest:\n",
      "        t =    -199.22 ...    1000.00 ms (0.22 × vep/normal/correct/unaware/dia/exh + 0.24 × vep/normal/correct/unaware/dia/inh + 0.26 × vep/normal/correct/unaware/sys/exh + 0.29 × vep/normal/correct/unaware/sys/inh\n",
      " G_n= g34)\n",
      "        0 CTF compensation matrices available\n",
      "        nave = 171 - aspect type = 100\n",
      "Projections have already been applied. Setting proj attribute to True.\n",
      "No baseline correction applied\n",
      "    Read a total of 1 projection items:\n",
      "        Average EEG reference (1 x 128) active\n",
      "    Found the data of interest:\n",
      "        t =    -199.22 ...    1000.00 ms (0.12 × vep/normal/correct/unaware/dia/exh + 0.34 × vep/normal/correct/unaware/dia/inh + 0.19 × vep/normal/correct/unaware/sys/exh + 0.36 × vep/normal/correct/unaware/sys/inh\n",
      " G_n= g37)\n",
      "        0 CTF compensation matrices available\n",
      "        nave = 286 - aspect type = 100\n",
      "Projections have already been applied. Setting proj attribute to True.\n",
      "No baseline correction applied\n",
      "    Read a total of 1 projection items:\n",
      "        Average EEG reference (1 x 128) active\n",
      "    Found the data of interest:\n",
      "        t =    -199.22 ...    1000.00 ms (0.29 × vep/normal/correct/unaware/dia/exh + 0.22 × vep/normal/correct/unaware/dia/inh + 0.30 × vep/normal/correct/unaware/sys/exh + 0.19 × vep/normal/correct/unaware/sys/inh\n",
      " G_n= g38)\n",
      "        0 CTF compensation matrices available\n",
      "        nave = 329 - aspect type = 100\n",
      "Projections have already been applied. Setting proj attribute to True.\n",
      "No baseline correction applied\n",
      "    Read a total of 1 projection items:\n",
      "        Average EEG reference (1 x 128) active\n",
      "    Found the data of interest:\n",
      "        t =    -199.22 ...    1000.00 ms (0.32 × vep/normal/correct/unaware/dia/exh + 0.16 × vep/normal/correct/unaware/dia/inh + 0.39 × vep/normal/correct/unaware/sys/exh + 0.13 × vep/normal/correct/unaware/sys/inh\n",
      " G_n= g39)\n",
      "        0 CTF compensation matrices available\n",
      "        nave = 368 - aspect type = 100\n",
      "Projections have already been applied. Setting proj attribute to True.\n",
      "No baseline correction applied\n",
      "    Read a total of 1 projection items:\n",
      "        Average EEG reference (1 x 128) active\n",
      "    Found the data of interest:\n",
      "        t =    -199.22 ...    1000.00 ms (0.23 × vep/normal/correct/unaware/dia/exh + 0.29 × vep/normal/correct/unaware/dia/inh + 0.28 × vep/normal/correct/unaware/sys/exh + 0.21 × vep/normal/correct/unaware/sys/inh\n",
      " G_n= g40)\n",
      "        0 CTF compensation matrices available\n",
      "        nave = 210 - aspect type = 100\n",
      "Projections have already been applied. Setting proj attribute to True.\n",
      "No baseline correction applied\n",
      "    Read a total of 1 projection items:\n",
      "        Average EEG reference (1 x 128) active\n",
      "    Found the data of interest:\n",
      "        t =    -199.22 ...    1000.00 ms (0.28 × vep/normal/correct/unaware/dia/exh + 0.29 × vep/normal/correct/unaware/dia/inh + 0.24 × vep/normal/correct/unaware/sys/exh + 0.18 × vep/normal/correct/unaware/sys/inh\n",
      " G_n= g41)\n",
      "        0 CTF compensation matrices available\n",
      "        nave = 284 - aspect type = 100\n",
      "Projections have already been applied. Setting proj attribute to True.\n",
      "No baseline correction applied\n",
      "    Read a total of 1 projection items:\n",
      "        Average EEG reference (1 x 128) active\n",
      "    Found the data of interest:\n",
      "        t =    -199.22 ...    1000.00 ms (0.28 × vep/normal/correct/unaware/dia/exh + 0.24 × vep/normal/correct/unaware/dia/inh + 0.27 × vep/normal/correct/unaware/sys/exh + 0.21 × vep/normal/correct/unaware/sys/inh\n",
      " G_n= g42)\n",
      "        0 CTF compensation matrices available\n",
      "        nave = 331 - aspect type = 100\n",
      "Projections have already been applied. Setting proj attribute to True.\n",
      "No baseline correction applied\n",
      "    Read a total of 1 projection items:\n",
      "        Average EEG reference (1 x 128) active\n",
      "    Found the data of interest:\n",
      "        t =    -199.22 ...    1000.00 ms (0.25 × vep/normal/correct/unaware/dia/exh + 0.26 × vep/normal/correct/unaware/dia/inh + 0.28 × vep/normal/correct/unaware/sys/exh + 0.21 × vep/normal/correct/unaware/sys/inh\n",
      " G_n= g44)\n",
      "        0 CTF compensation matrices available\n",
      "        nave = 365 - aspect type = 100\n",
      "Projections have already been applied. Setting proj attribute to True.\n",
      "No baseline correction applied\n",
      "    Read a total of 1 projection items:\n",
      "        Average EEG reference (1 x 128) active\n",
      "    Found the data of interest:\n",
      "        t =    -199.22 ...    1000.00 ms (0.27 × vep/normal/correct/unaware/dia/exh + 0.25 × vep/normal/correct/unaware/dia/inh + 0.31 × vep/normal/correct/unaware/sys/exh + 0.17 × vep/normal/correct/unaware/sys/inh\n",
      " G_n= g45)\n",
      "        0 CTF compensation matrices available\n",
      "        nave = 222 - aspect type = 100\n",
      "Projections have already been applied. Setting proj attribute to True.\n",
      "No baseline correction applied\n",
      "    Read a total of 1 projection items:\n",
      "        Average EEG reference (1 x 128) active\n",
      "    Found the data of interest:\n",
      "        t =    -199.22 ...    1000.00 ms (0.18 × vep/normal/correct/unaware/dia/exh + 0.22 × vep/normal/correct/unaware/dia/inh + 0.16 × vep/normal/correct/unaware/sys/exh + 0.44 × vep/normal/correct/unaware/sys/inh\n",
      " G_n= g46)\n",
      "        0 CTF compensation matrices available\n",
      "        nave = 123 - aspect type = 100\n",
      "Projections have already been applied. Setting proj attribute to True.\n",
      "No baseline correction applied\n",
      "    Read a total of 1 projection items:\n",
      "        Average EEG reference (1 x 128) active\n",
      "    Found the data of interest:\n",
      "        t =    -199.22 ...    1000.00 ms (0.25 × vep/normal/correct/unaware/dia/exh + 0.28 × vep/normal/correct/unaware/dia/inh + 0.25 × vep/normal/correct/unaware/sys/exh + 0.22 × vep/normal/correct/unaware/sys/inh\n",
      " G_n= g47)\n",
      "        0 CTF compensation matrices available\n",
      "        nave = 266 - aspect type = 100\n",
      "Projections have already been applied. Setting proj attribute to True.\n",
      "No baseline correction applied\n",
      "    Read a total of 1 projection items:\n",
      "        Average EEG reference (1 x 128) active\n",
      "    Found the data of interest:\n",
      "        t =    -199.22 ...    1000.00 ms (0.23 × vep/normal/correct/unaware/dia/exh + 0.27 × vep/normal/correct/unaware/dia/inh + 0.30 × vep/normal/correct/unaware/sys/exh + 0.21 × vep/normal/correct/unaware/sys/inh\n",
      " G_n= g49)\n",
      "        0 CTF compensation matrices available\n",
      "        nave = 233 - aspect type = 100\n",
      "Projections have already been applied. Setting proj attribute to True.\n",
      "No baseline correction applied\n",
      "    Read a total of 1 projection items:\n",
      "        Average EEG reference (1 x 128) active\n",
      "    Found the data of interest:\n",
      "        t =    -199.22 ...    1000.00 ms (0.29 × vep/normal/correct/unaware/dia/exh + 0.20 × vep/normal/correct/unaware/dia/inh + 0.28 × vep/normal/correct/unaware/sys/exh + 0.22 × vep/normal/correct/unaware/sys/inh\n",
      " G_n= g51)\n",
      "        0 CTF compensation matrices available\n",
      "        nave = 304 - aspect type = 100\n",
      "Projections have already been applied. Setting proj attribute to True.\n",
      "No baseline correction applied\n",
      "    Read a total of 1 projection items:\n",
      "        Average EEG reference (1 x 128) active\n",
      "    Found the data of interest:\n",
      "        t =    -199.22 ...    1000.00 ms (0.26 × vep/normal/correct/unaware/dia/exh + 0.22 × vep/normal/correct/unaware/dia/inh + 0.28 × vep/normal/correct/unaware/sys/exh + 0.24 × vep/normal/correct/unaware/sys/inh\n",
      " G_n= g52)\n",
      "        0 CTF compensation matrices available\n",
      "        nave = 316 - aspect type = 100\n",
      "Projections have already been applied. Setting proj attribute to True.\n",
      "No baseline correction applied\n"
     ]
    }
   ],
   "source": [
    "phy_cond=''\n",
    "rsp_cond='n'\n",
    "if rsp_cond=='o':\n",
    "    rsp_cond_lab='tsk_o_'\n",
    "elif rsp_cond=='n':\n",
    "    rsp_cond_lab=''\n",
    "cond1=mne.read_evokeds(filter_list_equal(evo_files,f'{rsp_cond_lab}maskON_correct_cfa_vep_norm_aware_{phy_cond}list'))\n",
    "cond2=mne.read_evokeds(filter_list_equal(evo_files,f'{rsp_cond_lab}maskON_correct_cfa_vep_norm_unaware_{phy_cond}list'))"
   ],
   "metadata": {
    "collapsed": false,
    "ExecuteTime": {
     "end_time": "2025-08-13T13:36:39.291767200Z",
     "start_time": "2025-08-13T13:36:30.311698700Z"
    }
   }
  },
  {
   "cell_type": "code",
   "execution_count": 130,
   "outputs": [],
   "source": [
    "evo_awa=[ev.crop(-0.1,0.7) for ev in cond1]\n",
    "evo_unawa=[ev.crop(-0.1,0.7) for ev in cond2]"
   ],
   "metadata": {
    "collapsed": false,
    "ExecuteTime": {
     "end_time": "2025-08-13T13:36:41.254345800Z",
     "start_time": "2025-08-13T13:36:41.128591800Z"
    }
   }
  },
  {
   "cell_type": "code",
   "execution_count": 132,
   "outputs": [
    {
     "data": {
      "text/plain": "0    g01\n0    g10\n0    g12\n0    g16\n0    g23\n0    g24\n0    g28\n0    g33\n0    g34\n0    g41\n0    g42\n0    g44\n0    g45\n0    g46\n0    g49\nName: g_num, dtype: object"
     },
     "execution_count": 132,
     "metadata": {},
     "output_type": "execute_result"
    }
   ],
   "source": [
    "g_num_high"
   ],
   "metadata": {
    "collapsed": false,
    "ExecuteTime": {
     "end_time": "2025-08-13T13:36:53.937743700Z",
     "start_time": "2025-08-13T13:36:53.828361900Z"
    }
   }
  },
  {
   "cell_type": "code",
   "execution_count": 139,
   "outputs": [],
   "source": [
    "evo_awa_high=[]\n",
    "evo_awa_low=[]\n",
    "for evo in evo_awa:\n",
    "    if  g_num_high.str.contains(evo.comment[-3:]).any():\n",
    "        evo_awa_high.append(evo)\n",
    "    elif g_num_low.str.contains(evo.comment[-3:]).any():\n",
    "        evo_awa_low.append(evo)\n",
    "    else:\n",
    "        print(f'{evo.comment[-3:]} not found')"
   ],
   "metadata": {
    "collapsed": false,
    "ExecuteTime": {
     "end_time": "2025-08-13T13:41:59.019977100Z",
     "start_time": "2025-08-13T13:41:58.910514600Z"
    }
   }
  },
  {
   "cell_type": "code",
   "execution_count": 141,
   "outputs": [],
   "source": [
    "evo_unawa_high=[]\n",
    "evo_unawa_low=[]\n",
    "for evo in evo_unawa:\n",
    "    if  g_num_high.str.contains(evo.comment[-3:]).any():\n",
    "        evo_unawa_high.append(evo)\n",
    "    elif g_num_low.str.contains(evo.comment[-3:]).any():\n",
    "        evo_unawa_low.append(evo)\n",
    "    else:\n",
    "        print(f'{evo.comment[-3:]} not found')"
   ],
   "metadata": {
    "collapsed": false,
    "ExecuteTime": {
     "end_time": "2025-08-13T13:42:37.464183100Z",
     "start_time": "2025-08-13T13:42:37.338932800Z"
    }
   }
  },
  {
   "cell_type": "code",
   "execution_count": 150,
   "outputs": [
    {
     "name": "stdout",
     "output_type": "stream",
     "text": [
      "(15, 128, 155)\n",
      "(15, 128, 155)\n",
      "-0.1\n"
     ]
    }
   ],
   "source": [
    "%matplotlib qt\n",
    "data_shape=[-0.1,0.5]\n",
    "time_plot=[0.15]\n",
    "\n",
    "ts,ps=tTest_ana([evo_awa_low,evo_unawa_low],crop_value=data_shape,FDR=False,plot_times='peaks',averages=0.01,p_val=0.01, topo_limits=[-6,6])"
   ],
   "metadata": {
    "collapsed": false,
    "ExecuteTime": {
     "end_time": "2025-08-13T13:47:51.992914600Z",
     "start_time": "2025-08-13T13:47:51.369017800Z"
    }
   }
  },
  {
   "cell_type": "markdown",
   "source": [
    "#cardiac"
   ],
   "metadata": {
    "collapsed": false
   }
  },
  {
   "cell_type": "code",
   "execution_count": 118,
   "outputs": [],
   "source": [
    "g_num=None\n",
    "eeg_format='-ave.fif'\n",
    "eeg_exp='tsk'\n",
    "datafolder='ana/MNE/evo_list'\n",
    "\n",
    "\n",
    "#files = getListOfFiles(datafolder,g_num)\n",
    "\n",
    "files = GetFiles(datafolder,g_num=g_num,eeg_format=eeg_format)\n",
    "\n",
    "evo_files=files.fflist"
   ],
   "metadata": {
    "collapsed": false
   }
  },
  {
   "cell_type": "code",
   "execution_count": 153,
   "outputs": [
    {
     "name": "stdout",
     "output_type": "stream",
     "text": [
      "ana/MNE/evo_list/maskON/mistake/nc/xns/norm/maskON_mistake_nc_xns_norm_unaware_sys_list-ave.fif\n",
      "Reading ana/MNE/evo_list/maskON/correct/cfa/vep/norm/maskON_correct_cfa_vep_norm_aware_sys_list-ave.fif ...\n",
      "    Read a total of 1 projection items:\n",
      "        Average EEG reference (1 x 128) active\n",
      "    Found the data of interest:\n",
      "        t =    -199.22 ...    1000.00 ms (0.65 × vep/normal/correct/aware/sys/exh + 0.35 × vep/normal/correct/aware/sys/inh\n",
      " G_n= g01)\n",
      "        0 CTF compensation matrices available\n",
      "        nave = 106 - aspect type = 100\n",
      "Projections have already been applied. Setting proj attribute to True.\n",
      "No baseline correction applied\n",
      "    Read a total of 1 projection items:\n",
      "        Average EEG reference (1 x 128) active\n",
      "    Found the data of interest:\n",
      "        t =    -199.22 ...    1000.00 ms (0.60 × vep/normal/correct/aware/sys/exh + 0.40 × vep/normal/correct/aware/sys/inh\n",
      " G_n= g03)\n",
      "        0 CTF compensation matrices available\n",
      "        nave = 159 - aspect type = 100\n",
      "Projections have already been applied. Setting proj attribute to True.\n",
      "No baseline correction applied\n",
      "    Read a total of 1 projection items:\n",
      "        Average EEG reference (1 x 128) active\n",
      "    Found the data of interest:\n",
      "        t =    -199.22 ...    1000.00 ms (0.53 × vep/normal/correct/aware/sys/exh + 0.47 × vep/normal/correct/aware/sys/inh\n",
      " G_n= g08)\n",
      "        0 CTF compensation matrices available\n",
      "        nave = 133 - aspect type = 100\n",
      "Projections have already been applied. Setting proj attribute to True.\n",
      "No baseline correction applied\n",
      "    Read a total of 1 projection items:\n",
      "        Average EEG reference (1 x 128) active\n",
      "    Found the data of interest:\n",
      "        t =    -199.22 ...    1000.00 ms (0.60 × vep/normal/correct/aware/sys/exh + 0.40 × vep/normal/correct/aware/sys/inh\n",
      " G_n= g10)\n",
      "        0 CTF compensation matrices available\n",
      "        nave = 134 - aspect type = 100\n",
      "Projections have already been applied. Setting proj attribute to True.\n",
      "No baseline correction applied\n",
      "    Read a total of 1 projection items:\n",
      "        Average EEG reference (1 x 128) active\n",
      "    Found the data of interest:\n",
      "        t =    -199.22 ...    1000.00 ms (0.57 × vep/normal/correct/aware/sys/exh + 0.43 × vep/normal/correct/aware/sys/inh\n",
      " G_n= g11)\n",
      "        0 CTF compensation matrices available\n",
      "        nave = 132 - aspect type = 100\n",
      "Projections have already been applied. Setting proj attribute to True.\n",
      "No baseline correction applied\n",
      "    Read a total of 1 projection items:\n",
      "        Average EEG reference (1 x 128) active\n",
      "    Found the data of interest:\n",
      "        t =    -199.22 ...    1000.00 ms (0.52 × vep/normal/correct/aware/sys/exh + 0.48 × vep/normal/correct/aware/sys/inh\n",
      " G_n= g12)\n",
      "        0 CTF compensation matrices available\n",
      "        nave = 87 - aspect type = 100\n",
      "Projections have already been applied. Setting proj attribute to True.\n",
      "No baseline correction applied\n",
      "    Read a total of 1 projection items:\n",
      "        Average EEG reference (1 x 128) active\n",
      "    Found the data of interest:\n",
      "        t =    -199.22 ...    1000.00 ms (0.59 × vep/normal/correct/aware/sys/exh + 0.41 × vep/normal/correct/aware/sys/inh\n",
      " G_n= g15)\n",
      "        0 CTF compensation matrices available\n",
      "        nave = 108 - aspect type = 100\n",
      "Projections have already been applied. Setting proj attribute to True.\n",
      "No baseline correction applied\n",
      "    Read a total of 1 projection items:\n",
      "        Average EEG reference (1 x 128) active\n",
      "    Found the data of interest:\n",
      "        t =    -199.22 ...    1000.00 ms (0.50 × vep/normal/correct/aware/sys/exh + 0.50 × vep/normal/correct/aware/sys/inh\n",
      " G_n= g16)\n",
      "        0 CTF compensation matrices available\n",
      "        nave = 109 - aspect type = 100\n",
      "Projections have already been applied. Setting proj attribute to True.\n",
      "No baseline correction applied\n",
      "    Read a total of 1 projection items:\n",
      "        Average EEG reference (1 x 128) active\n",
      "    Found the data of interest:\n",
      "        t =    -199.22 ...    1000.00 ms (0.52 × vep/normal/correct/aware/sys/exh + 0.48 × vep/normal/correct/aware/sys/inh\n",
      " G_n= g17)\n",
      "        0 CTF compensation matrices available\n",
      "        nave = 126 - aspect type = 100\n",
      "Projections have already been applied. Setting proj attribute to True.\n",
      "No baseline correction applied\n",
      "    Read a total of 1 projection items:\n",
      "        Average EEG reference (1 x 128) active\n",
      "    Found the data of interest:\n",
      "        t =    -199.22 ...    1000.00 ms (0.49 × vep/normal/correct/aware/sys/exh + 0.51 × vep/normal/correct/aware/sys/inh\n",
      " G_n= g19)\n",
      "        0 CTF compensation matrices available\n",
      "        nave = 178 - aspect type = 100\n",
      "Projections have already been applied. Setting proj attribute to True.\n",
      "No baseline correction applied\n",
      "    Read a total of 1 projection items:\n",
      "        Average EEG reference (1 x 128) active\n",
      "    Found the data of interest:\n",
      "        t =    -199.22 ...    1000.00 ms (0.58 × vep/normal/correct/aware/sys/exh + 0.42 × vep/normal/correct/aware/sys/inh\n",
      " G_n= g23)\n",
      "        0 CTF compensation matrices available\n",
      "        nave = 142 - aspect type = 100\n",
      "Projections have already been applied. Setting proj attribute to True.\n",
      "No baseline correction applied\n",
      "    Read a total of 1 projection items:\n",
      "        Average EEG reference (1 x 128) active\n",
      "    Found the data of interest:\n",
      "        t =    -199.22 ...    1000.00 ms (0.64 × vep/normal/correct/aware/sys/exh + 0.36 × vep/normal/correct/aware/sys/inh\n",
      " G_n= g24)\n",
      "        0 CTF compensation matrices available\n",
      "        nave = 73 - aspect type = 100\n",
      "Projections have already been applied. Setting proj attribute to True.\n",
      "No baseline correction applied\n",
      "    Read a total of 1 projection items:\n",
      "        Average EEG reference (1 x 128) active\n",
      "    Found the data of interest:\n",
      "        t =    -199.22 ...    1000.00 ms (0.60 × vep/normal/correct/aware/sys/exh + 0.40 × vep/normal/correct/aware/sys/inh\n",
      " G_n= g25)\n",
      "        0 CTF compensation matrices available\n",
      "        nave = 272 - aspect type = 100\n",
      "Projections have already been applied. Setting proj attribute to True.\n",
      "No baseline correction applied\n",
      "    Read a total of 1 projection items:\n",
      "        Average EEG reference (1 x 128) active\n",
      "    Found the data of interest:\n",
      "        t =    -199.22 ...    1000.00 ms (0.69 × vep/normal/correct/aware/sys/exh + 0.31 × vep/normal/correct/aware/sys/inh\n",
      " G_n= g28)\n",
      "        0 CTF compensation matrices available\n",
      "        nave = 61 - aspect type = 100\n",
      "Projections have already been applied. Setting proj attribute to True.\n",
      "No baseline correction applied\n",
      "    Read a total of 1 projection items:\n",
      "        Average EEG reference (1 x 128) active\n",
      "    Found the data of interest:\n",
      "        t =    -199.22 ...    1000.00 ms (0.70 × vep/normal/correct/aware/sys/exh + 0.30 × vep/normal/correct/aware/sys/inh\n",
      " G_n= g32)\n",
      "        0 CTF compensation matrices available\n",
      "        nave = 132 - aspect type = 100\n",
      "Projections have already been applied. Setting proj attribute to True.\n",
      "No baseline correction applied\n",
      "    Read a total of 1 projection items:\n",
      "        Average EEG reference (1 x 128) active\n",
      "    Found the data of interest:\n",
      "        t =    -199.22 ...    1000.00 ms (0.59 × vep/normal/correct/aware/sys/exh + 0.41 × vep/normal/correct/aware/sys/inh\n",
      " G_n= g33)\n",
      "        0 CTF compensation matrices available\n",
      "        nave = 147 - aspect type = 100\n",
      "Projections have already been applied. Setting proj attribute to True.\n",
      "No baseline correction applied\n",
      "    Read a total of 1 projection items:\n",
      "        Average EEG reference (1 x 128) active\n",
      "    Found the data of interest:\n",
      "        t =    -199.22 ...    1000.00 ms (0.58 × vep/normal/correct/aware/sys/exh + 0.42 × vep/normal/correct/aware/sys/inh\n",
      " G_n= g34)\n",
      "        0 CTF compensation matrices available\n",
      "        nave = 161 - aspect type = 100\n",
      "Projections have already been applied. Setting proj attribute to True.\n",
      "No baseline correction applied\n",
      "    Read a total of 1 projection items:\n",
      "        Average EEG reference (1 x 128) active\n",
      "    Found the data of interest:\n",
      "        t =    -199.22 ...    1000.00 ms (0.29 × vep/normal/correct/aware/sys/exh + 0.71 × vep/normal/correct/aware/sys/inh\n",
      " G_n= g37)\n",
      "        0 CTF compensation matrices available\n",
      "        nave = 107 - aspect type = 100\n",
      "Projections have already been applied. Setting proj attribute to True.\n",
      "No baseline correction applied\n",
      "    Read a total of 1 projection items:\n",
      "        Average EEG reference (1 x 128) active\n",
      "    Found the data of interest:\n",
      "        t =    -199.22 ...    1000.00 ms (0.58 × vep/normal/correct/aware/sys/exh + 0.42 × vep/normal/correct/aware/sys/inh\n",
      " G_n= g38)\n",
      "        0 CTF compensation matrices available\n",
      "        nave = 125 - aspect type = 100\n",
      "Projections have already been applied. Setting proj attribute to True.\n",
      "No baseline correction applied\n",
      "    Read a total of 1 projection items:\n",
      "        Average EEG reference (1 x 128) active\n",
      "    Found the data of interest:\n",
      "        t =    -199.22 ...    1000.00 ms (0.52 × vep/normal/correct/aware/sys/exh + 0.48 × vep/normal/correct/aware/sys/inh\n",
      " G_n= g39)\n",
      "        0 CTF compensation matrices available\n",
      "        nave = 92 - aspect type = 100\n",
      "Projections have already been applied. Setting proj attribute to True.\n",
      "No baseline correction applied\n",
      "    Read a total of 1 projection items:\n",
      "        Average EEG reference (1 x 128) active\n",
      "    Found the data of interest:\n",
      "        t =    -199.22 ...    1000.00 ms (0.64 × vep/normal/correct/aware/sys/exh + 0.36 × vep/normal/correct/aware/sys/inh\n",
      " G_n= g40)\n",
      "        0 CTF compensation matrices available\n",
      "        nave = 75 - aspect type = 100\n",
      "Projections have already been applied. Setting proj attribute to True.\n",
      "No baseline correction applied\n",
      "    Read a total of 1 projection items:\n",
      "        Average EEG reference (1 x 128) active\n",
      "    Found the data of interest:\n",
      "        t =    -199.22 ...    1000.00 ms (0.56 × vep/normal/correct/aware/sys/exh + 0.44 × vep/normal/correct/aware/sys/inh\n",
      " G_n= g41)\n",
      "        0 CTF compensation matrices available\n",
      "        nave = 96 - aspect type = 100\n",
      "Projections have already been applied. Setting proj attribute to True.\n",
      "No baseline correction applied\n",
      "    Read a total of 1 projection items:\n",
      "        Average EEG reference (1 x 128) active\n",
      "    Found the data of interest:\n",
      "        t =    -199.22 ...    1000.00 ms (0.53 × vep/normal/correct/aware/sys/exh + 0.47 × vep/normal/correct/aware/sys/inh\n",
      " G_n= g42)\n",
      "        0 CTF compensation matrices available\n",
      "        nave = 135 - aspect type = 100\n",
      "Projections have already been applied. Setting proj attribute to True.\n",
      "No baseline correction applied\n",
      "    Read a total of 1 projection items:\n",
      "        Average EEG reference (1 x 128) active\n",
      "    Found the data of interest:\n",
      "        t =    -199.22 ...    1000.00 ms (0.62 × vep/normal/correct/aware/sys/exh + 0.38 × vep/normal/correct/aware/sys/inh\n",
      " G_n= g44)\n",
      "        0 CTF compensation matrices available\n",
      "        nave = 108 - aspect type = 100\n",
      "Projections have already been applied. Setting proj attribute to True.\n",
      "No baseline correction applied\n",
      "    Read a total of 1 projection items:\n",
      "        Average EEG reference (1 x 128) active\n",
      "    Found the data of interest:\n",
      "        t =    -199.22 ...    1000.00 ms (0.69 × vep/normal/correct/aware/sys/exh + 0.31 × vep/normal/correct/aware/sys/inh\n",
      " G_n= g45)\n",
      "        0 CTF compensation matrices available\n",
      "        nave = 152 - aspect type = 100\n",
      "Projections have already been applied. Setting proj attribute to True.\n",
      "No baseline correction applied\n",
      "    Read a total of 1 projection items:\n",
      "        Average EEG reference (1 x 128) active\n",
      "    Found the data of interest:\n",
      "        t =    -199.22 ...    1000.00 ms (0.37 × vep/normal/correct/aware/sys/exh + 0.63 × vep/normal/correct/aware/sys/inh\n",
      " G_n= g46)\n",
      "        0 CTF compensation matrices available\n",
      "        nave = 98 - aspect type = 100\n",
      "Projections have already been applied. Setting proj attribute to True.\n",
      "No baseline correction applied\n",
      "    Read a total of 1 projection items:\n",
      "        Average EEG reference (1 x 128) active\n",
      "    Found the data of interest:\n",
      "        t =    -199.22 ...    1000.00 ms (0.54 × vep/normal/correct/aware/sys/exh + 0.46 × vep/normal/correct/aware/sys/inh\n",
      " G_n= g47)\n",
      "        0 CTF compensation matrices available\n",
      "        nave = 164 - aspect type = 100\n",
      "Projections have already been applied. Setting proj attribute to True.\n",
      "No baseline correction applied\n",
      "    Read a total of 1 projection items:\n",
      "        Average EEG reference (1 x 128) active\n",
      "    Found the data of interest:\n",
      "        t =    -199.22 ...    1000.00 ms (0.68 × vep/normal/correct/aware/sys/exh + 0.32 × vep/normal/correct/aware/sys/inh\n",
      " G_n= g49)\n",
      "        0 CTF compensation matrices available\n",
      "        nave = 119 - aspect type = 100\n",
      "Projections have already been applied. Setting proj attribute to True.\n",
      "No baseline correction applied\n",
      "    Read a total of 1 projection items:\n",
      "        Average EEG reference (1 x 128) active\n",
      "    Found the data of interest:\n",
      "        t =    -199.22 ...    1000.00 ms (0.66 × vep/normal/correct/aware/sys/exh + 0.34 × vep/normal/correct/aware/sys/inh\n",
      " G_n= g51)\n",
      "        0 CTF compensation matrices available\n",
      "        nave = 154 - aspect type = 100\n",
      "Projections have already been applied. Setting proj attribute to True.\n",
      "No baseline correction applied\n",
      "    Read a total of 1 projection items:\n",
      "        Average EEG reference (1 x 128) active\n",
      "    Found the data of interest:\n",
      "        t =    -199.22 ...    1000.00 ms (0.53 × vep/normal/correct/aware/sys/exh + 0.47 × vep/normal/correct/aware/sys/inh\n",
      " G_n= g52)\n",
      "        0 CTF compensation matrices available\n",
      "        nave = 102 - aspect type = 100\n",
      "Projections have already been applied. Setting proj attribute to True.\n",
      "No baseline correction applied\n",
      "ana/MNE/evo_list/maskON/mistake/nc/xns/norm/maskON_mistake_nc_xns_norm_unaware_sys_list-ave.fif\n",
      "Reading ana/MNE/evo_list/maskON/correct/cfa/vep/norm/maskON_correct_cfa_vep_norm_unaware_sys_list-ave.fif ...\n",
      "    Read a total of 1 projection items:\n",
      "        Average EEG reference (1 x 128) active\n",
      "    Found the data of interest:\n",
      "        t =    -199.22 ...    1000.00 ms (0.54 × vep/normal/correct/unaware/sys/exh + 0.46 × vep/normal/correct/unaware/sys/inh\n",
      " G_n= g01)\n",
      "        0 CTF compensation matrices available\n",
      "        nave = 89 - aspect type = 100\n",
      "Projections have already been applied. Setting proj attribute to True.\n",
      "No baseline correction applied\n",
      "    Read a total of 1 projection items:\n",
      "        Average EEG reference (1 x 128) active\n",
      "    Found the data of interest:\n",
      "        t =    -199.22 ...    1000.00 ms (0.59 × vep/normal/correct/unaware/sys/exh + 0.41 × vep/normal/correct/unaware/sys/inh\n",
      " G_n= g03)\n",
      "        0 CTF compensation matrices available\n",
      "        nave = 87 - aspect type = 100\n",
      "Projections have already been applied. Setting proj attribute to True.\n",
      "No baseline correction applied\n",
      "    Read a total of 1 projection items:\n",
      "        Average EEG reference (1 x 128) active\n",
      "    Found the data of interest:\n",
      "        t =    -199.22 ...    1000.00 ms (0.61 × vep/normal/correct/unaware/sys/exh + 0.39 × vep/normal/correct/unaware/sys/inh\n",
      " G_n= g08)\n",
      "        0 CTF compensation matrices available\n",
      "        nave = 72 - aspect type = 100\n",
      "Projections have already been applied. Setting proj attribute to True.\n",
      "No baseline correction applied\n",
      "    Read a total of 1 projection items:\n",
      "        Average EEG reference (1 x 128) active\n",
      "    Found the data of interest:\n",
      "        t =    -199.22 ...    1000.00 ms (0.48 × vep/normal/correct/unaware/sys/exh + 0.52 × vep/normal/correct/unaware/sys/inh\n",
      " G_n= g10)\n",
      "        0 CTF compensation matrices available\n",
      "        nave = 58 - aspect type = 100\n",
      "Projections have already been applied. Setting proj attribute to True.\n",
      "No baseline correction applied\n",
      "    Read a total of 1 projection items:\n",
      "        Average EEG reference (1 x 128) active\n",
      "    Found the data of interest:\n",
      "        t =    -199.22 ...    1000.00 ms (0.58 × vep/normal/correct/unaware/sys/exh + 0.42 × vep/normal/correct/unaware/sys/inh\n",
      " G_n= g11)\n",
      "        0 CTF compensation matrices available\n",
      "        nave = 127 - aspect type = 100\n",
      "Projections have already been applied. Setting proj attribute to True.\n",
      "No baseline correction applied\n",
      "    Read a total of 1 projection items:\n",
      "        Average EEG reference (1 x 128) active\n",
      "    Found the data of interest:\n",
      "        t =    -199.22 ...    1000.00 ms (0.46 × vep/normal/correct/unaware/sys/exh + 0.54 × vep/normal/correct/unaware/sys/inh\n",
      " G_n= g12)\n",
      "        0 CTF compensation matrices available\n",
      "        nave = 72 - aspect type = 100\n",
      "Projections have already been applied. Setting proj attribute to True.\n",
      "No baseline correction applied\n",
      "    Read a total of 1 projection items:\n",
      "        Average EEG reference (1 x 128) active\n",
      "    Found the data of interest:\n",
      "        t =    -199.22 ...    1000.00 ms (0.58 × vep/normal/correct/unaware/sys/exh + 0.42 × vep/normal/correct/unaware/sys/inh\n",
      " G_n= g15)\n",
      "        0 CTF compensation matrices available\n",
      "        nave = 121 - aspect type = 100\n",
      "Projections have already been applied. Setting proj attribute to True.\n",
      "No baseline correction applied\n",
      "    Read a total of 1 projection items:\n",
      "        Average EEG reference (1 x 128) active\n",
      "    Found the data of interest:\n",
      "        t =    -199.22 ...    1000.00 ms (0.54 × vep/normal/correct/unaware/sys/exh + 0.46 × vep/normal/correct/unaware/sys/inh\n",
      " G_n= g16)\n",
      "        0 CTF compensation matrices available\n",
      "        nave = 124 - aspect type = 100\n",
      "Projections have already been applied. Setting proj attribute to True.\n",
      "No baseline correction applied\n",
      "    Read a total of 1 projection items:\n",
      "        Average EEG reference (1 x 128) active\n",
      "    Found the data of interest:\n",
      "        t =    -199.22 ...    1000.00 ms (0.46 × vep/normal/correct/unaware/sys/exh + 0.54 × vep/normal/correct/unaware/sys/inh\n",
      " G_n= g17)\n",
      "        0 CTF compensation matrices available\n",
      "        nave = 153 - aspect type = 100\n",
      "Projections have already been applied. Setting proj attribute to True.\n",
      "No baseline correction applied\n",
      "    Read a total of 1 projection items:\n",
      "        Average EEG reference (1 x 128) active\n",
      "    Found the data of interest:\n",
      "        t =    -199.22 ...    1000.00 ms (0.51 × vep/normal/correct/unaware/sys/exh + 0.49 × vep/normal/correct/unaware/sys/inh\n",
      " G_n= g19)\n",
      "        0 CTF compensation matrices available\n",
      "        nave = 97 - aspect type = 100\n",
      "Projections have already been applied. Setting proj attribute to True.\n",
      "No baseline correction applied\n",
      "    Read a total of 1 projection items:\n",
      "        Average EEG reference (1 x 128) active\n",
      "    Found the data of interest:\n",
      "        t =    -199.22 ...    1000.00 ms (0.47 × vep/normal/correct/unaware/sys/exh + 0.53 × vep/normal/correct/unaware/sys/inh\n",
      " G_n= g23)\n",
      "        0 CTF compensation matrices available\n",
      "        nave = 80 - aspect type = 100\n",
      "Projections have already been applied. Setting proj attribute to True.\n",
      "No baseline correction applied\n",
      "    Read a total of 1 projection items:\n",
      "        Average EEG reference (1 x 128) active\n",
      "    Found the data of interest:\n",
      "        t =    -199.22 ...    1000.00 ms (0.73 × vep/normal/correct/unaware/sys/exh + 0.27 × vep/normal/correct/unaware/sys/inh\n",
      " G_n= g24)\n",
      "        0 CTF compensation matrices available\n",
      "        nave = 132 - aspect type = 100\n",
      "Projections have already been applied. Setting proj attribute to True.\n",
      "No baseline correction applied\n",
      "    Read a total of 1 projection items:\n",
      "        Average EEG reference (1 x 128) active\n",
      "    Found the data of interest:\n",
      "        t =    -199.22 ...    1000.00 ms (0.53 × vep/normal/correct/unaware/sys/exh + 0.47 × vep/normal/correct/unaware/sys/inh\n",
      " G_n= g25)\n",
      "        0 CTF compensation matrices available\n",
      "        nave = 121 - aspect type = 100\n",
      "Projections have already been applied. Setting proj attribute to True.\n",
      "No baseline correction applied\n",
      "    Read a total of 1 projection items:\n",
      "        Average EEG reference (1 x 128) active\n",
      "    Found the data of interest:\n",
      "        t =    -199.22 ...    1000.00 ms (0.68 × vep/normal/correct/unaware/sys/exh + 0.32 × vep/normal/correct/unaware/sys/inh\n",
      " G_n= g28)\n",
      "        0 CTF compensation matrices available\n",
      "        nave = 145 - aspect type = 100\n",
      "Projections have already been applied. Setting proj attribute to True.\n",
      "No baseline correction applied\n",
      "    Read a total of 1 projection items:\n",
      "        Average EEG reference (1 x 128) active\n",
      "    Found the data of interest:\n",
      "        t =    -199.22 ...    1000.00 ms (0.65 × vep/normal/correct/unaware/sys/exh + 0.35 × vep/normal/correct/unaware/sys/inh\n",
      " G_n= g32)\n",
      "        0 CTF compensation matrices available\n",
      "        nave = 86 - aspect type = 100\n",
      "Projections have already been applied. Setting proj attribute to True.\n",
      "No baseline correction applied\n",
      "    Read a total of 1 projection items:\n",
      "        Average EEG reference (1 x 128) active\n",
      "    Found the data of interest:\n",
      "        t =    -199.22 ...    1000.00 ms (0.64 × vep/normal/correct/unaware/sys/exh + 0.36 × vep/normal/correct/unaware/sys/inh\n",
      " G_n= g33)\n",
      "        0 CTF compensation matrices available\n",
      "        nave = 156 - aspect type = 100\n",
      "Projections have already been applied. Setting proj attribute to True.\n",
      "No baseline correction applied\n",
      "    Read a total of 1 projection items:\n",
      "        Average EEG reference (1 x 128) active\n",
      "    Found the data of interest:\n",
      "        t =    -199.22 ...    1000.00 ms (0.47 × vep/normal/correct/unaware/sys/exh + 0.53 × vep/normal/correct/unaware/sys/inh\n",
      " G_n= g34)\n",
      "        0 CTF compensation matrices available\n",
      "        nave = 93 - aspect type = 100\n",
      "Projections have already been applied. Setting proj attribute to True.\n",
      "No baseline correction applied\n",
      "    Read a total of 1 projection items:\n",
      "        Average EEG reference (1 x 128) active\n",
      "    Found the data of interest:\n",
      "        t =    -199.22 ...    1000.00 ms (0.35 × vep/normal/correct/unaware/sys/exh + 0.65 × vep/normal/correct/unaware/sys/inh\n",
      " G_n= g37)\n",
      "        0 CTF compensation matrices available\n",
      "        nave = 156 - aspect type = 100\n",
      "Projections have already been applied. Setting proj attribute to True.\n",
      "No baseline correction applied\n",
      "    Read a total of 1 projection items:\n",
      "        Average EEG reference (1 x 128) active\n",
      "    Found the data of interest:\n",
      "        t =    -199.22 ...    1000.00 ms (0.61 × vep/normal/correct/unaware/sys/exh + 0.39 × vep/normal/correct/unaware/sys/inh\n",
      " G_n= g38)\n",
      "        0 CTF compensation matrices available\n",
      "        nave = 163 - aspect type = 100\n",
      "Projections have already been applied. Setting proj attribute to True.\n",
      "No baseline correction applied\n",
      "    Read a total of 1 projection items:\n",
      "        Average EEG reference (1 x 128) active\n",
      "    Found the data of interest:\n",
      "        t =    -199.22 ...    1000.00 ms (0.75 × vep/normal/correct/unaware/sys/exh + 0.25 × vep/normal/correct/unaware/sys/inh\n",
      " G_n= g39)\n",
      "        0 CTF compensation matrices available\n",
      "        nave = 191 - aspect type = 100\n",
      "Projections have already been applied. Setting proj attribute to True.\n",
      "No baseline correction applied\n",
      "    Read a total of 1 projection items:\n",
      "        Average EEG reference (1 x 128) active\n",
      "    Found the data of interest:\n",
      "        t =    -199.22 ...    1000.00 ms (0.57 × vep/normal/correct/unaware/sys/exh + 0.43 × vep/normal/correct/unaware/sys/inh\n",
      " G_n= g40)\n",
      "        0 CTF compensation matrices available\n",
      "        nave = 102 - aspect type = 100\n",
      "Projections have already been applied. Setting proj attribute to True.\n",
      "No baseline correction applied\n",
      "    Read a total of 1 projection items:\n",
      "        Average EEG reference (1 x 128) active\n",
      "    Found the data of interest:\n",
      "        t =    -199.22 ...    1000.00 ms (0.57 × vep/normal/correct/unaware/sys/exh + 0.43 × vep/normal/correct/unaware/sys/inh\n",
      " G_n= g41)\n",
      "        0 CTF compensation matrices available\n",
      "        nave = 121 - aspect type = 100\n",
      "Projections have already been applied. Setting proj attribute to True.\n",
      "No baseline correction applied\n",
      "    Read a total of 1 projection items:\n",
      "        Average EEG reference (1 x 128) active\n",
      "    Found the data of interest:\n",
      "        t =    -199.22 ...    1000.00 ms (0.55 × vep/normal/correct/unaware/sys/exh + 0.45 × vep/normal/correct/unaware/sys/inh\n",
      " G_n= g42)\n",
      "        0 CTF compensation matrices available\n",
      "        nave = 159 - aspect type = 100\n",
      "Projections have already been applied. Setting proj attribute to True.\n",
      "No baseline correction applied\n",
      "    Read a total of 1 projection items:\n",
      "        Average EEG reference (1 x 128) active\n",
      "    Found the data of interest:\n",
      "        t =    -199.22 ...    1000.00 ms (0.56 × vep/normal/correct/unaware/sys/exh + 0.44 × vep/normal/correct/unaware/sys/inh\n",
      " G_n= g44)\n",
      "        0 CTF compensation matrices available\n",
      "        nave = 179 - aspect type = 100\n",
      "Projections have already been applied. Setting proj attribute to True.\n",
      "No baseline correction applied\n",
      "    Read a total of 1 projection items:\n",
      "        Average EEG reference (1 x 128) active\n",
      "    Found the data of interest:\n",
      "        t =    -199.22 ...    1000.00 ms (0.65 × vep/normal/correct/unaware/sys/exh + 0.35 × vep/normal/correct/unaware/sys/inh\n",
      " G_n= g45)\n",
      "        0 CTF compensation matrices available\n",
      "        nave = 106 - aspect type = 100\n",
      "Projections have already been applied. Setting proj attribute to True.\n",
      "No baseline correction applied\n",
      "    Read a total of 1 projection items:\n",
      "        Average EEG reference (1 x 128) active\n",
      "    Found the data of interest:\n",
      "        t =    -199.22 ...    1000.00 ms (0.27 × vep/normal/correct/unaware/sys/exh + 0.73 × vep/normal/correct/unaware/sys/inh\n",
      " G_n= g46)\n",
      "        0 CTF compensation matrices available\n",
      "        nave = 74 - aspect type = 100\n",
      "Projections have already been applied. Setting proj attribute to True.\n",
      "No baseline correction applied\n",
      "    Read a total of 1 projection items:\n",
      "        Average EEG reference (1 x 128) active\n",
      "    Found the data of interest:\n",
      "        t =    -199.22 ...    1000.00 ms (0.53 × vep/normal/correct/unaware/sys/exh + 0.47 × vep/normal/correct/unaware/sys/inh\n",
      " G_n= g47)\n",
      "        0 CTF compensation matrices available\n",
      "        nave = 125 - aspect type = 100\n",
      "Projections have already been applied. Setting proj attribute to True.\n",
      "No baseline correction applied\n",
      "    Read a total of 1 projection items:\n",
      "        Average EEG reference (1 x 128) active\n",
      "    Found the data of interest:\n",
      "        t =    -199.22 ...    1000.00 ms (0.59 × vep/normal/correct/unaware/sys/exh + 0.41 × vep/normal/correct/unaware/sys/inh\n",
      " G_n= g49)\n",
      "        0 CTF compensation matrices available\n",
      "        nave = 117 - aspect type = 100\n",
      "Projections have already been applied. Setting proj attribute to True.\n",
      "No baseline correction applied\n",
      "    Read a total of 1 projection items:\n",
      "        Average EEG reference (1 x 128) active\n",
      "    Found the data of interest:\n",
      "        t =    -199.22 ...    1000.00 ms (0.56 × vep/normal/correct/unaware/sys/exh + 0.44 × vep/normal/correct/unaware/sys/inh\n",
      " G_n= g51)\n",
      "        0 CTF compensation matrices available\n",
      "        nave = 154 - aspect type = 100\n",
      "Projections have already been applied. Setting proj attribute to True.\n",
      "No baseline correction applied\n",
      "    Read a total of 1 projection items:\n",
      "        Average EEG reference (1 x 128) active\n",
      "    Found the data of interest:\n",
      "        t =    -199.22 ...    1000.00 ms (0.54 × vep/normal/correct/unaware/sys/exh + 0.46 × vep/normal/correct/unaware/sys/inh\n",
      " G_n= g52)\n",
      "        0 CTF compensation matrices available\n",
      "        nave = 166 - aspect type = 100\n",
      "Projections have already been applied. Setting proj attribute to True.\n",
      "No baseline correction applied\n",
      "ana/MNE/evo_list/maskON/mistake/nc/xns/norm/maskON_mistake_nc_xns_norm_unaware_sys_list-ave.fif\n",
      "Reading ana/MNE/evo_list/maskON/correct/cfa/vep/norm/maskON_correct_cfa_vep_norm_aware_dia_list-ave.fif ...\n",
      "    Read a total of 1 projection items:\n",
      "        Average EEG reference (1 x 128) active\n",
      "    Found the data of interest:\n",
      "        t =    -199.22 ...    1000.00 ms (0.63 × vep/normal/correct/aware/dia/exh + 0.37 × vep/normal/correct/aware/dia/inh\n",
      " G_n= g01)\n",
      "        0 CTF compensation matrices available\n",
      "        nave = 118 - aspect type = 100\n",
      "Projections have already been applied. Setting proj attribute to True.\n",
      "No baseline correction applied\n",
      "    Read a total of 1 projection items:\n",
      "        Average EEG reference (1 x 128) active\n",
      "    Found the data of interest:\n",
      "        t =    -199.22 ...    1000.00 ms (0.60 × vep/normal/correct/aware/dia/exh + 0.40 × vep/normal/correct/aware/dia/inh\n",
      " G_n= g03)\n",
      "        0 CTF compensation matrices available\n",
      "        nave = 152 - aspect type = 100\n",
      "Projections have already been applied. Setting proj attribute to True.\n",
      "No baseline correction applied\n",
      "    Read a total of 1 projection items:\n",
      "        Average EEG reference (1 x 128) active\n",
      "    Found the data of interest:\n",
      "        t =    -199.22 ...    1000.00 ms (0.58 × vep/normal/correct/aware/dia/exh + 0.42 × vep/normal/correct/aware/dia/inh\n",
      " G_n= g08)\n",
      "        0 CTF compensation matrices available\n",
      "        nave = 139 - aspect type = 100\n",
      "Projections have already been applied. Setting proj attribute to True.\n",
      "No baseline correction applied\n",
      "    Read a total of 1 projection items:\n",
      "        Average EEG reference (1 x 128) active\n",
      "    Found the data of interest:\n",
      "        t =    -199.22 ...    1000.00 ms (0.57 × vep/normal/correct/aware/dia/exh + 0.43 × vep/normal/correct/aware/dia/inh\n",
      " G_n= g10)\n",
      "        0 CTF compensation matrices available\n",
      "        nave = 109 - aspect type = 100\n",
      "Projections have already been applied. Setting proj attribute to True.\n",
      "No baseline correction applied\n",
      "    Read a total of 1 projection items:\n",
      "        Average EEG reference (1 x 128) active\n",
      "    Found the data of interest:\n",
      "        t =    -199.22 ...    1000.00 ms (0.47 × vep/normal/correct/aware/dia/exh + 0.53 × vep/normal/correct/aware/dia/inh\n",
      " G_n= g11)\n",
      "        0 CTF compensation matrices available\n",
      "        nave = 143 - aspect type = 100\n",
      "Projections have already been applied. Setting proj attribute to True.\n",
      "No baseline correction applied\n",
      "    Read a total of 1 projection items:\n",
      "        Average EEG reference (1 x 128) active\n",
      "    Found the data of interest:\n",
      "        t =    -199.22 ...    1000.00 ms (0.51 × vep/normal/correct/aware/dia/exh + 0.49 × vep/normal/correct/aware/dia/inh\n",
      " G_n= g12)\n",
      "        0 CTF compensation matrices available\n",
      "        nave = 81 - aspect type = 100\n",
      "Projections have already been applied. Setting proj attribute to True.\n",
      "No baseline correction applied\n",
      "    Read a total of 1 projection items:\n",
      "        Average EEG reference (1 x 128) active\n",
      "    Found the data of interest:\n",
      "        t =    -199.22 ...    1000.00 ms (0.57 × vep/normal/correct/aware/dia/exh + 0.43 × vep/normal/correct/aware/dia/inh\n",
      " G_n= g15)\n",
      "        0 CTF compensation matrices available\n",
      "        nave = 115 - aspect type = 100\n",
      "Projections have already been applied. Setting proj attribute to True.\n",
      "No baseline correction applied\n",
      "    Read a total of 1 projection items:\n",
      "        Average EEG reference (1 x 128) active\n",
      "    Found the data of interest:\n",
      "        t =    -199.22 ...    1000.00 ms (0.48 × vep/normal/correct/aware/dia/exh + 0.52 × vep/normal/correct/aware/dia/inh\n",
      " G_n= g16)\n",
      "        0 CTF compensation matrices available\n",
      "        nave = 137 - aspect type = 100\n",
      "Projections have already been applied. Setting proj attribute to True.\n",
      "No baseline correction applied\n",
      "    Read a total of 1 projection items:\n",
      "        Average EEG reference (1 x 128) active\n",
      "    Found the data of interest:\n",
      "        t =    -199.22 ...    1000.00 ms (0.36 × vep/normal/correct/aware/dia/exh + 0.64 × vep/normal/correct/aware/dia/inh\n",
      " G_n= g17)\n",
      "        0 CTF compensation matrices available\n",
      "        nave = 120 - aspect type = 100\n",
      "Projections have already been applied. Setting proj attribute to True.\n",
      "No baseline correction applied\n",
      "    Read a total of 1 projection items:\n",
      "        Average EEG reference (1 x 128) active\n",
      "    Found the data of interest:\n",
      "        t =    -199.22 ...    1000.00 ms (0.59 × vep/normal/correct/aware/dia/exh + 0.41 × vep/normal/correct/aware/dia/inh\n",
      " G_n= g19)\n",
      "        0 CTF compensation matrices available\n",
      "        nave = 169 - aspect type = 100\n",
      "Projections have already been applied. Setting proj attribute to True.\n",
      "No baseline correction applied\n",
      "    Read a total of 1 projection items:\n",
      "        Average EEG reference (1 x 128) active\n",
      "    Found the data of interest:\n",
      "        t =    -199.22 ...    1000.00 ms (0.40 × vep/normal/correct/aware/dia/exh + 0.60 × vep/normal/correct/aware/dia/inh\n",
      " G_n= g23)\n",
      "        0 CTF compensation matrices available\n",
      "        nave = 151 - aspect type = 100\n",
      "Projections have already been applied. Setting proj attribute to True.\n",
      "No baseline correction applied\n",
      "    Read a total of 1 projection items:\n",
      "        Average EEG reference (1 x 128) active\n",
      "    Found the data of interest:\n",
      "        t =    -199.22 ...    1000.00 ms (0.56 × vep/normal/correct/aware/dia/exh + 0.44 × vep/normal/correct/aware/dia/inh\n",
      " G_n= g24)\n",
      "        0 CTF compensation matrices available\n",
      "        nave = 73 - aspect type = 100\n",
      "Projections have already been applied. Setting proj attribute to True.\n",
      "No baseline correction applied\n",
      "    Read a total of 1 projection items:\n",
      "        Average EEG reference (1 x 128) active\n",
      "    Found the data of interest:\n",
      "        t =    -199.22 ...    1000.00 ms (0.42 × vep/normal/correct/aware/dia/exh + 0.58 × vep/normal/correct/aware/dia/inh\n",
      " G_n= g25)\n",
      "        0 CTF compensation matrices available\n",
      "        nave = 248 - aspect type = 100\n",
      "Projections have already been applied. Setting proj attribute to True.\n",
      "No baseline correction applied\n",
      "    Read a total of 1 projection items:\n",
      "        Average EEG reference (1 x 128) active\n",
      "    Found the data of interest:\n",
      "        t =    -199.22 ...    1000.00 ms (0.67 × vep/normal/correct/aware/dia/exh + 0.33 × vep/normal/correct/aware/dia/inh\n",
      " G_n= g28)\n",
      "        0 CTF compensation matrices available\n",
      "        nave = 64 - aspect type = 100\n",
      "Projections have already been applied. Setting proj attribute to True.\n",
      "No baseline correction applied\n",
      "    Read a total of 1 projection items:\n",
      "        Average EEG reference (1 x 128) active\n",
      "    Found the data of interest:\n",
      "        t =    -199.22 ...    1000.00 ms (0.63 × vep/normal/correct/aware/dia/exh + 0.37 × vep/normal/correct/aware/dia/inh\n",
      " G_n= g32)\n",
      "        0 CTF compensation matrices available\n",
      "        nave = 115 - aspect type = 100\n",
      "Projections have already been applied. Setting proj attribute to True.\n",
      "No baseline correction applied\n",
      "    Read a total of 1 projection items:\n",
      "        Average EEG reference (1 x 128) active\n",
      "    Found the data of interest:\n",
      "        t =    -199.22 ...    1000.00 ms (0.60 × vep/normal/correct/aware/dia/exh + 0.40 × vep/normal/correct/aware/dia/inh\n",
      " G_n= g33)\n",
      "        0 CTF compensation matrices available\n",
      "        nave = 138 - aspect type = 100\n",
      "Projections have already been applied. Setting proj attribute to True.\n",
      "No baseline correction applied\n",
      "    Read a total of 1 projection items:\n",
      "        Average EEG reference (1 x 128) active\n",
      "    Found the data of interest:\n",
      "        t =    -199.22 ...    1000.00 ms (0.55 × vep/normal/correct/aware/dia/exh + 0.45 × vep/normal/correct/aware/dia/inh\n",
      " G_n= g34)\n",
      "        0 CTF compensation matrices available\n",
      "        nave = 154 - aspect type = 100\n",
      "Projections have already been applied. Setting proj attribute to True.\n",
      "No baseline correction applied\n",
      "    Read a total of 1 projection items:\n",
      "        Average EEG reference (1 x 128) active\n",
      "    Found the data of interest:\n",
      "        t =    -199.22 ...    1000.00 ms (0.37 × vep/normal/correct/aware/dia/exh + 0.63 × vep/normal/correct/aware/dia/inh\n",
      " G_n= g37)\n",
      "        0 CTF compensation matrices available\n",
      "        nave = 104 - aspect type = 100\n",
      "Projections have already been applied. Setting proj attribute to True.\n",
      "No baseline correction applied\n",
      "    Read a total of 1 projection items:\n",
      "        Average EEG reference (1 x 128) active\n",
      "    Found the data of interest:\n",
      "        t =    -199.22 ...    1000.00 ms (0.55 × vep/normal/correct/aware/dia/exh + 0.45 × vep/normal/correct/aware/dia/inh\n",
      " G_n= g38)\n",
      "        0 CTF compensation matrices available\n",
      "        nave = 146 - aspect type = 100\n",
      "Projections have already been applied. Setting proj attribute to True.\n",
      "No baseline correction applied\n",
      "    Read a total of 1 projection items:\n",
      "        Average EEG reference (1 x 128) active\n",
      "    Found the data of interest:\n",
      "        t =    -199.22 ...    1000.00 ms (0.62 × vep/normal/correct/aware/dia/exh + 0.38 × vep/normal/correct/aware/dia/inh\n",
      " G_n= g39)\n",
      "        0 CTF compensation matrices available\n",
      "        nave = 97 - aspect type = 100\n",
      "Projections have already been applied. Setting proj attribute to True.\n",
      "No baseline correction applied\n",
      "    Read a total of 1 projection items:\n",
      "        Average EEG reference (1 x 128) active\n",
      "    Found the data of interest:\n",
      "        t =    -199.22 ...    1000.00 ms (0.41 × vep/normal/correct/aware/dia/exh + 0.59 × vep/normal/correct/aware/dia/inh\n",
      " G_n= g40)\n",
      "        0 CTF compensation matrices available\n",
      "        nave = 69 - aspect type = 100\n",
      "Projections have already been applied. Setting proj attribute to True.\n",
      "No baseline correction applied\n",
      "    Read a total of 1 projection items:\n",
      "        Average EEG reference (1 x 128) active\n",
      "    Found the data of interest:\n",
      "        t =    -199.22 ...    1000.00 ms (0.40 × vep/normal/correct/aware/dia/exh + 0.60 × vep/normal/correct/aware/dia/inh\n",
      " G_n= g41)\n",
      "        0 CTF compensation matrices available\n",
      "        nave = 75 - aspect type = 100\n",
      "Projections have already been applied. Setting proj attribute to True.\n",
      "No baseline correction applied\n",
      "    Read a total of 1 projection items:\n",
      "        Average EEG reference (1 x 128) active\n",
      "    Found the data of interest:\n",
      "        t =    -199.22 ...    1000.00 ms (0.57 × vep/normal/correct/aware/dia/exh + 0.43 × vep/normal/correct/aware/dia/inh\n",
      " G_n= g42)\n",
      "        0 CTF compensation matrices available\n",
      "        nave = 138 - aspect type = 100\n",
      "Projections have already been applied. Setting proj attribute to True.\n",
      "No baseline correction applied\n",
      "    Read a total of 1 projection items:\n",
      "        Average EEG reference (1 x 128) active\n",
      "    Found the data of interest:\n",
      "        t =    -199.22 ...    1000.00 ms (0.50 × vep/normal/correct/aware/dia/exh + 0.50 × vep/normal/correct/aware/dia/inh\n",
      " G_n= g44)\n",
      "        0 CTF compensation matrices available\n",
      "        nave = 117 - aspect type = 100\n",
      "Projections have already been applied. Setting proj attribute to True.\n",
      "No baseline correction applied\n",
      "    Read a total of 1 projection items:\n",
      "        Average EEG reference (1 x 128) active\n",
      "    Found the data of interest:\n",
      "        t =    -199.22 ...    1000.00 ms (0.60 × vep/normal/correct/aware/dia/exh + 0.40 × vep/normal/correct/aware/dia/inh\n",
      " G_n= g45)\n",
      "        0 CTF compensation matrices available\n",
      "        nave = 170 - aspect type = 100\n",
      "Projections have already been applied. Setting proj attribute to True.\n",
      "No baseline correction applied\n",
      "    Read a total of 1 projection items:\n",
      "        Average EEG reference (1 x 128) active\n",
      "    Found the data of interest:\n",
      "        t =    -199.22 ...    1000.00 ms (0.38 × vep/normal/correct/aware/dia/exh + 0.62 × vep/normal/correct/aware/dia/inh\n",
      " G_n= g46)\n",
      "        0 CTF compensation matrices available\n",
      "        nave = 109 - aspect type = 100\n",
      "Projections have already been applied. Setting proj attribute to True.\n",
      "No baseline correction applied\n",
      "    Read a total of 1 projection items:\n",
      "        Average EEG reference (1 x 128) active\n",
      "    Found the data of interest:\n",
      "        t =    -199.22 ...    1000.00 ms (0.48 × vep/normal/correct/aware/dia/exh + 0.52 × vep/normal/correct/aware/dia/inh\n",
      " G_n= g47)\n",
      "        0 CTF compensation matrices available\n",
      "        nave = 172 - aspect type = 100\n",
      "Projections have already been applied. Setting proj attribute to True.\n",
      "No baseline correction applied\n",
      "    Read a total of 1 projection items:\n",
      "        Average EEG reference (1 x 128) active\n",
      "    Found the data of interest:\n",
      "        t =    -199.22 ...    1000.00 ms (0.48 × vep/normal/correct/aware/dia/exh + 0.52 × vep/normal/correct/aware/dia/inh\n",
      " G_n= g49)\n",
      "        0 CTF compensation matrices available\n",
      "        nave = 111 - aspect type = 100\n",
      "Projections have already been applied. Setting proj attribute to True.\n",
      "No baseline correction applied\n",
      "    Read a total of 1 projection items:\n",
      "        Average EEG reference (1 x 128) active\n",
      "    Found the data of interest:\n",
      "        t =    -199.22 ...    1000.00 ms (0.50 × vep/normal/correct/aware/dia/exh + 0.50 × vep/normal/correct/aware/dia/inh\n",
      " G_n= g51)\n",
      "        0 CTF compensation matrices available\n",
      "        nave = 124 - aspect type = 100\n",
      "Projections have already been applied. Setting proj attribute to True.\n",
      "No baseline correction applied\n",
      "    Read a total of 1 projection items:\n",
      "        Average EEG reference (1 x 128) active\n",
      "    Found the data of interest:\n",
      "        t =    -199.22 ...    1000.00 ms (0.57 × vep/normal/correct/aware/dia/exh + 0.43 × vep/normal/correct/aware/dia/inh\n",
      " G_n= g52)\n",
      "        0 CTF compensation matrices available\n",
      "        nave = 103 - aspect type = 100\n",
      "Projections have already been applied. Setting proj attribute to True.\n",
      "No baseline correction applied\n",
      "ana/MNE/evo_list/maskON/mistake/nc/xns/norm/maskON_mistake_nc_xns_norm_unaware_sys_list-ave.fif\n",
      "Reading ana/MNE/evo_list/maskON/correct/cfa/vep/norm/maskON_correct_cfa_vep_norm_unaware_dia_list-ave.fif ...\n",
      "    Read a total of 1 projection items:\n",
      "        Average EEG reference (1 x 128) active\n",
      "    Found the data of interest:\n",
      "        t =    -199.22 ...    1000.00 ms (0.57 × vep/normal/correct/unaware/dia/exh + 0.43 × vep/normal/correct/unaware/dia/inh\n",
      " G_n= g01)\n",
      "        0 CTF compensation matrices available\n",
      "        nave = 102 - aspect type = 100\n",
      "Projections have already been applied. Setting proj attribute to True.\n",
      "No baseline correction applied\n",
      "    Read a total of 1 projection items:\n",
      "        Average EEG reference (1 x 128) active\n",
      "    Found the data of interest:\n",
      "        t =    -199.22 ...    1000.00 ms (0.56 × vep/normal/correct/unaware/dia/exh + 0.44 × vep/normal/correct/unaware/dia/inh\n",
      " G_n= g03)\n",
      "        0 CTF compensation matrices available\n",
      "        nave = 89 - aspect type = 100\n",
      "Projections have already been applied. Setting proj attribute to True.\n",
      "No baseline correction applied\n",
      "    Read a total of 1 projection items:\n",
      "        Average EEG reference (1 x 128) active\n",
      "    Found the data of interest:\n",
      "        t =    -199.22 ...    1000.00 ms (0.67 × vep/normal/correct/unaware/dia/exh + 0.33 × vep/normal/correct/unaware/dia/inh\n",
      " G_n= g08)\n",
      "        0 CTF compensation matrices available\n",
      "        nave = 52 - aspect type = 100\n",
      "Projections have already been applied. Setting proj attribute to True.\n",
      "No baseline correction applied\n",
      "    Read a total of 1 projection items:\n",
      "        Average EEG reference (1 x 128) active\n",
      "    Found the data of interest:\n",
      "        t =    -199.22 ...    1000.00 ms (0.59 × vep/normal/correct/unaware/dia/exh + 0.41 × vep/normal/correct/unaware/dia/inh\n",
      " G_n= g10)\n",
      "        0 CTF compensation matrices available\n",
      "        nave = 49 - aspect type = 100\n",
      "Projections have already been applied. Setting proj attribute to True.\n",
      "No baseline correction applied\n",
      "    Read a total of 1 projection items:\n",
      "        Average EEG reference (1 x 128) active\n",
      "    Found the data of interest:\n",
      "        t =    -199.22 ...    1000.00 ms (0.55 × vep/normal/correct/unaware/dia/exh + 0.45 × vep/normal/correct/unaware/dia/inh\n",
      " G_n= g11)\n",
      "        0 CTF compensation matrices available\n",
      "        nave = 155 - aspect type = 100\n",
      "Projections have already been applied. Setting proj attribute to True.\n",
      "No baseline correction applied\n",
      "    Read a total of 1 projection items:\n",
      "        Average EEG reference (1 x 128) active\n",
      "    Found the data of interest:\n",
      "        t =    -199.22 ...    1000.00 ms (0.55 × vep/normal/correct/unaware/dia/exh + 0.45 × vep/normal/correct/unaware/dia/inh\n",
      " G_n= g12)\n",
      "        0 CTF compensation matrices available\n",
      "        nave = 85 - aspect type = 100\n",
      "Projections have already been applied. Setting proj attribute to True.\n",
      "No baseline correction applied\n",
      "    Read a total of 1 projection items:\n",
      "        Average EEG reference (1 x 128) active\n",
      "    Found the data of interest:\n",
      "        t =    -199.22 ...    1000.00 ms (0.55 × vep/normal/correct/unaware/dia/exh + 0.45 × vep/normal/correct/unaware/dia/inh\n",
      " G_n= g15)\n",
      "        0 CTF compensation matrices available\n",
      "        nave = 125 - aspect type = 100\n",
      "Projections have already been applied. Setting proj attribute to True.\n",
      "No baseline correction applied\n",
      "    Read a total of 1 projection items:\n",
      "        Average EEG reference (1 x 128) active\n",
      "    Found the data of interest:\n",
      "        t =    -199.22 ...    1000.00 ms (0.52 × vep/normal/correct/unaware/dia/exh + 0.48 × vep/normal/correct/unaware/dia/inh\n",
      " G_n= g16)\n",
      "        0 CTF compensation matrices available\n",
      "        nave = 125 - aspect type = 100\n",
      "Projections have already been applied. Setting proj attribute to True.\n",
      "No baseline correction applied\n",
      "    Read a total of 1 projection items:\n",
      "        Average EEG reference (1 x 128) active\n",
      "    Found the data of interest:\n",
      "        t =    -199.22 ...    1000.00 ms (0.40 × vep/normal/correct/unaware/dia/exh + 0.60 × vep/normal/correct/unaware/dia/inh\n",
      " G_n= g17)\n",
      "        0 CTF compensation matrices available\n",
      "        nave = 169 - aspect type = 100\n",
      "Projections have already been applied. Setting proj attribute to True.\n",
      "No baseline correction applied\n",
      "    Read a total of 1 projection items:\n",
      "        Average EEG reference (1 x 128) active\n",
      "    Found the data of interest:\n",
      "        t =    -199.22 ...    1000.00 ms (0.49 × vep/normal/correct/unaware/dia/exh + 0.51 × vep/normal/correct/unaware/dia/inh\n",
      " G_n= g19)\n",
      "        0 CTF compensation matrices available\n",
      "        nave = 108 - aspect type = 100\n",
      "Projections have already been applied. Setting proj attribute to True.\n",
      "No baseline correction applied\n",
      "    Read a total of 1 projection items:\n",
      "        Average EEG reference (1 x 128) active\n",
      "    Found the data of interest:\n",
      "        t =    -199.22 ...    1000.00 ms (0.34 × vep/normal/correct/unaware/dia/exh + 0.66 × vep/normal/correct/unaware/dia/inh\n",
      " G_n= g23)\n",
      "        0 CTF compensation matrices available\n",
      "        nave = 82 - aspect type = 100\n",
      "Projections have already been applied. Setting proj attribute to True.\n",
      "No baseline correction applied\n",
      "    Read a total of 1 projection items:\n",
      "        Average EEG reference (1 x 128) active\n",
      "    Found the data of interest:\n",
      "        t =    -199.22 ...    1000.00 ms (0.52 × vep/normal/correct/unaware/dia/exh + 0.48 × vep/normal/correct/unaware/dia/inh\n",
      " G_n= g24)\n",
      "        0 CTF compensation matrices available\n",
      "        nave = 159 - aspect type = 100\n",
      "Projections have already been applied. Setting proj attribute to True.\n",
      "No baseline correction applied\n",
      "    Read a total of 1 projection items:\n",
      "        Average EEG reference (1 x 128) active\n",
      "    Found the data of interest:\n",
      "        t =    -199.22 ...    1000.00 ms (0.39 × vep/normal/correct/unaware/dia/exh + 0.61 × vep/normal/correct/unaware/dia/inh\n",
      " G_n= g25)\n",
      "        0 CTF compensation matrices available\n",
      "        nave = 109 - aspect type = 100\n",
      "Projections have already been applied. Setting proj attribute to True.\n",
      "No baseline correction applied\n",
      "    Read a total of 1 projection items:\n",
      "        Average EEG reference (1 x 128) active\n",
      "    Found the data of interest:\n",
      "        t =    -199.22 ...    1000.00 ms (0.60 × vep/normal/correct/unaware/dia/exh + 0.40 × vep/normal/correct/unaware/dia/inh\n",
      " G_n= g28)\n",
      "        0 CTF compensation matrices available\n",
      "        nave = 139 - aspect type = 100\n",
      "Projections have already been applied. Setting proj attribute to True.\n",
      "No baseline correction applied\n",
      "    Read a total of 1 projection items:\n",
      "        Average EEG reference (1 x 128) active\n",
      "    Found the data of interest:\n",
      "        t =    -199.22 ...    1000.00 ms (0.64 × vep/normal/correct/unaware/dia/exh + 0.36 × vep/normal/correct/unaware/dia/inh\n",
      " G_n= g32)\n",
      "        0 CTF compensation matrices available\n",
      "        nave = 96 - aspect type = 100\n",
      "Projections have already been applied. Setting proj attribute to True.\n",
      "No baseline correction applied\n",
      "    Read a total of 1 projection items:\n",
      "        Average EEG reference (1 x 128) active\n",
      "    Found the data of interest:\n",
      "        t =    -199.22 ...    1000.00 ms (0.61 × vep/normal/correct/unaware/dia/exh + 0.39 × vep/normal/correct/unaware/dia/inh\n",
      " G_n= g33)\n",
      "        0 CTF compensation matrices available\n",
      "        nave = 155 - aspect type = 100\n",
      "Projections have already been applied. Setting proj attribute to True.\n",
      "No baseline correction applied\n",
      "    Read a total of 1 projection items:\n",
      "        Average EEG reference (1 x 128) active\n",
      "    Found the data of interest:\n",
      "        t =    -199.22 ...    1000.00 ms (0.47 × vep/normal/correct/unaware/dia/exh + 0.53 × vep/normal/correct/unaware/dia/inh\n",
      " G_n= g34)\n",
      "        0 CTF compensation matrices available\n",
      "        nave = 78 - aspect type = 100\n",
      "Projections have already been applied. Setting proj attribute to True.\n",
      "No baseline correction applied\n",
      "    Read a total of 1 projection items:\n",
      "        Average EEG reference (1 x 128) active\n",
      "    Found the data of interest:\n",
      "        t =    -199.22 ...    1000.00 ms (0.26 × vep/normal/correct/unaware/dia/exh + 0.74 × vep/normal/correct/unaware/dia/inh\n",
      " G_n= g37)\n",
      "        0 CTF compensation matrices available\n",
      "        nave = 130 - aspect type = 100\n",
      "Projections have already been applied. Setting proj attribute to True.\n",
      "No baseline correction applied\n",
      "    Read a total of 1 projection items:\n",
      "        Average EEG reference (1 x 128) active\n",
      "    Found the data of interest:\n",
      "        t =    -199.22 ...    1000.00 ms (0.57 × vep/normal/correct/unaware/dia/exh + 0.43 × vep/normal/correct/unaware/dia/inh\n",
      " G_n= g38)\n",
      "        0 CTF compensation matrices available\n",
      "        nave = 166 - aspect type = 100\n",
      "Projections have already been applied. Setting proj attribute to True.\n",
      "No baseline correction applied\n",
      "    Read a total of 1 projection items:\n",
      "        Average EEG reference (1 x 128) active\n",
      "    Found the data of interest:\n",
      "        t =    -199.22 ...    1000.00 ms (0.67 × vep/normal/correct/unaware/dia/exh + 0.33 × vep/normal/correct/unaware/dia/inh\n",
      " G_n= g39)\n",
      "        0 CTF compensation matrices available\n",
      "        nave = 177 - aspect type = 100\n",
      "Projections have already been applied. Setting proj attribute to True.\n",
      "No baseline correction applied\n",
      "    Read a total of 1 projection items:\n",
      "        Average EEG reference (1 x 128) active\n",
      "    Found the data of interest:\n",
      "        t =    -199.22 ...    1000.00 ms (0.44 × vep/normal/correct/unaware/dia/exh + 0.56 × vep/normal/correct/unaware/dia/inh\n",
      " G_n= g40)\n",
      "        0 CTF compensation matrices available\n",
      "        nave = 108 - aspect type = 100\n",
      "Projections have already been applied. Setting proj attribute to True.\n",
      "No baseline correction applied\n",
      "    Read a total of 1 projection items:\n",
      "        Average EEG reference (1 x 128) active\n",
      "    Found the data of interest:\n",
      "        t =    -199.22 ...    1000.00 ms (0.49 × vep/normal/correct/unaware/dia/exh + 0.51 × vep/normal/correct/unaware/dia/inh\n",
      " G_n= g41)\n",
      "        0 CTF compensation matrices available\n",
      "        nave = 163 - aspect type = 100\n",
      "Projections have already been applied. Setting proj attribute to True.\n",
      "No baseline correction applied\n",
      "    Read a total of 1 projection items:\n",
      "        Average EEG reference (1 x 128) active\n",
      "    Found the data of interest:\n",
      "        t =    -199.22 ...    1000.00 ms (0.55 × vep/normal/correct/unaware/dia/exh + 0.45 × vep/normal/correct/unaware/dia/inh\n",
      " G_n= g42)\n",
      "        0 CTF compensation matrices available\n",
      "        nave = 172 - aspect type = 100\n",
      "Projections have already been applied. Setting proj attribute to True.\n",
      "No baseline correction applied\n",
      "    Read a total of 1 projection items:\n",
      "        Average EEG reference (1 x 128) active\n",
      "    Found the data of interest:\n",
      "        t =    -199.22 ...    1000.00 ms (0.48 × vep/normal/correct/unaware/dia/exh + 0.52 × vep/normal/correct/unaware/dia/inh\n",
      " G_n= g44)\n",
      "        0 CTF compensation matrices available\n",
      "        nave = 186 - aspect type = 100\n",
      "Projections have already been applied. Setting proj attribute to True.\n",
      "No baseline correction applied\n",
      "    Read a total of 1 projection items:\n",
      "        Average EEG reference (1 x 128) active\n",
      "    Found the data of interest:\n",
      "        t =    -199.22 ...    1000.00 ms (0.53 × vep/normal/correct/unaware/dia/exh + 0.47 × vep/normal/correct/unaware/dia/inh\n",
      " G_n= g45)\n",
      "        0 CTF compensation matrices available\n",
      "        nave = 116 - aspect type = 100\n",
      "Projections have already been applied. Setting proj attribute to True.\n",
      "No baseline correction applied\n",
      "    Read a total of 1 projection items:\n",
      "        Average EEG reference (1 x 128) active\n",
      "    Found the data of interest:\n",
      "        t =    -199.22 ...    1000.00 ms (0.45 × vep/normal/correct/unaware/dia/exh + 0.55 × vep/normal/correct/unaware/dia/inh\n",
      " G_n= g46)\n",
      "        0 CTF compensation matrices available\n",
      "        nave = 49 - aspect type = 100\n",
      "Projections have already been applied. Setting proj attribute to True.\n",
      "No baseline correction applied\n",
      "    Read a total of 1 projection items:\n",
      "        Average EEG reference (1 x 128) active\n",
      "    Found the data of interest:\n",
      "        t =    -199.22 ...    1000.00 ms (0.48 × vep/normal/correct/unaware/dia/exh + 0.52 × vep/normal/correct/unaware/dia/inh\n",
      " G_n= g47)\n",
      "        0 CTF compensation matrices available\n",
      "        nave = 141 - aspect type = 100\n",
      "Projections have already been applied. Setting proj attribute to True.\n",
      "No baseline correction applied\n",
      "    Read a total of 1 projection items:\n",
      "        Average EEG reference (1 x 128) active\n",
      "    Found the data of interest:\n",
      "        t =    -199.22 ...    1000.00 ms (0.46 × vep/normal/correct/unaware/dia/exh + 0.54 × vep/normal/correct/unaware/dia/inh\n",
      " G_n= g49)\n",
      "        0 CTF compensation matrices available\n",
      "        nave = 116 - aspect type = 100\n",
      "Projections have already been applied. Setting proj attribute to True.\n",
      "No baseline correction applied\n",
      "    Read a total of 1 projection items:\n",
      "        Average EEG reference (1 x 128) active\n",
      "    Found the data of interest:\n",
      "        t =    -199.22 ...    1000.00 ms (0.59 × vep/normal/correct/unaware/dia/exh + 0.41 × vep/normal/correct/unaware/dia/inh\n",
      " G_n= g51)\n",
      "        0 CTF compensation matrices available\n",
      "        nave = 150 - aspect type = 100\n",
      "Projections have already been applied. Setting proj attribute to True.\n",
      "No baseline correction applied\n",
      "    Read a total of 1 projection items:\n",
      "        Average EEG reference (1 x 128) active\n",
      "    Found the data of interest:\n",
      "        t =    -199.22 ...    1000.00 ms (0.54 × vep/normal/correct/unaware/dia/exh + 0.46 × vep/normal/correct/unaware/dia/inh\n",
      " G_n= g52)\n",
      "        0 CTF compensation matrices available\n",
      "        nave = 150 - aspect type = 100\n",
      "Projections have already been applied. Setting proj attribute to True.\n",
      "No baseline correction applied\n"
     ]
    }
   ],
   "source": [
    "\n",
    "rsp_cond='n'\n",
    "if rsp_cond=='o':\n",
    "    rsp_cond_lab='tsk_o_'\n",
    "elif rsp_cond=='n':\n",
    "    rsp_cond_lab=''\n",
    "phy_cond='sys_'\n",
    "sys_awa=mne.read_evokeds(filter_list_equal(evo_files,f'{rsp_cond_lab}maskON_correct_cfa_vep_norm_aware_{phy_cond}list'))\n",
    "sys_unawa=mne.read_evokeds(filter_list_equal(evo_files,f'{rsp_cond_lab}maskON_correct_cfa_vep_norm_unaware_{phy_cond}list'))\n",
    "phy_cond='dia_'\n",
    "dia_awa=mne.read_evokeds(filter_list_equal(evo_files,f'{rsp_cond_lab}maskON_correct_cfa_vep_norm_aware_{phy_cond}list'))\n",
    "dia_unawa=mne.read_evokeds(filter_list_equal(evo_files,f'{rsp_cond_lab}maskON_correct_cfa_vep_norm_unaware_{phy_cond}list'))"
   ],
   "metadata": {
    "collapsed": false,
    "ExecuteTime": {
     "end_time": "2025-08-13T13:52:08.494647200Z",
     "start_time": "2025-08-13T13:51:51.784666200Z"
    }
   }
  },
  {
   "cell_type": "code",
   "execution_count": 155,
   "outputs": [],
   "source": [
    "sys_awa=[ev.crop(-0.1,0.7) for ev in sys_awa]\n",
    "sys_unawa=[ev.crop(-0.1,0.7) for ev in sys_unawa]"
   ],
   "metadata": {
    "collapsed": false,
    "ExecuteTime": {
     "end_time": "2025-08-13T13:53:00.234295700Z",
     "start_time": "2025-08-13T13:53:00.124914400Z"
    }
   }
  },
  {
   "cell_type": "code",
   "execution_count": 132,
   "outputs": [
    {
     "data": {
      "text/plain": "0    g01\n0    g10\n0    g12\n0    g16\n0    g23\n0    g24\n0    g28\n0    g33\n0    g34\n0    g41\n0    g42\n0    g44\n0    g45\n0    g46\n0    g49\nName: g_num, dtype: object"
     },
     "execution_count": 132,
     "metadata": {},
     "output_type": "execute_result"
    }
   ],
   "source": [
    "g_num_high"
   ],
   "metadata": {
    "collapsed": false
   }
  },
  {
   "cell_type": "code",
   "execution_count": 139,
   "outputs": [],
   "source": [
    "sys_awa_high=[]\n",
    "sys_awa_low=[]\n",
    "for evo in sys_awa:\n",
    "    if  g_num_high.str.contains(evo.comment[-3:]).any():\n",
    "        sys_awa_high.append(evo)\n",
    "    elif g_num_low.str.contains(evo.comment[-3:]).any():\n",
    "        sys_awa_low.append(evo)\n",
    "    else:\n",
    "        print(f'{evo.comment[-3:]} not found')"
   ],
   "metadata": {
    "collapsed": false
   }
  },
  {
   "cell_type": "code",
   "execution_count": 141,
   "outputs": [],
   "source": [
    "sys_unawa_high=[]\n",
    "sys_unawa_low=[]\n",
    "for evo in sys_unawa:\n",
    "    if  g_num_high.str.contains(evo.comment[-3:]).any():\n",
    "        evo_unawa_high.append(evo)\n",
    "    elif g_num_low.str.contains(evo.comment[-3:]).any():\n",
    "        evo_unawa_low.append(evo)\n",
    "    else:\n",
    "        print(f'{evo.comment[-3:]} not found')"
   ],
   "metadata": {
    "collapsed": false
   }
  },
  {
   "cell_type": "code",
   "execution_count": 150,
   "outputs": [
    {
     "name": "stdout",
     "output_type": "stream",
     "text": [
      "(15, 128, 155)\n",
      "(15, 128, 155)\n",
      "-0.1\n"
     ]
    }
   ],
   "source": [
    "%matplotlib qt\n",
    "data_shape=[-0.1,0.5]\n",
    "time_plot=[0.15]\n",
    "\n",
    "ts,ps=tTest_ana([evo_awa_low,evo_unawa_low],crop_value=data_shape,FDR=False,plot_times='peaks',averages=0.01,p_val=0.01, topo_limits=[-6,6])"
   ],
   "metadata": {
    "collapsed": false
   }
  },
  {
   "cell_type": "code",
   "execution_count": null,
   "outputs": [],
   "source": [],
   "metadata": {
    "collapsed": false
   }
  },
  {
   "cell_type": "markdown",
   "source": [],
   "metadata": {
    "collapsed": false
   }
  }
 ],
 "metadata": {
  "kernelspec": {
   "name": "conda-env-mne-py",
   "language": "python",
   "display_name": "Python [conda env:mne]"
  },
  "language_info": {
   "codemirror_mode": {
    "name": "ipython",
    "version": 2
   },
   "file_extension": ".py",
   "mimetype": "text/x-python",
   "name": "python",
   "nbconvert_exporter": "python",
   "pygments_lexer": "ipython2",
   "version": "2.7.6"
  }
 },
 "nbformat": 4,
 "nbformat_minor": 0
}
