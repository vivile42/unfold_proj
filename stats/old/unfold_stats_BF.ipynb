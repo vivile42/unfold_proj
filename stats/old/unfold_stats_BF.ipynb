{
 "cells": [
  {
   "cell_type": "code",
   "execution_count": 7,
   "id": "initial_id",
   "metadata": {
    "collapsed": true,
    "ExecuteTime": {
     "end_time": "2025-08-29T14:57:20.184508700Z",
     "start_time": "2025-08-29T14:57:20.045416200Z"
    }
   },
   "outputs": [],
   "source": [
    "\n",
    "import pandas as pd\n",
    "import re #regex library to format fast to read into pd \n",
    "import os\n",
    "\n",
    "import matplotlib.pyplot as plt\n",
    "import feather\n",
    "\n",
    "import numpy as np\n",
    "import platform\n",
    "import mne\n",
    "\n",
    "\n",
    "from mne.channels import find_ch_adjacency, make_1020_channel_selections\n",
    "from mne.stats import spatio_temporal_cluster_test\n",
    "from mne.stats import (ttest_1samp_no_p, bonferroni_correction, fdr_correction,\n",
    "\n",
    "\n",
    "                       permutation_t_test, permutation_cluster_1samp_test,spatio_temporal_cluster_1samp_test)\n",
    "import sys\n",
    "if platform.system()=='Darwin':\n",
    "    os.chdir('/Volumes/BBC/BBC/WP1/data/EEG/tsk/')\n",
    "    #sys.path.append('/Users/leupinv/BBC/WP1/data/Code/python/BBC')\n",
    "    #if this doesn't work pound line right above this, restart the kernel, rerun the cell. \n",
    "    #Then uncomment the same line and rerun\n",
    "\n",
    "else:\n",
    "    #os.chdir('Z:/BBC/WP1/data/EEG/tsk')\n",
    "    #sys.path.append('C:/Users/Vivi/switchdrive/BBC/WP1/data/Code/python/BBC')\n",
    "    os.chdir('Z:/BBC/WP1/data/EEG/tsk')\n",
    "\n",
    "from base.files_in_out import getListOfFiles,GetFiles\n",
    "from stats.stats_helper import filter_list, tTest_ana\n",
    "import stats.t_tests_cluster as clus\n",
    "import stats.stats_helper as s_hp\n",
    "import base.base_constants as cs\n",
    "from stats.stats_helper import filter_list, tTest_ana, filter_list_equal"
   ]
  },
  {
   "cell_type": "markdown",
   "source": [
    "# load BF txt and plot it"
   ],
   "metadata": {
    "collapsed": false
   }
  },
  {
   "cell_type": "code",
   "execution_count": 2,
   "outputs": [],
   "source": [
    "from  stats.t_tests_cluster import plot_from_BF\n"
   ],
   "metadata": {
    "collapsed": false,
    "ExecuteTime": {
     "end_time": "2025-08-29T14:49:52.904273900Z",
     "start_time": "2025-08-29T14:49:52.849125900Z"
    }
   }
  },
  {
   "cell_type": "code",
   "execution_count": 3,
   "outputs": [],
   "source": [
    "%load_ext autoreload\n",
    "%autoreload 2\n",
    "import matplotlib as mpl\n",
    "mpl.rcParams['svg.fonttype']='none'\n",
    "mpl.rcParams['text.usetex']=False\n",
    "plt.style.use('default')\n",
    "\n",
    "mpl.rcParams['svg.fonttype']='none'\n",
    "mpl.rcParams['text.usetex']=False"
   ],
   "metadata": {
    "collapsed": false,
    "ExecuteTime": {
     "end_time": "2025-08-29T14:49:54.245628Z",
     "start_time": "2025-08-29T14:49:54.092741500Z"
    }
   },
   "id": "66547ab36728c8ae"
  },
  {
   "cell_type": "code",
   "execution_count": 4,
   "outputs": [],
   "source": [
    "def data_cutter(data, time_limits=[-0.3, 0.8], new_time_limits=[0.2, 0.6], sfreq=256):\n",
    "    \"\"\"\n",
    "    Cuts a 3D EEG data array ( time x electrodes) based on specified time limits.\n",
    "    Parameters:\n",
    "        data (np.ndarray): EEG data of shape (electrodes, time)\n",
    "        time_limits (list of float): Original epoch time range in seconds (e.g., [-0.3, 0.8])\n",
    "        new_time_limits (list of float): Desired time range to extract (e.g., [0.2, 0.6])\n",
    "        sfreq (int): Sampling frequency in Hz (default is 256)\n",
    "    Returns:\n",
    "        np.ndarray: The cut data with shape (new_time_points,electrodes)\n",
    "    \"\"\"\n",
    "    # Calculate the sample indices corresponding to the new time limits\n",
    "    start_idx = int(np.round((new_time_limits[0] - time_limits[0]) * sfreq))\n",
    "    end_idx = int(np.round((new_time_limits[1] - time_limits[0]) * sfreq))\n",
    "    # Cut the data along the time dimension (axis=1)\n",
    "    return data[start_idx:end_idx,:]\n",
    "\n"
   ],
   "metadata": {
    "collapsed": false,
    "ExecuteTime": {
     "end_time": "2025-08-29T14:49:55.344472800Z",
     "start_time": "2025-08-29T14:49:55.215542700Z"
    }
   }
  },
  {
   "cell_type": "code",
   "outputs": [],
   "source": [
    "idx=1\n",
    "modlist=['modfit','awafit','rawerps','modfit_card']\n",
    "cond_list=[\"awareness_unaware\",\"awareness\",\"awareness\",\"card_phase_sys\"]\n",
    "#define variables\n",
    "modtype=modlist[idx]\n",
    "erp_type=\"hep\"\n",
    "cond=cond_list[idx]\n",
    "dc_type=\"dc\"\n",
    "\n",
    "#load corresponding file \n",
    "\n",
    "\n",
    "file_dir=f'ana/deconvolution/stats/BF_matrix_{modtype}_{erp_type}_{cond}_{dc_type}.ep'\n",
    "f = open(file_dir)"
   ],
   "metadata": {
    "collapsed": false,
    "ExecuteTime": {
     "end_time": "2025-08-29T14:49:58.146435700Z",
     "start_time": "2025-08-29T14:49:57.988555800Z"
    }
   },
   "id": "f1416d0c622d575c",
   "execution_count": 5
  },
  {
   "cell_type": "code",
   "outputs": [
    {
     "data": {
      "text/plain": "(128, 256)"
     },
     "execution_count": 6,
     "metadata": {},
     "output_type": "execute_result"
    }
   ],
   "source": [
    "data=np.loadtxt(file_dir)\n",
    "data.shape"
   ],
   "metadata": {
    "collapsed": false,
    "ExecuteTime": {
     "end_time": "2025-08-29T14:49:59.601277300Z",
     "start_time": "2025-08-29T14:49:59.336749300Z"
    }
   },
   "id": "dc7a4655a40bbccc",
   "execution_count": 6
  },
  {
   "cell_type": "code",
   "execution_count": 93,
   "outputs": [
    {
     "data": {
      "text/plain": "(128, 257)"
     },
     "execution_count": 93,
     "metadata": {},
     "output_type": "execute_result"
    }
   ],
   "source": [],
   "metadata": {
    "collapsed": false,
    "ExecuteTime": {
     "end_time": "2025-05-13T07:08:01.046574500Z",
     "start_time": "2025-05-13T07:08:00.945171Z"
    }
   }
  },
  {
   "cell_type": "code",
   "execution_count": 78,
   "outputs": [
    {
     "name": "stdout",
     "output_type": "stream",
     "text": [
      "number of time pointst: 5\n",
      "length of minimum time points to be significant: 1\n",
      "at the moment if only one TF is significant the electrode will be displayed as sig\n"
     ]
    }
   ],
   "source": [
    "%matplotlib qt\n",
    "time_points=[0.505]\n",
    "time_points_s=[round(x*1000) for x in time_points]\n",
    "fig_evo,fig_topo=clus.plot_from_BF(data,log_trans=True,averages=0.015,start=-0.2,plot_times=time_points)"
   ],
   "metadata": {
    "collapsed": false,
    "ExecuteTime": {
     "end_time": "2025-05-21T14:02:52.528075300Z",
     "start_time": "2025-05-21T14:02:52.053473800Z"
    }
   },
   "id": "580c23d95e682448"
  },
  {
   "cell_type": "code",
   "execution_count": 66,
   "outputs": [],
   "source": [
    "file_evo_dir=f'ana/deconvolution/figures/mass_evo_{modtype}_{erp_type}_{cond}_{dc_type}.svg'\n",
    "fig_evo.savefig(file_evo_dir,format='svg')"
   ],
   "metadata": {
    "collapsed": false,
    "ExecuteTime": {
     "end_time": "2025-05-21T13:52:20.106521Z",
     "start_time": "2025-05-21T13:52:19.536211Z"
    }
   }
  },
  {
   "cell_type": "code",
   "execution_count": 67,
   "outputs": [],
   "source": [
    "file_topo_dir=f'ana/deconvolution/figures/topo_evo_{time_points_s}_{modtype}_{erp_type}_{cond}_{dc_type}.svg'\n",
    "fig_topo.savefig(file_topo_dir,format='svg')"
   ],
   "metadata": {
    "collapsed": false,
    "ExecuteTime": {
     "end_time": "2025-05-21T13:52:27.528985900Z",
     "start_time": "2025-05-21T13:52:27.134077800Z"
    }
   }
  },
  {
   "cell_type": "markdown",
   "source": [
    "# Plot tvalues and use BF as mask"
   ],
   "metadata": {
    "collapsed": false
   }
  },
  {
   "cell_type": "markdown",
   "source": [
    "## aware vs unaware in aware fit"
   ],
   "metadata": {
    "collapsed": false
   }
  },
  {
   "cell_type": "code",
   "execution_count": 8,
   "outputs": [],
   "source": [
    "g_num='g01'\n",
    "file_dir=f'ana/deconvolution/ep_betas/modfit/dc/{g_num}_modfit_hep_awareness_unaware_dc.ep'\n",
    "f = open(file_dir)\n"
   ],
   "metadata": {
    "collapsed": false,
    "ExecuteTime": {
     "end_time": "2025-08-29T14:57:53.786107100Z",
     "start_time": "2025-08-29T14:57:53.621911Z"
    }
   }
  },
  {
   "cell_type": "code",
   "execution_count": 9,
   "outputs": [
    {
     "data": {
      "text/plain": "(204, 128)"
     },
     "execution_count": 9,
     "metadata": {},
     "output_type": "execute_result"
    }
   ],
   "source": [
    "data=np.loadtxt(file_dir)\n",
    "data=data_cutter(data,time_limits=[-0.2,0.8],new_time_limits=[-0.1,0.7])\n",
    "\n",
    "data.shape"
   ],
   "metadata": {
    "collapsed": false,
    "ExecuteTime": {
     "end_time": "2025-08-29T14:57:55.577960100Z",
     "start_time": "2025-08-29T14:57:55.353877800Z"
    }
   }
  },
  {
   "cell_type": "code",
   "execution_count": 10,
   "outputs": [],
   "source": [
    "erp_type='hep'\n",
    "modtype='awafit'\n",
    "subject_list=cs.G_N\n",
    "X_awa=np.empty((len(subject_list),data.shape[1],data.shape[0]))\n",
    "dc='nodc'\n",
    "for idx,g_num in enumerate(subject_list):\n",
    "    file_dir=f'ana/deconvolution/ep_betas/awafit/{dc}/{g_num}_aware_hep__Intercept__{dc}.ep'\n",
    "    data=np.loadtxt(file_dir)\n",
    "    data=data_cutter(data,time_limits=[-0.2,0.8],new_time_limits=[-0.1,0.7])\n",
    "\n",
    "\n",
    "    X_awa[idx,:,:]=data.T\n",
    "\n",
    "\n"
   ],
   "metadata": {
    "collapsed": false,
    "ExecuteTime": {
     "end_time": "2025-08-29T14:58:01.003210300Z",
     "start_time": "2025-08-29T14:57:56.809281700Z"
    }
   }
  },
  {
   "cell_type": "code",
   "execution_count": 11,
   "outputs": [],
   "source": [
    "subject_list=cs.G_N\n",
    "X_unawa=np.empty((len(subject_list),data.shape[1],data.shape[0]))\n",
    "for idx,g_num in enumerate(subject_list):\n",
    "    file_dir=f'ana/deconvolution/ep_betas/awafit/{dc}/{g_num}_unaware_hep__Intercept__{dc}.ep'\n",
    "\n",
    "    data=np.loadtxt(file_dir)\n",
    "    data=data_cutter(data,time_limits=[-0.2,0.8],new_time_limits=[-0.1,0.7])\n",
    "\n",
    "    X_unawa[idx,:,:]=data.T\n",
    "\n",
    "\n"
   ],
   "metadata": {
    "collapsed": false,
    "ExecuteTime": {
     "end_time": "2025-08-29T14:58:04.601149400Z",
     "start_time": "2025-08-29T14:58:01.006289700Z"
    }
   }
  },
  {
   "cell_type": "markdown",
   "source": [
    "### load bf"
   ],
   "metadata": {
    "collapsed": false
   }
  },
  {
   "cell_type": "code",
   "execution_count": 12,
   "outputs": [],
   "source": [
    "cond=\"awareness\"\n",
    "dc_type=dc\n",
    "\n",
    "#load corresponding file\n",
    "\n",
    "\n",
    "\n",
    "file_dir=f'ana/deconvolution/stats/BF_matrix_{modtype}_{erp_type}_{cond}_{dc_type}.ep'\n",
    "f = open(file_dir)"
   ],
   "metadata": {
    "collapsed": false,
    "ExecuteTime": {
     "end_time": "2025-08-29T14:58:10.867556300Z",
     "start_time": "2025-08-29T14:58:10.725151900Z"
    }
   }
  },
  {
   "cell_type": "code",
   "execution_count": 13,
   "outputs": [
    {
     "data": {
      "text/plain": "(128, 204)"
     },
     "execution_count": 13,
     "metadata": {},
     "output_type": "execute_result"
    }
   ],
   "source": [
    "data_BF=np.loadtxt(file_dir)\n",
    "data_BF=data_BF\n",
    "data_BF=data_cutter(data_BF.T,time_limits=[-0.2,0.8],new_time_limits=[-0.1,0.7]).T\n",
    "data_BF.shape"
   ],
   "metadata": {
    "collapsed": false,
    "ExecuteTime": {
     "end_time": "2025-08-29T14:58:12.045275600Z",
     "start_time": "2025-08-29T14:58:11.706347400Z"
    }
   }
  },
  {
   "cell_type": "markdown",
   "source": [],
   "metadata": {
    "collapsed": false
   }
  },
  {
   "cell_type": "code",
   "execution_count": 14,
   "outputs": [],
   "source": [
    "X=X_awa-X_unawa"
   ],
   "metadata": {
    "collapsed": false,
    "ExecuteTime": {
     "end_time": "2025-08-29T14:58:14.103524Z",
     "start_time": "2025-08-29T14:58:13.988686800Z"
    }
   }
  },
  {
   "cell_type": "code",
   "execution_count": 15,
   "outputs": [
    {
     "name": "stdout",
     "output_type": "stream",
     "text": [
      "-0.1\n",
      "number of time pointst: 8\n",
      "length of minimum time points to be significant: 1\n",
      "at the moment if only one TF is significant the electrode will be displayed as sig\n",
      "(128, 204)\n"
     ]
    },
    {
     "data": {
      "text/plain": "(array([[ 0.18383931, -0.26656446, -0.40196204, ..., -0.14422776,\n         -0.21477315, -0.23727737],\n        [ 0.30345723, -0.09262065, -0.27866315, ...,  0.16750516,\n          0.1218846 ,  0.05244283],\n        [ 0.22487657,  0.0197908 , -0.01022627, ...,  0.82614221,\n          0.81815018,  0.76042666],\n        ...,\n        [-0.38757145, -0.19659087, -0.11801472, ...,  1.1765845 ,\n          1.43694864,  1.62983701],\n        [ 0.16203319,  0.30083873,  0.32402557, ...,  0.4352594 ,\n          0.6158562 ,  0.75359865],\n        [-0.27310474, -0.10419017, -0.11735747, ...,  0.09273872,\n          0.24389948,  0.37108317]]),\n array([[0.85541895, 0.79169083, 0.69065921, ..., 0.88631826, 0.83144737,\n         0.81410989],\n        [0.7637079 , 0.92684183, 0.78248083, ..., 0.86813522, 0.9038311 ,\n         0.95853544],\n        [0.82365235, 0.9843458 , 0.99191079, ..., 0.41546879, 0.41994345,\n         0.45313819],\n        ...,\n        [0.7011633 , 0.84551896, 0.90686963, ..., 0.24892917, 0.16143481,\n         0.11395158],\n        [0.87240342, 0.76568384, 0.74824414, ..., 0.6665965 , 0.54279332,\n         0.4571655 ],\n        [0.78670822, 0.91773569, 0.90738583, ..., 0.92674885, 0.80902592,\n         0.71327278]]))"
     },
     "execution_count": 15,
     "metadata": {},
     "output_type": "execute_result"
    }
   ],
   "source": [
    "%matplotlib qt\n",
    "filepath=f'{modtype}_{erp_type}_{cond}_{dc_type}'\n",
    "s_hp.get_tTest(X,crop_value=[-0.1,0.7],FDR=False,mask_BF=data_BF,BF=True, plot_times=[0.505],averages=0.015,png=filepath)"
   ],
   "metadata": {
    "collapsed": false,
    "ExecuteTime": {
     "end_time": "2025-08-29T14:58:27.562571500Z",
     "start_time": "2025-08-29T14:58:20.097565400Z"
    }
   }
  },
  {
   "cell_type": "markdown",
   "source": [
    "# Card fit"
   ],
   "metadata": {
    "collapsed": false
   }
  },
  {
   "cell_type": "code",
   "execution_count": 213,
   "outputs": [],
   "source": [
    "erp_type='hep'\n",
    "modtype='cardfit'\n",
    "subject_list=cs.G_N\n",
    "X_sys=np.empty((len(subject_list),data.shape[1],data.shape[0]))\n",
    "dc='nodc'\n",
    "for idx,g_num in enumerate(subject_list):\n",
    "    file_dir=f'ana/deconvolution/ep_betas/cardfit/{dc}/{g_num}_sys_hep__Intercept__{dc}.ep'\n",
    "    data=np.loadtxt(file_dir)\n",
    "    data=data_cutter(data,time_limits=[-0.2,0.8],new_time_limits=[-0.1,0.7])\n",
    "\n",
    "\n",
    "\n",
    "    X_sys[idx,:,:]=data.T\n",
    "\n",
    "\n"
   ],
   "metadata": {
    "collapsed": false,
    "ExecuteTime": {
     "end_time": "2025-06-02T09:04:40.093200500Z",
     "start_time": "2025-06-02T09:04:36.201521600Z"
    }
   }
  },
  {
   "cell_type": "code",
   "execution_count": 214,
   "outputs": [],
   "source": [
    "subject_list=cs.G_N\n",
    "X_dia=np.empty((len(subject_list),data.shape[1],data.shape[0]))\n",
    "for idx,g_num in enumerate(subject_list):\n",
    "    file_dir=f'ana/deconvolution/ep_betas/cardfit/{dc}/{g_num}_dia_hep__Intercept__{dc}.ep'\n",
    "    data=np.loadtxt(file_dir)\n",
    "    data=data_cutter(data,time_limits=[-0.2,0.8],new_time_limits=[-0.1,0.7])\n",
    "\n",
    "    X_dia[idx,:,:]=data.T\n",
    "\n",
    "\n"
   ],
   "metadata": {
    "collapsed": false,
    "ExecuteTime": {
     "end_time": "2025-06-02T09:04:44.367910800Z",
     "start_time": "2025-06-02T09:04:40.093200500Z"
    }
   }
  },
  {
   "cell_type": "markdown",
   "source": [
    "### load bf"
   ],
   "metadata": {
    "collapsed": false
   }
  },
  {
   "cell_type": "code",
   "execution_count": 215,
   "outputs": [],
   "source": [
    "cond=\"sys\"\n",
    "dc_type=dc\n",
    "\n",
    "#load corresponding file\n",
    "\n",
    "\n",
    "\n",
    "file_dir=f'ana/deconvolution/stats/BF_matrix_{modtype}_{erp_type}_{cond}_{dc_type}.ep'\n",
    "f = open(file_dir)"
   ],
   "metadata": {
    "collapsed": false,
    "ExecuteTime": {
     "end_time": "2025-06-02T09:05:33.878777600Z",
     "start_time": "2025-06-02T09:05:33.738240700Z"
    }
   }
  },
  {
   "cell_type": "code",
   "execution_count": 19,
   "outputs": [
    {
     "data": {
      "text/plain": "(128, 205)"
     },
     "execution_count": 19,
     "metadata": {},
     "output_type": "execute_result"
    }
   ],
   "source": [
    "data_BF=np.loadtxt(file_dir)\n",
    "data_BF=data_cutter(data_BF.T,time_limits=[-0.2,0.8],new_time_limits=[-0.1,0.7]).T\n",
    "data_BF.shape"
   ],
   "metadata": {
    "collapsed": false,
    "ExecuteTime": {
     "end_time": "2025-06-03T08:57:22.686366700Z",
     "start_time": "2025-06-03T08:57:22.436348500Z"
    }
   }
  },
  {
   "cell_type": "markdown",
   "source": [],
   "metadata": {
    "collapsed": false
   }
  },
  {
   "cell_type": "markdown",
   "source": [],
   "metadata": {
    "collapsed": false
   }
  },
  {
   "cell_type": "code",
   "execution_count": 20,
   "outputs": [
    {
     "ename": "NameError",
     "evalue": "name 'X_sys' is not defined",
     "output_type": "error",
     "traceback": [
      "\u001B[1;31m---------------------------------------------------------------------------\u001B[0m",
      "\u001B[1;31mNameError\u001B[0m                                 Traceback (most recent call last)",
      "Input \u001B[1;32mIn [20]\u001B[0m, in \u001B[0;36m<cell line: 1>\u001B[1;34m()\u001B[0m\n\u001B[1;32m----> 1\u001B[0m X\u001B[38;5;241m=\u001B[39m\u001B[43mX_sys\u001B[49m\u001B[38;5;241m-\u001B[39mX_dia\n",
      "\u001B[1;31mNameError\u001B[0m: name 'X_sys' is not defined"
     ]
    }
   ],
   "source": [
    "X=X_sys-X_dia"
   ],
   "metadata": {
    "collapsed": false,
    "ExecuteTime": {
     "end_time": "2025-06-03T08:57:27.862183900Z",
     "start_time": "2025-06-03T08:57:27.737521100Z"
    }
   }
  },
  {
   "cell_type": "code",
   "execution_count": 21,
   "outputs": [
    {
     "ename": "NameError",
     "evalue": "name 'X' is not defined",
     "output_type": "error",
     "traceback": [
      "\u001B[1;31m---------------------------------------------------------------------------\u001B[0m",
      "\u001B[1;31mNameError\u001B[0m                                 Traceback (most recent call last)",
      "Input \u001B[1;32mIn [21]\u001B[0m, in \u001B[0;36m<cell line: 3>\u001B[1;34m()\u001B[0m\n\u001B[0;32m      1\u001B[0m get_ipython()\u001B[38;5;241m.\u001B[39mrun_line_magic(\u001B[38;5;124m'\u001B[39m\u001B[38;5;124mmatplotlib\u001B[39m\u001B[38;5;124m'\u001B[39m, \u001B[38;5;124m'\u001B[39m\u001B[38;5;124mqt\u001B[39m\u001B[38;5;124m'\u001B[39m)\n\u001B[0;32m      2\u001B[0m filepath\u001B[38;5;241m=\u001B[39m\u001B[38;5;124mf\u001B[39m\u001B[38;5;124m'\u001B[39m\u001B[38;5;132;01m{\u001B[39;00mmodtype\u001B[38;5;132;01m}\u001B[39;00m\u001B[38;5;124m_\u001B[39m\u001B[38;5;132;01m{\u001B[39;00merp_type\u001B[38;5;132;01m}\u001B[39;00m\u001B[38;5;124m_\u001B[39m\u001B[38;5;132;01m{\u001B[39;00mcond\u001B[38;5;132;01m}\u001B[39;00m\u001B[38;5;124m_\u001B[39m\u001B[38;5;132;01m{\u001B[39;00mdc_type\u001B[38;5;132;01m}\u001B[39;00m\u001B[38;5;124m'\u001B[39m\n\u001B[1;32m----> 3\u001B[0m s_hp\u001B[38;5;241m.\u001B[39mget_tTest(\u001B[43mX\u001B[49m,crop_value\u001B[38;5;241m=\u001B[39m[\u001B[38;5;241m-\u001B[39m\u001B[38;5;241m0.1\u001B[39m,\u001B[38;5;241m0.7\u001B[39m],FDR\u001B[38;5;241m=\u001B[39m\u001B[38;5;28;01mFalse\u001B[39;00m,mask_BF\u001B[38;5;241m=\u001B[39mdata_BF,BF\u001B[38;5;241m=\u001B[39m\u001B[38;5;28;01mTrue\u001B[39;00m, plot_times\u001B[38;5;241m=\u001B[39m[\u001B[38;5;241m0.55\u001B[39m],averages\u001B[38;5;241m=\u001B[39m\u001B[38;5;241m0.05\u001B[39m,png\u001B[38;5;241m=\u001B[39mfilepath,topo_limits\u001B[38;5;241m=\u001B[39m[\u001B[38;5;241m-\u001B[39m\u001B[38;5;241m9\u001B[39m,\u001B[38;5;241m9\u001B[39m])\n",
      "\u001B[1;31mNameError\u001B[0m: name 'X' is not defined"
     ]
    }
   ],
   "source": [
    "%matplotlib qt\n",
    "filepath=f'{modtype}_{erp_type}_{cond}_{dc_type}'\n",
    "s_hp.get_tTest(X,crop_value=[-0.1,0.7],FDR=False,mask_BF=data_BF,BF=True, plot_times=[0.55],averages=0.05,png=filepath,topo_limits=[-9,9])"
   ],
   "metadata": {
    "collapsed": false,
    "ExecuteTime": {
     "end_time": "2025-06-03T08:57:29.123304600Z",
     "start_time": "2025-06-03T08:57:28.504778800Z"
    }
   }
  },
  {
   "cell_type": "code",
   "execution_count": null,
   "outputs": [],
   "source": [],
   "metadata": {
    "collapsed": false
   }
  },
  {
   "cell_type": "markdown",
   "source": [
    "## card phase (or single modfit)"
   ],
   "metadata": {
    "collapsed": false
   }
  },
  {
   "cell_type": "code",
   "execution_count": 2,
   "outputs": [],
   "source": [
    "g_num='g01'\n",
    "file_dir=f'ana/deconvolution/ep_betas/modfit/dc/{g_num}_modfit_hep_awareness_unaware_dc.ep'\n",
    "f = open(file_dir)\n"
   ],
   "metadata": {
    "collapsed": false,
    "ExecuteTime": {
     "end_time": "2025-05-27T16:13:41.170333200Z",
     "start_time": "2025-05-27T16:13:41.069310600Z"
    }
   }
  },
  {
   "cell_type": "code",
   "execution_count": 22,
   "outputs": [
    {
     "data": {
      "text/plain": "(103, 257)"
     },
     "execution_count": 22,
     "metadata": {},
     "output_type": "execute_result"
    }
   ],
   "source": [
    "data=np.loadtxt(file_dir)\n",
    "data=data_cutter(data,time_limits=[-0.2,0.8],new_time_limits=[-0.1,0.6])\n",
    "\n",
    "data.shape"
   ],
   "metadata": {
    "collapsed": false,
    "ExecuteTime": {
     "end_time": "2025-06-03T08:57:40.328433200Z",
     "start_time": "2025-06-03T08:57:40.144392100Z"
    }
   }
  },
  {
   "cell_type": "code",
   "execution_count": 23,
   "outputs": [
    {
     "ename": "ValueError",
     "evalue": "could not broadcast input array from shape (128,179) into shape (257,103)",
     "output_type": "error",
     "traceback": [
      "\u001B[1;31m---------------------------------------------------------------------------\u001B[0m",
      "\u001B[1;31mValueError\u001B[0m                                Traceback (most recent call last)",
      "Input \u001B[1;32mIn [23]\u001B[0m, in \u001B[0;36m<cell line: 7>\u001B[1;34m()\u001B[0m\n\u001B[0;32m      9\u001B[0m data\u001B[38;5;241m=\u001B[39mnp\u001B[38;5;241m.\u001B[39mloadtxt(file_dir)\n\u001B[0;32m     10\u001B[0m data\u001B[38;5;241m=\u001B[39mdata_cutter(data,time_limits\u001B[38;5;241m=\u001B[39m[\u001B[38;5;241m-\u001B[39m\u001B[38;5;241m0.2\u001B[39m,\u001B[38;5;241m0.8\u001B[39m],new_time_limits\u001B[38;5;241m=\u001B[39m[\u001B[38;5;241m-\u001B[39m\u001B[38;5;241m0.1\u001B[39m,\u001B[38;5;241m0.6\u001B[39m])\n\u001B[1;32m---> 13\u001B[0m X[idx,:,:]\u001B[38;5;241m=\u001B[39mdata\u001B[38;5;241m.\u001B[39mT\n",
      "\u001B[1;31mValueError\u001B[0m: could not broadcast input array from shape (128,179) into shape (257,103)"
     ]
    }
   ],
   "source": [
    "erp_type='hep'\n",
    "modtype='modfit_card'\n",
    "cond='card_phase_sys'\n",
    "subject_list=cs.G_N\n",
    "X=np.empty((len(subject_list),data.shape[1],data.shape[0]))\n",
    "dc='dc'\n",
    "for idx,g_num in enumerate(subject_list):\n",
    "    file_dir=f'ana/deconvolution/ep_betas/{modtype}/{dc}/{g_num}_{modtype}_hep_{cond}_{dc}.ep'\n",
    "    data=np.loadtxt(file_dir)\n",
    "    data=data_cutter(data,time_limits=[-0.2,0.8],new_time_limits=[-0.1,0.6])\n",
    "\n",
    "\n",
    "    X[idx,:,:]=data.T\n",
    "\n",
    "\n"
   ],
   "metadata": {
    "collapsed": false,
    "ExecuteTime": {
     "end_time": "2025-06-03T08:57:42.977947500Z",
     "start_time": "2025-06-03T08:57:42.723123100Z"
    }
   }
  },
  {
   "cell_type": "markdown",
   "source": [
    "### load bf"
   ],
   "metadata": {
    "collapsed": false
   }
  },
  {
   "cell_type": "code",
   "execution_count": 5,
   "outputs": [],
   "source": [
    "\n",
    "dc_type=dc\n",
    "\n",
    "#load corresponding file\n",
    "\n",
    "\n",
    "\n",
    "file_dir=f'ana/deconvolution/stats/BF_matrix_{modtype}_{erp_type}_{cond}_{dc_type}.ep'\n",
    "f = open(file_dir)"
   ],
   "metadata": {
    "collapsed": false,
    "ExecuteTime": {
     "end_time": "2025-05-27T16:13:56.104824100Z",
     "start_time": "2025-05-27T16:13:56.042320200Z"
    }
   }
  },
  {
   "cell_type": "code",
   "execution_count": 6,
   "outputs": [],
   "source": [
    "data_BF=np.loadtxt(file_dir)\n",
    "data_BF=data_cutter(data_BF.T,time_limits=[-0.2,0.8],new_time_limits=[-0.1,0.6]).T\n"
   ],
   "metadata": {
    "collapsed": false,
    "ExecuteTime": {
     "end_time": "2025-05-27T16:14:00.714026Z",
     "start_time": "2025-05-27T16:14:00.551490900Z"
    }
   }
  },
  {
   "cell_type": "markdown",
   "source": [],
   "metadata": {
    "collapsed": false
   }
  },
  {
   "cell_type": "code",
   "execution_count": 7,
   "outputs": [
    {
     "name": "stdout",
     "output_type": "stream",
     "text": [
      "-0.2\n"
     ]
    },
    {
     "data": {
      "text/plain": "(array([[ 0.59177917,  0.22651826, -0.0566656 , ..., -0.99932455,\n         -1.18403266, -1.38709549],\n        [-0.02986289, -0.21541184, -0.41436102, ...,  1.11590517,\n          1.02129637,  0.83984788],\n        [-1.04133681, -1.09947292, -1.19625127, ...,  2.06851577,\n          2.05000064,  1.96951758],\n        ...,\n        [-2.05163829, -2.08581226, -1.9960999 , ...,  0.80900226,\n          1.2174415 ,  1.7738138 ],\n        [-0.96067137, -0.93931299, -0.81089456, ...,  0.81952876,\n          0.97853332,  1.33391654],\n        [-0.7728368 , -0.60363692, -0.39463917, ...,  0.21698786,\n          0.51645794,  0.88711299]]),\n array([[0.55858407, 0.82238746, 0.9552002 , ..., 0.32590342, 0.24601452,\n         0.17598209],\n        [0.97638098, 0.83095408, 0.68165876, ..., 0.27362427, 0.31555878,\n         0.40786444],\n        [0.30632334, 0.28060571, 0.24128775, ..., 0.04761112, 0.04950211,\n         0.05851267],\n        ...,\n        [0.04933222, 0.0459026 , 0.05538937, ..., 0.4251017 , 0.23325043,\n         0.08659609],\n        [0.34465939, 0.35532844, 0.4240315 , ..., 0.41916947, 0.33590369,\n         0.1926131 ],\n        [0.44587263, 0.55077794, 0.6959967 , ..., 0.82973715, 0.60945076,\n         0.38231633]]))"
     },
     "execution_count": 7,
     "metadata": {},
     "output_type": "execute_result"
    }
   ],
   "source": [
    "%matplotlib qt\n",
    "filepath=f'{modtype}_{erp_type}_{cond}_{dc_type}'\n",
    "s_hp.get_tTest(X,crop_value=[-0.1,0.6],FDR=False,mask_BF=data_BF,BF=True, plot_times='peaks',averages=0.015,png=filepath)"
   ],
   "metadata": {
    "collapsed": false,
    "ExecuteTime": {
     "end_time": "2025-05-27T16:14:11.735408900Z",
     "start_time": "2025-05-27T16:14:02.852431200Z"
    }
   }
  },
  {
   "cell_type": "markdown",
   "source": [
    "## same for erp"
   ],
   "metadata": {
    "collapsed": false
   }
  },
  {
   "cell_type": "code",
   "execution_count": 6,
   "outputs": [
    {
     "name": "stdout",
     "output_type": "stream",
     "text": [
      "Reading ana/MNE/evo_list/maskOFF/correct/cfa/hep/norm/maskOFF_correct_cfa_hep_norm_RRCA_list-ave.fif ...\n",
      "    Read a total of 1 projection items:\n",
      "        Average EEG reference (1 x 128) active\n",
      "    Found the data of interest:\n",
      "        t =    -199.22 ...    1000.00 ms (0.13 × hep/normal/correct/aware/R/exh/RRCA + 0.08 × hep/normal/correct/aware/R/inh/RRCA + 0.47 × hep/normal/correct/aware/R2/exh/RRCA + 0.32 × hep/normal/correct/aware/R2/inh/RRCA\n",
      " G_n= g01)\n",
      "        0 CTF compensation matrices available\n",
      "        nave = 345 - aspect type = 100\n",
      "Projections have already been applied. Setting proj attribute to True.\n",
      "No baseline correction applied\n",
      "    Read a total of 1 projection items:\n",
      "        Average EEG reference (1 x 128) active\n",
      "    Found the data of interest:\n",
      "        t =    -199.22 ...    1000.00 ms (0.18 × hep/normal/correct/aware/R/exh/RRCA + 0.15 × hep/normal/correct/aware/R/inh/RRCA + 0.42 × hep/normal/correct/aware/R2/exh/RRCA + 0.25 × hep/normal/correct/aware/R2/inh/RRCA\n",
      " G_n= g03)\n",
      "        0 CTF compensation matrices available\n",
      "        nave = 372 - aspect type = 100\n",
      "Projections have already been applied. Setting proj attribute to True.\n",
      "No baseline correction applied\n",
      "    Read a total of 1 projection items:\n",
      "        Average EEG reference (1 x 128) active\n",
      "    Found the data of interest:\n",
      "        t =    -199.22 ...    1000.00 ms (0.13 × hep/normal/correct/aware/R/exh/RRCA + 0.14 × hep/normal/correct/aware/R/inh/RRCA + 0.35 × hep/normal/correct/aware/R2/exh/RRCA + 0.38 × hep/normal/correct/aware/R2/inh/RRCA\n",
      " G_n= g08)\n",
      "        0 CTF compensation matrices available\n",
      "        nave = 343 - aspect type = 100\n",
      "Projections have already been applied. Setting proj attribute to True.\n",
      "No baseline correction applied\n",
      "    Read a total of 1 projection items:\n",
      "        Average EEG reference (1 x 128) active\n",
      "    Found the data of interest:\n",
      "        t =    -199.22 ...    1000.00 ms (0.16 × hep/normal/correct/aware/R/exh/RRCA + 0.13 × hep/normal/correct/aware/R/inh/RRCA + 0.45 × hep/normal/correct/aware/R2/exh/RRCA + 0.27 × hep/normal/correct/aware/R2/inh/RRCA\n",
      " G_n= g10)\n",
      "        0 CTF compensation matrices available\n",
      "        nave = 400 - aspect type = 100\n",
      "Projections have already been applied. Setting proj attribute to True.\n",
      "No baseline correction applied\n",
      "    Read a total of 1 projection items:\n",
      "        Average EEG reference (1 x 128) active\n",
      "    Found the data of interest:\n",
      "        t =    -199.22 ...    1000.00 ms (0.17 × hep/normal/correct/aware/R/exh/RRCA + 0.14 × hep/normal/correct/aware/R/inh/RRCA + 0.39 × hep/normal/correct/aware/R2/exh/RRCA + 0.30 × hep/normal/correct/aware/R2/inh/RRCA\n",
      " G_n= g11)\n",
      "        0 CTF compensation matrices available\n",
      "        nave = 337 - aspect type = 100\n",
      "Projections have already been applied. Setting proj attribute to True.\n",
      "No baseline correction applied\n",
      "    Read a total of 1 projection items:\n",
      "        Average EEG reference (1 x 128) active\n",
      "    Found the data of interest:\n",
      "        t =    -199.22 ...    1000.00 ms (0.16 × hep/normal/correct/aware/R/exh/RRCA + 0.22 × hep/normal/correct/aware/R/inh/RRCA + 0.31 × hep/normal/correct/aware/R2/exh/RRCA + 0.31 × hep/normal/correct/aware/R2/inh/RRCA\n",
      " G_n= g12)\n",
      "        0 CTF compensation matrices available\n",
      "        nave = 154 - aspect type = 100\n",
      "Projections have already been applied. Setting proj attribute to True.\n",
      "No baseline correction applied\n",
      "    Read a total of 1 projection items:\n",
      "        Average EEG reference (1 x 128) active\n",
      "    Found the data of interest:\n",
      "        t =    -199.22 ...    1000.00 ms (0.20 × hep/normal/correct/aware/R/exh/RRCA + 0.12 × hep/normal/correct/aware/R/inh/RRCA + 0.41 × hep/normal/correct/aware/R2/exh/RRCA + 0.26 × hep/normal/correct/aware/R2/inh/RRCA\n",
      " G_n= g15)\n",
      "        0 CTF compensation matrices available\n",
      "        nave = 273 - aspect type = 100\n",
      "Projections have already been applied. Setting proj attribute to True.\n",
      "No baseline correction applied\n",
      "    Read a total of 1 projection items:\n",
      "        Average EEG reference (1 x 128) active\n",
      "    Found the data of interest:\n",
      "        t =    -199.22 ...    1000.00 ms (0.14 × hep/normal/correct/aware/R/exh/RRCA + 0.14 × hep/normal/correct/aware/R/inh/RRCA + 0.36 × hep/normal/correct/aware/R2/exh/RRCA + 0.36 × hep/normal/correct/aware/R2/inh/RRCA\n",
      " G_n= g16)\n",
      "        0 CTF compensation matrices available\n",
      "        nave = 295 - aspect type = 100\n",
      "Projections have already been applied. Setting proj attribute to True.\n",
      "No baseline correction applied\n",
      "    Read a total of 1 projection items:\n",
      "        Average EEG reference (1 x 128) active\n",
      "    Found the data of interest:\n",
      "        t =    -199.22 ...    1000.00 ms (0.14 × hep/normal/correct/aware/R/exh/RRCA + 0.17 × hep/normal/correct/aware/R/inh/RRCA + 0.34 × hep/normal/correct/aware/R2/exh/RRCA + 0.35 × hep/normal/correct/aware/R2/inh/RRCA\n",
      " G_n= g17)\n",
      "        0 CTF compensation matrices available\n",
      "        nave = 318 - aspect type = 100\n",
      "Projections have already been applied. Setting proj attribute to True.\n",
      "No baseline correction applied\n",
      "    Read a total of 1 projection items:\n",
      "        Average EEG reference (1 x 128) active\n",
      "    Found the data of interest:\n",
      "        t =    -199.22 ...    1000.00 ms (0.16 × hep/normal/correct/aware/R/exh/RRCA + 0.16 × hep/normal/correct/aware/R/inh/RRCA + 0.40 × hep/normal/correct/aware/R2/exh/RRCA + 0.28 × hep/normal/correct/aware/R2/inh/RRCA\n",
      " G_n= g19)\n",
      "        0 CTF compensation matrices available\n",
      "        nave = 413 - aspect type = 100\n",
      "Projections have already been applied. Setting proj attribute to True.\n",
      "No baseline correction applied\n",
      "    Read a total of 1 projection items:\n",
      "        Average EEG reference (1 x 128) active\n",
      "    Found the data of interest:\n",
      "        t =    -199.22 ...    1000.00 ms (0.12 × hep/normal/correct/aware/R/exh/RRCA + 0.14 × hep/normal/correct/aware/R/inh/RRCA + 0.38 × hep/normal/correct/aware/R2/exh/RRCA + 0.36 × hep/normal/correct/aware/R2/inh/RRCA\n",
      " G_n= g23)\n",
      "        0 CTF compensation matrices available\n",
      "        nave = 425 - aspect type = 100\n",
      "Projections have already been applied. Setting proj attribute to True.\n",
      "No baseline correction applied\n",
      "    Read a total of 1 projection items:\n",
      "        Average EEG reference (1 x 128) active\n",
      "    Found the data of interest:\n",
      "        t =    -199.22 ...    1000.00 ms (0.15 × hep/normal/correct/aware/R/exh/RRCA + 0.13 × hep/normal/correct/aware/R/inh/RRCA + 0.38 × hep/normal/correct/aware/R2/exh/RRCA + 0.35 × hep/normal/correct/aware/R2/inh/RRCA\n",
      " G_n= g24)\n",
      "        0 CTF compensation matrices available\n",
      "        nave = 167 - aspect type = 100\n",
      "Projections have already been applied. Setting proj attribute to True.\n",
      "No baseline correction applied\n",
      "    Read a total of 1 projection items:\n",
      "        Average EEG reference (1 x 128) active\n",
      "    Found the data of interest:\n",
      "        t =    -199.22 ...    1000.00 ms (0.21 × hep/normal/correct/aware/R/exh/RRCA + 0.14 × hep/normal/correct/aware/R/inh/RRCA + 0.38 × hep/normal/correct/aware/R2/exh/RRCA + 0.28 × hep/normal/correct/aware/R2/inh/RRCA\n",
      " G_n= g25)\n",
      "        0 CTF compensation matrices available\n",
      "        nave = 494 - aspect type = 100\n",
      "Projections have already been applied. Setting proj attribute to True.\n",
      "No baseline correction applied\n",
      "    Read a total of 1 projection items:\n",
      "        Average EEG reference (1 x 128) active\n",
      "    Found the data of interest:\n",
      "        t =    -199.22 ...    1000.00 ms (0.17 × hep/normal/correct/aware/R/exh/RRCA + 0.07 × hep/normal/correct/aware/R/inh/RRCA + 0.50 × hep/normal/correct/aware/R2/exh/RRCA + 0.27 × hep/normal/correct/aware/R2/inh/RRCA\n",
      " G_n= g28)\n",
      "        0 CTF compensation matrices available\n",
      "        nave = 184 - aspect type = 100\n",
      "Projections have already been applied. Setting proj attribute to True.\n",
      "No baseline correction applied\n",
      "    Read a total of 1 projection items:\n",
      "        Average EEG reference (1 x 128) active\n",
      "    Found the data of interest:\n",
      "        t =    -199.22 ...    1000.00 ms (0.19 × hep/normal/correct/aware/R/exh/RRCA + 0.10 × hep/normal/correct/aware/R/inh/RRCA + 0.48 × hep/normal/correct/aware/R2/exh/RRCA + 0.23 × hep/normal/correct/aware/R2/inh/RRCA\n",
      " G_n= g32)\n",
      "        0 CTF compensation matrices available\n",
      "        nave = 358 - aspect type = 100\n",
      "Projections have already been applied. Setting proj attribute to True.\n",
      "No baseline correction applied\n",
      "    Read a total of 1 projection items:\n",
      "        Average EEG reference (1 x 128) active\n",
      "    Found the data of interest:\n",
      "        t =    -199.22 ...    1000.00 ms (0.22 × hep/normal/correct/aware/R/exh/RRCA + 0.13 × hep/normal/correct/aware/R/inh/RRCA + 0.39 × hep/normal/correct/aware/R2/exh/RRCA + 0.26 × hep/normal/correct/aware/R2/inh/RRCA\n",
      " G_n= g33)\n",
      "        0 CTF compensation matrices available\n",
      "        nave = 346 - aspect type = 100\n",
      "Projections have already been applied. Setting proj attribute to True.\n",
      "No baseline correction applied\n",
      "    Read a total of 1 projection items:\n",
      "        Average EEG reference (1 x 128) active\n",
      "    Found the data of interest:\n",
      "        t =    -199.22 ...    1000.00 ms (0.20 × hep/normal/correct/aware/R/exh/RRCA + 0.14 × hep/normal/correct/aware/R/inh/RRCA + 0.44 × hep/normal/correct/aware/R2/exh/RRCA + 0.22 × hep/normal/correct/aware/R2/inh/RRCA\n",
      " G_n= g34)\n",
      "        0 CTF compensation matrices available\n",
      "        nave = 394 - aspect type = 100\n",
      "Projections have already been applied. Setting proj attribute to True.\n",
      "No baseline correction applied\n",
      "    Read a total of 1 projection items:\n",
      "        Average EEG reference (1 x 128) active\n",
      "    Found the data of interest:\n",
      "        t =    -199.22 ...    1000.00 ms (0.09 × hep/normal/correct/aware/R/exh/RRCA + 0.22 × hep/normal/correct/aware/R/inh/RRCA + 0.20 × hep/normal/correct/aware/R2/exh/RRCA + 0.48 × hep/normal/correct/aware/R2/inh/RRCA\n",
      " G_n= g37)\n",
      "        0 CTF compensation matrices available\n",
      "        nave = 232 - aspect type = 100\n",
      "Projections have already been applied. Setting proj attribute to True.\n",
      "No baseline correction applied\n",
      "    Read a total of 1 projection items:\n",
      "        Average EEG reference (1 x 128) active\n",
      "    Found the data of interest:\n",
      "        t =    -199.22 ...    1000.00 ms (0.18 × hep/normal/correct/aware/R/exh/RRCA + 0.14 × hep/normal/correct/aware/R/inh/RRCA + 0.42 × hep/normal/correct/aware/R2/exh/RRCA + 0.26 × hep/normal/correct/aware/R2/inh/RRCA\n",
      " G_n= g38)\n",
      "        0 CTF compensation matrices available\n",
      "        nave = 308 - aspect type = 100\n",
      "Projections have already been applied. Setting proj attribute to True.\n",
      "No baseline correction applied\n",
      "    Read a total of 1 projection items:\n",
      "        Average EEG reference (1 x 128) active\n",
      "    Found the data of interest:\n",
      "        t =    -199.22 ...    1000.00 ms (0.15 × hep/normal/correct/aware/R/exh/RRCA + 0.18 × hep/normal/correct/aware/R/inh/RRCA + 0.40 × hep/normal/correct/aware/R2/exh/RRCA + 0.27 × hep/normal/correct/aware/R2/inh/RRCA\n",
      " G_n= g39)\n",
      "        0 CTF compensation matrices available\n",
      "        nave = 226 - aspect type = 100\n",
      "Projections have already been applied. Setting proj attribute to True.\n",
      "No baseline correction applied\n",
      "    Read a total of 1 projection items:\n",
      "        Average EEG reference (1 x 128) active\n",
      "    Found the data of interest:\n",
      "        t =    -199.22 ...    1000.00 ms (0.13 × hep/normal/correct/aware/R/exh/RRCA + 0.08 × hep/normal/correct/aware/R/inh/RRCA + 0.50 × hep/normal/correct/aware/R2/exh/RRCA + 0.30 × hep/normal/correct/aware/R2/inh/RRCA\n",
      " G_n= g40)\n",
      "        0 CTF compensation matrices available\n",
      "        nave = 240 - aspect type = 100\n",
      "Projections have already been applied. Setting proj attribute to True.\n",
      "No baseline correction applied\n",
      "    Read a total of 1 projection items:\n",
      "        Average EEG reference (1 x 128) active\n",
      "    Found the data of interest:\n",
      "        t =    -199.22 ...    1000.00 ms (0.14 × hep/normal/correct/aware/R/exh/RRCA + 0.16 × hep/normal/correct/aware/R/inh/RRCA + 0.44 × hep/normal/correct/aware/R2/exh/RRCA + 0.26 × hep/normal/correct/aware/R2/inh/RRCA\n",
      " G_n= g41)\n",
      "        0 CTF compensation matrices available\n",
      "        nave = 281 - aspect type = 100\n",
      "Projections have already been applied. Setting proj attribute to True.\n",
      "No baseline correction applied\n",
      "    Read a total of 1 projection items:\n",
      "        Average EEG reference (1 x 128) active\n",
      "    Found the data of interest:\n",
      "        t =    -199.22 ...    1000.00 ms (0.15 × hep/normal/correct/aware/R/exh/RRCA + 0.13 × hep/normal/correct/aware/R/inh/RRCA + 0.36 × hep/normal/correct/aware/R2/exh/RRCA + 0.35 × hep/normal/correct/aware/R2/inh/RRCA\n",
      " G_n= g42)\n",
      "        0 CTF compensation matrices available\n",
      "        nave = 354 - aspect type = 100\n",
      "Projections have already been applied. Setting proj attribute to True.\n",
      "No baseline correction applied\n",
      "    Read a total of 1 projection items:\n",
      "        Average EEG reference (1 x 128) active\n",
      "    Found the data of interest:\n",
      "        t =    -199.22 ...    1000.00 ms (0.18 × hep/normal/correct/aware/R/exh/RRCA + 0.12 × hep/normal/correct/aware/R/inh/RRCA + 0.45 × hep/normal/correct/aware/R2/exh/RRCA + 0.25 × hep/normal/correct/aware/R2/inh/RRCA\n",
      " G_n= g44)\n",
      "        0 CTF compensation matrices available\n",
      "        nave = 301 - aspect type = 100\n",
      "Projections have already been applied. Setting proj attribute to True.\n",
      "No baseline correction applied\n",
      "    Read a total of 1 projection items:\n",
      "        Average EEG reference (1 x 128) active\n",
      "    Found the data of interest:\n",
      "        t =    -199.22 ...    1000.00 ms (0.18 × hep/normal/correct/aware/R/exh/RRCA + 0.08 × hep/normal/correct/aware/R/inh/RRCA + 0.50 × hep/normal/correct/aware/R2/exh/RRCA + 0.24 × hep/normal/correct/aware/R2/inh/RRCA\n",
      " G_n= g45)\n",
      "        0 CTF compensation matrices available\n",
      "        nave = 407 - aspect type = 100\n",
      "Projections have already been applied. Setting proj attribute to True.\n",
      "No baseline correction applied\n",
      "    Read a total of 1 projection items:\n",
      "        Average EEG reference (1 x 128) active\n",
      "    Found the data of interest:\n",
      "        t =    -199.22 ...    1000.00 ms (0.07 × hep/normal/correct/aware/R/exh/RRCA + 0.15 × hep/normal/correct/aware/R/inh/RRCA + 0.41 × hep/normal/correct/aware/R2/exh/RRCA + 0.37 × hep/normal/correct/aware/R2/inh/RRCA\n",
      " G_n= g46)\n",
      "        0 CTF compensation matrices available\n",
      "        nave = 361 - aspect type = 100\n",
      "Projections have already been applied. Setting proj attribute to True.\n",
      "No baseline correction applied\n",
      "    Read a total of 1 projection items:\n",
      "        Average EEG reference (1 x 128) active\n",
      "    Found the data of interest:\n",
      "        t =    -199.22 ...    1000.00 ms (0.14 × hep/normal/correct/aware/R/exh/RRCA + 0.15 × hep/normal/correct/aware/R/inh/RRCA + 0.41 × hep/normal/correct/aware/R2/exh/RRCA + 0.30 × hep/normal/correct/aware/R2/inh/RRCA\n",
      " G_n= g47)\n",
      "        0 CTF compensation matrices available\n",
      "        nave = 435 - aspect type = 100\n",
      "Projections have already been applied. Setting proj attribute to True.\n",
      "No baseline correction applied\n",
      "    Read a total of 1 projection items:\n",
      "        Average EEG reference (1 x 128) active\n",
      "    Found the data of interest:\n",
      "        t =    -199.22 ...    1000.00 ms (0.18 × hep/normal/correct/aware/R/exh/RRCA + 0.14 × hep/normal/correct/aware/R/inh/RRCA + 0.44 × hep/normal/correct/aware/R2/exh/RRCA + 0.24 × hep/normal/correct/aware/R2/inh/RRCA\n",
      " G_n= g49)\n",
      "        0 CTF compensation matrices available\n",
      "        nave = 288 - aspect type = 100\n",
      "Projections have already been applied. Setting proj attribute to True.\n",
      "No baseline correction applied\n",
      "    Read a total of 1 projection items:\n",
      "        Average EEG reference (1 x 128) active\n",
      "    Found the data of interest:\n",
      "        t =    -199.22 ...    1000.00 ms (0.22 × hep/normal/correct/aware/R/exh/RRCA + 0.10 × hep/normal/correct/aware/R/inh/RRCA + 0.49 × hep/normal/correct/aware/R2/exh/RRCA + 0.19 × hep/normal/correct/aware/R2/inh/RRCA\n",
      " G_n= g51)\n",
      "        0 CTF compensation matrices available\n",
      "        nave = 343 - aspect type = 100\n",
      "Projections have already been applied. Setting proj attribute to True.\n",
      "No baseline correction applied\n",
      "    Read a total of 1 projection items:\n",
      "        Average EEG reference (1 x 128) active\n",
      "    Found the data of interest:\n",
      "        t =    -199.22 ...    1000.00 ms (0.17 × hep/normal/correct/aware/R/exh/RRCA + 0.13 × hep/normal/correct/aware/R/inh/RRCA + 0.39 × hep/normal/correct/aware/R2/exh/RRCA + 0.31 × hep/normal/correct/aware/R2/inh/RRCA\n",
      " G_n= g52)\n",
      "        0 CTF compensation matrices available\n",
      "        nave = 254 - aspect type = 100\n",
      "Projections have already been applied. Setting proj attribute to True.\n",
      "No baseline correction applied\n",
      "Reading ana/MNE/evo_list/maskOFF/correct/cfa/hep/norm/maskOFF_correct_cfa_hep_norm_RRCU_list-ave.fif ...\n",
      "    Read a total of 1 projection items:\n",
      "        Average EEG reference (1 x 128) active\n",
      "    Found the data of interest:\n",
      "        t =    -199.22 ...    1000.00 ms (0.13 × hep/normal/correct/unaware/R/exh/RRCU + 0.12 × hep/normal/correct/unaware/R/inh/RRCU + 0.46 × hep/normal/correct/unaware/R2/exh/RRCU + 0.30 × hep/normal/correct/unaware/R2/inh/RRCU\n",
      " G_n= g01)\n",
      "        0 CTF compensation matrices available\n",
      "        nave = 298 - aspect type = 100\n",
      "Projections have already been applied. Setting proj attribute to True.\n",
      "No baseline correction applied\n",
      "    Read a total of 1 projection items:\n",
      "        Average EEG reference (1 x 128) active\n",
      "    Found the data of interest:\n",
      "        t =    -199.22 ...    1000.00 ms (0.18 × hep/normal/correct/unaware/R/exh/RRCU + 0.11 × hep/normal/correct/unaware/R/inh/RRCU + 0.45 × hep/normal/correct/unaware/R2/exh/RRCU + 0.25 × hep/normal/correct/unaware/R2/inh/RRCU\n",
      " G_n= g03)\n",
      "        0 CTF compensation matrices available\n",
      "        nave = 212 - aspect type = 100\n",
      "Projections have already been applied. Setting proj attribute to True.\n",
      "No baseline correction applied\n",
      "    Read a total of 1 projection items:\n",
      "        Average EEG reference (1 x 128) active\n",
      "    Found the data of interest:\n",
      "        t =    -199.22 ...    1000.00 ms (0.22 × hep/normal/correct/unaware/R/exh/RRCU + 0.12 × hep/normal/correct/unaware/R/inh/RRCU + 0.32 × hep/normal/correct/unaware/R2/exh/RRCU + 0.35 × hep/normal/correct/unaware/R2/inh/RRCU\n",
      " G_n= g08)\n",
      "        0 CTF compensation matrices available\n",
      "        nave = 158 - aspect type = 100\n",
      "Projections have already been applied. Setting proj attribute to True.\n",
      "No baseline correction applied\n",
      "    Read a total of 1 projection items:\n",
      "        Average EEG reference (1 x 128) active\n",
      "    Found the data of interest:\n",
      "        t =    -199.22 ...    1000.00 ms (0.11 × hep/normal/correct/unaware/R/exh/RRCU + 0.11 × hep/normal/correct/unaware/R/inh/RRCU + 0.47 × hep/normal/correct/unaware/R2/exh/RRCU + 0.32 × hep/normal/correct/unaware/R2/inh/RRCU\n",
      " G_n= g10)\n",
      "        0 CTF compensation matrices available\n",
      "        nave = 187 - aspect type = 100\n",
      "Projections have already been applied. Setting proj attribute to True.\n",
      "No baseline correction applied\n",
      "    Read a total of 1 projection items:\n",
      "        Average EEG reference (1 x 128) active\n",
      "    Found the data of interest:\n",
      "        t =    -199.22 ...    1000.00 ms (0.17 × hep/normal/correct/unaware/R/exh/RRCU + 0.12 × hep/normal/correct/unaware/R/inh/RRCU + 0.43 × hep/normal/correct/unaware/R2/exh/RRCU + 0.27 × hep/normal/correct/unaware/R2/inh/RRCU\n",
      " G_n= g11)\n",
      "        0 CTF compensation matrices available\n",
      "        nave = 322 - aspect type = 100\n",
      "Projections have already been applied. Setting proj attribute to True.\n",
      "No baseline correction applied\n",
      "    Read a total of 1 projection items:\n",
      "        Average EEG reference (1 x 128) active\n",
      "    Found the data of interest:\n",
      "        t =    -199.22 ...    1000.00 ms (0.13 × hep/normal/correct/unaware/R/exh/RRCU + 0.16 × hep/normal/correct/unaware/R/inh/RRCU + 0.34 × hep/normal/correct/unaware/R2/exh/RRCU + 0.37 × hep/normal/correct/unaware/R2/inh/RRCU\n",
      " G_n= g12)\n",
      "        0 CTF compensation matrices available\n",
      "        nave = 153 - aspect type = 100\n",
      "Projections have already been applied. Setting proj attribute to True.\n",
      "No baseline correction applied\n",
      "    Read a total of 1 projection items:\n",
      "        Average EEG reference (1 x 128) active\n",
      "    Found the data of interest:\n",
      "        t =    -199.22 ...    1000.00 ms (0.17 × hep/normal/correct/unaware/R/exh/RRCU + 0.12 × hep/normal/correct/unaware/R/inh/RRCU + 0.42 × hep/normal/correct/unaware/R2/exh/RRCU + 0.29 × hep/normal/correct/unaware/R2/inh/RRCU + 0.00 × hep/normal/correct/unaware/RR/exh/RRCU\n",
      " G_n= g15)\n",
      "        0 CTF compensation matrices available\n",
      "        nave = 330 - aspect type = 100\n",
      "Projections have already been applied. Setting proj attribute to True.\n",
      "No baseline correction applied\n",
      "    Read a total of 1 projection items:\n",
      "        Average EEG reference (1 x 128) active\n",
      "    Found the data of interest:\n",
      "        t =    -199.22 ...    1000.00 ms (0.17 × hep/normal/correct/unaware/R/exh/RRCU + 0.15 × hep/normal/correct/unaware/R/inh/RRCU + 0.37 × hep/normal/correct/unaware/R2/exh/RRCU + 0.30 × hep/normal/correct/unaware/R2/inh/RRCU\n",
      " G_n= g16)\n",
      "        0 CTF compensation matrices available\n",
      "        nave = 297 - aspect type = 100\n",
      "Projections have already been applied. Setting proj attribute to True.\n",
      "No baseline correction applied\n",
      "    Read a total of 1 projection items:\n",
      "        Average EEG reference (1 x 128) active\n",
      "    Found the data of interest:\n",
      "        t =    -199.22 ...    1000.00 ms (0.11 × hep/normal/correct/unaware/R/exh/RRCU + 0.15 × hep/normal/correct/unaware/R/inh/RRCU + 0.34 × hep/normal/correct/unaware/R2/exh/RRCU + 0.39 × hep/normal/correct/unaware/R2/inh/RRCU\n",
      " G_n= g17)\n",
      "        0 CTF compensation matrices available\n",
      "        nave = 445 - aspect type = 100\n",
      "Projections have already been applied. Setting proj attribute to True.\n",
      "No baseline correction applied\n",
      "    Read a total of 1 projection items:\n",
      "        Average EEG reference (1 x 128) active\n",
      "    Found the data of interest:\n",
      "        t =    -199.22 ...    1000.00 ms (0.19 × hep/normal/correct/unaware/R/exh/RRCU + 0.14 × hep/normal/correct/unaware/R/inh/RRCU + 0.41 × hep/normal/correct/unaware/R2/exh/RRCU + 0.27 × hep/normal/correct/unaware/R2/inh/RRCU\n",
      " G_n= g19)\n",
      "        0 CTF compensation matrices available\n",
      "        nave = 236 - aspect type = 100\n",
      "Projections have already been applied. Setting proj attribute to True.\n",
      "No baseline correction applied\n",
      "    Read a total of 1 projection items:\n",
      "        Average EEG reference (1 x 128) active\n",
      "    Found the data of interest:\n",
      "        t =    -199.22 ...    1000.00 ms (0.11 × hep/normal/correct/unaware/R/exh/RRCU + 0.16 × hep/normal/correct/unaware/R/inh/RRCU + 0.36 × hep/normal/correct/unaware/R2/exh/RRCU + 0.37 × hep/normal/correct/unaware/R2/inh/RRCU\n",
      " G_n= g23)\n",
      "        0 CTF compensation matrices available\n",
      "        nave = 223 - aspect type = 100\n",
      "Projections have already been applied. Setting proj attribute to True.\n",
      "No baseline correction applied\n",
      "    Read a total of 1 projection items:\n",
      "        Average EEG reference (1 x 128) active\n",
      "    Found the data of interest:\n",
      "        t =    -199.22 ...    1000.00 ms (0.17 × hep/normal/correct/unaware/R/exh/RRCU + 0.09 × hep/normal/correct/unaware/R/inh/RRCU + 0.42 × hep/normal/correct/unaware/R2/exh/RRCU + 0.32 × hep/normal/correct/unaware/R2/inh/RRCU\n",
      " G_n= g24)\n",
      "        0 CTF compensation matrices available\n",
      "        nave = 338 - aspect type = 100\n",
      "Projections have already been applied. Setting proj attribute to True.\n",
      "No baseline correction applied\n",
      "    Read a total of 1 projection items:\n",
      "        Average EEG reference (1 x 128) active\n",
      "    Found the data of interest:\n",
      "        t =    -199.22 ...    1000.00 ms (0.16 × hep/normal/correct/unaware/R/exh/RRCU + 0.16 × hep/normal/correct/unaware/R/inh/RRCU + 0.39 × hep/normal/correct/unaware/R2/exh/RRCU + 0.30 × hep/normal/correct/unaware/R2/inh/RRCU\n",
      " G_n= g25)\n",
      "        0 CTF compensation matrices available\n",
      "        nave = 245 - aspect type = 100\n",
      "Projections have already been applied. Setting proj attribute to True.\n",
      "No baseline correction applied\n",
      "    Read a total of 1 projection items:\n",
      "        Average EEG reference (1 x 128) active\n",
      "    Found the data of interest:\n",
      "        t =    -199.22 ...    1000.00 ms (0.19 × hep/normal/correct/unaware/R/exh/RRCU + 0.10 × hep/normal/correct/unaware/R/inh/RRCU + 0.43 × hep/normal/correct/unaware/R2/exh/RRCU + 0.27 × hep/normal/correct/unaware/R2/inh/RRCU\n",
      " G_n= g28)\n",
      "        0 CTF compensation matrices available\n",
      "        nave = 381 - aspect type = 100\n",
      "Projections have already been applied. Setting proj attribute to True.\n",
      "No baseline correction applied\n",
      "    Read a total of 1 projection items:\n",
      "        Average EEG reference (1 x 128) active\n",
      "    Found the data of interest:\n",
      "        t =    -199.22 ...    1000.00 ms (0.15 × hep/normal/correct/unaware/R/exh/RRCU + 0.13 × hep/normal/correct/unaware/R/inh/RRCU + 0.50 × hep/normal/correct/unaware/R2/exh/RRCU + 0.22 × hep/normal/correct/unaware/R2/inh/RRCU\n",
      " G_n= g32)\n",
      "        0 CTF compensation matrices available\n",
      "        nave = 298 - aspect type = 100\n",
      "Projections have already been applied. Setting proj attribute to True.\n",
      "No baseline correction applied\n",
      "    Read a total of 1 projection items:\n",
      "        Average EEG reference (1 x 128) active\n",
      "    Found the data of interest:\n",
      "        t =    -199.22 ...    1000.00 ms (0.22 × hep/normal/correct/unaware/R/exh/RRCU + 0.12 × hep/normal/correct/unaware/R/inh/RRCU + 0.47 × hep/normal/correct/unaware/R2/exh/RRCU + 0.20 × hep/normal/correct/unaware/R2/inh/RRCU\n",
      " G_n= g33)\n",
      "        0 CTF compensation matrices available\n",
      "        nave = 376 - aspect type = 100\n",
      "Projections have already been applied. Setting proj attribute to True.\n",
      "No baseline correction applied\n",
      "    Read a total of 1 projection items:\n",
      "        Average EEG reference (1 x 128) active\n",
      "    Found the data of interest:\n",
      "        t =    -199.22 ...    1000.00 ms (0.17 × hep/normal/correct/unaware/R/exh/RRCU + 0.16 × hep/normal/correct/unaware/R/inh/RRCU + 0.36 × hep/normal/correct/unaware/R2/exh/RRCU + 0.31 × hep/normal/correct/unaware/R2/inh/RRCU\n",
      " G_n= g34)\n",
      "        0 CTF compensation matrices available\n",
      "        nave = 218 - aspect type = 100\n",
      "Projections have already been applied. Setting proj attribute to True.\n",
      "No baseline correction applied\n",
      "    Read a total of 1 projection items:\n",
      "        Average EEG reference (1 x 128) active\n",
      "    Found the data of interest:\n",
      "        t =    -199.22 ...    1000.00 ms (0.11 × hep/normal/correct/unaware/R/exh/RRCU + 0.24 × hep/normal/correct/unaware/R/inh/RRCU + 0.21 × hep/normal/correct/unaware/R2/exh/RRCU + 0.43 × hep/normal/correct/unaware/R2/inh/RRCU\n",
      " G_n= g37)\n",
      "        0 CTF compensation matrices available\n",
      "        nave = 316 - aspect type = 100\n",
      "Projections have already been applied. Setting proj attribute to True.\n",
      "No baseline correction applied\n",
      "    Read a total of 1 projection items:\n",
      "        Average EEG reference (1 x 128) active\n",
      "    Found the data of interest:\n",
      "        t =    -199.22 ...    1000.00 ms (0.19 × hep/normal/correct/unaware/R/exh/RRCU + 0.12 × hep/normal/correct/unaware/R/inh/RRCU + 0.43 × hep/normal/correct/unaware/R2/exh/RRCU + 0.25 × hep/normal/correct/unaware/R2/inh/RRCU\n",
      " G_n= g38)\n",
      "        0 CTF compensation matrices available\n",
      "        nave = 385 - aspect type = 100\n",
      "Projections have already been applied. Setting proj attribute to True.\n",
      "No baseline correction applied\n",
      "    Read a total of 1 projection items:\n",
      "        Average EEG reference (1 x 128) active\n",
      "    Found the data of interest:\n",
      "        t =    -199.22 ...    1000.00 ms (0.25 × hep/normal/correct/unaware/R/exh/RRCU + 0.10 × hep/normal/correct/unaware/R/inh/RRCU + 0.41 × hep/normal/correct/unaware/R2/exh/RRCU + 0.23 × hep/normal/correct/unaware/R2/inh/RRCU\n",
      " G_n= g39)\n",
      "        0 CTF compensation matrices available\n",
      "        nave = 448 - aspect type = 100\n",
      "Projections have already been applied. Setting proj attribute to True.\n",
      "No baseline correction applied\n",
      "    Read a total of 1 projection items:\n",
      "        Average EEG reference (1 x 128) active\n",
      "    Found the data of interest:\n",
      "        t =    -199.22 ...    1000.00 ms (0.12 × hep/normal/correct/unaware/R/exh/RRCU + 0.10 × hep/normal/correct/unaware/R/inh/RRCU + 0.53 × hep/normal/correct/unaware/R2/exh/RRCU + 0.25 × hep/normal/correct/unaware/R2/inh/RRCU\n",
      " G_n= g40)\n",
      "        0 CTF compensation matrices available\n",
      "        nave = 363 - aspect type = 100\n",
      "Projections have already been applied. Setting proj attribute to True.\n",
      "No baseline correction applied\n",
      "    Read a total of 1 projection items:\n",
      "        Average EEG reference (1 x 128) active\n",
      "    Found the data of interest:\n",
      "        t =    -199.22 ...    1000.00 ms (0.12 × hep/normal/correct/unaware/R/exh/RRCU + 0.11 × hep/normal/correct/unaware/R/inh/RRCU + 0.47 × hep/normal/correct/unaware/R2/exh/RRCU + 0.30 × hep/normal/correct/unaware/R2/inh/RRCU\n",
      " G_n= g41)\n",
      "        0 CTF compensation matrices available\n",
      "        nave = 469 - aspect type = 100\n",
      "Projections have already been applied. Setting proj attribute to True.\n",
      "No baseline correction applied\n",
      "    Read a total of 1 projection items:\n",
      "        Average EEG reference (1 x 128) active\n",
      "    Found the data of interest:\n",
      "        t =    -199.22 ...    1000.00 ms (0.15 × hep/normal/correct/unaware/R/exh/RRCU + 0.15 × hep/normal/correct/unaware/R/inh/RRCU + 0.40 × hep/normal/correct/unaware/R2/exh/RRCU + 0.30 × hep/normal/correct/unaware/R2/inh/RRCU\n",
      " G_n= g42)\n",
      "        0 CTF compensation matrices available\n",
      "        nave = 402 - aspect type = 100\n",
      "Projections have already been applied. Setting proj attribute to True.\n",
      "No baseline correction applied\n",
      "    Read a total of 1 projection items:\n",
      "        Average EEG reference (1 x 128) active\n",
      "    Found the data of interest:\n",
      "        t =    -199.22 ...    1000.00 ms (0.15 × hep/normal/correct/unaware/R/exh/RRCU + 0.14 × hep/normal/correct/unaware/R/inh/RRCU + 0.43 × hep/normal/correct/unaware/R2/exh/RRCU + 0.29 × hep/normal/correct/unaware/R2/inh/RRCU\n",
      " G_n= g44)\n",
      "        0 CTF compensation matrices available\n",
      "        nave = 487 - aspect type = 100\n",
      "Projections have already been applied. Setting proj attribute to True.\n",
      "No baseline correction applied\n",
      "    Read a total of 1 projection items:\n",
      "        Average EEG reference (1 x 128) active\n",
      "    Found the data of interest:\n",
      "        t =    -199.22 ...    1000.00 ms (0.19 × hep/normal/correct/unaware/R/exh/RRCU + 0.11 × hep/normal/correct/unaware/R/inh/RRCU + 0.44 × hep/normal/correct/unaware/R2/exh/RRCU + 0.27 × hep/normal/correct/unaware/R2/inh/RRCU\n",
      " G_n= g45)\n",
      "        0 CTF compensation matrices available\n",
      "        nave = 275 - aspect type = 100\n",
      "Projections have already been applied. Setting proj attribute to True.\n",
      "No baseline correction applied\n",
      "    Read a total of 1 projection items:\n",
      "        Average EEG reference (1 x 128) active\n",
      "    Found the data of interest:\n",
      "        t =    -199.22 ...    1000.00 ms (0.09 × hep/normal/correct/unaware/R/exh/RRCU + 0.20 × hep/normal/correct/unaware/R/inh/RRCU + 0.34 × hep/normal/correct/unaware/R2/exh/RRCU + 0.37 × hep/normal/correct/unaware/R2/inh/RRCU\n",
      " G_n= g46)\n",
      "        0 CTF compensation matrices available\n",
      "        nave = 215 - aspect type = 100\n",
      "Projections have already been applied. Setting proj attribute to True.\n",
      "No baseline correction applied\n",
      "    Read a total of 1 projection items:\n",
      "        Average EEG reference (1 x 128) active\n",
      "    Found the data of interest:\n",
      "        t =    -199.22 ...    1000.00 ms (0.13 × hep/normal/correct/unaware/R/exh/RRCU + 0.14 × hep/normal/correct/unaware/R/inh/RRCU + 0.42 × hep/normal/correct/unaware/R2/exh/RRCU + 0.31 × hep/normal/correct/unaware/R2/inh/RRCU\n",
      " G_n= g47)\n",
      "        0 CTF compensation matrices available\n",
      "        nave = 333 - aspect type = 100\n",
      "Projections have already been applied. Setting proj attribute to True.\n",
      "No baseline correction applied\n",
      "    Read a total of 1 projection items:\n",
      "        Average EEG reference (1 x 128) active\n",
      "    Found the data of interest:\n",
      "        t =    -199.22 ...    1000.00 ms (0.15 × hep/normal/correct/unaware/R/exh/RRCU + 0.13 × hep/normal/correct/unaware/R/inh/RRCU + 0.43 × hep/normal/correct/unaware/R2/exh/RRCU + 0.29 × hep/normal/correct/unaware/R2/inh/RRCU\n",
      " G_n= g49)\n",
      "        0 CTF compensation matrices available\n",
      "        nave = 318 - aspect type = 100\n",
      "Projections have already been applied. Setting proj attribute to True.\n",
      "No baseline correction applied\n",
      "    Read a total of 1 projection items:\n",
      "        Average EEG reference (1 x 128) active\n",
      "    Found the data of interest:\n",
      "        t =    -199.22 ...    1000.00 ms (0.16 × hep/normal/correct/unaware/R/exh/RRCU + 0.12 × hep/normal/correct/unaware/R/inh/RRCU + 0.47 × hep/normal/correct/unaware/R2/exh/RRCU + 0.25 × hep/normal/correct/unaware/R2/inh/RRCU\n",
      " G_n= g51)\n",
      "        0 CTF compensation matrices available\n",
      "        nave = 393 - aspect type = 100\n",
      "Projections have already been applied. Setting proj attribute to True.\n",
      "No baseline correction applied\n",
      "    Read a total of 1 projection items:\n",
      "        Average EEG reference (1 x 128) active\n",
      "    Found the data of interest:\n",
      "        t =    -199.22 ...    1000.00 ms (0.19 × hep/normal/correct/unaware/R/exh/RRCU + 0.14 × hep/normal/correct/unaware/R/inh/RRCU + 0.36 × hep/normal/correct/unaware/R2/exh/RRCU + 0.31 × hep/normal/correct/unaware/R2/inh/RRCU\n",
      " G_n= g52)\n",
      "        0 CTF compensation matrices available\n",
      "        nave = 399 - aspect type = 100\n",
      "Projections have already been applied. Setting proj attribute to True.\n",
      "No baseline correction applied\n"
     ]
    }
   ],
   "source": [
    "\n",
    "#define variables\n",
    "modtype='rawerps'\n",
    "erp_type=\"hep\"\n",
    "\n",
    "dc_type=\"nodc\"\n",
    "\n",
    "\n",
    "filepath='ana/MNE/evo_list/maskOFF/correct/cfa/hep/norm/'\n",
    "filename=f\"maskOFF_correct_cfa_hep_norm_RRCA_list-ave.fif\"\n",
    "fp=filepath+filename\n",
    "evo_awa=mne.read_evokeds(fp)\n",
    "\n",
    "filepath='ana/MNE/evo_list/maskOFF/correct/cfa/hep/norm/'\n",
    "filename=f\"maskOFF_correct_cfa_hep_norm_RRCU_list-ave.fif\"\n",
    "fp=filepath+filename\n",
    "evo_unawa=mne.read_evokeds(fp)\n"
   ],
   "metadata": {
    "collapsed": false,
    "ExecuteTime": {
     "end_time": "2025-07-31T08:55:40.653187200Z",
     "start_time": "2025-07-31T08:55:32.161004700Z"
    }
   }
  },
  {
   "cell_type": "code",
   "execution_count": 8,
   "outputs": [
    {
     "data": {
      "text/plain": "345"
     },
     "execution_count": 8,
     "metadata": {},
     "output_type": "execute_result"
    }
   ],
   "source": [
    "evo_awa[0].nave"
   ],
   "metadata": {
    "collapsed": false,
    "ExecuteTime": {
     "end_time": "2025-07-31T08:59:46.544536300Z",
     "start_time": "2025-07-31T08:59:46.416835900Z"
    }
   }
  },
  {
   "cell_type": "code",
   "execution_count": 11,
   "outputs": [],
   "source": [
    "list_nave_awa=[]\n",
    "for evo in evo_awa:\n",
    "    list_nave_awa.append(evo.nave)\n",
    "\n",
    "\n"
   ],
   "metadata": {
    "collapsed": false,
    "ExecuteTime": {
     "end_time": "2025-07-31T09:02:52.506960300Z",
     "start_time": "2025-07-31T09:02:52.397201Z"
    }
   }
  },
  {
   "cell_type": "code",
   "execution_count": 12,
   "outputs": [
    {
     "data": {
      "text/plain": "321.6"
     },
     "execution_count": 12,
     "metadata": {},
     "output_type": "execute_result"
    }
   ],
   "source": [
    "np.average(list_nave_awa)"
   ],
   "metadata": {
    "collapsed": false,
    "ExecuteTime": {
     "end_time": "2025-07-31T09:02:53.146165Z",
     "start_time": "2025-07-31T09:02:53.021156300Z"
    }
   }
  },
  {
   "cell_type": "code",
   "execution_count": 13,
   "outputs": [],
   "source": [
    "list_nave_unawa=[]\n",
    "for evo in evo_unawa:\n",
    "    list_nave_unawa.append(evo.nave)\n",
    "\n",
    "\n"
   ],
   "metadata": {
    "collapsed": false,
    "ExecuteTime": {
     "end_time": "2025-07-31T09:02:54.745105700Z",
     "start_time": "2025-07-31T09:02:54.631828800Z"
    }
   }
  },
  {
   "cell_type": "code",
   "execution_count": 14,
   "outputs": [
    {
     "data": {
      "text/plain": "317.3333333333333"
     },
     "execution_count": 14,
     "metadata": {},
     "output_type": "execute_result"
    }
   ],
   "source": [
    "np.average(list_nave_unawa)"
   ],
   "metadata": {
    "collapsed": false,
    "ExecuteTime": {
     "end_time": "2025-07-31T09:02:55.341939600Z",
     "start_time": "2025-07-31T09:02:55.234539100Z"
    }
   }
  },
  {
   "cell_type": "code",
   "execution_count": 15,
   "outputs": [],
   "source": [
    "rej_data=[9,17,12,6,7,57,6,16,2,24,4,4,1,9,11,6,19,14,8,11,9,7,13,6,3,14,6,29,6,22]"
   ],
   "metadata": {
    "collapsed": false,
    "ExecuteTime": {
     "end_time": "2025-07-31T09:23:03.375887Z",
     "start_time": "2025-07-31T09:23:03.204000600Z"
    }
   }
  },
  {
   "cell_type": "code",
   "execution_count": 18,
   "outputs": [
    {
     "data": {
      "text/plain": "11.933333333333334"
     },
     "execution_count": 18,
     "metadata": {},
     "output_type": "execute_result"
    }
   ],
   "source": [
    "np.average(rej_data)\n"
   ],
   "metadata": {
    "collapsed": false,
    "ExecuteTime": {
     "end_time": "2025-07-31T09:25:13.217434300Z",
     "start_time": "2025-07-31T09:25:13.107799900Z"
    }
   }
  },
  {
   "cell_type": "markdown",
   "source": [
    "### load bf"
   ],
   "metadata": {
    "collapsed": false
   }
  },
  {
   "cell_type": "code",
   "execution_count": 29,
   "outputs": [],
   "source": [
    "cond=\"awareness\"\n",
    "\n",
    "#load corresponding file\n",
    "\n",
    "\n",
    "file_dir=f'ana/deconvolution/stats/BF_matrix_{modtype}_{erp_type}_{cond}_{dc_type}.ep'\n",
    "f = open(file_dir)"
   ],
   "metadata": {
    "collapsed": false,
    "ExecuteTime": {
     "end_time": "2025-06-03T08:58:25.967366500Z",
     "start_time": "2025-06-03T08:58:25.842359300Z"
    }
   }
  },
  {
   "cell_type": "code",
   "execution_count": 46,
   "outputs": [
    {
     "data": {
      "text/plain": "(128, 206)"
     },
     "execution_count": 46,
     "metadata": {},
     "output_type": "execute_result"
    }
   ],
   "source": [
    "data_BF=np.loadtxt(file_dir)\n",
    "data_BF=data_cutter(data_BF.T,time_limits=[-0.2,0.8],new_time_limits=[-0.1,0.705]).T\n",
    "data_BF.shape"
   ],
   "metadata": {
    "collapsed": false,
    "ExecuteTime": {
     "end_time": "2025-06-03T09:22:37.869880600Z",
     "start_time": "2025-06-03T09:22:37.699288300Z"
    }
   }
  },
  {
   "cell_type": "code",
   "execution_count": 47,
   "outputs": [
    {
     "name": "stderr",
     "output_type": "stream",
     "text": [
      "C:\\Users\\Vivi\\Documents\\GitHub\\unfold_proj\\stats\\stats_helper.py:134: RuntimeWarning: tmax is not in Evoked time interval. tmax is set to evoked.tmax (0.699219 sec)\n",
      "  data_crop = evoked[0].copy().crop(crop_value[0], crop_value[1])\n",
      "C:\\Users\\Vivi\\Documents\\GitHub\\unfold_proj\\stats\\stats_helper.py:151: RuntimeWarning: tmax is not in Evoked time interval. tmax is set to evoked.tmax (0.699219 sec)\n",
      "  X[idx, :, :] = ev.copy().crop(crop_value[0], crop_value[1]).data\n",
      "C:\\Users\\Vivi\\Documents\\GitHub\\unfold_proj\\stats\\stats_helper.py:151: RuntimeWarning: tmax is not in Evoked time interval. tmax is set to evoked.tmax (0.699219 sec)\n",
      "  X[idx, :, :] = ev.copy().crop(crop_value[0], crop_value[1]).data\n",
      "C:\\Users\\Vivi\\Documents\\GitHub\\unfold_proj\\stats\\stats_helper.py:151: RuntimeWarning: tmax is not in Evoked time interval. tmax is set to evoked.tmax (0.699219 sec)\n",
      "  X[idx, :, :] = ev.copy().crop(crop_value[0], crop_value[1]).data\n",
      "C:\\Users\\Vivi\\Documents\\GitHub\\unfold_proj\\stats\\stats_helper.py:151: RuntimeWarning: tmax is not in Evoked time interval. tmax is set to evoked.tmax (0.699219 sec)\n",
      "  X[idx, :, :] = ev.copy().crop(crop_value[0], crop_value[1]).data\n",
      "C:\\Users\\Vivi\\Documents\\GitHub\\unfold_proj\\stats\\stats_helper.py:151: RuntimeWarning: tmax is not in Evoked time interval. tmax is set to evoked.tmax (0.699219 sec)\n",
      "  X[idx, :, :] = ev.copy().crop(crop_value[0], crop_value[1]).data\n",
      "C:\\Users\\Vivi\\Documents\\GitHub\\unfold_proj\\stats\\stats_helper.py:151: RuntimeWarning: tmax is not in Evoked time interval. tmax is set to evoked.tmax (0.699219 sec)\n",
      "  X[idx, :, :] = ev.copy().crop(crop_value[0], crop_value[1]).data\n",
      "C:\\Users\\Vivi\\Documents\\GitHub\\unfold_proj\\stats\\stats_helper.py:151: RuntimeWarning: tmax is not in Evoked time interval. tmax is set to evoked.tmax (0.699219 sec)\n",
      "  X[idx, :, :] = ev.copy().crop(crop_value[0], crop_value[1]).data\n",
      "C:\\Users\\Vivi\\Documents\\GitHub\\unfold_proj\\stats\\stats_helper.py:151: RuntimeWarning: tmax is not in Evoked time interval. tmax is set to evoked.tmax (0.699219 sec)\n",
      "  X[idx, :, :] = ev.copy().crop(crop_value[0], crop_value[1]).data\n",
      "C:\\Users\\Vivi\\Documents\\GitHub\\unfold_proj\\stats\\stats_helper.py:151: RuntimeWarning: tmax is not in Evoked time interval. tmax is set to evoked.tmax (0.699219 sec)\n",
      "  X[idx, :, :] = ev.copy().crop(crop_value[0], crop_value[1]).data\n",
      "C:\\Users\\Vivi\\Documents\\GitHub\\unfold_proj\\stats\\stats_helper.py:151: RuntimeWarning: tmax is not in Evoked time interval. tmax is set to evoked.tmax (0.699219 sec)\n",
      "  X[idx, :, :] = ev.copy().crop(crop_value[0], crop_value[1]).data\n",
      "C:\\Users\\Vivi\\Documents\\GitHub\\unfold_proj\\stats\\stats_helper.py:151: RuntimeWarning: tmax is not in Evoked time interval. tmax is set to evoked.tmax (0.699219 sec)\n",
      "  X[idx, :, :] = ev.copy().crop(crop_value[0], crop_value[1]).data\n",
      "C:\\Users\\Vivi\\Documents\\GitHub\\unfold_proj\\stats\\stats_helper.py:151: RuntimeWarning: tmax is not in Evoked time interval. tmax is set to evoked.tmax (0.699219 sec)\n",
      "  X[idx, :, :] = ev.copy().crop(crop_value[0], crop_value[1]).data\n",
      "C:\\Users\\Vivi\\Documents\\GitHub\\unfold_proj\\stats\\stats_helper.py:151: RuntimeWarning: tmax is not in Evoked time interval. tmax is set to evoked.tmax (0.699219 sec)\n",
      "  X[idx, :, :] = ev.copy().crop(crop_value[0], crop_value[1]).data\n",
      "C:\\Users\\Vivi\\Documents\\GitHub\\unfold_proj\\stats\\stats_helper.py:151: RuntimeWarning: tmax is not in Evoked time interval. tmax is set to evoked.tmax (0.699219 sec)\n",
      "  X[idx, :, :] = ev.copy().crop(crop_value[0], crop_value[1]).data\n",
      "C:\\Users\\Vivi\\Documents\\GitHub\\unfold_proj\\stats\\stats_helper.py:151: RuntimeWarning: tmax is not in Evoked time interval. tmax is set to evoked.tmax (0.699219 sec)\n",
      "  X[idx, :, :] = ev.copy().crop(crop_value[0], crop_value[1]).data\n",
      "C:\\Users\\Vivi\\Documents\\GitHub\\unfold_proj\\stats\\stats_helper.py:151: RuntimeWarning: tmax is not in Evoked time interval. tmax is set to evoked.tmax (0.699219 sec)\n",
      "  X[idx, :, :] = ev.copy().crop(crop_value[0], crop_value[1]).data\n",
      "C:\\Users\\Vivi\\Documents\\GitHub\\unfold_proj\\stats\\stats_helper.py:151: RuntimeWarning: tmax is not in Evoked time interval. tmax is set to evoked.tmax (0.699219 sec)\n",
      "  X[idx, :, :] = ev.copy().crop(crop_value[0], crop_value[1]).data\n",
      "C:\\Users\\Vivi\\Documents\\GitHub\\unfold_proj\\stats\\stats_helper.py:151: RuntimeWarning: tmax is not in Evoked time interval. tmax is set to evoked.tmax (0.699219 sec)\n",
      "  X[idx, :, :] = ev.copy().crop(crop_value[0], crop_value[1]).data\n",
      "C:\\Users\\Vivi\\Documents\\GitHub\\unfold_proj\\stats\\stats_helper.py:151: RuntimeWarning: tmax is not in Evoked time interval. tmax is set to evoked.tmax (0.699219 sec)\n",
      "  X[idx, :, :] = ev.copy().crop(crop_value[0], crop_value[1]).data\n",
      "C:\\Users\\Vivi\\Documents\\GitHub\\unfold_proj\\stats\\stats_helper.py:151: RuntimeWarning: tmax is not in Evoked time interval. tmax is set to evoked.tmax (0.699219 sec)\n",
      "  X[idx, :, :] = ev.copy().crop(crop_value[0], crop_value[1]).data\n",
      "C:\\Users\\Vivi\\Documents\\GitHub\\unfold_proj\\stats\\stats_helper.py:151: RuntimeWarning: tmax is not in Evoked time interval. tmax is set to evoked.tmax (0.699219 sec)\n",
      "  X[idx, :, :] = ev.copy().crop(crop_value[0], crop_value[1]).data\n",
      "C:\\Users\\Vivi\\Documents\\GitHub\\unfold_proj\\stats\\stats_helper.py:151: RuntimeWarning: tmax is not in Evoked time interval. tmax is set to evoked.tmax (0.699219 sec)\n",
      "  X[idx, :, :] = ev.copy().crop(crop_value[0], crop_value[1]).data\n",
      "C:\\Users\\Vivi\\Documents\\GitHub\\unfold_proj\\stats\\stats_helper.py:151: RuntimeWarning: tmax is not in Evoked time interval. tmax is set to evoked.tmax (0.699219 sec)\n",
      "  X[idx, :, :] = ev.copy().crop(crop_value[0], crop_value[1]).data\n",
      "C:\\Users\\Vivi\\Documents\\GitHub\\unfold_proj\\stats\\stats_helper.py:151: RuntimeWarning: tmax is not in Evoked time interval. tmax is set to evoked.tmax (0.699219 sec)\n",
      "  X[idx, :, :] = ev.copy().crop(crop_value[0], crop_value[1]).data\n",
      "C:\\Users\\Vivi\\Documents\\GitHub\\unfold_proj\\stats\\stats_helper.py:151: RuntimeWarning: tmax is not in Evoked time interval. tmax is set to evoked.tmax (0.699219 sec)\n",
      "  X[idx, :, :] = ev.copy().crop(crop_value[0], crop_value[1]).data\n",
      "C:\\Users\\Vivi\\Documents\\GitHub\\unfold_proj\\stats\\stats_helper.py:151: RuntimeWarning: tmax is not in Evoked time interval. tmax is set to evoked.tmax (0.699219 sec)\n",
      "  X[idx, :, :] = ev.copy().crop(crop_value[0], crop_value[1]).data\n",
      "C:\\Users\\Vivi\\Documents\\GitHub\\unfold_proj\\stats\\stats_helper.py:151: RuntimeWarning: tmax is not in Evoked time interval. tmax is set to evoked.tmax (0.699219 sec)\n",
      "  X[idx, :, :] = ev.copy().crop(crop_value[0], crop_value[1]).data\n",
      "C:\\Users\\Vivi\\Documents\\GitHub\\unfold_proj\\stats\\stats_helper.py:151: RuntimeWarning: tmax is not in Evoked time interval. tmax is set to evoked.tmax (0.699219 sec)\n",
      "  X[idx, :, :] = ev.copy().crop(crop_value[0], crop_value[1]).data\n",
      "C:\\Users\\Vivi\\Documents\\GitHub\\unfold_proj\\stats\\stats_helper.py:151: RuntimeWarning: tmax is not in Evoked time interval. tmax is set to evoked.tmax (0.699219 sec)\n",
      "  X[idx, :, :] = ev.copy().crop(crop_value[0], crop_value[1]).data\n",
      "C:\\Users\\Vivi\\Documents\\GitHub\\unfold_proj\\stats\\stats_helper.py:151: RuntimeWarning: tmax is not in Evoked time interval. tmax is set to evoked.tmax (0.699219 sec)\n",
      "  X[idx, :, :] = ev.copy().crop(crop_value[0], crop_value[1]).data\n",
      "C:\\Users\\Vivi\\Documents\\GitHub\\unfold_proj\\stats\\stats_helper.py:134: RuntimeWarning: tmax is not in Evoked time interval. tmax is set to evoked.tmax (0.699219 sec)\n",
      "  data_crop = evoked[0].copy().crop(crop_value[0], crop_value[1])\n",
      "C:\\Users\\Vivi\\Documents\\GitHub\\unfold_proj\\stats\\stats_helper.py:151: RuntimeWarning: tmax is not in Evoked time interval. tmax is set to evoked.tmax (0.699219 sec)\n",
      "  X[idx, :, :] = ev.copy().crop(crop_value[0], crop_value[1]).data\n",
      "C:\\Users\\Vivi\\Documents\\GitHub\\unfold_proj\\stats\\stats_helper.py:151: RuntimeWarning: tmax is not in Evoked time interval. tmax is set to evoked.tmax (0.699219 sec)\n",
      "  X[idx, :, :] = ev.copy().crop(crop_value[0], crop_value[1]).data\n",
      "C:\\Users\\Vivi\\Documents\\GitHub\\unfold_proj\\stats\\stats_helper.py:151: RuntimeWarning: tmax is not in Evoked time interval. tmax is set to evoked.tmax (0.699219 sec)\n",
      "  X[idx, :, :] = ev.copy().crop(crop_value[0], crop_value[1]).data\n",
      "C:\\Users\\Vivi\\Documents\\GitHub\\unfold_proj\\stats\\stats_helper.py:151: RuntimeWarning: tmax is not in Evoked time interval. tmax is set to evoked.tmax (0.699219 sec)\n",
      "  X[idx, :, :] = ev.copy().crop(crop_value[0], crop_value[1]).data\n",
      "C:\\Users\\Vivi\\Documents\\GitHub\\unfold_proj\\stats\\stats_helper.py:151: RuntimeWarning: tmax is not in Evoked time interval. tmax is set to evoked.tmax (0.699219 sec)\n",
      "  X[idx, :, :] = ev.copy().crop(crop_value[0], crop_value[1]).data\n",
      "C:\\Users\\Vivi\\Documents\\GitHub\\unfold_proj\\stats\\stats_helper.py:151: RuntimeWarning: tmax is not in Evoked time interval. tmax is set to evoked.tmax (0.699219 sec)\n",
      "  X[idx, :, :] = ev.copy().crop(crop_value[0], crop_value[1]).data\n",
      "C:\\Users\\Vivi\\Documents\\GitHub\\unfold_proj\\stats\\stats_helper.py:151: RuntimeWarning: tmax is not in Evoked time interval. tmax is set to evoked.tmax (0.699219 sec)\n",
      "  X[idx, :, :] = ev.copy().crop(crop_value[0], crop_value[1]).data\n",
      "C:\\Users\\Vivi\\Documents\\GitHub\\unfold_proj\\stats\\stats_helper.py:151: RuntimeWarning: tmax is not in Evoked time interval. tmax is set to evoked.tmax (0.699219 sec)\n",
      "  X[idx, :, :] = ev.copy().crop(crop_value[0], crop_value[1]).data\n",
      "C:\\Users\\Vivi\\Documents\\GitHub\\unfold_proj\\stats\\stats_helper.py:151: RuntimeWarning: tmax is not in Evoked time interval. tmax is set to evoked.tmax (0.699219 sec)\n",
      "  X[idx, :, :] = ev.copy().crop(crop_value[0], crop_value[1]).data\n",
      "C:\\Users\\Vivi\\Documents\\GitHub\\unfold_proj\\stats\\stats_helper.py:151: RuntimeWarning: tmax is not in Evoked time interval. tmax is set to evoked.tmax (0.699219 sec)\n",
      "  X[idx, :, :] = ev.copy().crop(crop_value[0], crop_value[1]).data\n",
      "C:\\Users\\Vivi\\Documents\\GitHub\\unfold_proj\\stats\\stats_helper.py:151: RuntimeWarning: tmax is not in Evoked time interval. tmax is set to evoked.tmax (0.699219 sec)\n",
      "  X[idx, :, :] = ev.copy().crop(crop_value[0], crop_value[1]).data\n",
      "C:\\Users\\Vivi\\Documents\\GitHub\\unfold_proj\\stats\\stats_helper.py:151: RuntimeWarning: tmax is not in Evoked time interval. tmax is set to evoked.tmax (0.699219 sec)\n",
      "  X[idx, :, :] = ev.copy().crop(crop_value[0], crop_value[1]).data\n",
      "C:\\Users\\Vivi\\Documents\\GitHub\\unfold_proj\\stats\\stats_helper.py:151: RuntimeWarning: tmax is not in Evoked time interval. tmax is set to evoked.tmax (0.699219 sec)\n",
      "  X[idx, :, :] = ev.copy().crop(crop_value[0], crop_value[1]).data\n",
      "C:\\Users\\Vivi\\Documents\\GitHub\\unfold_proj\\stats\\stats_helper.py:151: RuntimeWarning: tmax is not in Evoked time interval. tmax is set to evoked.tmax (0.699219 sec)\n",
      "  X[idx, :, :] = ev.copy().crop(crop_value[0], crop_value[1]).data\n",
      "C:\\Users\\Vivi\\Documents\\GitHub\\unfold_proj\\stats\\stats_helper.py:151: RuntimeWarning: tmax is not in Evoked time interval. tmax is set to evoked.tmax (0.699219 sec)\n",
      "  X[idx, :, :] = ev.copy().crop(crop_value[0], crop_value[1]).data\n",
      "C:\\Users\\Vivi\\Documents\\GitHub\\unfold_proj\\stats\\stats_helper.py:151: RuntimeWarning: tmax is not in Evoked time interval. tmax is set to evoked.tmax (0.699219 sec)\n",
      "  X[idx, :, :] = ev.copy().crop(crop_value[0], crop_value[1]).data\n",
      "C:\\Users\\Vivi\\Documents\\GitHub\\unfold_proj\\stats\\stats_helper.py:151: RuntimeWarning: tmax is not in Evoked time interval. tmax is set to evoked.tmax (0.699219 sec)\n",
      "  X[idx, :, :] = ev.copy().crop(crop_value[0], crop_value[1]).data\n",
      "C:\\Users\\Vivi\\Documents\\GitHub\\unfold_proj\\stats\\stats_helper.py:151: RuntimeWarning: tmax is not in Evoked time interval. tmax is set to evoked.tmax (0.699219 sec)\n",
      "  X[idx, :, :] = ev.copy().crop(crop_value[0], crop_value[1]).data\n",
      "C:\\Users\\Vivi\\Documents\\GitHub\\unfold_proj\\stats\\stats_helper.py:151: RuntimeWarning: tmax is not in Evoked time interval. tmax is set to evoked.tmax (0.699219 sec)\n",
      "  X[idx, :, :] = ev.copy().crop(crop_value[0], crop_value[1]).data\n",
      "C:\\Users\\Vivi\\Documents\\GitHub\\unfold_proj\\stats\\stats_helper.py:151: RuntimeWarning: tmax is not in Evoked time interval. tmax is set to evoked.tmax (0.699219 sec)\n",
      "  X[idx, :, :] = ev.copy().crop(crop_value[0], crop_value[1]).data\n",
      "C:\\Users\\Vivi\\Documents\\GitHub\\unfold_proj\\stats\\stats_helper.py:151: RuntimeWarning: tmax is not in Evoked time interval. tmax is set to evoked.tmax (0.699219 sec)\n",
      "  X[idx, :, :] = ev.copy().crop(crop_value[0], crop_value[1]).data\n",
      "C:\\Users\\Vivi\\Documents\\GitHub\\unfold_proj\\stats\\stats_helper.py:151: RuntimeWarning: tmax is not in Evoked time interval. tmax is set to evoked.tmax (0.699219 sec)\n",
      "  X[idx, :, :] = ev.copy().crop(crop_value[0], crop_value[1]).data\n",
      "C:\\Users\\Vivi\\Documents\\GitHub\\unfold_proj\\stats\\stats_helper.py:151: RuntimeWarning: tmax is not in Evoked time interval. tmax is set to evoked.tmax (0.699219 sec)\n",
      "  X[idx, :, :] = ev.copy().crop(crop_value[0], crop_value[1]).data\n",
      "C:\\Users\\Vivi\\Documents\\GitHub\\unfold_proj\\stats\\stats_helper.py:151: RuntimeWarning: tmax is not in Evoked time interval. tmax is set to evoked.tmax (0.699219 sec)\n",
      "  X[idx, :, :] = ev.copy().crop(crop_value[0], crop_value[1]).data\n",
      "C:\\Users\\Vivi\\Documents\\GitHub\\unfold_proj\\stats\\stats_helper.py:151: RuntimeWarning: tmax is not in Evoked time interval. tmax is set to evoked.tmax (0.699219 sec)\n",
      "  X[idx, :, :] = ev.copy().crop(crop_value[0], crop_value[1]).data\n",
      "C:\\Users\\Vivi\\Documents\\GitHub\\unfold_proj\\stats\\stats_helper.py:151: RuntimeWarning: tmax is not in Evoked time interval. tmax is set to evoked.tmax (0.699219 sec)\n",
      "  X[idx, :, :] = ev.copy().crop(crop_value[0], crop_value[1]).data\n",
      "C:\\Users\\Vivi\\Documents\\GitHub\\unfold_proj\\stats\\stats_helper.py:151: RuntimeWarning: tmax is not in Evoked time interval. tmax is set to evoked.tmax (0.699219 sec)\n",
      "  X[idx, :, :] = ev.copy().crop(crop_value[0], crop_value[1]).data\n",
      "C:\\Users\\Vivi\\Documents\\GitHub\\unfold_proj\\stats\\stats_helper.py:151: RuntimeWarning: tmax is not in Evoked time interval. tmax is set to evoked.tmax (0.699219 sec)\n",
      "  X[idx, :, :] = ev.copy().crop(crop_value[0], crop_value[1]).data\n",
      "C:\\Users\\Vivi\\Documents\\GitHub\\unfold_proj\\stats\\stats_helper.py:151: RuntimeWarning: tmax is not in Evoked time interval. tmax is set to evoked.tmax (0.699219 sec)\n",
      "  X[idx, :, :] = ev.copy().crop(crop_value[0], crop_value[1]).data\n",
      "C:\\Users\\Vivi\\Documents\\GitHub\\unfold_proj\\stats\\stats_helper.py:151: RuntimeWarning: tmax is not in Evoked time interval. tmax is set to evoked.tmax (0.699219 sec)\n",
      "  X[idx, :, :] = ev.copy().crop(crop_value[0], crop_value[1]).data\n"
     ]
    },
    {
     "name": "stdout",
     "output_type": "stream",
     "text": [
      "(30, 128, 206)\n",
      "(30, 128, 206)\n",
      "-0.1\n",
      "number of time pointst: 7\n",
      "length of minimum time points to be significant: 1\n",
      "at the moment if only one TF is significant the electrode will be displayed as sig\n",
      "(128, 206)\n"
     ]
    },
    {
     "data": {
      "text/plain": "(array([[ 0.10700119, -0.46874747, -0.92904716, ...,  0.36161178,\n          0.07004547, -0.28370991],\n        [ 0.498571  ,  0.0868461 , -0.30259404, ...,  1.10572119,\n          0.87494917,  0.4354376 ],\n        [ 0.624904  ,  0.26361414, -0.00418928, ...,  1.92052894,\n          1.80195764,  1.42741273],\n        ...,\n        [-0.98358122, -0.55490453, -0.15475385, ...,  1.54821286,\n          1.68528298,  1.788805  ],\n        [ 0.43370777,  1.102807  ,  1.58351357, ...,  0.23273036,\n          0.45368427,  0.73997493],\n        [ 0.08034865,  0.72091198,  1.19354127, ..., -1.30829038,\n         -0.81301381, -0.38353595]]),\n array([[0.91552485, 0.6427548 , 0.36053373, ..., 0.72026364, 0.94463826,\n         0.77864841],\n        [0.62184228, 0.93139073, 0.76435909, ..., 0.27793619, 0.38879065,\n         0.66646866],\n        [0.53692042, 0.79394143, 0.99668613, ..., 0.06467317, 0.08195691,\n         0.16414106],\n        ...,\n        [0.33345681, 0.58321505, 0.87808743, ..., 0.13241611, 0.10266699,\n         0.08409791],\n        [0.66771006, 0.27917898, 0.12415053, ..., 0.81760554, 0.65343307,\n         0.46526398],\n        [0.9365119 , 0.47673548, 0.24233027, ..., 0.20104987, 0.42283492,\n         0.70411987]]))"
     },
     "execution_count": 47,
     "metadata": {},
     "output_type": "execute_result"
    }
   ],
   "source": [
    "filepath=f'{modtype}_{erp_type}_{cond}_{dc_type}'\n",
    "s_hp.tTest_ana([evo_awa,evo_unawa],crop_value=[-0.1,0.7],BF=True,mask_BF=data_BF,plot_times=[0.505],averages=0.015,png=filepath)"
   ],
   "metadata": {
    "collapsed": false,
    "ExecuteTime": {
     "end_time": "2025-06-03T09:22:44.590504500Z",
     "start_time": "2025-06-03T09:22:38.756100100Z"
    }
   }
  },
  {
   "cell_type": "markdown",
   "source": [
    "# Compute gavgs"
   ],
   "metadata": {
    "collapsed": false
   }
  },
  {
   "cell_type": "code",
   "execution_count": 4,
   "outputs": [],
   "source": [
    "g_num='g01'\n",
    "file_dir=f'ana/deconvolution/ep_betas/modfit/dc/{g_num}_modfit_hep_awareness_unaware_dc.ep'\n",
    "f = open(file_dir)\n"
   ],
   "metadata": {
    "collapsed": false,
    "ExecuteTime": {
     "end_time": "2025-06-02T07:24:26.119767500Z",
     "start_time": "2025-06-02T07:24:25.963574100Z"
    }
   }
  },
  {
   "cell_type": "code",
   "execution_count": 5,
   "outputs": [
    {
     "data": {
      "text/plain": "(256, 128)"
     },
     "execution_count": 5,
     "metadata": {},
     "output_type": "execute_result"
    }
   ],
   "source": [
    "data=np.loadtxt(file_dir)\n",
    "data.shape"
   ],
   "metadata": {
    "collapsed": false,
    "ExecuteTime": {
     "end_time": "2025-06-02T07:24:26.892421500Z",
     "start_time": "2025-06-02T07:24:26.673295200Z"
    }
   }
  },
  {
   "cell_type": "code",
   "execution_count": 18,
   "outputs": [],
   "source": [
    "subject_list=cs.G_N\n",
    "X=np.empty((len(subject_list),data.shape[1],data.shape[0]))\n",
    "cond_list=[\"awareness_unaware\",\"awareness\",\"awareness\",\"card_phase_sys\",\"_Intercept_\",\"awareness_unaware_card_phase_sys\"]\n",
    "fit='base'\n",
    "dc='dc'\n",
    "beta_type=cond_list[4]\n",
    "\n",
    "for idx,g_num in enumerate(subject_list):\n",
    "    file_dir=f'ana/deconvolution/ep_betas/{fit}/{dc}/{g_num}_{fit}_hep_{beta_type}_{dc}.ep'\n",
    "    data=np.loadtxt(file_dir)\n",
    "\n",
    "    X[idx,:,:]=data.T\n",
    "\n",
    "\n"
   ],
   "metadata": {
    "collapsed": false,
    "ExecuteTime": {
     "end_time": "2025-05-22T15:03:10.654633500Z",
     "start_time": "2025-05-22T15:03:06.886227300Z"
    }
   }
  },
  {
   "cell_type": "code",
   "execution_count": 19,
   "outputs": [],
   "source": [
    "gavg=np.mean(X,0).T\n",
    "filename=f'ana/deconvolution/ep_betas/{fit}/{dc}/gavg_{fit}_hep_{beta_type}_{dc}.ep'\n",
    "\n",
    "np.savetxt(filename,gavg)"
   ],
   "metadata": {
    "collapsed": false,
    "ExecuteTime": {
     "end_time": "2025-05-22T15:03:16.226505900Z",
     "start_time": "2025-05-22T15:03:13.226709400Z"
    }
   }
  },
  {
   "cell_type": "markdown",
   "source": [
    "# For cardfit/awafit"
   ],
   "metadata": {
    "collapsed": false
   }
  },
  {
   "cell_type": "code",
   "execution_count": 4,
   "outputs": [],
   "source": [
    "g_num='g01'\n",
    "file_dir=f'ana/deconvolution/ep_betas/cardfit/dc/{g_num}_sys_hep__Intercept__dc.ep'\n",
    "f = open(file_dir)\n"
   ],
   "metadata": {
    "collapsed": false,
    "ExecuteTime": {
     "end_time": "2025-08-13T12:55:18.445900100Z",
     "start_time": "2025-08-13T12:55:17.102197400Z"
    }
   }
  },
  {
   "cell_type": "code",
   "execution_count": 5,
   "outputs": [
    {
     "data": {
      "text/plain": "(256, 128)"
     },
     "execution_count": 5,
     "metadata": {},
     "output_type": "execute_result"
    }
   ],
   "source": [
    "data=np.loadtxt(file_dir)\n",
    "\n",
    "data.shape"
   ],
   "metadata": {
    "collapsed": false,
    "ExecuteTime": {
     "end_time": "2025-08-13T12:55:19.136501500Z",
     "start_time": "2025-08-13T12:55:18.964336400Z"
    }
   }
  },
  {
   "cell_type": "code",
   "execution_count": 12,
   "outputs": [],
   "source": [
    "subject_list=cs.G_N\n",
    "X=np.empty((len(subject_list),data.shape[1],data.shape[0]))\n",
    "sys_cond='unaware'\n",
    "fit='awafit'\n",
    "dc='nodc'\n",
    "beta_type=\"_Intercept_\"\n",
    "\n",
    "for idx,g_num in enumerate(subject_list):\n",
    "    file_dir=f'ana/deconvolution/ep_betas/{fit}/{dc}/{g_num}_{sys_cond}_hep_{beta_type}_{dc}.ep'\n",
    "    data=np.loadtxt(file_dir)\n",
    "\n",
    "    X[idx,:,:]=data.T\n",
    "\n",
    "\n"
   ],
   "metadata": {
    "collapsed": false,
    "ExecuteTime": {
     "end_time": "2025-08-13T12:56:00.247606200Z",
     "start_time": "2025-08-13T12:55:55.501132600Z"
    }
   }
  },
  {
   "cell_type": "code",
   "execution_count": 13,
   "outputs": [],
   "source": [
    "gavg=np.mean(X,0).T\n",
    "filename=f'ana/deconvolution/ep_betas/{fit}/{dc}/gavg_{fit}_hep_{sys_cond}_{dc}.ep'\n",
    "\n",
    "np.savetxt(filename,gavg)"
   ],
   "metadata": {
    "collapsed": false,
    "ExecuteTime": {
     "end_time": "2025-08-13T12:56:04.280879Z",
     "start_time": "2025-08-13T12:56:00.909824300Z"
    }
   }
  },
  {
   "cell_type": "markdown",
   "source": [],
   "metadata": {
    "collapsed": false
   }
  },
  {
   "cell_type": "markdown",
   "source": [
    "# Plot waveforms gavgs\n",
    "## plot erps"
   ],
   "metadata": {
    "collapsed": false
   }
  },
  {
   "cell_type": "code",
   "execution_count": 48,
   "outputs": [
    {
     "name": "stdout",
     "output_type": "stream",
     "text": [
      "Reading ana/MNE/evo_list/maskOFF/correct/cfa/hep/norm/maskOFF_correct_cfa_hep_norm_RRCA_list-ave.fif ...\n",
      "    Read a total of 1 projection items:\n",
      "        Average EEG reference (1 x 128) active\n",
      "    Found the data of interest:\n",
      "        t =    -199.22 ...    1000.00 ms (0.13 × hep/normal/correct/aware/R/exh/RRCA + 0.08 × hep/normal/correct/aware/R/inh/RRCA + 0.47 × hep/normal/correct/aware/R2/exh/RRCA + 0.32 × hep/normal/correct/aware/R2/inh/RRCA\n",
      " G_n= g01)\n",
      "        0 CTF compensation matrices available\n",
      "        nave = 345 - aspect type = 100\n",
      "Projections have already been applied. Setting proj attribute to True.\n",
      "No baseline correction applied\n",
      "    Read a total of 1 projection items:\n",
      "        Average EEG reference (1 x 128) active\n",
      "    Found the data of interest:\n",
      "        t =    -199.22 ...    1000.00 ms (0.18 × hep/normal/correct/aware/R/exh/RRCA + 0.15 × hep/normal/correct/aware/R/inh/RRCA + 0.42 × hep/normal/correct/aware/R2/exh/RRCA + 0.25 × hep/normal/correct/aware/R2/inh/RRCA\n",
      " G_n= g03)\n",
      "        0 CTF compensation matrices available\n",
      "        nave = 372 - aspect type = 100\n",
      "Projections have already been applied. Setting proj attribute to True.\n",
      "No baseline correction applied\n",
      "    Read a total of 1 projection items:\n",
      "        Average EEG reference (1 x 128) active\n",
      "    Found the data of interest:\n",
      "        t =    -199.22 ...    1000.00 ms (0.13 × hep/normal/correct/aware/R/exh/RRCA + 0.14 × hep/normal/correct/aware/R/inh/RRCA + 0.35 × hep/normal/correct/aware/R2/exh/RRCA + 0.38 × hep/normal/correct/aware/R2/inh/RRCA\n",
      " G_n= g08)\n",
      "        0 CTF compensation matrices available\n",
      "        nave = 343 - aspect type = 100\n",
      "Projections have already been applied. Setting proj attribute to True.\n",
      "No baseline correction applied\n",
      "    Read a total of 1 projection items:\n",
      "        Average EEG reference (1 x 128) active\n",
      "    Found the data of interest:\n",
      "        t =    -199.22 ...    1000.00 ms (0.16 × hep/normal/correct/aware/R/exh/RRCA + 0.13 × hep/normal/correct/aware/R/inh/RRCA + 0.45 × hep/normal/correct/aware/R2/exh/RRCA + 0.27 × hep/normal/correct/aware/R2/inh/RRCA\n",
      " G_n= g10)\n",
      "        0 CTF compensation matrices available\n",
      "        nave = 400 - aspect type = 100\n",
      "Projections have already been applied. Setting proj attribute to True.\n",
      "No baseline correction applied\n",
      "    Read a total of 1 projection items:\n",
      "        Average EEG reference (1 x 128) active\n",
      "    Found the data of interest:\n",
      "        t =    -199.22 ...    1000.00 ms (0.17 × hep/normal/correct/aware/R/exh/RRCA + 0.14 × hep/normal/correct/aware/R/inh/RRCA + 0.39 × hep/normal/correct/aware/R2/exh/RRCA + 0.30 × hep/normal/correct/aware/R2/inh/RRCA\n",
      " G_n= g11)\n",
      "        0 CTF compensation matrices available\n",
      "        nave = 337 - aspect type = 100\n",
      "Projections have already been applied. Setting proj attribute to True.\n",
      "No baseline correction applied\n",
      "    Read a total of 1 projection items:\n",
      "        Average EEG reference (1 x 128) active\n",
      "    Found the data of interest:\n",
      "        t =    -199.22 ...    1000.00 ms (0.16 × hep/normal/correct/aware/R/exh/RRCA + 0.22 × hep/normal/correct/aware/R/inh/RRCA + 0.31 × hep/normal/correct/aware/R2/exh/RRCA + 0.31 × hep/normal/correct/aware/R2/inh/RRCA\n",
      " G_n= g12)\n",
      "        0 CTF compensation matrices available\n",
      "        nave = 154 - aspect type = 100\n",
      "Projections have already been applied. Setting proj attribute to True.\n",
      "No baseline correction applied\n",
      "    Read a total of 1 projection items:\n",
      "        Average EEG reference (1 x 128) active\n",
      "    Found the data of interest:\n",
      "        t =    -199.22 ...    1000.00 ms (0.20 × hep/normal/correct/aware/R/exh/RRCA + 0.12 × hep/normal/correct/aware/R/inh/RRCA + 0.41 × hep/normal/correct/aware/R2/exh/RRCA + 0.26 × hep/normal/correct/aware/R2/inh/RRCA\n",
      " G_n= g15)\n",
      "        0 CTF compensation matrices available\n",
      "        nave = 273 - aspect type = 100\n",
      "Projections have already been applied. Setting proj attribute to True.\n",
      "No baseline correction applied\n",
      "    Read a total of 1 projection items:\n",
      "        Average EEG reference (1 x 128) active\n",
      "    Found the data of interest:\n",
      "        t =    -199.22 ...    1000.00 ms (0.14 × hep/normal/correct/aware/R/exh/RRCA + 0.14 × hep/normal/correct/aware/R/inh/RRCA + 0.36 × hep/normal/correct/aware/R2/exh/RRCA + 0.36 × hep/normal/correct/aware/R2/inh/RRCA\n",
      " G_n= g16)\n",
      "        0 CTF compensation matrices available\n",
      "        nave = 295 - aspect type = 100\n",
      "Projections have already been applied. Setting proj attribute to True.\n",
      "No baseline correction applied\n",
      "    Read a total of 1 projection items:\n",
      "        Average EEG reference (1 x 128) active\n",
      "    Found the data of interest:\n",
      "        t =    -199.22 ...    1000.00 ms (0.14 × hep/normal/correct/aware/R/exh/RRCA + 0.17 × hep/normal/correct/aware/R/inh/RRCA + 0.34 × hep/normal/correct/aware/R2/exh/RRCA + 0.35 × hep/normal/correct/aware/R2/inh/RRCA\n",
      " G_n= g17)\n",
      "        0 CTF compensation matrices available\n",
      "        nave = 318 - aspect type = 100\n",
      "Projections have already been applied. Setting proj attribute to True.\n",
      "No baseline correction applied\n",
      "    Read a total of 1 projection items:\n",
      "        Average EEG reference (1 x 128) active\n",
      "    Found the data of interest:\n",
      "        t =    -199.22 ...    1000.00 ms (0.16 × hep/normal/correct/aware/R/exh/RRCA + 0.16 × hep/normal/correct/aware/R/inh/RRCA + 0.40 × hep/normal/correct/aware/R2/exh/RRCA + 0.28 × hep/normal/correct/aware/R2/inh/RRCA\n",
      " G_n= g19)\n",
      "        0 CTF compensation matrices available\n",
      "        nave = 413 - aspect type = 100\n",
      "Projections have already been applied. Setting proj attribute to True.\n",
      "No baseline correction applied\n",
      "    Read a total of 1 projection items:\n",
      "        Average EEG reference (1 x 128) active\n",
      "    Found the data of interest:\n",
      "        t =    -199.22 ...    1000.00 ms (0.12 × hep/normal/correct/aware/R/exh/RRCA + 0.14 × hep/normal/correct/aware/R/inh/RRCA + 0.38 × hep/normal/correct/aware/R2/exh/RRCA + 0.36 × hep/normal/correct/aware/R2/inh/RRCA\n",
      " G_n= g23)\n",
      "        0 CTF compensation matrices available\n",
      "        nave = 425 - aspect type = 100\n",
      "Projections have already been applied. Setting proj attribute to True.\n",
      "No baseline correction applied\n",
      "    Read a total of 1 projection items:\n",
      "        Average EEG reference (1 x 128) active\n",
      "    Found the data of interest:\n",
      "        t =    -199.22 ...    1000.00 ms (0.15 × hep/normal/correct/aware/R/exh/RRCA + 0.13 × hep/normal/correct/aware/R/inh/RRCA + 0.38 × hep/normal/correct/aware/R2/exh/RRCA + 0.35 × hep/normal/correct/aware/R2/inh/RRCA\n",
      " G_n= g24)\n",
      "        0 CTF compensation matrices available\n",
      "        nave = 167 - aspect type = 100\n",
      "Projections have already been applied. Setting proj attribute to True.\n",
      "No baseline correction applied\n",
      "    Read a total of 1 projection items:\n",
      "        Average EEG reference (1 x 128) active\n",
      "    Found the data of interest:\n",
      "        t =    -199.22 ...    1000.00 ms (0.21 × hep/normal/correct/aware/R/exh/RRCA + 0.14 × hep/normal/correct/aware/R/inh/RRCA + 0.38 × hep/normal/correct/aware/R2/exh/RRCA + 0.28 × hep/normal/correct/aware/R2/inh/RRCA\n",
      " G_n= g25)\n",
      "        0 CTF compensation matrices available\n",
      "        nave = 494 - aspect type = 100\n",
      "Projections have already been applied. Setting proj attribute to True.\n",
      "No baseline correction applied\n",
      "    Read a total of 1 projection items:\n",
      "        Average EEG reference (1 x 128) active\n",
      "    Found the data of interest:\n",
      "        t =    -199.22 ...    1000.00 ms (0.17 × hep/normal/correct/aware/R/exh/RRCA + 0.07 × hep/normal/correct/aware/R/inh/RRCA + 0.50 × hep/normal/correct/aware/R2/exh/RRCA + 0.27 × hep/normal/correct/aware/R2/inh/RRCA\n",
      " G_n= g28)\n",
      "        0 CTF compensation matrices available\n",
      "        nave = 184 - aspect type = 100\n",
      "Projections have already been applied. Setting proj attribute to True.\n",
      "No baseline correction applied\n",
      "    Read a total of 1 projection items:\n",
      "        Average EEG reference (1 x 128) active\n",
      "    Found the data of interest:\n",
      "        t =    -199.22 ...    1000.00 ms (0.19 × hep/normal/correct/aware/R/exh/RRCA + 0.10 × hep/normal/correct/aware/R/inh/RRCA + 0.48 × hep/normal/correct/aware/R2/exh/RRCA + 0.23 × hep/normal/correct/aware/R2/inh/RRCA\n",
      " G_n= g32)\n",
      "        0 CTF compensation matrices available\n",
      "        nave = 358 - aspect type = 100\n",
      "Projections have already been applied. Setting proj attribute to True.\n",
      "No baseline correction applied\n",
      "    Read a total of 1 projection items:\n",
      "        Average EEG reference (1 x 128) active\n",
      "    Found the data of interest:\n",
      "        t =    -199.22 ...    1000.00 ms (0.22 × hep/normal/correct/aware/R/exh/RRCA + 0.13 × hep/normal/correct/aware/R/inh/RRCA + 0.39 × hep/normal/correct/aware/R2/exh/RRCA + 0.26 × hep/normal/correct/aware/R2/inh/RRCA\n",
      " G_n= g33)\n",
      "        0 CTF compensation matrices available\n",
      "        nave = 346 - aspect type = 100\n",
      "Projections have already been applied. Setting proj attribute to True.\n",
      "No baseline correction applied\n",
      "    Read a total of 1 projection items:\n",
      "        Average EEG reference (1 x 128) active\n",
      "    Found the data of interest:\n",
      "        t =    -199.22 ...    1000.00 ms (0.20 × hep/normal/correct/aware/R/exh/RRCA + 0.14 × hep/normal/correct/aware/R/inh/RRCA + 0.44 × hep/normal/correct/aware/R2/exh/RRCA + 0.22 × hep/normal/correct/aware/R2/inh/RRCA\n",
      " G_n= g34)\n",
      "        0 CTF compensation matrices available\n",
      "        nave = 394 - aspect type = 100\n",
      "Projections have already been applied. Setting proj attribute to True.\n",
      "No baseline correction applied\n",
      "    Read a total of 1 projection items:\n",
      "        Average EEG reference (1 x 128) active\n",
      "    Found the data of interest:\n",
      "        t =    -199.22 ...    1000.00 ms (0.09 × hep/normal/correct/aware/R/exh/RRCA + 0.22 × hep/normal/correct/aware/R/inh/RRCA + 0.20 × hep/normal/correct/aware/R2/exh/RRCA + 0.48 × hep/normal/correct/aware/R2/inh/RRCA\n",
      " G_n= g37)\n",
      "        0 CTF compensation matrices available\n",
      "        nave = 232 - aspect type = 100\n",
      "Projections have already been applied. Setting proj attribute to True.\n",
      "No baseline correction applied\n",
      "    Read a total of 1 projection items:\n",
      "        Average EEG reference (1 x 128) active\n",
      "    Found the data of interest:\n",
      "        t =    -199.22 ...    1000.00 ms (0.18 × hep/normal/correct/aware/R/exh/RRCA + 0.14 × hep/normal/correct/aware/R/inh/RRCA + 0.42 × hep/normal/correct/aware/R2/exh/RRCA + 0.26 × hep/normal/correct/aware/R2/inh/RRCA\n",
      " G_n= g38)\n",
      "        0 CTF compensation matrices available\n",
      "        nave = 308 - aspect type = 100\n",
      "Projections have already been applied. Setting proj attribute to True.\n",
      "No baseline correction applied\n",
      "    Read a total of 1 projection items:\n",
      "        Average EEG reference (1 x 128) active\n",
      "    Found the data of interest:\n",
      "        t =    -199.22 ...    1000.00 ms (0.15 × hep/normal/correct/aware/R/exh/RRCA + 0.18 × hep/normal/correct/aware/R/inh/RRCA + 0.40 × hep/normal/correct/aware/R2/exh/RRCA + 0.27 × hep/normal/correct/aware/R2/inh/RRCA\n",
      " G_n= g39)\n",
      "        0 CTF compensation matrices available\n",
      "        nave = 226 - aspect type = 100\n",
      "Projections have already been applied. Setting proj attribute to True.\n",
      "No baseline correction applied\n",
      "    Read a total of 1 projection items:\n",
      "        Average EEG reference (1 x 128) active\n",
      "    Found the data of interest:\n",
      "        t =    -199.22 ...    1000.00 ms (0.13 × hep/normal/correct/aware/R/exh/RRCA + 0.08 × hep/normal/correct/aware/R/inh/RRCA + 0.50 × hep/normal/correct/aware/R2/exh/RRCA + 0.30 × hep/normal/correct/aware/R2/inh/RRCA\n",
      " G_n= g40)\n",
      "        0 CTF compensation matrices available\n",
      "        nave = 240 - aspect type = 100\n",
      "Projections have already been applied. Setting proj attribute to True.\n",
      "No baseline correction applied\n",
      "    Read a total of 1 projection items:\n",
      "        Average EEG reference (1 x 128) active\n",
      "    Found the data of interest:\n",
      "        t =    -199.22 ...    1000.00 ms (0.14 × hep/normal/correct/aware/R/exh/RRCA + 0.16 × hep/normal/correct/aware/R/inh/RRCA + 0.44 × hep/normal/correct/aware/R2/exh/RRCA + 0.26 × hep/normal/correct/aware/R2/inh/RRCA\n",
      " G_n= g41)\n",
      "        0 CTF compensation matrices available\n",
      "        nave = 281 - aspect type = 100\n",
      "Projections have already been applied. Setting proj attribute to True.\n",
      "No baseline correction applied\n",
      "    Read a total of 1 projection items:\n",
      "        Average EEG reference (1 x 128) active\n",
      "    Found the data of interest:\n",
      "        t =    -199.22 ...    1000.00 ms (0.15 × hep/normal/correct/aware/R/exh/RRCA + 0.13 × hep/normal/correct/aware/R/inh/RRCA + 0.36 × hep/normal/correct/aware/R2/exh/RRCA + 0.35 × hep/normal/correct/aware/R2/inh/RRCA\n",
      " G_n= g42)\n",
      "        0 CTF compensation matrices available\n",
      "        nave = 354 - aspect type = 100\n",
      "Projections have already been applied. Setting proj attribute to True.\n",
      "No baseline correction applied\n",
      "    Read a total of 1 projection items:\n",
      "        Average EEG reference (1 x 128) active\n",
      "    Found the data of interest:\n",
      "        t =    -199.22 ...    1000.00 ms (0.18 × hep/normal/correct/aware/R/exh/RRCA + 0.12 × hep/normal/correct/aware/R/inh/RRCA + 0.45 × hep/normal/correct/aware/R2/exh/RRCA + 0.25 × hep/normal/correct/aware/R2/inh/RRCA\n",
      " G_n= g44)\n",
      "        0 CTF compensation matrices available\n",
      "        nave = 301 - aspect type = 100\n",
      "Projections have already been applied. Setting proj attribute to True.\n",
      "No baseline correction applied\n",
      "    Read a total of 1 projection items:\n",
      "        Average EEG reference (1 x 128) active\n",
      "    Found the data of interest:\n",
      "        t =    -199.22 ...    1000.00 ms (0.18 × hep/normal/correct/aware/R/exh/RRCA + 0.08 × hep/normal/correct/aware/R/inh/RRCA + 0.50 × hep/normal/correct/aware/R2/exh/RRCA + 0.24 × hep/normal/correct/aware/R2/inh/RRCA\n",
      " G_n= g45)\n",
      "        0 CTF compensation matrices available\n",
      "        nave = 407 - aspect type = 100\n",
      "Projections have already been applied. Setting proj attribute to True.\n",
      "No baseline correction applied\n",
      "    Read a total of 1 projection items:\n",
      "        Average EEG reference (1 x 128) active\n",
      "    Found the data of interest:\n",
      "        t =    -199.22 ...    1000.00 ms (0.07 × hep/normal/correct/aware/R/exh/RRCA + 0.15 × hep/normal/correct/aware/R/inh/RRCA + 0.41 × hep/normal/correct/aware/R2/exh/RRCA + 0.37 × hep/normal/correct/aware/R2/inh/RRCA\n",
      " G_n= g46)\n",
      "        0 CTF compensation matrices available\n",
      "        nave = 361 - aspect type = 100\n",
      "Projections have already been applied. Setting proj attribute to True.\n",
      "No baseline correction applied\n",
      "    Read a total of 1 projection items:\n",
      "        Average EEG reference (1 x 128) active\n",
      "    Found the data of interest:\n",
      "        t =    -199.22 ...    1000.00 ms (0.14 × hep/normal/correct/aware/R/exh/RRCA + 0.15 × hep/normal/correct/aware/R/inh/RRCA + 0.41 × hep/normal/correct/aware/R2/exh/RRCA + 0.30 × hep/normal/correct/aware/R2/inh/RRCA\n",
      " G_n= g47)\n",
      "        0 CTF compensation matrices available\n",
      "        nave = 435 - aspect type = 100\n",
      "Projections have already been applied. Setting proj attribute to True.\n",
      "No baseline correction applied\n",
      "    Read a total of 1 projection items:\n",
      "        Average EEG reference (1 x 128) active\n",
      "    Found the data of interest:\n",
      "        t =    -199.22 ...    1000.00 ms (0.18 × hep/normal/correct/aware/R/exh/RRCA + 0.14 × hep/normal/correct/aware/R/inh/RRCA + 0.44 × hep/normal/correct/aware/R2/exh/RRCA + 0.24 × hep/normal/correct/aware/R2/inh/RRCA\n",
      " G_n= g49)\n",
      "        0 CTF compensation matrices available\n",
      "        nave = 288 - aspect type = 100\n",
      "Projections have already been applied. Setting proj attribute to True.\n",
      "No baseline correction applied\n",
      "    Read a total of 1 projection items:\n",
      "        Average EEG reference (1 x 128) active\n",
      "    Found the data of interest:\n",
      "        t =    -199.22 ...    1000.00 ms (0.22 × hep/normal/correct/aware/R/exh/RRCA + 0.10 × hep/normal/correct/aware/R/inh/RRCA + 0.49 × hep/normal/correct/aware/R2/exh/RRCA + 0.19 × hep/normal/correct/aware/R2/inh/RRCA\n",
      " G_n= g51)\n",
      "        0 CTF compensation matrices available\n",
      "        nave = 343 - aspect type = 100\n",
      "Projections have already been applied. Setting proj attribute to True.\n",
      "No baseline correction applied\n",
      "    Read a total of 1 projection items:\n",
      "        Average EEG reference (1 x 128) active\n",
      "    Found the data of interest:\n",
      "        t =    -199.22 ...    1000.00 ms (0.17 × hep/normal/correct/aware/R/exh/RRCA + 0.13 × hep/normal/correct/aware/R/inh/RRCA + 0.39 × hep/normal/correct/aware/R2/exh/RRCA + 0.31 × hep/normal/correct/aware/R2/inh/RRCA\n",
      " G_n= g52)\n",
      "        0 CTF compensation matrices available\n",
      "        nave = 254 - aspect type = 100\n",
      "Projections have already been applied. Setting proj attribute to True.\n",
      "No baseline correction applied\n",
      "Reading ana/MNE/evo_list/maskOFF/correct/cfa/hep/norm/maskOFF_correct_cfa_hep_norm_RRCU_list-ave.fif ...\n",
      "    Read a total of 1 projection items:\n",
      "        Average EEG reference (1 x 128) active\n",
      "    Found the data of interest:\n",
      "        t =    -199.22 ...    1000.00 ms (0.13 × hep/normal/correct/unaware/R/exh/RRCU + 0.12 × hep/normal/correct/unaware/R/inh/RRCU + 0.46 × hep/normal/correct/unaware/R2/exh/RRCU + 0.30 × hep/normal/correct/unaware/R2/inh/RRCU\n",
      " G_n= g01)\n",
      "        0 CTF compensation matrices available\n",
      "        nave = 298 - aspect type = 100\n",
      "Projections have already been applied. Setting proj attribute to True.\n",
      "No baseline correction applied\n",
      "    Read a total of 1 projection items:\n",
      "        Average EEG reference (1 x 128) active\n",
      "    Found the data of interest:\n",
      "        t =    -199.22 ...    1000.00 ms (0.18 × hep/normal/correct/unaware/R/exh/RRCU + 0.11 × hep/normal/correct/unaware/R/inh/RRCU + 0.45 × hep/normal/correct/unaware/R2/exh/RRCU + 0.25 × hep/normal/correct/unaware/R2/inh/RRCU\n",
      " G_n= g03)\n",
      "        0 CTF compensation matrices available\n",
      "        nave = 212 - aspect type = 100\n",
      "Projections have already been applied. Setting proj attribute to True.\n",
      "No baseline correction applied\n",
      "    Read a total of 1 projection items:\n",
      "        Average EEG reference (1 x 128) active\n",
      "    Found the data of interest:\n",
      "        t =    -199.22 ...    1000.00 ms (0.22 × hep/normal/correct/unaware/R/exh/RRCU + 0.12 × hep/normal/correct/unaware/R/inh/RRCU + 0.32 × hep/normal/correct/unaware/R2/exh/RRCU + 0.35 × hep/normal/correct/unaware/R2/inh/RRCU\n",
      " G_n= g08)\n",
      "        0 CTF compensation matrices available\n",
      "        nave = 158 - aspect type = 100\n",
      "Projections have already been applied. Setting proj attribute to True.\n",
      "No baseline correction applied\n",
      "    Read a total of 1 projection items:\n",
      "        Average EEG reference (1 x 128) active\n",
      "    Found the data of interest:\n",
      "        t =    -199.22 ...    1000.00 ms (0.11 × hep/normal/correct/unaware/R/exh/RRCU + 0.11 × hep/normal/correct/unaware/R/inh/RRCU + 0.47 × hep/normal/correct/unaware/R2/exh/RRCU + 0.32 × hep/normal/correct/unaware/R2/inh/RRCU\n",
      " G_n= g10)\n",
      "        0 CTF compensation matrices available\n",
      "        nave = 187 - aspect type = 100\n",
      "Projections have already been applied. Setting proj attribute to True.\n",
      "No baseline correction applied\n",
      "    Read a total of 1 projection items:\n",
      "        Average EEG reference (1 x 128) active\n",
      "    Found the data of interest:\n",
      "        t =    -199.22 ...    1000.00 ms (0.17 × hep/normal/correct/unaware/R/exh/RRCU + 0.12 × hep/normal/correct/unaware/R/inh/RRCU + 0.43 × hep/normal/correct/unaware/R2/exh/RRCU + 0.27 × hep/normal/correct/unaware/R2/inh/RRCU\n",
      " G_n= g11)\n",
      "        0 CTF compensation matrices available\n",
      "        nave = 322 - aspect type = 100\n",
      "Projections have already been applied. Setting proj attribute to True.\n",
      "No baseline correction applied\n",
      "    Read a total of 1 projection items:\n",
      "        Average EEG reference (1 x 128) active\n",
      "    Found the data of interest:\n",
      "        t =    -199.22 ...    1000.00 ms (0.13 × hep/normal/correct/unaware/R/exh/RRCU + 0.16 × hep/normal/correct/unaware/R/inh/RRCU + 0.34 × hep/normal/correct/unaware/R2/exh/RRCU + 0.37 × hep/normal/correct/unaware/R2/inh/RRCU\n",
      " G_n= g12)\n",
      "        0 CTF compensation matrices available\n",
      "        nave = 153 - aspect type = 100\n",
      "Projections have already been applied. Setting proj attribute to True.\n",
      "No baseline correction applied\n",
      "    Read a total of 1 projection items:\n",
      "        Average EEG reference (1 x 128) active\n",
      "    Found the data of interest:\n",
      "        t =    -199.22 ...    1000.00 ms (0.17 × hep/normal/correct/unaware/R/exh/RRCU + 0.12 × hep/normal/correct/unaware/R/inh/RRCU + 0.42 × hep/normal/correct/unaware/R2/exh/RRCU + 0.29 × hep/normal/correct/unaware/R2/inh/RRCU + 0.00 × hep/normal/correct/unaware/RR/exh/RRCU\n",
      " G_n= g15)\n",
      "        0 CTF compensation matrices available\n",
      "        nave = 330 - aspect type = 100\n",
      "Projections have already been applied. Setting proj attribute to True.\n",
      "No baseline correction applied\n",
      "    Read a total of 1 projection items:\n",
      "        Average EEG reference (1 x 128) active\n",
      "    Found the data of interest:\n",
      "        t =    -199.22 ...    1000.00 ms (0.17 × hep/normal/correct/unaware/R/exh/RRCU + 0.15 × hep/normal/correct/unaware/R/inh/RRCU + 0.37 × hep/normal/correct/unaware/R2/exh/RRCU + 0.30 × hep/normal/correct/unaware/R2/inh/RRCU\n",
      " G_n= g16)\n",
      "        0 CTF compensation matrices available\n",
      "        nave = 297 - aspect type = 100\n",
      "Projections have already been applied. Setting proj attribute to True.\n",
      "No baseline correction applied\n",
      "    Read a total of 1 projection items:\n",
      "        Average EEG reference (1 x 128) active\n",
      "    Found the data of interest:\n",
      "        t =    -199.22 ...    1000.00 ms (0.11 × hep/normal/correct/unaware/R/exh/RRCU + 0.15 × hep/normal/correct/unaware/R/inh/RRCU + 0.34 × hep/normal/correct/unaware/R2/exh/RRCU + 0.39 × hep/normal/correct/unaware/R2/inh/RRCU\n",
      " G_n= g17)\n",
      "        0 CTF compensation matrices available\n",
      "        nave = 445 - aspect type = 100\n",
      "Projections have already been applied. Setting proj attribute to True.\n",
      "No baseline correction applied\n",
      "    Read a total of 1 projection items:\n",
      "        Average EEG reference (1 x 128) active\n",
      "    Found the data of interest:\n",
      "        t =    -199.22 ...    1000.00 ms (0.19 × hep/normal/correct/unaware/R/exh/RRCU + 0.14 × hep/normal/correct/unaware/R/inh/RRCU + 0.41 × hep/normal/correct/unaware/R2/exh/RRCU + 0.27 × hep/normal/correct/unaware/R2/inh/RRCU\n",
      " G_n= g19)\n",
      "        0 CTF compensation matrices available\n",
      "        nave = 236 - aspect type = 100\n",
      "Projections have already been applied. Setting proj attribute to True.\n",
      "No baseline correction applied\n",
      "    Read a total of 1 projection items:\n",
      "        Average EEG reference (1 x 128) active\n",
      "    Found the data of interest:\n",
      "        t =    -199.22 ...    1000.00 ms (0.11 × hep/normal/correct/unaware/R/exh/RRCU + 0.16 × hep/normal/correct/unaware/R/inh/RRCU + 0.36 × hep/normal/correct/unaware/R2/exh/RRCU + 0.37 × hep/normal/correct/unaware/R2/inh/RRCU\n",
      " G_n= g23)\n",
      "        0 CTF compensation matrices available\n",
      "        nave = 223 - aspect type = 100\n",
      "Projections have already been applied. Setting proj attribute to True.\n",
      "No baseline correction applied\n",
      "    Read a total of 1 projection items:\n",
      "        Average EEG reference (1 x 128) active\n",
      "    Found the data of interest:\n",
      "        t =    -199.22 ...    1000.00 ms (0.17 × hep/normal/correct/unaware/R/exh/RRCU + 0.09 × hep/normal/correct/unaware/R/inh/RRCU + 0.42 × hep/normal/correct/unaware/R2/exh/RRCU + 0.32 × hep/normal/correct/unaware/R2/inh/RRCU\n",
      " G_n= g24)\n",
      "        0 CTF compensation matrices available\n",
      "        nave = 338 - aspect type = 100\n",
      "Projections have already been applied. Setting proj attribute to True.\n",
      "No baseline correction applied\n",
      "    Read a total of 1 projection items:\n",
      "        Average EEG reference (1 x 128) active\n",
      "    Found the data of interest:\n",
      "        t =    -199.22 ...    1000.00 ms (0.16 × hep/normal/correct/unaware/R/exh/RRCU + 0.16 × hep/normal/correct/unaware/R/inh/RRCU + 0.39 × hep/normal/correct/unaware/R2/exh/RRCU + 0.30 × hep/normal/correct/unaware/R2/inh/RRCU\n",
      " G_n= g25)\n",
      "        0 CTF compensation matrices available\n",
      "        nave = 245 - aspect type = 100\n",
      "Projections have already been applied. Setting proj attribute to True.\n",
      "No baseline correction applied\n",
      "    Read a total of 1 projection items:\n",
      "        Average EEG reference (1 x 128) active\n",
      "    Found the data of interest:\n",
      "        t =    -199.22 ...    1000.00 ms (0.19 × hep/normal/correct/unaware/R/exh/RRCU + 0.10 × hep/normal/correct/unaware/R/inh/RRCU + 0.43 × hep/normal/correct/unaware/R2/exh/RRCU + 0.27 × hep/normal/correct/unaware/R2/inh/RRCU\n",
      " G_n= g28)\n",
      "        0 CTF compensation matrices available\n",
      "        nave = 381 - aspect type = 100\n",
      "Projections have already been applied. Setting proj attribute to True.\n",
      "No baseline correction applied\n",
      "    Read a total of 1 projection items:\n",
      "        Average EEG reference (1 x 128) active\n",
      "    Found the data of interest:\n",
      "        t =    -199.22 ...    1000.00 ms (0.15 × hep/normal/correct/unaware/R/exh/RRCU + 0.13 × hep/normal/correct/unaware/R/inh/RRCU + 0.50 × hep/normal/correct/unaware/R2/exh/RRCU + 0.22 × hep/normal/correct/unaware/R2/inh/RRCU\n",
      " G_n= g32)\n",
      "        0 CTF compensation matrices available\n",
      "        nave = 298 - aspect type = 100\n",
      "Projections have already been applied. Setting proj attribute to True.\n",
      "No baseline correction applied\n",
      "    Read a total of 1 projection items:\n",
      "        Average EEG reference (1 x 128) active\n",
      "    Found the data of interest:\n",
      "        t =    -199.22 ...    1000.00 ms (0.22 × hep/normal/correct/unaware/R/exh/RRCU + 0.12 × hep/normal/correct/unaware/R/inh/RRCU + 0.47 × hep/normal/correct/unaware/R2/exh/RRCU + 0.20 × hep/normal/correct/unaware/R2/inh/RRCU\n",
      " G_n= g33)\n",
      "        0 CTF compensation matrices available\n",
      "        nave = 376 - aspect type = 100\n",
      "Projections have already been applied. Setting proj attribute to True.\n",
      "No baseline correction applied\n",
      "    Read a total of 1 projection items:\n",
      "        Average EEG reference (1 x 128) active\n",
      "    Found the data of interest:\n",
      "        t =    -199.22 ...    1000.00 ms (0.17 × hep/normal/correct/unaware/R/exh/RRCU + 0.16 × hep/normal/correct/unaware/R/inh/RRCU + 0.36 × hep/normal/correct/unaware/R2/exh/RRCU + 0.31 × hep/normal/correct/unaware/R2/inh/RRCU\n",
      " G_n= g34)\n",
      "        0 CTF compensation matrices available\n",
      "        nave = 218 - aspect type = 100\n",
      "Projections have already been applied. Setting proj attribute to True.\n",
      "No baseline correction applied\n",
      "    Read a total of 1 projection items:\n",
      "        Average EEG reference (1 x 128) active\n",
      "    Found the data of interest:\n",
      "        t =    -199.22 ...    1000.00 ms (0.11 × hep/normal/correct/unaware/R/exh/RRCU + 0.24 × hep/normal/correct/unaware/R/inh/RRCU + 0.21 × hep/normal/correct/unaware/R2/exh/RRCU + 0.43 × hep/normal/correct/unaware/R2/inh/RRCU\n",
      " G_n= g37)\n",
      "        0 CTF compensation matrices available\n",
      "        nave = 316 - aspect type = 100\n",
      "Projections have already been applied. Setting proj attribute to True.\n",
      "No baseline correction applied\n",
      "    Read a total of 1 projection items:\n",
      "        Average EEG reference (1 x 128) active\n",
      "    Found the data of interest:\n",
      "        t =    -199.22 ...    1000.00 ms (0.19 × hep/normal/correct/unaware/R/exh/RRCU + 0.12 × hep/normal/correct/unaware/R/inh/RRCU + 0.43 × hep/normal/correct/unaware/R2/exh/RRCU + 0.25 × hep/normal/correct/unaware/R2/inh/RRCU\n",
      " G_n= g38)\n",
      "        0 CTF compensation matrices available\n",
      "        nave = 385 - aspect type = 100\n",
      "Projections have already been applied. Setting proj attribute to True.\n",
      "No baseline correction applied\n",
      "    Read a total of 1 projection items:\n",
      "        Average EEG reference (1 x 128) active\n",
      "    Found the data of interest:\n",
      "        t =    -199.22 ...    1000.00 ms (0.25 × hep/normal/correct/unaware/R/exh/RRCU + 0.10 × hep/normal/correct/unaware/R/inh/RRCU + 0.41 × hep/normal/correct/unaware/R2/exh/RRCU + 0.23 × hep/normal/correct/unaware/R2/inh/RRCU\n",
      " G_n= g39)\n",
      "        0 CTF compensation matrices available\n",
      "        nave = 448 - aspect type = 100\n",
      "Projections have already been applied. Setting proj attribute to True.\n",
      "No baseline correction applied\n",
      "    Read a total of 1 projection items:\n",
      "        Average EEG reference (1 x 128) active\n",
      "    Found the data of interest:\n",
      "        t =    -199.22 ...    1000.00 ms (0.12 × hep/normal/correct/unaware/R/exh/RRCU + 0.10 × hep/normal/correct/unaware/R/inh/RRCU + 0.53 × hep/normal/correct/unaware/R2/exh/RRCU + 0.25 × hep/normal/correct/unaware/R2/inh/RRCU\n",
      " G_n= g40)\n",
      "        0 CTF compensation matrices available\n",
      "        nave = 363 - aspect type = 100\n",
      "Projections have already been applied. Setting proj attribute to True.\n",
      "No baseline correction applied\n",
      "    Read a total of 1 projection items:\n",
      "        Average EEG reference (1 x 128) active\n",
      "    Found the data of interest:\n",
      "        t =    -199.22 ...    1000.00 ms (0.12 × hep/normal/correct/unaware/R/exh/RRCU + 0.11 × hep/normal/correct/unaware/R/inh/RRCU + 0.47 × hep/normal/correct/unaware/R2/exh/RRCU + 0.30 × hep/normal/correct/unaware/R2/inh/RRCU\n",
      " G_n= g41)\n",
      "        0 CTF compensation matrices available\n",
      "        nave = 469 - aspect type = 100\n",
      "Projections have already been applied. Setting proj attribute to True.\n",
      "No baseline correction applied\n",
      "    Read a total of 1 projection items:\n",
      "        Average EEG reference (1 x 128) active\n",
      "    Found the data of interest:\n",
      "        t =    -199.22 ...    1000.00 ms (0.15 × hep/normal/correct/unaware/R/exh/RRCU + 0.15 × hep/normal/correct/unaware/R/inh/RRCU + 0.40 × hep/normal/correct/unaware/R2/exh/RRCU + 0.30 × hep/normal/correct/unaware/R2/inh/RRCU\n",
      " G_n= g42)\n",
      "        0 CTF compensation matrices available\n",
      "        nave = 402 - aspect type = 100\n",
      "Projections have already been applied. Setting proj attribute to True.\n",
      "No baseline correction applied\n",
      "    Read a total of 1 projection items:\n",
      "        Average EEG reference (1 x 128) active\n",
      "    Found the data of interest:\n",
      "        t =    -199.22 ...    1000.00 ms (0.15 × hep/normal/correct/unaware/R/exh/RRCU + 0.14 × hep/normal/correct/unaware/R/inh/RRCU + 0.43 × hep/normal/correct/unaware/R2/exh/RRCU + 0.29 × hep/normal/correct/unaware/R2/inh/RRCU\n",
      " G_n= g44)\n",
      "        0 CTF compensation matrices available\n",
      "        nave = 487 - aspect type = 100\n",
      "Projections have already been applied. Setting proj attribute to True.\n",
      "No baseline correction applied\n",
      "    Read a total of 1 projection items:\n",
      "        Average EEG reference (1 x 128) active\n",
      "    Found the data of interest:\n",
      "        t =    -199.22 ...    1000.00 ms (0.19 × hep/normal/correct/unaware/R/exh/RRCU + 0.11 × hep/normal/correct/unaware/R/inh/RRCU + 0.44 × hep/normal/correct/unaware/R2/exh/RRCU + 0.27 × hep/normal/correct/unaware/R2/inh/RRCU\n",
      " G_n= g45)\n",
      "        0 CTF compensation matrices available\n",
      "        nave = 275 - aspect type = 100\n",
      "Projections have already been applied. Setting proj attribute to True.\n",
      "No baseline correction applied\n",
      "    Read a total of 1 projection items:\n",
      "        Average EEG reference (1 x 128) active\n",
      "    Found the data of interest:\n",
      "        t =    -199.22 ...    1000.00 ms (0.09 × hep/normal/correct/unaware/R/exh/RRCU + 0.20 × hep/normal/correct/unaware/R/inh/RRCU + 0.34 × hep/normal/correct/unaware/R2/exh/RRCU + 0.37 × hep/normal/correct/unaware/R2/inh/RRCU\n",
      " G_n= g46)\n",
      "        0 CTF compensation matrices available\n",
      "        nave = 215 - aspect type = 100\n",
      "Projections have already been applied. Setting proj attribute to True.\n",
      "No baseline correction applied\n",
      "    Read a total of 1 projection items:\n",
      "        Average EEG reference (1 x 128) active\n",
      "    Found the data of interest:\n",
      "        t =    -199.22 ...    1000.00 ms (0.13 × hep/normal/correct/unaware/R/exh/RRCU + 0.14 × hep/normal/correct/unaware/R/inh/RRCU + 0.42 × hep/normal/correct/unaware/R2/exh/RRCU + 0.31 × hep/normal/correct/unaware/R2/inh/RRCU\n",
      " G_n= g47)\n",
      "        0 CTF compensation matrices available\n",
      "        nave = 333 - aspect type = 100\n",
      "Projections have already been applied. Setting proj attribute to True.\n",
      "No baseline correction applied\n",
      "    Read a total of 1 projection items:\n",
      "        Average EEG reference (1 x 128) active\n",
      "    Found the data of interest:\n",
      "        t =    -199.22 ...    1000.00 ms (0.15 × hep/normal/correct/unaware/R/exh/RRCU + 0.13 × hep/normal/correct/unaware/R/inh/RRCU + 0.43 × hep/normal/correct/unaware/R2/exh/RRCU + 0.29 × hep/normal/correct/unaware/R2/inh/RRCU\n",
      " G_n= g49)\n",
      "        0 CTF compensation matrices available\n",
      "        nave = 318 - aspect type = 100\n",
      "Projections have already been applied. Setting proj attribute to True.\n",
      "No baseline correction applied\n",
      "    Read a total of 1 projection items:\n",
      "        Average EEG reference (1 x 128) active\n",
      "    Found the data of interest:\n",
      "        t =    -199.22 ...    1000.00 ms (0.16 × hep/normal/correct/unaware/R/exh/RRCU + 0.12 × hep/normal/correct/unaware/R/inh/RRCU + 0.47 × hep/normal/correct/unaware/R2/exh/RRCU + 0.25 × hep/normal/correct/unaware/R2/inh/RRCU\n",
      " G_n= g51)\n",
      "        0 CTF compensation matrices available\n",
      "        nave = 393 - aspect type = 100\n",
      "Projections have already been applied. Setting proj attribute to True.\n",
      "No baseline correction applied\n",
      "    Read a total of 1 projection items:\n",
      "        Average EEG reference (1 x 128) active\n",
      "    Found the data of interest:\n",
      "        t =    -199.22 ...    1000.00 ms (0.19 × hep/normal/correct/unaware/R/exh/RRCU + 0.14 × hep/normal/correct/unaware/R/inh/RRCU + 0.36 × hep/normal/correct/unaware/R2/exh/RRCU + 0.31 × hep/normal/correct/unaware/R2/inh/RRCU\n",
      " G_n= g52)\n",
      "        0 CTF compensation matrices available\n",
      "        nave = 399 - aspect type = 100\n",
      "Projections have already been applied. Setting proj attribute to True.\n",
      "No baseline correction applied\n"
     ]
    }
   ],
   "source": [
    "\n",
    "#define variables\n",
    "modtype='rawerp'\n",
    "erp_type=\"hep\"\n",
    "cond='unaware'\n",
    "dc_type=\"nodc\"\n",
    "\n",
    "\n",
    "filepath='ana/MNE/evo_list/maskOFF/correct/cfa/hep/norm/'\n",
    "filename=f\"maskOFF_correct_cfa_hep_norm_RRCA_list-ave.fif\"\n",
    "fp=filepath+filename\n",
    "evo_awa=mne.read_evokeds(fp)\n",
    "\n",
    "filepath='ana/MNE/evo_list/maskOFF/correct/cfa/hep/norm/'\n",
    "filename=f\"maskOFF_correct_cfa_hep_norm_RRCU_list-ave.fif\"\n",
    "fp=filepath+filename\n",
    "evo_unawa=mne.read_evokeds(fp)\n"
   ],
   "metadata": {
    "collapsed": false,
    "ExecuteTime": {
     "end_time": "2025-06-03T09:25:30.018919300Z",
     "start_time": "2025-06-03T09:25:21.191051400Z"
    }
   }
  },
  {
   "cell_type": "code",
   "execution_count": 49,
   "outputs": [],
   "source": [
    "evo_awa=[ev.crop(-0.1,0.7) for ev in evo_awa]\n",
    "evo_unawa=[ev.crop(-0.1,0.7) for ev in evo_unawa]"
   ],
   "metadata": {
    "collapsed": false,
    "ExecuteTime": {
     "end_time": "2025-06-03T09:25:38.376728700Z",
     "start_time": "2025-06-03T09:25:38.236093900Z"
    }
   }
  },
  {
   "cell_type": "code",
   "execution_count": 50,
   "outputs": [],
   "source": [
    "regions=dict(dc_post=['A5','A14','A16','A18','A23'],dc_front=['C32','D4'],nodc=['B12','B14','B23','B24'] )"
   ],
   "metadata": {
    "collapsed": false,
    "ExecuteTime": {
     "end_time": "2025-06-03T09:25:43.793327Z",
     "start_time": "2025-06-03T09:25:43.683953700Z"
    }
   }
  },
  {
   "cell_type": "markdown",
   "source": [
    "if phy_sig=='rsp_phase':\n",
    "    colors=[['olivedrab','darkgreen'],['tab:pink','purple']]\n",
    "elif phy_sig=='cardiac_phase':\n",
    "    colors=[['c','b'],['tab:orange','r']]\n",
    "else:\n",
    "    colors=['k','grey']"
   ],
   "metadata": {
    "collapsed": false
   }
  },
  {
   "cell_type": "code",
   "execution_count": 54,
   "outputs": [
    {
     "name": "stdout",
     "output_type": "stream",
     "text": [
      "['A5', 'A14', 'A16', 'A18', 'A23']\n",
      "combining channels using \"mean\"\n",
      "combining channels using \"mean\"\n",
      "['C32', 'D4']\n",
      "combining channels using \"mean\"\n",
      "combining channels using \"mean\"\n",
      "['B12', 'B14', 'B23', 'B24']\n",
      "combining channels using \"mean\"\n",
      "combining channels using \"mean\"\n"
     ]
    }
   ],
   "source": [
    "\n",
    "\n",
    "evokeds=dict(aware=evo_awa,unaware=evo_unawa)\n",
    "\n",
    "fig,axs=plt.subplots(1,3,figsize=(10,5))\n",
    "n=0\n",
    "for regio, picked in regions.items():\n",
    "    print(picked)\n",
    "\n",
    "    fig_fin=mne.viz.plot_compare_evokeds(evokeds,colors=['r','g'],ci=False, picks=picked,show_sensors=True,legend='upper right',truncate_yaxis=False,axes=axs[n],combine='mean',vlines=[0,0.49,0.52,0.7],ylim=dict(eeg=[-1.5,1.5]))\n",
    "    n+=1\n"
   ],
   "metadata": {
    "collapsed": false,
    "ExecuteTime": {
     "end_time": "2025-06-03T09:45:47.154405500Z",
     "start_time": "2025-06-03T09:45:46.518693400Z"
    }
   }
  },
  {
   "cell_type": "code",
   "execution_count": 55,
   "outputs": [],
   "source": [
    "file_dir=f'ana/deconvolution/figures/waveforms_gavg_{modtype}_{erp_type}_{cond}_{dc_type}.svg'\n",
    "fig.savefig(file_dir,format='svg')"
   ],
   "metadata": {
    "collapsed": false,
    "ExecuteTime": {
     "end_time": "2025-06-03T09:45:52.019027900Z",
     "start_time": "2025-06-03T09:45:51.530063300Z"
    }
   }
  },
  {
   "cell_type": "code",
   "execution_count": null,
   "outputs": [],
   "source": [],
   "metadata": {
    "collapsed": false
   }
  },
  {
   "cell_type": "markdown",
   "source": [
    "## plot awafit awa vs unawa"
   ],
   "metadata": {
    "collapsed": false
   }
  },
  {
   "cell_type": "code",
   "execution_count": 65,
   "outputs": [],
   "source": [
    "\n",
    "#define variables\n",
    "modtype='awafit'\n",
    "erp_type=\"hep\"\n",
    "cond='aware'\n",
    "dc_type=\"nodc\"\n",
    "\n",
    "#load corresponding file\n",
    "\n",
    "\n",
    "file_dir=f'ana/deconvolution/ep_betas/{modtype}/{dc_type}/gavg_{modtype}_{erp_type}_{cond}_{dc_type}.ep'\n",
    "f = open(file_dir)"
   ],
   "metadata": {
    "collapsed": false,
    "ExecuteTime": {
     "end_time": "2025-06-03T09:47:43.212320600Z",
     "start_time": "2025-06-03T09:47:43.082060300Z"
    }
   }
  },
  {
   "cell_type": "code",
   "execution_count": 66,
   "outputs": [
    {
     "data": {
      "text/plain": "(179, 128)"
     },
     "execution_count": 66,
     "metadata": {},
     "output_type": "execute_result"
    }
   ],
   "source": [
    "data_aware=np.loadtxt(file_dir)\n",
    "data_aware=data_cutter(data_aware,time_limits=[-0.2,0.8],new_time_limits=[-0.1,0.7])\n",
    "data.shape"
   ],
   "metadata": {
    "collapsed": false,
    "ExecuteTime": {
     "end_time": "2025-06-03T09:47:44.036297200Z",
     "start_time": "2025-06-03T09:47:43.721011900Z"
    }
   }
  },
  {
   "cell_type": "code",
   "execution_count": 67,
   "outputs": [],
   "source": [
    "\n",
    "#define variables\n",
    "modtype='awafit'\n",
    "\n",
    "cond='unaware'\n",
    "\n",
    "\n",
    "#load corresponding file\n",
    "\n",
    "\n",
    "file_dir=f'ana/deconvolution/ep_betas/{modtype}/{dc_type}/gavg_{modtype}_{erp_type}_{cond}_{dc_type}.ep'\n",
    "f = open(file_dir)"
   ],
   "metadata": {
    "collapsed": false,
    "ExecuteTime": {
     "end_time": "2025-06-03T09:47:44.789609500Z",
     "start_time": "2025-06-03T09:47:44.661167600Z"
    }
   }
  },
  {
   "cell_type": "code",
   "execution_count": 68,
   "outputs": [],
   "source": [
    "data_unaware=np.loadtxt(file_dir)\n",
    "data_unaware=data_cutter(data_unaware,time_limits=[-0.2,0.8],new_time_limits=[-0.1,0.7])\n"
   ],
   "metadata": {
    "collapsed": false,
    "ExecuteTime": {
     "end_time": "2025-06-03T09:47:45.588484700Z",
     "start_time": "2025-06-03T09:47:45.280260300Z"
    }
   }
  },
  {
   "cell_type": "code",
   "execution_count": 69,
   "outputs": [],
   "source": [
    "def get_evo(data,tmin=-0.1):\n",
    "    biosemi_montage = mne.channels.make_standard_montage('biosemi128')\n",
    "\n",
    "    info = mne.create_info(ch_names=biosemi_montage.ch_names, sfreq=256.,\n",
    "                           ch_types='eeg')\n",
    "    evok=mne.EvokedArray(data,info,tmin=tmin)\n",
    "    evok.set_montage(biosemi_montage)\n",
    "    return evok"
   ],
   "metadata": {
    "collapsed": false,
    "ExecuteTime": {
     "end_time": "2025-06-03T09:47:46.165755900Z",
     "start_time": "2025-06-03T09:47:46.054344400Z"
    }
   }
  },
  {
   "cell_type": "markdown",
   "source": [],
   "metadata": {
    "collapsed": false
   }
  },
  {
   "cell_type": "code",
   "execution_count": 70,
   "outputs": [],
   "source": [
    "evo_awa=get_evo(data_aware.T)\n",
    "evo_unawa=get_evo(data_unaware.T)"
   ],
   "metadata": {
    "collapsed": false,
    "ExecuteTime": {
     "end_time": "2025-06-03T09:47:47.048253400Z",
     "start_time": "2025-06-03T09:47:46.923247200Z"
    }
   }
  },
  {
   "cell_type": "code",
   "execution_count": 71,
   "outputs": [],
   "source": [
    "regions=dict(dc_post=['A5','A14','A16','A18','A23'],dc_front=['C32','D4'],nodc=['B12','B14','B23','B24'] )"
   ],
   "metadata": {
    "collapsed": false,
    "ExecuteTime": {
     "end_time": "2025-06-03T09:47:47.627737600Z",
     "start_time": "2025-06-03T09:47:47.502730600Z"
    }
   }
  },
  {
   "cell_type": "markdown",
   "source": [
    "regions=dict(nodc_post=['A13','A14','A16','A15','A23'],dc_front=['C32','D4'],nodc=['B12','B14','B23','B24'] )"
   ],
   "metadata": {
    "collapsed": false
   }
  },
  {
   "cell_type": "markdown",
   "source": [
    "if phy_sig=='rsp_phase':\n",
    "    colors=[['olivedrab','darkgreen'],['tab:pink','purple']]\n",
    "elif phy_sig=='cardiac_phase':\n",
    "    colors=[['c','b'],['tab:orange','r']]\n",
    "else:\n",
    "    colors=['k','grey']"
   ],
   "metadata": {
    "collapsed": false
   }
  },
  {
   "cell_type": "code",
   "execution_count": 72,
   "outputs": [
    {
     "name": "stdout",
     "output_type": "stream",
     "text": [
      "['A5', 'A14', 'A16', 'A18', 'A23']\n",
      "combining channels using \"mean\"\n",
      "combining channels using \"mean\"\n",
      "['C32', 'D4']\n",
      "combining channels using \"mean\"\n",
      "combining channels using \"mean\"\n",
      "['B12', 'B14', 'B23', 'B24']\n",
      "combining channels using \"mean\"\n",
      "combining channels using \"mean\"\n"
     ]
    }
   ],
   "source": [
    "\n",
    "\n",
    "evokeds=dict(aware=evo_awa,unaware=evo_unawa)\n",
    "\n",
    "fig,axs=plt.subplots(1,3,figsize=(10,5))\n",
    "n=0\n",
    "for regio, picked in regions.items():\n",
    "    print(picked)\n",
    "\n",
    "    fig_fin=mne.viz.plot_compare_evokeds(evokeds,ci=False, colors=['r','g'],picks=picked,show_sensors=True,legend='upper right',truncate_yaxis=False,axes=axs[n],combine='mean',vlines=[0,0.49,0.52,0.7],ylim=dict(eeg=[-1.5*1e6,1.5*1e6]),truncate_xaxis=False)\n",
    "    n+=1\n"
   ],
   "metadata": {
    "collapsed": false,
    "ExecuteTime": {
     "end_time": "2025-06-03T09:47:48.857627600Z",
     "start_time": "2025-06-03T09:47:48.384686200Z"
    }
   }
  },
  {
   "cell_type": "code",
   "execution_count": 73,
   "outputs": [],
   "source": [
    "file_dir=f'ana/deconvolution/figures/waveforms_gavg_{modtype}_{erp_type}_{cond}_{dc_type}.svg'\n",
    "fig.savefig(file_dir,format='svg')"
   ],
   "metadata": {
    "collapsed": false,
    "ExecuteTime": {
     "end_time": "2025-06-03T09:47:52.393391400Z",
     "start_time": "2025-06-03T09:47:51.893216Z"
    }
   }
  },
  {
   "cell_type": "code",
   "execution_count": null,
   "outputs": [],
   "source": [],
   "metadata": {
    "collapsed": false
   }
  },
  {
   "cell_type": "markdown",
   "source": [
    "## plot cardfit sys vs dia"
   ],
   "metadata": {
    "collapsed": false
   }
  },
  {
   "cell_type": "code",
   "execution_count": 223,
   "outputs": [],
   "source": [
    "\n",
    "#define variables\n",
    "modtype='cardfit'\n",
    "erp_type=\"hep\"\n",
    "cond_1='sys'\n",
    "dc_type_1=\"nodc\"\n",
    "\n",
    "k_1=f'{cond_1}_{dc_type_1}'\n",
    "#load corresponding file\n",
    "\n",
    "\n",
    "file_dir=f'ana/deconvolution/ep_betas/{modtype}/{dc_type_1}/gavg_{modtype}_{erp_type}_{cond_1}_{dc_type_1}.ep'\n",
    "f = open(file_dir)"
   ],
   "metadata": {
    "collapsed": false,
    "ExecuteTime": {
     "end_time": "2025-06-02T12:45:12.985688200Z",
     "start_time": "2025-06-02T12:45:12.774348200Z"
    }
   }
  },
  {
   "cell_type": "code",
   "execution_count": 224,
   "outputs": [
    {
     "data": {
      "text/plain": "(204, 128)"
     },
     "execution_count": 224,
     "metadata": {},
     "output_type": "execute_result"
    }
   ],
   "source": [
    "data_1=np.loadtxt(file_dir)\n",
    "data_1=data_cutter(data_1,time_limits=[-0.2,0.8],new_time_limits=[-0.1,0.7])\n",
    "data.shape"
   ],
   "metadata": {
    "collapsed": false,
    "ExecuteTime": {
     "end_time": "2025-06-02T12:45:13.917002Z",
     "start_time": "2025-06-02T12:45:13.642016800Z"
    }
   }
  },
  {
   "cell_type": "code",
   "execution_count": 225,
   "outputs": [],
   "source": [
    "\n",
    "#define variables\n",
    "\n",
    "dc_type_2=\"nodc\"\n",
    "cond_2='dia'\n",
    "k_2=f'{cond_2}_{dc_type_2}'\n",
    "\n",
    "#load corresponding file\n",
    "\n",
    "\n",
    "file_dir=f'ana/deconvolution/ep_betas/{modtype}/{dc_type_2}/gavg_{modtype}_{erp_type}_{cond_2}_{dc_type_2}.ep'\n",
    "f = open(file_dir)"
   ],
   "metadata": {
    "collapsed": false,
    "ExecuteTime": {
     "end_time": "2025-06-02T12:45:14.689794600Z",
     "start_time": "2025-06-02T12:45:14.557184300Z"
    }
   }
  },
  {
   "cell_type": "code",
   "execution_count": 226,
   "outputs": [],
   "source": [
    "data_2=np.loadtxt(file_dir)\n",
    "data_2=data_cutter(data_2,time_limits=[-0.2,0.8],new_time_limits=[-0.1,0.7])\n"
   ],
   "metadata": {
    "collapsed": false,
    "ExecuteTime": {
     "end_time": "2025-06-02T12:45:15.803972200Z",
     "start_time": "2025-06-02T12:45:15.510372200Z"
    }
   }
  },
  {
   "cell_type": "code",
   "execution_count": 227,
   "outputs": [],
   "source": [
    "def get_evo(data,tmin=-0.1):\n",
    "    biosemi_montage = mne.channels.make_standard_montage('biosemi128')\n",
    "\n",
    "    info = mne.create_info(ch_names=biosemi_montage.ch_names, sfreq=256.,\n",
    "                           ch_types='eeg')\n",
    "    evok=mne.EvokedArray(data,info,tmin=tmin)\n",
    "    evok.set_montage(biosemi_montage)\n",
    "    return evok"
   ],
   "metadata": {
    "collapsed": false,
    "ExecuteTime": {
     "end_time": "2025-06-02T12:45:16.445237700Z",
     "start_time": "2025-06-02T12:45:16.335679100Z"
    }
   }
  },
  {
   "cell_type": "markdown",
   "source": [],
   "metadata": {
    "collapsed": false
   }
  },
  {
   "cell_type": "code",
   "execution_count": 228,
   "outputs": [],
   "source": [
    "evo_1=get_evo(data_1.T)\n",
    "evo_2=get_evo(data_2.T)"
   ],
   "metadata": {
    "collapsed": false,
    "ExecuteTime": {
     "end_time": "2025-06-02T12:45:17.515117200Z",
     "start_time": "2025-06-02T12:45:17.372077500Z"
    }
   }
  },
  {
   "cell_type": "code",
   "execution_count": 229,
   "outputs": [],
   "source": [
    "%matplotlib qt\n",
    "if 'sys' in cond_1:\n",
    "    color=['tab:orange','tab:orange']\n",
    "else:\n",
    "    color=['#1f77b4','#1f77b4']\n",
    "evokeds={k_1:evo_1,k_2:evo_2}\n",
    "\n"
   ],
   "metadata": {
    "collapsed": false,
    "ExecuteTime": {
     "end_time": "2025-06-02T12:45:21.315329500Z",
     "start_time": "2025-06-02T12:45:21.213649200Z"
    }
   }
  },
  {
   "cell_type": "code",
   "execution_count": null,
   "outputs": [],
   "source": [
    "\n",
    "fig_fin=mne.viz.plot_compare_evokeds(evokeds,ci=False, colors=color,picks=['A23'],show_sensors=True,legend='upper right',truncate_yaxis=False,combine='mean',ylim=dict(eeg=[-3*1e6,3*1e6]),vlines=[0,0.7],linestyles=['-','--','-','--'])"
   ],
   "metadata": {
    "collapsed": false
   }
  },
  {
   "cell_type": "code",
   "execution_count": 232,
   "outputs": [
    {
     "ename": "AttributeError",
     "evalue": "'list' object has no attribute 'items'",
     "output_type": "error",
     "traceback": [
      "\u001B[1;31m---------------------------------------------------------------------------\u001B[0m",
      "\u001B[1;31mAttributeError\u001B[0m                            Traceback (most recent call last)",
      "Input \u001B[1;32mIn [232]\u001B[0m, in \u001B[0;36m<cell line: 5>\u001B[1;34m()\u001B[0m\n\u001B[0;32m      3\u001B[0m fig,axs\u001B[38;5;241m=\u001B[39mplt\u001B[38;5;241m.\u001B[39msubplots(\u001B[38;5;241m1\u001B[39m,\u001B[38;5;241m3\u001B[39m,figsize\u001B[38;5;241m=\u001B[39m(\u001B[38;5;241m10\u001B[39m,\u001B[38;5;241m5\u001B[39m))\n\u001B[0;32m      4\u001B[0m n\u001B[38;5;241m=\u001B[39m\u001B[38;5;241m0\u001B[39m\n\u001B[1;32m----> 5\u001B[0m \u001B[38;5;28;01mfor\u001B[39;00m regio, picked \u001B[38;5;129;01min\u001B[39;00m \u001B[43mregions\u001B[49m\u001B[38;5;241;43m.\u001B[39;49m\u001B[43mitems\u001B[49m():\n\u001B[0;32m      6\u001B[0m     \u001B[38;5;28mprint\u001B[39m(picked)\n\u001B[0;32m      8\u001B[0m     fig_fin\u001B[38;5;241m=\u001B[39mmne\u001B[38;5;241m.\u001B[39mviz\u001B[38;5;241m.\u001B[39mplot_compare_evokeds(evokeds,ci\u001B[38;5;241m=\u001B[39m\u001B[38;5;28;01mFalse\u001B[39;00m, picks\u001B[38;5;241m=\u001B[39mpicked,show_sensors\u001B[38;5;241m=\u001B[39m\u001B[38;5;28;01mTrue\u001B[39;00m,legend\u001B[38;5;241m=\u001B[39m\u001B[38;5;124m'\u001B[39m\u001B[38;5;124mupper right\u001B[39m\u001B[38;5;124m'\u001B[39m,truncate_yaxis\u001B[38;5;241m=\u001B[39m\u001B[38;5;28;01mFalse\u001B[39;00m,axes\u001B[38;5;241m=\u001B[39maxs[n],combine\u001B[38;5;241m=\u001B[39m\u001B[38;5;124m'\u001B[39m\u001B[38;5;124mmean\u001B[39m\u001B[38;5;124m'\u001B[39m,vlines\u001B[38;5;241m=\u001B[39m[\u001B[38;5;241m0\u001B[39m,\u001B[38;5;241m0.49\u001B[39m,\u001B[38;5;241m0.52\u001B[39m,\u001B[38;5;241m0.7\u001B[39m],ylim\u001B[38;5;241m=\u001B[39m\u001B[38;5;28mdict\u001B[39m(eeg\u001B[38;5;241m=\u001B[39m[\u001B[38;5;241m-\u001B[39m\u001B[38;5;241m3\u001B[39m\u001B[38;5;241m*\u001B[39m\u001B[38;5;241m1e6\u001B[39m,\u001B[38;5;241m3\u001B[39m\u001B[38;5;241m*\u001B[39m\u001B[38;5;241m1e6\u001B[39m]), linestyles\u001B[38;5;241m=\u001B[39m[\u001B[38;5;124m'\u001B[39m\u001B[38;5;124m--\u001B[39m\u001B[38;5;124m'\u001B[39m])\n",
      "\u001B[1;31mAttributeError\u001B[0m: 'list' object has no attribute 'items'"
     ]
    }
   ],
   "source": [
    "%matplotlib qt\n",
    "\n",
    "fig,axs=plt.subplots(1,3,figsize=(10,5))\n",
    "n=0\n",
    "for regio, picked in regions.items():\n",
    "    print(picked)\n",
    "\n",
    "    fig_fin=mne.viz.plot_compare_evokeds(evokeds,ci=False, picks=picked,show_sensors=True,legend='upper right',truncate_yaxis=False,axes=axs[n],combine='mean',vlines=[0,0.7],ylim=dict(eeg=[-3*1e6,3*1e6]), linestyles=['--'])\n",
    "    n+=1\n"
   ],
   "metadata": {
    "collapsed": false,
    "ExecuteTime": {
     "end_time": "2025-06-02T12:59:46.936612200Z",
     "start_time": "2025-06-02T12:59:46.732459700Z"
    }
   }
  },
  {
   "cell_type": "code",
   "execution_count": 86,
   "outputs": [],
   "source": [
    "file_dir=f'ana/deconvolution/figures/waveforms_gavg_{modtype}_{erp_type}_{cond_1}{cond_2}_{dc_type_1}_oz.svg'\n",
    "fig_fin[0].savefig(file_dir,format='svg')"
   ],
   "metadata": {
    "collapsed": false,
    "ExecuteTime": {
     "end_time": "2025-06-02T08:05:06.143845700Z",
     "start_time": "2025-06-02T08:05:05.875996400Z"
    }
   }
  },
  {
   "cell_type": "code",
   "execution_count": 131,
   "outputs": [],
   "source": [
    "file_dir=f'ana/deconvolution/figures/waveforms_gavg_{modtype}_{erp_type}_{cond_1}_dcnodc_oz.svg'\n",
    "fig_fin[0].savefig(file_dir,format='svg')"
   ],
   "metadata": {
    "collapsed": false,
    "ExecuteTime": {
     "end_time": "2025-06-02T08:19:35.413575300Z",
     "start_time": "2025-06-02T08:19:35.130586900Z"
    }
   }
  },
  {
   "cell_type": "code",
   "execution_count": 233,
   "outputs": [
    {
     "name": "stdout",
     "output_type": "stream",
     "text": [
      "combining channels using \"mean\"\n"
     ]
    },
    {
     "name": "stderr",
     "output_type": "stream",
     "text": [
      "C:\\Users\\Vivi\\AppData\\Local\\Temp\\ipykernel_1836\\257251769.py:7: RuntimeWarning: Only 1 channel in \"picks\"; cannot combine by method \"mean\".\n",
      "  fig_fin=mne.viz.plot_compare_evokeds(sub_dict,ci=False,colors=color, picks=['A23'],show_sensors=True,legend='upper right',truncate_yaxis=False,combine='mean',ylim=dict(eeg=[-3*1e6,3*1e6]),vlines=[0,0.7],linestyles=['--'])\n"
     ]
    },
    {
     "name": "stdout",
     "output_type": "stream",
     "text": [
      "combining channels using \"mean\"\n"
     ]
    },
    {
     "name": "stderr",
     "output_type": "stream",
     "text": [
      "C:\\Users\\Vivi\\AppData\\Local\\Temp\\ipykernel_1836\\257251769.py:7: RuntimeWarning: Only 1 channel in \"picks\"; cannot combine by method \"mean\".\n",
      "  fig_fin=mne.viz.plot_compare_evokeds(sub_dict,ci=False,colors=color, picks=['A23'],show_sensors=True,legend='upper right',truncate_yaxis=False,combine='mean',ylim=dict(eeg=[-3*1e6,3*1e6]),vlines=[0,0.7],linestyles=['--'])\n"
     ]
    }
   ],
   "source": [
    "for cond,evo in evokeds.items():\n",
    "    if 'sys'in cond:\n",
    "        color=['tab:orange']\n",
    "    else:\n",
    "        color=['#1f77b4']\n",
    "    sub_dict={cond:evo}\n",
    "    fig_fin=mne.viz.plot_compare_evokeds(sub_dict,ci=False,colors=color, picks=['A23'],show_sensors=True,legend='upper right',truncate_yaxis=False,combine='mean',ylim=dict(eeg=[-3*1e6,3*1e6]),vlines=[0,0.7],linestyles=['--'])\n",
    "    file_dir=f'ana/deconvolution/figures/waveforms_gavg_{modtype}_{erp_type}_{cond}_oz.svg'\n",
    "    fig_fin[0].savefig(file_dir,format='svg')\n"
   ],
   "metadata": {
    "collapsed": false,
    "ExecuteTime": {
     "end_time": "2025-06-02T13:01:20.198639300Z",
     "start_time": "2025-06-02T13:01:19.522637400Z"
    }
   }
  },
  {
   "cell_type": "code",
   "execution_count": 61,
   "outputs": [],
   "source": [
    "file_dir=f'ana/deconvolution/figures/waveforms_gavg_{modtype}_{erp_type}_{cond}_dcnodc_oz.svg'\n",
    "fig.savefig(file_dir,format='svg')"
   ],
   "metadata": {
    "collapsed": false
   }
  },
  {
   "cell_type": "markdown",
   "source": [
    "## Plot others"
   ],
   "metadata": {
    "collapsed": false
   }
  },
  {
   "cell_type": "code",
   "execution_count": 146,
   "outputs": [],
   "source": [
    "\n",
    "#define variables\n",
    "modtype='base'\n",
    "erp_type=\"hep\"\n",
    "cond='_Intercept_'\n",
    "dc_type=\"dc\"\n",
    "\n",
    "#load corresponding file\n",
    "\n",
    "\n",
    "file_dir=f'ana/deconvolution/ep_betas/{modtype}/{dc_type}/gavg_{modtype}_{erp_type}_{cond}_{dc_type}.ep'\n",
    "f = open(file_dir)"
   ],
   "metadata": {
    "collapsed": false,
    "ExecuteTime": {
     "end_time": "2025-06-02T08:39:23.029867800Z",
     "start_time": "2025-06-02T08:39:22.889077Z"
    }
   }
  },
  {
   "cell_type": "code",
   "execution_count": 147,
   "outputs": [
    {
     "data": {
      "text/plain": "(256, 128)"
     },
     "execution_count": 147,
     "metadata": {},
     "output_type": "execute_result"
    }
   ],
   "source": [
    "data_1=np.loadtxt(file_dir)\n",
    "data_1=data_cutter(data_1,time_limits=[-0.2,0.8],new_time_limits=[-0.1,0.7])\n",
    "data.shape"
   ],
   "metadata": {
    "collapsed": false,
    "ExecuteTime": {
     "end_time": "2025-06-02T08:39:23.515091100Z",
     "start_time": "2025-06-02T08:39:23.356056300Z"
    }
   }
  },
  {
   "cell_type": "code",
   "execution_count": 148,
   "outputs": [],
   "source": [
    "\n",
    "#define variables\n",
    "#modtype='modfit_card'\n",
    "\n",
    "dc_type=\"nodc\"\n",
    "\n",
    "\n",
    "#load corresponding file\n",
    "\n",
    "\n",
    "file_dir=f'ana/deconvolution/ep_betas/{modtype}/{dc_type}/gavg_{modtype}_{erp_type}_{cond}_{dc_type}.ep'\n",
    "f = open(file_dir)"
   ],
   "metadata": {
    "collapsed": false,
    "ExecuteTime": {
     "end_time": "2025-06-02T08:39:24.110175100Z",
     "start_time": "2025-06-02T08:39:23.969549300Z"
    }
   }
  },
  {
   "cell_type": "code",
   "execution_count": 149,
   "outputs": [],
   "source": [
    "data_2=np.loadtxt(file_dir)\n",
    "data_2=data_cutter(data_2,time_limits=[-0.2,0.8],new_time_limits=[-0.1,0.7])\n"
   ],
   "metadata": {
    "collapsed": false,
    "ExecuteTime": {
     "end_time": "2025-06-02T08:39:24.724478800Z",
     "start_time": "2025-06-02T08:39:24.474473700Z"
    }
   }
  },
  {
   "cell_type": "code",
   "execution_count": 151,
   "outputs": [],
   "source": [
    "def get_evo(data,tmin=-0.1):\n",
    "    biosemi_montage = mne.channels.make_standard_montage('biosemi128')\n",
    "\n",
    "    info = mne.create_info(ch_names=biosemi_montage.ch_names, sfreq=256.,\n",
    "                           ch_types='eeg')\n",
    "    evok=mne.EvokedArray(data,info,tmin=tmin)\n",
    "    evok.set_montage(biosemi_montage)\n",
    "    return evok"
   ],
   "metadata": {
    "collapsed": false,
    "ExecuteTime": {
     "end_time": "2025-06-02T08:39:29.676334200Z",
     "start_time": "2025-06-02T08:39:29.566965700Z"
    }
   }
  },
  {
   "cell_type": "markdown",
   "source": [],
   "metadata": {
    "collapsed": false
   }
  },
  {
   "cell_type": "code",
   "execution_count": 152,
   "outputs": [],
   "source": [
    "evo_1=get_evo(data_1.T)\n",
    "evo_2=get_evo(data_2.T)"
   ],
   "metadata": {
    "collapsed": false,
    "ExecuteTime": {
     "end_time": "2025-06-02T08:39:32.222593700Z",
     "start_time": "2025-06-02T08:39:32.107552200Z"
    }
   }
  },
  {
   "cell_type": "code",
   "execution_count": 107,
   "outputs": [],
   "source": [
    "regions=dict(dc_post=['A5','A14','A16','A18','A23'],dc_front=['C32','D4'],nodc=['B12','B14','B23','B24'] )"
   ],
   "metadata": {
    "collapsed": false,
    "ExecuteTime": {
     "end_time": "2025-05-19T09:53:31.904230900Z",
     "start_time": "2025-05-19T09:53:31.864570100Z"
    }
   }
  },
  {
   "cell_type": "code",
   "execution_count": 153,
   "outputs": [],
   "source": [
    "regions=['A23']"
   ],
   "metadata": {
    "collapsed": false,
    "ExecuteTime": {
     "end_time": "2025-06-02T08:39:33.694156100Z",
     "start_time": "2025-06-02T08:39:33.582975600Z"
    }
   }
  },
  {
   "cell_type": "markdown",
   "source": [
    "regions=dict(nodc_post=['A13','A14','A16','A15','A23'],dc_front=['C32','D4'],nodc=['B12','B14','B23','B24'] )"
   ],
   "metadata": {
    "collapsed": false
   }
  },
  {
   "cell_type": "markdown",
   "source": [
    "if phy_sig=='rsp_phase':\n",
    "    colors=[['olivedrab','darkgreen'],['tab:pink','purple']]\n",
    "elif phy_sig=='cardiac_phase':\n",
    "    colors=[['c','b'],['tab:orange','r']]\n",
    "else:\n",
    "    colors=['k','grey']"
   ],
   "metadata": {
    "collapsed": false
   }
  },
  {
   "cell_type": "code",
   "execution_count": 46,
   "outputs": [
    {
     "ename": "AttributeError",
     "evalue": "'list' object has no attribute 'items'",
     "output_type": "error",
     "traceback": [
      "\u001B[1;31m---------------------------------------------------------------------------\u001B[0m",
      "\u001B[1;31mAttributeError\u001B[0m                            Traceback (most recent call last)",
      "Input \u001B[1;32mIn [46]\u001B[0m, in \u001B[0;36m<cell line: 5>\u001B[1;34m()\u001B[0m\n\u001B[0;32m      3\u001B[0m fig,axs\u001B[38;5;241m=\u001B[39mplt\u001B[38;5;241m.\u001B[39msubplots(\u001B[38;5;241m1\u001B[39m,\u001B[38;5;241m3\u001B[39m,figsize\u001B[38;5;241m=\u001B[39m(\u001B[38;5;241m10\u001B[39m,\u001B[38;5;241m5\u001B[39m))\n\u001B[0;32m      4\u001B[0m n\u001B[38;5;241m=\u001B[39m\u001B[38;5;241m0\u001B[39m\n\u001B[1;32m----> 5\u001B[0m \u001B[38;5;28;01mfor\u001B[39;00m regio, picked \u001B[38;5;129;01min\u001B[39;00m \u001B[43mregions\u001B[49m\u001B[38;5;241;43m.\u001B[39;49m\u001B[43mitems\u001B[49m():\n\u001B[0;32m      6\u001B[0m     \u001B[38;5;28mprint\u001B[39m(picked)\n\u001B[0;32m      8\u001B[0m     fig_fin\u001B[38;5;241m=\u001B[39mmne\u001B[38;5;241m.\u001B[39mviz\u001B[38;5;241m.\u001B[39mplot_compare_evokeds(evokeds,ci\u001B[38;5;241m=\u001B[39m\u001B[38;5;28;01mFalse\u001B[39;00m, picks\u001B[38;5;241m=\u001B[39mpicked,show_sensors\u001B[38;5;241m=\u001B[39m\u001B[38;5;28;01mTrue\u001B[39;00m,legend\u001B[38;5;241m=\u001B[39m\u001B[38;5;124m'\u001B[39m\u001B[38;5;124mupper right\u001B[39m\u001B[38;5;124m'\u001B[39m,truncate_yaxis\u001B[38;5;241m=\u001B[39m\u001B[38;5;28;01mFalse\u001B[39;00m,axes\u001B[38;5;241m=\u001B[39maxs[n],combine\u001B[38;5;241m=\u001B[39m\u001B[38;5;124m'\u001B[39m\u001B[38;5;124mmean\u001B[39m\u001B[38;5;124m'\u001B[39m,vlines\u001B[38;5;241m=\u001B[39m[\u001B[38;5;241m0\u001B[39m,\u001B[38;5;241m0.49\u001B[39m,\u001B[38;5;241m0.52\u001B[39m],ylim\u001B[38;5;241m=\u001B[39m\u001B[38;5;28mdict\u001B[39m(eeg\u001B[38;5;241m=\u001B[39m[\u001B[38;5;241m-\u001B[39m\u001B[38;5;241m1.5\u001B[39m\u001B[38;5;241m*\u001B[39m\u001B[38;5;241m1e6\u001B[39m,\u001B[38;5;241m1.5\u001B[39m\u001B[38;5;241m*\u001B[39m\u001B[38;5;241m1e6\u001B[39m]))\n",
      "\u001B[1;31mAttributeError\u001B[0m: 'list' object has no attribute 'items'"
     ]
    },
    {
     "data": {
      "text/plain": "<Figure size 720x360 with 3 Axes>",
      "image/png": "[encoded data removed]"
     },
     "metadata": {
      "needs_background": "light"
     },
     "output_type": "display_data"
    }
   ],
   "source": [
    "\n",
    "\n",
    "evokeds=dict(nodc=evo_1,dc=evo_2)\n",
    "\n",
    "fig,axs=plt.subplots(1,3,figsize=(10,5))\n",
    "n=0\n",
    "for regio, picked in regions.items():\n",
    "    print(picked)\n",
    "\n",
    "    fig_fin=mne.viz.plot_compare_evokeds(evokeds,ci=False, picks=picked,show_sensors=True,legend='upper right',truncate_yaxis=False,axes=axs[n],combine='mean',vlines=[0,0.49,0.52],ylim=dict(eeg=[-1.5*1e6,1.5*1e6]))\n",
    "    n+=1\n"
   ],
   "metadata": {
    "collapsed": false,
    "ExecuteTime": {
     "end_time": "2025-05-22T15:11:09.528885100Z",
     "start_time": "2025-05-22T15:11:09.223835300Z"
    }
   }
  },
  {
   "cell_type": "code",
   "execution_count": 154,
   "outputs": [
    {
     "name": "stdout",
     "output_type": "stream",
     "text": [
      "combining channels using \"mean\"\n",
      "combining channels using \"mean\"\n"
     ]
    },
    {
     "name": "stderr",
     "output_type": "stream",
     "text": [
      "C:\\Users\\Vivi\\AppData\\Local\\Temp\\ipykernel_1836\\2005466826.py:5: RuntimeWarning: Only 1 channel in \"picks\"; cannot combine by method \"mean\".\n",
      "  fig_fin=mne.viz.plot_compare_evokeds(evokeds,ci=False, picks='A23',show_sensors=True,legend='upper right',truncate_yaxis=False,combine='mean',vlines=[0,0.49,0.52,0.7],ylim=dict(eeg=[-3*1e6,3*1e6]),linestyles=['-','--','-','--'],colors=['k','k'])\n"
     ]
    }
   ],
   "source": [
    "\n",
    "\n",
    "evokeds=dict(dc=evo_1,nodc=evo_2)\n",
    "\n",
    "\n",
    "\n",
    "fig_fin=mne.viz.plot_compare_evokeds(evokeds,ci=False, picks='A23',show_sensors=True,legend='upper right',truncate_yaxis=False,combine='mean',vlines=[0,0.49,0.52,0.7],ylim=dict(eeg=[-3*1e6,3*1e6]),linestyles=['-','--','-','--'],colors=['k','k'])\n"
   ],
   "metadata": {
    "collapsed": false,
    "ExecuteTime": {
     "end_time": "2025-06-02T08:40:48.452458200Z",
     "start_time": "2025-06-02T08:40:48.186828900Z"
    }
   }
  },
  {
   "cell_type": "code",
   "execution_count": 155,
   "outputs": [],
   "source": [
    "file_dir=f'ana/deconvolution/figures/waveforms_gavg_{modtype}_{erp_type}_{cond}_nodcdc.svg'\n",
    "fig_fin[0].savefig(file_dir,format='svg')"
   ],
   "metadata": {
    "collapsed": false,
    "ExecuteTime": {
     "end_time": "2025-06-02T08:41:05.620665200Z",
     "start_time": "2025-06-02T08:41:05.276907900Z"
    }
   }
  },
  {
   "cell_type": "markdown",
   "source": [
    "# Load erps and export to ep to then perform BF on R"
   ],
   "metadata": {
    "collapsed": false
   }
  },
  {
   "cell_type": "code",
   "execution_count": 5,
   "outputs": [
    {
     "name": "stdout",
     "output_type": "stream",
     "text": [
      "Reading ana/MNE/evo_list/maskOFF/correct/cfa/hep/norm/maskOFF_correct_cfa_hep_norm_R_unaware_list-ave.fif ...\n",
      "    Read a total of 1 projection items:\n",
      "        Average EEG reference (1 x 128) active\n",
      "    Found the data of interest:\n",
      "        t =    -199.22 ...    1000.00 ms (0.51 × hep/normal/correct/unaware/R/exh/RRCU + 0.49 × hep/normal/correct/unaware/R/inh/RRCU\n",
      " G_n= g01)\n",
      "        0 CTF compensation matrices available\n",
      "        nave = 74 - aspect type = 100\n",
      "Projections have already been applied. Setting proj attribute to True.\n",
      "No baseline correction applied\n",
      "    Read a total of 1 projection items:\n",
      "        Average EEG reference (1 x 128) active\n",
      "    Found the data of interest:\n",
      "        t =    -199.22 ...    1000.00 ms (0.61 × hep/normal/correct/unaware/R/exh/RRCU + 0.39 × hep/normal/correct/unaware/R/inh/RRCU\n",
      " G_n= g03)\n",
      "        0 CTF compensation matrices available\n",
      "        nave = 62 - aspect type = 100\n",
      "Projections have already been applied. Setting proj attribute to True.\n",
      "No baseline correction applied\n",
      "    Read a total of 1 projection items:\n",
      "        Average EEG reference (1 x 128) active\n",
      "    Found the data of interest:\n",
      "        t =    -199.22 ...    1000.00 ms (0.64 × hep/normal/correct/unaware/R/exh/RRCU + 0.36 × hep/normal/correct/unaware/R/inh/RRCU\n",
      " G_n= g08)\n",
      "        0 CTF compensation matrices available\n",
      "        nave = 53 - aspect type = 100\n",
      "Projections have already been applied. Setting proj attribute to True.\n",
      "No baseline correction applied\n",
      "    Read a total of 1 projection items:\n",
      "        Average EEG reference (1 x 128) active\n",
      "    Found the data of interest:\n",
      "        t =    -199.22 ...    1000.00 ms (0.51 × hep/normal/correct/unaware/R/exh/RRCU + 0.49 × hep/normal/correct/unaware/R/inh/RRCU\n",
      " G_n= g10)\n",
      "        0 CTF compensation matrices available\n",
      "        nave = 41 - aspect type = 100\n",
      "Projections have already been applied. Setting proj attribute to True.\n",
      "No baseline correction applied\n",
      "    Read a total of 1 projection items:\n",
      "        Average EEG reference (1 x 128) active\n",
      "    Found the data of interest:\n",
      "        t =    -199.22 ...    1000.00 ms (0.58 × hep/normal/correct/unaware/R/exh/RRCU + 0.42 × hep/normal/correct/unaware/R/inh/RRCU\n",
      " G_n= g11)\n",
      "        0 CTF compensation matrices available\n",
      "        nave = 96 - aspect type = 100\n",
      "Projections have already been applied. Setting proj attribute to True.\n",
      "No baseline correction applied\n",
      "    Read a total of 1 projection items:\n",
      "        Average EEG reference (1 x 128) active\n",
      "    Found the data of interest:\n",
      "        t =    -199.22 ...    1000.00 ms (0.44 × hep/normal/correct/unaware/R/exh/RRCU + 0.02 × hep/normal/correct/unaware/R/exh/no_val + 0.53 × hep/normal/correct/unaware/R/inh/RRCU\n",
      " G_n= g12)\n",
      "        0 CTF compensation matrices available\n",
      "        nave = 45 - aspect type = 100\n",
      "Projections have already been applied. Setting proj attribute to True.\n",
      "No baseline correction applied\n",
      "    Read a total of 1 projection items:\n",
      "        Average EEG reference (1 x 128) active\n",
      "    Found the data of interest:\n",
      "        t =    -199.22 ...    1000.00 ms (0.59 × hep/normal/correct/unaware/R/exh/RRCU + 0.41 × hep/normal/correct/unaware/R/inh/RRCU\n",
      " G_n= g15)\n",
      "        0 CTF compensation matrices available\n",
      "        nave = 95 - aspect type = 100\n",
      "Projections have already been applied. Setting proj attribute to True.\n",
      "No baseline correction applied\n",
      "    Read a total of 1 projection items:\n",
      "        Average EEG reference (1 x 128) active\n",
      "    Found the data of interest:\n",
      "        t =    -199.22 ...    1000.00 ms (0.53 × hep/normal/correct/unaware/R/exh/RRCU + 0.47 × hep/normal/correct/unaware/R/inh/RRCU\n",
      " G_n= g16)\n",
      "        0 CTF compensation matrices available\n",
      "        nave = 97 - aspect type = 100\n",
      "Projections have already been applied. Setting proj attribute to True.\n",
      "No baseline correction applied\n",
      "    Read a total of 1 projection items:\n",
      "        Average EEG reference (1 x 128) active\n",
      "    Found the data of interest:\n",
      "        t =    -199.22 ...    1000.00 ms (0.43 × hep/normal/correct/unaware/R/exh/RRCU + 0.57 × hep/normal/correct/unaware/R/inh/RRCU\n",
      " G_n= g17)\n",
      "        0 CTF compensation matrices available\n",
      "        nave = 118 - aspect type = 100\n",
      "Projections have already been applied. Setting proj attribute to True.\n",
      "No baseline correction applied\n",
      "    Read a total of 1 projection items:\n",
      "        Average EEG reference (1 x 128) active\n",
      "    Found the data of interest:\n",
      "        t =    -199.22 ...    1000.00 ms (0.58 × hep/normal/correct/unaware/R/exh/RRCU + 0.42 × hep/normal/correct/unaware/R/inh/RRCU\n",
      " G_n= g19)\n",
      "        0 CTF compensation matrices available\n",
      "        nave = 77 - aspect type = 100\n",
      "Projections have already been applied. Setting proj attribute to True.\n",
      "No baseline correction applied\n",
      "    Read a total of 1 projection items:\n",
      "        Average EEG reference (1 x 128) active\n",
      "    Found the data of interest:\n",
      "        t =    -199.22 ...    1000.00 ms (0.42 × hep/normal/correct/unaware/R/exh/RRCU + 0.58 × hep/normal/correct/unaware/R/inh/RRCU\n",
      " G_n= g23)\n",
      "        0 CTF compensation matrices available\n",
      "        nave = 60 - aspect type = 100\n",
      "Projections have already been applied. Setting proj attribute to True.\n",
      "No baseline correction applied\n",
      "    Read a total of 1 projection items:\n",
      "        Average EEG reference (1 x 128) active\n",
      "    Found the data of interest:\n",
      "        t =    -199.22 ...    1000.00 ms (0.65 × hep/normal/correct/unaware/R/exh/RRCU + 0.01 × hep/normal/correct/unaware/R/exh/no_val + 0.34 × hep/normal/correct/unaware/R/inh/RRCU\n",
      " G_n= g24)\n",
      "        0 CTF compensation matrices available\n",
      "        nave = 88 - aspect type = 100\n",
      "Projections have already been applied. Setting proj attribute to True.\n",
      "No baseline correction applied\n",
      "    Read a total of 1 projection items:\n",
      "        Average EEG reference (1 x 128) active\n",
      "    Found the data of interest:\n",
      "        t =    -199.22 ...    1000.00 ms (0.49 × hep/normal/correct/unaware/R/exh/RRCU + 0.51 × hep/normal/correct/unaware/R/inh/RRCU\n",
      " G_n= g25)\n",
      "        0 CTF compensation matrices available\n",
      "        nave = 77 - aspect type = 100\n",
      "Projections have already been applied. Setting proj attribute to True.\n",
      "No baseline correction applied\n",
      "    Read a total of 1 projection items:\n",
      "        Average EEG reference (1 x 128) active\n",
      "    Found the data of interest:\n",
      "        t =    -199.22 ...    1000.00 ms (0.64 × hep/normal/correct/unaware/R/exh/RRCU + 0.01 × hep/normal/correct/unaware/R/exh/no_val + 0.35 × hep/normal/correct/unaware/R/inh/RRCU\n",
      " G_n= g28)\n",
      "        0 CTF compensation matrices available\n",
      "        nave = 114 - aspect type = 100\n",
      "Projections have already been applied. Setting proj attribute to True.\n",
      "No baseline correction applied\n",
      "    Read a total of 1 projection items:\n",
      "        Average EEG reference (1 x 128) active\n",
      "    Found the data of interest:\n",
      "        t =    -199.22 ...    1000.00 ms (0.54 × hep/normal/correct/unaware/R/exh/RRCU + 0.46 × hep/normal/correct/unaware/R/inh/RRCU\n",
      " G_n= g32)\n",
      "        0 CTF compensation matrices available\n",
      "        nave = 85 - aspect type = 100\n",
      "Projections have already been applied. Setting proj attribute to True.\n",
      "No baseline correction applied\n",
      "    Read a total of 1 projection items:\n",
      "        Average EEG reference (1 x 128) active\n",
      "    Found the data of interest:\n",
      "        t =    -199.22 ...    1000.00 ms (0.64 × hep/normal/correct/unaware/R/exh/RRCU + 0.36 × hep/normal/correct/unaware/R/inh/RRCU\n",
      " G_n= g33)\n",
      "        0 CTF compensation matrices available\n",
      "        nave = 126 - aspect type = 100\n",
      "Projections have already been applied. Setting proj attribute to True.\n",
      "No baseline correction applied\n",
      "    Read a total of 1 projection items:\n",
      "        Average EEG reference (1 x 128) active\n",
      "    Found the data of interest:\n",
      "        t =    -199.22 ...    1000.00 ms (0.52 × hep/normal/correct/unaware/R/exh/RRCU + 0.48 × hep/normal/correct/unaware/R/inh/RRCU\n",
      " G_n= g34)\n",
      "        0 CTF compensation matrices available\n",
      "        nave = 71 - aspect type = 100\n",
      "Projections have already been applied. Setting proj attribute to True.\n",
      "No baseline correction applied\n",
      "    Read a total of 1 projection items:\n",
      "        Average EEG reference (1 x 128) active\n",
      "    Found the data of interest:\n",
      "        t =    -199.22 ...    1000.00 ms (0.32 × hep/normal/correct/unaware/R/exh/RRCU + 0.68 × hep/normal/correct/unaware/R/inh/RRCU\n",
      " G_n= g37)\n",
      "        0 CTF compensation matrices available\n",
      "        nave = 113 - aspect type = 100\n",
      "Projections have already been applied. Setting proj attribute to True.\n",
      "No baseline correction applied\n",
      "    Read a total of 1 projection items:\n",
      "        Average EEG reference (1 x 128) active\n",
      "    Found the data of interest:\n",
      "        t =    -199.22 ...    1000.00 ms (0.61 × hep/normal/correct/unaware/R/exh/RRCU + 0.39 × hep/normal/correct/unaware/R/inh/RRCU\n",
      " G_n= g38)\n",
      "        0 CTF compensation matrices available\n",
      "        nave = 122 - aspect type = 100\n",
      "Projections have already been applied. Setting proj attribute to True.\n",
      "No baseline correction applied\n",
      "    Read a total of 1 projection items:\n",
      "        Average EEG reference (1 x 128) active\n",
      "    Found the data of interest:\n",
      "        t =    -199.22 ...    1000.00 ms (0.72 × hep/normal/correct/unaware/R/exh/RRCU + 0.28 × hep/normal/correct/unaware/R/inh/RRCU\n",
      " G_n= g39)\n",
      "        0 CTF compensation matrices available\n",
      "        nave = 159 - aspect type = 100\n",
      "Projections have already been applied. Setting proj attribute to True.\n",
      "No baseline correction applied\n",
      "    Read a total of 1 projection items:\n",
      "        Average EEG reference (1 x 128) active\n",
      "    Found the data of interest:\n",
      "        t =    -199.22 ...    1000.00 ms (0.55 × hep/normal/correct/unaware/R/exh/RRCU + 0.45 × hep/normal/correct/unaware/R/inh/RRCU\n",
      " G_n= g40)\n",
      "        0 CTF compensation matrices available\n",
      "        nave = 80 - aspect type = 100\n",
      "Projections have already been applied. Setting proj attribute to True.\n",
      "No baseline correction applied\n",
      "    Read a total of 1 projection items:\n",
      "        Average EEG reference (1 x 128) active\n",
      "    Found the data of interest:\n",
      "        t =    -199.22 ...    1000.00 ms (0.51 × hep/normal/correct/unaware/R/exh/RRCU + 0.49 × hep/normal/correct/unaware/R/inh/RRCU\n",
      " G_n= g41)\n",
      "        0 CTF compensation matrices available\n",
      "        nave = 106 - aspect type = 100\n",
      "Projections have already been applied. Setting proj attribute to True.\n",
      "No baseline correction applied\n",
      "    Read a total of 1 projection items:\n",
      "        Average EEG reference (1 x 128) active\n",
      "    Found the data of interest:\n",
      "        t =    -199.22 ...    1000.00 ms (0.51 × hep/normal/correct/unaware/R/exh/RRCU + 0.49 × hep/normal/correct/unaware/R/inh/RRCU\n",
      " G_n= g42)\n",
      "        0 CTF compensation matrices available\n",
      "        nave = 122 - aspect type = 100\n",
      "Projections have already been applied. Setting proj attribute to True.\n",
      "No baseline correction applied\n",
      "    Read a total of 1 projection items:\n",
      "        Average EEG reference (1 x 128) active\n",
      "    Found the data of interest:\n",
      "        t =    -199.22 ...    1000.00 ms (0.53 × hep/normal/correct/unaware/R/exh/RRCU + 0.47 × hep/normal/correct/unaware/R/inh/RRCU\n",
      " G_n= g44)\n",
      "        0 CTF compensation matrices available\n",
      "        nave = 141 - aspect type = 100\n",
      "Projections have already been applied. Setting proj attribute to True.\n",
      "No baseline correction applied\n",
      "    Read a total of 1 projection items:\n",
      "        Average EEG reference (1 x 128) active\n",
      "    Found the data of interest:\n",
      "        t =    -199.22 ...    1000.00 ms (0.64 × hep/normal/correct/unaware/R/exh/RRCU + 0.36 × hep/normal/correct/unaware/R/inh/RRCU\n",
      " G_n= g45)\n",
      "        0 CTF compensation matrices available\n",
      "        nave = 80 - aspect type = 100\n",
      "Projections have already been applied. Setting proj attribute to True.\n",
      "No baseline correction applied\n",
      "    Read a total of 1 projection items:\n",
      "        Average EEG reference (1 x 128) active\n",
      "    Found the data of interest:\n",
      "        t =    -199.22 ...    1000.00 ms (0.31 × hep/normal/correct/unaware/R/exh/RRCU + 0.69 × hep/normal/correct/unaware/R/inh/RRCU\n",
      " G_n= g46)\n",
      "        0 CTF compensation matrices available\n",
      "        nave = 61 - aspect type = 100\n",
      "Projections have already been applied. Setting proj attribute to True.\n",
      "No baseline correction applied\n",
      "    Read a total of 1 projection items:\n",
      "        Average EEG reference (1 x 128) active\n",
      "    Found the data of interest:\n",
      "        t =    -199.22 ...    1000.00 ms (0.47 × hep/normal/correct/unaware/R/exh/RRCU + 0.53 × hep/normal/correct/unaware/R/inh/RRCU\n",
      " G_n= g47)\n",
      "        0 CTF compensation matrices available\n",
      "        nave = 90 - aspect type = 100\n",
      "Projections have already been applied. Setting proj attribute to True.\n",
      "No baseline correction applied\n",
      "    Read a total of 1 projection items:\n",
      "        Average EEG reference (1 x 128) active\n",
      "    Found the data of interest:\n",
      "        t =    -199.22 ...    1000.00 ms (0.53 × hep/normal/correct/unaware/R/exh/RRCU + 0.47 × hep/normal/correct/unaware/R/inh/RRCU\n",
      " G_n= g49)\n",
      "        0 CTF compensation matrices available\n",
      "        nave = 90 - aspect type = 100\n",
      "Projections have already been applied. Setting proj attribute to True.\n",
      "No baseline correction applied\n",
      "    Read a total of 1 projection items:\n",
      "        Average EEG reference (1 x 128) active\n",
      "    Found the data of interest:\n",
      "        t =    -199.22 ...    1000.00 ms (0.56 × hep/normal/correct/unaware/R/exh/RRCU + 0.44 × hep/normal/correct/unaware/R/inh/RRCU\n",
      " G_n= g51)\n",
      "        0 CTF compensation matrices available\n",
      "        nave = 110 - aspect type = 100\n",
      "Projections have already been applied. Setting proj attribute to True.\n",
      "No baseline correction applied\n",
      "    Read a total of 1 projection items:\n",
      "        Average EEG reference (1 x 128) active\n",
      "    Found the data of interest:\n",
      "        t =    -199.22 ...    1000.00 ms (0.58 × hep/normal/correct/unaware/R/exh/RRCU + 0.42 × hep/normal/correct/unaware/R/inh/RRCU\n",
      " G_n= g52)\n",
      "        0 CTF compensation matrices available\n",
      "        nave = 132 - aspect type = 100\n",
      "Projections have already been applied. Setting proj attribute to True.\n",
      "No baseline correction applied\n",
      "Reading ana/MNE/evo_list/maskOFF/correct/cfa/hep/norm/maskOFF_correct_cfa_hep_norm_R2_unaware_list-ave.fif ...\n",
      "    Read a total of 1 projection items:\n",
      "        Average EEG reference (1 x 128) active\n",
      "    Found the data of interest:\n",
      "        t =    -199.22 ...    1000.00 ms (0.61 × hep/normal/correct/unaware/R2/exh/RRCU + 0.39 × hep/normal/correct/unaware/R2/inh/RRCU\n",
      " G_n= g01)\n",
      "        0 CTF compensation matrices available\n",
      "        nave = 224 - aspect type = 100\n",
      "Projections have already been applied. Setting proj attribute to True.\n",
      "No baseline correction applied\n",
      "    Read a total of 1 projection items:\n",
      "        Average EEG reference (1 x 128) active\n",
      "    Found the data of interest:\n",
      "        t =    -199.22 ...    1000.00 ms (0.64 × hep/normal/correct/unaware/R2/exh/RRCU + 0.36 × hep/normal/correct/unaware/R2/inh/RRCU\n",
      " G_n= g03)\n",
      "        0 CTF compensation matrices available\n",
      "        nave = 150 - aspect type = 100\n",
      "Projections have already been applied. Setting proj attribute to True.\n",
      "No baseline correction applied\n",
      "    Read a total of 1 projection items:\n",
      "        Average EEG reference (1 x 128) active\n",
      "    Found the data of interest:\n",
      "        t =    -199.22 ...    1000.00 ms (0.48 × hep/normal/correct/unaware/R2/exh/RRCU + 0.52 × hep/normal/correct/unaware/R2/inh/RRCU\n",
      " G_n= g08)\n",
      "        0 CTF compensation matrices available\n",
      "        nave = 105 - aspect type = 100\n",
      "Projections have already been applied. Setting proj attribute to True.\n",
      "No baseline correction applied\n",
      "    Read a total of 1 projection items:\n",
      "        Average EEG reference (1 x 128) active\n",
      "    Found the data of interest:\n",
      "        t =    -199.22 ...    1000.00 ms (0.60 × hep/normal/correct/unaware/R2/exh/RRCU + 0.40 × hep/normal/correct/unaware/R2/inh/RRCU\n",
      " G_n= g10)\n",
      "        0 CTF compensation matrices available\n",
      "        nave = 146 - aspect type = 100\n",
      "Projections have already been applied. Setting proj attribute to True.\n",
      "No baseline correction applied\n",
      "    Read a total of 1 projection items:\n",
      "        Average EEG reference (1 x 128) active\n",
      "    Found the data of interest:\n",
      "        t =    -199.22 ...    1000.00 ms (0.61 × hep/normal/correct/unaware/R2/exh/RRCU + 0.39 × hep/normal/correct/unaware/R2/inh/RRCU\n",
      " G_n= g11)\n",
      "        0 CTF compensation matrices available\n",
      "        nave = 226 - aspect type = 100\n",
      "Projections have already been applied. Setting proj attribute to True.\n",
      "No baseline correction applied\n",
      "    Read a total of 1 projection items:\n",
      "        Average EEG reference (1 x 128) active\n",
      "    Found the data of interest:\n",
      "        t =    -199.22 ...    1000.00 ms (0.48 × hep/normal/correct/unaware/R2/exh/RRCU + 0.52 × hep/normal/correct/unaware/R2/inh/RRCU\n",
      " G_n= g12)\n",
      "        0 CTF compensation matrices available\n",
      "        nave = 109 - aspect type = 100\n",
      "Projections have already been applied. Setting proj attribute to True.\n",
      "No baseline correction applied\n",
      "    Read a total of 1 projection items:\n",
      "        Average EEG reference (1 x 128) active\n",
      "    Found the data of interest:\n",
      "        t =    -199.22 ...    1000.00 ms (0.59 × hep/normal/correct/unaware/R2/exh/RRCU + 0.41 × hep/normal/correct/unaware/R2/inh/RRCU\n",
      " G_n= g15)\n",
      "        0 CTF compensation matrices available\n",
      "        nave = 234 - aspect type = 100\n",
      "Projections have already been applied. Setting proj attribute to True.\n",
      "No baseline correction applied\n",
      "    Read a total of 1 projection items:\n",
      "        Average EEG reference (1 x 128) active\n",
      "    Found the data of interest:\n",
      "        t =    -199.22 ...    1000.00 ms (0.55 × hep/normal/correct/unaware/R2/exh/RRCU + 0.45 × hep/normal/correct/unaware/R2/inh/RRCU\n",
      " G_n= g16)\n",
      "        0 CTF compensation matrices available\n",
      "        nave = 200 - aspect type = 100\n",
      "Projections have already been applied. Setting proj attribute to True.\n",
      "No baseline correction applied\n",
      "    Read a total of 1 projection items:\n",
      "        Average EEG reference (1 x 128) active\n",
      "    Found the data of interest:\n",
      "        t =    -199.22 ...    1000.00 ms (0.47 × hep/normal/correct/unaware/R2/exh/RRCU + 0.53 × hep/normal/correct/unaware/R2/inh/RRCU\n",
      " G_n= g17)\n",
      "        0 CTF compensation matrices available\n",
      "        nave = 327 - aspect type = 100\n",
      "Projections have already been applied. Setting proj attribute to True.\n",
      "No baseline correction applied\n",
      "    Read a total of 1 projection items:\n",
      "        Average EEG reference (1 x 128) active\n",
      "    Found the data of interest:\n",
      "        t =    -199.22 ...    1000.00 ms (0.60 × hep/normal/correct/unaware/R2/exh/RRCU + 0.40 × hep/normal/correct/unaware/R2/inh/RRCU\n",
      " G_n= g19)\n",
      "        0 CTF compensation matrices available\n",
      "        nave = 159 - aspect type = 100\n",
      "Projections have already been applied. Setting proj attribute to True.\n",
      "No baseline correction applied\n",
      "    Read a total of 1 projection items:\n",
      "        Average EEG reference (1 x 128) active\n",
      "    Found the data of interest:\n",
      "        t =    -199.22 ...    1000.00 ms (0.50 × hep/normal/correct/unaware/R2/exh/RRCU + 0.50 × hep/normal/correct/unaware/R2/inh/RRCU\n",
      " G_n= g23)\n",
      "        0 CTF compensation matrices available\n",
      "        nave = 163 - aspect type = 100\n",
      "Projections have already been applied. Setting proj attribute to True.\n",
      "No baseline correction applied\n",
      "    Read a total of 1 projection items:\n",
      "        Average EEG reference (1 x 128) active\n",
      "    Found the data of interest:\n",
      "        t =    -199.22 ...    1000.00 ms (0.57 × hep/normal/correct/unaware/R2/exh/RRCU + 0.43 × hep/normal/correct/unaware/R2/inh/RRCU\n",
      " G_n= g24)\n",
      "        0 CTF compensation matrices available\n",
      "        nave = 251 - aspect type = 100\n",
      "Projections have already been applied. Setting proj attribute to True.\n",
      "No baseline correction applied\n",
      "    Read a total of 1 projection items:\n",
      "        Average EEG reference (1 x 128) active\n",
      "    Found the data of interest:\n",
      "        t =    -199.22 ...    1000.00 ms (0.57 × hep/normal/correct/unaware/R2/exh/RRCU + 0.43 × hep/normal/correct/unaware/R2/inh/RRCU\n",
      " G_n= g25)\n",
      "        0 CTF compensation matrices available\n",
      "        nave = 168 - aspect type = 100\n",
      "Projections have already been applied. Setting proj attribute to True.\n",
      "No baseline correction applied\n",
      "    Read a total of 1 projection items:\n",
      "        Average EEG reference (1 x 128) active\n",
      "    Found the data of interest:\n",
      "        t =    -199.22 ...    1000.00 ms (0.61 × hep/normal/correct/unaware/R2/exh/RRCU + 0.39 × hep/normal/correct/unaware/R2/inh/RRCU\n",
      " G_n= g28)\n",
      "        0 CTF compensation matrices available\n",
      "        nave = 268 - aspect type = 100\n",
      "Projections have already been applied. Setting proj attribute to True.\n",
      "No baseline correction applied\n",
      "    Read a total of 1 projection items:\n",
      "        Average EEG reference (1 x 128) active\n",
      "    Found the data of interest:\n",
      "        t =    -199.22 ...    1000.00 ms (0.69 × hep/normal/correct/unaware/R2/exh/RRCU + 0.31 × hep/normal/correct/unaware/R2/inh/RRCU\n",
      " G_n= g32)\n",
      "        0 CTF compensation matrices available\n",
      "        nave = 213 - aspect type = 100\n",
      "Projections have already been applied. Setting proj attribute to True.\n",
      "No baseline correction applied\n",
      "    Read a total of 1 projection items:\n",
      "        Average EEG reference (1 x 128) active\n",
      "    Found the data of interest:\n",
      "        t =    -199.22 ...    1000.00 ms (0.70 × hep/normal/correct/unaware/R2/exh/RRCU + 0.30 × hep/normal/correct/unaware/R2/inh/RRCU\n",
      " G_n= g33)\n",
      "        0 CTF compensation matrices available\n",
      "        nave = 250 - aspect type = 100\n",
      "Projections have already been applied. Setting proj attribute to True.\n",
      "No baseline correction applied\n",
      "    Read a total of 1 projection items:\n",
      "        Average EEG reference (1 x 128) active\n",
      "    Found the data of interest:\n",
      "        t =    -199.22 ...    1000.00 ms (0.54 × hep/normal/correct/unaware/R2/exh/RRCU + 0.46 × hep/normal/correct/unaware/R2/inh/RRCU\n",
      " G_n= g34)\n",
      "        0 CTF compensation matrices available\n",
      "        nave = 147 - aspect type = 100\n",
      "Projections have already been applied. Setting proj attribute to True.\n",
      "No baseline correction applied\n",
      "    Read a total of 1 projection items:\n",
      "        Average EEG reference (1 x 128) active\n",
      "    Found the data of interest:\n",
      "        t =    -199.22 ...    1000.00 ms (0.33 × hep/normal/correct/unaware/R2/exh/RRCU + 0.67 × hep/normal/correct/unaware/R2/inh/RRCU\n",
      " G_n= g37)\n",
      "        0 CTF compensation matrices available\n",
      "        nave = 203 - aspect type = 100\n",
      "Projections have already been applied. Setting proj attribute to True.\n",
      "No baseline correction applied\n",
      "    Read a total of 1 projection items:\n",
      "        Average EEG reference (1 x 128) active\n",
      "    Found the data of interest:\n",
      "        t =    -199.22 ...    1000.00 ms (0.63 × hep/normal/correct/unaware/R2/exh/RRCU + 0.37 × hep/normal/correct/unaware/R2/inh/RRCU + 0.00 × hep/normal/correct/unaware/R2/inh/no_val\n",
      " G_n= g38)\n",
      "        0 CTF compensation matrices available\n",
      "        nave = 264 - aspect type = 100\n",
      "Projections have already been applied. Setting proj attribute to True.\n",
      "No baseline correction applied\n",
      "    Read a total of 1 projection items:\n",
      "        Average EEG reference (1 x 128) active\n",
      "    Found the data of interest:\n",
      "        t =    -199.22 ...    1000.00 ms (0.64 × hep/normal/correct/unaware/R2/exh/RRCU + 0.36 × hep/normal/correct/unaware/R2/inh/RRCU\n",
      " G_n= g39)\n",
      "        0 CTF compensation matrices available\n",
      "        nave = 289 - aspect type = 100\n",
      "Projections have already been applied. Setting proj attribute to True.\n",
      "No baseline correction applied\n",
      "    Read a total of 1 projection items:\n",
      "        Average EEG reference (1 x 128) active\n",
      "    Found the data of interest:\n",
      "        t =    -199.22 ...    1000.00 ms (0.68 × hep/normal/correct/unaware/R2/exh/RRCU + 0.32 × hep/normal/correct/unaware/R2/inh/RRCU + 0.00 × hep/normal/correct/unaware/R2/inh/no_val\n",
      " G_n= g40)\n",
      "        0 CTF compensation matrices available\n",
      "        nave = 284 - aspect type = 100\n",
      "Projections have already been applied. Setting proj attribute to True.\n",
      "No baseline correction applied\n",
      "    Read a total of 1 projection items:\n",
      "        Average EEG reference (1 x 128) active\n",
      "    Found the data of interest:\n",
      "        t =    -199.22 ...    1000.00 ms (0.60 × hep/normal/correct/unaware/R2/exh/RRCU + 0.00 × hep/normal/correct/unaware/R2/exh/no_val + 0.39 × hep/normal/correct/unaware/R2/inh/RRCU\n",
      " G_n= g41)\n",
      "        0 CTF compensation matrices available\n",
      "        nave = 364 - aspect type = 100\n",
      "Projections have already been applied. Setting proj attribute to True.\n",
      "No baseline correction applied\n",
      "    Read a total of 1 projection items:\n",
      "        Average EEG reference (1 x 128) active\n",
      "    Found the data of interest:\n",
      "        t =    -199.22 ...    1000.00 ms (0.57 × hep/normal/correct/unaware/R2/exh/RRCU + 0.43 × hep/normal/correct/unaware/R2/inh/RRCU\n",
      " G_n= g42)\n",
      "        0 CTF compensation matrices available\n",
      "        nave = 280 - aspect type = 100\n",
      "Projections have already been applied. Setting proj attribute to True.\n",
      "No baseline correction applied\n",
      "    Read a total of 1 projection items:\n",
      "        Average EEG reference (1 x 128) active\n",
      "    Found the data of interest:\n",
      "        t =    -199.22 ...    1000.00 ms (0.60 × hep/normal/correct/unaware/R2/exh/RRCU + 0.40 × hep/normal/correct/unaware/R2/inh/RRCU\n",
      " G_n= g44)\n",
      "        0 CTF compensation matrices available\n",
      "        nave = 346 - aspect type = 100\n",
      "Projections have already been applied. Setting proj attribute to True.\n",
      "No baseline correction applied\n",
      "    Read a total of 1 projection items:\n",
      "        Average EEG reference (1 x 128) active\n",
      "    Found the data of interest:\n",
      "        t =    -199.22 ...    1000.00 ms (0.62 × hep/normal/correct/unaware/R2/exh/RRCU + 0.38 × hep/normal/correct/unaware/R2/inh/RRCU\n",
      " G_n= g45)\n",
      "        0 CTF compensation matrices available\n",
      "        nave = 195 - aspect type = 100\n",
      "Projections have already been applied. Setting proj attribute to True.\n",
      "No baseline correction applied\n",
      "    Read a total of 1 projection items:\n",
      "        Average EEG reference (1 x 128) active\n",
      "    Found the data of interest:\n",
      "        t =    -199.22 ...    1000.00 ms (0.48 × hep/normal/correct/unaware/R2/exh/RRCU + 0.52 × hep/normal/correct/unaware/R2/inh/RRCU\n",
      " G_n= g46)\n",
      "        0 CTF compensation matrices available\n",
      "        nave = 154 - aspect type = 100\n",
      "Projections have already been applied. Setting proj attribute to True.\n",
      "No baseline correction applied\n",
      "    Read a total of 1 projection items:\n",
      "        Average EEG reference (1 x 128) active\n",
      "    Found the data of interest:\n",
      "        t =    -199.22 ...    1000.00 ms (0.58 × hep/normal/correct/unaware/R2/exh/RRCU + 0.42 × hep/normal/correct/unaware/R2/inh/RRCU\n",
      " G_n= g47)\n",
      "        0 CTF compensation matrices available\n",
      "        nave = 243 - aspect type = 100\n",
      "Projections have already been applied. Setting proj attribute to True.\n",
      "No baseline correction applied\n",
      "    Read a total of 1 projection items:\n",
      "        Average EEG reference (1 x 128) active\n",
      "    Found the data of interest:\n",
      "        t =    -199.22 ...    1000.00 ms (0.60 × hep/normal/correct/unaware/R2/exh/RRCU + 0.40 × hep/normal/correct/unaware/R2/inh/RRCU\n",
      " G_n= g49)\n",
      "        0 CTF compensation matrices available\n",
      "        nave = 228 - aspect type = 100\n",
      "Projections have already been applied. Setting proj attribute to True.\n",
      "No baseline correction applied\n",
      "    Read a total of 1 projection items:\n",
      "        Average EEG reference (1 x 128) active\n",
      "    Found the data of interest:\n",
      "        t =    -199.22 ...    1000.00 ms (0.65 × hep/normal/correct/unaware/R2/exh/RRCU + 0.35 × hep/normal/correct/unaware/R2/inh/RRCU\n",
      " G_n= g51)\n",
      "        0 CTF compensation matrices available\n",
      "        nave = 283 - aspect type = 100\n",
      "Projections have already been applied. Setting proj attribute to True.\n",
      "No baseline correction applied\n",
      "    Read a total of 1 projection items:\n",
      "        Average EEG reference (1 x 128) active\n",
      "    Found the data of interest:\n",
      "        t =    -199.22 ...    1000.00 ms (0.54 × hep/normal/correct/unaware/R2/exh/RRCU + 0.46 × hep/normal/correct/unaware/R2/inh/RRCU\n",
      " G_n= g52)\n",
      "        0 CTF compensation matrices available\n",
      "        nave = 267 - aspect type = 100\n",
      "Projections have already been applied. Setting proj attribute to True.\n",
      "No baseline correction applied\n"
     ]
    }
   ],
   "source": [
    "awa='unaware'\n",
    "if awa=='aware':\n",
    "    cond=\"RRCA\"\n",
    "elif awa=='unaware':\n",
    "    cond=\"RRCU\"\n",
    "else:\n",
    "    print('error in awa cond')\n",
    "\n",
    "\n",
    "filepath='ana/MNE/evo_list/maskOFF/correct/cfa/hep/norm/'\n",
    "filename=f\"maskOFF_correct_cfa_hep_norm_{cond}_list-ave.fif\"\n",
    "fp=filepath+filename\n",
    "evo=mne.read_evokeds(fp)"
   ],
   "metadata": {
    "collapsed": false,
    "ExecuteTime": {
     "end_time": "2025-06-03T08:41:15.169367200Z",
     "start_time": "2025-06-03T08:41:08.866220400Z"
    }
   }
  },
  {
   "cell_type": "code",
   "execution_count": 34,
   "outputs": [],
   "source": [
    "for ev in evo:\n",
    "    g_num=ev.comment[-3:]\n",
    "    ev.crop(None,0.8)\n",
    "    data=ev.data.T\n",
    "    filepath='ana/deconvolution/ep_betas/rawerps/nodc/'\n",
    "    filename=f'{g_num}_{awa}_hep_rawerps_nodc.ep'\n",
    "    fp=filepath+filename\n",
    "    np.savetxt(fp,data)\n"
   ],
   "metadata": {
    "collapsed": false,
    "ExecuteTime": {
     "end_time": "2025-05-07T09:31:22.154765600Z",
     "start_time": "2025-05-07T09:29:37.141436100Z"
    }
   }
  },
  {
   "cell_type": "code",
   "execution_count": 15,
   "outputs": [
    {
     "data": {
      "text/plain": "'g01'"
     },
     "execution_count": 15,
     "metadata": {},
     "output_type": "execute_result"
    }
   ],
   "source": [
    "\n",
    "ev.comment[-3:]"
   ],
   "metadata": {
    "collapsed": false,
    "ExecuteTime": {
     "end_time": "2025-05-07T08:09:03.216543300Z",
     "start_time": "2025-05-07T08:09:03.122789600Z"
    }
   }
  },
  {
   "cell_type": "markdown",
   "source": [
    "# Test ERPs R1 vs R2\n"
   ],
   "metadata": {
    "collapsed": false
   }
  },
  {
   "cell_type": "code",
   "execution_count": 250,
   "outputs": [
    {
     "name": "stdout",
     "output_type": "stream",
     "text": [
      "Reading ana/MNE/evo_list/maskOFF/correct/cfa/hep/norm/maskOFF_correct_cfa_hep_norm_R_list-ave.fif ...\n",
      "    Read a total of 1 projection items:\n",
      "        Average EEG reference (1 x 128) active\n",
      "    Found the data of interest:\n",
      "        t =    -199.22 ...    1000.00 ms (0.31 × hep/normal/correct/aware/R/exh/RRCA + 0.19 × hep/normal/correct/aware/R/inh/RRCA + 0.26 × hep/normal/correct/unaware/R/exh/RRCU + 0.24 × hep/normal/correct/unaware/R/inh/RRCU\n",
      " G_n= g01)\n",
      "        0 CTF compensation matrices available\n",
      "        nave = 147 - aspect type = 100\n",
      "Projections have already been applied. Setting proj attribute to True.\n",
      "No baseline correction applied\n",
      "    Read a total of 1 projection items:\n",
      "        Average EEG reference (1 x 128) active\n",
      "    Found the data of interest:\n",
      "        t =    -199.22 ...    1000.00 ms (0.36 × hep/normal/correct/aware/R/exh/RRCA + 0.31 × hep/normal/correct/aware/R/inh/RRCA + 0.21 × hep/normal/correct/unaware/R/exh/RRCU + 0.13 × hep/normal/correct/unaware/R/inh/RRCU\n",
      " G_n= g03)\n",
      "        0 CTF compensation matrices available\n",
      "        nave = 185 - aspect type = 100\n",
      "Projections have already been applied. Setting proj attribute to True.\n",
      "No baseline correction applied\n",
      "    Read a total of 1 projection items:\n",
      "        Average EEG reference (1 x 128) active\n",
      "    Found the data of interest:\n",
      "        t =    -199.22 ...    1000.00 ms (0.30 × hep/normal/correct/aware/R/exh/RRCA + 0.33 × hep/normal/correct/aware/R/inh/RRCA + 0.01 × hep/normal/correct/aware/R/inh/no_val + 0.23 × hep/normal/correct/unaware/R/exh/RRCU + 0.13 × hep/normal/correct/unaware/R/inh/RRCU\n",
      " G_n= g08)\n",
      "        0 CTF compensation matrices available\n",
      "        nave = 146 - aspect type = 100\n",
      "Projections have already been applied. Setting proj attribute to True.\n",
      "No baseline correction applied\n",
      "    Read a total of 1 projection items:\n",
      "        Average EEG reference (1 x 128) active\n",
      "    Found the data of interest:\n",
      "        t =    -199.22 ...    1000.00 ms (0.41 × hep/normal/correct/aware/R/exh/RRCA + 0.33 × hep/normal/correct/aware/R/inh/RRCA + 0.14 × hep/normal/correct/unaware/R/exh/RRCU + 0.13 × hep/normal/correct/unaware/R/inh/RRCU\n",
      " G_n= g10)\n",
      "        0 CTF compensation matrices available\n",
      "        nave = 155 - aspect type = 100\n",
      "Projections have already been applied. Setting proj attribute to True.\n",
      "No baseline correction applied\n",
      "    Read a total of 1 projection items:\n",
      "        Average EEG reference (1 x 128) active\n",
      "    Found the data of interest:\n",
      "        t =    -199.22 ...    1000.00 ms (0.28 × hep/normal/correct/aware/R/exh/RRCA + 0.23 × hep/normal/correct/aware/R/inh/RRCA + 0.28 × hep/normal/correct/unaware/R/exh/RRCU + 0.20 × hep/normal/correct/unaware/R/inh/RRCU\n",
      " G_n= g11)\n",
      "        0 CTF compensation matrices available\n",
      "        nave = 198 - aspect type = 100\n",
      "Projections have already been applied. Setting proj attribute to True.\n",
      "No baseline correction applied\n",
      "    Read a total of 1 projection items:\n",
      "        Average EEG reference (1 x 128) active\n",
      "    Found the data of interest:\n",
      "        t =    -199.22 ...    1000.00 ms (0.24 × hep/normal/correct/aware/R/exh/RRCA + 0.33 × hep/normal/correct/aware/R/inh/RRCA + 0.19 × hep/normal/correct/unaware/R/exh/RRCU + 0.01 × hep/normal/correct/unaware/R/exh/no_val + 0.23 × hep/normal/correct/unaware/R/inh/RRCU\n",
      " G_n= g12)\n",
      "        0 CTF compensation matrices available\n",
      "        nave = 104 - aspect type = 100\n",
      "Projections have already been applied. Setting proj attribute to True.\n",
      "No baseline correction applied\n",
      "    Read a total of 1 projection items:\n",
      "        Average EEG reference (1 x 128) active\n",
      "    Found the data of interest:\n",
      "        t =    -199.22 ...    1000.00 ms (0.30 × hep/normal/correct/aware/R/exh/RRCA + 0.18 × hep/normal/correct/aware/R/inh/RRCA + 0.30 × hep/normal/correct/unaware/R/exh/RRCU + 0.21 × hep/normal/correct/unaware/R/inh/RRCU\n",
      " G_n= g15)\n",
      "        0 CTF compensation matrices available\n",
      "        nave = 184 - aspect type = 100\n",
      "Projections have already been applied. Setting proj attribute to True.\n",
      "No baseline correction applied\n",
      "    Read a total of 1 projection items:\n",
      "        Average EEG reference (1 x 128) active\n",
      "    Found the data of interest:\n",
      "        t =    -199.22 ...    1000.00 ms (0.23 × hep/normal/correct/aware/R/exh/RRCA + 0.22 × hep/normal/correct/aware/R/inh/RRCA + 0.29 × hep/normal/correct/unaware/R/exh/RRCU + 0.26 × hep/normal/correct/unaware/R/inh/RRCU\n",
      " G_n= g16)\n",
      "        0 CTF compensation matrices available\n",
      "        nave = 178 - aspect type = 100\n",
      "Projections have already been applied. Setting proj attribute to True.\n",
      "No baseline correction applied\n",
      "    Read a total of 1 projection items:\n",
      "        Average EEG reference (1 x 128) active\n",
      "    Found the data of interest:\n",
      "        t =    -199.22 ...    1000.00 ms (0.20 × hep/normal/correct/aware/R/exh/RRCA + 0.25 × hep/normal/correct/aware/R/inh/RRCA + 0.24 × hep/normal/correct/unaware/R/exh/RRCU + 0.31 × hep/normal/correct/unaware/R/inh/RRCU\n",
      " G_n= g17)\n",
      "        0 CTF compensation matrices available\n",
      "        nave = 216 - aspect type = 100\n",
      "Projections have already been applied. Setting proj attribute to True.\n",
      "No baseline correction applied\n",
      "    Read a total of 1 projection items:\n",
      "        Average EEG reference (1 x 128) active\n",
      "    Found the data of interest:\n",
      "        t =    -199.22 ...    1000.00 ms (0.32 × hep/normal/correct/aware/R/exh/RRCA + 0.32 × hep/normal/correct/aware/R/inh/RRCA + 0.22 × hep/normal/correct/unaware/R/exh/RRCU + 0.15 × hep/normal/correct/unaware/R/inh/RRCU\n",
      " G_n= g19)\n",
      "        0 CTF compensation matrices available\n",
      "        nave = 209 - aspect type = 100\n",
      "Projections have already been applied. Setting proj attribute to True.\n",
      "No baseline correction applied\n",
      "    Read a total of 1 projection items:\n",
      "        Average EEG reference (1 x 128) active\n",
      "    Found the data of interest:\n",
      "        t =    -199.22 ...    1000.00 ms (0.31 × hep/normal/correct/aware/R/exh/RRCA + 0.34 × hep/normal/correct/aware/R/inh/RRCA + 0.15 × hep/normal/correct/unaware/R/exh/RRCU + 0.20 × hep/normal/correct/unaware/R/inh/RRCU\n",
      " G_n= g23)\n",
      "        0 CTF compensation matrices available\n",
      "        nave = 171 - aspect type = 100\n",
      "Projections have already been applied. Setting proj attribute to True.\n",
      "No baseline correction applied\n",
      "    Read a total of 1 projection items:\n",
      "        Average EEG reference (1 x 128) active\n",
      "    Found the data of interest:\n",
      "        t =    -199.22 ...    1000.00 ms (0.19 × hep/normal/correct/aware/R/exh/RRCA + 0.01 × hep/normal/correct/aware/R/exh/no_val + 0.16 × hep/normal/correct/aware/R/inh/RRCA + 0.42 × hep/normal/correct/unaware/R/exh/RRCU + 0.01 × hep/normal/correct/unaware/R/exh/no_val + 0.22 × hep/normal/correct/unaware/R/inh/RRCU\n",
      " G_n= g24)\n",
      "        0 CTF compensation matrices available\n",
      "        nave = 135 - aspect type = 100\n",
      "Projections have already been applied. Setting proj attribute to True.\n",
      "No baseline correction applied\n",
      "    Read a total of 1 projection items:\n",
      "        Average EEG reference (1 x 128) active\n",
      "    Found the data of interest:\n",
      "        t =    -199.22 ...    1000.00 ms (0.41 × hep/normal/correct/aware/R/exh/RRCA + 0.27 × hep/normal/correct/aware/R/inh/RRCA + 0.15 × hep/normal/correct/unaware/R/exh/RRCU + 0.16 × hep/normal/correct/unaware/R/inh/RRCU\n",
      " G_n= g25)\n",
      "        0 CTF compensation matrices available\n",
      "        nave = 246 - aspect type = 100\n",
      "Projections have already been applied. Setting proj attribute to True.\n",
      "No baseline correction applied\n",
      "    Read a total of 1 projection items:\n",
      "        Average EEG reference (1 x 128) active\n",
      "    Found the data of interest:\n",
      "        t =    -199.22 ...    1000.00 ms (0.20 × hep/normal/correct/aware/R/exh/RRCA + 0.08 × hep/normal/correct/aware/R/inh/RRCA + 0.46 × hep/normal/correct/unaware/R/exh/RRCU + 0.01 × hep/normal/correct/unaware/R/exh/no_val + 0.25 × hep/normal/correct/unaware/R/inh/RRCU\n",
      " G_n= g28)\n",
      "        0 CTF compensation matrices available\n",
      "        nave = 157 - aspect type = 100\n",
      "Projections have already been applied. Setting proj attribute to True.\n",
      "No baseline correction applied\n",
      "    Read a total of 1 projection items:\n",
      "        Average EEG reference (1 x 128) active\n",
      "    Found the data of interest:\n",
      "        t =    -199.22 ...    1000.00 ms (0.36 × hep/normal/correct/aware/R/exh/RRCA + 0.19 × hep/normal/correct/aware/R/inh/RRCA + 0.25 × hep/normal/correct/unaware/R/exh/RRCU + 0.21 × hep/normal/correct/unaware/R/inh/RRCU\n",
      " G_n= g32)\n",
      "        0 CTF compensation matrices available\n",
      "        nave = 187 - aspect type = 100\n",
      "Projections have already been applied. Setting proj attribute to True.\n",
      "No baseline correction applied\n",
      "    Read a total of 1 projection items:\n",
      "        Average EEG reference (1 x 128) active\n",
      "    Found the data of interest:\n",
      "        t =    -199.22 ...    1000.00 ms (0.31 × hep/normal/correct/aware/R/exh/RRCA + 0.18 × hep/normal/correct/aware/R/inh/RRCA + 0.33 × hep/normal/correct/unaware/R/exh/RRCU + 0.18 × hep/normal/correct/unaware/R/inh/RRCU\n",
      " G_n= g33)\n",
      "        0 CTF compensation matrices available\n",
      "        nave = 248 - aspect type = 100\n",
      "Projections have already been applied. Setting proj attribute to True.\n",
      "No baseline correction applied\n",
      "    Read a total of 1 projection items:\n",
      "        Average EEG reference (1 x 128) active\n",
      "    Found the data of interest:\n",
      "        t =    -199.22 ...    1000.00 ms (0.39 × hep/normal/correct/aware/R/exh/RRCA + 0.27 × hep/normal/correct/aware/R/inh/RRCA + 0.18 × hep/normal/correct/unaware/R/exh/RRCU + 0.17 × hep/normal/correct/unaware/R/inh/RRCU\n",
      " G_n= g34)\n",
      "        0 CTF compensation matrices available\n",
      "        nave = 206 - aspect type = 100\n",
      "Projections have already been applied. Setting proj attribute to True.\n",
      "No baseline correction applied\n",
      "    Read a total of 1 projection items:\n",
      "        Average EEG reference (1 x 128) active\n",
      "    Found the data of interest:\n",
      "        t =    -199.22 ...    1000.00 ms (0.12 × hep/normal/correct/aware/R/exh/RRCA + 0.27 × hep/normal/correct/aware/R/inh/RRCA + 0.19 × hep/normal/correct/unaware/R/exh/RRCU + 0.41 × hep/normal/correct/unaware/R/inh/RRCU\n",
      " G_n= g37)\n",
      "        0 CTF compensation matrices available\n",
      "        nave = 186 - aspect type = 100\n",
      "Projections have already been applied. Setting proj attribute to True.\n",
      "No baseline correction applied\n",
      "    Read a total of 1 projection items:\n",
      "        Average EEG reference (1 x 128) active\n",
      "    Found the data of interest:\n",
      "        t =    -199.22 ...    1000.00 ms (0.25 × hep/normal/correct/aware/R/exh/RRCA + 0.19 × hep/normal/correct/aware/R/inh/RRCA + 0.34 × hep/normal/correct/unaware/R/exh/RRCU + 0.22 × hep/normal/correct/unaware/R/inh/RRCU\n",
      " G_n= g38)\n",
      "        0 CTF compensation matrices available\n",
      "        nave = 220 - aspect type = 100\n",
      "Projections have already been applied. Setting proj attribute to True.\n",
      "No baseline correction applied\n",
      "    Read a total of 1 projection items:\n",
      "        Average EEG reference (1 x 128) active\n",
      "    Found the data of interest:\n",
      "        t =    -199.22 ...    1000.00 ms (0.15 × hep/normal/correct/aware/R/exh/RRCA + 0.17 × hep/normal/correct/aware/R/inh/RRCA + 0.49 × hep/normal/correct/unaware/R/exh/RRCU + 0.19 × hep/normal/correct/unaware/R/inh/RRCU\n",
      " G_n= g39)\n",
      "        0 CTF compensation matrices available\n",
      "        nave = 234 - aspect type = 100\n",
      "Projections have already been applied. Setting proj attribute to True.\n",
      "No baseline correction applied\n",
      "    Read a total of 1 projection items:\n",
      "        Average EEG reference (1 x 128) active\n",
      "    Found the data of interest:\n",
      "        t =    -199.22 ...    1000.00 ms (0.24 × hep/normal/correct/aware/R/exh/RRCA + 0.15 × hep/normal/correct/aware/R/inh/RRCA + 0.34 × hep/normal/correct/unaware/R/exh/RRCU + 0.28 × hep/normal/correct/unaware/R/inh/RRCU\n",
      " G_n= g40)\n",
      "        0 CTF compensation matrices available\n",
      "        nave = 130 - aspect type = 100\n",
      "Projections have already been applied. Setting proj attribute to True.\n",
      "No baseline correction applied\n",
      "    Read a total of 1 projection items:\n",
      "        Average EEG reference (1 x 128) active\n",
      "    Found the data of interest:\n",
      "        t =    -199.22 ...    1000.00 ms (0.20 × hep/normal/correct/aware/R/exh/RRCA + 0.24 × hep/normal/correct/aware/R/inh/RRCA + 0.28 × hep/normal/correct/unaware/R/exh/RRCU + 0.27 × hep/normal/correct/unaware/R/inh/RRCU\n",
      " G_n= g41)\n",
      "        0 CTF compensation matrices available\n",
      "        nave = 190 - aspect type = 100\n",
      "Projections have already been applied. Setting proj attribute to True.\n",
      "No baseline correction applied\n",
      "    Read a total of 1 projection items:\n",
      "        Average EEG reference (1 x 128) active\n",
      "    Found the data of interest:\n",
      "        t =    -199.22 ...    1000.00 ms (0.24 × hep/normal/correct/aware/R/exh/RRCA + 0.21 × hep/normal/correct/aware/R/inh/RRCA + 0.28 × hep/normal/correct/unaware/R/exh/RRCU + 0.27 × hep/normal/correct/unaware/R/inh/RRCU\n",
      " G_n= g42)\n",
      "        0 CTF compensation matrices available\n",
      "        nave = 223 - aspect type = 100\n",
      "Projections have already been applied. Setting proj attribute to True.\n",
      "No baseline correction applied\n",
      "    Read a total of 1 projection items:\n",
      "        Average EEG reference (1 x 128) active\n",
      "    Found the data of interest:\n",
      "        t =    -199.22 ...    1000.00 ms (0.23 × hep/normal/correct/aware/R/exh/RRCA + 0.16 × hep/normal/correct/aware/R/inh/RRCA + 0.32 × hep/normal/correct/unaware/R/exh/RRCU + 0.28 × hep/normal/correct/unaware/R/inh/RRCU\n",
      " G_n= g44)\n",
      "        0 CTF compensation matrices available\n",
      "        nave = 232 - aspect type = 100\n",
      "Projections have already been applied. Setting proj attribute to True.\n",
      "No baseline correction applied\n",
      "    Read a total of 1 projection items:\n",
      "        Average EEG reference (1 x 128) active\n",
      "    Found the data of interest:\n",
      "        t =    -199.22 ...    1000.00 ms (0.39 × hep/normal/correct/aware/R/exh/RRCA + 0.01 × hep/normal/correct/aware/R/exh/no_val + 0.18 × hep/normal/correct/aware/R/inh/RRCA + 0.27 × hep/normal/correct/unaware/R/exh/RRCU + 0.15 × hep/normal/correct/unaware/R/inh/RRCU\n",
      " G_n= g45)\n",
      "        0 CTF compensation matrices available\n",
      "        nave = 188 - aspect type = 100\n",
      "Projections have already been applied. Setting proj attribute to True.\n",
      "No baseline correction applied\n",
      "    Read a total of 1 projection items:\n",
      "        Average EEG reference (1 x 128) active\n",
      "    Found the data of interest:\n",
      "        t =    -199.22 ...    1000.00 ms (0.19 × hep/normal/correct/aware/R/exh/RRCA + 0.38 × hep/normal/correct/aware/R/inh/RRCA + 0.13 × hep/normal/correct/unaware/R/exh/RRCU + 0.30 × hep/normal/correct/unaware/R/inh/RRCU\n",
      " G_n= g46)\n",
      "        0 CTF compensation matrices available\n",
      "        nave = 142 - aspect type = 100\n",
      "Projections have already been applied. Setting proj attribute to True.\n",
      "No baseline correction applied\n",
      "    Read a total of 1 projection items:\n",
      "        Average EEG reference (1 x 128) active\n",
      "    Found the data of interest:\n",
      "        t =    -199.22 ...    1000.00 ms (0.28 × hep/normal/correct/aware/R/exh/RRCA + 0.30 × hep/normal/correct/aware/R/inh/RRCA + 0.20 × hep/normal/correct/unaware/R/exh/RRCU + 0.22 × hep/normal/correct/unaware/R/inh/RRCU\n",
      " G_n= g47)\n",
      "        0 CTF compensation matrices available\n",
      "        nave = 215 - aspect type = 100\n",
      "Projections have already been applied. Setting proj attribute to True.\n",
      "No baseline correction applied\n",
      "    Read a total of 1 projection items:\n",
      "        Average EEG reference (1 x 128) active\n",
      "    Found the data of interest:\n",
      "        t =    -199.22 ...    1000.00 ms (0.29 × hep/normal/correct/aware/R/exh/RRCA + 0.22 × hep/normal/correct/aware/R/inh/RRCA + 0.26 × hep/normal/correct/unaware/R/exh/RRCU + 0.23 × hep/normal/correct/unaware/R/inh/RRCU\n",
      " G_n= g49)\n",
      "        0 CTF compensation matrices available\n",
      "        nave = 182 - aspect type = 100\n",
      "Projections have already been applied. Setting proj attribute to True.\n",
      "No baseline correction applied\n",
      "    Read a total of 1 projection items:\n",
      "        Average EEG reference (1 x 128) active\n",
      "    Found the data of interest:\n",
      "        t =    -199.22 ...    1000.00 ms (0.34 × hep/normal/correct/aware/R/exh/RRCA + 0.16 × hep/normal/correct/aware/R/inh/RRCA + 0.28 × hep/normal/correct/unaware/R/exh/RRCU + 0.22 × hep/normal/correct/unaware/R/inh/RRCU\n",
      " G_n= g51)\n",
      "        0 CTF compensation matrices available\n",
      "        nave = 221 - aspect type = 100\n",
      "Projections have already been applied. Setting proj attribute to True.\n",
      "No baseline correction applied\n",
      "    Read a total of 1 projection items:\n",
      "        Average EEG reference (1 x 128) active\n",
      "    Found the data of interest:\n",
      "        t =    -199.22 ...    1000.00 ms (0.21 × hep/normal/correct/aware/R/exh/RRCA + 0.15 × hep/normal/correct/aware/R/inh/RRCA + 0.37 × hep/normal/correct/unaware/R/exh/RRCU + 0.27 × hep/normal/correct/unaware/R/inh/RRCU\n",
      " G_n= g52)\n",
      "        0 CTF compensation matrices available\n",
      "        nave = 208 - aspect type = 100\n",
      "Projections have already been applied. Setting proj attribute to True.\n",
      "No baseline correction applied\n",
      "Reading ana/MNE/evo_list/maskOFF/correct/cfa/hep/norm/maskOFF_correct_cfa_hep_norm_R2_list-ave.fif ...\n",
      "    Read a total of 1 projection items:\n",
      "        Average EEG reference (1 x 128) active\n",
      "    Found the data of interest:\n",
      "        t =    -199.22 ...    1000.00 ms (0.33 × hep/normal/correct/aware/R2/exh/RRCA + 0.22 × hep/normal/correct/aware/R2/inh/RRCA + 0.27 × hep/normal/correct/unaware/R2/exh/RRCU + 0.18 × hep/normal/correct/unaware/R2/inh/RRCU\n",
      " G_n= g01)\n",
      "        0 CTF compensation matrices available\n",
      "        nave = 496 - aspect type = 100\n",
      "Projections have already been applied. Setting proj attribute to True.\n",
      "No baseline correction applied\n",
      "    Read a total of 1 projection items:\n",
      "        Average EEG reference (1 x 128) active\n",
      "    Found the data of interest:\n",
      "        t =    -199.22 ...    1000.00 ms (0.39 × hep/normal/correct/aware/R2/exh/RRCA + 0.23 × hep/normal/correct/aware/R2/inh/RRCA + 0.24 × hep/normal/correct/unaware/R2/exh/RRCU + 0.14 × hep/normal/correct/unaware/R2/inh/RRCU\n",
      " G_n= g03)\n",
      "        0 CTF compensation matrices available\n",
      "        nave = 399 - aspect type = 100\n",
      "Projections have already been applied. Setting proj attribute to True.\n",
      "No baseline correction applied\n",
      "    Read a total of 1 projection items:\n",
      "        Average EEG reference (1 x 128) active\n",
      "    Found the data of interest:\n",
      "        t =    -199.22 ...    1000.00 ms (0.34 × hep/normal/correct/aware/R2/exh/RRCA + 0.00 × hep/normal/correct/aware/R2/exh/no_val + 0.36 × hep/normal/correct/aware/R2/inh/RRCA + 0.14 × hep/normal/correct/unaware/R2/exh/RRCU + 0.15 × hep/normal/correct/unaware/R2/inh/RRCU\n",
      " G_n= g08)\n",
      "        0 CTF compensation matrices available\n",
      "        nave = 357 - aspect type = 100\n",
      "Projections have already been applied. Setting proj attribute to True.\n",
      "No baseline correction applied\n",
      "    Read a total of 1 projection items:\n",
      "        Average EEG reference (1 x 128) active\n",
      "    Found the data of interest:\n",
      "        t =    -199.22 ...    1000.00 ms (0.41 × hep/normal/correct/aware/R2/exh/RRCA + 0.00 × hep/normal/correct/aware/R2/exh/no_val + 0.25 × hep/normal/correct/aware/R2/inh/RRCA + 0.00 × hep/normal/correct/aware/R2/inh/no_val + 0.20 × hep/normal/correct/unaware/R2/exh/RRCU + 0.14 × hep/normal/correct/unaware/R2/inh/RRCU\n",
      " G_n= g10)\n",
      "        0 CTF compensation matrices available\n",
      "        nave = 434 - aspect type = 100\n",
      "Projections have already been applied. Setting proj attribute to True.\n",
      "No baseline correction applied\n",
      "    Read a total of 1 projection items:\n",
      "        Average EEG reference (1 x 128) active\n",
      "    Found the data of interest:\n",
      "        t =    -199.22 ...    1000.00 ms (0.29 × hep/normal/correct/aware/R2/exh/RRCA + 0.22 × hep/normal/correct/aware/R2/inh/RRCA + 0.30 × hep/normal/correct/unaware/R2/exh/RRCU + 0.19 × hep/normal/correct/unaware/R2/inh/RRCU\n",
      " G_n= g11)\n",
      "        0 CTF compensation matrices available\n",
      "        nave = 461 - aspect type = 100\n",
      "Projections have already been applied. Setting proj attribute to True.\n",
      "No baseline correction applied\n",
      "    Read a total of 1 projection items:\n",
      "        Average EEG reference (1 x 128) active\n",
      "    Found the data of interest:\n",
      "        t =    -199.22 ...    1000.00 ms (0.24 × hep/normal/correct/aware/R2/exh/RRCA + 0.23 × hep/normal/correct/aware/R2/inh/RRCA + 0.25 × hep/normal/correct/unaware/R2/exh/RRCU + 0.28 × hep/normal/correct/unaware/R2/inh/RRCU\n",
      " G_n= g12)\n",
      "        0 CTF compensation matrices available\n",
      "        nave = 204 - aspect type = 100\n",
      "Projections have already been applied. Setting proj attribute to True.\n",
      "No baseline correction applied\n",
      "    Read a total of 1 projection items:\n",
      "        Average EEG reference (1 x 128) active\n",
      "    Found the data of interest:\n",
      "        t =    -199.22 ...    1000.00 ms (0.27 × hep/normal/correct/aware/R2/exh/RRCA + 0.17 × hep/normal/correct/aware/R2/inh/RRCA + 0.33 × hep/normal/correct/unaware/R2/exh/RRCU + 0.23 × hep/normal/correct/unaware/R2/inh/RRCU\n",
      " G_n= g15)\n",
      "        0 CTF compensation matrices available\n",
      "        nave = 418 - aspect type = 100\n",
      "Projections have already been applied. Setting proj attribute to True.\n",
      "No baseline correction applied\n",
      "    Read a total of 1 projection items:\n",
      "        Average EEG reference (1 x 128) active\n",
      "    Found the data of interest:\n",
      "        t =    -199.22 ...    1000.00 ms (0.26 × hep/normal/correct/aware/R2/exh/RRCA + 0.26 × hep/normal/correct/aware/R2/inh/RRCA + 0.27 × hep/normal/correct/unaware/R2/exh/RRCU + 0.22 × hep/normal/correct/unaware/R2/inh/RRCU\n",
      " G_n= g16)\n",
      "        0 CTF compensation matrices available\n",
      "        nave = 414 - aspect type = 100\n",
      "Projections have already been applied. Setting proj attribute to True.\n",
      "No baseline correction applied\n",
      "    Read a total of 1 projection items:\n",
      "        Average EEG reference (1 x 128) active\n",
      "    Found the data of interest:\n",
      "        t =    -199.22 ...    1000.00 ms (0.20 × hep/normal/correct/aware/R2/exh/RRCA + 0.20 × hep/normal/correct/aware/R2/inh/RRCA + 0.28 × hep/normal/correct/unaware/R2/exh/RRCU + 0.32 × hep/normal/correct/unaware/R2/inh/RRCU\n",
      " G_n= g17)\n",
      "        0 CTF compensation matrices available\n",
      "        nave = 547 - aspect type = 100\n",
      "Projections have already been applied. Setting proj attribute to True.\n",
      "No baseline correction applied\n",
      "    Read a total of 1 projection items:\n",
      "        Average EEG reference (1 x 128) active\n",
      "    Found the data of interest:\n",
      "        t =    -199.22 ...    1000.00 ms (0.37 × hep/normal/correct/aware/R2/exh/RRCA + 0.00 × hep/normal/correct/aware/R2/exh/no_val + 0.27 × hep/normal/correct/aware/R2/inh/RRCA + 0.22 × hep/normal/correct/unaware/R2/exh/RRCU + 0.14 × hep/normal/correct/unaware/R2/inh/RRCU\n",
      " G_n= g19)\n",
      "        0 CTF compensation matrices available\n",
      "        nave = 441 - aspect type = 100\n",
      "Projections have already been applied. Setting proj attribute to True.\n",
      "No baseline correction applied\n",
      "    Read a total of 1 projection items:\n",
      "        Average EEG reference (1 x 128) active\n",
      "    Found the data of interest:\n",
      "        t =    -199.22 ...    1000.00 ms (0.34 × hep/normal/correct/aware/R2/exh/RRCA + 0.32 × hep/normal/correct/aware/R2/inh/RRCA + 0.17 × hep/normal/correct/unaware/R2/exh/RRCU + 0.17 × hep/normal/correct/unaware/R2/inh/RRCU\n",
      " G_n= g23)\n",
      "        0 CTF compensation matrices available\n",
      "        nave = 477 - aspect type = 100\n",
      "Projections have already been applied. Setting proj attribute to True.\n",
      "No baseline correction applied\n",
      "    Read a total of 1 projection items:\n",
      "        Average EEG reference (1 x 128) active\n",
      "    Found the data of interest:\n",
      "        t =    -199.22 ...    1000.00 ms (0.17 × hep/normal/correct/aware/R2/exh/RRCA + 0.16 × hep/normal/correct/aware/R2/inh/RRCA + 0.38 × hep/normal/correct/unaware/R2/exh/RRCU + 0.29 × hep/normal/correct/unaware/R2/inh/RRCU\n",
      " G_n= g24)\n",
      "        0 CTF compensation matrices available\n",
      "        nave = 372 - aspect type = 100\n",
      "Projections have already been applied. Setting proj attribute to True.\n",
      "No baseline correction applied\n",
      "    Read a total of 1 projection items:\n",
      "        Average EEG reference (1 x 128) active\n",
      "    Found the data of interest:\n",
      "        t =    -199.22 ...    1000.00 ms (0.38 × hep/normal/correct/aware/R2/exh/RRCA + 0.28 × hep/normal/correct/aware/R2/inh/RRCA + 0.19 × hep/normal/correct/unaware/R2/exh/RRCU + 0.15 × hep/normal/correct/unaware/R2/inh/RRCU\n",
      " G_n= g25)\n",
      "        0 CTF compensation matrices available\n",
      "        nave = 493 - aspect type = 100\n",
      "Projections have already been applied. Setting proj attribute to True.\n",
      "No baseline correction applied\n",
      "    Read a total of 1 projection items:\n",
      "        Average EEG reference (1 x 128) active\n",
      "    Found the data of interest:\n",
      "        t =    -199.22 ...    1000.00 ms (0.22 × hep/normal/correct/aware/R2/exh/RRCA + 0.12 × hep/normal/correct/aware/R2/inh/RRCA + 0.40 × hep/normal/correct/unaware/R2/exh/RRCU + 0.25 × hep/normal/correct/unaware/R2/inh/RRCU\n",
      " G_n= g28)\n",
      "        0 CTF compensation matrices available\n",
      "        nave = 409 - aspect type = 100\n",
      "Projections have already been applied. Setting proj attribute to True.\n",
      "No baseline correction applied\n",
      "    Read a total of 1 projection items:\n",
      "        Average EEG reference (1 x 128) active\n",
      "    Found the data of interest:\n",
      "        t =    -199.22 ...    1000.00 ms (0.37 × hep/normal/correct/aware/R2/exh/RRCA + 0.18 × hep/normal/correct/aware/R2/inh/RRCA + 0.32 × hep/normal/correct/unaware/R2/exh/RRCU + 0.14 × hep/normal/correct/unaware/R2/inh/RRCU\n",
      " G_n= g32)\n",
      "        0 CTF compensation matrices available\n",
      "        nave = 469 - aspect type = 100\n",
      "Projections have already been applied. Setting proj attribute to True.\n",
      "No baseline correction applied\n",
      "    Read a total of 1 projection items:\n",
      "        Average EEG reference (1 x 128) active\n",
      "    Found the data of interest:\n",
      "        t =    -199.22 ...    1000.00 ms (0.28 × hep/normal/correct/aware/R2/exh/RRCA + 0.19 × hep/normal/correct/aware/R2/inh/RRCA + 0.37 × hep/normal/correct/unaware/R2/exh/RRCU + 0.16 × hep/normal/correct/unaware/R2/inh/RRCU\n",
      " G_n= g33)\n",
      "        0 CTF compensation matrices available\n",
      "        nave = 474 - aspect type = 100\n",
      "Projections have already been applied. Setting proj attribute to True.\n",
      "No baseline correction applied\n",
      "    Read a total of 1 projection items:\n",
      "        Average EEG reference (1 x 128) active\n",
      "    Found the data of interest:\n",
      "        t =    -199.22 ...    1000.00 ms (0.42 × hep/normal/correct/aware/R2/exh/RRCA + 0.21 × hep/normal/correct/aware/R2/inh/RRCA + 0.19 × hep/normal/correct/unaware/R2/exh/RRCU + 0.17 × hep/normal/correct/unaware/R2/inh/RRCU\n",
      " G_n= g34)\n",
      "        0 CTF compensation matrices available\n",
      "        nave = 406 - aspect type = 100\n",
      "Projections have already been applied. Setting proj attribute to True.\n",
      "No baseline correction applied\n",
      "    Read a total of 1 projection items:\n",
      "        Average EEG reference (1 x 128) active\n",
      "    Found the data of interest:\n",
      "        t =    -199.22 ...    1000.00 ms (0.13 × hep/normal/correct/aware/R2/exh/RRCA + 0.31 × hep/normal/correct/aware/R2/inh/RRCA + 0.19 × hep/normal/correct/unaware/R2/exh/RRCU + 0.38 × hep/normal/correct/unaware/R2/inh/RRCU\n",
      " G_n= g37)\n",
      "        0 CTF compensation matrices available\n",
      "        nave = 362 - aspect type = 100\n",
      "Projections have already been applied. Setting proj attribute to True.\n",
      "No baseline correction applied\n",
      "    Read a total of 1 projection items:\n",
      "        Average EEG reference (1 x 128) active\n",
      "    Found the data of interest:\n",
      "        t =    -199.22 ...    1000.00 ms (0.27 × hep/normal/correct/aware/R2/exh/RRCA + 0.17 × hep/normal/correct/aware/R2/inh/RRCA + 0.35 × hep/normal/correct/unaware/R2/exh/RRCU + 0.20 × hep/normal/correct/unaware/R2/inh/RRCU + 0.00 × hep/normal/correct/unaware/R2/inh/no_val\n",
      " G_n= g38)\n",
      "        0 CTF compensation matrices available\n",
      "        nave = 474 - aspect type = 100\n",
      "Projections have already been applied. Setting proj attribute to True.\n",
      "No baseline correction applied\n",
      "    Read a total of 1 projection items:\n",
      "        Average EEG reference (1 x 128) active\n",
      "    Found the data of interest:\n",
      "        t =    -199.22 ...    1000.00 ms (0.21 × hep/normal/correct/aware/R2/exh/RRCA + 0.14 × hep/normal/correct/aware/R2/inh/RRCA + 0.00 × hep/normal/correct/aware/R2/inh/no_val + 0.42 × hep/normal/correct/unaware/R2/exh/RRCU + 0.24 × hep/normal/correct/unaware/R2/inh/RRCU\n",
      " G_n= g39)\n",
      "        0 CTF compensation matrices available\n",
      "        nave = 441 - aspect type = 100\n",
      "Projections have already been applied. Setting proj attribute to True.\n",
      "No baseline correction applied\n",
      "    Read a total of 1 projection items:\n",
      "        Average EEG reference (1 x 128) active\n",
      "    Found the data of interest:\n",
      "        t =    -199.22 ...    1000.00 ms (0.25 × hep/normal/correct/aware/R2/exh/RRCA + 0.15 × hep/normal/correct/aware/R2/inh/RRCA + 0.41 × hep/normal/correct/unaware/R2/exh/RRCU + 0.19 × hep/normal/correct/unaware/R2/inh/RRCU + 0.00 × hep/normal/correct/unaware/R2/inh/no_val\n",
      " G_n= g40)\n",
      "        0 CTF compensation matrices available\n",
      "        nave = 474 - aspect type = 100\n",
      "Projections have already been applied. Setting proj attribute to True.\n",
      "No baseline correction applied\n",
      "    Read a total of 1 projection items:\n",
      "        Average EEG reference (1 x 128) active\n",
      "    Found the data of interest:\n",
      "        t =    -199.22 ...    1000.00 ms (0.22 × hep/normal/correct/aware/R2/exh/RRCA + 0.13 × hep/normal/correct/aware/R2/inh/RRCA + 0.39 × hep/normal/correct/unaware/R2/exh/RRCU + 0.00 × hep/normal/correct/unaware/R2/exh/no_val + 0.25 × hep/normal/correct/unaware/R2/inh/RRCU\n",
      " G_n= g41)\n",
      "        0 CTF compensation matrices available\n",
      "        nave = 561 - aspect type = 100\n",
      "Projections have already been applied. Setting proj attribute to True.\n",
      "No baseline correction applied\n",
      "    Read a total of 1 projection items:\n",
      "        Average EEG reference (1 x 128) active\n",
      "    Found the data of interest:\n",
      "        t =    -199.22 ...    1000.00 ms (0.24 × hep/normal/correct/aware/R2/exh/RRCA + 0.23 × hep/normal/correct/aware/R2/inh/RRCA + 0.30 × hep/normal/correct/unaware/R2/exh/RRCU + 0.23 × hep/normal/correct/unaware/R2/inh/RRCU\n",
      " G_n= g42)\n",
      "        0 CTF compensation matrices available\n",
      "        nave = 533 - aspect type = 100\n",
      "Projections have already been applied. Setting proj attribute to True.\n",
      "No baseline correction applied\n",
      "    Read a total of 1 projection items:\n",
      "        Average EEG reference (1 x 128) active\n",
      "    Found the data of interest:\n",
      "        t =    -199.22 ...    1000.00 ms (0.24 × hep/normal/correct/aware/R2/exh/RRCA + 0.14 × hep/normal/correct/aware/R2/inh/RRCA + 0.00 × hep/normal/correct/aware/R2/inh/no_val + 0.37 × hep/normal/correct/unaware/R2/exh/RRCU + 0.25 × hep/normal/correct/unaware/R2/inh/RRCU\n",
      " G_n= g44)\n",
      "        0 CTF compensation matrices available\n",
      "        nave = 557 - aspect type = 100\n",
      "Projections have already been applied. Setting proj attribute to True.\n",
      "No baseline correction applied\n",
      "    Read a total of 1 projection items:\n",
      "        Average EEG reference (1 x 128) active\n",
      "    Found the data of interest:\n",
      "        t =    -199.22 ...    1000.00 ms (0.41 × hep/normal/correct/aware/R2/exh/RRCA + 0.00 × hep/normal/correct/aware/R2/exh/no_val + 0.20 × hep/normal/correct/aware/R2/inh/RRCA + 0.24 × hep/normal/correct/unaware/R2/exh/RRCU + 0.15 × hep/normal/correct/unaware/R2/inh/RRCU\n",
      " G_n= g45)\n",
      "        0 CTF compensation matrices available\n",
      "        nave = 496 - aspect type = 100\n",
      "Projections have already been applied. Setting proj attribute to True.\n",
      "No baseline correction applied\n",
      "    Read a total of 1 projection items:\n",
      "        Average EEG reference (1 x 128) active\n",
      "    Found the data of interest:\n",
      "        t =    -199.22 ...    1000.00 ms (0.34 × hep/normal/correct/aware/R2/exh/RRCA + 0.00 × hep/normal/correct/aware/R2/exh/no_val + 0.30 × hep/normal/correct/aware/R2/inh/RRCA + 0.17 × hep/normal/correct/unaware/R2/exh/RRCU + 0.18 × hep/normal/correct/unaware/R2/inh/RRCU\n",
      " G_n= g46)\n",
      "        0 CTF compensation matrices available\n",
      "        nave = 435 - aspect type = 100\n",
      "Projections have already been applied. Setting proj attribute to True.\n",
      "No baseline correction applied\n",
      "    Read a total of 1 projection items:\n",
      "        Average EEG reference (1 x 128) active\n",
      "    Found the data of interest:\n",
      "        t =    -199.22 ...    1000.00 ms (0.32 × hep/normal/correct/aware/R2/exh/RRCA + 0.24 × hep/normal/correct/aware/R2/inh/RRCA + 0.25 × hep/normal/correct/unaware/R2/exh/RRCU + 0.19 × hep/normal/correct/unaware/R2/inh/RRCU\n",
      " G_n= g47)\n",
      "        0 CTF compensation matrices available\n",
      "        nave = 553 - aspect type = 100\n",
      "Projections have already been applied. Setting proj attribute to True.\n",
      "No baseline correction applied\n",
      "    Read a total of 1 projection items:\n",
      "        Average EEG reference (1 x 128) active\n",
      "    Found the data of interest:\n",
      "        t =    -199.22 ...    1000.00 ms (0.30 × hep/normal/correct/aware/R2/exh/RRCA + 0.16 × hep/normal/correct/aware/R2/inh/RRCA + 0.32 × hep/normal/correct/unaware/R2/exh/RRCU + 0.21 × hep/normal/correct/unaware/R2/inh/RRCU\n",
      " G_n= g49)\n",
      "        0 CTF compensation matrices available\n",
      "        nave = 424 - aspect type = 100\n",
      "Projections have already been applied. Setting proj attribute to True.\n",
      "No baseline correction applied\n",
      "    Read a total of 1 projection items:\n",
      "        Average EEG reference (1 x 128) active\n",
      "    Found the data of interest:\n",
      "        t =    -199.22 ...    1000.00 ms (0.32 × hep/normal/correct/aware/R2/exh/RRCA + 0.13 × hep/normal/correct/aware/R2/inh/RRCA + 0.36 × hep/normal/correct/unaware/R2/exh/RRCU + 0.19 × hep/normal/correct/unaware/R2/inh/RRCU\n",
      " G_n= g51)\n",
      "        0 CTF compensation matrices available\n",
      "        nave = 515 - aspect type = 100\n",
      "Projections have already been applied. Setting proj attribute to True.\n",
      "No baseline correction applied\n",
      "    Read a total of 1 projection items:\n",
      "        Average EEG reference (1 x 128) active\n",
      "    Found the data of interest:\n",
      "        t =    -199.22 ...    1000.00 ms (0.22 × hep/normal/correct/aware/R2/exh/RRCA + 0.18 × hep/normal/correct/aware/R2/inh/RRCA + 0.32 × hep/normal/correct/unaware/R2/exh/RRCU + 0.28 × hep/normal/correct/unaware/R2/inh/RRCU\n",
      " G_n= g52)\n",
      "        0 CTF compensation matrices available\n",
      "        nave = 445 - aspect type = 100\n",
      "Projections have already been applied. Setting proj attribute to True.\n",
      "No baseline correction applied\n"
     ]
    }
   ],
   "source": [
    "cond1='R'\n",
    "cond2='R2'\n",
    "filepath='ana/MNE/evo_list/maskOFF/correct/cfa/hep/norm/'\n",
    "filename_1=f\"maskOFF_correct_cfa_hep_norm_{cond1}_list-ave.fif\"\n",
    "fp_1=filepath+filename_1\n",
    "evo_1=mne.read_evokeds(fp_1)\n",
    "filename_2=f\"maskOFF_correct_cfa_hep_norm_{cond2}_list-ave.fif\"\n",
    "fp_2=filepath+filename_2\n",
    "evo_2=mne.read_evokeds(fp_2)"
   ],
   "metadata": {
    "collapsed": false,
    "ExecuteTime": {
     "end_time": "2025-05-13T14:07:14.999617500Z",
     "start_time": "2025-05-13T14:07:08.100189800Z"
    }
   }
  },
  {
   "cell_type": "code",
   "execution_count": 136,
   "outputs": [
    {
     "name": "stderr",
     "output_type": "stream",
     "text": [
      "C:\\Users\\Vivi\\Documents\\GitHub\\unfold_proj\\stats\\stats_helper.py:134: RuntimeWarning: tmin is not in Evoked time interval. tmin is set to evoked.tmin (-0.199219 sec)\n",
      "  data_crop = evoked[0].copy().crop(crop_value[0], crop_value[1])\n",
      "C:\\Users\\Vivi\\Documents\\GitHub\\unfold_proj\\stats\\stats_helper.py:151: RuntimeWarning: tmin is not in Evoked time interval. tmin is set to evoked.tmin (-0.199219 sec)\n",
      "  X[idx, :, :] = ev.copy().crop(crop_value[0], crop_value[1]).data\n",
      "C:\\Users\\Vivi\\Documents\\GitHub\\unfold_proj\\stats\\stats_helper.py:151: RuntimeWarning: tmin is not in Evoked time interval. tmin is set to evoked.tmin (-0.199219 sec)\n",
      "  X[idx, :, :] = ev.copy().crop(crop_value[0], crop_value[1]).data\n",
      "C:\\Users\\Vivi\\Documents\\GitHub\\unfold_proj\\stats\\stats_helper.py:151: RuntimeWarning: tmin is not in Evoked time interval. tmin is set to evoked.tmin (-0.199219 sec)\n",
      "  X[idx, :, :] = ev.copy().crop(crop_value[0], crop_value[1]).data\n",
      "C:\\Users\\Vivi\\Documents\\GitHub\\unfold_proj\\stats\\stats_helper.py:151: RuntimeWarning: tmin is not in Evoked time interval. tmin is set to evoked.tmin (-0.199219 sec)\n",
      "  X[idx, :, :] = ev.copy().crop(crop_value[0], crop_value[1]).data\n",
      "C:\\Users\\Vivi\\Documents\\GitHub\\unfold_proj\\stats\\stats_helper.py:151: RuntimeWarning: tmin is not in Evoked time interval. tmin is set to evoked.tmin (-0.199219 sec)\n",
      "  X[idx, :, :] = ev.copy().crop(crop_value[0], crop_value[1]).data\n",
      "C:\\Users\\Vivi\\Documents\\GitHub\\unfold_proj\\stats\\stats_helper.py:151: RuntimeWarning: tmin is not in Evoked time interval. tmin is set to evoked.tmin (-0.199219 sec)\n",
      "  X[idx, :, :] = ev.copy().crop(crop_value[0], crop_value[1]).data\n",
      "C:\\Users\\Vivi\\Documents\\GitHub\\unfold_proj\\stats\\stats_helper.py:151: RuntimeWarning: tmin is not in Evoked time interval. tmin is set to evoked.tmin (-0.199219 sec)\n",
      "  X[idx, :, :] = ev.copy().crop(crop_value[0], crop_value[1]).data\n",
      "C:\\Users\\Vivi\\Documents\\GitHub\\unfold_proj\\stats\\stats_helper.py:151: RuntimeWarning: tmin is not in Evoked time interval. tmin is set to evoked.tmin (-0.199219 sec)\n",
      "  X[idx, :, :] = ev.copy().crop(crop_value[0], crop_value[1]).data\n",
      "C:\\Users\\Vivi\\Documents\\GitHub\\unfold_proj\\stats\\stats_helper.py:151: RuntimeWarning: tmin is not in Evoked time interval. tmin is set to evoked.tmin (-0.199219 sec)\n",
      "  X[idx, :, :] = ev.copy().crop(crop_value[0], crop_value[1]).data\n",
      "C:\\Users\\Vivi\\Documents\\GitHub\\unfold_proj\\stats\\stats_helper.py:151: RuntimeWarning: tmin is not in Evoked time interval. tmin is set to evoked.tmin (-0.199219 sec)\n",
      "  X[idx, :, :] = ev.copy().crop(crop_value[0], crop_value[1]).data\n",
      "C:\\Users\\Vivi\\Documents\\GitHub\\unfold_proj\\stats\\stats_helper.py:151: RuntimeWarning: tmin is not in Evoked time interval. tmin is set to evoked.tmin (-0.199219 sec)\n",
      "  X[idx, :, :] = ev.copy().crop(crop_value[0], crop_value[1]).data\n",
      "C:\\Users\\Vivi\\Documents\\GitHub\\unfold_proj\\stats\\stats_helper.py:151: RuntimeWarning: tmin is not in Evoked time interval. tmin is set to evoked.tmin (-0.199219 sec)\n",
      "  X[idx, :, :] = ev.copy().crop(crop_value[0], crop_value[1]).data\n",
      "C:\\Users\\Vivi\\Documents\\GitHub\\unfold_proj\\stats\\stats_helper.py:151: RuntimeWarning: tmin is not in Evoked time interval. tmin is set to evoked.tmin (-0.199219 sec)\n",
      "  X[idx, :, :] = ev.copy().crop(crop_value[0], crop_value[1]).data\n",
      "C:\\Users\\Vivi\\Documents\\GitHub\\unfold_proj\\stats\\stats_helper.py:151: RuntimeWarning: tmin is not in Evoked time interval. tmin is set to evoked.tmin (-0.199219 sec)\n",
      "  X[idx, :, :] = ev.copy().crop(crop_value[0], crop_value[1]).data\n",
      "C:\\Users\\Vivi\\Documents\\GitHub\\unfold_proj\\stats\\stats_helper.py:151: RuntimeWarning: tmin is not in Evoked time interval. tmin is set to evoked.tmin (-0.199219 sec)\n",
      "  X[idx, :, :] = ev.copy().crop(crop_value[0], crop_value[1]).data\n",
      "C:\\Users\\Vivi\\Documents\\GitHub\\unfold_proj\\stats\\stats_helper.py:151: RuntimeWarning: tmin is not in Evoked time interval. tmin is set to evoked.tmin (-0.199219 sec)\n",
      "  X[idx, :, :] = ev.copy().crop(crop_value[0], crop_value[1]).data\n",
      "C:\\Users\\Vivi\\Documents\\GitHub\\unfold_proj\\stats\\stats_helper.py:151: RuntimeWarning: tmin is not in Evoked time interval. tmin is set to evoked.tmin (-0.199219 sec)\n",
      "  X[idx, :, :] = ev.copy().crop(crop_value[0], crop_value[1]).data\n",
      "C:\\Users\\Vivi\\Documents\\GitHub\\unfold_proj\\stats\\stats_helper.py:151: RuntimeWarning: tmin is not in Evoked time interval. tmin is set to evoked.tmin (-0.199219 sec)\n",
      "  X[idx, :, :] = ev.copy().crop(crop_value[0], crop_value[1]).data\n",
      "C:\\Users\\Vivi\\Documents\\GitHub\\unfold_proj\\stats\\stats_helper.py:151: RuntimeWarning: tmin is not in Evoked time interval. tmin is set to evoked.tmin (-0.199219 sec)\n",
      "  X[idx, :, :] = ev.copy().crop(crop_value[0], crop_value[1]).data\n",
      "C:\\Users\\Vivi\\Documents\\GitHub\\unfold_proj\\stats\\stats_helper.py:151: RuntimeWarning: tmin is not in Evoked time interval. tmin is set to evoked.tmin (-0.199219 sec)\n",
      "  X[idx, :, :] = ev.copy().crop(crop_value[0], crop_value[1]).data\n",
      "C:\\Users\\Vivi\\Documents\\GitHub\\unfold_proj\\stats\\stats_helper.py:151: RuntimeWarning: tmin is not in Evoked time interval. tmin is set to evoked.tmin (-0.199219 sec)\n",
      "  X[idx, :, :] = ev.copy().crop(crop_value[0], crop_value[1]).data\n",
      "C:\\Users\\Vivi\\Documents\\GitHub\\unfold_proj\\stats\\stats_helper.py:151: RuntimeWarning: tmin is not in Evoked time interval. tmin is set to evoked.tmin (-0.199219 sec)\n",
      "  X[idx, :, :] = ev.copy().crop(crop_value[0], crop_value[1]).data\n",
      "C:\\Users\\Vivi\\Documents\\GitHub\\unfold_proj\\stats\\stats_helper.py:151: RuntimeWarning: tmin is not in Evoked time interval. tmin is set to evoked.tmin (-0.199219 sec)\n",
      "  X[idx, :, :] = ev.copy().crop(crop_value[0], crop_value[1]).data\n",
      "C:\\Users\\Vivi\\Documents\\GitHub\\unfold_proj\\stats\\stats_helper.py:151: RuntimeWarning: tmin is not in Evoked time interval. tmin is set to evoked.tmin (-0.199219 sec)\n",
      "  X[idx, :, :] = ev.copy().crop(crop_value[0], crop_value[1]).data\n",
      "C:\\Users\\Vivi\\Documents\\GitHub\\unfold_proj\\stats\\stats_helper.py:151: RuntimeWarning: tmin is not in Evoked time interval. tmin is set to evoked.tmin (-0.199219 sec)\n",
      "  X[idx, :, :] = ev.copy().crop(crop_value[0], crop_value[1]).data\n",
      "C:\\Users\\Vivi\\Documents\\GitHub\\unfold_proj\\stats\\stats_helper.py:151: RuntimeWarning: tmin is not in Evoked time interval. tmin is set to evoked.tmin (-0.199219 sec)\n",
      "  X[idx, :, :] = ev.copy().crop(crop_value[0], crop_value[1]).data\n",
      "C:\\Users\\Vivi\\Documents\\GitHub\\unfold_proj\\stats\\stats_helper.py:151: RuntimeWarning: tmin is not in Evoked time interval. tmin is set to evoked.tmin (-0.199219 sec)\n",
      "  X[idx, :, :] = ev.copy().crop(crop_value[0], crop_value[1]).data\n",
      "C:\\Users\\Vivi\\Documents\\GitHub\\unfold_proj\\stats\\stats_helper.py:151: RuntimeWarning: tmin is not in Evoked time interval. tmin is set to evoked.tmin (-0.199219 sec)\n",
      "  X[idx, :, :] = ev.copy().crop(crop_value[0], crop_value[1]).data\n",
      "C:\\Users\\Vivi\\Documents\\GitHub\\unfold_proj\\stats\\stats_helper.py:151: RuntimeWarning: tmin is not in Evoked time interval. tmin is set to evoked.tmin (-0.199219 sec)\n",
      "  X[idx, :, :] = ev.copy().crop(crop_value[0], crop_value[1]).data\n",
      "C:\\Users\\Vivi\\Documents\\GitHub\\unfold_proj\\stats\\stats_helper.py:151: RuntimeWarning: tmin is not in Evoked time interval. tmin is set to evoked.tmin (-0.199219 sec)\n",
      "  X[idx, :, :] = ev.copy().crop(crop_value[0], crop_value[1]).data\n",
      "C:\\Users\\Vivi\\Documents\\GitHub\\unfold_proj\\stats\\stats_helper.py:134: RuntimeWarning: tmin is not in Evoked time interval. tmin is set to evoked.tmin (-0.199219 sec)\n",
      "  data_crop = evoked[0].copy().crop(crop_value[0], crop_value[1])\n",
      "C:\\Users\\Vivi\\Documents\\GitHub\\unfold_proj\\stats\\stats_helper.py:151: RuntimeWarning: tmin is not in Evoked time interval. tmin is set to evoked.tmin (-0.199219 sec)\n",
      "  X[idx, :, :] = ev.copy().crop(crop_value[0], crop_value[1]).data\n",
      "C:\\Users\\Vivi\\Documents\\GitHub\\unfold_proj\\stats\\stats_helper.py:151: RuntimeWarning: tmin is not in Evoked time interval. tmin is set to evoked.tmin (-0.199219 sec)\n",
      "  X[idx, :, :] = ev.copy().crop(crop_value[0], crop_value[1]).data\n",
      "C:\\Users\\Vivi\\Documents\\GitHub\\unfold_proj\\stats\\stats_helper.py:151: RuntimeWarning: tmin is not in Evoked time interval. tmin is set to evoked.tmin (-0.199219 sec)\n",
      "  X[idx, :, :] = ev.copy().crop(crop_value[0], crop_value[1]).data\n",
      "C:\\Users\\Vivi\\Documents\\GitHub\\unfold_proj\\stats\\stats_helper.py:151: RuntimeWarning: tmin is not in Evoked time interval. tmin is set to evoked.tmin (-0.199219 sec)\n",
      "  X[idx, :, :] = ev.copy().crop(crop_value[0], crop_value[1]).data\n",
      "C:\\Users\\Vivi\\Documents\\GitHub\\unfold_proj\\stats\\stats_helper.py:151: RuntimeWarning: tmin is not in Evoked time interval. tmin is set to evoked.tmin (-0.199219 sec)\n",
      "  X[idx, :, :] = ev.copy().crop(crop_value[0], crop_value[1]).data\n",
      "C:\\Users\\Vivi\\Documents\\GitHub\\unfold_proj\\stats\\stats_helper.py:151: RuntimeWarning: tmin is not in Evoked time interval. tmin is set to evoked.tmin (-0.199219 sec)\n",
      "  X[idx, :, :] = ev.copy().crop(crop_value[0], crop_value[1]).data\n",
      "C:\\Users\\Vivi\\Documents\\GitHub\\unfold_proj\\stats\\stats_helper.py:151: RuntimeWarning: tmin is not in Evoked time interval. tmin is set to evoked.tmin (-0.199219 sec)\n",
      "  X[idx, :, :] = ev.copy().crop(crop_value[0], crop_value[1]).data\n",
      "C:\\Users\\Vivi\\Documents\\GitHub\\unfold_proj\\stats\\stats_helper.py:151: RuntimeWarning: tmin is not in Evoked time interval. tmin is set to evoked.tmin (-0.199219 sec)\n",
      "  X[idx, :, :] = ev.copy().crop(crop_value[0], crop_value[1]).data\n",
      "C:\\Users\\Vivi\\Documents\\GitHub\\unfold_proj\\stats\\stats_helper.py:151: RuntimeWarning: tmin is not in Evoked time interval. tmin is set to evoked.tmin (-0.199219 sec)\n",
      "  X[idx, :, :] = ev.copy().crop(crop_value[0], crop_value[1]).data\n",
      "C:\\Users\\Vivi\\Documents\\GitHub\\unfold_proj\\stats\\stats_helper.py:151: RuntimeWarning: tmin is not in Evoked time interval. tmin is set to evoked.tmin (-0.199219 sec)\n",
      "  X[idx, :, :] = ev.copy().crop(crop_value[0], crop_value[1]).data\n",
      "C:\\Users\\Vivi\\Documents\\GitHub\\unfold_proj\\stats\\stats_helper.py:151: RuntimeWarning: tmin is not in Evoked time interval. tmin is set to evoked.tmin (-0.199219 sec)\n",
      "  X[idx, :, :] = ev.copy().crop(crop_value[0], crop_value[1]).data\n",
      "C:\\Users\\Vivi\\Documents\\GitHub\\unfold_proj\\stats\\stats_helper.py:151: RuntimeWarning: tmin is not in Evoked time interval. tmin is set to evoked.tmin (-0.199219 sec)\n",
      "  X[idx, :, :] = ev.copy().crop(crop_value[0], crop_value[1]).data\n",
      "C:\\Users\\Vivi\\Documents\\GitHub\\unfold_proj\\stats\\stats_helper.py:151: RuntimeWarning: tmin is not in Evoked time interval. tmin is set to evoked.tmin (-0.199219 sec)\n",
      "  X[idx, :, :] = ev.copy().crop(crop_value[0], crop_value[1]).data\n",
      "C:\\Users\\Vivi\\Documents\\GitHub\\unfold_proj\\stats\\stats_helper.py:151: RuntimeWarning: tmin is not in Evoked time interval. tmin is set to evoked.tmin (-0.199219 sec)\n",
      "  X[idx, :, :] = ev.copy().crop(crop_value[0], crop_value[1]).data\n",
      "C:\\Users\\Vivi\\Documents\\GitHub\\unfold_proj\\stats\\stats_helper.py:151: RuntimeWarning: tmin is not in Evoked time interval. tmin is set to evoked.tmin (-0.199219 sec)\n",
      "  X[idx, :, :] = ev.copy().crop(crop_value[0], crop_value[1]).data\n",
      "C:\\Users\\Vivi\\Documents\\GitHub\\unfold_proj\\stats\\stats_helper.py:151: RuntimeWarning: tmin is not in Evoked time interval. tmin is set to evoked.tmin (-0.199219 sec)\n",
      "  X[idx, :, :] = ev.copy().crop(crop_value[0], crop_value[1]).data\n",
      "C:\\Users\\Vivi\\Documents\\GitHub\\unfold_proj\\stats\\stats_helper.py:151: RuntimeWarning: tmin is not in Evoked time interval. tmin is set to evoked.tmin (-0.199219 sec)\n",
      "  X[idx, :, :] = ev.copy().crop(crop_value[0], crop_value[1]).data\n",
      "C:\\Users\\Vivi\\Documents\\GitHub\\unfold_proj\\stats\\stats_helper.py:151: RuntimeWarning: tmin is not in Evoked time interval. tmin is set to evoked.tmin (-0.199219 sec)\n",
      "  X[idx, :, :] = ev.copy().crop(crop_value[0], crop_value[1]).data\n",
      "C:\\Users\\Vivi\\Documents\\GitHub\\unfold_proj\\stats\\stats_helper.py:151: RuntimeWarning: tmin is not in Evoked time interval. tmin is set to evoked.tmin (-0.199219 sec)\n",
      "  X[idx, :, :] = ev.copy().crop(crop_value[0], crop_value[1]).data\n",
      "C:\\Users\\Vivi\\Documents\\GitHub\\unfold_proj\\stats\\stats_helper.py:151: RuntimeWarning: tmin is not in Evoked time interval. tmin is set to evoked.tmin (-0.199219 sec)\n",
      "  X[idx, :, :] = ev.copy().crop(crop_value[0], crop_value[1]).data\n",
      "C:\\Users\\Vivi\\Documents\\GitHub\\unfold_proj\\stats\\stats_helper.py:151: RuntimeWarning: tmin is not in Evoked time interval. tmin is set to evoked.tmin (-0.199219 sec)\n",
      "  X[idx, :, :] = ev.copy().crop(crop_value[0], crop_value[1]).data\n",
      "C:\\Users\\Vivi\\Documents\\GitHub\\unfold_proj\\stats\\stats_helper.py:151: RuntimeWarning: tmin is not in Evoked time interval. tmin is set to evoked.tmin (-0.199219 sec)\n",
      "  X[idx, :, :] = ev.copy().crop(crop_value[0], crop_value[1]).data\n",
      "C:\\Users\\Vivi\\Documents\\GitHub\\unfold_proj\\stats\\stats_helper.py:151: RuntimeWarning: tmin is not in Evoked time interval. tmin is set to evoked.tmin (-0.199219 sec)\n",
      "  X[idx, :, :] = ev.copy().crop(crop_value[0], crop_value[1]).data\n",
      "C:\\Users\\Vivi\\Documents\\GitHub\\unfold_proj\\stats\\stats_helper.py:151: RuntimeWarning: tmin is not in Evoked time interval. tmin is set to evoked.tmin (-0.199219 sec)\n",
      "  X[idx, :, :] = ev.copy().crop(crop_value[0], crop_value[1]).data\n",
      "C:\\Users\\Vivi\\Documents\\GitHub\\unfold_proj\\stats\\stats_helper.py:151: RuntimeWarning: tmin is not in Evoked time interval. tmin is set to evoked.tmin (-0.199219 sec)\n",
      "  X[idx, :, :] = ev.copy().crop(crop_value[0], crop_value[1]).data\n",
      "C:\\Users\\Vivi\\Documents\\GitHub\\unfold_proj\\stats\\stats_helper.py:151: RuntimeWarning: tmin is not in Evoked time interval. tmin is set to evoked.tmin (-0.199219 sec)\n",
      "  X[idx, :, :] = ev.copy().crop(crop_value[0], crop_value[1]).data\n",
      "C:\\Users\\Vivi\\Documents\\GitHub\\unfold_proj\\stats\\stats_helper.py:151: RuntimeWarning: tmin is not in Evoked time interval. tmin is set to evoked.tmin (-0.199219 sec)\n",
      "  X[idx, :, :] = ev.copy().crop(crop_value[0], crop_value[1]).data\n",
      "C:\\Users\\Vivi\\Documents\\GitHub\\unfold_proj\\stats\\stats_helper.py:151: RuntimeWarning: tmin is not in Evoked time interval. tmin is set to evoked.tmin (-0.199219 sec)\n",
      "  X[idx, :, :] = ev.copy().crop(crop_value[0], crop_value[1]).data\n",
      "C:\\Users\\Vivi\\Documents\\GitHub\\unfold_proj\\stats\\stats_helper.py:151: RuntimeWarning: tmin is not in Evoked time interval. tmin is set to evoked.tmin (-0.199219 sec)\n",
      "  X[idx, :, :] = ev.copy().crop(crop_value[0], crop_value[1]).data\n",
      "C:\\Users\\Vivi\\Documents\\GitHub\\unfold_proj\\stats\\stats_helper.py:151: RuntimeWarning: tmin is not in Evoked time interval. tmin is set to evoked.tmin (-0.199219 sec)\n",
      "  X[idx, :, :] = ev.copy().crop(crop_value[0], crop_value[1]).data\n"
     ]
    },
    {
     "name": "stdout",
     "output_type": "stream",
     "text": [
      "(30, 128, 257)\n",
      "(30, 128, 257)\n",
      "-0.2\n"
     ]
    },
    {
     "data": {
      "text/plain": "(array([[ 0.38364904,  0.13064933, -0.13025776, ...,  4.68183834,\n          4.56078523,  4.53161644],\n        [-0.96970458, -1.26204709, -1.55719402, ...,  6.7411199 ,\n          6.56867121,  6.38699104],\n        [-2.41905023, -2.62215091, -2.84065058, ...,  7.16505974,\n          6.9884192 ,  6.85274007],\n        ...,\n        [-2.02571562, -2.17316039, -2.07879787, ...,  1.19254948,\n          1.53183285,  1.85181908],\n        [-0.76686227, -0.82565364, -0.724548  , ..., -1.01394771,\n         -0.76216541, -0.41024876],\n        [-0.5046647 , -0.40400419, -0.12667367, ..., -2.5585053 ,\n         -2.24770685, -2.03072342]]),\n array([[7.04036946e-01, 8.96954818e-01, 8.97261850e-01, ...,\n         6.13746020e-05, 8.58252735e-05, 9.30373004e-05],\n        [3.40212435e-01, 2.16987846e-01, 1.30271753e-01, ...,\n         2.13294570e-07, 3.39012885e-07, 5.54081094e-07],\n        [2.20635038e-02, 1.37763397e-02, 8.15033823e-03, ...,\n         6.91903443e-08, 1.10339093e-07, 1.58280983e-07],\n        ...,\n        [5.20826956e-02, 3.80789003e-02, 4.65888173e-02, ...,\n         2.42712633e-01, 1.36401067e-01, 7.42580365e-02],\n        [4.49361689e-01, 4.15741481e-01, 4.74534922e-01, ...,\n         3.18993090e-01, 4.52116017e-01, 6.84638658e-01],\n        [6.17607810e-01, 6.89173592e-01, 9.00072905e-01, ...,\n         1.59967473e-02, 3.23692742e-02, 5.15410632e-02]]))"
     },
     "execution_count": 136,
     "metadata": {},
     "output_type": "execute_result"
    }
   ],
   "source": [
    "s_hp.tTest_ana([evo_1,evo_2],crop_value=(-0.2,0.8),p_val=.005)"
   ],
   "metadata": {
    "collapsed": false,
    "ExecuteTime": {
     "end_time": "2025-05-13T07:56:48.779416200Z",
     "start_time": "2025-05-13T07:56:47.955123100Z"
    }
   }
  },
  {
   "cell_type": "code",
   "execution_count": 263,
   "outputs": [
    {
     "name": "stdout",
     "output_type": "stream",
     "text": [
      "combining channels using \"mean\"\n"
     ]
    },
    {
     "name": "stderr",
     "output_type": "stream",
     "text": [
      "C:\\Users\\Vivi\\AppData\\Local\\Temp\\ipykernel_4024\\3109885288.py:3: RuntimeWarning: Only 1 channel in \"picks\"; cannot combine by method \"mean\".\n",
      "  fig_fin=mne.viz.plot_compare_evokeds(evokeds,ci=False, picks=picked,show_sensors=True,legend='upper right',truncate_yaxis=False,combine='mean')\n"
     ]
    }
   ],
   "source": [
    "evokeds=dict(R=evo_1)\n",
    "picked=('A23')\n",
    "fig_fin=mne.viz.plot_compare_evokeds(evokeds,ci=False, picks=picked,show_sensors=True,legend='upper right',truncate_yaxis=False,combine='mean')\n"
   ],
   "metadata": {
    "collapsed": false,
    "ExecuteTime": {
     "end_time": "2025-05-13T14:13:55.353322100Z",
     "start_time": "2025-05-13T14:13:55.131136900Z"
    }
   }
  },
  {
   "cell_type": "code",
   "execution_count": 265,
   "outputs": [],
   "source": [
    "modtype='rawerps'\n",
    "erp_type='hep'\n",
    "cond='R'\n",
    "file_dir=f'ana/deconvolution/figures/waveforms_gavg_{modtype}_{erp_type}_{cond}_nodc.svg'\n",
    "fig_fin[0].savefig(file_dir,format='svg')"
   ],
   "metadata": {
    "collapsed": false,
    "ExecuteTime": {
     "end_time": "2025-05-13T14:14:28.755648900Z",
     "start_time": "2025-05-13T14:14:28.515180200Z"
    }
   }
  },
  {
   "cell_type": "code",
   "execution_count": 266,
   "outputs": [
    {
     "name": "stdout",
     "output_type": "stream",
     "text": [
      "combining channels using \"mean\"\n"
     ]
    },
    {
     "name": "stderr",
     "output_type": "stream",
     "text": [
      "C:\\Users\\Vivi\\AppData\\Local\\Temp\\ipykernel_4024\\548891214.py:2: RuntimeWarning: Only 1 channel in \"picks\"; cannot combine by method \"mean\".\n",
      "  fig_fin=mne.viz.plot_compare_evokeds(evokeds,ci=False, picks=picked,show_sensors=True,legend='upper right',truncate_yaxis=False,combine='mean')\n"
     ]
    }
   ],
   "source": [
    "evokeds=dict(R2=evo_2)\n",
    "fig_fin=mne.viz.plot_compare_evokeds(evokeds,ci=False, picks=picked,show_sensors=True,legend='upper right',truncate_yaxis=False,combine='mean')"
   ],
   "metadata": {
    "collapsed": false,
    "ExecuteTime": {
     "end_time": "2025-05-13T14:14:35.735100300Z",
     "start_time": "2025-05-13T14:14:35.510677200Z"
    }
   }
  },
  {
   "cell_type": "code",
   "execution_count": 267,
   "outputs": [],
   "source": [
    "cond='R2'\n",
    "file_dir=f'ana/deconvolution/figures/waveforms_gavg_{modtype}_{erp_type}_{cond}_nodc.svg'\n",
    "fig_fin[0].savefig(file_dir,format='svg')"
   ],
   "metadata": {
    "collapsed": false,
    "ExecuteTime": {
     "end_time": "2025-05-13T14:14:36.832535300Z",
     "start_time": "2025-05-13T14:14:36.610181600Z"
    }
   }
  },
  {
   "cell_type": "code",
   "execution_count": null,
   "outputs": [],
   "source": [],
   "metadata": {
    "collapsed": false
   }
  },
  {
   "cell_type": "markdown",
   "source": [
    "# Check avg HEP component anova"
   ],
   "metadata": {
    "collapsed": false
   }
  },
  {
   "cell_type": "code",
   "execution_count": 6,
   "outputs": [],
   "source": [
    "g_num='g01'\n",
    "file_dir=f'ana/deconvolution/ep_betas/modfit/dc/{g_num}_modfit_hep_awareness_unaware_dc.ep'\n",
    "f = open(file_dir)\n"
   ],
   "metadata": {
    "collapsed": false,
    "ExecuteTime": {
     "end_time": "2025-06-04T09:49:29.751918900Z",
     "start_time": "2025-06-04T09:49:29.582608800Z"
    }
   }
  },
  {
   "cell_type": "code",
   "execution_count": 7,
   "outputs": [
    {
     "data": {
      "text/plain": "(256, 128)"
     },
     "execution_count": 7,
     "metadata": {},
     "output_type": "execute_result"
    }
   ],
   "source": [
    "data=np.loadtxt(file_dir)\n",
    "data.shape"
   ],
   "metadata": {
    "collapsed": false,
    "ExecuteTime": {
     "end_time": "2025-06-04T09:49:30.502049600Z",
     "start_time": "2025-06-04T09:49:30.291075400Z"
    }
   }
  },
  {
   "cell_type": "code",
   "execution_count": 12,
   "outputs": [],
   "source": [
    "subject_list=cs.G_N\n",
    "X=np.empty((len(subject_list),data.shape[1],data.shape[0]))\n",
    "cond_list=[\"awareness_unaware\",\"awareness\",\"awareness\",\"card_phase_sys\",\"_Intercept_\",\"awareness_unaware_card_phase_sys\"]\n",
    "\n",
    "fit='awafit'\n",
    "dc_list=['dc','nodc']\n",
    "beta_type=cond_list[4]\n",
    "aware_list=['aware','unaware']\n",
    "\n",
    "main_dict={}\n",
    "\n",
    "for awa_cond in aware_list:\n",
    "    for dc_cond in dc_list:\n",
    "        local_erp_list=[]\n",
    "        for idx,g_num in enumerate(subject_list):\n",
    "            file_dir=f'ana/deconvolution/ep_betas/{fit}/{dc_cond}/{g_num}_{awa_cond}_hep_{beta_type}_{dc_cond}.ep'\n",
    "            data=np.loadtxt(file_dir).T\n",
    "            evo=s_hp.get_evo(data,tmin=-0.2)\n",
    "            local_erp_list.append(evo)\n",
    "        key_dict= f'{awa_cond} {dc_cond}'\n",
    "        main_dict[key_dict]=local_erp_list\n",
    "\n",
    "\n",
    "\n",
    "\n"
   ],
   "metadata": {
    "collapsed": false,
    "ExecuteTime": {
     "end_time": "2025-06-04T09:51:17.465830700Z",
     "start_time": "2025-06-04T09:51:00.193725700Z"
    }
   }
  },
  {
   "cell_type": "code",
   "execution_count": 30,
   "outputs": [
    {
     "name": "stdout",
     "output_type": "stream",
     "text": [
      "(30, 4, 9)\n",
      "(30, 4, 9)\n",
      "(30, 4, 9)\n",
      "(30, 4, 9)\n"
     ]
    }
   ],
   "source": [
    "crop_period=[0.49,0.52]\n",
    "regions=dict(dc_post=['A5','A14','A16','A18','A23'],dc_front=['C32','D4'],nodc=['B12','B14','B23','B24'] )\n",
    "\n",
    "erp_df=s_hp.get_erp_df(main_dict,crop_period,regions['nodc'])"
   ],
   "metadata": {
    "collapsed": false,
    "ExecuteTime": {
     "end_time": "2025-06-04T09:57:22.573421600Z",
     "start_time": "2025-06-04T09:57:22.372951100Z"
    }
   }
  },
  {
   "cell_type": "code",
   "execution_count": 31,
   "outputs": [
    {
     "data": {
      "text/plain": "    Deconvolution  id Awareness  Amplitude\n0              dc   0     Aware  -0.256916\n1              dc   0   Unaware  -0.234456\n2              dc   1     Aware  -0.674464\n3              dc   1   Unaware   0.689751\n4              dc   2     Aware  -0.198474\n..            ...  ..       ...        ...\n115          nodc  27   Unaware  -0.161467\n116          nodc  28     Aware  -0.458357\n117          nodc  28   Unaware  -0.080275\n118          nodc  29     Aware  -0.742644\n119          nodc  29   Unaware  -0.143668\n\n[120 rows x 4 columns]",
      "text/html": "<div>\n<style scoped>\n    .dataframe tbody tr th:only-of-type {\n        vertical-align: middle;\n    }\n\n    .dataframe tbody tr th {\n        vertical-align: top;\n    }\n\n    .dataframe thead th {\n        text-align: right;\n    }\n</style>\n<table border=\"1\" class=\"dataframe\">\n  <thead>\n    <tr style=\"text-align: right;\">\n      <th></th>\n      <th>Deconvolution</th>\n      <th>id</th>\n      <th>Awareness</th>\n      <th>Amplitude</th>\n    </tr>\n  </thead>\n  <tbody>\n    <tr>\n      <th>0</th>\n      <td>dc</td>\n      <td>0</td>\n      <td>Aware</td>\n      <td>-0.256916</td>\n    </tr>\n    <tr>\n      <th>1</th>\n      <td>dc</td>\n      <td>0</td>\n      <td>Unaware</td>\n      <td>-0.234456</td>\n    </tr>\n    <tr>\n      <th>2</th>\n      <td>dc</td>\n      <td>1</td>\n      <td>Aware</td>\n      <td>-0.674464</td>\n    </tr>\n    <tr>\n      <th>3</th>\n      <td>dc</td>\n      <td>1</td>\n      <td>Unaware</td>\n      <td>0.689751</td>\n    </tr>\n    <tr>\n      <th>4</th>\n      <td>dc</td>\n      <td>2</td>\n      <td>Aware</td>\n      <td>-0.198474</td>\n    </tr>\n    <tr>\n      <th>...</th>\n      <td>...</td>\n      <td>...</td>\n      <td>...</td>\n      <td>...</td>\n    </tr>\n    <tr>\n      <th>115</th>\n      <td>nodc</td>\n      <td>27</td>\n      <td>Unaware</td>\n      <td>-0.161467</td>\n    </tr>\n    <tr>\n      <th>116</th>\n      <td>nodc</td>\n      <td>28</td>\n      <td>Aware</td>\n      <td>-0.458357</td>\n    </tr>\n    <tr>\n      <th>117</th>\n      <td>nodc</td>\n      <td>28</td>\n      <td>Unaware</td>\n      <td>-0.080275</td>\n    </tr>\n    <tr>\n      <th>118</th>\n      <td>nodc</td>\n      <td>29</td>\n      <td>Aware</td>\n      <td>-0.742644</td>\n    </tr>\n    <tr>\n      <th>119</th>\n      <td>nodc</td>\n      <td>29</td>\n      <td>Unaware</td>\n      <td>-0.143668</td>\n    </tr>\n  </tbody>\n</table>\n<p>120 rows × 4 columns</p>\n</div>"
     },
     "execution_count": 31,
     "metadata": {},
     "output_type": "execute_result"
    }
   ],
   "source": [
    "erp_df=pd.DataFrame.from_dict(erp_df)\n",
    "erp_df['id']=erp_df.index\n",
    "wide1=pd.wide_to_long(erp_df,stubnames=['aware','unaware'],i='id',j='Deconvolution',sep=\"\",suffix='\\D+')\n",
    "wide1.rename(columns=dict(aware='AmplitudeAware',unaware='AmplitudeUnaware'),inplace=True)\n",
    "wide1.reset_index(inplace=True)\n",
    "wide2=pd.wide_to_long(wide1,stubnames=['Amplitude'],i=['Deconvolution','id'],j='Awareness',sep=\"\",suffix='\\D+')\n",
    "wide2.reset_index(inplace=True)\n",
    "wide2"
   ],
   "metadata": {
    "collapsed": false,
    "ExecuteTime": {
     "end_time": "2025-06-04T09:57:24.126299200Z",
     "start_time": "2025-06-04T09:57:23.992789400Z"
    }
   }
  },
  {
   "cell_type": "markdown",
   "source": [],
   "metadata": {
    "collapsed": false
   }
  },
  {
   "cell_type": "code",
   "execution_count": 32,
   "outputs": [
    {
     "data": {
      "text/plain": "                      Source        SS  ddof1  ddof2        MS          F  \\\n0                  Awareness  1.138820      1     29  1.138820  10.920489   \n1              Deconvolution  0.002550      1     29  0.002550   0.020620   \n2  Awareness * Deconvolution  0.020947      1     29  0.020947   1.527859   \n\n      p-unc  p-GG-corr       np2  eps  \n0  0.002537   0.002537  0.273556  1.0  \n1  0.886811   0.886811  0.000711  1.0  \n2  0.226353   0.226353  0.050048  1.0  ",
      "text/html": "<div>\n<style scoped>\n    .dataframe tbody tr th:only-of-type {\n        vertical-align: middle;\n    }\n\n    .dataframe tbody tr th {\n        vertical-align: top;\n    }\n\n    .dataframe thead th {\n        text-align: right;\n    }\n</style>\n<table border=\"1\" class=\"dataframe\">\n  <thead>\n    <tr style=\"text-align: right;\">\n      <th></th>\n      <th>Source</th>\n      <th>SS</th>\n      <th>ddof1</th>\n      <th>ddof2</th>\n      <th>MS</th>\n      <th>F</th>\n      <th>p-unc</th>\n      <th>p-GG-corr</th>\n      <th>np2</th>\n      <th>eps</th>\n    </tr>\n  </thead>\n  <tbody>\n    <tr>\n      <th>0</th>\n      <td>Awareness</td>\n      <td>1.138820</td>\n      <td>1</td>\n      <td>29</td>\n      <td>1.138820</td>\n      <td>10.920489</td>\n      <td>0.002537</td>\n      <td>0.002537</td>\n      <td>0.273556</td>\n      <td>1.0</td>\n    </tr>\n    <tr>\n      <th>1</th>\n      <td>Deconvolution</td>\n      <td>0.002550</td>\n      <td>1</td>\n      <td>29</td>\n      <td>0.002550</td>\n      <td>0.020620</td>\n      <td>0.886811</td>\n      <td>0.886811</td>\n      <td>0.000711</td>\n      <td>1.0</td>\n    </tr>\n    <tr>\n      <th>2</th>\n      <td>Awareness * Deconvolution</td>\n      <td>0.020947</td>\n      <td>1</td>\n      <td>29</td>\n      <td>0.020947</td>\n      <td>1.527859</td>\n      <td>0.226353</td>\n      <td>0.226353</td>\n      <td>0.050048</td>\n      <td>1.0</td>\n    </tr>\n  </tbody>\n</table>\n</div>"
     },
     "execution_count": 32,
     "metadata": {},
     "output_type": "execute_result"
    }
   ],
   "source": [
    "import pingouin as pg\n",
    "pg.rm_anova(data=wide2,dv='Amplitude',within=['Awareness','Deconvolution'],subject='id',effsize='np2')"
   ],
   "metadata": {
    "collapsed": false,
    "ExecuteTime": {
     "end_time": "2025-06-04T09:57:26.702823400Z",
     "start_time": "2025-06-04T09:57:26.540043400Z"
    }
   }
  },
  {
   "cell_type": "code",
   "execution_count": 33,
   "outputs": [
    {
     "data": {
      "text/plain": "                    Contrast Deconvolution      A        B Paired  Parametric  \\\n0              Deconvolution             -     dc     nodc   True        True   \n1                  Awareness             -  Aware  Unaware   True        True   \n2  Deconvolution * Awareness            dc  Aware  Unaware   True        True   \n3  Deconvolution * Awareness          nodc  Aware  Unaware   True        True   \n\n          T   dof alternative     p-unc    p-corr p-adjust     BF10     cohen  \n0 -0.143598  29.0   two-sided  0.886811       NaN      NaN    0.196 -0.022366  \n1 -3.304616  29.0   two-sided  0.002537       NaN      NaN   14.644 -0.479564  \n2 -2.329734  29.0   two-sided  0.026988  0.026988   fdr_bh    1.968 -0.403567  \n3 -4.305676  29.0   two-sided  0.000173  0.000347   fdr_bh  157.954 -0.466814  ",
      "text/html": "<div>\n<style scoped>\n    .dataframe tbody tr th:only-of-type {\n        vertical-align: middle;\n    }\n\n    .dataframe tbody tr th {\n        vertical-align: top;\n    }\n\n    .dataframe thead th {\n        text-align: right;\n    }\n</style>\n<table border=\"1\" class=\"dataframe\">\n  <thead>\n    <tr style=\"text-align: right;\">\n      <th></th>\n      <th>Contrast</th>\n      <th>Deconvolution</th>\n      <th>A</th>\n      <th>B</th>\n      <th>Paired</th>\n      <th>Parametric</th>\n      <th>T</th>\n      <th>dof</th>\n      <th>alternative</th>\n      <th>p-unc</th>\n      <th>p-corr</th>\n      <th>p-adjust</th>\n      <th>BF10</th>\n      <th>cohen</th>\n    </tr>\n  </thead>\n  <tbody>\n    <tr>\n      <th>0</th>\n      <td>Deconvolution</td>\n      <td>-</td>\n      <td>dc</td>\n      <td>nodc</td>\n      <td>True</td>\n      <td>True</td>\n      <td>-0.143598</td>\n      <td>29.0</td>\n      <td>two-sided</td>\n      <td>0.886811</td>\n      <td>NaN</td>\n      <td>NaN</td>\n      <td>0.196</td>\n      <td>-0.022366</td>\n    </tr>\n    <tr>\n      <th>1</th>\n      <td>Awareness</td>\n      <td>-</td>\n      <td>Aware</td>\n      <td>Unaware</td>\n      <td>True</td>\n      <td>True</td>\n      <td>-3.304616</td>\n      <td>29.0</td>\n      <td>two-sided</td>\n      <td>0.002537</td>\n      <td>NaN</td>\n      <td>NaN</td>\n      <td>14.644</td>\n      <td>-0.479564</td>\n    </tr>\n    <tr>\n      <th>2</th>\n      <td>Deconvolution * Awareness</td>\n      <td>dc</td>\n      <td>Aware</td>\n      <td>Unaware</td>\n      <td>True</td>\n      <td>True</td>\n      <td>-2.329734</td>\n      <td>29.0</td>\n      <td>two-sided</td>\n      <td>0.026988</td>\n      <td>0.026988</td>\n      <td>fdr_bh</td>\n      <td>1.968</td>\n      <td>-0.403567</td>\n    </tr>\n    <tr>\n      <th>3</th>\n      <td>Deconvolution * Awareness</td>\n      <td>nodc</td>\n      <td>Aware</td>\n      <td>Unaware</td>\n      <td>True</td>\n      <td>True</td>\n      <td>-4.305676</td>\n      <td>29.0</td>\n      <td>two-sided</td>\n      <td>0.000173</td>\n      <td>0.000347</td>\n      <td>fdr_bh</td>\n      <td>157.954</td>\n      <td>-0.466814</td>\n    </tr>\n  </tbody>\n</table>\n</div>"
     },
     "execution_count": 33,
     "metadata": {},
     "output_type": "execute_result"
    }
   ],
   "source": [
    "pg.pairwise_tests(data=wide2,dv='Amplitude',within=['Deconvolution','Awareness'],subject='id',padjust='fdr_bh',effsize='cohen')"
   ],
   "metadata": {
    "collapsed": false,
    "ExecuteTime": {
     "end_time": "2025-06-04T09:57:27.924627400Z",
     "start_time": "2025-06-04T09:57:27.755338Z"
    }
   }
  },
  {
   "cell_type": "code",
   "execution_count": 39,
   "outputs": [
    {
     "data": {
      "text/plain": "<AxesSubplot:xlabel='Deconvolution', ylabel='Amplitude'>"
     },
     "execution_count": 39,
     "metadata": {},
     "output_type": "execute_result"
    }
   ],
   "source": [
    "%matplotlib qt\n",
    "import seaborn as sns\n",
    "sns.boxplot(data=wide2,x='Deconvolution',hue='Awareness',y='Amplitude')"
   ],
   "metadata": {
    "collapsed": false,
    "ExecuteTime": {
     "end_time": "2025-06-04T10:01:18.523843200Z",
     "start_time": "2025-06-04T10:01:18.349656300Z"
    }
   }
  },
  {
   "cell_type": "code",
   "execution_count": 40,
   "outputs": [
    {
     "data": {
      "text/plain": "<AxesSubplot:xlabel='Deconvolution', ylabel='Amplitude'>"
     },
     "execution_count": 40,
     "metadata": {},
     "output_type": "execute_result"
    }
   ],
   "source": [
    "sns.barplot(data=wide2,x='Deconvolution',hue='Awareness',y='Amplitude')"
   ],
   "metadata": {
    "collapsed": false,
    "ExecuteTime": {
     "end_time": "2025-06-04T10:01:41.416323500Z",
     "start_time": "2025-06-04T10:01:41.181488400Z"
    }
   }
  },
  {
   "cell_type": "markdown",
   "source": [
    "check hep for mask on"
   ],
   "metadata": {
    "collapsed": false
   }
  },
  {
   "cell_type": "code",
   "execution_count": null,
   "outputs": [],
   "source": [],
   "metadata": {
    "collapsed": false
   }
  },
  {
   "cell_type": "markdown",
   "source": [
    "# VEPs"
   ],
   "metadata": {
    "collapsed": false
   }
  },
  {
   "cell_type": "code",
   "execution_count": 2,
   "outputs": [],
   "source": [
    "g_num=None\n",
    "eeg_format='-ave.fif'\n",
    "eeg_exp='tsk'\n",
    "datafolder='ana/MNE/evo_list'\n",
    "\n",
    "\n",
    "#files = getListOfFiles(datafolder,g_num)\n",
    "\n",
    "files = GetFiles(datafolder,g_num=g_num,eeg_format=eeg_format)\n",
    "\n",
    "evo_files=files.fflist"
   ],
   "metadata": {
    "collapsed": false,
    "ExecuteTime": {
     "end_time": "2025-08-14T13:00:58.303311300Z",
     "start_time": "2025-08-14T13:00:54.510681300Z"
    }
   }
  },
  {
   "cell_type": "code",
   "execution_count": 10,
   "outputs": [
    {
     "name": "stdout",
     "output_type": "stream",
     "text": [
      "Reading ana/MNE/evo_list/maskON/correct/cfa/hep/norm/maskON_correct_cfa_hep_norm_R2_aware_list-ave.fif ...\n",
      "    Read a total of 1 projection items:\n",
      "        Average EEG reference (1 x 128) active\n",
      "    Found the data of interest:\n",
      "        t =    -199.22 ...    1000.00 ms (0.64 × hep/normal/correct/aware/R2/exh/RRCA + 0.36 × hep/normal/correct/aware/R2/inh/RRCA\n",
      " G_n= g01)\n",
      "        0 CTF compensation matrices available\n",
      "        nave = 152 - aspect type = 100\n",
      "Projections have already been applied. Setting proj attribute to True.\n",
      "No baseline correction applied\n",
      "    Read a total of 1 projection items:\n",
      "        Average EEG reference (1 x 128) active\n",
      "    Found the data of interest:\n",
      "        t =    -199.22 ...    1000.00 ms (0.61 × hep/normal/correct/aware/R2/exh/RRCA + 0.39 × hep/normal/correct/aware/R2/inh/RRCA\n",
      " G_n= g03)\n",
      "        0 CTF compensation matrices available\n",
      "        nave = 183 - aspect type = 100\n",
      "Projections have already been applied. Setting proj attribute to True.\n",
      "No baseline correction applied\n",
      "    Read a total of 1 projection items:\n",
      "        Average EEG reference (1 x 128) active\n",
      "    Found the data of interest:\n",
      "        t =    -199.22 ...    1000.00 ms (0.48 × hep/normal/correct/aware/R2/exh/RRCA + 0.01 × hep/normal/correct/aware/R2/exh/no_val + 0.51 × hep/normal/correct/aware/R2/inh/RRCA\n",
      " G_n= g08)\n",
      "        0 CTF compensation matrices available\n",
      "        nave = 144 - aspect type = 100\n",
      "Projections have already been applied. Setting proj attribute to True.\n",
      "No baseline correction applied\n",
      "    Read a total of 1 projection items:\n",
      "        Average EEG reference (1 x 128) active\n",
      "    Found the data of interest:\n",
      "        t =    -199.22 ...    1000.00 ms (0.63 × hep/normal/correct/aware/R2/exh/RRCA + 0.01 × hep/normal/correct/aware/R2/exh/no_val + 0.36 × hep/normal/correct/aware/R2/inh/RRCA\n",
      " G_n= g10)\n",
      "        0 CTF compensation matrices available\n",
      "        nave = 126 - aspect type = 100\n",
      "Projections have already been applied. Setting proj attribute to True.\n",
      "No baseline correction applied\n",
      "    Read a total of 1 projection items:\n",
      "        Average EEG reference (1 x 128) active\n",
      "    Found the data of interest:\n",
      "        t =    -199.22 ...    1000.00 ms (0.57 × hep/normal/correct/aware/R2/exh/RRCA + 0.43 × hep/normal/correct/aware/R2/inh/RRCA\n",
      " G_n= g11)\n",
      "        0 CTF compensation matrices available\n",
      "        nave = 161 - aspect type = 100\n",
      "Projections have already been applied. Setting proj attribute to True.\n",
      "No baseline correction applied\n",
      "    Read a total of 1 projection items:\n",
      "        Average EEG reference (1 x 128) active\n",
      "    Found the data of interest:\n",
      "        t =    -199.22 ...    1000.00 ms (0.51 × hep/normal/correct/aware/R2/exh/RRCA + 0.49 × hep/normal/correct/aware/R2/inh/RRCA\n",
      " G_n= g12)\n",
      "        0 CTF compensation matrices available\n",
      "        nave = 94 - aspect type = 100\n",
      "Projections have already been applied. Setting proj attribute to True.\n",
      "No baseline correction applied\n",
      "    Read a total of 1 projection items:\n",
      "        Average EEG reference (1 x 128) active\n",
      "    Found the data of interest:\n",
      "        t =    -199.22 ...    1000.00 ms (0.60 × hep/normal/correct/aware/R2/exh/RRCA + 0.40 × hep/normal/correct/aware/R2/inh/RRCA\n",
      " G_n= g15)\n",
      "        0 CTF compensation matrices available\n",
      "        nave = 136 - aspect type = 100\n",
      "Projections have already been applied. Setting proj attribute to True.\n",
      "No baseline correction applied\n",
      "    Read a total of 1 projection items:\n",
      "        Average EEG reference (1 x 128) active\n",
      "    Found the data of interest:\n",
      "        t =    -199.22 ...    1000.00 ms (0.49 × hep/normal/correct/aware/R2/exh/RRCA + 0.51 × hep/normal/correct/aware/R2/inh/RRCA\n",
      " G_n= g16)\n",
      "        0 CTF compensation matrices available\n",
      "        nave = 170 - aspect type = 100\n",
      "Projections have already been applied. Setting proj attribute to True.\n",
      "No baseline correction applied\n",
      "    Read a total of 1 projection items:\n",
      "        Average EEG reference (1 x 128) active\n",
      "    Found the data of interest:\n",
      "        t =    -199.22 ...    1000.00 ms (0.52 × hep/normal/correct/aware/R2/exh/RRCA + 0.48 × hep/normal/correct/aware/R2/inh/RRCA\n",
      " G_n= g17)\n",
      "        0 CTF compensation matrices available\n",
      "        nave = 146 - aspect type = 100\n",
      "Projections have already been applied. Setting proj attribute to True.\n",
      "No baseline correction applied\n",
      "    Read a total of 1 projection items:\n",
      "        Average EEG reference (1 x 128) active\n",
      "    Found the data of interest:\n",
      "        t =    -199.22 ...    1000.00 ms (0.62 × hep/normal/correct/aware/R2/exh/RRCA + 0.38 × hep/normal/correct/aware/R2/inh/RRCA\n",
      " G_n= g19)\n",
      "        0 CTF compensation matrices available\n",
      "        nave = 219 - aspect type = 100\n",
      "Projections have already been applied. Setting proj attribute to True.\n",
      "No baseline correction applied\n",
      "    Read a total of 1 projection items:\n",
      "        Average EEG reference (1 x 128) active\n",
      "    Found the data of interest:\n",
      "        t =    -199.22 ...    1000.00 ms (0.46 × hep/normal/correct/aware/R2/exh/RRCA + 0.54 × hep/normal/correct/aware/R2/inh/RRCA\n",
      " G_n= g23)\n",
      "        0 CTF compensation matrices available\n",
      "        nave = 180 - aspect type = 100\n",
      "Projections have already been applied. Setting proj attribute to True.\n",
      "No baseline correction applied\n",
      "    Read a total of 1 projection items:\n",
      "        Average EEG reference (1 x 128) active\n",
      "    Found the data of interest:\n",
      "        t =    -199.22 ...    1000.00 ms (0.48 × hep/normal/correct/aware/R2/exh/RRCA + 0.52 × hep/normal/correct/aware/R2/inh/RRCA\n",
      " G_n= g24)\n",
      "        0 CTF compensation matrices available\n",
      "        nave = 71 - aspect type = 100\n",
      "Projections have already been applied. Setting proj attribute to True.\n",
      "No baseline correction applied\n",
      "    Read a total of 1 projection items:\n",
      "        Average EEG reference (1 x 128) active\n",
      "    Found the data of interest:\n",
      "        t =    -199.22 ...    1000.00 ms (0.55 × hep/normal/correct/aware/R2/exh/RRCA + 0.45 × hep/normal/correct/aware/R2/inh/RRCA\n",
      " G_n= g25)\n",
      "        0 CTF compensation matrices available\n",
      "        nave = 232 - aspect type = 100\n",
      "Projections have already been applied. Setting proj attribute to True.\n",
      "No baseline correction applied\n",
      "    Read a total of 1 projection items:\n",
      "        Average EEG reference (1 x 128) active\n",
      "    Found the data of interest:\n",
      "        t =    -199.22 ...    1000.00 ms (0.64 × hep/normal/correct/aware/R2/exh/RRCA + 0.36 × hep/normal/correct/aware/R2/inh/RRCA\n",
      " G_n= g28)\n",
      "        0 CTF compensation matrices available\n",
      "        nave = 78 - aspect type = 100\n",
      "Projections have already been applied. Setting proj attribute to True.\n",
      "No baseline correction applied\n",
      "    Read a total of 1 projection items:\n",
      "        Average EEG reference (1 x 128) active\n",
      "    Found the data of interest:\n",
      "        t =    -199.22 ...    1000.00 ms (0.66 × hep/normal/correct/aware/R2/exh/RRCA + 0.34 × hep/normal/correct/aware/R2/inh/RRCA\n",
      " G_n= g32)\n",
      "        0 CTF compensation matrices available\n",
      "        nave = 164 - aspect type = 100\n",
      "Projections have already been applied. Setting proj attribute to True.\n",
      "No baseline correction applied\n",
      "    Read a total of 1 projection items:\n",
      "        Average EEG reference (1 x 128) active\n",
      "    Found the data of interest:\n",
      "        t =    -199.22 ...    1000.00 ms (0.58 × hep/normal/correct/aware/R2/exh/RRCA + 0.42 × hep/normal/correct/aware/R2/inh/RRCA\n",
      " G_n= g33)\n",
      "        0 CTF compensation matrices available\n",
      "        nave = 162 - aspect type = 100\n",
      "Projections have already been applied. Setting proj attribute to True.\n",
      "No baseline correction applied\n",
      "    Read a total of 1 projection items:\n",
      "        Average EEG reference (1 x 128) active\n",
      "    Found the data of interest:\n",
      "        t =    -199.22 ...    1000.00 ms (0.68 × hep/normal/correct/aware/R2/exh/RRCA + 0.32 × hep/normal/correct/aware/R2/inh/RRCA\n",
      " G_n= g34)\n",
      "        0 CTF compensation matrices available\n",
      "        nave = 191 - aspect type = 100\n",
      "Projections have already been applied. Setting proj attribute to True.\n",
      "No baseline correction applied\n",
      "    Read a total of 1 projection items:\n",
      "        Average EEG reference (1 x 128) active\n",
      "    Found the data of interest:\n",
      "        t =    -199.22 ...    1000.00 ms (0.32 × hep/normal/correct/aware/R2/exh/RRCA + 0.68 × hep/normal/correct/aware/R2/inh/RRCA\n",
      " G_n= g37)\n",
      "        0 CTF compensation matrices available\n",
      "        nave = 111 - aspect type = 100\n",
      "Projections have already been applied. Setting proj attribute to True.\n",
      "No baseline correction applied\n",
      "    Read a total of 1 projection items:\n",
      "        Average EEG reference (1 x 128) active\n",
      "    Found the data of interest:\n",
      "        t =    -199.22 ...    1000.00 ms (0.62 × hep/normal/correct/aware/R2/exh/RRCA + 0.38 × hep/normal/correct/aware/R2/inh/RRCA\n",
      " G_n= g38)\n",
      "        0 CTF compensation matrices available\n",
      "        nave = 168 - aspect type = 100\n",
      "Projections have already been applied. Setting proj attribute to True.\n",
      "No baseline correction applied\n",
      "    Read a total of 1 projection items:\n",
      "        Average EEG reference (1 x 128) active\n",
      "    Found the data of interest:\n",
      "        t =    -199.22 ...    1000.00 ms (0.58 × hep/normal/correct/aware/R2/exh/RRCA + 0.42 × hep/normal/correct/aware/R2/inh/RRCA\n",
      " G_n= g39)\n",
      "        0 CTF compensation matrices available\n",
      "        nave = 110 - aspect type = 100\n",
      "Projections have already been applied. Setting proj attribute to True.\n",
      "No baseline correction applied\n",
      "    Read a total of 1 projection items:\n",
      "        Average EEG reference (1 x 128) active\n",
      "    Found the data of interest:\n",
      "        t =    -199.22 ...    1000.00 ms (0.58 × hep/normal/correct/aware/R2/exh/RRCA + 0.42 × hep/normal/correct/aware/R2/inh/RRCA\n",
      " G_n= g40)\n",
      "        0 CTF compensation matrices available\n",
      "        nave = 88 - aspect type = 100\n",
      "Projections have already been applied. Setting proj attribute to True.\n",
      "No baseline correction applied\n",
      "    Read a total of 1 projection items:\n",
      "        Average EEG reference (1 x 128) active\n",
      "    Found the data of interest:\n",
      "        t =    -199.22 ...    1000.00 ms (0.61 × hep/normal/correct/aware/R2/exh/RRCA + 0.39 × hep/normal/correct/aware/R2/inh/RRCA\n",
      " G_n= g41)\n",
      "        0 CTF compensation matrices available\n",
      "        nave = 98 - aspect type = 100\n",
      "Projections have already been applied. Setting proj attribute to True.\n",
      "No baseline correction applied\n",
      "    Read a total of 1 projection items:\n",
      "        Average EEG reference (1 x 128) active\n",
      "    Found the data of interest:\n",
      "        t =    -199.22 ...    1000.00 ms (0.47 × hep/normal/correct/aware/R2/exh/RRCA + 0.53 × hep/normal/correct/aware/R2/inh/RRCA\n",
      " G_n= g42)\n",
      "        0 CTF compensation matrices available\n",
      "        nave = 167 - aspect type = 100\n",
      "Projections have already been applied. Setting proj attribute to True.\n",
      "No baseline correction applied\n",
      "    Read a total of 1 projection items:\n",
      "        Average EEG reference (1 x 128) active\n",
      "    Found the data of interest:\n",
      "        t =    -199.22 ...    1000.00 ms (0.60 × hep/normal/correct/aware/R2/exh/RRCA + 0.40 × hep/normal/correct/aware/R2/inh/RRCA\n",
      " G_n= g44)\n",
      "        0 CTF compensation matrices available\n",
      "        nave = 135 - aspect type = 100\n",
      "Projections have already been applied. Setting proj attribute to True.\n",
      "No baseline correction applied\n",
      "    Read a total of 1 projection items:\n",
      "        Average EEG reference (1 x 128) active\n",
      "    Found the data of interest:\n",
      "        t =    -199.22 ...    1000.00 ms (0.65 × hep/normal/correct/aware/R2/exh/RRCA + 0.35 × hep/normal/correct/aware/R2/inh/RRCA\n",
      " G_n= g45)\n",
      "        0 CTF compensation matrices available\n",
      "        nave = 202 - aspect type = 100\n",
      "Projections have already been applied. Setting proj attribute to True.\n",
      "No baseline correction applied\n",
      "    Read a total of 1 projection items:\n",
      "        Average EEG reference (1 x 128) active\n",
      "    Found the data of interest:\n",
      "        t =    -199.22 ...    1000.00 ms (0.62 × hep/normal/correct/aware/R2/exh/RRCA + 0.01 × hep/normal/correct/aware/R2/exh/no_val + 0.38 × hep/normal/correct/aware/R2/inh/RRCA\n",
      " G_n= g46)\n",
      "        0 CTF compensation matrices available\n",
      "        nave = 112 - aspect type = 100\n",
      "Projections have already been applied. Setting proj attribute to True.\n",
      "No baseline correction applied\n",
      "    Read a total of 1 projection items:\n",
      "        Average EEG reference (1 x 128) active\n",
      "    Found the data of interest:\n",
      "        t =    -199.22 ...    1000.00 ms (0.61 × hep/normal/correct/aware/R2/exh/RRCA + 0.39 × hep/normal/correct/aware/R2/inh/RRCA\n",
      " G_n= g47)\n",
      "        0 CTF compensation matrices available\n",
      "        nave = 202 - aspect type = 100\n",
      "Projections have already been applied. Setting proj attribute to True.\n",
      "No baseline correction applied\n",
      "    Read a total of 1 projection items:\n",
      "        Average EEG reference (1 x 128) active\n",
      "    Found the data of interest:\n",
      "        t =    -199.22 ...    1000.00 ms (0.69 × hep/normal/correct/aware/R2/exh/RRCA + 0.31 × hep/normal/correct/aware/R2/inh/RRCA\n",
      " G_n= g49)\n",
      "        0 CTF compensation matrices available\n",
      "        nave = 127 - aspect type = 100\n",
      "Projections have already been applied. Setting proj attribute to True.\n",
      "No baseline correction applied\n",
      "    Read a total of 1 projection items:\n",
      "        Average EEG reference (1 x 128) active\n",
      "    Found the data of interest:\n",
      "        t =    -199.22 ...    1000.00 ms (0.76 × hep/normal/correct/aware/R2/exh/RRCA + 0.24 × hep/normal/correct/aware/R2/inh/RRCA\n",
      " G_n= g51)\n",
      "        0 CTF compensation matrices available\n",
      "        nave = 148 - aspect type = 100\n",
      "Projections have already been applied. Setting proj attribute to True.\n",
      "No baseline correction applied\n",
      "    Read a total of 1 projection items:\n",
      "        Average EEG reference (1 x 128) active\n",
      "    Found the data of interest:\n",
      "        t =    -199.22 ...    1000.00 ms (0.53 × hep/normal/correct/aware/R2/exh/RRCA + 0.47 × hep/normal/correct/aware/R2/inh/RRCA\n",
      " G_n= g52)\n",
      "        0 CTF compensation matrices available\n",
      "        nave = 129 - aspect type = 100\n",
      "Projections have already been applied. Setting proj attribute to True.\n",
      "No baseline correction applied\n",
      "Reading ana/MNE/evo_list/maskON/correct/cfa/hep/norm/maskON_correct_cfa_hep_norm_R2_unaware_list-ave.fif ...\n",
      "    Read a total of 1 projection items:\n",
      "        Average EEG reference (1 x 128) active\n",
      "    Found the data of interest:\n",
      "        t =    -199.22 ...    1000.00 ms (0.58 × hep/normal/correct/unaware/R2/exh/RRCU + 0.42 × hep/normal/correct/unaware/R2/inh/RRCU\n",
      " G_n= g01)\n",
      "        0 CTF compensation matrices available\n",
      "        nave = 122 - aspect type = 100\n",
      "Projections have already been applied. Setting proj attribute to True.\n",
      "No baseline correction applied\n",
      "    Read a total of 1 projection items:\n",
      "        Average EEG reference (1 x 128) active\n",
      "    Found the data of interest:\n",
      "        t =    -199.22 ...    1000.00 ms (0.61 × hep/normal/correct/unaware/R2/exh/RRCU + 0.39 × hep/normal/correct/unaware/R2/inh/RRCU\n",
      " G_n= g03)\n",
      "        0 CTF compensation matrices available\n",
      "        nave = 109 - aspect type = 100\n",
      "Projections have already been applied. Setting proj attribute to True.\n",
      "No baseline correction applied\n",
      "    Read a total of 1 projection items:\n",
      "        Average EEG reference (1 x 128) active\n",
      "    Found the data of interest:\n",
      "        t =    -199.22 ...    1000.00 ms (0.47 × hep/normal/correct/unaware/R2/exh/RRCU + 0.53 × hep/normal/correct/unaware/R2/inh/RRCU\n",
      " G_n= g08)\n",
      "        0 CTF compensation matrices available\n",
      "        nave = 59 - aspect type = 100\n",
      "Projections have already been applied. Setting proj attribute to True.\n",
      "No baseline correction applied\n",
      "    Read a total of 1 projection items:\n",
      "        Average EEG reference (1 x 128) active\n",
      "    Found the data of interest:\n",
      "        t =    -199.22 ...    1000.00 ms (0.56 × hep/normal/correct/unaware/R2/exh/RRCU + 0.44 × hep/normal/correct/unaware/R2/inh/RRCU\n",
      " G_n= g10)\n",
      "        0 CTF compensation matrices available\n",
      "        nave = 61 - aspect type = 100\n",
      "Projections have already been applied. Setting proj attribute to True.\n",
      "No baseline correction applied\n",
      "    Read a total of 1 projection items:\n",
      "        Average EEG reference (1 x 128) active\n",
      "    Found the data of interest:\n",
      "        t =    -199.22 ...    1000.00 ms (0.58 × hep/normal/correct/unaware/R2/exh/RRCU + 0.42 × hep/normal/correct/unaware/R2/inh/RRCU\n",
      " G_n= g11)\n",
      "        0 CTF compensation matrices available\n",
      "        nave = 168 - aspect type = 100\n",
      "Projections have already been applied. Setting proj attribute to True.\n",
      "No baseline correction applied\n",
      "    Read a total of 1 projection items:\n",
      "        Average EEG reference (1 x 128) active\n",
      "    Found the data of interest:\n",
      "        t =    -199.22 ...    1000.00 ms (0.48 × hep/normal/correct/unaware/R2/exh/RRCU + 0.52 × hep/normal/correct/unaware/R2/inh/RRCU\n",
      " G_n= g12)\n",
      "        0 CTF compensation matrices available\n",
      "        nave = 107 - aspect type = 100\n",
      "Projections have already been applied. Setting proj attribute to True.\n",
      "No baseline correction applied\n",
      "    Read a total of 1 projection items:\n",
      "        Average EEG reference (1 x 128) active\n",
      "    Found the data of interest:\n",
      "        t =    -199.22 ...    1000.00 ms (0.58 × hep/normal/correct/unaware/R2/exh/RRCU + 0.42 × hep/normal/correct/unaware/R2/inh/RRCU\n",
      " G_n= g15)\n",
      "        0 CTF compensation matrices available\n",
      "        nave = 153 - aspect type = 100\n",
      "Projections have already been applied. Setting proj attribute to True.\n",
      "No baseline correction applied\n",
      "    Read a total of 1 projection items:\n",
      "        Average EEG reference (1 x 128) active\n",
      "    Found the data of interest:\n",
      "        t =    -199.22 ...    1000.00 ms (0.57 × hep/normal/correct/unaware/R2/exh/RRCU + 0.43 × hep/normal/correct/unaware/R2/inh/RRCU\n",
      " G_n= g16)\n",
      "        0 CTF compensation matrices available\n",
      "        nave = 160 - aspect type = 100\n",
      "Projections have already been applied. Setting proj attribute to True.\n",
      "No baseline correction applied\n",
      "    Read a total of 1 projection items:\n",
      "        Average EEG reference (1 x 128) active\n",
      "    Found the data of interest:\n",
      "        t =    -199.22 ...    1000.00 ms (0.44 × hep/normal/correct/unaware/R2/exh/RRCU + 0.56 × hep/normal/correct/unaware/R2/inh/RRCU\n",
      " G_n= g17)\n",
      "        0 CTF compensation matrices available\n",
      "        nave = 200 - aspect type = 100\n",
      "Projections have already been applied. Setting proj attribute to True.\n",
      "No baseline correction applied\n",
      "    Read a total of 1 projection items:\n",
      "        Average EEG reference (1 x 128) active\n",
      "    Found the data of interest:\n",
      "        t =    -199.22 ...    1000.00 ms (0.62 × hep/normal/correct/unaware/R2/exh/RRCU + 0.38 × hep/normal/correct/unaware/R2/inh/RRCU\n",
      " G_n= g19)\n",
      "        0 CTF compensation matrices available\n",
      "        nave = 123 - aspect type = 100\n",
      "Projections have already been applied. Setting proj attribute to True.\n",
      "No baseline correction applied\n",
      "    Read a total of 1 projection items:\n",
      "        Average EEG reference (1 x 128) active\n",
      "    Found the data of interest:\n",
      "        t =    -199.22 ...    1000.00 ms (0.46 × hep/normal/correct/unaware/R2/exh/RRCU + 0.54 × hep/normal/correct/unaware/R2/inh/RRCU\n",
      " G_n= g23)\n",
      "        0 CTF compensation matrices available\n",
      "        nave = 98 - aspect type = 100\n",
      "Projections have already been applied. Setting proj attribute to True.\n",
      "No baseline correction applied\n",
      "    Read a total of 1 projection items:\n",
      "        Average EEG reference (1 x 128) active\n",
      "    Found the data of interest:\n",
      "        t =    -199.22 ...    1000.00 ms (0.56 × hep/normal/correct/unaware/R2/exh/RRCU + 0.44 × hep/normal/correct/unaware/R2/inh/RRCU\n",
      " G_n= g24)\n",
      "        0 CTF compensation matrices available\n",
      "        nave = 164 - aspect type = 100\n",
      "Projections have already been applied. Setting proj attribute to True.\n",
      "No baseline correction applied\n",
      "    Read a total of 1 projection items:\n",
      "        Average EEG reference (1 x 128) active\n",
      "    Found the data of interest:\n",
      "        t =    -199.22 ...    1000.00 ms (0.53 × hep/normal/correct/unaware/R2/exh/RRCU + 0.47 × hep/normal/correct/unaware/R2/inh/RRCU\n",
      " G_n= g25)\n",
      "        0 CTF compensation matrices available\n",
      "        nave = 112 - aspect type = 100\n",
      "Projections have already been applied. Setting proj attribute to True.\n",
      "No baseline correction applied\n",
      "    Read a total of 1 projection items:\n",
      "        Average EEG reference (1 x 128) active\n",
      "    Found the data of interest:\n",
      "        t =    -199.22 ...    1000.00 ms (0.62 × hep/normal/correct/unaware/R2/exh/RRCU + 0.38 × hep/normal/correct/unaware/R2/inh/RRCU\n",
      " G_n= g28)\n",
      "        0 CTF compensation matrices available\n",
      "        nave = 162 - aspect type = 100\n",
      "Projections have already been applied. Setting proj attribute to True.\n",
      "No baseline correction applied\n",
      "    Read a total of 1 projection items:\n",
      "        Average EEG reference (1 x 128) active\n",
      "    Found the data of interest:\n",
      "        t =    -199.22 ...    1000.00 ms (0.71 × hep/normal/correct/unaware/R2/exh/RRCU + 0.29 × hep/normal/correct/unaware/R2/inh/RRCU\n",
      " G_n= g32)\n",
      "        0 CTF compensation matrices available\n",
      "        nave = 129 - aspect type = 100\n",
      "Projections have already been applied. Setting proj attribute to True.\n",
      "No baseline correction applied\n",
      "    Read a total of 1 projection items:\n",
      "        Average EEG reference (1 x 128) active\n",
      "    Found the data of interest:\n",
      "        t =    -199.22 ...    1000.00 ms (0.67 × hep/normal/correct/unaware/R2/exh/RRCU + 0.33 × hep/normal/correct/unaware/R2/inh/RRCU\n",
      " G_n= g33)\n",
      "        0 CTF compensation matrices available\n",
      "        nave = 177 - aspect type = 100\n",
      "Projections have already been applied. Setting proj attribute to True.\n",
      "No baseline correction applied\n",
      "    Read a total of 1 projection items:\n",
      "        Average EEG reference (1 x 128) active\n",
      "    Found the data of interest:\n",
      "        t =    -199.22 ...    1000.00 ms (0.52 × hep/normal/correct/unaware/R2/exh/RRCU + 0.48 × hep/normal/correct/unaware/R2/inh/RRCU\n",
      " G_n= g34)\n",
      "        0 CTF compensation matrices available\n",
      "        nave = 107 - aspect type = 100\n",
      "Projections have already been applied. Setting proj attribute to True.\n",
      "No baseline correction applied\n",
      "    Read a total of 1 projection items:\n",
      "        Average EEG reference (1 x 128) active\n",
      "    Found the data of interest:\n",
      "        t =    -199.22 ...    1000.00 ms (0.37 × hep/normal/correct/unaware/R2/exh/RRCU + 0.63 × hep/normal/correct/unaware/R2/inh/RRCU\n",
      " G_n= g37)\n",
      "        0 CTF compensation matrices available\n",
      "        nave = 139 - aspect type = 100\n",
      "Projections have already been applied. Setting proj attribute to True.\n",
      "No baseline correction applied\n",
      "    Read a total of 1 projection items:\n",
      "        Average EEG reference (1 x 128) active\n",
      "    Found the data of interest:\n",
      "        t =    -199.22 ...    1000.00 ms (0.65 × hep/normal/correct/unaware/R2/exh/RRCU + 0.35 × hep/normal/correct/unaware/R2/inh/RRCU + 0.00 × hep/normal/correct/unaware/R2/inh/no_val\n",
      " G_n= g38)\n",
      "        0 CTF compensation matrices available\n",
      "        nave = 202 - aspect type = 100\n",
      "Projections have already been applied. Setting proj attribute to True.\n",
      "No baseline correction applied\n",
      "    Read a total of 1 projection items:\n",
      "        Average EEG reference (1 x 128) active\n",
      "    Found the data of interest:\n",
      "        t =    -199.22 ...    1000.00 ms (0.63 × hep/normal/correct/unaware/R2/exh/RRCU + 0.37 × hep/normal/correct/unaware/R2/inh/RRCU\n",
      " G_n= g39)\n",
      "        0 CTF compensation matrices available\n",
      "        nave = 206 - aspect type = 100\n",
      "Projections have already been applied. Setting proj attribute to True.\n",
      "No baseline correction applied\n",
      "    Read a total of 1 projection items:\n",
      "        Average EEG reference (1 x 128) active\n",
      "    Found the data of interest:\n",
      "        t =    -199.22 ...    1000.00 ms (0.69 × hep/normal/correct/unaware/R2/exh/RRCU + 0.31 × hep/normal/correct/unaware/R2/inh/RRCU\n",
      " G_n= g40)\n",
      "        0 CTF compensation matrices available\n",
      "        nave = 120 - aspect type = 100\n",
      "Projections have already been applied. Setting proj attribute to True.\n",
      "No baseline correction applied\n",
      "    Read a total of 1 projection items:\n",
      "        Average EEG reference (1 x 128) active\n",
      "    Found the data of interest:\n",
      "        t =    -199.22 ...    1000.00 ms (0.64 × hep/normal/correct/unaware/R2/exh/RRCU + 0.00 × hep/normal/correct/unaware/R2/exh/no_val + 0.36 × hep/normal/correct/unaware/R2/inh/RRCU\n",
      " G_n= g41)\n",
      "        0 CTF compensation matrices available\n",
      "        nave = 211 - aspect type = 100\n",
      "Projections have already been applied. Setting proj attribute to True.\n",
      "No baseline correction applied\n",
      "    Read a total of 1 projection items:\n",
      "        Average EEG reference (1 x 128) active\n",
      "    Found the data of interest:\n",
      "        t =    -199.22 ...    1000.00 ms (0.57 × hep/normal/correct/unaware/R2/exh/RRCU + 0.43 × hep/normal/correct/unaware/R2/inh/RRCU\n",
      " G_n= g42)\n",
      "        0 CTF compensation matrices available\n",
      "        nave = 205 - aspect type = 100\n",
      "Projections have already been applied. Setting proj attribute to True.\n",
      "No baseline correction applied\n",
      "    Read a total of 1 projection items:\n",
      "        Average EEG reference (1 x 128) active\n",
      "    Found the data of interest:\n",
      "        t =    -199.22 ...    1000.00 ms (0.61 × hep/normal/correct/unaware/R2/exh/RRCU + 0.39 × hep/normal/correct/unaware/R2/inh/RRCU\n",
      " G_n= g44)\n",
      "        0 CTF compensation matrices available\n",
      "        nave = 219 - aspect type = 100\n",
      "Projections have already been applied. Setting proj attribute to True.\n",
      "No baseline correction applied\n",
      "    Read a total of 1 projection items:\n",
      "        Average EEG reference (1 x 128) active\n",
      "    Found the data of interest:\n",
      "        t =    -199.22 ...    1000.00 ms (0.55 × hep/normal/correct/unaware/R2/exh/RRCU + 0.45 × hep/normal/correct/unaware/R2/inh/RRCU\n",
      " G_n= g45)\n",
      "        0 CTF compensation matrices available\n",
      "        nave = 136 - aspect type = 100\n",
      "Projections have already been applied. Setting proj attribute to True.\n",
      "No baseline correction applied\n",
      "    Read a total of 1 projection items:\n",
      "        Average EEG reference (1 x 128) active\n",
      "    Found the data of interest:\n",
      "        t =    -199.22 ...    1000.00 ms (0.49 × hep/normal/correct/unaware/R2/exh/RRCU + 0.51 × hep/normal/correct/unaware/R2/inh/RRCU\n",
      " G_n= g46)\n",
      "        0 CTF compensation matrices available\n",
      "        nave = 49 - aspect type = 100\n",
      "Projections have already been applied. Setting proj attribute to True.\n",
      "No baseline correction applied\n",
      "    Read a total of 1 projection items:\n",
      "        Average EEG reference (1 x 128) active\n",
      "    Found the data of interest:\n",
      "        t =    -199.22 ...    1000.00 ms (0.57 × hep/normal/correct/unaware/R2/exh/RRCU + 0.42 × hep/normal/correct/unaware/R2/inh/RRCU\n",
      " G_n= g47)\n",
      "        0 CTF compensation matrices available\n",
      "        nave = 160 - aspect type = 100\n",
      "Projections have already been applied. Setting proj attribute to True.\n",
      "No baseline correction applied\n",
      "    Read a total of 1 projection items:\n",
      "        Average EEG reference (1 x 128) active\n",
      "    Found the data of interest:\n",
      "        t =    -199.22 ...    1000.00 ms (0.57 × hep/normal/correct/unaware/R2/exh/RRCU + 0.43 × hep/normal/correct/unaware/R2/inh/RRCU\n",
      " G_n= g49)\n",
      "        0 CTF compensation matrices available\n",
      "        nave = 132 - aspect type = 100\n",
      "Projections have already been applied. Setting proj attribute to True.\n",
      "No baseline correction applied\n",
      "    Read a total of 1 projection items:\n",
      "        Average EEG reference (1 x 128) active\n",
      "    Found the data of interest:\n",
      "        t =    -199.22 ...    1000.00 ms (0.68 × hep/normal/correct/unaware/R2/exh/RRCU + 0.32 × hep/normal/correct/unaware/R2/inh/RRCU\n",
      " G_n= g51)\n",
      "        0 CTF compensation matrices available\n",
      "        nave = 168 - aspect type = 100\n",
      "Projections have already been applied. Setting proj attribute to True.\n",
      "No baseline correction applied\n",
      "    Read a total of 1 projection items:\n",
      "        Average EEG reference (1 x 128) active\n",
      "    Found the data of interest:\n",
      "        t =    -199.22 ...    1000.00 ms (0.53 × hep/normal/correct/unaware/R2/exh/RRCU + 0.47 × hep/normal/correct/unaware/R2/inh/RRCU\n",
      " G_n= g52)\n",
      "        0 CTF compensation matrices available\n",
      "        nave = 189 - aspect type = 100\n",
      "Projections have already been applied. Setting proj attribute to True.\n",
      "No baseline correction applied\n"
     ]
    }
   ],
   "source": [
    "phy_cond=''\n",
    "rsp_cond='n'\n",
    "if rsp_cond=='o':\n",
    "    rsp_cond_lab='tsk_o_'\n",
    "elif rsp_cond=='n':\n",
    "    rsp_cond_lab=''\n",
    "\n",
    "cond1=mne.read_evokeds(f'ana/MNE/evo_list/maskON/correct/cfa/hep/norm/maskON_correct_cfa_hep_norm_R2_aware_list-ave.fif')\n",
    "cond2=mne.read_evokeds(f'ana/MNE/evo_list/maskON/correct/cfa/hep/norm/maskON_correct_cfa_hep_norm_R2_unaware_list-ave.fif')"
   ],
   "metadata": {
    "collapsed": false,
    "ExecuteTime": {
     "end_time": "2025-08-14T13:24:02.330366100Z",
     "start_time": "2025-08-14T13:23:57.132688800Z"
    }
   }
  },
  {
   "cell_type": "code",
   "execution_count": 11,
   "outputs": [],
   "source": [
    "evo_awa=[ev.crop(-0.1,0.7) for ev in cond1]\n",
    "evo_unawa=[ev.crop(-0.1,0.7) for ev in cond2]"
   ],
   "metadata": {
    "collapsed": false,
    "ExecuteTime": {
     "end_time": "2025-08-14T13:24:14.446269200Z",
     "start_time": "2025-08-14T13:24:14.392874Z"
    }
   }
  },
  {
   "cell_type": "code",
   "execution_count": 15,
   "outputs": [
    {
     "name": "stderr",
     "output_type": "stream",
     "text": [
      "C:\\Users\\Vivi\\Documents\\GitHub\\unfold_proj\\stats\\stats_helper.py:141: RuntimeWarning: tmax is not in Evoked time interval. tmax is set to evoked.tmax (0.699219 sec)\n",
      "  data_crop = evoked[0].copy().crop(crop_value[0], crop_value[1])\n",
      "C:\\Users\\Vivi\\Documents\\GitHub\\unfold_proj\\stats\\stats_helper.py:158: RuntimeWarning: tmax is not in Evoked time interval. tmax is set to evoked.tmax (0.699219 sec)\n",
      "  X[idx, :, :] = ev.copy().crop(crop_value[0], crop_value[1]).data\n",
      "C:\\Users\\Vivi\\Documents\\GitHub\\unfold_proj\\stats\\stats_helper.py:158: RuntimeWarning: tmax is not in Evoked time interval. tmax is set to evoked.tmax (0.699219 sec)\n",
      "  X[idx, :, :] = ev.copy().crop(crop_value[0], crop_value[1]).data\n",
      "C:\\Users\\Vivi\\Documents\\GitHub\\unfold_proj\\stats\\stats_helper.py:158: RuntimeWarning: tmax is not in Evoked time interval. tmax is set to evoked.tmax (0.699219 sec)\n",
      "  X[idx, :, :] = ev.copy().crop(crop_value[0], crop_value[1]).data\n",
      "C:\\Users\\Vivi\\Documents\\GitHub\\unfold_proj\\stats\\stats_helper.py:158: RuntimeWarning: tmax is not in Evoked time interval. tmax is set to evoked.tmax (0.699219 sec)\n",
      "  X[idx, :, :] = ev.copy().crop(crop_value[0], crop_value[1]).data\n",
      "C:\\Users\\Vivi\\Documents\\GitHub\\unfold_proj\\stats\\stats_helper.py:158: RuntimeWarning: tmax is not in Evoked time interval. tmax is set to evoked.tmax (0.699219 sec)\n",
      "  X[idx, :, :] = ev.copy().crop(crop_value[0], crop_value[1]).data\n",
      "C:\\Users\\Vivi\\Documents\\GitHub\\unfold_proj\\stats\\stats_helper.py:158: RuntimeWarning: tmax is not in Evoked time interval. tmax is set to evoked.tmax (0.699219 sec)\n",
      "  X[idx, :, :] = ev.copy().crop(crop_value[0], crop_value[1]).data\n",
      "C:\\Users\\Vivi\\Documents\\GitHub\\unfold_proj\\stats\\stats_helper.py:158: RuntimeWarning: tmax is not in Evoked time interval. tmax is set to evoked.tmax (0.699219 sec)\n",
      "  X[idx, :, :] = ev.copy().crop(crop_value[0], crop_value[1]).data\n",
      "C:\\Users\\Vivi\\Documents\\GitHub\\unfold_proj\\stats\\stats_helper.py:158: RuntimeWarning: tmax is not in Evoked time interval. tmax is set to evoked.tmax (0.699219 sec)\n",
      "  X[idx, :, :] = ev.copy().crop(crop_value[0], crop_value[1]).data\n",
      "C:\\Users\\Vivi\\Documents\\GitHub\\unfold_proj\\stats\\stats_helper.py:158: RuntimeWarning: tmax is not in Evoked time interval. tmax is set to evoked.tmax (0.699219 sec)\n",
      "  X[idx, :, :] = ev.copy().crop(crop_value[0], crop_value[1]).data\n",
      "C:\\Users\\Vivi\\Documents\\GitHub\\unfold_proj\\stats\\stats_helper.py:158: RuntimeWarning: tmax is not in Evoked time interval. tmax is set to evoked.tmax (0.699219 sec)\n",
      "  X[idx, :, :] = ev.copy().crop(crop_value[0], crop_value[1]).data\n",
      "C:\\Users\\Vivi\\Documents\\GitHub\\unfold_proj\\stats\\stats_helper.py:158: RuntimeWarning: tmax is not in Evoked time interval. tmax is set to evoked.tmax (0.699219 sec)\n",
      "  X[idx, :, :] = ev.copy().crop(crop_value[0], crop_value[1]).data\n",
      "C:\\Users\\Vivi\\Documents\\GitHub\\unfold_proj\\stats\\stats_helper.py:158: RuntimeWarning: tmax is not in Evoked time interval. tmax is set to evoked.tmax (0.699219 sec)\n",
      "  X[idx, :, :] = ev.copy().crop(crop_value[0], crop_value[1]).data\n",
      "C:\\Users\\Vivi\\Documents\\GitHub\\unfold_proj\\stats\\stats_helper.py:158: RuntimeWarning: tmax is not in Evoked time interval. tmax is set to evoked.tmax (0.699219 sec)\n",
      "  X[idx, :, :] = ev.copy().crop(crop_value[0], crop_value[1]).data\n",
      "C:\\Users\\Vivi\\Documents\\GitHub\\unfold_proj\\stats\\stats_helper.py:158: RuntimeWarning: tmax is not in Evoked time interval. tmax is set to evoked.tmax (0.699219 sec)\n",
      "  X[idx, :, :] = ev.copy().crop(crop_value[0], crop_value[1]).data\n",
      "C:\\Users\\Vivi\\Documents\\GitHub\\unfold_proj\\stats\\stats_helper.py:158: RuntimeWarning: tmax is not in Evoked time interval. tmax is set to evoked.tmax (0.699219 sec)\n",
      "  X[idx, :, :] = ev.copy().crop(crop_value[0], crop_value[1]).data\n",
      "C:\\Users\\Vivi\\Documents\\GitHub\\unfold_proj\\stats\\stats_helper.py:158: RuntimeWarning: tmax is not in Evoked time interval. tmax is set to evoked.tmax (0.699219 sec)\n",
      "  X[idx, :, :] = ev.copy().crop(crop_value[0], crop_value[1]).data\n",
      "C:\\Users\\Vivi\\Documents\\GitHub\\unfold_proj\\stats\\stats_helper.py:158: RuntimeWarning: tmax is not in Evoked time interval. tmax is set to evoked.tmax (0.699219 sec)\n",
      "  X[idx, :, :] = ev.copy().crop(crop_value[0], crop_value[1]).data\n",
      "C:\\Users\\Vivi\\Documents\\GitHub\\unfold_proj\\stats\\stats_helper.py:158: RuntimeWarning: tmax is not in Evoked time interval. tmax is set to evoked.tmax (0.699219 sec)\n",
      "  X[idx, :, :] = ev.copy().crop(crop_value[0], crop_value[1]).data\n",
      "C:\\Users\\Vivi\\Documents\\GitHub\\unfold_proj\\stats\\stats_helper.py:158: RuntimeWarning: tmax is not in Evoked time interval. tmax is set to evoked.tmax (0.699219 sec)\n",
      "  X[idx, :, :] = ev.copy().crop(crop_value[0], crop_value[1]).data\n",
      "C:\\Users\\Vivi\\Documents\\GitHub\\unfold_proj\\stats\\stats_helper.py:158: RuntimeWarning: tmax is not in Evoked time interval. tmax is set to evoked.tmax (0.699219 sec)\n",
      "  X[idx, :, :] = ev.copy().crop(crop_value[0], crop_value[1]).data\n",
      "C:\\Users\\Vivi\\Documents\\GitHub\\unfold_proj\\stats\\stats_helper.py:158: RuntimeWarning: tmax is not in Evoked time interval. tmax is set to evoked.tmax (0.699219 sec)\n",
      "  X[idx, :, :] = ev.copy().crop(crop_value[0], crop_value[1]).data\n",
      "C:\\Users\\Vivi\\Documents\\GitHub\\unfold_proj\\stats\\stats_helper.py:158: RuntimeWarning: tmax is not in Evoked time interval. tmax is set to evoked.tmax (0.699219 sec)\n",
      "  X[idx, :, :] = ev.copy().crop(crop_value[0], crop_value[1]).data\n",
      "C:\\Users\\Vivi\\Documents\\GitHub\\unfold_proj\\stats\\stats_helper.py:158: RuntimeWarning: tmax is not in Evoked time interval. tmax is set to evoked.tmax (0.699219 sec)\n",
      "  X[idx, :, :] = ev.copy().crop(crop_value[0], crop_value[1]).data\n",
      "C:\\Users\\Vivi\\Documents\\GitHub\\unfold_proj\\stats\\stats_helper.py:158: RuntimeWarning: tmax is not in Evoked time interval. tmax is set to evoked.tmax (0.699219 sec)\n",
      "  X[idx, :, :] = ev.copy().crop(crop_value[0], crop_value[1]).data\n",
      "C:\\Users\\Vivi\\Documents\\GitHub\\unfold_proj\\stats\\stats_helper.py:158: RuntimeWarning: tmax is not in Evoked time interval. tmax is set to evoked.tmax (0.699219 sec)\n",
      "  X[idx, :, :] = ev.copy().crop(crop_value[0], crop_value[1]).data\n",
      "C:\\Users\\Vivi\\Documents\\GitHub\\unfold_proj\\stats\\stats_helper.py:158: RuntimeWarning: tmax is not in Evoked time interval. tmax is set to evoked.tmax (0.699219 sec)\n",
      "  X[idx, :, :] = ev.copy().crop(crop_value[0], crop_value[1]).data\n",
      "C:\\Users\\Vivi\\Documents\\GitHub\\unfold_proj\\stats\\stats_helper.py:158: RuntimeWarning: tmax is not in Evoked time interval. tmax is set to evoked.tmax (0.699219 sec)\n",
      "  X[idx, :, :] = ev.copy().crop(crop_value[0], crop_value[1]).data\n",
      "C:\\Users\\Vivi\\Documents\\GitHub\\unfold_proj\\stats\\stats_helper.py:158: RuntimeWarning: tmax is not in Evoked time interval. tmax is set to evoked.tmax (0.699219 sec)\n",
      "  X[idx, :, :] = ev.copy().crop(crop_value[0], crop_value[1]).data\n",
      "C:\\Users\\Vivi\\Documents\\GitHub\\unfold_proj\\stats\\stats_helper.py:158: RuntimeWarning: tmax is not in Evoked time interval. tmax is set to evoked.tmax (0.699219 sec)\n",
      "  X[idx, :, :] = ev.copy().crop(crop_value[0], crop_value[1]).data\n",
      "C:\\Users\\Vivi\\Documents\\GitHub\\unfold_proj\\stats\\stats_helper.py:158: RuntimeWarning: tmax is not in Evoked time interval. tmax is set to evoked.tmax (0.699219 sec)\n",
      "  X[idx, :, :] = ev.copy().crop(crop_value[0], crop_value[1]).data\n",
      "C:\\Users\\Vivi\\Documents\\GitHub\\unfold_proj\\stats\\stats_helper.py:141: RuntimeWarning: tmax is not in Evoked time interval. tmax is set to evoked.tmax (0.699219 sec)\n",
      "  data_crop = evoked[0].copy().crop(crop_value[0], crop_value[1])\n",
      "C:\\Users\\Vivi\\Documents\\GitHub\\unfold_proj\\stats\\stats_helper.py:158: RuntimeWarning: tmax is not in Evoked time interval. tmax is set to evoked.tmax (0.699219 sec)\n",
      "  X[idx, :, :] = ev.copy().crop(crop_value[0], crop_value[1]).data\n",
      "C:\\Users\\Vivi\\Documents\\GitHub\\unfold_proj\\stats\\stats_helper.py:158: RuntimeWarning: tmax is not in Evoked time interval. tmax is set to evoked.tmax (0.699219 sec)\n",
      "  X[idx, :, :] = ev.copy().crop(crop_value[0], crop_value[1]).data\n",
      "C:\\Users\\Vivi\\Documents\\GitHub\\unfold_proj\\stats\\stats_helper.py:158: RuntimeWarning: tmax is not in Evoked time interval. tmax is set to evoked.tmax (0.699219 sec)\n",
      "  X[idx, :, :] = ev.copy().crop(crop_value[0], crop_value[1]).data\n",
      "C:\\Users\\Vivi\\Documents\\GitHub\\unfold_proj\\stats\\stats_helper.py:158: RuntimeWarning: tmax is not in Evoked time interval. tmax is set to evoked.tmax (0.699219 sec)\n",
      "  X[idx, :, :] = ev.copy().crop(crop_value[0], crop_value[1]).data\n",
      "C:\\Users\\Vivi\\Documents\\GitHub\\unfold_proj\\stats\\stats_helper.py:158: RuntimeWarning: tmax is not in Evoked time interval. tmax is set to evoked.tmax (0.699219 sec)\n",
      "  X[idx, :, :] = ev.copy().crop(crop_value[0], crop_value[1]).data\n",
      "C:\\Users\\Vivi\\Documents\\GitHub\\unfold_proj\\stats\\stats_helper.py:158: RuntimeWarning: tmax is not in Evoked time interval. tmax is set to evoked.tmax (0.699219 sec)\n",
      "  X[idx, :, :] = ev.copy().crop(crop_value[0], crop_value[1]).data\n",
      "C:\\Users\\Vivi\\Documents\\GitHub\\unfold_proj\\stats\\stats_helper.py:158: RuntimeWarning: tmax is not in Evoked time interval. tmax is set to evoked.tmax (0.699219 sec)\n",
      "  X[idx, :, :] = ev.copy().crop(crop_value[0], crop_value[1]).data\n",
      "C:\\Users\\Vivi\\Documents\\GitHub\\unfold_proj\\stats\\stats_helper.py:158: RuntimeWarning: tmax is not in Evoked time interval. tmax is set to evoked.tmax (0.699219 sec)\n",
      "  X[idx, :, :] = ev.copy().crop(crop_value[0], crop_value[1]).data\n",
      "C:\\Users\\Vivi\\Documents\\GitHub\\unfold_proj\\stats\\stats_helper.py:158: RuntimeWarning: tmax is not in Evoked time interval. tmax is set to evoked.tmax (0.699219 sec)\n",
      "  X[idx, :, :] = ev.copy().crop(crop_value[0], crop_value[1]).data\n",
      "C:\\Users\\Vivi\\Documents\\GitHub\\unfold_proj\\stats\\stats_helper.py:158: RuntimeWarning: tmax is not in Evoked time interval. tmax is set to evoked.tmax (0.699219 sec)\n",
      "  X[idx, :, :] = ev.copy().crop(crop_value[0], crop_value[1]).data\n",
      "C:\\Users\\Vivi\\Documents\\GitHub\\unfold_proj\\stats\\stats_helper.py:158: RuntimeWarning: tmax is not in Evoked time interval. tmax is set to evoked.tmax (0.699219 sec)\n",
      "  X[idx, :, :] = ev.copy().crop(crop_value[0], crop_value[1]).data\n",
      "C:\\Users\\Vivi\\Documents\\GitHub\\unfold_proj\\stats\\stats_helper.py:158: RuntimeWarning: tmax is not in Evoked time interval. tmax is set to evoked.tmax (0.699219 sec)\n",
      "  X[idx, :, :] = ev.copy().crop(crop_value[0], crop_value[1]).data\n",
      "C:\\Users\\Vivi\\Documents\\GitHub\\unfold_proj\\stats\\stats_helper.py:158: RuntimeWarning: tmax is not in Evoked time interval. tmax is set to evoked.tmax (0.699219 sec)\n",
      "  X[idx, :, :] = ev.copy().crop(crop_value[0], crop_value[1]).data\n",
      "C:\\Users\\Vivi\\Documents\\GitHub\\unfold_proj\\stats\\stats_helper.py:158: RuntimeWarning: tmax is not in Evoked time interval. tmax is set to evoked.tmax (0.699219 sec)\n",
      "  X[idx, :, :] = ev.copy().crop(crop_value[0], crop_value[1]).data\n",
      "C:\\Users\\Vivi\\Documents\\GitHub\\unfold_proj\\stats\\stats_helper.py:158: RuntimeWarning: tmax is not in Evoked time interval. tmax is set to evoked.tmax (0.699219 sec)\n",
      "  X[idx, :, :] = ev.copy().crop(crop_value[0], crop_value[1]).data\n",
      "C:\\Users\\Vivi\\Documents\\GitHub\\unfold_proj\\stats\\stats_helper.py:158: RuntimeWarning: tmax is not in Evoked time interval. tmax is set to evoked.tmax (0.699219 sec)\n",
      "  X[idx, :, :] = ev.copy().crop(crop_value[0], crop_value[1]).data\n",
      "C:\\Users\\Vivi\\Documents\\GitHub\\unfold_proj\\stats\\stats_helper.py:158: RuntimeWarning: tmax is not in Evoked time interval. tmax is set to evoked.tmax (0.699219 sec)\n",
      "  X[idx, :, :] = ev.copy().crop(crop_value[0], crop_value[1]).data\n",
      "C:\\Users\\Vivi\\Documents\\GitHub\\unfold_proj\\stats\\stats_helper.py:158: RuntimeWarning: tmax is not in Evoked time interval. tmax is set to evoked.tmax (0.699219 sec)\n",
      "  X[idx, :, :] = ev.copy().crop(crop_value[0], crop_value[1]).data\n",
      "C:\\Users\\Vivi\\Documents\\GitHub\\unfold_proj\\stats\\stats_helper.py:158: RuntimeWarning: tmax is not in Evoked time interval. tmax is set to evoked.tmax (0.699219 sec)\n",
      "  X[idx, :, :] = ev.copy().crop(crop_value[0], crop_value[1]).data\n",
      "C:\\Users\\Vivi\\Documents\\GitHub\\unfold_proj\\stats\\stats_helper.py:158: RuntimeWarning: tmax is not in Evoked time interval. tmax is set to evoked.tmax (0.699219 sec)\n",
      "  X[idx, :, :] = ev.copy().crop(crop_value[0], crop_value[1]).data\n",
      "C:\\Users\\Vivi\\Documents\\GitHub\\unfold_proj\\stats\\stats_helper.py:158: RuntimeWarning: tmax is not in Evoked time interval. tmax is set to evoked.tmax (0.699219 sec)\n",
      "  X[idx, :, :] = ev.copy().crop(crop_value[0], crop_value[1]).data\n",
      "C:\\Users\\Vivi\\Documents\\GitHub\\unfold_proj\\stats\\stats_helper.py:158: RuntimeWarning: tmax is not in Evoked time interval. tmax is set to evoked.tmax (0.699219 sec)\n",
      "  X[idx, :, :] = ev.copy().crop(crop_value[0], crop_value[1]).data\n",
      "C:\\Users\\Vivi\\Documents\\GitHub\\unfold_proj\\stats\\stats_helper.py:158: RuntimeWarning: tmax is not in Evoked time interval. tmax is set to evoked.tmax (0.699219 sec)\n",
      "  X[idx, :, :] = ev.copy().crop(crop_value[0], crop_value[1]).data\n",
      "C:\\Users\\Vivi\\Documents\\GitHub\\unfold_proj\\stats\\stats_helper.py:158: RuntimeWarning: tmax is not in Evoked time interval. tmax is set to evoked.tmax (0.699219 sec)\n",
      "  X[idx, :, :] = ev.copy().crop(crop_value[0], crop_value[1]).data\n",
      "C:\\Users\\Vivi\\Documents\\GitHub\\unfold_proj\\stats\\stats_helper.py:158: RuntimeWarning: tmax is not in Evoked time interval. tmax is set to evoked.tmax (0.699219 sec)\n",
      "  X[idx, :, :] = ev.copy().crop(crop_value[0], crop_value[1]).data\n",
      "C:\\Users\\Vivi\\Documents\\GitHub\\unfold_proj\\stats\\stats_helper.py:158: RuntimeWarning: tmax is not in Evoked time interval. tmax is set to evoked.tmax (0.699219 sec)\n",
      "  X[idx, :, :] = ev.copy().crop(crop_value[0], crop_value[1]).data\n",
      "C:\\Users\\Vivi\\Documents\\GitHub\\unfold_proj\\stats\\stats_helper.py:158: RuntimeWarning: tmax is not in Evoked time interval. tmax is set to evoked.tmax (0.699219 sec)\n",
      "  X[idx, :, :] = ev.copy().crop(crop_value[0], crop_value[1]).data\n",
      "C:\\Users\\Vivi\\Documents\\GitHub\\unfold_proj\\stats\\stats_helper.py:158: RuntimeWarning: tmax is not in Evoked time interval. tmax is set to evoked.tmax (0.699219 sec)\n",
      "  X[idx, :, :] = ev.copy().crop(crop_value[0], crop_value[1]).data\n",
      "C:\\Users\\Vivi\\Documents\\GitHub\\unfold_proj\\stats\\stats_helper.py:158: RuntimeWarning: tmax is not in Evoked time interval. tmax is set to evoked.tmax (0.699219 sec)\n",
      "  X[idx, :, :] = ev.copy().crop(crop_value[0], crop_value[1]).data\n",
      "C:\\Users\\Vivi\\Documents\\GitHub\\unfold_proj\\stats\\stats_helper.py:158: RuntimeWarning: tmax is not in Evoked time interval. tmax is set to evoked.tmax (0.699219 sec)\n",
      "  X[idx, :, :] = ev.copy().crop(crop_value[0], crop_value[1]).data\n"
     ]
    },
    {
     "name": "stdout",
     "output_type": "stream",
     "text": [
      "(30, 128, 206)\n",
      "(30, 128, 206)\n",
      "-0.1\n",
      "number of time pointst: 11\n",
      "length of minimum time points to be significant: 1\n",
      "at the moment if only one TF is significant the electrode will be displayed as sig\n",
      "(128, 206)\n"
     ]
    }
   ],
   "source": [
    "%matplotlib qt\n",
    "data_shape=[-0.1,0.7]\n",
    "time_plot=[0.15]\n",
    "\n",
    "ts,ps=tTest_ana([evo_awa,evo_unawa],crop_value=data_shape,FDR=False,plot_times=[0.505],averages=0.02,p_val=0.01, topo_limits=[-6,6])"
   ],
   "metadata": {
    "collapsed": false,
    "ExecuteTime": {
     "end_time": "2025-08-14T13:25:54.987023200Z",
     "start_time": "2025-08-14T13:25:54.465399Z"
    }
   }
  },
  {
   "cell_type": "code",
   "execution_count": null,
   "outputs": [],
   "source": [],
   "metadata": {
    "collapsed": false
   }
  }
 ],
 "metadata": {
  "kernelspec": {
   "name": "mne",
   "language": "python",
   "display_name": "Python (mne)"
  },
  "language_info": {
   "codemirror_mode": {
    "name": "ipython",
    "version": 2
   },
   "file_extension": ".py",
   "mimetype": "text/x-python",
   "name": "python",
   "nbconvert_exporter": "python",
   "pygments_lexer": "ipython2",
   "version": "2.7.6"
  }
 },
 "nbformat": 4,
 "nbformat_minor": 5
}
