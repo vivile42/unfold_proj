{
 "cells": [
  {
   "cell_type": "code",
   "execution_count": 1,
   "outputs": [
    {
     "name": "stderr",
     "output_type": "stream",
     "text": [
      "C:\\Users\\Vivi\\anaconda3\\envs\\mne\\lib\\site-packages\\outdated\\utils.py:14: OutdatedPackageWarning: The package outdated is out of date. Your version is 0.2.1, the latest is 0.2.2.\n",
      "Set the environment variable OUTDATED_IGNORE=1 to disable these warnings.\n",
      "  return warn(\n",
      "C:\\Users\\Vivi\\anaconda3\\envs\\mne\\lib\\site-packages\\outdated\\utils.py:14: OutdatedPackageWarning: The package pingouin is out of date. Your version is 0.5.3, the latest is 0.5.5.\n",
      "Set the environment variable OUTDATED_IGNORE=1 to disable these warnings.\n",
      "  return warn(\n"
     ]
    }
   ],
   "source": [
    "\n",
    "import pandas as pd\n",
    "import re #regex library to format fast to read into pd\n",
    "import os\n",
    "\n",
    "import matplotlib.pyplot as plt\n",
    "import feather\n",
    "\n",
    "import numpy as np\n",
    "import platform\n",
    "import mne\n",
    "\n",
    "\n",
    "from mne.channels import find_ch_adjacency, make_1020_channel_selections\n",
    "from mne.stats import spatio_temporal_cluster_test\n",
    "from mne.stats import (ttest_1samp_no_p, bonferroni_correction, fdr_correction,\n",
    "\n",
    "\n",
    "                       permutation_t_test, permutation_cluster_1samp_test,spatio_temporal_cluster_1samp_test)\n",
    "import sys\n",
    "if platform.system()=='Darwin':\n",
    "    os.chdir('/Volumes/BBC/BBC/WP1/data/EEG/tsk/')\n",
    "    #sys.path.append('/Users/leupinv/BBC/WP1/data/Code/python/BBC')\n",
    "    #if this doesn't work pound line right above this, restart the kernel, rerun the cell.\n",
    "    #Then uncomment the same line and rerun\n",
    "\n",
    "else:\n",
    "    #os.chdir('Z:/BBC/WP1/data/EEG/tsk')\n",
    "    #sys.path.append('C:/Users/Vivi/switchdrive/BBC/WP1/data/Code/python/BBC')\n",
    "    os.chdir('Z:/BBC/WP1/data/EEG/tsk')\n",
    "\n",
    "from base.files_in_out import getListOfFiles,GetFiles\n",
    "from stats.stats_helper import filter_list, tTest_ana\n",
    "import stats.t_tests_cluster as clus\n",
    "import stats.stats_helper as s_hp\n",
    "import base.base_constants as cs"
   ],
   "metadata": {
    "collapsed": false,
    "ExecuteTime": {
     "end_time": "2025-06-30T13:34:42.643934500Z",
     "start_time": "2025-06-30T13:34:41.381556800Z"
    }
   }
  },
  {
   "cell_type": "code",
   "execution_count": 2,
   "outputs": [],
   "source": [
    "%load_ext autoreload\n",
    "%autoreload 2\n",
    "import matplotlib as mpl\n",
    "mpl.rcParams['svg.fonttype']='none'\n",
    "mpl.rcParams['text.usetex']=False\n",
    "plt.style.use('default')\n",
    "\n",
    "mpl.rcParams['svg.fonttype']='none'\n",
    "mpl.rcParams['text.usetex']=False"
   ],
   "metadata": {
    "collapsed": false,
    "ExecuteTime": {
     "end_time": "2025-06-30T13:37:49.194654300Z",
     "start_time": "2025-06-30T13:37:49.038416800Z"
    }
   }
  },
  {
   "cell_type": "code",
   "execution_count": 40,
   "outputs": [],
   "source": [
    "def data_cutter(data, time_limits=[-0.3, 0.8], new_time_limits=[-0.2, 0.6], sfreq=256):\n",
    "    \"\"\"\n",
    "    Cuts a 3D EEG data array ( time x electrodes) based on specified time limits.\n",
    "    Parameters:\n",
    "        data (np.ndarray): EEG data of shape (electrodes, time)\n",
    "        time_limits (list of float): Original epoch time range in seconds (e.g., [-0.3, 0.8])\n",
    "        new_time_limits (list of float): Desired time range to extract (e.g., [0.2, 0.6])\n",
    "        sfreq (int): Sampling frequency in Hz (default is 256)\n",
    "    Returns:\n",
    "        np.ndarray: The cut data with shape (new_time_points,electrodes)\n",
    "    \"\"\"\n",
    "    # Calculate the sample indices corresponding to the new time limits\n",
    "    start_idx = int(np.round((new_time_limits[0] - time_limits[0]) * sfreq))\n",
    "    end_idx = int(np.round((new_time_limits[1] - time_limits[0]) * sfreq))\n",
    "    if np.size(data.shape) > 1:\n",
    "        # Cut the data along the time dimension (axis=1)\n",
    "        return data[start_idx:end_idx,:]\n",
    "    else:\n",
    "        return data[start_idx:end_idx]\n",
    "\n"
   ],
   "metadata": {
    "collapsed": false,
    "ExecuteTime": {
     "end_time": "2025-06-30T14:20:49.636033800Z",
     "start_time": "2025-06-30T14:20:49.542282200Z"
    }
   }
  },
  {
   "cell_type": "code",
   "execution_count": 30,
   "outputs": [
    {
     "data": {
      "text/plain": "2"
     },
     "execution_count": 30,
     "metadata": {},
     "output_type": "execute_result"
    }
   ],
   "source": [
    "np.size(data.shape)"
   ],
   "metadata": {
    "collapsed": false,
    "ExecuteTime": {
     "end_time": "2025-06-30T14:06:41.611980700Z",
     "start_time": "2025-06-30T14:06:41.502606800Z"
    }
   }
  },
  {
   "cell_type": "markdown",
   "source": [
    "# Compute gavgs"
   ],
   "metadata": {
    "collapsed": false
   }
  },
  {
   "cell_type": "code",
   "execution_count": 4,
   "outputs": [],
   "source": [
    "g_num='g01'\n",
    "file_dir=f'ana/deconvolution/ep_betas/modfit/dc/{g_num}_modfit_hep_awareness_unaware_dc.ep'\n",
    "f = open(file_dir)\n"
   ],
   "metadata": {
    "collapsed": false,
    "ExecuteTime": {
     "end_time": "2025-06-30T13:37:52.202198900Z",
     "start_time": "2025-06-30T13:37:52.070054300Z"
    }
   }
  },
  {
   "cell_type": "code",
   "execution_count": 5,
   "outputs": [
    {
     "data": {
      "text/plain": "(256, 128)"
     },
     "execution_count": 5,
     "metadata": {},
     "output_type": "execute_result"
    }
   ],
   "source": [
    "data=np.loadtxt(file_dir)\n",
    "data.shape"
   ],
   "metadata": {
    "collapsed": false,
    "ExecuteTime": {
     "end_time": "2025-06-30T13:37:53.139205400Z",
     "start_time": "2025-06-30T13:37:52.920472800Z"
    }
   }
  },
  {
   "cell_type": "code",
   "execution_count": 18,
   "outputs": [],
   "source": [
    "subject_list=cs.G_N\n",
    "X=np.empty((len(subject_list),data.shape[1],data.shape[0]))\n",
    "cond_list=[\"awareness_unaware\",\"awareness\",\"awareness\",\"card_phase_sys\",\"_Intercept_\",\"awareness_unaware_card_phase_sys\"]\n",
    "fit='base'\n",
    "dc='dc'\n",
    "beta_type=cond_list[4]\n",
    "\n",
    "for idx,g_num in enumerate(subject_list):\n",
    "    file_dir=f'ana/deconvolution/ep_betas/{fit}/{dc}/{g_num}_{fit}_hep_{beta_type}_{dc}.ep'\n",
    "    data=np.loadtxt(file_dir)\n",
    "\n",
    "    X[idx,:,:]=data.T\n",
    "\n",
    "\n"
   ],
   "metadata": {
    "collapsed": false
   }
  },
  {
   "cell_type": "code",
   "execution_count": 19,
   "outputs": [],
   "source": [
    "gavg=np.mean(X,0).T\n",
    "filename=f'ana/deconvolution/ep_betas/{fit}/{dc}/gavg_{fit}_hep_{beta_type}_{dc}.ep'\n",
    "\n",
    "np.savetxt(filename,gavg)"
   ],
   "metadata": {
    "collapsed": false
   }
  },
  {
   "cell_type": "markdown",
   "source": [
    "# For cardfit/awafit"
   ],
   "metadata": {
    "collapsed": false
   }
  },
  {
   "cell_type": "code",
   "execution_count": 6,
   "outputs": [],
   "source": [
    "g_num='g01'\n",
    "file_dir=f'ana/deconvolution/ep_betas/cardfit/dc/{g_num}_sys_hep__Intercept__dc.ep'\n",
    "f = open(file_dir)\n"
   ],
   "metadata": {
    "collapsed": false,
    "ExecuteTime": {
     "end_time": "2025-06-30T13:38:03.639041800Z",
     "start_time": "2025-06-30T13:38:03.490205800Z"
    }
   }
  },
  {
   "cell_type": "code",
   "execution_count": 7,
   "outputs": [
    {
     "data": {
      "text/plain": "(256, 128)"
     },
     "execution_count": 7,
     "metadata": {},
     "output_type": "execute_result"
    }
   ],
   "source": [
    "data=np.loadtxt(file_dir)\n",
    "\n",
    "data.shape"
   ],
   "metadata": {
    "collapsed": false,
    "ExecuteTime": {
     "end_time": "2025-06-30T13:38:04.338263100Z",
     "start_time": "2025-06-30T13:38:04.150775800Z"
    }
   }
  },
  {
   "cell_type": "code",
   "execution_count": 8,
   "outputs": [],
   "source": [
    "subject_list=cs.G_N\n",
    "X=np.empty((len(subject_list),data.shape[1],data.shape[0]))\n",
    "sys_cond='unaware'\n",
    "fit='awafit'\n",
    "dc='dc'\n",
    "beta_type=\"_Intercept_\"\n",
    "\n",
    "for idx,g_num in enumerate(subject_list):\n",
    "    file_dir=f'ana/deconvolution/ep_betas/{fit}/{dc}/{g_num}_{sys_cond}_hep_{beta_type}_{dc}.ep'\n",
    "    data=np.loadtxt(file_dir)\n",
    "\n",
    "    X[idx,:,:]=data.T\n",
    "\n",
    "\n"
   ],
   "metadata": {
    "collapsed": false,
    "ExecuteTime": {
     "end_time": "2025-06-30T13:38:19.874872400Z",
     "start_time": "2025-06-30T13:38:16.536890600Z"
    }
   }
  },
  {
   "cell_type": "code",
   "execution_count": 24,
   "outputs": [],
   "source": [
    "gavg=np.mean(X,0).T\n",
    "filename=f'ana/deconvolution/ep_betas/{fit}/{dc}/gavg_{fit}_hep_{sys_cond}_{dc}.ep'\n",
    "\n",
    "np.savetxt(filename,gavg)"
   ],
   "metadata": {
    "collapsed": false
   }
  },
  {
   "cell_type": "markdown",
   "source": [
    "# Create df to get BF in R\n"
   ],
   "metadata": {
    "collapsed": false
   }
  },
  {
   "cell_type": "code",
   "execution_count": null,
   "outputs": [],
   "source": [],
   "metadata": {
    "collapsed": false
   }
  },
  {
   "cell_type": "code",
   "execution_count": null,
   "outputs": [],
   "source": [],
   "metadata": {
    "collapsed": false
   }
  },
  {
   "cell_type": "markdown",
   "source": [
    "# Plot waveforms gavgs\n",
    "## plot erps"
   ],
   "metadata": {
    "collapsed": false
   }
  },
  {
   "cell_type": "code",
   "execution_count": 4,
   "outputs": [
    {
     "name": "stdout",
     "output_type": "stream",
     "text": [
      "Reading ana/MNE/evo_list/maskOFF/correct/cfa/hep/norm/maskOFF_correct_cfa_hep_norm_RRCA_list-ave.fif ...\n",
      "    Read a total of 1 projection items:\n",
      "        Average EEG reference (1 x 128) active\n",
      "    Found the data of interest:\n",
      "        t =    -199.22 ...    1000.00 ms (0.13 × hep/normal/correct/aware/R/exh/RRCA + 0.08 × hep/normal/correct/aware/R/inh/RRCA + 0.47 × hep/normal/correct/aware/R2/exh/RRCA + 0.32 × hep/normal/correct/aware/R2/inh/RRCA\n",
      " G_n= g01)\n",
      "        0 CTF compensation matrices available\n",
      "        nave = 345 - aspect type = 100\n",
      "Projections have already been applied. Setting proj attribute to True.\n",
      "No baseline correction applied\n",
      "    Read a total of 1 projection items:\n",
      "        Average EEG reference (1 x 128) active\n",
      "    Found the data of interest:\n",
      "        t =    -199.22 ...    1000.00 ms (0.18 × hep/normal/correct/aware/R/exh/RRCA + 0.15 × hep/normal/correct/aware/R/inh/RRCA + 0.42 × hep/normal/correct/aware/R2/exh/RRCA + 0.25 × hep/normal/correct/aware/R2/inh/RRCA\n",
      " G_n= g03)\n",
      "        0 CTF compensation matrices available\n",
      "        nave = 372 - aspect type = 100\n",
      "Projections have already been applied. Setting proj attribute to True.\n",
      "No baseline correction applied\n",
      "    Read a total of 1 projection items:\n",
      "        Average EEG reference (1 x 128) active\n",
      "    Found the data of interest:\n",
      "        t =    -199.22 ...    1000.00 ms (0.13 × hep/normal/correct/aware/R/exh/RRCA + 0.14 × hep/normal/correct/aware/R/inh/RRCA + 0.35 × hep/normal/correct/aware/R2/exh/RRCA + 0.38 × hep/normal/correct/aware/R2/inh/RRCA\n",
      " G_n= g08)\n",
      "        0 CTF compensation matrices available\n",
      "        nave = 343 - aspect type = 100\n",
      "Projections have already been applied. Setting proj attribute to True.\n",
      "No baseline correction applied\n",
      "    Read a total of 1 projection items:\n",
      "        Average EEG reference (1 x 128) active\n",
      "    Found the data of interest:\n",
      "        t =    -199.22 ...    1000.00 ms (0.16 × hep/normal/correct/aware/R/exh/RRCA + 0.13 × hep/normal/correct/aware/R/inh/RRCA + 0.45 × hep/normal/correct/aware/R2/exh/RRCA + 0.27 × hep/normal/correct/aware/R2/inh/RRCA\n",
      " G_n= g10)\n",
      "        0 CTF compensation matrices available\n",
      "        nave = 400 - aspect type = 100\n",
      "Projections have already been applied. Setting proj attribute to True.\n",
      "No baseline correction applied\n",
      "    Read a total of 1 projection items:\n",
      "        Average EEG reference (1 x 128) active\n",
      "    Found the data of interest:\n",
      "        t =    -199.22 ...    1000.00 ms (0.17 × hep/normal/correct/aware/R/exh/RRCA + 0.14 × hep/normal/correct/aware/R/inh/RRCA + 0.39 × hep/normal/correct/aware/R2/exh/RRCA + 0.30 × hep/normal/correct/aware/R2/inh/RRCA\n",
      " G_n= g11)\n",
      "        0 CTF compensation matrices available\n",
      "        nave = 337 - aspect type = 100\n",
      "Projections have already been applied. Setting proj attribute to True.\n",
      "No baseline correction applied\n",
      "    Read a total of 1 projection items:\n",
      "        Average EEG reference (1 x 128) active\n",
      "    Found the data of interest:\n",
      "        t =    -199.22 ...    1000.00 ms (0.16 × hep/normal/correct/aware/R/exh/RRCA + 0.22 × hep/normal/correct/aware/R/inh/RRCA + 0.31 × hep/normal/correct/aware/R2/exh/RRCA + 0.31 × hep/normal/correct/aware/R2/inh/RRCA\n",
      " G_n= g12)\n",
      "        0 CTF compensation matrices available\n",
      "        nave = 154 - aspect type = 100\n",
      "Projections have already been applied. Setting proj attribute to True.\n",
      "No baseline correction applied\n",
      "    Read a total of 1 projection items:\n",
      "        Average EEG reference (1 x 128) active\n",
      "    Found the data of interest:\n",
      "        t =    -199.22 ...    1000.00 ms (0.20 × hep/normal/correct/aware/R/exh/RRCA + 0.12 × hep/normal/correct/aware/R/inh/RRCA + 0.41 × hep/normal/correct/aware/R2/exh/RRCA + 0.26 × hep/normal/correct/aware/R2/inh/RRCA\n",
      " G_n= g15)\n",
      "        0 CTF compensation matrices available\n",
      "        nave = 273 - aspect type = 100\n",
      "Projections have already been applied. Setting proj attribute to True.\n",
      "No baseline correction applied\n",
      "    Read a total of 1 projection items:\n",
      "        Average EEG reference (1 x 128) active\n",
      "    Found the data of interest:\n",
      "        t =    -199.22 ...    1000.00 ms (0.14 × hep/normal/correct/aware/R/exh/RRCA + 0.14 × hep/normal/correct/aware/R/inh/RRCA + 0.36 × hep/normal/correct/aware/R2/exh/RRCA + 0.36 × hep/normal/correct/aware/R2/inh/RRCA\n",
      " G_n= g16)\n",
      "        0 CTF compensation matrices available\n",
      "        nave = 295 - aspect type = 100\n",
      "Projections have already been applied. Setting proj attribute to True.\n",
      "No baseline correction applied\n",
      "    Read a total of 1 projection items:\n",
      "        Average EEG reference (1 x 128) active\n",
      "    Found the data of interest:\n",
      "        t =    -199.22 ...    1000.00 ms (0.14 × hep/normal/correct/aware/R/exh/RRCA + 0.17 × hep/normal/correct/aware/R/inh/RRCA + 0.34 × hep/normal/correct/aware/R2/exh/RRCA + 0.35 × hep/normal/correct/aware/R2/inh/RRCA\n",
      " G_n= g17)\n",
      "        0 CTF compensation matrices available\n",
      "        nave = 318 - aspect type = 100\n",
      "Projections have already been applied. Setting proj attribute to True.\n",
      "No baseline correction applied\n",
      "    Read a total of 1 projection items:\n",
      "        Average EEG reference (1 x 128) active\n",
      "    Found the data of interest:\n",
      "        t =    -199.22 ...    1000.00 ms (0.16 × hep/normal/correct/aware/R/exh/RRCA + 0.16 × hep/normal/correct/aware/R/inh/RRCA + 0.40 × hep/normal/correct/aware/R2/exh/RRCA + 0.28 × hep/normal/correct/aware/R2/inh/RRCA\n",
      " G_n= g19)\n",
      "        0 CTF compensation matrices available\n",
      "        nave = 413 - aspect type = 100\n",
      "Projections have already been applied. Setting proj attribute to True.\n",
      "No baseline correction applied\n",
      "    Read a total of 1 projection items:\n",
      "        Average EEG reference (1 x 128) active\n",
      "    Found the data of interest:\n",
      "        t =    -199.22 ...    1000.00 ms (0.12 × hep/normal/correct/aware/R/exh/RRCA + 0.14 × hep/normal/correct/aware/R/inh/RRCA + 0.38 × hep/normal/correct/aware/R2/exh/RRCA + 0.36 × hep/normal/correct/aware/R2/inh/RRCA\n",
      " G_n= g23)\n",
      "        0 CTF compensation matrices available\n",
      "        nave = 425 - aspect type = 100\n",
      "Projections have already been applied. Setting proj attribute to True.\n",
      "No baseline correction applied\n",
      "    Read a total of 1 projection items:\n",
      "        Average EEG reference (1 x 128) active\n",
      "    Found the data of interest:\n",
      "        t =    -199.22 ...    1000.00 ms (0.15 × hep/normal/correct/aware/R/exh/RRCA + 0.13 × hep/normal/correct/aware/R/inh/RRCA + 0.38 × hep/normal/correct/aware/R2/exh/RRCA + 0.35 × hep/normal/correct/aware/R2/inh/RRCA\n",
      " G_n= g24)\n",
      "        0 CTF compensation matrices available\n",
      "        nave = 167 - aspect type = 100\n",
      "Projections have already been applied. Setting proj attribute to True.\n",
      "No baseline correction applied\n",
      "    Read a total of 1 projection items:\n",
      "        Average EEG reference (1 x 128) active\n",
      "    Found the data of interest:\n",
      "        t =    -199.22 ...    1000.00 ms (0.21 × hep/normal/correct/aware/R/exh/RRCA + 0.14 × hep/normal/correct/aware/R/inh/RRCA + 0.38 × hep/normal/correct/aware/R2/exh/RRCA + 0.28 × hep/normal/correct/aware/R2/inh/RRCA\n",
      " G_n= g25)\n",
      "        0 CTF compensation matrices available\n",
      "        nave = 494 - aspect type = 100\n",
      "Projections have already been applied. Setting proj attribute to True.\n",
      "No baseline correction applied\n",
      "    Read a total of 1 projection items:\n",
      "        Average EEG reference (1 x 128) active\n",
      "    Found the data of interest:\n",
      "        t =    -199.22 ...    1000.00 ms (0.17 × hep/normal/correct/aware/R/exh/RRCA + 0.07 × hep/normal/correct/aware/R/inh/RRCA + 0.50 × hep/normal/correct/aware/R2/exh/RRCA + 0.27 × hep/normal/correct/aware/R2/inh/RRCA\n",
      " G_n= g28)\n",
      "        0 CTF compensation matrices available\n",
      "        nave = 184 - aspect type = 100\n",
      "Projections have already been applied. Setting proj attribute to True.\n",
      "No baseline correction applied\n",
      "    Read a total of 1 projection items:\n",
      "        Average EEG reference (1 x 128) active\n",
      "    Found the data of interest:\n",
      "        t =    -199.22 ...    1000.00 ms (0.19 × hep/normal/correct/aware/R/exh/RRCA + 0.10 × hep/normal/correct/aware/R/inh/RRCA + 0.48 × hep/normal/correct/aware/R2/exh/RRCA + 0.23 × hep/normal/correct/aware/R2/inh/RRCA\n",
      " G_n= g32)\n",
      "        0 CTF compensation matrices available\n",
      "        nave = 358 - aspect type = 100\n",
      "Projections have already been applied. Setting proj attribute to True.\n",
      "No baseline correction applied\n",
      "    Read a total of 1 projection items:\n",
      "        Average EEG reference (1 x 128) active\n",
      "    Found the data of interest:\n",
      "        t =    -199.22 ...    1000.00 ms (0.22 × hep/normal/correct/aware/R/exh/RRCA + 0.13 × hep/normal/correct/aware/R/inh/RRCA + 0.39 × hep/normal/correct/aware/R2/exh/RRCA + 0.26 × hep/normal/correct/aware/R2/inh/RRCA\n",
      " G_n= g33)\n",
      "        0 CTF compensation matrices available\n",
      "        nave = 346 - aspect type = 100\n",
      "Projections have already been applied. Setting proj attribute to True.\n",
      "No baseline correction applied\n",
      "    Read a total of 1 projection items:\n",
      "        Average EEG reference (1 x 128) active\n",
      "    Found the data of interest:\n",
      "        t =    -199.22 ...    1000.00 ms (0.20 × hep/normal/correct/aware/R/exh/RRCA + 0.14 × hep/normal/correct/aware/R/inh/RRCA + 0.44 × hep/normal/correct/aware/R2/exh/RRCA + 0.22 × hep/normal/correct/aware/R2/inh/RRCA\n",
      " G_n= g34)\n",
      "        0 CTF compensation matrices available\n",
      "        nave = 394 - aspect type = 100\n",
      "Projections have already been applied. Setting proj attribute to True.\n",
      "No baseline correction applied\n",
      "    Read a total of 1 projection items:\n",
      "        Average EEG reference (1 x 128) active\n",
      "    Found the data of interest:\n",
      "        t =    -199.22 ...    1000.00 ms (0.09 × hep/normal/correct/aware/R/exh/RRCA + 0.22 × hep/normal/correct/aware/R/inh/RRCA + 0.20 × hep/normal/correct/aware/R2/exh/RRCA + 0.48 × hep/normal/correct/aware/R2/inh/RRCA\n",
      " G_n= g37)\n",
      "        0 CTF compensation matrices available\n",
      "        nave = 232 - aspect type = 100\n",
      "Projections have already been applied. Setting proj attribute to True.\n",
      "No baseline correction applied\n",
      "    Read a total of 1 projection items:\n",
      "        Average EEG reference (1 x 128) active\n",
      "    Found the data of interest:\n",
      "        t =    -199.22 ...    1000.00 ms (0.18 × hep/normal/correct/aware/R/exh/RRCA + 0.14 × hep/normal/correct/aware/R/inh/RRCA + 0.42 × hep/normal/correct/aware/R2/exh/RRCA + 0.26 × hep/normal/correct/aware/R2/inh/RRCA\n",
      " G_n= g38)\n",
      "        0 CTF compensation matrices available\n",
      "        nave = 308 - aspect type = 100\n",
      "Projections have already been applied. Setting proj attribute to True.\n",
      "No baseline correction applied\n",
      "    Read a total of 1 projection items:\n",
      "        Average EEG reference (1 x 128) active\n",
      "    Found the data of interest:\n",
      "        t =    -199.22 ...    1000.00 ms (0.15 × hep/normal/correct/aware/R/exh/RRCA + 0.18 × hep/normal/correct/aware/R/inh/RRCA + 0.40 × hep/normal/correct/aware/R2/exh/RRCA + 0.27 × hep/normal/correct/aware/R2/inh/RRCA\n",
      " G_n= g39)\n",
      "        0 CTF compensation matrices available\n",
      "        nave = 226 - aspect type = 100\n",
      "Projections have already been applied. Setting proj attribute to True.\n",
      "No baseline correction applied\n",
      "    Read a total of 1 projection items:\n",
      "        Average EEG reference (1 x 128) active\n",
      "    Found the data of interest:\n",
      "        t =    -199.22 ...    1000.00 ms (0.13 × hep/normal/correct/aware/R/exh/RRCA + 0.08 × hep/normal/correct/aware/R/inh/RRCA + 0.50 × hep/normal/correct/aware/R2/exh/RRCA + 0.30 × hep/normal/correct/aware/R2/inh/RRCA\n",
      " G_n= g40)\n",
      "        0 CTF compensation matrices available\n",
      "        nave = 240 - aspect type = 100\n",
      "Projections have already been applied. Setting proj attribute to True.\n",
      "No baseline correction applied\n",
      "    Read a total of 1 projection items:\n",
      "        Average EEG reference (1 x 128) active\n",
      "    Found the data of interest:\n",
      "        t =    -199.22 ...    1000.00 ms (0.14 × hep/normal/correct/aware/R/exh/RRCA + 0.16 × hep/normal/correct/aware/R/inh/RRCA + 0.44 × hep/normal/correct/aware/R2/exh/RRCA + 0.26 × hep/normal/correct/aware/R2/inh/RRCA\n",
      " G_n= g41)\n",
      "        0 CTF compensation matrices available\n",
      "        nave = 281 - aspect type = 100\n",
      "Projections have already been applied. Setting proj attribute to True.\n",
      "No baseline correction applied\n",
      "    Read a total of 1 projection items:\n",
      "        Average EEG reference (1 x 128) active\n",
      "    Found the data of interest:\n",
      "        t =    -199.22 ...    1000.00 ms (0.15 × hep/normal/correct/aware/R/exh/RRCA + 0.13 × hep/normal/correct/aware/R/inh/RRCA + 0.36 × hep/normal/correct/aware/R2/exh/RRCA + 0.35 × hep/normal/correct/aware/R2/inh/RRCA\n",
      " G_n= g42)\n",
      "        0 CTF compensation matrices available\n",
      "        nave = 354 - aspect type = 100\n",
      "Projections have already been applied. Setting proj attribute to True.\n",
      "No baseline correction applied\n",
      "    Read a total of 1 projection items:\n",
      "        Average EEG reference (1 x 128) active\n",
      "    Found the data of interest:\n",
      "        t =    -199.22 ...    1000.00 ms (0.18 × hep/normal/correct/aware/R/exh/RRCA + 0.12 × hep/normal/correct/aware/R/inh/RRCA + 0.45 × hep/normal/correct/aware/R2/exh/RRCA + 0.25 × hep/normal/correct/aware/R2/inh/RRCA\n",
      " G_n= g44)\n",
      "        0 CTF compensation matrices available\n",
      "        nave = 301 - aspect type = 100\n",
      "Projections have already been applied. Setting proj attribute to True.\n",
      "No baseline correction applied\n",
      "    Read a total of 1 projection items:\n",
      "        Average EEG reference (1 x 128) active\n",
      "    Found the data of interest:\n",
      "        t =    -199.22 ...    1000.00 ms (0.18 × hep/normal/correct/aware/R/exh/RRCA + 0.08 × hep/normal/correct/aware/R/inh/RRCA + 0.50 × hep/normal/correct/aware/R2/exh/RRCA + 0.24 × hep/normal/correct/aware/R2/inh/RRCA\n",
      " G_n= g45)\n",
      "        0 CTF compensation matrices available\n",
      "        nave = 407 - aspect type = 100\n",
      "Projections have already been applied. Setting proj attribute to True.\n",
      "No baseline correction applied\n",
      "    Read a total of 1 projection items:\n",
      "        Average EEG reference (1 x 128) active\n",
      "    Found the data of interest:\n",
      "        t =    -199.22 ...    1000.00 ms (0.07 × hep/normal/correct/aware/R/exh/RRCA + 0.15 × hep/normal/correct/aware/R/inh/RRCA + 0.41 × hep/normal/correct/aware/R2/exh/RRCA + 0.37 × hep/normal/correct/aware/R2/inh/RRCA\n",
      " G_n= g46)\n",
      "        0 CTF compensation matrices available\n",
      "        nave = 361 - aspect type = 100\n",
      "Projections have already been applied. Setting proj attribute to True.\n",
      "No baseline correction applied\n",
      "    Read a total of 1 projection items:\n",
      "        Average EEG reference (1 x 128) active\n",
      "    Found the data of interest:\n",
      "        t =    -199.22 ...    1000.00 ms (0.14 × hep/normal/correct/aware/R/exh/RRCA + 0.15 × hep/normal/correct/aware/R/inh/RRCA + 0.41 × hep/normal/correct/aware/R2/exh/RRCA + 0.30 × hep/normal/correct/aware/R2/inh/RRCA\n",
      " G_n= g47)\n",
      "        0 CTF compensation matrices available\n",
      "        nave = 435 - aspect type = 100\n",
      "Projections have already been applied. Setting proj attribute to True.\n",
      "No baseline correction applied\n",
      "    Read a total of 1 projection items:\n",
      "        Average EEG reference (1 x 128) active\n",
      "    Found the data of interest:\n",
      "        t =    -199.22 ...    1000.00 ms (0.18 × hep/normal/correct/aware/R/exh/RRCA + 0.14 × hep/normal/correct/aware/R/inh/RRCA + 0.44 × hep/normal/correct/aware/R2/exh/RRCA + 0.24 × hep/normal/correct/aware/R2/inh/RRCA\n",
      " G_n= g49)\n",
      "        0 CTF compensation matrices available\n",
      "        nave = 288 - aspect type = 100\n",
      "Projections have already been applied. Setting proj attribute to True.\n",
      "No baseline correction applied\n",
      "    Read a total of 1 projection items:\n",
      "        Average EEG reference (1 x 128) active\n",
      "    Found the data of interest:\n",
      "        t =    -199.22 ...    1000.00 ms (0.22 × hep/normal/correct/aware/R/exh/RRCA + 0.10 × hep/normal/correct/aware/R/inh/RRCA + 0.49 × hep/normal/correct/aware/R2/exh/RRCA + 0.19 × hep/normal/correct/aware/R2/inh/RRCA\n",
      " G_n= g51)\n",
      "        0 CTF compensation matrices available\n",
      "        nave = 343 - aspect type = 100\n",
      "Projections have already been applied. Setting proj attribute to True.\n",
      "No baseline correction applied\n",
      "    Read a total of 1 projection items:\n",
      "        Average EEG reference (1 x 128) active\n",
      "    Found the data of interest:\n",
      "        t =    -199.22 ...    1000.00 ms (0.17 × hep/normal/correct/aware/R/exh/RRCA + 0.13 × hep/normal/correct/aware/R/inh/RRCA + 0.39 × hep/normal/correct/aware/R2/exh/RRCA + 0.31 × hep/normal/correct/aware/R2/inh/RRCA\n",
      " G_n= g52)\n",
      "        0 CTF compensation matrices available\n",
      "        nave = 254 - aspect type = 100\n",
      "Projections have already been applied. Setting proj attribute to True.\n",
      "No baseline correction applied\n",
      "Reading ana/MNE/evo_list/maskOFF/correct/cfa/hep/norm/maskOFF_correct_cfa_hep_norm_RRCU_list-ave.fif ...\n",
      "    Read a total of 1 projection items:\n",
      "        Average EEG reference (1 x 128) active\n",
      "    Found the data of interest:\n",
      "        t =    -199.22 ...    1000.00 ms (0.13 × hep/normal/correct/unaware/R/exh/RRCU + 0.12 × hep/normal/correct/unaware/R/inh/RRCU + 0.46 × hep/normal/correct/unaware/R2/exh/RRCU + 0.30 × hep/normal/correct/unaware/R2/inh/RRCU\n",
      " G_n= g01)\n",
      "        0 CTF compensation matrices available\n",
      "        nave = 298 - aspect type = 100\n",
      "Projections have already been applied. Setting proj attribute to True.\n",
      "No baseline correction applied\n",
      "    Read a total of 1 projection items:\n",
      "        Average EEG reference (1 x 128) active\n",
      "    Found the data of interest:\n",
      "        t =    -199.22 ...    1000.00 ms (0.18 × hep/normal/correct/unaware/R/exh/RRCU + 0.11 × hep/normal/correct/unaware/R/inh/RRCU + 0.45 × hep/normal/correct/unaware/R2/exh/RRCU + 0.25 × hep/normal/correct/unaware/R2/inh/RRCU\n",
      " G_n= g03)\n",
      "        0 CTF compensation matrices available\n",
      "        nave = 212 - aspect type = 100\n",
      "Projections have already been applied. Setting proj attribute to True.\n",
      "No baseline correction applied\n",
      "    Read a total of 1 projection items:\n",
      "        Average EEG reference (1 x 128) active\n",
      "    Found the data of interest:\n",
      "        t =    -199.22 ...    1000.00 ms (0.22 × hep/normal/correct/unaware/R/exh/RRCU + 0.12 × hep/normal/correct/unaware/R/inh/RRCU + 0.32 × hep/normal/correct/unaware/R2/exh/RRCU + 0.35 × hep/normal/correct/unaware/R2/inh/RRCU\n",
      " G_n= g08)\n",
      "        0 CTF compensation matrices available\n",
      "        nave = 158 - aspect type = 100\n",
      "Projections have already been applied. Setting proj attribute to True.\n",
      "No baseline correction applied\n",
      "    Read a total of 1 projection items:\n",
      "        Average EEG reference (1 x 128) active\n",
      "    Found the data of interest:\n",
      "        t =    -199.22 ...    1000.00 ms (0.11 × hep/normal/correct/unaware/R/exh/RRCU + 0.11 × hep/normal/correct/unaware/R/inh/RRCU + 0.47 × hep/normal/correct/unaware/R2/exh/RRCU + 0.32 × hep/normal/correct/unaware/R2/inh/RRCU\n",
      " G_n= g10)\n",
      "        0 CTF compensation matrices available\n",
      "        nave = 187 - aspect type = 100\n",
      "Projections have already been applied. Setting proj attribute to True.\n",
      "No baseline correction applied\n",
      "    Read a total of 1 projection items:\n",
      "        Average EEG reference (1 x 128) active\n",
      "    Found the data of interest:\n",
      "        t =    -199.22 ...    1000.00 ms (0.17 × hep/normal/correct/unaware/R/exh/RRCU + 0.12 × hep/normal/correct/unaware/R/inh/RRCU + 0.43 × hep/normal/correct/unaware/R2/exh/RRCU + 0.27 × hep/normal/correct/unaware/R2/inh/RRCU\n",
      " G_n= g11)\n",
      "        0 CTF compensation matrices available\n",
      "        nave = 322 - aspect type = 100\n",
      "Projections have already been applied. Setting proj attribute to True.\n",
      "No baseline correction applied\n",
      "    Read a total of 1 projection items:\n",
      "        Average EEG reference (1 x 128) active\n",
      "    Found the data of interest:\n",
      "        t =    -199.22 ...    1000.00 ms (0.13 × hep/normal/correct/unaware/R/exh/RRCU + 0.16 × hep/normal/correct/unaware/R/inh/RRCU + 0.34 × hep/normal/correct/unaware/R2/exh/RRCU + 0.37 × hep/normal/correct/unaware/R2/inh/RRCU\n",
      " G_n= g12)\n",
      "        0 CTF compensation matrices available\n",
      "        nave = 153 - aspect type = 100\n",
      "Projections have already been applied. Setting proj attribute to True.\n",
      "No baseline correction applied\n",
      "    Read a total of 1 projection items:\n",
      "        Average EEG reference (1 x 128) active\n",
      "    Found the data of interest:\n",
      "        t =    -199.22 ...    1000.00 ms (0.17 × hep/normal/correct/unaware/R/exh/RRCU + 0.12 × hep/normal/correct/unaware/R/inh/RRCU + 0.42 × hep/normal/correct/unaware/R2/exh/RRCU + 0.29 × hep/normal/correct/unaware/R2/inh/RRCU + 0.00 × hep/normal/correct/unaware/RR/exh/RRCU\n",
      " G_n= g15)\n",
      "        0 CTF compensation matrices available\n",
      "        nave = 330 - aspect type = 100\n",
      "Projections have already been applied. Setting proj attribute to True.\n",
      "No baseline correction applied\n",
      "    Read a total of 1 projection items:\n",
      "        Average EEG reference (1 x 128) active\n",
      "    Found the data of interest:\n",
      "        t =    -199.22 ...    1000.00 ms (0.17 × hep/normal/correct/unaware/R/exh/RRCU + 0.15 × hep/normal/correct/unaware/R/inh/RRCU + 0.37 × hep/normal/correct/unaware/R2/exh/RRCU + 0.30 × hep/normal/correct/unaware/R2/inh/RRCU\n",
      " G_n= g16)\n",
      "        0 CTF compensation matrices available\n",
      "        nave = 297 - aspect type = 100\n",
      "Projections have already been applied. Setting proj attribute to True.\n",
      "No baseline correction applied\n",
      "    Read a total of 1 projection items:\n",
      "        Average EEG reference (1 x 128) active\n",
      "    Found the data of interest:\n",
      "        t =    -199.22 ...    1000.00 ms (0.11 × hep/normal/correct/unaware/R/exh/RRCU + 0.15 × hep/normal/correct/unaware/R/inh/RRCU + 0.34 × hep/normal/correct/unaware/R2/exh/RRCU + 0.39 × hep/normal/correct/unaware/R2/inh/RRCU\n",
      " G_n= g17)\n",
      "        0 CTF compensation matrices available\n",
      "        nave = 445 - aspect type = 100\n",
      "Projections have already been applied. Setting proj attribute to True.\n",
      "No baseline correction applied\n",
      "    Read a total of 1 projection items:\n",
      "        Average EEG reference (1 x 128) active\n",
      "    Found the data of interest:\n",
      "        t =    -199.22 ...    1000.00 ms (0.19 × hep/normal/correct/unaware/R/exh/RRCU + 0.14 × hep/normal/correct/unaware/R/inh/RRCU + 0.41 × hep/normal/correct/unaware/R2/exh/RRCU + 0.27 × hep/normal/correct/unaware/R2/inh/RRCU\n",
      " G_n= g19)\n",
      "        0 CTF compensation matrices available\n",
      "        nave = 236 - aspect type = 100\n",
      "Projections have already been applied. Setting proj attribute to True.\n",
      "No baseline correction applied\n",
      "    Read a total of 1 projection items:\n",
      "        Average EEG reference (1 x 128) active\n",
      "    Found the data of interest:\n",
      "        t =    -199.22 ...    1000.00 ms (0.11 × hep/normal/correct/unaware/R/exh/RRCU + 0.16 × hep/normal/correct/unaware/R/inh/RRCU + 0.36 × hep/normal/correct/unaware/R2/exh/RRCU + 0.37 × hep/normal/correct/unaware/R2/inh/RRCU\n",
      " G_n= g23)\n",
      "        0 CTF compensation matrices available\n",
      "        nave = 223 - aspect type = 100\n",
      "Projections have already been applied. Setting proj attribute to True.\n",
      "No baseline correction applied\n",
      "    Read a total of 1 projection items:\n",
      "        Average EEG reference (1 x 128) active\n",
      "    Found the data of interest:\n",
      "        t =    -199.22 ...    1000.00 ms (0.17 × hep/normal/correct/unaware/R/exh/RRCU + 0.09 × hep/normal/correct/unaware/R/inh/RRCU + 0.42 × hep/normal/correct/unaware/R2/exh/RRCU + 0.32 × hep/normal/correct/unaware/R2/inh/RRCU\n",
      " G_n= g24)\n",
      "        0 CTF compensation matrices available\n",
      "        nave = 338 - aspect type = 100\n",
      "Projections have already been applied. Setting proj attribute to True.\n",
      "No baseline correction applied\n",
      "    Read a total of 1 projection items:\n",
      "        Average EEG reference (1 x 128) active\n",
      "    Found the data of interest:\n",
      "        t =    -199.22 ...    1000.00 ms (0.16 × hep/normal/correct/unaware/R/exh/RRCU + 0.16 × hep/normal/correct/unaware/R/inh/RRCU + 0.39 × hep/normal/correct/unaware/R2/exh/RRCU + 0.30 × hep/normal/correct/unaware/R2/inh/RRCU\n",
      " G_n= g25)\n",
      "        0 CTF compensation matrices available\n",
      "        nave = 245 - aspect type = 100\n",
      "Projections have already been applied. Setting proj attribute to True.\n",
      "No baseline correction applied\n",
      "    Read a total of 1 projection items:\n",
      "        Average EEG reference (1 x 128) active\n",
      "    Found the data of interest:\n",
      "        t =    -199.22 ...    1000.00 ms (0.19 × hep/normal/correct/unaware/R/exh/RRCU + 0.10 × hep/normal/correct/unaware/R/inh/RRCU + 0.43 × hep/normal/correct/unaware/R2/exh/RRCU + 0.27 × hep/normal/correct/unaware/R2/inh/RRCU\n",
      " G_n= g28)\n",
      "        0 CTF compensation matrices available\n",
      "        nave = 381 - aspect type = 100\n",
      "Projections have already been applied. Setting proj attribute to True.\n",
      "No baseline correction applied\n",
      "    Read a total of 1 projection items:\n",
      "        Average EEG reference (1 x 128) active\n",
      "    Found the data of interest:\n",
      "        t =    -199.22 ...    1000.00 ms (0.15 × hep/normal/correct/unaware/R/exh/RRCU + 0.13 × hep/normal/correct/unaware/R/inh/RRCU + 0.50 × hep/normal/correct/unaware/R2/exh/RRCU + 0.22 × hep/normal/correct/unaware/R2/inh/RRCU\n",
      " G_n= g32)\n",
      "        0 CTF compensation matrices available\n",
      "        nave = 298 - aspect type = 100\n",
      "Projections have already been applied. Setting proj attribute to True.\n",
      "No baseline correction applied\n",
      "    Read a total of 1 projection items:\n",
      "        Average EEG reference (1 x 128) active\n",
      "    Found the data of interest:\n",
      "        t =    -199.22 ...    1000.00 ms (0.22 × hep/normal/correct/unaware/R/exh/RRCU + 0.12 × hep/normal/correct/unaware/R/inh/RRCU + 0.47 × hep/normal/correct/unaware/R2/exh/RRCU + 0.20 × hep/normal/correct/unaware/R2/inh/RRCU\n",
      " G_n= g33)\n",
      "        0 CTF compensation matrices available\n",
      "        nave = 376 - aspect type = 100\n",
      "Projections have already been applied. Setting proj attribute to True.\n",
      "No baseline correction applied\n",
      "    Read a total of 1 projection items:\n",
      "        Average EEG reference (1 x 128) active\n",
      "    Found the data of interest:\n",
      "        t =    -199.22 ...    1000.00 ms (0.17 × hep/normal/correct/unaware/R/exh/RRCU + 0.16 × hep/normal/correct/unaware/R/inh/RRCU + 0.36 × hep/normal/correct/unaware/R2/exh/RRCU + 0.31 × hep/normal/correct/unaware/R2/inh/RRCU\n",
      " G_n= g34)\n",
      "        0 CTF compensation matrices available\n",
      "        nave = 218 - aspect type = 100\n",
      "Projections have already been applied. Setting proj attribute to True.\n",
      "No baseline correction applied\n",
      "    Read a total of 1 projection items:\n",
      "        Average EEG reference (1 x 128) active\n",
      "    Found the data of interest:\n",
      "        t =    -199.22 ...    1000.00 ms (0.11 × hep/normal/correct/unaware/R/exh/RRCU + 0.24 × hep/normal/correct/unaware/R/inh/RRCU + 0.21 × hep/normal/correct/unaware/R2/exh/RRCU + 0.43 × hep/normal/correct/unaware/R2/inh/RRCU\n",
      " G_n= g37)\n",
      "        0 CTF compensation matrices available\n",
      "        nave = 316 - aspect type = 100\n",
      "Projections have already been applied. Setting proj attribute to True.\n",
      "No baseline correction applied\n",
      "    Read a total of 1 projection items:\n",
      "        Average EEG reference (1 x 128) active\n",
      "    Found the data of interest:\n",
      "        t =    -199.22 ...    1000.00 ms (0.19 × hep/normal/correct/unaware/R/exh/RRCU + 0.12 × hep/normal/correct/unaware/R/inh/RRCU + 0.43 × hep/normal/correct/unaware/R2/exh/RRCU + 0.25 × hep/normal/correct/unaware/R2/inh/RRCU\n",
      " G_n= g38)\n",
      "        0 CTF compensation matrices available\n",
      "        nave = 385 - aspect type = 100\n",
      "Projections have already been applied. Setting proj attribute to True.\n",
      "No baseline correction applied\n",
      "    Read a total of 1 projection items:\n",
      "        Average EEG reference (1 x 128) active\n",
      "    Found the data of interest:\n",
      "        t =    -199.22 ...    1000.00 ms (0.25 × hep/normal/correct/unaware/R/exh/RRCU + 0.10 × hep/normal/correct/unaware/R/inh/RRCU + 0.41 × hep/normal/correct/unaware/R2/exh/RRCU + 0.23 × hep/normal/correct/unaware/R2/inh/RRCU\n",
      " G_n= g39)\n",
      "        0 CTF compensation matrices available\n",
      "        nave = 448 - aspect type = 100\n",
      "Projections have already been applied. Setting proj attribute to True.\n",
      "No baseline correction applied\n",
      "    Read a total of 1 projection items:\n",
      "        Average EEG reference (1 x 128) active\n",
      "    Found the data of interest:\n",
      "        t =    -199.22 ...    1000.00 ms (0.12 × hep/normal/correct/unaware/R/exh/RRCU + 0.10 × hep/normal/correct/unaware/R/inh/RRCU + 0.53 × hep/normal/correct/unaware/R2/exh/RRCU + 0.25 × hep/normal/correct/unaware/R2/inh/RRCU\n",
      " G_n= g40)\n",
      "        0 CTF compensation matrices available\n",
      "        nave = 363 - aspect type = 100\n",
      "Projections have already been applied. Setting proj attribute to True.\n",
      "No baseline correction applied\n",
      "    Read a total of 1 projection items:\n",
      "        Average EEG reference (1 x 128) active\n",
      "    Found the data of interest:\n",
      "        t =    -199.22 ...    1000.00 ms (0.12 × hep/normal/correct/unaware/R/exh/RRCU + 0.11 × hep/normal/correct/unaware/R/inh/RRCU + 0.47 × hep/normal/correct/unaware/R2/exh/RRCU + 0.30 × hep/normal/correct/unaware/R2/inh/RRCU\n",
      " G_n= g41)\n",
      "        0 CTF compensation matrices available\n",
      "        nave = 469 - aspect type = 100\n",
      "Projections have already been applied. Setting proj attribute to True.\n",
      "No baseline correction applied\n",
      "    Read a total of 1 projection items:\n",
      "        Average EEG reference (1 x 128) active\n",
      "    Found the data of interest:\n",
      "        t =    -199.22 ...    1000.00 ms (0.15 × hep/normal/correct/unaware/R/exh/RRCU + 0.15 × hep/normal/correct/unaware/R/inh/RRCU + 0.40 × hep/normal/correct/unaware/R2/exh/RRCU + 0.30 × hep/normal/correct/unaware/R2/inh/RRCU\n",
      " G_n= g42)\n",
      "        0 CTF compensation matrices available\n",
      "        nave = 402 - aspect type = 100\n",
      "Projections have already been applied. Setting proj attribute to True.\n",
      "No baseline correction applied\n",
      "    Read a total of 1 projection items:\n",
      "        Average EEG reference (1 x 128) active\n",
      "    Found the data of interest:\n",
      "        t =    -199.22 ...    1000.00 ms (0.15 × hep/normal/correct/unaware/R/exh/RRCU + 0.14 × hep/normal/correct/unaware/R/inh/RRCU + 0.43 × hep/normal/correct/unaware/R2/exh/RRCU + 0.29 × hep/normal/correct/unaware/R2/inh/RRCU\n",
      " G_n= g44)\n",
      "        0 CTF compensation matrices available\n",
      "        nave = 487 - aspect type = 100\n",
      "Projections have already been applied. Setting proj attribute to True.\n",
      "No baseline correction applied\n",
      "    Read a total of 1 projection items:\n",
      "        Average EEG reference (1 x 128) active\n",
      "    Found the data of interest:\n",
      "        t =    -199.22 ...    1000.00 ms (0.19 × hep/normal/correct/unaware/R/exh/RRCU + 0.11 × hep/normal/correct/unaware/R/inh/RRCU + 0.44 × hep/normal/correct/unaware/R2/exh/RRCU + 0.27 × hep/normal/correct/unaware/R2/inh/RRCU\n",
      " G_n= g45)\n",
      "        0 CTF compensation matrices available\n",
      "        nave = 275 - aspect type = 100\n",
      "Projections have already been applied. Setting proj attribute to True.\n",
      "No baseline correction applied\n",
      "    Read a total of 1 projection items:\n",
      "        Average EEG reference (1 x 128) active\n",
      "    Found the data of interest:\n",
      "        t =    -199.22 ...    1000.00 ms (0.09 × hep/normal/correct/unaware/R/exh/RRCU + 0.20 × hep/normal/correct/unaware/R/inh/RRCU + 0.34 × hep/normal/correct/unaware/R2/exh/RRCU + 0.37 × hep/normal/correct/unaware/R2/inh/RRCU\n",
      " G_n= g46)\n",
      "        0 CTF compensation matrices available\n",
      "        nave = 215 - aspect type = 100\n",
      "Projections have already been applied. Setting proj attribute to True.\n",
      "No baseline correction applied\n",
      "    Read a total of 1 projection items:\n",
      "        Average EEG reference (1 x 128) active\n",
      "    Found the data of interest:\n",
      "        t =    -199.22 ...    1000.00 ms (0.13 × hep/normal/correct/unaware/R/exh/RRCU + 0.14 × hep/normal/correct/unaware/R/inh/RRCU + 0.42 × hep/normal/correct/unaware/R2/exh/RRCU + 0.31 × hep/normal/correct/unaware/R2/inh/RRCU\n",
      " G_n= g47)\n",
      "        0 CTF compensation matrices available\n",
      "        nave = 333 - aspect type = 100\n",
      "Projections have already been applied. Setting proj attribute to True.\n",
      "No baseline correction applied\n",
      "    Read a total of 1 projection items:\n",
      "        Average EEG reference (1 x 128) active\n",
      "    Found the data of interest:\n",
      "        t =    -199.22 ...    1000.00 ms (0.15 × hep/normal/correct/unaware/R/exh/RRCU + 0.13 × hep/normal/correct/unaware/R/inh/RRCU + 0.43 × hep/normal/correct/unaware/R2/exh/RRCU + 0.29 × hep/normal/correct/unaware/R2/inh/RRCU\n",
      " G_n= g49)\n",
      "        0 CTF compensation matrices available\n",
      "        nave = 318 - aspect type = 100\n",
      "Projections have already been applied. Setting proj attribute to True.\n",
      "No baseline correction applied\n",
      "    Read a total of 1 projection items:\n",
      "        Average EEG reference (1 x 128) active\n",
      "    Found the data of interest:\n",
      "        t =    -199.22 ...    1000.00 ms (0.16 × hep/normal/correct/unaware/R/exh/RRCU + 0.12 × hep/normal/correct/unaware/R/inh/RRCU + 0.47 × hep/normal/correct/unaware/R2/exh/RRCU + 0.25 × hep/normal/correct/unaware/R2/inh/RRCU\n",
      " G_n= g51)\n",
      "        0 CTF compensation matrices available\n",
      "        nave = 393 - aspect type = 100\n",
      "Projections have already been applied. Setting proj attribute to True.\n",
      "No baseline correction applied\n",
      "    Read a total of 1 projection items:\n",
      "        Average EEG reference (1 x 128) active\n",
      "    Found the data of interest:\n",
      "        t =    -199.22 ...    1000.00 ms (0.19 × hep/normal/correct/unaware/R/exh/RRCU + 0.14 × hep/normal/correct/unaware/R/inh/RRCU + 0.36 × hep/normal/correct/unaware/R2/exh/RRCU + 0.31 × hep/normal/correct/unaware/R2/inh/RRCU\n",
      " G_n= g52)\n",
      "        0 CTF compensation matrices available\n",
      "        nave = 399 - aspect type = 100\n",
      "Projections have already been applied. Setting proj attribute to True.\n",
      "No baseline correction applied\n"
     ]
    }
   ],
   "source": [
    "\n",
    "#define variables\n",
    "modtype='rawerp'\n",
    "erp_type=\"hep\"\n",
    "cond='unaware'\n",
    "dc_type=\"nodc\"\n",
    "\n",
    "\n",
    "filepath='ana/MNE/evo_list/maskOFF/correct/cfa/hep/norm/'\n",
    "filename=f\"maskOFF_correct_cfa_hep_norm_RRCA_list-ave.fif\"\n",
    "fp=filepath+filename\n",
    "evo_awa=mne.read_evokeds(fp)\n",
    "\n",
    "filepath='ana/MNE/evo_list/maskOFF/correct/cfa/hep/norm/'\n",
    "filename=f\"maskOFF_correct_cfa_hep_norm_RRCU_list-ave.fif\"\n",
    "fp=filepath+filename\n",
    "evo_unawa=mne.read_evokeds(fp)\n"
   ],
   "metadata": {
    "collapsed": false,
    "ExecuteTime": {
     "end_time": "2025-06-26T08:33:14.554858900Z",
     "start_time": "2025-06-26T08:33:07.741174700Z"
    }
   }
  },
  {
   "cell_type": "code",
   "execution_count": 7,
   "outputs": [
    {
     "name": "stderr",
     "output_type": "stream",
     "text": [
      "C:\\Users\\Vivi\\AppData\\Local\\Temp\\ipykernel_12148\\1120704418.py:1: RuntimeWarning: tmax is not in Evoked time interval. tmax is set to evoked.tmax (0.699219 sec)\n",
      "  evo_awa=[ev.crop(-0.1,0.7) for ev in evo_awa]\n",
      "C:\\Users\\Vivi\\AppData\\Local\\Temp\\ipykernel_12148\\1120704418.py:1: RuntimeWarning: tmax is not in Evoked time interval. tmax is set to evoked.tmax (0.699219 sec)\n",
      "  evo_awa=[ev.crop(-0.1,0.7) for ev in evo_awa]\n",
      "C:\\Users\\Vivi\\AppData\\Local\\Temp\\ipykernel_12148\\1120704418.py:1: RuntimeWarning: tmax is not in Evoked time interval. tmax is set to evoked.tmax (0.699219 sec)\n",
      "  evo_awa=[ev.crop(-0.1,0.7) for ev in evo_awa]\n",
      "C:\\Users\\Vivi\\AppData\\Local\\Temp\\ipykernel_12148\\1120704418.py:1: RuntimeWarning: tmax is not in Evoked time interval. tmax is set to evoked.tmax (0.699219 sec)\n",
      "  evo_awa=[ev.crop(-0.1,0.7) for ev in evo_awa]\n",
      "C:\\Users\\Vivi\\AppData\\Local\\Temp\\ipykernel_12148\\1120704418.py:1: RuntimeWarning: tmax is not in Evoked time interval. tmax is set to evoked.tmax (0.699219 sec)\n",
      "  evo_awa=[ev.crop(-0.1,0.7) for ev in evo_awa]\n",
      "C:\\Users\\Vivi\\AppData\\Local\\Temp\\ipykernel_12148\\1120704418.py:1: RuntimeWarning: tmax is not in Evoked time interval. tmax is set to evoked.tmax (0.699219 sec)\n",
      "  evo_awa=[ev.crop(-0.1,0.7) for ev in evo_awa]\n",
      "C:\\Users\\Vivi\\AppData\\Local\\Temp\\ipykernel_12148\\1120704418.py:1: RuntimeWarning: tmax is not in Evoked time interval. tmax is set to evoked.tmax (0.699219 sec)\n",
      "  evo_awa=[ev.crop(-0.1,0.7) for ev in evo_awa]\n",
      "C:\\Users\\Vivi\\AppData\\Local\\Temp\\ipykernel_12148\\1120704418.py:1: RuntimeWarning: tmax is not in Evoked time interval. tmax is set to evoked.tmax (0.699219 sec)\n",
      "  evo_awa=[ev.crop(-0.1,0.7) for ev in evo_awa]\n",
      "C:\\Users\\Vivi\\AppData\\Local\\Temp\\ipykernel_12148\\1120704418.py:1: RuntimeWarning: tmax is not in Evoked time interval. tmax is set to evoked.tmax (0.699219 sec)\n",
      "  evo_awa=[ev.crop(-0.1,0.7) for ev in evo_awa]\n",
      "C:\\Users\\Vivi\\AppData\\Local\\Temp\\ipykernel_12148\\1120704418.py:1: RuntimeWarning: tmax is not in Evoked time interval. tmax is set to evoked.tmax (0.699219 sec)\n",
      "  evo_awa=[ev.crop(-0.1,0.7) for ev in evo_awa]\n",
      "C:\\Users\\Vivi\\AppData\\Local\\Temp\\ipykernel_12148\\1120704418.py:1: RuntimeWarning: tmax is not in Evoked time interval. tmax is set to evoked.tmax (0.699219 sec)\n",
      "  evo_awa=[ev.crop(-0.1,0.7) for ev in evo_awa]\n",
      "C:\\Users\\Vivi\\AppData\\Local\\Temp\\ipykernel_12148\\1120704418.py:1: RuntimeWarning: tmax is not in Evoked time interval. tmax is set to evoked.tmax (0.699219 sec)\n",
      "  evo_awa=[ev.crop(-0.1,0.7) for ev in evo_awa]\n",
      "C:\\Users\\Vivi\\AppData\\Local\\Temp\\ipykernel_12148\\1120704418.py:1: RuntimeWarning: tmax is not in Evoked time interval. tmax is set to evoked.tmax (0.699219 sec)\n",
      "  evo_awa=[ev.crop(-0.1,0.7) for ev in evo_awa]\n",
      "C:\\Users\\Vivi\\AppData\\Local\\Temp\\ipykernel_12148\\1120704418.py:1: RuntimeWarning: tmax is not in Evoked time interval. tmax is set to evoked.tmax (0.699219 sec)\n",
      "  evo_awa=[ev.crop(-0.1,0.7) for ev in evo_awa]\n",
      "C:\\Users\\Vivi\\AppData\\Local\\Temp\\ipykernel_12148\\1120704418.py:1: RuntimeWarning: tmax is not in Evoked time interval. tmax is set to evoked.tmax (0.699219 sec)\n",
      "  evo_awa=[ev.crop(-0.1,0.7) for ev in evo_awa]\n",
      "C:\\Users\\Vivi\\AppData\\Local\\Temp\\ipykernel_12148\\1120704418.py:1: RuntimeWarning: tmax is not in Evoked time interval. tmax is set to evoked.tmax (0.699219 sec)\n",
      "  evo_awa=[ev.crop(-0.1,0.7) for ev in evo_awa]\n",
      "C:\\Users\\Vivi\\AppData\\Local\\Temp\\ipykernel_12148\\1120704418.py:1: RuntimeWarning: tmax is not in Evoked time interval. tmax is set to evoked.tmax (0.699219 sec)\n",
      "  evo_awa=[ev.crop(-0.1,0.7) for ev in evo_awa]\n",
      "C:\\Users\\Vivi\\AppData\\Local\\Temp\\ipykernel_12148\\1120704418.py:1: RuntimeWarning: tmax is not in Evoked time interval. tmax is set to evoked.tmax (0.699219 sec)\n",
      "  evo_awa=[ev.crop(-0.1,0.7) for ev in evo_awa]\n",
      "C:\\Users\\Vivi\\AppData\\Local\\Temp\\ipykernel_12148\\1120704418.py:1: RuntimeWarning: tmax is not in Evoked time interval. tmax is set to evoked.tmax (0.699219 sec)\n",
      "  evo_awa=[ev.crop(-0.1,0.7) for ev in evo_awa]\n",
      "C:\\Users\\Vivi\\AppData\\Local\\Temp\\ipykernel_12148\\1120704418.py:1: RuntimeWarning: tmax is not in Evoked time interval. tmax is set to evoked.tmax (0.699219 sec)\n",
      "  evo_awa=[ev.crop(-0.1,0.7) for ev in evo_awa]\n",
      "C:\\Users\\Vivi\\AppData\\Local\\Temp\\ipykernel_12148\\1120704418.py:1: RuntimeWarning: tmax is not in Evoked time interval. tmax is set to evoked.tmax (0.699219 sec)\n",
      "  evo_awa=[ev.crop(-0.1,0.7) for ev in evo_awa]\n",
      "C:\\Users\\Vivi\\AppData\\Local\\Temp\\ipykernel_12148\\1120704418.py:1: RuntimeWarning: tmax is not in Evoked time interval. tmax is set to evoked.tmax (0.699219 sec)\n",
      "  evo_awa=[ev.crop(-0.1,0.7) for ev in evo_awa]\n",
      "C:\\Users\\Vivi\\AppData\\Local\\Temp\\ipykernel_12148\\1120704418.py:1: RuntimeWarning: tmax is not in Evoked time interval. tmax is set to evoked.tmax (0.699219 sec)\n",
      "  evo_awa=[ev.crop(-0.1,0.7) for ev in evo_awa]\n",
      "C:\\Users\\Vivi\\AppData\\Local\\Temp\\ipykernel_12148\\1120704418.py:1: RuntimeWarning: tmax is not in Evoked time interval. tmax is set to evoked.tmax (0.699219 sec)\n",
      "  evo_awa=[ev.crop(-0.1,0.7) for ev in evo_awa]\n",
      "C:\\Users\\Vivi\\AppData\\Local\\Temp\\ipykernel_12148\\1120704418.py:1: RuntimeWarning: tmax is not in Evoked time interval. tmax is set to evoked.tmax (0.699219 sec)\n",
      "  evo_awa=[ev.crop(-0.1,0.7) for ev in evo_awa]\n",
      "C:\\Users\\Vivi\\AppData\\Local\\Temp\\ipykernel_12148\\1120704418.py:1: RuntimeWarning: tmax is not in Evoked time interval. tmax is set to evoked.tmax (0.699219 sec)\n",
      "  evo_awa=[ev.crop(-0.1,0.7) for ev in evo_awa]\n",
      "C:\\Users\\Vivi\\AppData\\Local\\Temp\\ipykernel_12148\\1120704418.py:1: RuntimeWarning: tmax is not in Evoked time interval. tmax is set to evoked.tmax (0.699219 sec)\n",
      "  evo_awa=[ev.crop(-0.1,0.7) for ev in evo_awa]\n",
      "C:\\Users\\Vivi\\AppData\\Local\\Temp\\ipykernel_12148\\1120704418.py:1: RuntimeWarning: tmax is not in Evoked time interval. tmax is set to evoked.tmax (0.699219 sec)\n",
      "  evo_awa=[ev.crop(-0.1,0.7) for ev in evo_awa]\n",
      "C:\\Users\\Vivi\\AppData\\Local\\Temp\\ipykernel_12148\\1120704418.py:1: RuntimeWarning: tmax is not in Evoked time interval. tmax is set to evoked.tmax (0.699219 sec)\n",
      "  evo_awa=[ev.crop(-0.1,0.7) for ev in evo_awa]\n",
      "C:\\Users\\Vivi\\AppData\\Local\\Temp\\ipykernel_12148\\1120704418.py:1: RuntimeWarning: tmax is not in Evoked time interval. tmax is set to evoked.tmax (0.699219 sec)\n",
      "  evo_awa=[ev.crop(-0.1,0.7) for ev in evo_awa]\n",
      "C:\\Users\\Vivi\\AppData\\Local\\Temp\\ipykernel_12148\\1120704418.py:2: RuntimeWarning: tmax is not in Evoked time interval. tmax is set to evoked.tmax (0.699219 sec)\n",
      "  evo_unawa=[ev.crop(-0.1,0.7) for ev in evo_unawa]\n",
      "C:\\Users\\Vivi\\AppData\\Local\\Temp\\ipykernel_12148\\1120704418.py:2: RuntimeWarning: tmax is not in Evoked time interval. tmax is set to evoked.tmax (0.699219 sec)\n",
      "  evo_unawa=[ev.crop(-0.1,0.7) for ev in evo_unawa]\n",
      "C:\\Users\\Vivi\\AppData\\Local\\Temp\\ipykernel_12148\\1120704418.py:2: RuntimeWarning: tmax is not in Evoked time interval. tmax is set to evoked.tmax (0.699219 sec)\n",
      "  evo_unawa=[ev.crop(-0.1,0.7) for ev in evo_unawa]\n",
      "C:\\Users\\Vivi\\AppData\\Local\\Temp\\ipykernel_12148\\1120704418.py:2: RuntimeWarning: tmax is not in Evoked time interval. tmax is set to evoked.tmax (0.699219 sec)\n",
      "  evo_unawa=[ev.crop(-0.1,0.7) for ev in evo_unawa]\n",
      "C:\\Users\\Vivi\\AppData\\Local\\Temp\\ipykernel_12148\\1120704418.py:2: RuntimeWarning: tmax is not in Evoked time interval. tmax is set to evoked.tmax (0.699219 sec)\n",
      "  evo_unawa=[ev.crop(-0.1,0.7) for ev in evo_unawa]\n",
      "C:\\Users\\Vivi\\AppData\\Local\\Temp\\ipykernel_12148\\1120704418.py:2: RuntimeWarning: tmax is not in Evoked time interval. tmax is set to evoked.tmax (0.699219 sec)\n",
      "  evo_unawa=[ev.crop(-0.1,0.7) for ev in evo_unawa]\n",
      "C:\\Users\\Vivi\\AppData\\Local\\Temp\\ipykernel_12148\\1120704418.py:2: RuntimeWarning: tmax is not in Evoked time interval. tmax is set to evoked.tmax (0.699219 sec)\n",
      "  evo_unawa=[ev.crop(-0.1,0.7) for ev in evo_unawa]\n",
      "C:\\Users\\Vivi\\AppData\\Local\\Temp\\ipykernel_12148\\1120704418.py:2: RuntimeWarning: tmax is not in Evoked time interval. tmax is set to evoked.tmax (0.699219 sec)\n",
      "  evo_unawa=[ev.crop(-0.1,0.7) for ev in evo_unawa]\n",
      "C:\\Users\\Vivi\\AppData\\Local\\Temp\\ipykernel_12148\\1120704418.py:2: RuntimeWarning: tmax is not in Evoked time interval. tmax is set to evoked.tmax (0.699219 sec)\n",
      "  evo_unawa=[ev.crop(-0.1,0.7) for ev in evo_unawa]\n",
      "C:\\Users\\Vivi\\AppData\\Local\\Temp\\ipykernel_12148\\1120704418.py:2: RuntimeWarning: tmax is not in Evoked time interval. tmax is set to evoked.tmax (0.699219 sec)\n",
      "  evo_unawa=[ev.crop(-0.1,0.7) for ev in evo_unawa]\n",
      "C:\\Users\\Vivi\\AppData\\Local\\Temp\\ipykernel_12148\\1120704418.py:2: RuntimeWarning: tmax is not in Evoked time interval. tmax is set to evoked.tmax (0.699219 sec)\n",
      "  evo_unawa=[ev.crop(-0.1,0.7) for ev in evo_unawa]\n",
      "C:\\Users\\Vivi\\AppData\\Local\\Temp\\ipykernel_12148\\1120704418.py:2: RuntimeWarning: tmax is not in Evoked time interval. tmax is set to evoked.tmax (0.699219 sec)\n",
      "  evo_unawa=[ev.crop(-0.1,0.7) for ev in evo_unawa]\n",
      "C:\\Users\\Vivi\\AppData\\Local\\Temp\\ipykernel_12148\\1120704418.py:2: RuntimeWarning: tmax is not in Evoked time interval. tmax is set to evoked.tmax (0.699219 sec)\n",
      "  evo_unawa=[ev.crop(-0.1,0.7) for ev in evo_unawa]\n",
      "C:\\Users\\Vivi\\AppData\\Local\\Temp\\ipykernel_12148\\1120704418.py:2: RuntimeWarning: tmax is not in Evoked time interval. tmax is set to evoked.tmax (0.699219 sec)\n",
      "  evo_unawa=[ev.crop(-0.1,0.7) for ev in evo_unawa]\n",
      "C:\\Users\\Vivi\\AppData\\Local\\Temp\\ipykernel_12148\\1120704418.py:2: RuntimeWarning: tmax is not in Evoked time interval. tmax is set to evoked.tmax (0.699219 sec)\n",
      "  evo_unawa=[ev.crop(-0.1,0.7) for ev in evo_unawa]\n",
      "C:\\Users\\Vivi\\AppData\\Local\\Temp\\ipykernel_12148\\1120704418.py:2: RuntimeWarning: tmax is not in Evoked time interval. tmax is set to evoked.tmax (0.699219 sec)\n",
      "  evo_unawa=[ev.crop(-0.1,0.7) for ev in evo_unawa]\n",
      "C:\\Users\\Vivi\\AppData\\Local\\Temp\\ipykernel_12148\\1120704418.py:2: RuntimeWarning: tmax is not in Evoked time interval. tmax is set to evoked.tmax (0.699219 sec)\n",
      "  evo_unawa=[ev.crop(-0.1,0.7) for ev in evo_unawa]\n",
      "C:\\Users\\Vivi\\AppData\\Local\\Temp\\ipykernel_12148\\1120704418.py:2: RuntimeWarning: tmax is not in Evoked time interval. tmax is set to evoked.tmax (0.699219 sec)\n",
      "  evo_unawa=[ev.crop(-0.1,0.7) for ev in evo_unawa]\n",
      "C:\\Users\\Vivi\\AppData\\Local\\Temp\\ipykernel_12148\\1120704418.py:2: RuntimeWarning: tmax is not in Evoked time interval. tmax is set to evoked.tmax (0.699219 sec)\n",
      "  evo_unawa=[ev.crop(-0.1,0.7) for ev in evo_unawa]\n",
      "C:\\Users\\Vivi\\AppData\\Local\\Temp\\ipykernel_12148\\1120704418.py:2: RuntimeWarning: tmax is not in Evoked time interval. tmax is set to evoked.tmax (0.699219 sec)\n",
      "  evo_unawa=[ev.crop(-0.1,0.7) for ev in evo_unawa]\n",
      "C:\\Users\\Vivi\\AppData\\Local\\Temp\\ipykernel_12148\\1120704418.py:2: RuntimeWarning: tmax is not in Evoked time interval. tmax is set to evoked.tmax (0.699219 sec)\n",
      "  evo_unawa=[ev.crop(-0.1,0.7) for ev in evo_unawa]\n",
      "C:\\Users\\Vivi\\AppData\\Local\\Temp\\ipykernel_12148\\1120704418.py:2: RuntimeWarning: tmax is not in Evoked time interval. tmax is set to evoked.tmax (0.699219 sec)\n",
      "  evo_unawa=[ev.crop(-0.1,0.7) for ev in evo_unawa]\n",
      "C:\\Users\\Vivi\\AppData\\Local\\Temp\\ipykernel_12148\\1120704418.py:2: RuntimeWarning: tmax is not in Evoked time interval. tmax is set to evoked.tmax (0.699219 sec)\n",
      "  evo_unawa=[ev.crop(-0.1,0.7) for ev in evo_unawa]\n",
      "C:\\Users\\Vivi\\AppData\\Local\\Temp\\ipykernel_12148\\1120704418.py:2: RuntimeWarning: tmax is not in Evoked time interval. tmax is set to evoked.tmax (0.699219 sec)\n",
      "  evo_unawa=[ev.crop(-0.1,0.7) for ev in evo_unawa]\n",
      "C:\\Users\\Vivi\\AppData\\Local\\Temp\\ipykernel_12148\\1120704418.py:2: RuntimeWarning: tmax is not in Evoked time interval. tmax is set to evoked.tmax (0.699219 sec)\n",
      "  evo_unawa=[ev.crop(-0.1,0.7) for ev in evo_unawa]\n",
      "C:\\Users\\Vivi\\AppData\\Local\\Temp\\ipykernel_12148\\1120704418.py:2: RuntimeWarning: tmax is not in Evoked time interval. tmax is set to evoked.tmax (0.699219 sec)\n",
      "  evo_unawa=[ev.crop(-0.1,0.7) for ev in evo_unawa]\n",
      "C:\\Users\\Vivi\\AppData\\Local\\Temp\\ipykernel_12148\\1120704418.py:2: RuntimeWarning: tmax is not in Evoked time interval. tmax is set to evoked.tmax (0.699219 sec)\n",
      "  evo_unawa=[ev.crop(-0.1,0.7) for ev in evo_unawa]\n",
      "C:\\Users\\Vivi\\AppData\\Local\\Temp\\ipykernel_12148\\1120704418.py:2: RuntimeWarning: tmax is not in Evoked time interval. tmax is set to evoked.tmax (0.699219 sec)\n",
      "  evo_unawa=[ev.crop(-0.1,0.7) for ev in evo_unawa]\n",
      "C:\\Users\\Vivi\\AppData\\Local\\Temp\\ipykernel_12148\\1120704418.py:2: RuntimeWarning: tmax is not in Evoked time interval. tmax is set to evoked.tmax (0.699219 sec)\n",
      "  evo_unawa=[ev.crop(-0.1,0.7) for ev in evo_unawa]\n",
      "C:\\Users\\Vivi\\AppData\\Local\\Temp\\ipykernel_12148\\1120704418.py:2: RuntimeWarning: tmax is not in Evoked time interval. tmax is set to evoked.tmax (0.699219 sec)\n",
      "  evo_unawa=[ev.crop(-0.1,0.7) for ev in evo_unawa]\n"
     ]
    }
   ],
   "source": [
    "evo_awa=[ev.crop(-0.1,0.7) for ev in evo_awa]\n",
    "evo_unawa=[ev.crop(-0.1,0.7) for ev in evo_unawa]"
   ],
   "metadata": {
    "collapsed": false,
    "ExecuteTime": {
     "end_time": "2025-06-26T08:35:53.834007Z",
     "start_time": "2025-06-26T08:35:53.662128600Z"
    }
   }
  },
  {
   "cell_type": "code",
   "execution_count": 8,
   "outputs": [],
   "source": [
    "regions=dict(dc_post=['A5','A14','A16','A18','A23'],dc_front=['C32','D4'],nodc=['B12','B14','B23','B24'] )"
   ],
   "metadata": {
    "collapsed": false,
    "ExecuteTime": {
     "end_time": "2025-06-26T08:35:57.352302300Z",
     "start_time": "2025-06-26T08:35:57.242919Z"
    }
   }
  },
  {
   "cell_type": "code",
   "execution_count": 9,
   "outputs": [
    {
     "name": "stdout",
     "output_type": "stream",
     "text": [
      "{'dc_post': array([ 4, 13, 15, 17, 22]), 'dc_front': array([95, 99]), 'nodc': array([43, 45, 54, 55])}\n"
     ]
    }
   ],
   "source": [
    "from mne import pick_channels\n",
    "\n",
    "region_indices={}\n",
    "\n",
    "for region_name, region_channels in regions.items():\n",
    "    indices=pick_channels(evo_awa[0].ch_names, include=region_channels)\n",
    "    region_indices[region_name]=indices\n",
    "print(region_indices)"
   ],
   "metadata": {
    "collapsed": false,
    "ExecuteTime": {
     "end_time": "2025-06-26T08:36:00.537216200Z",
     "start_time": "2025-06-26T08:36:00.427831100Z"
    }
   }
  },
  {
   "cell_type": "markdown",
   "source": [
    "b cvvccvcif phy_sig=='rsp_phase':\n",
    "    colors=[['olivedrab','darkgreen'],['tab:pink','purple']]\n",
    "elif phy_sig=='cardiac_phase':\n",
    "    colors=[['c','b'],['tab:orange','r']]\n",
    "else:\n",
    "    colors=['k','grey']"
   ],
   "metadata": {
    "collapsed": false
   }
  },
  {
   "cell_type": "code",
   "execution_count": 54,
   "outputs": [
    {
     "name": "stdout",
     "output_type": "stream",
     "text": [
      "['A5', 'A14', 'A16', 'A18', 'A23']\n",
      "combining channels using \"mean\"\n",
      "combining channels using \"mean\"\n",
      "['C32', 'D4']\n",
      "combining channels using \"mean\"\n",
      "combining channels using \"mean\"\n",
      "['B12', 'B14', 'B23', 'B24']\n",
      "combining channels using \"mean\"\n",
      "combining channels using \"mean\"\n"
     ]
    }
   ],
   "source": [
    "\n",
    "\n",
    "evokeds=dict(aware=evo_awa,unaware=evo_unawa)\n",
    "\n",
    "fig,axs=plt.subplots(1,3,figsize=(10,5))\n",
    "n=0\n",
    "for regio, picked in regions.items():\n",
    "    print(picked)\n",
    "\n",
    "    fig_fin=mne.viz.plot_compare_evokeds(evokeds,colors=['r','g'],ci=False, picks=picked,show_sensors=True,legend='upper right',truncate_yaxis=False,axes=axs[n],combine='mean',vlines=[0,0.49,0.52,0.7],ylim=dict(eeg=[-1.5,1.5]))\n",
    "    n+=1\n"
   ],
   "metadata": {
    "collapsed": false
   }
  },
  {
   "cell_type": "code",
   "execution_count": 55,
   "outputs": [],
   "source": [
    "file_dir=f'ana/deconvolution/figures/waveforms_gavg_{modtype}_{erp_type}_{cond}_{dc_type}.svg'\n",
    "fig.savefig(file_dir,format='svg')"
   ],
   "metadata": {
    "collapsed": false
   }
  },
  {
   "cell_type": "code",
   "execution_count": null,
   "outputs": [],
   "source": [],
   "metadata": {
    "collapsed": false
   }
  },
  {
   "cell_type": "markdown",
   "source": [
    "## plot awafit awa vs unawa"
   ],
   "metadata": {
    "collapsed": false
   }
  },
  {
   "cell_type": "code",
   "execution_count": 9,
   "outputs": [],
   "source": [
    "\n",
    "#define variables\n",
    "modtype='awafit'\n",
    "erp_type=\"hep\"\n",
    "cond='aware'\n",
    "dc_type=\"dc\"\n",
    "\n",
    "#load corresponding file\n",
    "\n",
    "\n",
    "file_dir=f'ana/deconvolution/ep_betas/{modtype}/{dc_type}/gavg_{modtype}_{erp_type}_{cond}_{dc_type}.ep'\n",
    "f = open(file_dir)"
   ],
   "metadata": {
    "collapsed": false,
    "ExecuteTime": {
     "end_time": "2025-06-30T13:39:55.444151800Z",
     "start_time": "2025-06-30T13:39:55.256667600Z"
    }
   }
  },
  {
   "cell_type": "code",
   "execution_count": 10,
   "outputs": [
    {
     "data": {
      "text/plain": "(256, 128)"
     },
     "execution_count": 10,
     "metadata": {},
     "output_type": "execute_result"
    }
   ],
   "source": [
    "data_aware=np.loadtxt(file_dir)\n",
    "data_aware=data_cutter(data_aware,time_limits=[-0.2,0.8],new_time_limits=[-0.1,0.7])\n",
    "data.shape"
   ],
   "metadata": {
    "collapsed": false,
    "ExecuteTime": {
     "end_time": "2025-06-30T13:39:57.028251100Z",
     "start_time": "2025-06-30T13:39:56.809126200Z"
    }
   }
  },
  {
   "cell_type": "code",
   "execution_count": 17,
   "outputs": [],
   "source": [
    "\n",
    "#define variables\n",
    "modtype='awafit'\n",
    "\n",
    "cond='unaware'\n",
    "\n",
    "\n",
    "#load corresponding file\n",
    "\n",
    "\n",
    "file_dir=f'ana/deconvolution/ep_betas/{modtype}/{dc_type}/gavg_{modtype}_{erp_type}_{cond}_{dc_type}.ep'\n",
    "f = open(file_dir)"
   ],
   "metadata": {
    "collapsed": false,
    "ExecuteTime": {
     "end_time": "2025-06-30T13:52:28.681269Z",
     "start_time": "2025-06-30T13:52:28.540313700Z"
    }
   }
  },
  {
   "cell_type": "code",
   "execution_count": 18,
   "outputs": [],
   "source": [
    "data_unaware=np.loadtxt(file_dir)\n",
    "data_unaware=data_cutter(data_unaware,time_limits=[-0.2,0.8],new_time_limits=[-0.1,0.7])\n"
   ],
   "metadata": {
    "collapsed": false,
    "ExecuteTime": {
     "end_time": "2025-06-30T13:52:29.594339600Z",
     "start_time": "2025-06-30T13:52:29.438094400Z"
    }
   }
  },
  {
   "cell_type": "code",
   "execution_count": 12,
   "outputs": [],
   "source": [
    "\n"
   ],
   "metadata": {
    "collapsed": false
   }
  },
  {
   "cell_type": "code",
   "execution_count": 19,
   "outputs": [],
   "source": [
    "def get_evo(data,tmin=-0.1):\n",
    "    biosemi_montage = mne.channels.make_standard_montage('biosemi128')\n",
    "\n",
    "    info = mne.create_info(ch_names=biosemi_montage.ch_names, sfreq=256.,\n",
    "                           ch_types='eeg')\n",
    "    evok=mne.EvokedArray(data,info,tmin=tmin)\n",
    "    evok.set_montage(biosemi_montage)\n",
    "    return evok"
   ],
   "metadata": {
    "collapsed": false,
    "ExecuteTime": {
     "end_time": "2025-06-30T13:52:33.731601300Z",
     "start_time": "2025-06-30T13:52:33.622237900Z"
    }
   }
  },
  {
   "cell_type": "markdown",
   "source": [],
   "metadata": {
    "collapsed": false
   }
  },
  {
   "cell_type": "code",
   "execution_count": 20,
   "outputs": [],
   "source": [
    "evo_awa=get_evo(data_aware.T)\n",
    "evo_unawa=get_evo(data_unaware.T)"
   ],
   "metadata": {
    "collapsed": false,
    "ExecuteTime": {
     "end_time": "2025-06-30T13:52:35.893202500Z",
     "start_time": "2025-06-30T13:52:35.768216700Z"
    }
   }
  },
  {
   "cell_type": "code",
   "execution_count": 44,
   "outputs": [],
   "source": [
    "regions=dict(dc_post=['A5','A14','A16','A18','A23'],dc_front=['C32','D4'],nodc=['B12','B14','B23','B24'] )"
   ],
   "metadata": {
    "collapsed": false,
    "ExecuteTime": {
     "end_time": "2025-06-30T14:26:11.738874700Z",
     "start_time": "2025-06-30T14:26:11.560528800Z"
    }
   }
  },
  {
   "cell_type": "markdown",
   "source": [
    "regions=dict(nodc_post=['A13','A14','A16','A15','A23'],dc_front=['C32','D4'],nodc=['B12','B14','B23','B24'] )"
   ],
   "metadata": {
    "collapsed": false
   }
  },
  {
   "cell_type": "markdown",
   "source": [
    "if phy_sig=='rsp_phase':\n",
    "    colors=[['olivedrab','darkgreen'],['tab:pink','purple']]\n",
    "elif phy_sig=='cardiac_phase':\n",
    "    colors=[['c','b'],['tab:orange','r']]\n",
    "else:\n",
    "    colors=['k','grey']"
   ],
   "metadata": {
    "collapsed": false
   }
  },
  {
   "cell_type": "code",
   "execution_count": 45,
   "outputs": [
    {
     "name": "stdout",
     "output_type": "stream",
     "text": [
      "['A5', 'A14', 'A16', 'A18', 'A23']\n",
      "combining channels using \"mean\"\n",
      "combining channels using \"mean\"\n",
      "['C32', 'D4']\n",
      "combining channels using \"mean\"\n",
      "combining channels using \"mean\"\n",
      "['B12', 'B14', 'B23', 'B24']\n",
      "combining channels using \"mean\"\n",
      "combining channels using \"mean\"\n"
     ]
    }
   ],
   "source": [
    "%matplotlib qt\n",
    "\n",
    "evokeds=dict(aware=evo_awa,unaware=evo_unawa)\n",
    "\n",
    "fig,axs=plt.subplots(1,3,figsize=(10,5))\n",
    "n=0\n",
    "BF_lim=3\n",
    "for regio, picked in regions.items():\n",
    "    print(picked)\n",
    "    file_dir_BF=f'ana/deconvolution/stats/BF_vector_{modtype}_{erp_type}_awareness_{dc_type}_{regio}.ep'\n",
    "    data_BF=np.loadtxt(file_dir_BF)\n",
    "    times=evo_awa.times\n",
    "    data_BF=data_cutter(data_BF,time_limits=[-0.2,0.8],new_time_limits=[-0.1,0.7])\n",
    "    fig_fin=mne.viz.plot_compare_evokeds(evokeds,ci=False, colors=['r','g'],picks=picked,show_sensors=True,legend='upper right',truncate_yaxis=False,axes=axs[n],combine='mean',vlines=[0,0.49,0.52,0.7],ylim=dict(eeg=[-1.5*1e6,1.5*1e6]),truncate_xaxis=False)\n",
    "    ax2=axs[n].twinx()\n",
    "    ax2.plot(times,data_BF,color='gray',lw=1.2,alpha=0.6, label='BF10')\n",
    "    #ax2.set_yscale('log')\n",
    "    ax2.set_ylim(0.1,10)\n",
    "    ax2.axhline(BF_lim,linestyle='--',color='pink',alpha=0.5)\n",
    "    ax2.fill_between(times,0.1,data_BF,where=data_BF>BF_lim,color='pink',alpha=0.3, label=f'BF > {BF_lim}')\n",
    "    n+=1\n"
   ],
   "metadata": {
    "collapsed": false,
    "ExecuteTime": {
     "end_time": "2025-06-30T14:26:14.339162700Z",
     "start_time": "2025-06-30T14:26:13.589890Z"
    }
   }
  },
  {
   "cell_type": "code",
   "execution_count": 46,
   "outputs": [],
   "source": [
    "file_dir=f'ana/deconvolution/figures/waveforms_gavg_{modtype}_{erp_type}_{cond}_{dc_type}_BF.svg'\n",
    "fig.savefig(file_dir,format='svg')"
   ],
   "metadata": {
    "collapsed": false,
    "ExecuteTime": {
     "end_time": "2025-06-30T14:27:01.492060Z",
     "start_time": "2025-06-30T14:27:00.886953300Z"
    }
   }
  },
  {
   "cell_type": "code",
   "execution_count": 47,
   "outputs": [],
   "source": [
    "file_dir=f'ana/deconvolution/figures/waveforms_gavg_{modtype}_{erp_type}_{cond}_{dc_type}_BF.png'\n",
    "fig.savefig(file_dir,format='png')"
   ],
   "metadata": {
    "collapsed": false,
    "ExecuteTime": {
     "end_time": "2025-06-30T14:27:14.103155900Z",
     "start_time": "2025-06-30T14:27:13.497016800Z"
    }
   }
  },
  {
   "cell_type": "code",
   "execution_count": null,
   "outputs": [],
   "source": [],
   "metadata": {
    "collapsed": false
   }
  }
 ],
 "metadata": {
  "kernelspec": {
   "name": "mne",
   "language": "python",
   "display_name": "Python (mne)"
  },
  "language_info": {
   "codemirror_mode": {
    "name": "ipython",
    "version": 2
   },
   "file_extension": ".py",
   "mimetype": "text/x-python",
   "name": "python",
   "nbconvert_exporter": "python",
   "pygments_lexer": "ipython2",
   "version": "2.7.6"
  }
 },
 "nbformat": 4,
 "nbformat_minor": 0
}
