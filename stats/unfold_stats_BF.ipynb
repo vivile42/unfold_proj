{
 "cells": [
  {
   "cell_type": "code",
   "execution_count": 2,
   "id": "initial_id",
   "metadata": {
    "collapsed": true,
    "ExecuteTime": {
     "end_time": "2025-05-15T07:05:30.755589800Z",
     "start_time": "2025-05-15T07:05:29.417408300Z"
    }
   },
   "outputs": [
    {
     "name": "stderr",
     "output_type": "stream",
     "text": [
      "C:\\Users\\Vivi\\anaconda3\\envs\\mne\\lib\\site-packages\\outdated\\utils.py:14: OutdatedPackageWarning: The package outdated is out of date. Your version is 0.2.1, the latest is 0.2.2.\n",
      "Set the environment variable OUTDATED_IGNORE=1 to disable these warnings.\n",
      "  return warn(\n",
      "C:\\Users\\Vivi\\anaconda3\\envs\\mne\\lib\\site-packages\\outdated\\utils.py:14: OutdatedPackageWarning: The package pingouin is out of date. Your version is 0.5.3, the latest is 0.5.5.\n",
      "Set the environment variable OUTDATED_IGNORE=1 to disable these warnings.\n",
      "  return warn(\n"
     ]
    }
   ],
   "source": [
    "\n",
    "import pandas as pd\n",
    "import re #regex library to format fast to read into pd \n",
    "import os\n",
    "\n",
    "import matplotlib.pyplot as plt\n",
    "import feather\n",
    "\n",
    "import numpy as np\n",
    "import platform\n",
    "import mne\n",
    "\n",
    "\n",
    "from mne.channels import find_ch_adjacency, make_1020_channel_selections\n",
    "from mne.stats import spatio_temporal_cluster_test\n",
    "from mne.stats import (ttest_1samp_no_p, bonferroni_correction, fdr_correction,\n",
    "\n",
    "\n",
    "                       permutation_t_test, permutation_cluster_1samp_test,spatio_temporal_cluster_1samp_test)\n",
    "import sys\n",
    "if platform.system()=='Darwin':\n",
    "    os.chdir('/Volumes/BBC/BBC/WP1/data/EEG/tsk/')\n",
    "    #sys.path.append('/Users/leupinv/BBC/WP1/data/Code/python/BBC')\n",
    "    #if this doesn't work pound line right above this, restart the kernel, rerun the cell. \n",
    "    #Then uncomment the same line and rerun\n",
    "\n",
    "else:\n",
    "    #os.chdir('Z:/BBC/WP1/data/EEG/tsk')\n",
    "    #sys.path.append('C:/Users/Vivi/switchdrive/BBC/WP1/data/Code/python/BBC')\n",
    "    os.chdir('Z:/BBC/WP1/data/EEG/tsk')\n",
    "\n",
    "from base.files_in_out import getListOfFiles,GetFiles\n",
    "from stats.stats_helper import filter_list, tTest_ana\n",
    "import stats.t_tests_cluster as clus\n",
    "import stats.stats_helper as s_hp\n",
    "import base.base_constants as cs"
   ]
  },
  {
   "cell_type": "markdown",
   "source": [
    "# load BF txt and plot it"
   ],
   "metadata": {
    "collapsed": false
   }
  },
  {
   "cell_type": "code",
   "execution_count": 2,
   "outputs": [],
   "source": [
    "from  stats.t_tests_cluster import plot_from_BF\n"
   ],
   "metadata": {
    "collapsed": false,
    "ExecuteTime": {
     "end_time": "2025-05-13T06:38:35.206329800Z",
     "start_time": "2025-05-13T06:38:35.190704600Z"
    }
   }
  },
  {
   "cell_type": "code",
   "execution_count": 3,
   "outputs": [],
   "source": [
    "%load_ext autoreload\n",
    "%autoreload 2\n",
    "import matplotlib as mpl\n",
    "mpl.rcParams['svg.fonttype']='none'\n",
    "mpl.rcParams['text.usetex']=False\n",
    "plt.style.use('default')\n",
    "\n",
    "mpl.rcParams['svg.fonttype']='none'\n",
    "mpl.rcParams['text.usetex']=False"
   ],
   "metadata": {
    "collapsed": false,
    "ExecuteTime": {
     "end_time": "2025-05-15T07:05:37.402814900Z",
     "start_time": "2025-05-15T07:05:37.196627100Z"
    }
   },
   "id": "66547ab36728c8ae"
  },
  {
   "cell_type": "code",
   "outputs": [],
   "source": [
    "idx=3\n",
    "modlist=['modfit','awafit','rawerps','modfit_card']\n",
    "cond_list=[\"awareness_unaware\",\"awareness\",\"awareness\",\"card_phase_sys\"]\n",
    "#define variables\n",
    "modtype=modlist[idx]\n",
    "erp_type=\"hep\"\n",
    "cond=cond_list[idx]\n",
    "dc_type=\"dc\"\n",
    "\n",
    "#load corresponding file \n",
    "\n",
    "\n",
    "file_dir=f'ana/deconvolution/stats/BF_matrix_{modtype}_{erp_type}_{cond}_{dc_type}.ep'\n",
    "f = open(file_dir)"
   ],
   "metadata": {
    "collapsed": false,
    "ExecuteTime": {
     "end_time": "2025-05-13T07:07:59.396053Z",
     "start_time": "2025-05-13T07:07:59.245591400Z"
    }
   },
   "id": "f1416d0c622d575c",
   "execution_count": 91
  },
  {
   "cell_type": "code",
   "outputs": [
    {
     "data": {
      "text/plain": "(128, 282)"
     },
     "execution_count": 92,
     "metadata": {},
     "output_type": "execute_result"
    }
   ],
   "source": [
    "data=np.loadtxt(file_dir)\n",
    "data.shape"
   ],
   "metadata": {
    "collapsed": false,
    "ExecuteTime": {
     "end_time": "2025-05-13T07:08:00.274443300Z",
     "start_time": "2025-05-13T07:07:59.982323900Z"
    }
   },
   "id": "dc7a4655a40bbccc",
   "execution_count": 92
  },
  {
   "cell_type": "code",
   "execution_count": 93,
   "outputs": [
    {
     "data": {
      "text/plain": "(128, 257)"
     },
     "execution_count": 93,
     "metadata": {},
     "output_type": "execute_result"
    }
   ],
   "source": [
    "data=data[:,25:] # remove first 100 ms (to have shape -200, 800)\n",
    "data.shape"
   ],
   "metadata": {
    "collapsed": false,
    "ExecuteTime": {
     "end_time": "2025-05-13T07:08:01.046574500Z",
     "start_time": "2025-05-13T07:08:00.945171Z"
    }
   }
  },
  {
   "cell_type": "code",
   "execution_count": 94,
   "outputs": [
    {
     "name": "stdout",
     "output_type": "stream",
     "text": [
      "number of time pointst: 8\n",
      "length of minimum time points to be significant: 1\n",
      "at the moment if only one TF is significant the electrode will be displayed as sig\n"
     ]
    }
   ],
   "source": [
    "%matplotlib qt\n",
    "time_points=[0.505]\n",
    "time_points_s=[round(x*1000) for x in time_points]\n",
    "fig_evo,fig_topo=clus.plot_from_BF(data,log_trans=True,averages=0.015,start=-0.2,plot_times=time_points)"
   ],
   "metadata": {
    "collapsed": false,
    "ExecuteTime": {
     "end_time": "2025-05-13T07:08:02.233144200Z",
     "start_time": "2025-05-13T07:08:01.778641500Z"
    }
   },
   "id": "580c23d95e682448"
  },
  {
   "cell_type": "code",
   "execution_count": 95,
   "outputs": [],
   "source": [
    "file_evo_dir=f'ana/deconvolution/figures/mass_evo_{modtype}_{erp_type}_{cond}_{dc_type}.svg'\n",
    "fig_evo.savefig(file_evo_dir,format='svg')"
   ],
   "metadata": {
    "collapsed": false,
    "ExecuteTime": {
     "end_time": "2025-05-13T07:08:03.454379700Z",
     "start_time": "2025-05-13T07:08:02.795291200Z"
    }
   }
  },
  {
   "cell_type": "code",
   "execution_count": 96,
   "outputs": [],
   "source": [
    "file_topo_dir=f'ana/deconvolution/figures/topo_evo_{time_points_s}_{modtype}_{erp_type}_{cond}_{dc_type}.svg'\n",
    "fig_topo.savefig(file_topo_dir,format='svg')"
   ],
   "metadata": {
    "collapsed": false,
    "ExecuteTime": {
     "end_time": "2025-05-13T07:08:04.410396500Z",
     "start_time": "2025-05-13T07:08:03.991231500Z"
    }
   }
  },
  {
   "cell_type": "markdown",
   "source": [
    "# Plot tvalues and use BF as mask"
   ],
   "metadata": {
    "collapsed": false
   }
  },
  {
   "cell_type": "markdown",
   "source": [
    "## aware vs unaware in aware fit"
   ],
   "metadata": {
    "collapsed": false
   }
  },
  {
   "cell_type": "code",
   "execution_count": 101,
   "outputs": [],
   "source": [
    "g_num='g01'\n",
    "file_dir=f'ana/deconvolution/ep_betas/modfit/dc/{g_num}_modfit_hep_awareness_unaware_dc.ep'\n",
    "f = open(file_dir)\n"
   ],
   "metadata": {
    "collapsed": false,
    "ExecuteTime": {
     "end_time": "2025-05-13T07:08:43.920878500Z",
     "start_time": "2025-05-13T07:08:43.763205400Z"
    }
   }
  },
  {
   "cell_type": "code",
   "execution_count": 106,
   "outputs": [
    {
     "data": {
      "text/plain": "(257, 128)"
     },
     "execution_count": 106,
     "metadata": {},
     "output_type": "execute_result"
    }
   ],
   "source": [
    "data=np.loadtxt(file_dir)\n",
    "data=data[25:,:]\n",
    "data.shape"
   ],
   "metadata": {
    "collapsed": false,
    "ExecuteTime": {
     "end_time": "2025-05-13T07:09:23.855515500Z",
     "start_time": "2025-05-13T07:09:23.699396400Z"
    }
   }
  },
  {
   "cell_type": "code",
   "execution_count": 116,
   "outputs": [],
   "source": [
    "erp_type='hep'\n",
    "modtype='awafit'\n",
    "subject_list=cs.G_N\n",
    "X_awa=np.empty((len(subject_list),data.shape[1],data.shape[0]))\n",
    "dc='dc'\n",
    "for idx,g_num in enumerate(subject_list):\n",
    "    file_dir=f'ana/deconvolution/ep_betas/awafit/{dc}/{g_num}_aware_hep__Intercept__{dc}.ep'\n",
    "    data=np.loadtxt(file_dir)\n",
    "    data=data[25:,:]\n",
    "\n",
    "\n",
    "    X_awa[idx,:,:]=data.T\n",
    "\n",
    "\n"
   ],
   "metadata": {
    "collapsed": false,
    "ExecuteTime": {
     "end_time": "2025-05-13T07:10:48.876868300Z",
     "start_time": "2025-05-13T07:10:44.426319600Z"
    }
   }
  },
  {
   "cell_type": "code",
   "execution_count": 117,
   "outputs": [],
   "source": [
    "subject_list=cs.G_N\n",
    "X_unawa=np.empty((len(subject_list),data.shape[1],data.shape[0]))\n",
    "for idx,g_num in enumerate(subject_list):\n",
    "    file_dir=f'ana/deconvolution/ep_betas/awafit/{dc}/{g_num}_unaware_hep__Intercept__{dc}.ep'\n",
    "    data=np.loadtxt(file_dir)\n",
    "    data=data[25:,:]\n",
    "\n",
    "    X_unawa[idx,:,:]=data.T\n",
    "\n",
    "\n"
   ],
   "metadata": {
    "collapsed": false,
    "ExecuteTime": {
     "end_time": "2025-05-13T07:10:54.629655200Z",
     "start_time": "2025-05-13T07:10:50.054653100Z"
    }
   }
  },
  {
   "cell_type": "markdown",
   "source": [
    "### load bf"
   ],
   "metadata": {
    "collapsed": false
   }
  },
  {
   "cell_type": "code",
   "execution_count": 118,
   "outputs": [],
   "source": [
    "cond=\"awareness\"\n",
    "dc_type=dc\n",
    "\n",
    "#load corresponding file\n",
    "\n",
    "\n",
    "\n",
    "file_dir=f'ana/deconvolution/stats/BF_matrix_{modtype}_{erp_type}_{cond}_{dc_type}.ep'\n",
    "f = open(file_dir)"
   ],
   "metadata": {
    "collapsed": false,
    "ExecuteTime": {
     "end_time": "2025-05-13T07:11:02.013273600Z",
     "start_time": "2025-05-13T07:11:01.872640200Z"
    }
   }
  },
  {
   "cell_type": "code",
   "execution_count": 119,
   "outputs": [],
   "source": [
    "data_BF=np.loadtxt(file_dir)\n",
    "data_BF=data_BF[:,25:]"
   ],
   "metadata": {
    "collapsed": false,
    "ExecuteTime": {
     "end_time": "2025-05-13T07:11:03.694117700Z",
     "start_time": "2025-05-13T07:11:03.443096100Z"
    }
   }
  },
  {
   "cell_type": "markdown",
   "source": [],
   "metadata": {
    "collapsed": false
   }
  },
  {
   "cell_type": "code",
   "execution_count": 120,
   "outputs": [],
   "source": [
    "X=X_awa-X_unawa"
   ],
   "metadata": {
    "collapsed": false,
    "ExecuteTime": {
     "end_time": "2025-05-13T07:11:05.688210200Z",
     "start_time": "2025-05-13T07:11:05.576466600Z"
    }
   }
  },
  {
   "cell_type": "code",
   "execution_count": 121,
   "outputs": [
    {
     "name": "stdout",
     "output_type": "stream",
     "text": [
      "-0.2\n",
      "number of time pointst: 8\n",
      "length of minimum time points to be significant: 1\n",
      "at the moment if only one TF is significant the electrode will be displayed as sig\n",
      "(128, 257)\n"
     ]
    },
    {
     "data": {
      "text/plain": "(array([[ 0.74790463,  0.7844591 ,  0.58104353, ..., -0.63610203,\n         -0.53686782, -0.54305421],\n        [ 0.48352394,  0.69386511,  0.77381092, ..., -1.17054434,\n         -1.07392697, -1.09336066],\n        [-0.1985701 , -0.0427281 ,  0.07988185, ..., -1.00522709,\n         -0.9628418 , -0.94376942],\n        ...,\n        [-1.26057206, -1.20676912, -1.05436814, ...,  0.59959113,\n          0.64410367,  0.53919931],\n        [-0.4429272 , -0.47633934, -0.39004027, ...,  0.3720565 ,\n          0.47933657,  0.54765813],\n        [-0.51672195, -0.61373331, -0.67336713, ...,  0.27265864,\n          0.54750225,  0.64640104]]),\n array([[0.46054008, 0.43913205, 0.56569999, ..., 0.52969865, 0.59545423,\n         0.59124244],\n        [0.63235472, 0.49328781, 0.4453053 , ..., 0.25131142, 0.29171037,\n         0.2832348 ],\n        [0.84398459, 0.96621112, 0.93687993, ..., 0.32310187, 0.34358736,\n         0.35308441],\n        ...,\n        [0.21751155, 0.23727309, 0.30042007, ..., 0.55343499, 0.52457029,\n         0.59386523],\n        [0.66110489, 0.63740205, 0.69935689, ..., 0.71255578, 0.63529427,\n         0.58811741],\n        [0.60926873, 0.54417614, 0.50604522, ..., 0.78704778, 0.58822308,\n         0.52310283]]))"
     },
     "execution_count": 121,
     "metadata": {},
     "output_type": "execute_result"
    }
   ],
   "source": [
    "%matplotlib qt\n",
    "filepath=f'{modtype}_{erp_type}_{cond}_{dc_type}'\n",
    "s_hp.get_tTest(X,crop_value=[-0.2,0.8],FDR=False,mask_BF=data_BF,BF=True, plot_times=[0.505],averages=0.015,png=filepath)"
   ],
   "metadata": {
    "collapsed": false,
    "ExecuteTime": {
     "end_time": "2025-05-13T07:11:10.662496400Z",
     "start_time": "2025-05-13T07:11:06.531672300Z"
    }
   }
  },
  {
   "cell_type": "markdown",
   "source": [
    "## card phase (or single modfit)"
   ],
   "metadata": {
    "collapsed": false
   }
  },
  {
   "cell_type": "code",
   "execution_count": 229,
   "outputs": [],
   "source": [
    "g_num='g01'\n",
    "file_dir=f'ana/deconvolution/ep_betas/modfit/dc/{g_num}_modfit_hep_awareness_unaware_dc.ep'\n",
    "f = open(file_dir)\n"
   ],
   "metadata": {
    "collapsed": false,
    "ExecuteTime": {
     "end_time": "2025-05-13T12:38:41.671038700Z",
     "start_time": "2025-05-13T12:38:41.483529Z"
    }
   }
  },
  {
   "cell_type": "code",
   "execution_count": 230,
   "outputs": [
    {
     "data": {
      "text/plain": "(257, 128)"
     },
     "execution_count": 230,
     "metadata": {},
     "output_type": "execute_result"
    }
   ],
   "source": [
    "data=np.loadtxt(file_dir)\n",
    "data=data[25:,:]\n",
    "data.shape"
   ],
   "metadata": {
    "collapsed": false,
    "ExecuteTime": {
     "end_time": "2025-05-13T12:38:42.416180600Z",
     "start_time": "2025-05-13T12:38:42.258218300Z"
    }
   }
  },
  {
   "cell_type": "code",
   "execution_count": 246,
   "outputs": [],
   "source": [
    "erp_type='hep'\n",
    "modtype='modfit_card'\n",
    "cond='card_phase_sys'\n",
    "subject_list=cs.G_N\n",
    "X=np.empty((len(subject_list),data.shape[1],data.shape[0]))\n",
    "dc='dc'\n",
    "for idx,g_num in enumerate(subject_list):\n",
    "    file_dir=f'ana/deconvolution/ep_betas/{modtype}/{dc}/{g_num}_{modtype}_hep_{cond}_{dc}.ep'\n",
    "    data=np.loadtxt(file_dir)\n",
    "    data=data[25:,:]\n",
    "\n",
    "\n",
    "    X[idx,:,:]=data.T\n",
    "\n",
    "\n"
   ],
   "metadata": {
    "collapsed": false,
    "ExecuteTime": {
     "end_time": "2025-05-13T12:41:53.317946400Z",
     "start_time": "2025-05-13T12:41:48.769061300Z"
    }
   }
  },
  {
   "cell_type": "markdown",
   "source": [
    "### load bf"
   ],
   "metadata": {
    "collapsed": false
   }
  },
  {
   "cell_type": "code",
   "execution_count": 247,
   "outputs": [],
   "source": [
    "\n",
    "dc_type=dc\n",
    "\n",
    "#load corresponding file\n",
    "\n",
    "\n",
    "\n",
    "file_dir=f'ana/deconvolution/stats/BF_matrix_{modtype}_{erp_type}_{cond}_{dc_type}.ep'\n",
    "f = open(file_dir)"
   ],
   "metadata": {
    "collapsed": false,
    "ExecuteTime": {
     "end_time": "2025-05-13T12:41:55.171972100Z",
     "start_time": "2025-05-13T12:41:55.046978Z"
    }
   }
  },
  {
   "cell_type": "code",
   "execution_count": 248,
   "outputs": [],
   "source": [
    "data_BF=np.loadtxt(file_dir)\n",
    "data_BF=data_BF[:,25:]"
   ],
   "metadata": {
    "collapsed": false,
    "ExecuteTime": {
     "end_time": "2025-05-13T12:41:56.910473100Z",
     "start_time": "2025-05-13T12:41:56.659624Z"
    }
   }
  },
  {
   "cell_type": "markdown",
   "source": [],
   "metadata": {
    "collapsed": false
   }
  },
  {
   "cell_type": "code",
   "execution_count": 249,
   "outputs": [
    {
     "name": "stdout",
     "output_type": "stream",
     "text": [
      "-0.2\n"
     ]
    },
    {
     "data": {
      "text/plain": "(array([[ 0.99184955,  0.84812358,  0.61618383, ..., -0.22337197,\n         -0.35807637, -0.52630541],\n        [ 0.09535323,  0.02403264, -0.1446225 , ...,  1.77087273,\n          1.67327192,  1.44587967],\n        [-0.60339448, -0.63291674, -0.71469875, ...,  2.94849893,\n          2.64741625,  2.35987675],\n        ...,\n        [-1.63267168, -1.72197644, -1.73967095, ..., -0.27732763,\n          0.18181054,  0.88182908],\n        [-0.89781767, -0.88924712, -0.88549101, ..., -0.78823588,\n         -0.58946855, -0.14168686],\n        [-0.93207099, -0.90897315, -0.86020326, ..., -1.01675305,\n         -0.66722363, -0.28126391]]),\n array([[0.32947509, 0.40331535, 0.54258007, ..., 0.82481205, 0.72287949,\n         0.60267839],\n        [0.92469012, 0.98099118, 0.88600935, ..., 0.08709354, 0.10502886,\n         0.1589325 ],\n        [0.55093697, 0.53174759, 0.48050935, ..., 0.00625065, 0.01297707,\n         0.02522429],\n        ...,\n        [0.11335068, 0.09572542, 0.09252186, ..., 0.78349593, 0.85699629,\n         0.38512016],\n        [0.37667654, 0.38118763, 0.3831756 , ..., 0.43695495, 0.56011175,\n         0.88830708],\n        [0.35899529, 0.37085702, 0.39673292, ..., 0.31767902, 0.50990407,\n         0.78050516]]))"
     },
     "execution_count": 249,
     "metadata": {},
     "output_type": "execute_result"
    }
   ],
   "source": [
    "%matplotlib qt\n",
    "filepath=f'{modtype}_{erp_type}_{cond}_{dc_type}'\n",
    "s_hp.get_tTest(X,crop_value=[-0.2,0.8],FDR=False,mask_BF=data_BF,BF=True, plot_times='peaks',averages=0.015,png=filepath)"
   ],
   "metadata": {
    "collapsed": false,
    "ExecuteTime": {
     "end_time": "2025-05-13T12:42:05.970963100Z",
     "start_time": "2025-05-13T12:41:57.870862600Z"
    }
   }
  },
  {
   "cell_type": "markdown",
   "source": [
    "## same for erp"
   ],
   "metadata": {
    "collapsed": false
   }
  },
  {
   "cell_type": "code",
   "execution_count": 122,
   "outputs": [
    {
     "name": "stdout",
     "output_type": "stream",
     "text": [
      "Reading ana/MNE/evo_list/maskOFF/correct/cfa/hep/norm/maskOFF_correct_cfa_hep_norm_RRCA_list-ave.fif ...\n",
      "    Read a total of 1 projection items:\n",
      "        Average EEG reference (1 x 128) active\n",
      "    Found the data of interest:\n",
      "        t =    -199.22 ...    1000.00 ms (0.13 × hep/normal/correct/aware/R/exh/RRCA + 0.08 × hep/normal/correct/aware/R/inh/RRCA + 0.47 × hep/normal/correct/aware/R2/exh/RRCA + 0.32 × hep/normal/correct/aware/R2/inh/RRCA\n",
      " G_n= g01)\n",
      "        0 CTF compensation matrices available\n",
      "        nave = 345 - aspect type = 100\n",
      "Projections have already been applied. Setting proj attribute to True.\n",
      "No baseline correction applied\n",
      "    Read a total of 1 projection items:\n",
      "        Average EEG reference (1 x 128) active\n",
      "    Found the data of interest:\n",
      "        t =    -199.22 ...    1000.00 ms (0.18 × hep/normal/correct/aware/R/exh/RRCA + 0.15 × hep/normal/correct/aware/R/inh/RRCA + 0.42 × hep/normal/correct/aware/R2/exh/RRCA + 0.25 × hep/normal/correct/aware/R2/inh/RRCA\n",
      " G_n= g03)\n",
      "        0 CTF compensation matrices available\n",
      "        nave = 372 - aspect type = 100\n",
      "Projections have already been applied. Setting proj attribute to True.\n",
      "No baseline correction applied\n",
      "    Read a total of 1 projection items:\n",
      "        Average EEG reference (1 x 128) active\n",
      "    Found the data of interest:\n",
      "        t =    -199.22 ...    1000.00 ms (0.13 × hep/normal/correct/aware/R/exh/RRCA + 0.14 × hep/normal/correct/aware/R/inh/RRCA + 0.35 × hep/normal/correct/aware/R2/exh/RRCA + 0.38 × hep/normal/correct/aware/R2/inh/RRCA\n",
      " G_n= g08)\n",
      "        0 CTF compensation matrices available\n",
      "        nave = 343 - aspect type = 100\n",
      "Projections have already been applied. Setting proj attribute to True.\n",
      "No baseline correction applied\n",
      "    Read a total of 1 projection items:\n",
      "        Average EEG reference (1 x 128) active\n",
      "    Found the data of interest:\n",
      "        t =    -199.22 ...    1000.00 ms (0.16 × hep/normal/correct/aware/R/exh/RRCA + 0.13 × hep/normal/correct/aware/R/inh/RRCA + 0.45 × hep/normal/correct/aware/R2/exh/RRCA + 0.27 × hep/normal/correct/aware/R2/inh/RRCA\n",
      " G_n= g10)\n",
      "        0 CTF compensation matrices available\n",
      "        nave = 400 - aspect type = 100\n",
      "Projections have already been applied. Setting proj attribute to True.\n",
      "No baseline correction applied\n",
      "    Read a total of 1 projection items:\n",
      "        Average EEG reference (1 x 128) active\n",
      "    Found the data of interest:\n",
      "        t =    -199.22 ...    1000.00 ms (0.17 × hep/normal/correct/aware/R/exh/RRCA + 0.14 × hep/normal/correct/aware/R/inh/RRCA + 0.39 × hep/normal/correct/aware/R2/exh/RRCA + 0.30 × hep/normal/correct/aware/R2/inh/RRCA\n",
      " G_n= g11)\n",
      "        0 CTF compensation matrices available\n",
      "        nave = 337 - aspect type = 100\n",
      "Projections have already been applied. Setting proj attribute to True.\n",
      "No baseline correction applied\n",
      "    Read a total of 1 projection items:\n",
      "        Average EEG reference (1 x 128) active\n",
      "    Found the data of interest:\n",
      "        t =    -199.22 ...    1000.00 ms (0.16 × hep/normal/correct/aware/R/exh/RRCA + 0.22 × hep/normal/correct/aware/R/inh/RRCA + 0.31 × hep/normal/correct/aware/R2/exh/RRCA + 0.31 × hep/normal/correct/aware/R2/inh/RRCA\n",
      " G_n= g12)\n",
      "        0 CTF compensation matrices available\n",
      "        nave = 154 - aspect type = 100\n",
      "Projections have already been applied. Setting proj attribute to True.\n",
      "No baseline correction applied\n",
      "    Read a total of 1 projection items:\n",
      "        Average EEG reference (1 x 128) active\n",
      "    Found the data of interest:\n",
      "        t =    -199.22 ...    1000.00 ms (0.20 × hep/normal/correct/aware/R/exh/RRCA + 0.12 × hep/normal/correct/aware/R/inh/RRCA + 0.41 × hep/normal/correct/aware/R2/exh/RRCA + 0.26 × hep/normal/correct/aware/R2/inh/RRCA\n",
      " G_n= g15)\n",
      "        0 CTF compensation matrices available\n",
      "        nave = 273 - aspect type = 100\n",
      "Projections have already been applied. Setting proj attribute to True.\n",
      "No baseline correction applied\n",
      "    Read a total of 1 projection items:\n",
      "        Average EEG reference (1 x 128) active\n",
      "    Found the data of interest:\n",
      "        t =    -199.22 ...    1000.00 ms (0.14 × hep/normal/correct/aware/R/exh/RRCA + 0.14 × hep/normal/correct/aware/R/inh/RRCA + 0.36 × hep/normal/correct/aware/R2/exh/RRCA + 0.36 × hep/normal/correct/aware/R2/inh/RRCA\n",
      " G_n= g16)\n",
      "        0 CTF compensation matrices available\n",
      "        nave = 295 - aspect type = 100\n",
      "Projections have already been applied. Setting proj attribute to True.\n",
      "No baseline correction applied\n",
      "    Read a total of 1 projection items:\n",
      "        Average EEG reference (1 x 128) active\n",
      "    Found the data of interest:\n",
      "        t =    -199.22 ...    1000.00 ms (0.14 × hep/normal/correct/aware/R/exh/RRCA + 0.17 × hep/normal/correct/aware/R/inh/RRCA + 0.34 × hep/normal/correct/aware/R2/exh/RRCA + 0.35 × hep/normal/correct/aware/R2/inh/RRCA\n",
      " G_n= g17)\n",
      "        0 CTF compensation matrices available\n",
      "        nave = 318 - aspect type = 100\n",
      "Projections have already been applied. Setting proj attribute to True.\n",
      "No baseline correction applied\n",
      "    Read a total of 1 projection items:\n",
      "        Average EEG reference (1 x 128) active\n",
      "    Found the data of interest:\n",
      "        t =    -199.22 ...    1000.00 ms (0.16 × hep/normal/correct/aware/R/exh/RRCA + 0.16 × hep/normal/correct/aware/R/inh/RRCA + 0.40 × hep/normal/correct/aware/R2/exh/RRCA + 0.28 × hep/normal/correct/aware/R2/inh/RRCA\n",
      " G_n= g19)\n",
      "        0 CTF compensation matrices available\n",
      "        nave = 413 - aspect type = 100\n",
      "Projections have already been applied. Setting proj attribute to True.\n",
      "No baseline correction applied\n",
      "    Read a total of 1 projection items:\n",
      "        Average EEG reference (1 x 128) active\n",
      "    Found the data of interest:\n",
      "        t =    -199.22 ...    1000.00 ms (0.12 × hep/normal/correct/aware/R/exh/RRCA + 0.14 × hep/normal/correct/aware/R/inh/RRCA + 0.38 × hep/normal/correct/aware/R2/exh/RRCA + 0.36 × hep/normal/correct/aware/R2/inh/RRCA\n",
      " G_n= g23)\n",
      "        0 CTF compensation matrices available\n",
      "        nave = 425 - aspect type = 100\n",
      "Projections have already been applied. Setting proj attribute to True.\n",
      "No baseline correction applied\n",
      "    Read a total of 1 projection items:\n",
      "        Average EEG reference (1 x 128) active\n",
      "    Found the data of interest:\n",
      "        t =    -199.22 ...    1000.00 ms (0.15 × hep/normal/correct/aware/R/exh/RRCA + 0.13 × hep/normal/correct/aware/R/inh/RRCA + 0.38 × hep/normal/correct/aware/R2/exh/RRCA + 0.35 × hep/normal/correct/aware/R2/inh/RRCA\n",
      " G_n= g24)\n",
      "        0 CTF compensation matrices available\n",
      "        nave = 167 - aspect type = 100\n",
      "Projections have already been applied. Setting proj attribute to True.\n",
      "No baseline correction applied\n",
      "    Read a total of 1 projection items:\n",
      "        Average EEG reference (1 x 128) active\n",
      "    Found the data of interest:\n",
      "        t =    -199.22 ...    1000.00 ms (0.21 × hep/normal/correct/aware/R/exh/RRCA + 0.14 × hep/normal/correct/aware/R/inh/RRCA + 0.38 × hep/normal/correct/aware/R2/exh/RRCA + 0.28 × hep/normal/correct/aware/R2/inh/RRCA\n",
      " G_n= g25)\n",
      "        0 CTF compensation matrices available\n",
      "        nave = 494 - aspect type = 100\n",
      "Projections have already been applied. Setting proj attribute to True.\n",
      "No baseline correction applied\n",
      "    Read a total of 1 projection items:\n",
      "        Average EEG reference (1 x 128) active\n",
      "    Found the data of interest:\n",
      "        t =    -199.22 ...    1000.00 ms (0.17 × hep/normal/correct/aware/R/exh/RRCA + 0.07 × hep/normal/correct/aware/R/inh/RRCA + 0.50 × hep/normal/correct/aware/R2/exh/RRCA + 0.27 × hep/normal/correct/aware/R2/inh/RRCA\n",
      " G_n= g28)\n",
      "        0 CTF compensation matrices available\n",
      "        nave = 184 - aspect type = 100\n",
      "Projections have already been applied. Setting proj attribute to True.\n",
      "No baseline correction applied\n",
      "    Read a total of 1 projection items:\n",
      "        Average EEG reference (1 x 128) active\n",
      "    Found the data of interest:\n",
      "        t =    -199.22 ...    1000.00 ms (0.19 × hep/normal/correct/aware/R/exh/RRCA + 0.10 × hep/normal/correct/aware/R/inh/RRCA + 0.48 × hep/normal/correct/aware/R2/exh/RRCA + 0.23 × hep/normal/correct/aware/R2/inh/RRCA\n",
      " G_n= g32)\n",
      "        0 CTF compensation matrices available\n",
      "        nave = 358 - aspect type = 100\n",
      "Projections have already been applied. Setting proj attribute to True.\n",
      "No baseline correction applied\n",
      "    Read a total of 1 projection items:\n",
      "        Average EEG reference (1 x 128) active\n",
      "    Found the data of interest:\n",
      "        t =    -199.22 ...    1000.00 ms (0.22 × hep/normal/correct/aware/R/exh/RRCA + 0.13 × hep/normal/correct/aware/R/inh/RRCA + 0.39 × hep/normal/correct/aware/R2/exh/RRCA + 0.26 × hep/normal/correct/aware/R2/inh/RRCA\n",
      " G_n= g33)\n",
      "        0 CTF compensation matrices available\n",
      "        nave = 346 - aspect type = 100\n",
      "Projections have already been applied. Setting proj attribute to True.\n",
      "No baseline correction applied\n",
      "    Read a total of 1 projection items:\n",
      "        Average EEG reference (1 x 128) active\n",
      "    Found the data of interest:\n",
      "        t =    -199.22 ...    1000.00 ms (0.20 × hep/normal/correct/aware/R/exh/RRCA + 0.14 × hep/normal/correct/aware/R/inh/RRCA + 0.44 × hep/normal/correct/aware/R2/exh/RRCA + 0.22 × hep/normal/correct/aware/R2/inh/RRCA\n",
      " G_n= g34)\n",
      "        0 CTF compensation matrices available\n",
      "        nave = 394 - aspect type = 100\n",
      "Projections have already been applied. Setting proj attribute to True.\n",
      "No baseline correction applied\n",
      "    Read a total of 1 projection items:\n",
      "        Average EEG reference (1 x 128) active\n",
      "    Found the data of interest:\n",
      "        t =    -199.22 ...    1000.00 ms (0.09 × hep/normal/correct/aware/R/exh/RRCA + 0.22 × hep/normal/correct/aware/R/inh/RRCA + 0.20 × hep/normal/correct/aware/R2/exh/RRCA + 0.48 × hep/normal/correct/aware/R2/inh/RRCA\n",
      " G_n= g37)\n",
      "        0 CTF compensation matrices available\n",
      "        nave = 232 - aspect type = 100\n",
      "Projections have already been applied. Setting proj attribute to True.\n",
      "No baseline correction applied\n",
      "    Read a total of 1 projection items:\n",
      "        Average EEG reference (1 x 128) active\n",
      "    Found the data of interest:\n",
      "        t =    -199.22 ...    1000.00 ms (0.18 × hep/normal/correct/aware/R/exh/RRCA + 0.14 × hep/normal/correct/aware/R/inh/RRCA + 0.42 × hep/normal/correct/aware/R2/exh/RRCA + 0.26 × hep/normal/correct/aware/R2/inh/RRCA\n",
      " G_n= g38)\n",
      "        0 CTF compensation matrices available\n",
      "        nave = 308 - aspect type = 100\n",
      "Projections have already been applied. Setting proj attribute to True.\n",
      "No baseline correction applied\n",
      "    Read a total of 1 projection items:\n",
      "        Average EEG reference (1 x 128) active\n",
      "    Found the data of interest:\n",
      "        t =    -199.22 ...    1000.00 ms (0.15 × hep/normal/correct/aware/R/exh/RRCA + 0.18 × hep/normal/correct/aware/R/inh/RRCA + 0.40 × hep/normal/correct/aware/R2/exh/RRCA + 0.27 × hep/normal/correct/aware/R2/inh/RRCA\n",
      " G_n= g39)\n",
      "        0 CTF compensation matrices available\n",
      "        nave = 226 - aspect type = 100\n",
      "Projections have already been applied. Setting proj attribute to True.\n",
      "No baseline correction applied\n",
      "    Read a total of 1 projection items:\n",
      "        Average EEG reference (1 x 128) active\n",
      "    Found the data of interest:\n",
      "        t =    -199.22 ...    1000.00 ms (0.13 × hep/normal/correct/aware/R/exh/RRCA + 0.08 × hep/normal/correct/aware/R/inh/RRCA + 0.50 × hep/normal/correct/aware/R2/exh/RRCA + 0.30 × hep/normal/correct/aware/R2/inh/RRCA\n",
      " G_n= g40)\n",
      "        0 CTF compensation matrices available\n",
      "        nave = 240 - aspect type = 100\n",
      "Projections have already been applied. Setting proj attribute to True.\n",
      "No baseline correction applied\n",
      "    Read a total of 1 projection items:\n",
      "        Average EEG reference (1 x 128) active\n",
      "    Found the data of interest:\n",
      "        t =    -199.22 ...    1000.00 ms (0.14 × hep/normal/correct/aware/R/exh/RRCA + 0.16 × hep/normal/correct/aware/R/inh/RRCA + 0.44 × hep/normal/correct/aware/R2/exh/RRCA + 0.26 × hep/normal/correct/aware/R2/inh/RRCA\n",
      " G_n= g41)\n",
      "        0 CTF compensation matrices available\n",
      "        nave = 281 - aspect type = 100\n",
      "Projections have already been applied. Setting proj attribute to True.\n",
      "No baseline correction applied\n",
      "    Read a total of 1 projection items:\n",
      "        Average EEG reference (1 x 128) active\n",
      "    Found the data of interest:\n",
      "        t =    -199.22 ...    1000.00 ms (0.15 × hep/normal/correct/aware/R/exh/RRCA + 0.13 × hep/normal/correct/aware/R/inh/RRCA + 0.36 × hep/normal/correct/aware/R2/exh/RRCA + 0.35 × hep/normal/correct/aware/R2/inh/RRCA\n",
      " G_n= g42)\n",
      "        0 CTF compensation matrices available\n",
      "        nave = 354 - aspect type = 100\n",
      "Projections have already been applied. Setting proj attribute to True.\n",
      "No baseline correction applied\n",
      "    Read a total of 1 projection items:\n",
      "        Average EEG reference (1 x 128) active\n",
      "    Found the data of interest:\n",
      "        t =    -199.22 ...    1000.00 ms (0.18 × hep/normal/correct/aware/R/exh/RRCA + 0.12 × hep/normal/correct/aware/R/inh/RRCA + 0.45 × hep/normal/correct/aware/R2/exh/RRCA + 0.25 × hep/normal/correct/aware/R2/inh/RRCA\n",
      " G_n= g44)\n",
      "        0 CTF compensation matrices available\n",
      "        nave = 301 - aspect type = 100\n",
      "Projections have already been applied. Setting proj attribute to True.\n",
      "No baseline correction applied\n",
      "    Read a total of 1 projection items:\n",
      "        Average EEG reference (1 x 128) active\n",
      "    Found the data of interest:\n",
      "        t =    -199.22 ...    1000.00 ms (0.18 × hep/normal/correct/aware/R/exh/RRCA + 0.08 × hep/normal/correct/aware/R/inh/RRCA + 0.50 × hep/normal/correct/aware/R2/exh/RRCA + 0.24 × hep/normal/correct/aware/R2/inh/RRCA\n",
      " G_n= g45)\n",
      "        0 CTF compensation matrices available\n",
      "        nave = 407 - aspect type = 100\n",
      "Projections have already been applied. Setting proj attribute to True.\n",
      "No baseline correction applied\n",
      "    Read a total of 1 projection items:\n",
      "        Average EEG reference (1 x 128) active\n",
      "    Found the data of interest:\n",
      "        t =    -199.22 ...    1000.00 ms (0.07 × hep/normal/correct/aware/R/exh/RRCA + 0.15 × hep/normal/correct/aware/R/inh/RRCA + 0.41 × hep/normal/correct/aware/R2/exh/RRCA + 0.37 × hep/normal/correct/aware/R2/inh/RRCA\n",
      " G_n= g46)\n",
      "        0 CTF compensation matrices available\n",
      "        nave = 361 - aspect type = 100\n",
      "Projections have already been applied. Setting proj attribute to True.\n",
      "No baseline correction applied\n",
      "    Read a total of 1 projection items:\n",
      "        Average EEG reference (1 x 128) active\n",
      "    Found the data of interest:\n",
      "        t =    -199.22 ...    1000.00 ms (0.14 × hep/normal/correct/aware/R/exh/RRCA + 0.15 × hep/normal/correct/aware/R/inh/RRCA + 0.41 × hep/normal/correct/aware/R2/exh/RRCA + 0.30 × hep/normal/correct/aware/R2/inh/RRCA\n",
      " G_n= g47)\n",
      "        0 CTF compensation matrices available\n",
      "        nave = 435 - aspect type = 100\n",
      "Projections have already been applied. Setting proj attribute to True.\n",
      "No baseline correction applied\n",
      "    Read a total of 1 projection items:\n",
      "        Average EEG reference (1 x 128) active\n",
      "    Found the data of interest:\n",
      "        t =    -199.22 ...    1000.00 ms (0.18 × hep/normal/correct/aware/R/exh/RRCA + 0.14 × hep/normal/correct/aware/R/inh/RRCA + 0.44 × hep/normal/correct/aware/R2/exh/RRCA + 0.24 × hep/normal/correct/aware/R2/inh/RRCA\n",
      " G_n= g49)\n",
      "        0 CTF compensation matrices available\n",
      "        nave = 288 - aspect type = 100\n",
      "Projections have already been applied. Setting proj attribute to True.\n",
      "No baseline correction applied\n",
      "    Read a total of 1 projection items:\n",
      "        Average EEG reference (1 x 128) active\n",
      "    Found the data of interest:\n",
      "        t =    -199.22 ...    1000.00 ms (0.22 × hep/normal/correct/aware/R/exh/RRCA + 0.10 × hep/normal/correct/aware/R/inh/RRCA + 0.49 × hep/normal/correct/aware/R2/exh/RRCA + 0.19 × hep/normal/correct/aware/R2/inh/RRCA\n",
      " G_n= g51)\n",
      "        0 CTF compensation matrices available\n",
      "        nave = 343 - aspect type = 100\n",
      "Projections have already been applied. Setting proj attribute to True.\n",
      "No baseline correction applied\n",
      "    Read a total of 1 projection items:\n",
      "        Average EEG reference (1 x 128) active\n",
      "    Found the data of interest:\n",
      "        t =    -199.22 ...    1000.00 ms (0.17 × hep/normal/correct/aware/R/exh/RRCA + 0.13 × hep/normal/correct/aware/R/inh/RRCA + 0.39 × hep/normal/correct/aware/R2/exh/RRCA + 0.31 × hep/normal/correct/aware/R2/inh/RRCA\n",
      " G_n= g52)\n",
      "        0 CTF compensation matrices available\n",
      "        nave = 254 - aspect type = 100\n",
      "Projections have already been applied. Setting proj attribute to True.\n",
      "No baseline correction applied\n",
      "Reading ana/MNE/evo_list/maskOFF/correct/cfa/hep/norm/maskOFF_correct_cfa_hep_norm_RRCU_list-ave.fif ...\n",
      "    Read a total of 1 projection items:\n",
      "        Average EEG reference (1 x 128) active\n",
      "    Found the data of interest:\n",
      "        t =    -199.22 ...    1000.00 ms (0.13 × hep/normal/correct/unaware/R/exh/RRCU + 0.12 × hep/normal/correct/unaware/R/inh/RRCU + 0.46 × hep/normal/correct/unaware/R2/exh/RRCU + 0.30 × hep/normal/correct/unaware/R2/inh/RRCU\n",
      " G_n= g01)\n",
      "        0 CTF compensation matrices available\n",
      "        nave = 298 - aspect type = 100\n",
      "Projections have already been applied. Setting proj attribute to True.\n",
      "No baseline correction applied\n",
      "    Read a total of 1 projection items:\n",
      "        Average EEG reference (1 x 128) active\n",
      "    Found the data of interest:\n",
      "        t =    -199.22 ...    1000.00 ms (0.18 × hep/normal/correct/unaware/R/exh/RRCU + 0.11 × hep/normal/correct/unaware/R/inh/RRCU + 0.45 × hep/normal/correct/unaware/R2/exh/RRCU + 0.25 × hep/normal/correct/unaware/R2/inh/RRCU\n",
      " G_n= g03)\n",
      "        0 CTF compensation matrices available\n",
      "        nave = 212 - aspect type = 100\n",
      "Projections have already been applied. Setting proj attribute to True.\n",
      "No baseline correction applied\n",
      "    Read a total of 1 projection items:\n",
      "        Average EEG reference (1 x 128) active\n",
      "    Found the data of interest:\n",
      "        t =    -199.22 ...    1000.00 ms (0.22 × hep/normal/correct/unaware/R/exh/RRCU + 0.12 × hep/normal/correct/unaware/R/inh/RRCU + 0.32 × hep/normal/correct/unaware/R2/exh/RRCU + 0.35 × hep/normal/correct/unaware/R2/inh/RRCU\n",
      " G_n= g08)\n",
      "        0 CTF compensation matrices available\n",
      "        nave = 158 - aspect type = 100\n",
      "Projections have already been applied. Setting proj attribute to True.\n",
      "No baseline correction applied\n",
      "    Read a total of 1 projection items:\n",
      "        Average EEG reference (1 x 128) active\n",
      "    Found the data of interest:\n",
      "        t =    -199.22 ...    1000.00 ms (0.11 × hep/normal/correct/unaware/R/exh/RRCU + 0.11 × hep/normal/correct/unaware/R/inh/RRCU + 0.47 × hep/normal/correct/unaware/R2/exh/RRCU + 0.32 × hep/normal/correct/unaware/R2/inh/RRCU\n",
      " G_n= g10)\n",
      "        0 CTF compensation matrices available\n",
      "        nave = 187 - aspect type = 100\n",
      "Projections have already been applied. Setting proj attribute to True.\n",
      "No baseline correction applied\n",
      "    Read a total of 1 projection items:\n",
      "        Average EEG reference (1 x 128) active\n",
      "    Found the data of interest:\n",
      "        t =    -199.22 ...    1000.00 ms (0.17 × hep/normal/correct/unaware/R/exh/RRCU + 0.12 × hep/normal/correct/unaware/R/inh/RRCU + 0.43 × hep/normal/correct/unaware/R2/exh/RRCU + 0.27 × hep/normal/correct/unaware/R2/inh/RRCU\n",
      " G_n= g11)\n",
      "        0 CTF compensation matrices available\n",
      "        nave = 322 - aspect type = 100\n",
      "Projections have already been applied. Setting proj attribute to True.\n",
      "No baseline correction applied\n",
      "    Read a total of 1 projection items:\n",
      "        Average EEG reference (1 x 128) active\n",
      "    Found the data of interest:\n",
      "        t =    -199.22 ...    1000.00 ms (0.13 × hep/normal/correct/unaware/R/exh/RRCU + 0.16 × hep/normal/correct/unaware/R/inh/RRCU + 0.34 × hep/normal/correct/unaware/R2/exh/RRCU + 0.37 × hep/normal/correct/unaware/R2/inh/RRCU\n",
      " G_n= g12)\n",
      "        0 CTF compensation matrices available\n",
      "        nave = 153 - aspect type = 100\n",
      "Projections have already been applied. Setting proj attribute to True.\n",
      "No baseline correction applied\n",
      "    Read a total of 1 projection items:\n",
      "        Average EEG reference (1 x 128) active\n",
      "    Found the data of interest:\n",
      "        t =    -199.22 ...    1000.00 ms (0.17 × hep/normal/correct/unaware/R/exh/RRCU + 0.12 × hep/normal/correct/unaware/R/inh/RRCU + 0.42 × hep/normal/correct/unaware/R2/exh/RRCU + 0.29 × hep/normal/correct/unaware/R2/inh/RRCU + 0.00 × hep/normal/correct/unaware/RR/exh/RRCU\n",
      " G_n= g15)\n",
      "        0 CTF compensation matrices available\n",
      "        nave = 330 - aspect type = 100\n",
      "Projections have already been applied. Setting proj attribute to True.\n",
      "No baseline correction applied\n",
      "    Read a total of 1 projection items:\n",
      "        Average EEG reference (1 x 128) active\n",
      "    Found the data of interest:\n",
      "        t =    -199.22 ...    1000.00 ms (0.17 × hep/normal/correct/unaware/R/exh/RRCU + 0.15 × hep/normal/correct/unaware/R/inh/RRCU + 0.37 × hep/normal/correct/unaware/R2/exh/RRCU + 0.30 × hep/normal/correct/unaware/R2/inh/RRCU\n",
      " G_n= g16)\n",
      "        0 CTF compensation matrices available\n",
      "        nave = 297 - aspect type = 100\n",
      "Projections have already been applied. Setting proj attribute to True.\n",
      "No baseline correction applied\n",
      "    Read a total of 1 projection items:\n",
      "        Average EEG reference (1 x 128) active\n",
      "    Found the data of interest:\n",
      "        t =    -199.22 ...    1000.00 ms (0.11 × hep/normal/correct/unaware/R/exh/RRCU + 0.15 × hep/normal/correct/unaware/R/inh/RRCU + 0.34 × hep/normal/correct/unaware/R2/exh/RRCU + 0.39 × hep/normal/correct/unaware/R2/inh/RRCU\n",
      " G_n= g17)\n",
      "        0 CTF compensation matrices available\n",
      "        nave = 445 - aspect type = 100\n",
      "Projections have already been applied. Setting proj attribute to True.\n",
      "No baseline correction applied\n",
      "    Read a total of 1 projection items:\n",
      "        Average EEG reference (1 x 128) active\n",
      "    Found the data of interest:\n",
      "        t =    -199.22 ...    1000.00 ms (0.19 × hep/normal/correct/unaware/R/exh/RRCU + 0.14 × hep/normal/correct/unaware/R/inh/RRCU + 0.41 × hep/normal/correct/unaware/R2/exh/RRCU + 0.27 × hep/normal/correct/unaware/R2/inh/RRCU\n",
      " G_n= g19)\n",
      "        0 CTF compensation matrices available\n",
      "        nave = 236 - aspect type = 100\n",
      "Projections have already been applied. Setting proj attribute to True.\n",
      "No baseline correction applied\n",
      "    Read a total of 1 projection items:\n",
      "        Average EEG reference (1 x 128) active\n",
      "    Found the data of interest:\n",
      "        t =    -199.22 ...    1000.00 ms (0.11 × hep/normal/correct/unaware/R/exh/RRCU + 0.16 × hep/normal/correct/unaware/R/inh/RRCU + 0.36 × hep/normal/correct/unaware/R2/exh/RRCU + 0.37 × hep/normal/correct/unaware/R2/inh/RRCU\n",
      " G_n= g23)\n",
      "        0 CTF compensation matrices available\n",
      "        nave = 223 - aspect type = 100\n",
      "Projections have already been applied. Setting proj attribute to True.\n",
      "No baseline correction applied\n",
      "    Read a total of 1 projection items:\n",
      "        Average EEG reference (1 x 128) active\n",
      "    Found the data of interest:\n",
      "        t =    -199.22 ...    1000.00 ms (0.17 × hep/normal/correct/unaware/R/exh/RRCU + 0.09 × hep/normal/correct/unaware/R/inh/RRCU + 0.42 × hep/normal/correct/unaware/R2/exh/RRCU + 0.32 × hep/normal/correct/unaware/R2/inh/RRCU\n",
      " G_n= g24)\n",
      "        0 CTF compensation matrices available\n",
      "        nave = 338 - aspect type = 100\n",
      "Projections have already been applied. Setting proj attribute to True.\n",
      "No baseline correction applied\n",
      "    Read a total of 1 projection items:\n",
      "        Average EEG reference (1 x 128) active\n",
      "    Found the data of interest:\n",
      "        t =    -199.22 ...    1000.00 ms (0.16 × hep/normal/correct/unaware/R/exh/RRCU + 0.16 × hep/normal/correct/unaware/R/inh/RRCU + 0.39 × hep/normal/correct/unaware/R2/exh/RRCU + 0.30 × hep/normal/correct/unaware/R2/inh/RRCU\n",
      " G_n= g25)\n",
      "        0 CTF compensation matrices available\n",
      "        nave = 245 - aspect type = 100\n",
      "Projections have already been applied. Setting proj attribute to True.\n",
      "No baseline correction applied\n",
      "    Read a total of 1 projection items:\n",
      "        Average EEG reference (1 x 128) active\n",
      "    Found the data of interest:\n",
      "        t =    -199.22 ...    1000.00 ms (0.19 × hep/normal/correct/unaware/R/exh/RRCU + 0.10 × hep/normal/correct/unaware/R/inh/RRCU + 0.43 × hep/normal/correct/unaware/R2/exh/RRCU + 0.27 × hep/normal/correct/unaware/R2/inh/RRCU\n",
      " G_n= g28)\n",
      "        0 CTF compensation matrices available\n",
      "        nave = 381 - aspect type = 100\n",
      "Projections have already been applied. Setting proj attribute to True.\n",
      "No baseline correction applied\n",
      "    Read a total of 1 projection items:\n",
      "        Average EEG reference (1 x 128) active\n",
      "    Found the data of interest:\n",
      "        t =    -199.22 ...    1000.00 ms (0.15 × hep/normal/correct/unaware/R/exh/RRCU + 0.13 × hep/normal/correct/unaware/R/inh/RRCU + 0.50 × hep/normal/correct/unaware/R2/exh/RRCU + 0.22 × hep/normal/correct/unaware/R2/inh/RRCU\n",
      " G_n= g32)\n",
      "        0 CTF compensation matrices available\n",
      "        nave = 298 - aspect type = 100\n",
      "Projections have already been applied. Setting proj attribute to True.\n",
      "No baseline correction applied\n",
      "    Read a total of 1 projection items:\n",
      "        Average EEG reference (1 x 128) active\n",
      "    Found the data of interest:\n",
      "        t =    -199.22 ...    1000.00 ms (0.22 × hep/normal/correct/unaware/R/exh/RRCU + 0.12 × hep/normal/correct/unaware/R/inh/RRCU + 0.47 × hep/normal/correct/unaware/R2/exh/RRCU + 0.20 × hep/normal/correct/unaware/R2/inh/RRCU\n",
      " G_n= g33)\n",
      "        0 CTF compensation matrices available\n",
      "        nave = 376 - aspect type = 100\n",
      "Projections have already been applied. Setting proj attribute to True.\n",
      "No baseline correction applied\n",
      "    Read a total of 1 projection items:\n",
      "        Average EEG reference (1 x 128) active\n",
      "    Found the data of interest:\n",
      "        t =    -199.22 ...    1000.00 ms (0.17 × hep/normal/correct/unaware/R/exh/RRCU + 0.16 × hep/normal/correct/unaware/R/inh/RRCU + 0.36 × hep/normal/correct/unaware/R2/exh/RRCU + 0.31 × hep/normal/correct/unaware/R2/inh/RRCU\n",
      " G_n= g34)\n",
      "        0 CTF compensation matrices available\n",
      "        nave = 218 - aspect type = 100\n",
      "Projections have already been applied. Setting proj attribute to True.\n",
      "No baseline correction applied\n",
      "    Read a total of 1 projection items:\n",
      "        Average EEG reference (1 x 128) active\n",
      "    Found the data of interest:\n",
      "        t =    -199.22 ...    1000.00 ms (0.11 × hep/normal/correct/unaware/R/exh/RRCU + 0.24 × hep/normal/correct/unaware/R/inh/RRCU + 0.21 × hep/normal/correct/unaware/R2/exh/RRCU + 0.43 × hep/normal/correct/unaware/R2/inh/RRCU\n",
      " G_n= g37)\n",
      "        0 CTF compensation matrices available\n",
      "        nave = 316 - aspect type = 100\n",
      "Projections have already been applied. Setting proj attribute to True.\n",
      "No baseline correction applied\n",
      "    Read a total of 1 projection items:\n",
      "        Average EEG reference (1 x 128) active\n",
      "    Found the data of interest:\n",
      "        t =    -199.22 ...    1000.00 ms (0.19 × hep/normal/correct/unaware/R/exh/RRCU + 0.12 × hep/normal/correct/unaware/R/inh/RRCU + 0.43 × hep/normal/correct/unaware/R2/exh/RRCU + 0.25 × hep/normal/correct/unaware/R2/inh/RRCU\n",
      " G_n= g38)\n",
      "        0 CTF compensation matrices available\n",
      "        nave = 385 - aspect type = 100\n",
      "Projections have already been applied. Setting proj attribute to True.\n",
      "No baseline correction applied\n",
      "    Read a total of 1 projection items:\n",
      "        Average EEG reference (1 x 128) active\n",
      "    Found the data of interest:\n",
      "        t =    -199.22 ...    1000.00 ms (0.25 × hep/normal/correct/unaware/R/exh/RRCU + 0.10 × hep/normal/correct/unaware/R/inh/RRCU + 0.41 × hep/normal/correct/unaware/R2/exh/RRCU + 0.23 × hep/normal/correct/unaware/R2/inh/RRCU\n",
      " G_n= g39)\n",
      "        0 CTF compensation matrices available\n",
      "        nave = 448 - aspect type = 100\n",
      "Projections have already been applied. Setting proj attribute to True.\n",
      "No baseline correction applied\n",
      "    Read a total of 1 projection items:\n",
      "        Average EEG reference (1 x 128) active\n",
      "    Found the data of interest:\n",
      "        t =    -199.22 ...    1000.00 ms (0.12 × hep/normal/correct/unaware/R/exh/RRCU + 0.10 × hep/normal/correct/unaware/R/inh/RRCU + 0.53 × hep/normal/correct/unaware/R2/exh/RRCU + 0.25 × hep/normal/correct/unaware/R2/inh/RRCU\n",
      " G_n= g40)\n",
      "        0 CTF compensation matrices available\n",
      "        nave = 363 - aspect type = 100\n",
      "Projections have already been applied. Setting proj attribute to True.\n",
      "No baseline correction applied\n",
      "    Read a total of 1 projection items:\n",
      "        Average EEG reference (1 x 128) active\n",
      "    Found the data of interest:\n",
      "        t =    -199.22 ...    1000.00 ms (0.12 × hep/normal/correct/unaware/R/exh/RRCU + 0.11 × hep/normal/correct/unaware/R/inh/RRCU + 0.47 × hep/normal/correct/unaware/R2/exh/RRCU + 0.30 × hep/normal/correct/unaware/R2/inh/RRCU\n",
      " G_n= g41)\n",
      "        0 CTF compensation matrices available\n",
      "        nave = 469 - aspect type = 100\n",
      "Projections have already been applied. Setting proj attribute to True.\n",
      "No baseline correction applied\n",
      "    Read a total of 1 projection items:\n",
      "        Average EEG reference (1 x 128) active\n",
      "    Found the data of interest:\n",
      "        t =    -199.22 ...    1000.00 ms (0.15 × hep/normal/correct/unaware/R/exh/RRCU + 0.15 × hep/normal/correct/unaware/R/inh/RRCU + 0.40 × hep/normal/correct/unaware/R2/exh/RRCU + 0.30 × hep/normal/correct/unaware/R2/inh/RRCU\n",
      " G_n= g42)\n",
      "        0 CTF compensation matrices available\n",
      "        nave = 402 - aspect type = 100\n",
      "Projections have already been applied. Setting proj attribute to True.\n",
      "No baseline correction applied\n",
      "    Read a total of 1 projection items:\n",
      "        Average EEG reference (1 x 128) active\n",
      "    Found the data of interest:\n",
      "        t =    -199.22 ...    1000.00 ms (0.15 × hep/normal/correct/unaware/R/exh/RRCU + 0.14 × hep/normal/correct/unaware/R/inh/RRCU + 0.43 × hep/normal/correct/unaware/R2/exh/RRCU + 0.29 × hep/normal/correct/unaware/R2/inh/RRCU\n",
      " G_n= g44)\n",
      "        0 CTF compensation matrices available\n",
      "        nave = 487 - aspect type = 100\n",
      "Projections have already been applied. Setting proj attribute to True.\n",
      "No baseline correction applied\n",
      "    Read a total of 1 projection items:\n",
      "        Average EEG reference (1 x 128) active\n",
      "    Found the data of interest:\n",
      "        t =    -199.22 ...    1000.00 ms (0.19 × hep/normal/correct/unaware/R/exh/RRCU + 0.11 × hep/normal/correct/unaware/R/inh/RRCU + 0.44 × hep/normal/correct/unaware/R2/exh/RRCU + 0.27 × hep/normal/correct/unaware/R2/inh/RRCU\n",
      " G_n= g45)\n",
      "        0 CTF compensation matrices available\n",
      "        nave = 275 - aspect type = 100\n",
      "Projections have already been applied. Setting proj attribute to True.\n",
      "No baseline correction applied\n",
      "    Read a total of 1 projection items:\n",
      "        Average EEG reference (1 x 128) active\n",
      "    Found the data of interest:\n",
      "        t =    -199.22 ...    1000.00 ms (0.09 × hep/normal/correct/unaware/R/exh/RRCU + 0.20 × hep/normal/correct/unaware/R/inh/RRCU + 0.34 × hep/normal/correct/unaware/R2/exh/RRCU + 0.37 × hep/normal/correct/unaware/R2/inh/RRCU\n",
      " G_n= g46)\n",
      "        0 CTF compensation matrices available\n",
      "        nave = 215 - aspect type = 100\n",
      "Projections have already been applied. Setting proj attribute to True.\n",
      "No baseline correction applied\n",
      "    Read a total of 1 projection items:\n",
      "        Average EEG reference (1 x 128) active\n",
      "    Found the data of interest:\n",
      "        t =    -199.22 ...    1000.00 ms (0.13 × hep/normal/correct/unaware/R/exh/RRCU + 0.14 × hep/normal/correct/unaware/R/inh/RRCU + 0.42 × hep/normal/correct/unaware/R2/exh/RRCU + 0.31 × hep/normal/correct/unaware/R2/inh/RRCU\n",
      " G_n= g47)\n",
      "        0 CTF compensation matrices available\n",
      "        nave = 333 - aspect type = 100\n",
      "Projections have already been applied. Setting proj attribute to True.\n",
      "No baseline correction applied\n",
      "    Read a total of 1 projection items:\n",
      "        Average EEG reference (1 x 128) active\n",
      "    Found the data of interest:\n",
      "        t =    -199.22 ...    1000.00 ms (0.15 × hep/normal/correct/unaware/R/exh/RRCU + 0.13 × hep/normal/correct/unaware/R/inh/RRCU + 0.43 × hep/normal/correct/unaware/R2/exh/RRCU + 0.29 × hep/normal/correct/unaware/R2/inh/RRCU\n",
      " G_n= g49)\n",
      "        0 CTF compensation matrices available\n",
      "        nave = 318 - aspect type = 100\n",
      "Projections have already been applied. Setting proj attribute to True.\n",
      "No baseline correction applied\n",
      "    Read a total of 1 projection items:\n",
      "        Average EEG reference (1 x 128) active\n",
      "    Found the data of interest:\n",
      "        t =    -199.22 ...    1000.00 ms (0.16 × hep/normal/correct/unaware/R/exh/RRCU + 0.12 × hep/normal/correct/unaware/R/inh/RRCU + 0.47 × hep/normal/correct/unaware/R2/exh/RRCU + 0.25 × hep/normal/correct/unaware/R2/inh/RRCU\n",
      " G_n= g51)\n",
      "        0 CTF compensation matrices available\n",
      "        nave = 393 - aspect type = 100\n",
      "Projections have already been applied. Setting proj attribute to True.\n",
      "No baseline correction applied\n",
      "    Read a total of 1 projection items:\n",
      "        Average EEG reference (1 x 128) active\n",
      "    Found the data of interest:\n",
      "        t =    -199.22 ...    1000.00 ms (0.19 × hep/normal/correct/unaware/R/exh/RRCU + 0.14 × hep/normal/correct/unaware/R/inh/RRCU + 0.36 × hep/normal/correct/unaware/R2/exh/RRCU + 0.31 × hep/normal/correct/unaware/R2/inh/RRCU\n",
      " G_n= g52)\n",
      "        0 CTF compensation matrices available\n",
      "        nave = 399 - aspect type = 100\n",
      "Projections have already been applied. Setting proj attribute to True.\n",
      "No baseline correction applied\n"
     ]
    }
   ],
   "source": [
    "\n",
    "#define variables\n",
    "modtype='rawerps'\n",
    "erp_type=\"hep\"\n",
    "\n",
    "dc_type=\"nodc\"\n",
    "\n",
    "\n",
    "filepath='ana/MNE/evo_list/maskOFF/correct/cfa/hep/norm/'\n",
    "filename=f\"maskOFF_correct_cfa_hep_norm_RRCA_list-ave.fif\"\n",
    "fp=filepath+filename\n",
    "evo_awa=mne.read_evokeds(fp)\n",
    "\n",
    "filepath='ana/MNE/evo_list/maskOFF/correct/cfa/hep/norm/'\n",
    "filename=f\"maskOFF_correct_cfa_hep_norm_RRCU_list-ave.fif\"\n",
    "fp=filepath+filename\n",
    "evo_unawa=mne.read_evokeds(fp)\n"
   ],
   "metadata": {
    "collapsed": false,
    "ExecuteTime": {
     "end_time": "2025-05-13T07:11:33.910952500Z",
     "start_time": "2025-05-13T07:11:26.665919200Z"
    }
   }
  },
  {
   "cell_type": "markdown",
   "source": [
    "### load bf"
   ],
   "metadata": {
    "collapsed": false
   }
  },
  {
   "cell_type": "code",
   "execution_count": 123,
   "outputs": [],
   "source": [
    "cond=\"awareness\"\n",
    "\n",
    "#load corresponding file\n",
    "\n",
    "\n",
    "file_dir=f'ana/deconvolution/stats/BF_matrix_{modtype}_{erp_type}_{cond}_{dc_type}.ep'\n",
    "f = open(file_dir)"
   ],
   "metadata": {
    "collapsed": false,
    "ExecuteTime": {
     "end_time": "2025-05-13T07:11:35.478012800Z",
     "start_time": "2025-05-13T07:11:35.350816300Z"
    }
   }
  },
  {
   "cell_type": "code",
   "execution_count": 124,
   "outputs": [],
   "source": [
    "data_BF=np.loadtxt(file_dir)\n"
   ],
   "metadata": {
    "collapsed": false,
    "ExecuteTime": {
     "end_time": "2025-05-13T07:11:36.680751400Z",
     "start_time": "2025-05-13T07:11:36.449425700Z"
    }
   }
  },
  {
   "cell_type": "code",
   "execution_count": 124,
   "outputs": [],
   "source": [],
   "metadata": {
    "collapsed": false,
    "ExecuteTime": {
     "end_time": "2025-05-13T07:11:37.751635100Z",
     "start_time": "2025-05-13T07:11:37.720374500Z"
    }
   }
  },
  {
   "cell_type": "code",
   "execution_count": 125,
   "outputs": [
    {
     "name": "stderr",
     "output_type": "stream",
     "text": [
      "C:\\Users\\Vivi\\Documents\\GitHub\\unfold_proj\\stats\\stats_helper.py:134: RuntimeWarning: tmin is not in Evoked time interval. tmin is set to evoked.tmin (-0.199219 sec)\n",
      "  data_crop = evoked[0].copy().crop(crop_value[0], crop_value[1])\n",
      "C:\\Users\\Vivi\\Documents\\GitHub\\unfold_proj\\stats\\stats_helper.py:151: RuntimeWarning: tmin is not in Evoked time interval. tmin is set to evoked.tmin (-0.199219 sec)\n",
      "  X[idx, :, :] = ev.copy().crop(crop_value[0], crop_value[1]).data\n",
      "C:\\Users\\Vivi\\Documents\\GitHub\\unfold_proj\\stats\\stats_helper.py:151: RuntimeWarning: tmin is not in Evoked time interval. tmin is set to evoked.tmin (-0.199219 sec)\n",
      "  X[idx, :, :] = ev.copy().crop(crop_value[0], crop_value[1]).data\n",
      "C:\\Users\\Vivi\\Documents\\GitHub\\unfold_proj\\stats\\stats_helper.py:151: RuntimeWarning: tmin is not in Evoked time interval. tmin is set to evoked.tmin (-0.199219 sec)\n",
      "  X[idx, :, :] = ev.copy().crop(crop_value[0], crop_value[1]).data\n",
      "C:\\Users\\Vivi\\Documents\\GitHub\\unfold_proj\\stats\\stats_helper.py:151: RuntimeWarning: tmin is not in Evoked time interval. tmin is set to evoked.tmin (-0.199219 sec)\n",
      "  X[idx, :, :] = ev.copy().crop(crop_value[0], crop_value[1]).data\n",
      "C:\\Users\\Vivi\\Documents\\GitHub\\unfold_proj\\stats\\stats_helper.py:151: RuntimeWarning: tmin is not in Evoked time interval. tmin is set to evoked.tmin (-0.199219 sec)\n",
      "  X[idx, :, :] = ev.copy().crop(crop_value[0], crop_value[1]).data\n",
      "C:\\Users\\Vivi\\Documents\\GitHub\\unfold_proj\\stats\\stats_helper.py:151: RuntimeWarning: tmin is not in Evoked time interval. tmin is set to evoked.tmin (-0.199219 sec)\n",
      "  X[idx, :, :] = ev.copy().crop(crop_value[0], crop_value[1]).data\n",
      "C:\\Users\\Vivi\\Documents\\GitHub\\unfold_proj\\stats\\stats_helper.py:151: RuntimeWarning: tmin is not in Evoked time interval. tmin is set to evoked.tmin (-0.199219 sec)\n",
      "  X[idx, :, :] = ev.copy().crop(crop_value[0], crop_value[1]).data\n",
      "C:\\Users\\Vivi\\Documents\\GitHub\\unfold_proj\\stats\\stats_helper.py:151: RuntimeWarning: tmin is not in Evoked time interval. tmin is set to evoked.tmin (-0.199219 sec)\n",
      "  X[idx, :, :] = ev.copy().crop(crop_value[0], crop_value[1]).data\n",
      "C:\\Users\\Vivi\\Documents\\GitHub\\unfold_proj\\stats\\stats_helper.py:151: RuntimeWarning: tmin is not in Evoked time interval. tmin is set to evoked.tmin (-0.199219 sec)\n",
      "  X[idx, :, :] = ev.copy().crop(crop_value[0], crop_value[1]).data\n",
      "C:\\Users\\Vivi\\Documents\\GitHub\\unfold_proj\\stats\\stats_helper.py:151: RuntimeWarning: tmin is not in Evoked time interval. tmin is set to evoked.tmin (-0.199219 sec)\n",
      "  X[idx, :, :] = ev.copy().crop(crop_value[0], crop_value[1]).data\n",
      "C:\\Users\\Vivi\\Documents\\GitHub\\unfold_proj\\stats\\stats_helper.py:151: RuntimeWarning: tmin is not in Evoked time interval. tmin is set to evoked.tmin (-0.199219 sec)\n",
      "  X[idx, :, :] = ev.copy().crop(crop_value[0], crop_value[1]).data\n",
      "C:\\Users\\Vivi\\Documents\\GitHub\\unfold_proj\\stats\\stats_helper.py:151: RuntimeWarning: tmin is not in Evoked time interval. tmin is set to evoked.tmin (-0.199219 sec)\n",
      "  X[idx, :, :] = ev.copy().crop(crop_value[0], crop_value[1]).data\n",
      "C:\\Users\\Vivi\\Documents\\GitHub\\unfold_proj\\stats\\stats_helper.py:151: RuntimeWarning: tmin is not in Evoked time interval. tmin is set to evoked.tmin (-0.199219 sec)\n",
      "  X[idx, :, :] = ev.copy().crop(crop_value[0], crop_value[1]).data\n",
      "C:\\Users\\Vivi\\Documents\\GitHub\\unfold_proj\\stats\\stats_helper.py:151: RuntimeWarning: tmin is not in Evoked time interval. tmin is set to evoked.tmin (-0.199219 sec)\n",
      "  X[idx, :, :] = ev.copy().crop(crop_value[0], crop_value[1]).data\n",
      "C:\\Users\\Vivi\\Documents\\GitHub\\unfold_proj\\stats\\stats_helper.py:151: RuntimeWarning: tmin is not in Evoked time interval. tmin is set to evoked.tmin (-0.199219 sec)\n",
      "  X[idx, :, :] = ev.copy().crop(crop_value[0], crop_value[1]).data\n",
      "C:\\Users\\Vivi\\Documents\\GitHub\\unfold_proj\\stats\\stats_helper.py:151: RuntimeWarning: tmin is not in Evoked time interval. tmin is set to evoked.tmin (-0.199219 sec)\n",
      "  X[idx, :, :] = ev.copy().crop(crop_value[0], crop_value[1]).data\n",
      "C:\\Users\\Vivi\\Documents\\GitHub\\unfold_proj\\stats\\stats_helper.py:151: RuntimeWarning: tmin is not in Evoked time interval. tmin is set to evoked.tmin (-0.199219 sec)\n",
      "  X[idx, :, :] = ev.copy().crop(crop_value[0], crop_value[1]).data\n",
      "C:\\Users\\Vivi\\Documents\\GitHub\\unfold_proj\\stats\\stats_helper.py:151: RuntimeWarning: tmin is not in Evoked time interval. tmin is set to evoked.tmin (-0.199219 sec)\n",
      "  X[idx, :, :] = ev.copy().crop(crop_value[0], crop_value[1]).data\n",
      "C:\\Users\\Vivi\\Documents\\GitHub\\unfold_proj\\stats\\stats_helper.py:151: RuntimeWarning: tmin is not in Evoked time interval. tmin is set to evoked.tmin (-0.199219 sec)\n",
      "  X[idx, :, :] = ev.copy().crop(crop_value[0], crop_value[1]).data\n",
      "C:\\Users\\Vivi\\Documents\\GitHub\\unfold_proj\\stats\\stats_helper.py:151: RuntimeWarning: tmin is not in Evoked time interval. tmin is set to evoked.tmin (-0.199219 sec)\n",
      "  X[idx, :, :] = ev.copy().crop(crop_value[0], crop_value[1]).data\n",
      "C:\\Users\\Vivi\\Documents\\GitHub\\unfold_proj\\stats\\stats_helper.py:151: RuntimeWarning: tmin is not in Evoked time interval. tmin is set to evoked.tmin (-0.199219 sec)\n",
      "  X[idx, :, :] = ev.copy().crop(crop_value[0], crop_value[1]).data\n",
      "C:\\Users\\Vivi\\Documents\\GitHub\\unfold_proj\\stats\\stats_helper.py:151: RuntimeWarning: tmin is not in Evoked time interval. tmin is set to evoked.tmin (-0.199219 sec)\n",
      "  X[idx, :, :] = ev.copy().crop(crop_value[0], crop_value[1]).data\n",
      "C:\\Users\\Vivi\\Documents\\GitHub\\unfold_proj\\stats\\stats_helper.py:151: RuntimeWarning: tmin is not in Evoked time interval. tmin is set to evoked.tmin (-0.199219 sec)\n",
      "  X[idx, :, :] = ev.copy().crop(crop_value[0], crop_value[1]).data\n",
      "C:\\Users\\Vivi\\Documents\\GitHub\\unfold_proj\\stats\\stats_helper.py:151: RuntimeWarning: tmin is not in Evoked time interval. tmin is set to evoked.tmin (-0.199219 sec)\n",
      "  X[idx, :, :] = ev.copy().crop(crop_value[0], crop_value[1]).data\n",
      "C:\\Users\\Vivi\\Documents\\GitHub\\unfold_proj\\stats\\stats_helper.py:151: RuntimeWarning: tmin is not in Evoked time interval. tmin is set to evoked.tmin (-0.199219 sec)\n",
      "  X[idx, :, :] = ev.copy().crop(crop_value[0], crop_value[1]).data\n",
      "C:\\Users\\Vivi\\Documents\\GitHub\\unfold_proj\\stats\\stats_helper.py:151: RuntimeWarning: tmin is not in Evoked time interval. tmin is set to evoked.tmin (-0.199219 sec)\n",
      "  X[idx, :, :] = ev.copy().crop(crop_value[0], crop_value[1]).data\n",
      "C:\\Users\\Vivi\\Documents\\GitHub\\unfold_proj\\stats\\stats_helper.py:151: RuntimeWarning: tmin is not in Evoked time interval. tmin is set to evoked.tmin (-0.199219 sec)\n",
      "  X[idx, :, :] = ev.copy().crop(crop_value[0], crop_value[1]).data\n",
      "C:\\Users\\Vivi\\Documents\\GitHub\\unfold_proj\\stats\\stats_helper.py:151: RuntimeWarning: tmin is not in Evoked time interval. tmin is set to evoked.tmin (-0.199219 sec)\n",
      "  X[idx, :, :] = ev.copy().crop(crop_value[0], crop_value[1]).data\n",
      "C:\\Users\\Vivi\\Documents\\GitHub\\unfold_proj\\stats\\stats_helper.py:151: RuntimeWarning: tmin is not in Evoked time interval. tmin is set to evoked.tmin (-0.199219 sec)\n",
      "  X[idx, :, :] = ev.copy().crop(crop_value[0], crop_value[1]).data\n",
      "C:\\Users\\Vivi\\Documents\\GitHub\\unfold_proj\\stats\\stats_helper.py:151: RuntimeWarning: tmin is not in Evoked time interval. tmin is set to evoked.tmin (-0.199219 sec)\n",
      "  X[idx, :, :] = ev.copy().crop(crop_value[0], crop_value[1]).data\n",
      "C:\\Users\\Vivi\\Documents\\GitHub\\unfold_proj\\stats\\stats_helper.py:134: RuntimeWarning: tmin is not in Evoked time interval. tmin is set to evoked.tmin (-0.199219 sec)\n",
      "  data_crop = evoked[0].copy().crop(crop_value[0], crop_value[1])\n",
      "C:\\Users\\Vivi\\Documents\\GitHub\\unfold_proj\\stats\\stats_helper.py:151: RuntimeWarning: tmin is not in Evoked time interval. tmin is set to evoked.tmin (-0.199219 sec)\n",
      "  X[idx, :, :] = ev.copy().crop(crop_value[0], crop_value[1]).data\n",
      "C:\\Users\\Vivi\\Documents\\GitHub\\unfold_proj\\stats\\stats_helper.py:151: RuntimeWarning: tmin is not in Evoked time interval. tmin is set to evoked.tmin (-0.199219 sec)\n",
      "  X[idx, :, :] = ev.copy().crop(crop_value[0], crop_value[1]).data\n",
      "C:\\Users\\Vivi\\Documents\\GitHub\\unfold_proj\\stats\\stats_helper.py:151: RuntimeWarning: tmin is not in Evoked time interval. tmin is set to evoked.tmin (-0.199219 sec)\n",
      "  X[idx, :, :] = ev.copy().crop(crop_value[0], crop_value[1]).data\n",
      "C:\\Users\\Vivi\\Documents\\GitHub\\unfold_proj\\stats\\stats_helper.py:151: RuntimeWarning: tmin is not in Evoked time interval. tmin is set to evoked.tmin (-0.199219 sec)\n",
      "  X[idx, :, :] = ev.copy().crop(crop_value[0], crop_value[1]).data\n",
      "C:\\Users\\Vivi\\Documents\\GitHub\\unfold_proj\\stats\\stats_helper.py:151: RuntimeWarning: tmin is not in Evoked time interval. tmin is set to evoked.tmin (-0.199219 sec)\n",
      "  X[idx, :, :] = ev.copy().crop(crop_value[0], crop_value[1]).data\n",
      "C:\\Users\\Vivi\\Documents\\GitHub\\unfold_proj\\stats\\stats_helper.py:151: RuntimeWarning: tmin is not in Evoked time interval. tmin is set to evoked.tmin (-0.199219 sec)\n",
      "  X[idx, :, :] = ev.copy().crop(crop_value[0], crop_value[1]).data\n",
      "C:\\Users\\Vivi\\Documents\\GitHub\\unfold_proj\\stats\\stats_helper.py:151: RuntimeWarning: tmin is not in Evoked time interval. tmin is set to evoked.tmin (-0.199219 sec)\n",
      "  X[idx, :, :] = ev.copy().crop(crop_value[0], crop_value[1]).data\n",
      "C:\\Users\\Vivi\\Documents\\GitHub\\unfold_proj\\stats\\stats_helper.py:151: RuntimeWarning: tmin is not in Evoked time interval. tmin is set to evoked.tmin (-0.199219 sec)\n",
      "  X[idx, :, :] = ev.copy().crop(crop_value[0], crop_value[1]).data\n",
      "C:\\Users\\Vivi\\Documents\\GitHub\\unfold_proj\\stats\\stats_helper.py:151: RuntimeWarning: tmin is not in Evoked time interval. tmin is set to evoked.tmin (-0.199219 sec)\n",
      "  X[idx, :, :] = ev.copy().crop(crop_value[0], crop_value[1]).data\n",
      "C:\\Users\\Vivi\\Documents\\GitHub\\unfold_proj\\stats\\stats_helper.py:151: RuntimeWarning: tmin is not in Evoked time interval. tmin is set to evoked.tmin (-0.199219 sec)\n",
      "  X[idx, :, :] = ev.copy().crop(crop_value[0], crop_value[1]).data\n",
      "C:\\Users\\Vivi\\Documents\\GitHub\\unfold_proj\\stats\\stats_helper.py:151: RuntimeWarning: tmin is not in Evoked time interval. tmin is set to evoked.tmin (-0.199219 sec)\n",
      "  X[idx, :, :] = ev.copy().crop(crop_value[0], crop_value[1]).data\n",
      "C:\\Users\\Vivi\\Documents\\GitHub\\unfold_proj\\stats\\stats_helper.py:151: RuntimeWarning: tmin is not in Evoked time interval. tmin is set to evoked.tmin (-0.199219 sec)\n",
      "  X[idx, :, :] = ev.copy().crop(crop_value[0], crop_value[1]).data\n",
      "C:\\Users\\Vivi\\Documents\\GitHub\\unfold_proj\\stats\\stats_helper.py:151: RuntimeWarning: tmin is not in Evoked time interval. tmin is set to evoked.tmin (-0.199219 sec)\n",
      "  X[idx, :, :] = ev.copy().crop(crop_value[0], crop_value[1]).data\n",
      "C:\\Users\\Vivi\\Documents\\GitHub\\unfold_proj\\stats\\stats_helper.py:151: RuntimeWarning: tmin is not in Evoked time interval. tmin is set to evoked.tmin (-0.199219 sec)\n",
      "  X[idx, :, :] = ev.copy().crop(crop_value[0], crop_value[1]).data\n",
      "C:\\Users\\Vivi\\Documents\\GitHub\\unfold_proj\\stats\\stats_helper.py:151: RuntimeWarning: tmin is not in Evoked time interval. tmin is set to evoked.tmin (-0.199219 sec)\n",
      "  X[idx, :, :] = ev.copy().crop(crop_value[0], crop_value[1]).data\n",
      "C:\\Users\\Vivi\\Documents\\GitHub\\unfold_proj\\stats\\stats_helper.py:151: RuntimeWarning: tmin is not in Evoked time interval. tmin is set to evoked.tmin (-0.199219 sec)\n",
      "  X[idx, :, :] = ev.copy().crop(crop_value[0], crop_value[1]).data\n",
      "C:\\Users\\Vivi\\Documents\\GitHub\\unfold_proj\\stats\\stats_helper.py:151: RuntimeWarning: tmin is not in Evoked time interval. tmin is set to evoked.tmin (-0.199219 sec)\n",
      "  X[idx, :, :] = ev.copy().crop(crop_value[0], crop_value[1]).data\n",
      "C:\\Users\\Vivi\\Documents\\GitHub\\unfold_proj\\stats\\stats_helper.py:151: RuntimeWarning: tmin is not in Evoked time interval. tmin is set to evoked.tmin (-0.199219 sec)\n",
      "  X[idx, :, :] = ev.copy().crop(crop_value[0], crop_value[1]).data\n",
      "C:\\Users\\Vivi\\Documents\\GitHub\\unfold_proj\\stats\\stats_helper.py:151: RuntimeWarning: tmin is not in Evoked time interval. tmin is set to evoked.tmin (-0.199219 sec)\n",
      "  X[idx, :, :] = ev.copy().crop(crop_value[0], crop_value[1]).data\n",
      "C:\\Users\\Vivi\\Documents\\GitHub\\unfold_proj\\stats\\stats_helper.py:151: RuntimeWarning: tmin is not in Evoked time interval. tmin is set to evoked.tmin (-0.199219 sec)\n",
      "  X[idx, :, :] = ev.copy().crop(crop_value[0], crop_value[1]).data\n",
      "C:\\Users\\Vivi\\Documents\\GitHub\\unfold_proj\\stats\\stats_helper.py:151: RuntimeWarning: tmin is not in Evoked time interval. tmin is set to evoked.tmin (-0.199219 sec)\n",
      "  X[idx, :, :] = ev.copy().crop(crop_value[0], crop_value[1]).data\n",
      "C:\\Users\\Vivi\\Documents\\GitHub\\unfold_proj\\stats\\stats_helper.py:151: RuntimeWarning: tmin is not in Evoked time interval. tmin is set to evoked.tmin (-0.199219 sec)\n",
      "  X[idx, :, :] = ev.copy().crop(crop_value[0], crop_value[1]).data\n",
      "C:\\Users\\Vivi\\Documents\\GitHub\\unfold_proj\\stats\\stats_helper.py:151: RuntimeWarning: tmin is not in Evoked time interval. tmin is set to evoked.tmin (-0.199219 sec)\n",
      "  X[idx, :, :] = ev.copy().crop(crop_value[0], crop_value[1]).data\n",
      "C:\\Users\\Vivi\\Documents\\GitHub\\unfold_proj\\stats\\stats_helper.py:151: RuntimeWarning: tmin is not in Evoked time interval. tmin is set to evoked.tmin (-0.199219 sec)\n",
      "  X[idx, :, :] = ev.copy().crop(crop_value[0], crop_value[1]).data\n",
      "C:\\Users\\Vivi\\Documents\\GitHub\\unfold_proj\\stats\\stats_helper.py:151: RuntimeWarning: tmin is not in Evoked time interval. tmin is set to evoked.tmin (-0.199219 sec)\n",
      "  X[idx, :, :] = ev.copy().crop(crop_value[0], crop_value[1]).data\n",
      "C:\\Users\\Vivi\\Documents\\GitHub\\unfold_proj\\stats\\stats_helper.py:151: RuntimeWarning: tmin is not in Evoked time interval. tmin is set to evoked.tmin (-0.199219 sec)\n",
      "  X[idx, :, :] = ev.copy().crop(crop_value[0], crop_value[1]).data\n",
      "C:\\Users\\Vivi\\Documents\\GitHub\\unfold_proj\\stats\\stats_helper.py:151: RuntimeWarning: tmin is not in Evoked time interval. tmin is set to evoked.tmin (-0.199219 sec)\n",
      "  X[idx, :, :] = ev.copy().crop(crop_value[0], crop_value[1]).data\n",
      "C:\\Users\\Vivi\\Documents\\GitHub\\unfold_proj\\stats\\stats_helper.py:151: RuntimeWarning: tmin is not in Evoked time interval. tmin is set to evoked.tmin (-0.199219 sec)\n",
      "  X[idx, :, :] = ev.copy().crop(crop_value[0], crop_value[1]).data\n",
      "C:\\Users\\Vivi\\Documents\\GitHub\\unfold_proj\\stats\\stats_helper.py:151: RuntimeWarning: tmin is not in Evoked time interval. tmin is set to evoked.tmin (-0.199219 sec)\n",
      "  X[idx, :, :] = ev.copy().crop(crop_value[0], crop_value[1]).data\n",
      "C:\\Users\\Vivi\\Documents\\GitHub\\unfold_proj\\stats\\stats_helper.py:151: RuntimeWarning: tmin is not in Evoked time interval. tmin is set to evoked.tmin (-0.199219 sec)\n",
      "  X[idx, :, :] = ev.copy().crop(crop_value[0], crop_value[1]).data\n"
     ]
    },
    {
     "name": "stdout",
     "output_type": "stream",
     "text": [
      "(30, 128, 257)\n",
      "(30, 128, 257)\n",
      "-0.2\n",
      "number of time pointst: 8\n",
      "length of minimum time points to be significant: 1\n",
      "at the moment if only one TF is significant the electrode will be displayed as sig\n",
      "(128, 257)\n"
     ]
    },
    {
     "data": {
      "text/plain": "(array([[ 0.56960689,  0.31289115, -0.10535808, ..., -0.05973568,\n         -0.15459526, -0.32966896],\n        [ 0.5701434 ,  0.6087237 ,  0.44771883, ...,  0.44242365,\n          0.39711389,  0.25578614],\n        [-0.37076401, -0.25545664, -0.18141073, ...,  1.66066648,\n          1.74075741,  1.67582398],\n        ...,\n        [-1.73357277, -1.63178237, -1.57241907, ...,  2.14695445,\n          2.20221874,  2.02230741],\n        [-0.11372384, -0.11839444, -0.07197061, ...,  0.89945887,\n          1.15874544,  1.00441462],\n        [-0.28990799, -0.49637181, -0.65370136, ...,  0.30356174,\n          0.4791892 ,  0.3059059 ]]),\n array([[0.57333063, 0.7566025 , 0.91681705, ..., 0.95277591, 0.87821133,\n         0.74401958],\n        [0.57297152, 0.54744663, 0.65768285, ..., 0.66146494, 0.69419114,\n         0.79992161],\n        [0.71350795, 0.80017361, 0.85730721, ..., 0.10755624, 0.09232815,\n         0.10452326],\n        ...,\n        [0.09361555, 0.11353892, 0.12670143, ..., 0.04029078, 0.03575383,\n         0.05245418],\n        [0.91024039, 0.90657142, 0.94311937, ..., 0.37581668, 0.25601313,\n         0.32348652],\n        [0.77394946, 0.62337373, 0.51845447, ..., 0.76362907, 0.63539783,\n         0.76186158]]))"
     },
     "execution_count": 125,
     "metadata": {},
     "output_type": "execute_result"
    }
   ],
   "source": [
    "filepath=f'{modtype}_{erp_type}_{cond}_{dc_type}'\n",
    "s_hp.tTest_ana([evo_awa,evo_unawa],crop_value=[-0.2,0.8],BF=True,mask_BF=data_BF,plot_times=[0.505],averages=0.015,png=filepath)"
   ],
   "metadata": {
    "collapsed": false,
    "ExecuteTime": {
     "end_time": "2025-05-13T07:11:43.362383500Z",
     "start_time": "2025-05-13T07:11:38.300396800Z"
    }
   }
  },
  {
   "cell_type": "markdown",
   "source": [
    "# Compute gavgs"
   ],
   "metadata": {
    "collapsed": false
   }
  },
  {
   "cell_type": "code",
   "execution_count": 4,
   "outputs": [],
   "source": [
    "g_num='g01'\n",
    "file_dir=f'ana/deconvolution/ep_betas/modfit/dc/{g_num}_modfit_hep_awareness_unaware_dc.ep'\n",
    "f = open(file_dir)\n"
   ],
   "metadata": {
    "collapsed": false,
    "ExecuteTime": {
     "end_time": "2025-05-15T07:05:59.784528100Z",
     "start_time": "2025-05-15T07:05:59.624659600Z"
    }
   }
  },
  {
   "cell_type": "code",
   "execution_count": 5,
   "outputs": [
    {
     "data": {
      "text/plain": "(282, 128)"
     },
     "execution_count": 5,
     "metadata": {},
     "output_type": "execute_result"
    }
   ],
   "source": [
    "data=np.loadtxt(file_dir)\n",
    "data.shape"
   ],
   "metadata": {
    "collapsed": false,
    "ExecuteTime": {
     "end_time": "2025-05-15T07:06:00.877782500Z",
     "start_time": "2025-05-15T07:06:00.692143900Z"
    }
   }
  },
  {
   "cell_type": "code",
   "execution_count": 7,
   "outputs": [
    {
     "ename": "FileNotFoundError",
     "evalue": "ana/deconvolution/ep_betas/cardfit/dc/g01_cardfit_hep__Intercept__dc.ep not found.",
     "output_type": "error",
     "traceback": [
      "\u001B[1;31m---------------------------------------------------------------------------\u001B[0m",
      "\u001B[1;31mFileNotFoundError\u001B[0m                         Traceback (most recent call last)",
      "Input \u001B[1;32mIn [7]\u001B[0m, in \u001B[0;36m<cell line: 8>\u001B[1;34m()\u001B[0m\n\u001B[0;32m      8\u001B[0m \u001B[38;5;28;01mfor\u001B[39;00m idx,g_num \u001B[38;5;129;01min\u001B[39;00m \u001B[38;5;28menumerate\u001B[39m(subject_list):\n\u001B[0;32m      9\u001B[0m     file_dir\u001B[38;5;241m=\u001B[39m\u001B[38;5;124mf\u001B[39m\u001B[38;5;124m'\u001B[39m\u001B[38;5;124mana/deconvolution/ep_betas/\u001B[39m\u001B[38;5;132;01m{\u001B[39;00mfit\u001B[38;5;132;01m}\u001B[39;00m\u001B[38;5;124m/\u001B[39m\u001B[38;5;132;01m{\u001B[39;00mdc\u001B[38;5;132;01m}\u001B[39;00m\u001B[38;5;124m/\u001B[39m\u001B[38;5;132;01m{\u001B[39;00mg_num\u001B[38;5;132;01m}\u001B[39;00m\u001B[38;5;124m_\u001B[39m\u001B[38;5;132;01m{\u001B[39;00mfit\u001B[38;5;132;01m}\u001B[39;00m\u001B[38;5;124m_hep_\u001B[39m\u001B[38;5;132;01m{\u001B[39;00mbeta_type\u001B[38;5;132;01m}\u001B[39;00m\u001B[38;5;124m_\u001B[39m\u001B[38;5;132;01m{\u001B[39;00mdc\u001B[38;5;132;01m}\u001B[39;00m\u001B[38;5;124m.ep\u001B[39m\u001B[38;5;124m'\u001B[39m\n\u001B[1;32m---> 10\u001B[0m     data\u001B[38;5;241m=\u001B[39m\u001B[43mnp\u001B[49m\u001B[38;5;241;43m.\u001B[39;49m\u001B[43mloadtxt\u001B[49m\u001B[43m(\u001B[49m\u001B[43mfile_dir\u001B[49m\u001B[43m)\u001B[49m\n\u001B[0;32m     12\u001B[0m     X[idx,:,:]\u001B[38;5;241m=\u001B[39mdata\u001B[38;5;241m.\u001B[39mT\n",
      "File \u001B[1;32m~\\anaconda3\\envs\\mne\\lib\\site-packages\\numpy\\lib\\npyio.py:1042\u001B[0m, in \u001B[0;36mloadtxt\u001B[1;34m(fname, dtype, comments, delimiter, converters, skiprows, usecols, unpack, ndmin, encoding, max_rows, like)\u001B[0m\n\u001B[0;32m   1040\u001B[0m     fname \u001B[38;5;241m=\u001B[39m os_fspath(fname)\n\u001B[0;32m   1041\u001B[0m \u001B[38;5;28;01mif\u001B[39;00m _is_string_like(fname):\n\u001B[1;32m-> 1042\u001B[0m     fh \u001B[38;5;241m=\u001B[39m \u001B[43mnp\u001B[49m\u001B[38;5;241;43m.\u001B[39;49m\u001B[43mlib\u001B[49m\u001B[38;5;241;43m.\u001B[39;49m\u001B[43m_datasource\u001B[49m\u001B[38;5;241;43m.\u001B[39;49m\u001B[43mopen\u001B[49m\u001B[43m(\u001B[49m\u001B[43mfname\u001B[49m\u001B[43m,\u001B[49m\u001B[43m \u001B[49m\u001B[38;5;124;43m'\u001B[39;49m\u001B[38;5;124;43mrt\u001B[39;49m\u001B[38;5;124;43m'\u001B[39;49m\u001B[43m,\u001B[49m\u001B[43m \u001B[49m\u001B[43mencoding\u001B[49m\u001B[38;5;241;43m=\u001B[39;49m\u001B[43mencoding\u001B[49m\u001B[43m)\u001B[49m\n\u001B[0;32m   1043\u001B[0m     fencoding \u001B[38;5;241m=\u001B[39m \u001B[38;5;28mgetattr\u001B[39m(fh, \u001B[38;5;124m'\u001B[39m\u001B[38;5;124mencoding\u001B[39m\u001B[38;5;124m'\u001B[39m, \u001B[38;5;124m'\u001B[39m\u001B[38;5;124mlatin1\u001B[39m\u001B[38;5;124m'\u001B[39m)\n\u001B[0;32m   1044\u001B[0m     line_iter \u001B[38;5;241m=\u001B[39m \u001B[38;5;28miter\u001B[39m(fh)\n",
      "File \u001B[1;32m~\\anaconda3\\envs\\mne\\lib\\site-packages\\numpy\\lib\\_datasource.py:193\u001B[0m, in \u001B[0;36mopen\u001B[1;34m(path, mode, destpath, encoding, newline)\u001B[0m\n\u001B[0;32m    156\u001B[0m \u001B[38;5;124;03m\"\"\"\u001B[39;00m\n\u001B[0;32m    157\u001B[0m \u001B[38;5;124;03mOpen `path` with `mode` and return the file object.\u001B[39;00m\n\u001B[0;32m    158\u001B[0m \n\u001B[1;32m   (...)\u001B[0m\n\u001B[0;32m    189\u001B[0m \n\u001B[0;32m    190\u001B[0m \u001B[38;5;124;03m\"\"\"\u001B[39;00m\n\u001B[0;32m    192\u001B[0m ds \u001B[38;5;241m=\u001B[39m DataSource(destpath)\n\u001B[1;32m--> 193\u001B[0m \u001B[38;5;28;01mreturn\u001B[39;00m \u001B[43mds\u001B[49m\u001B[38;5;241;43m.\u001B[39;49m\u001B[43mopen\u001B[49m\u001B[43m(\u001B[49m\u001B[43mpath\u001B[49m\u001B[43m,\u001B[49m\u001B[43m \u001B[49m\u001B[43mmode\u001B[49m\u001B[43m,\u001B[49m\u001B[43m \u001B[49m\u001B[43mencoding\u001B[49m\u001B[38;5;241;43m=\u001B[39;49m\u001B[43mencoding\u001B[49m\u001B[43m,\u001B[49m\u001B[43m \u001B[49m\u001B[43mnewline\u001B[49m\u001B[38;5;241;43m=\u001B[39;49m\u001B[43mnewline\u001B[49m\u001B[43m)\u001B[49m\n",
      "File \u001B[1;32m~\\anaconda3\\envs\\mne\\lib\\site-packages\\numpy\\lib\\_datasource.py:532\u001B[0m, in \u001B[0;36mDataSource.open\u001B[1;34m(self, path, mode, encoding, newline)\u001B[0m\n\u001B[0;32m    529\u001B[0m     \u001B[38;5;28;01mreturn\u001B[39;00m _file_openers[ext](found, mode\u001B[38;5;241m=\u001B[39mmode,\n\u001B[0;32m    530\u001B[0m                               encoding\u001B[38;5;241m=\u001B[39mencoding, newline\u001B[38;5;241m=\u001B[39mnewline)\n\u001B[0;32m    531\u001B[0m \u001B[38;5;28;01melse\u001B[39;00m:\n\u001B[1;32m--> 532\u001B[0m     \u001B[38;5;28;01mraise\u001B[39;00m \u001B[38;5;167;01mFileNotFoundError\u001B[39;00m(\u001B[38;5;124mf\u001B[39m\u001B[38;5;124m\"\u001B[39m\u001B[38;5;132;01m{\u001B[39;00mpath\u001B[38;5;132;01m}\u001B[39;00m\u001B[38;5;124m not found.\u001B[39m\u001B[38;5;124m\"\u001B[39m)\n",
      "\u001B[1;31mFileNotFoundError\u001B[0m: ana/deconvolution/ep_betas/cardfit/dc/g01_cardfit_hep__Intercept__dc.ep not found."
     ]
    }
   ],
   "source": [
    "subject_list=cs.G_N\n",
    "X=np.empty((len(subject_list),data.shape[1],data.shape[0]))\n",
    "cond_list=[\"awareness_unaware\",\"awareness\",\"awareness\",\"card_phase_sys\",\"_Intercept_\"]\n",
    "fit='cardfit'\n",
    "dc='dc'\n",
    "beta_type=cond_list[4]\n",
    "\n",
    "for idx,g_num in enumerate(subject_list):\n",
    "    file_dir=f'ana/deconvolution/ep_betas/{fit}/{dc}/{g_num}_{fit}_hep_{beta_type}_{dc}.ep'\n",
    "    data=np.loadtxt(file_dir)\n",
    "\n",
    "    X[idx,:,:]=data.T\n",
    "\n",
    "\n"
   ],
   "metadata": {
    "collapsed": false,
    "ExecuteTime": {
     "end_time": "2025-05-15T07:06:37.885981800Z",
     "start_time": "2025-05-15T07:06:37.643164100Z"
    }
   }
  },
  {
   "cell_type": "code",
   "execution_count": 217,
   "outputs": [],
   "source": [
    "gavg=np.mean(X,0).T\n",
    "filename=f'ana/deconvolution/ep_betas/{fit}/{dc}/gavg_{fit}_hep_{beta_type}_{dc}.ep'\n",
    "\n",
    "np.savetxt(filename,gavg)"
   ],
   "metadata": {
    "collapsed": false,
    "ExecuteTime": {
     "end_time": "2025-05-13T09:13:57.264773100Z",
     "start_time": "2025-05-13T09:13:52.144625400Z"
    }
   }
  },
  {
   "cell_type": "markdown",
   "source": [
    "# For cardfit"
   ],
   "metadata": {
    "collapsed": false
   }
  },
  {
   "cell_type": "code",
   "execution_count": 16,
   "outputs": [],
   "source": [
    "subject_list=cs.G_N\n",
    "X=np.empty((len(subject_list),data.shape[1],data.shape[0]))\n",
    "sys_cond='sys'\n",
    "fit='cardfit'\n",
    "dc='nodc'\n",
    "beta_type=\"_Intercept_\"\n",
    "\n",
    "for idx,g_num in enumerate(subject_list):\n",
    "    file_dir=f'ana/deconvolution/ep_betas/{fit}/{dc}/{g_num}_{sys_cond}_hep_{beta_type}_{dc}.ep'\n",
    "    data=np.loadtxt(file_dir)\n",
    "\n",
    "    X[idx,:,:]=data.T\n",
    "\n",
    "\n"
   ],
   "metadata": {
    "collapsed": false,
    "ExecuteTime": {
     "end_time": "2025-05-15T07:29:01.882548500Z",
     "start_time": "2025-05-15T07:28:57.837625Z"
    }
   }
  },
  {
   "cell_type": "code",
   "execution_count": 17,
   "outputs": [],
   "source": [
    "gavg=np.mean(X,0).T\n",
    "filename=f'ana/deconvolution/ep_betas/{fit}/{dc}/gavg_{fit}_hep_{sys_cond}_{dc}.ep'\n",
    "\n",
    "np.savetxt(filename,gavg)"
   ],
   "metadata": {
    "collapsed": false,
    "ExecuteTime": {
     "end_time": "2025-05-15T07:29:05.129331700Z",
     "start_time": "2025-05-15T07:29:02.849213600Z"
    }
   }
  },
  {
   "cell_type": "markdown",
   "source": [],
   "metadata": {
    "collapsed": false
   }
  },
  {
   "cell_type": "markdown",
   "source": [
    "# Plot waveforms gavgs\n",
    "## plot erps"
   ],
   "metadata": {
    "collapsed": false
   }
  },
  {
   "cell_type": "code",
   "execution_count": 212,
   "outputs": [
    {
     "name": "stdout",
     "output_type": "stream",
     "text": [
      "Reading ana/MNE/evo_list/maskOFF/correct/cfa/hep/norm/maskOFF_correct_cfa_hep_norm_RRCA_list-ave.fif ...\n",
      "    Read a total of 1 projection items:\n",
      "        Average EEG reference (1 x 128) active\n",
      "    Found the data of interest:\n",
      "        t =    -199.22 ...    1000.00 ms (0.13 × hep/normal/correct/aware/R/exh/RRCA + 0.08 × hep/normal/correct/aware/R/inh/RRCA + 0.47 × hep/normal/correct/aware/R2/exh/RRCA + 0.32 × hep/normal/correct/aware/R2/inh/RRCA\n",
      " G_n= g01)\n",
      "        0 CTF compensation matrices available\n",
      "        nave = 345 - aspect type = 100\n",
      "Projections have already been applied. Setting proj attribute to True.\n",
      "No baseline correction applied\n",
      "    Read a total of 1 projection items:\n",
      "        Average EEG reference (1 x 128) active\n",
      "    Found the data of interest:\n",
      "        t =    -199.22 ...    1000.00 ms (0.18 × hep/normal/correct/aware/R/exh/RRCA + 0.15 × hep/normal/correct/aware/R/inh/RRCA + 0.42 × hep/normal/correct/aware/R2/exh/RRCA + 0.25 × hep/normal/correct/aware/R2/inh/RRCA\n",
      " G_n= g03)\n",
      "        0 CTF compensation matrices available\n",
      "        nave = 372 - aspect type = 100\n",
      "Projections have already been applied. Setting proj attribute to True.\n",
      "No baseline correction applied\n",
      "    Read a total of 1 projection items:\n",
      "        Average EEG reference (1 x 128) active\n",
      "    Found the data of interest:\n",
      "        t =    -199.22 ...    1000.00 ms (0.13 × hep/normal/correct/aware/R/exh/RRCA + 0.14 × hep/normal/correct/aware/R/inh/RRCA + 0.35 × hep/normal/correct/aware/R2/exh/RRCA + 0.38 × hep/normal/correct/aware/R2/inh/RRCA\n",
      " G_n= g08)\n",
      "        0 CTF compensation matrices available\n",
      "        nave = 343 - aspect type = 100\n",
      "Projections have already been applied. Setting proj attribute to True.\n",
      "No baseline correction applied\n",
      "    Read a total of 1 projection items:\n",
      "        Average EEG reference (1 x 128) active\n",
      "    Found the data of interest:\n",
      "        t =    -199.22 ...    1000.00 ms (0.16 × hep/normal/correct/aware/R/exh/RRCA + 0.13 × hep/normal/correct/aware/R/inh/RRCA + 0.45 × hep/normal/correct/aware/R2/exh/RRCA + 0.27 × hep/normal/correct/aware/R2/inh/RRCA\n",
      " G_n= g10)\n",
      "        0 CTF compensation matrices available\n",
      "        nave = 400 - aspect type = 100\n",
      "Projections have already been applied. Setting proj attribute to True.\n",
      "No baseline correction applied\n",
      "    Read a total of 1 projection items:\n",
      "        Average EEG reference (1 x 128) active\n",
      "    Found the data of interest:\n",
      "        t =    -199.22 ...    1000.00 ms (0.17 × hep/normal/correct/aware/R/exh/RRCA + 0.14 × hep/normal/correct/aware/R/inh/RRCA + 0.39 × hep/normal/correct/aware/R2/exh/RRCA + 0.30 × hep/normal/correct/aware/R2/inh/RRCA\n",
      " G_n= g11)\n",
      "        0 CTF compensation matrices available\n",
      "        nave = 337 - aspect type = 100\n",
      "Projections have already been applied. Setting proj attribute to True.\n",
      "No baseline correction applied\n",
      "    Read a total of 1 projection items:\n",
      "        Average EEG reference (1 x 128) active\n",
      "    Found the data of interest:\n",
      "        t =    -199.22 ...    1000.00 ms (0.16 × hep/normal/correct/aware/R/exh/RRCA + 0.22 × hep/normal/correct/aware/R/inh/RRCA + 0.31 × hep/normal/correct/aware/R2/exh/RRCA + 0.31 × hep/normal/correct/aware/R2/inh/RRCA\n",
      " G_n= g12)\n",
      "        0 CTF compensation matrices available\n",
      "        nave = 154 - aspect type = 100\n",
      "Projections have already been applied. Setting proj attribute to True.\n",
      "No baseline correction applied\n",
      "    Read a total of 1 projection items:\n",
      "        Average EEG reference (1 x 128) active\n",
      "    Found the data of interest:\n",
      "        t =    -199.22 ...    1000.00 ms (0.20 × hep/normal/correct/aware/R/exh/RRCA + 0.12 × hep/normal/correct/aware/R/inh/RRCA + 0.41 × hep/normal/correct/aware/R2/exh/RRCA + 0.26 × hep/normal/correct/aware/R2/inh/RRCA\n",
      " G_n= g15)\n",
      "        0 CTF compensation matrices available\n",
      "        nave = 273 - aspect type = 100\n",
      "Projections have already been applied. Setting proj attribute to True.\n",
      "No baseline correction applied\n",
      "    Read a total of 1 projection items:\n",
      "        Average EEG reference (1 x 128) active\n",
      "    Found the data of interest:\n",
      "        t =    -199.22 ...    1000.00 ms (0.14 × hep/normal/correct/aware/R/exh/RRCA + 0.14 × hep/normal/correct/aware/R/inh/RRCA + 0.36 × hep/normal/correct/aware/R2/exh/RRCA + 0.36 × hep/normal/correct/aware/R2/inh/RRCA\n",
      " G_n= g16)\n",
      "        0 CTF compensation matrices available\n",
      "        nave = 295 - aspect type = 100\n",
      "Projections have already been applied. Setting proj attribute to True.\n",
      "No baseline correction applied\n",
      "    Read a total of 1 projection items:\n",
      "        Average EEG reference (1 x 128) active\n",
      "    Found the data of interest:\n",
      "        t =    -199.22 ...    1000.00 ms (0.14 × hep/normal/correct/aware/R/exh/RRCA + 0.17 × hep/normal/correct/aware/R/inh/RRCA + 0.34 × hep/normal/correct/aware/R2/exh/RRCA + 0.35 × hep/normal/correct/aware/R2/inh/RRCA\n",
      " G_n= g17)\n",
      "        0 CTF compensation matrices available\n",
      "        nave = 318 - aspect type = 100\n",
      "Projections have already been applied. Setting proj attribute to True.\n",
      "No baseline correction applied\n",
      "    Read a total of 1 projection items:\n",
      "        Average EEG reference (1 x 128) active\n",
      "    Found the data of interest:\n",
      "        t =    -199.22 ...    1000.00 ms (0.16 × hep/normal/correct/aware/R/exh/RRCA + 0.16 × hep/normal/correct/aware/R/inh/RRCA + 0.40 × hep/normal/correct/aware/R2/exh/RRCA + 0.28 × hep/normal/correct/aware/R2/inh/RRCA\n",
      " G_n= g19)\n",
      "        0 CTF compensation matrices available\n",
      "        nave = 413 - aspect type = 100\n",
      "Projections have already been applied. Setting proj attribute to True.\n",
      "No baseline correction applied\n",
      "    Read a total of 1 projection items:\n",
      "        Average EEG reference (1 x 128) active\n",
      "    Found the data of interest:\n",
      "        t =    -199.22 ...    1000.00 ms (0.12 × hep/normal/correct/aware/R/exh/RRCA + 0.14 × hep/normal/correct/aware/R/inh/RRCA + 0.38 × hep/normal/correct/aware/R2/exh/RRCA + 0.36 × hep/normal/correct/aware/R2/inh/RRCA\n",
      " G_n= g23)\n",
      "        0 CTF compensation matrices available\n",
      "        nave = 425 - aspect type = 100\n",
      "Projections have already been applied. Setting proj attribute to True.\n",
      "No baseline correction applied\n",
      "    Read a total of 1 projection items:\n",
      "        Average EEG reference (1 x 128) active\n",
      "    Found the data of interest:\n",
      "        t =    -199.22 ...    1000.00 ms (0.15 × hep/normal/correct/aware/R/exh/RRCA + 0.13 × hep/normal/correct/aware/R/inh/RRCA + 0.38 × hep/normal/correct/aware/R2/exh/RRCA + 0.35 × hep/normal/correct/aware/R2/inh/RRCA\n",
      " G_n= g24)\n",
      "        0 CTF compensation matrices available\n",
      "        nave = 167 - aspect type = 100\n",
      "Projections have already been applied. Setting proj attribute to True.\n",
      "No baseline correction applied\n",
      "    Read a total of 1 projection items:\n",
      "        Average EEG reference (1 x 128) active\n",
      "    Found the data of interest:\n",
      "        t =    -199.22 ...    1000.00 ms (0.21 × hep/normal/correct/aware/R/exh/RRCA + 0.14 × hep/normal/correct/aware/R/inh/RRCA + 0.38 × hep/normal/correct/aware/R2/exh/RRCA + 0.28 × hep/normal/correct/aware/R2/inh/RRCA\n",
      " G_n= g25)\n",
      "        0 CTF compensation matrices available\n",
      "        nave = 494 - aspect type = 100\n",
      "Projections have already been applied. Setting proj attribute to True.\n",
      "No baseline correction applied\n",
      "    Read a total of 1 projection items:\n",
      "        Average EEG reference (1 x 128) active\n",
      "    Found the data of interest:\n",
      "        t =    -199.22 ...    1000.00 ms (0.17 × hep/normal/correct/aware/R/exh/RRCA + 0.07 × hep/normal/correct/aware/R/inh/RRCA + 0.50 × hep/normal/correct/aware/R2/exh/RRCA + 0.27 × hep/normal/correct/aware/R2/inh/RRCA\n",
      " G_n= g28)\n",
      "        0 CTF compensation matrices available\n",
      "        nave = 184 - aspect type = 100\n",
      "Projections have already been applied. Setting proj attribute to True.\n",
      "No baseline correction applied\n",
      "    Read a total of 1 projection items:\n",
      "        Average EEG reference (1 x 128) active\n",
      "    Found the data of interest:\n",
      "        t =    -199.22 ...    1000.00 ms (0.19 × hep/normal/correct/aware/R/exh/RRCA + 0.10 × hep/normal/correct/aware/R/inh/RRCA + 0.48 × hep/normal/correct/aware/R2/exh/RRCA + 0.23 × hep/normal/correct/aware/R2/inh/RRCA\n",
      " G_n= g32)\n",
      "        0 CTF compensation matrices available\n",
      "        nave = 358 - aspect type = 100\n",
      "Projections have already been applied. Setting proj attribute to True.\n",
      "No baseline correction applied\n",
      "    Read a total of 1 projection items:\n",
      "        Average EEG reference (1 x 128) active\n",
      "    Found the data of interest:\n",
      "        t =    -199.22 ...    1000.00 ms (0.22 × hep/normal/correct/aware/R/exh/RRCA + 0.13 × hep/normal/correct/aware/R/inh/RRCA + 0.39 × hep/normal/correct/aware/R2/exh/RRCA + 0.26 × hep/normal/correct/aware/R2/inh/RRCA\n",
      " G_n= g33)\n",
      "        0 CTF compensation matrices available\n",
      "        nave = 346 - aspect type = 100\n",
      "Projections have already been applied. Setting proj attribute to True.\n",
      "No baseline correction applied\n",
      "    Read a total of 1 projection items:\n",
      "        Average EEG reference (1 x 128) active\n",
      "    Found the data of interest:\n",
      "        t =    -199.22 ...    1000.00 ms (0.20 × hep/normal/correct/aware/R/exh/RRCA + 0.14 × hep/normal/correct/aware/R/inh/RRCA + 0.44 × hep/normal/correct/aware/R2/exh/RRCA + 0.22 × hep/normal/correct/aware/R2/inh/RRCA\n",
      " G_n= g34)\n",
      "        0 CTF compensation matrices available\n",
      "        nave = 394 - aspect type = 100\n",
      "Projections have already been applied. Setting proj attribute to True.\n",
      "No baseline correction applied\n",
      "    Read a total of 1 projection items:\n",
      "        Average EEG reference (1 x 128) active\n",
      "    Found the data of interest:\n",
      "        t =    -199.22 ...    1000.00 ms (0.09 × hep/normal/correct/aware/R/exh/RRCA + 0.22 × hep/normal/correct/aware/R/inh/RRCA + 0.20 × hep/normal/correct/aware/R2/exh/RRCA + 0.48 × hep/normal/correct/aware/R2/inh/RRCA\n",
      " G_n= g37)\n",
      "        0 CTF compensation matrices available\n",
      "        nave = 232 - aspect type = 100\n",
      "Projections have already been applied. Setting proj attribute to True.\n",
      "No baseline correction applied\n",
      "    Read a total of 1 projection items:\n",
      "        Average EEG reference (1 x 128) active\n",
      "    Found the data of interest:\n",
      "        t =    -199.22 ...    1000.00 ms (0.18 × hep/normal/correct/aware/R/exh/RRCA + 0.14 × hep/normal/correct/aware/R/inh/RRCA + 0.42 × hep/normal/correct/aware/R2/exh/RRCA + 0.26 × hep/normal/correct/aware/R2/inh/RRCA\n",
      " G_n= g38)\n",
      "        0 CTF compensation matrices available\n",
      "        nave = 308 - aspect type = 100\n",
      "Projections have already been applied. Setting proj attribute to True.\n",
      "No baseline correction applied\n",
      "    Read a total of 1 projection items:\n",
      "        Average EEG reference (1 x 128) active\n",
      "    Found the data of interest:\n",
      "        t =    -199.22 ...    1000.00 ms (0.15 × hep/normal/correct/aware/R/exh/RRCA + 0.18 × hep/normal/correct/aware/R/inh/RRCA + 0.40 × hep/normal/correct/aware/R2/exh/RRCA + 0.27 × hep/normal/correct/aware/R2/inh/RRCA\n",
      " G_n= g39)\n",
      "        0 CTF compensation matrices available\n",
      "        nave = 226 - aspect type = 100\n",
      "Projections have already been applied. Setting proj attribute to True.\n",
      "No baseline correction applied\n",
      "    Read a total of 1 projection items:\n",
      "        Average EEG reference (1 x 128) active\n",
      "    Found the data of interest:\n",
      "        t =    -199.22 ...    1000.00 ms (0.13 × hep/normal/correct/aware/R/exh/RRCA + 0.08 × hep/normal/correct/aware/R/inh/RRCA + 0.50 × hep/normal/correct/aware/R2/exh/RRCA + 0.30 × hep/normal/correct/aware/R2/inh/RRCA\n",
      " G_n= g40)\n",
      "        0 CTF compensation matrices available\n",
      "        nave = 240 - aspect type = 100\n",
      "Projections have already been applied. Setting proj attribute to True.\n",
      "No baseline correction applied\n",
      "    Read a total of 1 projection items:\n",
      "        Average EEG reference (1 x 128) active\n",
      "    Found the data of interest:\n",
      "        t =    -199.22 ...    1000.00 ms (0.14 × hep/normal/correct/aware/R/exh/RRCA + 0.16 × hep/normal/correct/aware/R/inh/RRCA + 0.44 × hep/normal/correct/aware/R2/exh/RRCA + 0.26 × hep/normal/correct/aware/R2/inh/RRCA\n",
      " G_n= g41)\n",
      "        0 CTF compensation matrices available\n",
      "        nave = 281 - aspect type = 100\n",
      "Projections have already been applied. Setting proj attribute to True.\n",
      "No baseline correction applied\n",
      "    Read a total of 1 projection items:\n",
      "        Average EEG reference (1 x 128) active\n",
      "    Found the data of interest:\n",
      "        t =    -199.22 ...    1000.00 ms (0.15 × hep/normal/correct/aware/R/exh/RRCA + 0.13 × hep/normal/correct/aware/R/inh/RRCA + 0.36 × hep/normal/correct/aware/R2/exh/RRCA + 0.35 × hep/normal/correct/aware/R2/inh/RRCA\n",
      " G_n= g42)\n",
      "        0 CTF compensation matrices available\n",
      "        nave = 354 - aspect type = 100\n",
      "Projections have already been applied. Setting proj attribute to True.\n",
      "No baseline correction applied\n",
      "    Read a total of 1 projection items:\n",
      "        Average EEG reference (1 x 128) active\n",
      "    Found the data of interest:\n",
      "        t =    -199.22 ...    1000.00 ms (0.18 × hep/normal/correct/aware/R/exh/RRCA + 0.12 × hep/normal/correct/aware/R/inh/RRCA + 0.45 × hep/normal/correct/aware/R2/exh/RRCA + 0.25 × hep/normal/correct/aware/R2/inh/RRCA\n",
      " G_n= g44)\n",
      "        0 CTF compensation matrices available\n",
      "        nave = 301 - aspect type = 100\n",
      "Projections have already been applied. Setting proj attribute to True.\n",
      "No baseline correction applied\n",
      "    Read a total of 1 projection items:\n",
      "        Average EEG reference (1 x 128) active\n",
      "    Found the data of interest:\n",
      "        t =    -199.22 ...    1000.00 ms (0.18 × hep/normal/correct/aware/R/exh/RRCA + 0.08 × hep/normal/correct/aware/R/inh/RRCA + 0.50 × hep/normal/correct/aware/R2/exh/RRCA + 0.24 × hep/normal/correct/aware/R2/inh/RRCA\n",
      " G_n= g45)\n",
      "        0 CTF compensation matrices available\n",
      "        nave = 407 - aspect type = 100\n",
      "Projections have already been applied. Setting proj attribute to True.\n",
      "No baseline correction applied\n",
      "    Read a total of 1 projection items:\n",
      "        Average EEG reference (1 x 128) active\n",
      "    Found the data of interest:\n",
      "        t =    -199.22 ...    1000.00 ms (0.07 × hep/normal/correct/aware/R/exh/RRCA + 0.15 × hep/normal/correct/aware/R/inh/RRCA + 0.41 × hep/normal/correct/aware/R2/exh/RRCA + 0.37 × hep/normal/correct/aware/R2/inh/RRCA\n",
      " G_n= g46)\n",
      "        0 CTF compensation matrices available\n",
      "        nave = 361 - aspect type = 100\n",
      "Projections have already been applied. Setting proj attribute to True.\n",
      "No baseline correction applied\n",
      "    Read a total of 1 projection items:\n",
      "        Average EEG reference (1 x 128) active\n",
      "    Found the data of interest:\n",
      "        t =    -199.22 ...    1000.00 ms (0.14 × hep/normal/correct/aware/R/exh/RRCA + 0.15 × hep/normal/correct/aware/R/inh/RRCA + 0.41 × hep/normal/correct/aware/R2/exh/RRCA + 0.30 × hep/normal/correct/aware/R2/inh/RRCA\n",
      " G_n= g47)\n",
      "        0 CTF compensation matrices available\n",
      "        nave = 435 - aspect type = 100\n",
      "Projections have already been applied. Setting proj attribute to True.\n",
      "No baseline correction applied\n",
      "    Read a total of 1 projection items:\n",
      "        Average EEG reference (1 x 128) active\n",
      "    Found the data of interest:\n",
      "        t =    -199.22 ...    1000.00 ms (0.18 × hep/normal/correct/aware/R/exh/RRCA + 0.14 × hep/normal/correct/aware/R/inh/RRCA + 0.44 × hep/normal/correct/aware/R2/exh/RRCA + 0.24 × hep/normal/correct/aware/R2/inh/RRCA\n",
      " G_n= g49)\n",
      "        0 CTF compensation matrices available\n",
      "        nave = 288 - aspect type = 100\n",
      "Projections have already been applied. Setting proj attribute to True.\n",
      "No baseline correction applied\n",
      "    Read a total of 1 projection items:\n",
      "        Average EEG reference (1 x 128) active\n",
      "    Found the data of interest:\n",
      "        t =    -199.22 ...    1000.00 ms (0.22 × hep/normal/correct/aware/R/exh/RRCA + 0.10 × hep/normal/correct/aware/R/inh/RRCA + 0.49 × hep/normal/correct/aware/R2/exh/RRCA + 0.19 × hep/normal/correct/aware/R2/inh/RRCA\n",
      " G_n= g51)\n",
      "        0 CTF compensation matrices available\n",
      "        nave = 343 - aspect type = 100\n",
      "Projections have already been applied. Setting proj attribute to True.\n",
      "No baseline correction applied\n",
      "    Read a total of 1 projection items:\n",
      "        Average EEG reference (1 x 128) active\n",
      "    Found the data of interest:\n",
      "        t =    -199.22 ...    1000.00 ms (0.17 × hep/normal/correct/aware/R/exh/RRCA + 0.13 × hep/normal/correct/aware/R/inh/RRCA + 0.39 × hep/normal/correct/aware/R2/exh/RRCA + 0.31 × hep/normal/correct/aware/R2/inh/RRCA\n",
      " G_n= g52)\n",
      "        0 CTF compensation matrices available\n",
      "        nave = 254 - aspect type = 100\n",
      "Projections have already been applied. Setting proj attribute to True.\n",
      "No baseline correction applied\n",
      "Reading ana/MNE/evo_list/maskOFF/correct/cfa/hep/norm/maskOFF_correct_cfa_hep_norm_RRCU_list-ave.fif ...\n",
      "    Read a total of 1 projection items:\n",
      "        Average EEG reference (1 x 128) active\n",
      "    Found the data of interest:\n",
      "        t =    -199.22 ...    1000.00 ms (0.13 × hep/normal/correct/unaware/R/exh/RRCU + 0.12 × hep/normal/correct/unaware/R/inh/RRCU + 0.46 × hep/normal/correct/unaware/R2/exh/RRCU + 0.30 × hep/normal/correct/unaware/R2/inh/RRCU\n",
      " G_n= g01)\n",
      "        0 CTF compensation matrices available\n",
      "        nave = 298 - aspect type = 100\n",
      "Projections have already been applied. Setting proj attribute to True.\n",
      "No baseline correction applied\n",
      "    Read a total of 1 projection items:\n",
      "        Average EEG reference (1 x 128) active\n",
      "    Found the data of interest:\n",
      "        t =    -199.22 ...    1000.00 ms (0.18 × hep/normal/correct/unaware/R/exh/RRCU + 0.11 × hep/normal/correct/unaware/R/inh/RRCU + 0.45 × hep/normal/correct/unaware/R2/exh/RRCU + 0.25 × hep/normal/correct/unaware/R2/inh/RRCU\n",
      " G_n= g03)\n",
      "        0 CTF compensation matrices available\n",
      "        nave = 212 - aspect type = 100\n",
      "Projections have already been applied. Setting proj attribute to True.\n",
      "No baseline correction applied\n",
      "    Read a total of 1 projection items:\n",
      "        Average EEG reference (1 x 128) active\n",
      "    Found the data of interest:\n",
      "        t =    -199.22 ...    1000.00 ms (0.22 × hep/normal/correct/unaware/R/exh/RRCU + 0.12 × hep/normal/correct/unaware/R/inh/RRCU + 0.32 × hep/normal/correct/unaware/R2/exh/RRCU + 0.35 × hep/normal/correct/unaware/R2/inh/RRCU\n",
      " G_n= g08)\n",
      "        0 CTF compensation matrices available\n",
      "        nave = 158 - aspect type = 100\n",
      "Projections have already been applied. Setting proj attribute to True.\n",
      "No baseline correction applied\n",
      "    Read a total of 1 projection items:\n",
      "        Average EEG reference (1 x 128) active\n",
      "    Found the data of interest:\n",
      "        t =    -199.22 ...    1000.00 ms (0.11 × hep/normal/correct/unaware/R/exh/RRCU + 0.11 × hep/normal/correct/unaware/R/inh/RRCU + 0.47 × hep/normal/correct/unaware/R2/exh/RRCU + 0.32 × hep/normal/correct/unaware/R2/inh/RRCU\n",
      " G_n= g10)\n",
      "        0 CTF compensation matrices available\n",
      "        nave = 187 - aspect type = 100\n",
      "Projections have already been applied. Setting proj attribute to True.\n",
      "No baseline correction applied\n",
      "    Read a total of 1 projection items:\n",
      "        Average EEG reference (1 x 128) active\n",
      "    Found the data of interest:\n",
      "        t =    -199.22 ...    1000.00 ms (0.17 × hep/normal/correct/unaware/R/exh/RRCU + 0.12 × hep/normal/correct/unaware/R/inh/RRCU + 0.43 × hep/normal/correct/unaware/R2/exh/RRCU + 0.27 × hep/normal/correct/unaware/R2/inh/RRCU\n",
      " G_n= g11)\n",
      "        0 CTF compensation matrices available\n",
      "        nave = 322 - aspect type = 100\n",
      "Projections have already been applied. Setting proj attribute to True.\n",
      "No baseline correction applied\n",
      "    Read a total of 1 projection items:\n",
      "        Average EEG reference (1 x 128) active\n",
      "    Found the data of interest:\n",
      "        t =    -199.22 ...    1000.00 ms (0.13 × hep/normal/correct/unaware/R/exh/RRCU + 0.16 × hep/normal/correct/unaware/R/inh/RRCU + 0.34 × hep/normal/correct/unaware/R2/exh/RRCU + 0.37 × hep/normal/correct/unaware/R2/inh/RRCU\n",
      " G_n= g12)\n",
      "        0 CTF compensation matrices available\n",
      "        nave = 153 - aspect type = 100\n",
      "Projections have already been applied. Setting proj attribute to True.\n",
      "No baseline correction applied\n",
      "    Read a total of 1 projection items:\n",
      "        Average EEG reference (1 x 128) active\n",
      "    Found the data of interest:\n",
      "        t =    -199.22 ...    1000.00 ms (0.17 × hep/normal/correct/unaware/R/exh/RRCU + 0.12 × hep/normal/correct/unaware/R/inh/RRCU + 0.42 × hep/normal/correct/unaware/R2/exh/RRCU + 0.29 × hep/normal/correct/unaware/R2/inh/RRCU + 0.00 × hep/normal/correct/unaware/RR/exh/RRCU\n",
      " G_n= g15)\n",
      "        0 CTF compensation matrices available\n",
      "        nave = 330 - aspect type = 100\n",
      "Projections have already been applied. Setting proj attribute to True.\n",
      "No baseline correction applied\n",
      "    Read a total of 1 projection items:\n",
      "        Average EEG reference (1 x 128) active\n",
      "    Found the data of interest:\n",
      "        t =    -199.22 ...    1000.00 ms (0.17 × hep/normal/correct/unaware/R/exh/RRCU + 0.15 × hep/normal/correct/unaware/R/inh/RRCU + 0.37 × hep/normal/correct/unaware/R2/exh/RRCU + 0.30 × hep/normal/correct/unaware/R2/inh/RRCU\n",
      " G_n= g16)\n",
      "        0 CTF compensation matrices available\n",
      "        nave = 297 - aspect type = 100\n",
      "Projections have already been applied. Setting proj attribute to True.\n",
      "No baseline correction applied\n",
      "    Read a total of 1 projection items:\n",
      "        Average EEG reference (1 x 128) active\n",
      "    Found the data of interest:\n",
      "        t =    -199.22 ...    1000.00 ms (0.11 × hep/normal/correct/unaware/R/exh/RRCU + 0.15 × hep/normal/correct/unaware/R/inh/RRCU + 0.34 × hep/normal/correct/unaware/R2/exh/RRCU + 0.39 × hep/normal/correct/unaware/R2/inh/RRCU\n",
      " G_n= g17)\n",
      "        0 CTF compensation matrices available\n",
      "        nave = 445 - aspect type = 100\n",
      "Projections have already been applied. Setting proj attribute to True.\n",
      "No baseline correction applied\n",
      "    Read a total of 1 projection items:\n",
      "        Average EEG reference (1 x 128) active\n",
      "    Found the data of interest:\n",
      "        t =    -199.22 ...    1000.00 ms (0.19 × hep/normal/correct/unaware/R/exh/RRCU + 0.14 × hep/normal/correct/unaware/R/inh/RRCU + 0.41 × hep/normal/correct/unaware/R2/exh/RRCU + 0.27 × hep/normal/correct/unaware/R2/inh/RRCU\n",
      " G_n= g19)\n",
      "        0 CTF compensation matrices available\n",
      "        nave = 236 - aspect type = 100\n",
      "Projections have already been applied. Setting proj attribute to True.\n",
      "No baseline correction applied\n",
      "    Read a total of 1 projection items:\n",
      "        Average EEG reference (1 x 128) active\n",
      "    Found the data of interest:\n",
      "        t =    -199.22 ...    1000.00 ms (0.11 × hep/normal/correct/unaware/R/exh/RRCU + 0.16 × hep/normal/correct/unaware/R/inh/RRCU + 0.36 × hep/normal/correct/unaware/R2/exh/RRCU + 0.37 × hep/normal/correct/unaware/R2/inh/RRCU\n",
      " G_n= g23)\n",
      "        0 CTF compensation matrices available\n",
      "        nave = 223 - aspect type = 100\n",
      "Projections have already been applied. Setting proj attribute to True.\n",
      "No baseline correction applied\n",
      "    Read a total of 1 projection items:\n",
      "        Average EEG reference (1 x 128) active\n",
      "    Found the data of interest:\n",
      "        t =    -199.22 ...    1000.00 ms (0.17 × hep/normal/correct/unaware/R/exh/RRCU + 0.09 × hep/normal/correct/unaware/R/inh/RRCU + 0.42 × hep/normal/correct/unaware/R2/exh/RRCU + 0.32 × hep/normal/correct/unaware/R2/inh/RRCU\n",
      " G_n= g24)\n",
      "        0 CTF compensation matrices available\n",
      "        nave = 338 - aspect type = 100\n",
      "Projections have already been applied. Setting proj attribute to True.\n",
      "No baseline correction applied\n",
      "    Read a total of 1 projection items:\n",
      "        Average EEG reference (1 x 128) active\n",
      "    Found the data of interest:\n",
      "        t =    -199.22 ...    1000.00 ms (0.16 × hep/normal/correct/unaware/R/exh/RRCU + 0.16 × hep/normal/correct/unaware/R/inh/RRCU + 0.39 × hep/normal/correct/unaware/R2/exh/RRCU + 0.30 × hep/normal/correct/unaware/R2/inh/RRCU\n",
      " G_n= g25)\n",
      "        0 CTF compensation matrices available\n",
      "        nave = 245 - aspect type = 100\n",
      "Projections have already been applied. Setting proj attribute to True.\n",
      "No baseline correction applied\n",
      "    Read a total of 1 projection items:\n",
      "        Average EEG reference (1 x 128) active\n",
      "    Found the data of interest:\n",
      "        t =    -199.22 ...    1000.00 ms (0.19 × hep/normal/correct/unaware/R/exh/RRCU + 0.10 × hep/normal/correct/unaware/R/inh/RRCU + 0.43 × hep/normal/correct/unaware/R2/exh/RRCU + 0.27 × hep/normal/correct/unaware/R2/inh/RRCU\n",
      " G_n= g28)\n",
      "        0 CTF compensation matrices available\n",
      "        nave = 381 - aspect type = 100\n",
      "Projections have already been applied. Setting proj attribute to True.\n",
      "No baseline correction applied\n",
      "    Read a total of 1 projection items:\n",
      "        Average EEG reference (1 x 128) active\n",
      "    Found the data of interest:\n",
      "        t =    -199.22 ...    1000.00 ms (0.15 × hep/normal/correct/unaware/R/exh/RRCU + 0.13 × hep/normal/correct/unaware/R/inh/RRCU + 0.50 × hep/normal/correct/unaware/R2/exh/RRCU + 0.22 × hep/normal/correct/unaware/R2/inh/RRCU\n",
      " G_n= g32)\n",
      "        0 CTF compensation matrices available\n",
      "        nave = 298 - aspect type = 100\n",
      "Projections have already been applied. Setting proj attribute to True.\n",
      "No baseline correction applied\n",
      "    Read a total of 1 projection items:\n",
      "        Average EEG reference (1 x 128) active\n",
      "    Found the data of interest:\n",
      "        t =    -199.22 ...    1000.00 ms (0.22 × hep/normal/correct/unaware/R/exh/RRCU + 0.12 × hep/normal/correct/unaware/R/inh/RRCU + 0.47 × hep/normal/correct/unaware/R2/exh/RRCU + 0.20 × hep/normal/correct/unaware/R2/inh/RRCU\n",
      " G_n= g33)\n",
      "        0 CTF compensation matrices available\n",
      "        nave = 376 - aspect type = 100\n",
      "Projections have already been applied. Setting proj attribute to True.\n",
      "No baseline correction applied\n",
      "    Read a total of 1 projection items:\n",
      "        Average EEG reference (1 x 128) active\n",
      "    Found the data of interest:\n",
      "        t =    -199.22 ...    1000.00 ms (0.17 × hep/normal/correct/unaware/R/exh/RRCU + 0.16 × hep/normal/correct/unaware/R/inh/RRCU + 0.36 × hep/normal/correct/unaware/R2/exh/RRCU + 0.31 × hep/normal/correct/unaware/R2/inh/RRCU\n",
      " G_n= g34)\n",
      "        0 CTF compensation matrices available\n",
      "        nave = 218 - aspect type = 100\n",
      "Projections have already been applied. Setting proj attribute to True.\n",
      "No baseline correction applied\n",
      "    Read a total of 1 projection items:\n",
      "        Average EEG reference (1 x 128) active\n",
      "    Found the data of interest:\n",
      "        t =    -199.22 ...    1000.00 ms (0.11 × hep/normal/correct/unaware/R/exh/RRCU + 0.24 × hep/normal/correct/unaware/R/inh/RRCU + 0.21 × hep/normal/correct/unaware/R2/exh/RRCU + 0.43 × hep/normal/correct/unaware/R2/inh/RRCU\n",
      " G_n= g37)\n",
      "        0 CTF compensation matrices available\n",
      "        nave = 316 - aspect type = 100\n",
      "Projections have already been applied. Setting proj attribute to True.\n",
      "No baseline correction applied\n",
      "    Read a total of 1 projection items:\n",
      "        Average EEG reference (1 x 128) active\n",
      "    Found the data of interest:\n",
      "        t =    -199.22 ...    1000.00 ms (0.19 × hep/normal/correct/unaware/R/exh/RRCU + 0.12 × hep/normal/correct/unaware/R/inh/RRCU + 0.43 × hep/normal/correct/unaware/R2/exh/RRCU + 0.25 × hep/normal/correct/unaware/R2/inh/RRCU\n",
      " G_n= g38)\n",
      "        0 CTF compensation matrices available\n",
      "        nave = 385 - aspect type = 100\n",
      "Projections have already been applied. Setting proj attribute to True.\n",
      "No baseline correction applied\n",
      "    Read a total of 1 projection items:\n",
      "        Average EEG reference (1 x 128) active\n",
      "    Found the data of interest:\n",
      "        t =    -199.22 ...    1000.00 ms (0.25 × hep/normal/correct/unaware/R/exh/RRCU + 0.10 × hep/normal/correct/unaware/R/inh/RRCU + 0.41 × hep/normal/correct/unaware/R2/exh/RRCU + 0.23 × hep/normal/correct/unaware/R2/inh/RRCU\n",
      " G_n= g39)\n",
      "        0 CTF compensation matrices available\n",
      "        nave = 448 - aspect type = 100\n",
      "Projections have already been applied. Setting proj attribute to True.\n",
      "No baseline correction applied\n",
      "    Read a total of 1 projection items:\n",
      "        Average EEG reference (1 x 128) active\n",
      "    Found the data of interest:\n",
      "        t =    -199.22 ...    1000.00 ms (0.12 × hep/normal/correct/unaware/R/exh/RRCU + 0.10 × hep/normal/correct/unaware/R/inh/RRCU + 0.53 × hep/normal/correct/unaware/R2/exh/RRCU + 0.25 × hep/normal/correct/unaware/R2/inh/RRCU\n",
      " G_n= g40)\n",
      "        0 CTF compensation matrices available\n",
      "        nave = 363 - aspect type = 100\n",
      "Projections have already been applied. Setting proj attribute to True.\n",
      "No baseline correction applied\n",
      "    Read a total of 1 projection items:\n",
      "        Average EEG reference (1 x 128) active\n",
      "    Found the data of interest:\n",
      "        t =    -199.22 ...    1000.00 ms (0.12 × hep/normal/correct/unaware/R/exh/RRCU + 0.11 × hep/normal/correct/unaware/R/inh/RRCU + 0.47 × hep/normal/correct/unaware/R2/exh/RRCU + 0.30 × hep/normal/correct/unaware/R2/inh/RRCU\n",
      " G_n= g41)\n",
      "        0 CTF compensation matrices available\n",
      "        nave = 469 - aspect type = 100\n",
      "Projections have already been applied. Setting proj attribute to True.\n",
      "No baseline correction applied\n",
      "    Read a total of 1 projection items:\n",
      "        Average EEG reference (1 x 128) active\n",
      "    Found the data of interest:\n",
      "        t =    -199.22 ...    1000.00 ms (0.15 × hep/normal/correct/unaware/R/exh/RRCU + 0.15 × hep/normal/correct/unaware/R/inh/RRCU + 0.40 × hep/normal/correct/unaware/R2/exh/RRCU + 0.30 × hep/normal/correct/unaware/R2/inh/RRCU\n",
      " G_n= g42)\n",
      "        0 CTF compensation matrices available\n",
      "        nave = 402 - aspect type = 100\n",
      "Projections have already been applied. Setting proj attribute to True.\n",
      "No baseline correction applied\n",
      "    Read a total of 1 projection items:\n",
      "        Average EEG reference (1 x 128) active\n",
      "    Found the data of interest:\n",
      "        t =    -199.22 ...    1000.00 ms (0.15 × hep/normal/correct/unaware/R/exh/RRCU + 0.14 × hep/normal/correct/unaware/R/inh/RRCU + 0.43 × hep/normal/correct/unaware/R2/exh/RRCU + 0.29 × hep/normal/correct/unaware/R2/inh/RRCU\n",
      " G_n= g44)\n",
      "        0 CTF compensation matrices available\n",
      "        nave = 487 - aspect type = 100\n",
      "Projections have already been applied. Setting proj attribute to True.\n",
      "No baseline correction applied\n",
      "    Read a total of 1 projection items:\n",
      "        Average EEG reference (1 x 128) active\n",
      "    Found the data of interest:\n",
      "        t =    -199.22 ...    1000.00 ms (0.19 × hep/normal/correct/unaware/R/exh/RRCU + 0.11 × hep/normal/correct/unaware/R/inh/RRCU + 0.44 × hep/normal/correct/unaware/R2/exh/RRCU + 0.27 × hep/normal/correct/unaware/R2/inh/RRCU\n",
      " G_n= g45)\n",
      "        0 CTF compensation matrices available\n",
      "        nave = 275 - aspect type = 100\n",
      "Projections have already been applied. Setting proj attribute to True.\n",
      "No baseline correction applied\n",
      "    Read a total of 1 projection items:\n",
      "        Average EEG reference (1 x 128) active\n",
      "    Found the data of interest:\n",
      "        t =    -199.22 ...    1000.00 ms (0.09 × hep/normal/correct/unaware/R/exh/RRCU + 0.20 × hep/normal/correct/unaware/R/inh/RRCU + 0.34 × hep/normal/correct/unaware/R2/exh/RRCU + 0.37 × hep/normal/correct/unaware/R2/inh/RRCU\n",
      " G_n= g46)\n",
      "        0 CTF compensation matrices available\n",
      "        nave = 215 - aspect type = 100\n",
      "Projections have already been applied. Setting proj attribute to True.\n",
      "No baseline correction applied\n",
      "    Read a total of 1 projection items:\n",
      "        Average EEG reference (1 x 128) active\n",
      "    Found the data of interest:\n",
      "        t =    -199.22 ...    1000.00 ms (0.13 × hep/normal/correct/unaware/R/exh/RRCU + 0.14 × hep/normal/correct/unaware/R/inh/RRCU + 0.42 × hep/normal/correct/unaware/R2/exh/RRCU + 0.31 × hep/normal/correct/unaware/R2/inh/RRCU\n",
      " G_n= g47)\n",
      "        0 CTF compensation matrices available\n",
      "        nave = 333 - aspect type = 100\n",
      "Projections have already been applied. Setting proj attribute to True.\n",
      "No baseline correction applied\n",
      "    Read a total of 1 projection items:\n",
      "        Average EEG reference (1 x 128) active\n",
      "    Found the data of interest:\n",
      "        t =    -199.22 ...    1000.00 ms (0.15 × hep/normal/correct/unaware/R/exh/RRCU + 0.13 × hep/normal/correct/unaware/R/inh/RRCU + 0.43 × hep/normal/correct/unaware/R2/exh/RRCU + 0.29 × hep/normal/correct/unaware/R2/inh/RRCU\n",
      " G_n= g49)\n",
      "        0 CTF compensation matrices available\n",
      "        nave = 318 - aspect type = 100\n",
      "Projections have already been applied. Setting proj attribute to True.\n",
      "No baseline correction applied\n",
      "    Read a total of 1 projection items:\n",
      "        Average EEG reference (1 x 128) active\n",
      "    Found the data of interest:\n",
      "        t =    -199.22 ...    1000.00 ms (0.16 × hep/normal/correct/unaware/R/exh/RRCU + 0.12 × hep/normal/correct/unaware/R/inh/RRCU + 0.47 × hep/normal/correct/unaware/R2/exh/RRCU + 0.25 × hep/normal/correct/unaware/R2/inh/RRCU\n",
      " G_n= g51)\n",
      "        0 CTF compensation matrices available\n",
      "        nave = 393 - aspect type = 100\n",
      "Projections have already been applied. Setting proj attribute to True.\n",
      "No baseline correction applied\n",
      "    Read a total of 1 projection items:\n",
      "        Average EEG reference (1 x 128) active\n",
      "    Found the data of interest:\n",
      "        t =    -199.22 ...    1000.00 ms (0.19 × hep/normal/correct/unaware/R/exh/RRCU + 0.14 × hep/normal/correct/unaware/R/inh/RRCU + 0.36 × hep/normal/correct/unaware/R2/exh/RRCU + 0.31 × hep/normal/correct/unaware/R2/inh/RRCU\n",
      " G_n= g52)\n",
      "        0 CTF compensation matrices available\n",
      "        nave = 399 - aspect type = 100\n",
      "Projections have already been applied. Setting proj attribute to True.\n",
      "No baseline correction applied\n"
     ]
    }
   ],
   "source": [
    "\n",
    "#define variables\n",
    "modtype='rawerp'\n",
    "erp_type=\"hep\"\n",
    "cond='unaware'\n",
    "dc_type=\"dc\"\n",
    "\n",
    "\n",
    "filepath='ana/MNE/evo_list/maskOFF/correct/cfa/hep/norm/'\n",
    "filename=f\"maskOFF_correct_cfa_hep_norm_RRCA_list-ave.fif\"\n",
    "fp=filepath+filename\n",
    "evo_awa=mne.read_evokeds(fp)\n",
    "\n",
    "filepath='ana/MNE/evo_list/maskOFF/correct/cfa/hep/norm/'\n",
    "filename=f\"maskOFF_correct_cfa_hep_norm_RRCU_list-ave.fif\"\n",
    "fp=filepath+filename\n",
    "evo_unawa=mne.read_evokeds(fp)\n"
   ],
   "metadata": {
    "collapsed": false,
    "ExecuteTime": {
     "end_time": "2025-05-13T09:13:38.825560Z",
     "start_time": "2025-05-13T09:13:31.822615700Z"
    }
   }
  },
  {
   "cell_type": "code",
   "execution_count": 111,
   "outputs": [],
   "source": [
    "evo_awa=[ev.crop(None,0.8) for ev in evo_awa]\n",
    "evo_unawa=[ev.crop(None,0.8) for ev in evo_unawa]"
   ],
   "metadata": {
    "collapsed": false,
    "ExecuteTime": {
     "end_time": "2025-05-09T12:15:42.283014200Z",
     "start_time": "2025-05-09T12:15:42.163136100Z"
    }
   }
  },
  {
   "cell_type": "code",
   "execution_count": 112,
   "outputs": [],
   "source": [
    "regions=dict(dc_post=['A5','A14','A16','A18','A23'],dc_front=['C32','D4'],nodc=['B12','B14','B23','B24'] )"
   ],
   "metadata": {
    "collapsed": false,
    "ExecuteTime": {
     "end_time": "2025-05-09T12:15:43.269626300Z",
     "start_time": "2025-05-09T12:15:43.156106800Z"
    }
   }
  },
  {
   "cell_type": "markdown",
   "source": [
    "if phy_sig=='rsp_phase':\n",
    "    colors=[['olivedrab','darkgreen'],['tab:pink','purple']]\n",
    "elif phy_sig=='cardiac_phase':\n",
    "    colors=[['c','b'],['tab:orange','r']]\n",
    "else:\n",
    "    colors=['k','grey']"
   ],
   "metadata": {
    "collapsed": false
   }
  },
  {
   "cell_type": "code",
   "execution_count": 113,
   "outputs": [
    {
     "name": "stdout",
     "output_type": "stream",
     "text": [
      "['A5', 'A14', 'A16', 'A18', 'A23']\n",
      "combining channels using \"mean\"\n",
      "combining channels using \"mean\"\n",
      "['C32', 'D4']\n",
      "combining channels using \"mean\"\n",
      "combining channels using \"mean\"\n",
      "['B12', 'B14', 'B23', 'B24']\n",
      "combining channels using \"mean\"\n",
      "combining channels using \"mean\"\n"
     ]
    }
   ],
   "source": [
    "\n",
    "\n",
    "evokeds=dict(aware=evo_awa,unaware=evo_unawa)\n",
    "\n",
    "fig,axs=plt.subplots(1,3,figsize=(10,5))\n",
    "n=0\n",
    "for regio, picked in regions.items():\n",
    "    print(picked)\n",
    "\n",
    "    fig_fin=mne.viz.plot_compare_evokeds(evokeds,ci=False, picks=picked,show_sensors=True,legend='upper right',truncate_yaxis=False,axes=axs[n],combine='mean',vlines=[0,0.49,0.52],ylim=dict(eeg=[-1.5,1.5]))\n",
    "    n+=1\n"
   ],
   "metadata": {
    "collapsed": false,
    "ExecuteTime": {
     "end_time": "2025-05-09T12:15:59.055703Z",
     "start_time": "2025-05-09T12:15:58.228744Z"
    }
   }
  },
  {
   "cell_type": "code",
   "execution_count": 114,
   "outputs": [],
   "source": [
    "file_dir=f'ana/deconvolution/figures/waveforms_gavg_{modtype}_{erp_type}_{cond}_{dc_type}.svg'\n",
    "fig.savefig(file_dir,format='svg')"
   ],
   "metadata": {
    "collapsed": false,
    "ExecuteTime": {
     "end_time": "2025-05-09T12:16:18.830507400Z",
     "start_time": "2025-05-09T12:16:18.213310900Z"
    }
   }
  },
  {
   "cell_type": "code",
   "execution_count": null,
   "outputs": [],
   "source": [],
   "metadata": {
    "collapsed": false
   }
  },
  {
   "cell_type": "markdown",
   "source": [
    "## plot awafit awa vs unawa"
   ],
   "metadata": {
    "collapsed": false
   }
  },
  {
   "cell_type": "code",
   "execution_count": 124,
   "outputs": [],
   "source": [
    "\n",
    "#define variables\n",
    "modtype='awafit'\n",
    "erp_type=\"hep\"\n",
    "cond='aware'\n",
    "dc_type=\"nodc\"\n",
    "\n",
    "#load corresponding file\n",
    "\n",
    "\n",
    "file_dir=f'ana/deconvolution/ep_betas/{modtype}/{dc_type}/gavg_{modtype}_{erp_type}_{cond}_{dc_type}.ep'\n",
    "f = open(file_dir)"
   ],
   "metadata": {
    "collapsed": false,
    "ExecuteTime": {
     "end_time": "2025-05-09T12:16:56.309382400Z",
     "start_time": "2025-05-09T12:16:56.168730600Z"
    }
   }
  },
  {
   "cell_type": "code",
   "execution_count": 125,
   "outputs": [
    {
     "data": {
      "text/plain": "(282, 128)"
     },
     "execution_count": 125,
     "metadata": {},
     "output_type": "execute_result"
    }
   ],
   "source": [
    "data_aware=np.loadtxt(file_dir)\n",
    "data.shape"
   ],
   "metadata": {
    "collapsed": false,
    "ExecuteTime": {
     "end_time": "2025-05-09T12:16:56.985885600Z",
     "start_time": "2025-05-09T12:16:56.718666800Z"
    }
   }
  },
  {
   "cell_type": "code",
   "execution_count": 126,
   "outputs": [],
   "source": [
    "\n",
    "#define variables\n",
    "modtype='awafit'\n",
    "\n",
    "cond='unaware'\n",
    "\n",
    "\n",
    "#load corresponding file\n",
    "\n",
    "\n",
    "file_dir=f'ana/deconvolution/ep_betas/{modtype}/{dc_type}/gavg_{modtype}_{erp_type}_{cond}_{dc_type}.ep'\n",
    "f = open(file_dir)"
   ],
   "metadata": {
    "collapsed": false,
    "ExecuteTime": {
     "end_time": "2025-05-09T12:16:58.142486600Z",
     "start_time": "2025-05-09T12:16:58.010352300Z"
    }
   }
  },
  {
   "cell_type": "code",
   "execution_count": 127,
   "outputs": [],
   "source": [
    "data_unaware=np.loadtxt(file_dir)\n"
   ],
   "metadata": {
    "collapsed": false,
    "ExecuteTime": {
     "end_time": "2025-05-09T12:16:58.957879400Z",
     "start_time": "2025-05-09T12:16:58.656893400Z"
    }
   }
  },
  {
   "cell_type": "code",
   "execution_count": 128,
   "outputs": [],
   "source": [
    "def get_evo(data,tmin=-0.3):\n",
    "    biosemi_montage = mne.channels.make_standard_montage('biosemi128')\n",
    "\n",
    "    info = mne.create_info(ch_names=biosemi_montage.ch_names, sfreq=256.,\n",
    "                           ch_types='eeg')\n",
    "    evok=mne.EvokedArray(data,info,tmin=tmin)\n",
    "    evok.set_montage(biosemi_montage)\n",
    "    return evok"
   ],
   "metadata": {
    "collapsed": false,
    "ExecuteTime": {
     "end_time": "2025-05-09T12:16:59.441782500Z",
     "start_time": "2025-05-09T12:16:59.326266700Z"
    }
   }
  },
  {
   "cell_type": "markdown",
   "source": [],
   "metadata": {
    "collapsed": false
   }
  },
  {
   "cell_type": "code",
   "execution_count": 129,
   "outputs": [],
   "source": [
    "evo_awa=get_evo(data_aware.T).crop(-0.2,None)\n",
    "evo_unawa=get_evo(data_unaware.T).crop(-0.2,None)"
   ],
   "metadata": {
    "collapsed": false,
    "ExecuteTime": {
     "end_time": "2025-05-09T12:17:00.488931900Z",
     "start_time": "2025-05-09T12:17:00.367537600Z"
    }
   }
  },
  {
   "cell_type": "code",
   "execution_count": 130,
   "outputs": [],
   "source": [
    "regions=dict(dc_post=['A5','A14','A16','A18','A23'],dc_front=['C32','D4'],nodc=['B12','B14','B23','B24'] )"
   ],
   "metadata": {
    "collapsed": false,
    "ExecuteTime": {
     "end_time": "2025-05-09T12:17:01.021081600Z",
     "start_time": "2025-05-09T12:17:00.910690700Z"
    }
   }
  },
  {
   "cell_type": "markdown",
   "source": [
    "regions=dict(nodc_post=['A13','A14','A16','A15','A23'],dc_front=['C32','D4'],nodc=['B12','B14','B23','B24'] )"
   ],
   "metadata": {
    "collapsed": false
   }
  },
  {
   "cell_type": "markdown",
   "source": [
    "if phy_sig=='rsp_phase':\n",
    "    colors=[['olivedrab','darkgreen'],['tab:pink','purple']]\n",
    "elif phy_sig=='cardiac_phase':\n",
    "    colors=[['c','b'],['tab:orange','r']]\n",
    "else:\n",
    "    colors=['k','grey']"
   ],
   "metadata": {
    "collapsed": false
   }
  },
  {
   "cell_type": "code",
   "execution_count": 131,
   "outputs": [
    {
     "name": "stdout",
     "output_type": "stream",
     "text": [
      "['A5', 'A14', 'A16', 'A18', 'A23']\n",
      "combining channels using \"mean\"\n",
      "combining channels using \"mean\"\n",
      "['C32', 'D4']\n",
      "combining channels using \"mean\"\n",
      "combining channels using \"mean\"\n",
      "['B12', 'B14', 'B23', 'B24']\n",
      "combining channels using \"mean\"\n",
      "combining channels using \"mean\"\n"
     ]
    }
   ],
   "source": [
    "\n",
    "\n",
    "evokeds=dict(aware=evo_awa,unaware=evo_unawa)\n",
    "\n",
    "fig,axs=plt.subplots(1,3,figsize=(10,5))\n",
    "n=0\n",
    "for regio, picked in regions.items():\n",
    "    print(picked)\n",
    "\n",
    "    fig_fin=mne.viz.plot_compare_evokeds(evokeds,ci=False, picks=picked,show_sensors=True,legend='upper right',truncate_yaxis=False,axes=axs[n],combine='mean',vlines=[0,0.49,0.52],ylim=dict(eeg=[-1.5*1e6,1.5*1e6]))\n",
    "    n+=1\n"
   ],
   "metadata": {
    "collapsed": false,
    "ExecuteTime": {
     "end_time": "2025-05-09T12:17:04.249856900Z",
     "start_time": "2025-05-09T12:17:03.814370600Z"
    }
   }
  },
  {
   "cell_type": "code",
   "execution_count": 132,
   "outputs": [],
   "source": [
    "file_dir=f'ana/deconvolution/figures/waveforms_gavg_{modtype}_{erp_type}_{cond}_{dc_type}.svg'\n",
    "fig.savefig(file_dir,format='svg')"
   ],
   "metadata": {
    "collapsed": false,
    "ExecuteTime": {
     "end_time": "2025-05-09T12:17:10.617380800Z",
     "start_time": "2025-05-09T12:17:10.096405Z"
    }
   }
  },
  {
   "cell_type": "code",
   "execution_count": null,
   "outputs": [],
   "source": [],
   "metadata": {
    "collapsed": false
   }
  },
  {
   "cell_type": "markdown",
   "source": [
    "## plot cardfit sys vs dia"
   ],
   "metadata": {
    "collapsed": false
   }
  },
  {
   "cell_type": "code",
   "execution_count": 70,
   "outputs": [],
   "source": [
    "\n",
    "#define variables\n",
    "modtype='cardfit'\n",
    "erp_type=\"hep\"\n",
    "cond='dia'\n",
    "dc_type=\"nodc\"\n",
    "\n",
    "#load corresponding file\n",
    "\n",
    "\n",
    "file_dir=f'ana/deconvolution/ep_betas/{modtype}/{dc_type}/gavg_{modtype}_{erp_type}_{cond}_{dc_type}.ep'\n",
    "f = open(file_dir)"
   ],
   "metadata": {
    "collapsed": false,
    "ExecuteTime": {
     "end_time": "2025-05-15T10:37:52.794153100Z",
     "start_time": "2025-05-15T10:37:52.638830100Z"
    }
   }
  },
  {
   "cell_type": "code",
   "execution_count": 71,
   "outputs": [
    {
     "data": {
      "text/plain": "(282, 128)"
     },
     "execution_count": 71,
     "metadata": {},
     "output_type": "execute_result"
    }
   ],
   "source": [
    "data_sys=np.loadtxt(file_dir)\n",
    "data.shape"
   ],
   "metadata": {
    "collapsed": false,
    "ExecuteTime": {
     "end_time": "2025-05-15T10:37:53.643583400Z",
     "start_time": "2025-05-15T10:37:53.381041500Z"
    }
   }
  },
  {
   "cell_type": "code",
   "execution_count": 72,
   "outputs": [],
   "source": [
    "\n",
    "#define variables\n",
    "\n",
    "dc_type=\"dc\"\n",
    "cond='dia'\n",
    "\n",
    "\n",
    "#load corresponding file\n",
    "\n",
    "\n",
    "file_dir=f'ana/deconvolution/ep_betas/{modtype}/{dc_type}/gavg_{modtype}_{erp_type}_{cond}_{dc_type}.ep'\n",
    "f = open(file_dir)"
   ],
   "metadata": {
    "collapsed": false,
    "ExecuteTime": {
     "end_time": "2025-05-15T10:37:54.163293400Z",
     "start_time": "2025-05-15T10:37:54.009334400Z"
    }
   }
  },
  {
   "cell_type": "code",
   "execution_count": 73,
   "outputs": [],
   "source": [
    "data_dia=np.loadtxt(file_dir)\n"
   ],
   "metadata": {
    "collapsed": false,
    "ExecuteTime": {
     "end_time": "2025-05-15T10:37:56.250539800Z",
     "start_time": "2025-05-15T10:37:56.007772700Z"
    }
   }
  },
  {
   "cell_type": "code",
   "execution_count": 74,
   "outputs": [],
   "source": [
    "def get_evo(data,tmin=-0.3):\n",
    "    biosemi_montage = mne.channels.make_standard_montage('biosemi128')\n",
    "\n",
    "    info = mne.create_info(ch_names=biosemi_montage.ch_names, sfreq=256.,\n",
    "                           ch_types='eeg')\n",
    "    evok=mne.EvokedArray(data,info,tmin=tmin)\n",
    "    evok.set_montage(biosemi_montage)\n",
    "    return evok"
   ],
   "metadata": {
    "collapsed": false,
    "ExecuteTime": {
     "end_time": "2025-05-15T10:37:57.704895300Z",
     "start_time": "2025-05-15T10:37:57.575757700Z"
    }
   }
  },
  {
   "cell_type": "markdown",
   "source": [],
   "metadata": {
    "collapsed": false
   }
  },
  {
   "cell_type": "code",
   "execution_count": 75,
   "outputs": [],
   "source": [
    "evo_sys=get_evo(data_sys.T).crop(-0.2,None)\n",
    "evo_dia=get_evo(data_dia.T).crop(-0.2,None)"
   ],
   "metadata": {
    "collapsed": false,
    "ExecuteTime": {
     "end_time": "2025-05-15T10:37:58.681941500Z",
     "start_time": "2025-05-15T10:37:58.554814300Z"
    }
   }
  },
  {
   "cell_type": "code",
   "execution_count": 76,
   "outputs": [],
   "source": [
    "regions=dict(dc_post=['A5','A14','A16','A18','A23'],dc_front=['C32','D4'],nodc=['B12','B14','B23','B24'] )"
   ],
   "metadata": {
    "collapsed": false,
    "ExecuteTime": {
     "end_time": "2025-05-15T10:37:59.189762100Z",
     "start_time": "2025-05-15T10:37:59.066980800Z"
    }
   }
  },
  {
   "cell_type": "markdown",
   "source": [
    "regions=dict(nodc_post=['A13','A14','A16','A15','A23'],dc_front=['C32','D4'],nodc=['B12','B14','B23','B24'] )"
   ],
   "metadata": {
    "collapsed": false
   }
  },
  {
   "cell_type": "markdown",
   "source": [
    "if phy_sig=='rsp_phase':\n",
    "    colors=[['olivedrab','darkgreen'],['tab:pink','purple']]\n",
    "elif phy_sig=='cardiac_phase':\n",
    "    colors=[['c','b'],['tab:orange','r']]\n",
    "else:\n",
    "    colors=['k','grey']"
   ],
   "metadata": {
    "collapsed": false
   }
  },
  {
   "cell_type": "code",
   "execution_count": 77,
   "outputs": [
    {
     "name": "stdout",
     "output_type": "stream",
     "text": [
      "['A5', 'A14', 'A16', 'A18', 'A23']\n",
      "combining channels using \"mean\"\n",
      "combining channels using \"mean\"\n",
      "['C32', 'D4']\n",
      "combining channels using \"mean\"\n",
      "combining channels using \"mean\"\n",
      "['B12', 'B14', 'B23', 'B24']\n",
      "combining channels using \"mean\"\n",
      "combining channels using \"mean\"\n"
     ]
    }
   ],
   "source": [
    "%matplotlib qt\n",
    "\n",
    "evokeds=dict(sys_nodc=evo_sys,sys_dc=evo_dia)\n",
    "\n",
    "fig,axs=plt.subplots(1,3,figsize=(10,5))\n",
    "n=0\n",
    "for regio, picked in regions.items():\n",
    "    print(picked)\n",
    "\n",
    "    fig_fin=mne.viz.plot_compare_evokeds(evokeds,ci=False, picks=picked,show_sensors=True,legend='upper right',truncate_yaxis=False,axes=axs[n],combine='mean',vlines=[0,0.49,0.52],ylim=dict(eeg=[-1.5*1e6,1.5*1e6]))\n",
    "    n+=1\n"
   ],
   "metadata": {
    "collapsed": false,
    "ExecuteTime": {
     "end_time": "2025-05-15T10:38:07.630750400Z",
     "start_time": "2025-05-15T10:38:07.024831900Z"
    }
   }
  },
  {
   "cell_type": "code",
   "execution_count": 57,
   "outputs": [],
   "source": [
    "file_dir=f'ana/deconvolution/figures/waveforms_gavg_{modtype}_{erp_type}_{cond}_{dc_type}.svg'\n",
    "fig.savefig(file_dir,format='svg')"
   ],
   "metadata": {
    "collapsed": false
   }
  },
  {
   "cell_type": "code",
   "execution_count": 60,
   "outputs": [
    {
     "name": "stdout",
     "output_type": "stream",
     "text": [
      "combining channels using \"mean\"\n",
      "combining channels using \"mean\"\n"
     ]
    },
    {
     "name": "stderr",
     "output_type": "stream",
     "text": [
      "C:\\Users\\Vivi\\AppData\\Local\\Temp\\ipykernel_9664\\3836928677.py:1: RuntimeWarning: Only 1 channel in \"picks\"; cannot combine by method \"mean\".\n",
      "  fig_fin=mne.viz.plot_compare_evokeds(evokeds,ci=False, picks=['A27'],show_sensors=True,legend='upper right',truncate_yaxis=False,combine='mean',vlines=[0,0.49,0.52])\n"
     ]
    }
   ],
   "source": [
    "fig_fin=mne.viz.plot_compare_evokeds(evokeds,ci=False, picks=['A27'],show_sensors=True,legend='upper right',truncate_yaxis=False,combine='mean',vlines=[0,0.49,0.52])\n"
   ],
   "metadata": {
    "collapsed": false,
    "ExecuteTime": {
     "end_time": "2025-05-15T07:36:17.525143100Z",
     "start_time": "2025-05-15T07:36:17.224840500Z"
    }
   }
  },
  {
   "cell_type": "code",
   "execution_count": 61,
   "outputs": [],
   "source": [
    "file_dir=f'ana/deconvolution/figures/waveforms_gavg_{modtype}_{erp_type}_{cond}_dcnodc_oz.svg'\n",
    "fig.savefig(file_dir,format='svg')"
   ],
   "metadata": {
    "collapsed": false,
    "ExecuteTime": {
     "end_time": "2025-05-15T07:36:30.814063800Z",
     "start_time": "2025-05-15T07:36:30.299131800Z"
    }
   }
  },
  {
   "cell_type": "markdown",
   "source": [
    "## Plot others"
   ],
   "metadata": {
    "collapsed": false
   }
  },
  {
   "cell_type": "code",
   "execution_count": 218,
   "outputs": [],
   "source": [
    "\n",
    "#define variables\n",
    "modtype='modfit_card'\n",
    "erp_type=\"hep\"\n",
    "cond='card_phase_sys'\n",
    "dc_type=\"nodc\"\n",
    "\n",
    "#load corresponding file\n",
    "\n",
    "\n",
    "file_dir=f'ana/deconvolution/ep_betas/{modtype}/{dc_type}/gavg_{modtype}_{erp_type}_{cond}_{dc_type}.ep'\n",
    "f = open(file_dir)"
   ],
   "metadata": {
    "collapsed": false,
    "ExecuteTime": {
     "end_time": "2025-05-13T09:14:02.911989100Z",
     "start_time": "2025-05-13T09:14:02.689195Z"
    }
   }
  },
  {
   "cell_type": "code",
   "execution_count": 219,
   "outputs": [
    {
     "data": {
      "text/plain": "(282, 128)"
     },
     "execution_count": 219,
     "metadata": {},
     "output_type": "execute_result"
    }
   ],
   "source": [
    "data_1=np.loadtxt(file_dir)\n",
    "data.shape"
   ],
   "metadata": {
    "collapsed": false,
    "ExecuteTime": {
     "end_time": "2025-05-13T09:14:03.994212Z",
     "start_time": "2025-05-13T09:14:03.418654900Z"
    }
   }
  },
  {
   "cell_type": "code",
   "execution_count": 220,
   "outputs": [],
   "source": [
    "\n",
    "#define variables\n",
    "#modtype='modfit_card'\n",
    "\n",
    "dc_type=\"dc\"\n",
    "\n",
    "\n",
    "#load corresponding file\n",
    "\n",
    "\n",
    "file_dir=f'ana/deconvolution/ep_betas/{modtype}/{dc_type}/gavg_{modtype}_{erp_type}_{cond}_{dc_type}.ep'\n",
    "f = open(file_dir)"
   ],
   "metadata": {
    "collapsed": false,
    "ExecuteTime": {
     "end_time": "2025-05-13T09:14:05.117498700Z",
     "start_time": "2025-05-13T09:14:04.932929300Z"
    }
   }
  },
  {
   "cell_type": "code",
   "execution_count": 221,
   "outputs": [],
   "source": [
    "data_2=np.loadtxt(file_dir)\n"
   ],
   "metadata": {
    "collapsed": false,
    "ExecuteTime": {
     "end_time": "2025-05-13T09:14:06.416990Z",
     "start_time": "2025-05-13T09:14:05.837749100Z"
    }
   }
  },
  {
   "cell_type": "code",
   "execution_count": 222,
   "outputs": [],
   "source": [
    "def get_evo(data,tmin=-0.3):\n",
    "    biosemi_montage = mne.channels.make_standard_montage('biosemi128')\n",
    "\n",
    "    info = mne.create_info(ch_names=biosemi_montage.ch_names, sfreq=256.,\n",
    "                           ch_types='eeg')\n",
    "    evok=mne.EvokedArray(data,info,tmin=tmin)\n",
    "    evok.set_montage(biosemi_montage)\n",
    "    return evok"
   ],
   "metadata": {
    "collapsed": false,
    "ExecuteTime": {
     "end_time": "2025-05-13T09:14:07.292179200Z",
     "start_time": "2025-05-13T09:14:07.190583200Z"
    }
   }
  },
  {
   "cell_type": "markdown",
   "source": [],
   "metadata": {
    "collapsed": false
   }
  },
  {
   "cell_type": "code",
   "execution_count": 223,
   "outputs": [],
   "source": [
    "evo_1=get_evo(data_1.T).crop(-0.2,None)\n",
    "evo_2=get_evo(data_2.T).crop(-0.2,None)"
   ],
   "metadata": {
    "collapsed": false,
    "ExecuteTime": {
     "end_time": "2025-05-13T09:14:08.356814600Z",
     "start_time": "2025-05-13T09:14:08.232355100Z"
    }
   }
  },
  {
   "cell_type": "code",
   "execution_count": 224,
   "outputs": [],
   "source": [
    "regions=dict(dc_post=['A5','A14','A16','A18','A23'],dc_front=['C32','D4'],nodc=['B12','B14','B23','B24'] )"
   ],
   "metadata": {
    "collapsed": false,
    "ExecuteTime": {
     "end_time": "2025-05-13T09:14:09.278539500Z",
     "start_time": "2025-05-13T09:14:09.166663700Z"
    }
   }
  },
  {
   "cell_type": "markdown",
   "source": [
    "regions=dict(nodc_post=['A13','A14','A16','A15','A23'],dc_front=['C32','D4'],nodc=['B12','B14','B23','B24'] )"
   ],
   "metadata": {
    "collapsed": false
   }
  },
  {
   "cell_type": "markdown",
   "source": [
    "if phy_sig=='rsp_phase':\n",
    "    colors=[['olivedrab','darkgreen'],['tab:pink','purple']]\n",
    "elif phy_sig=='cardiac_phase':\n",
    "    colors=[['c','b'],['tab:orange','r']]\n",
    "else:\n",
    "    colors=['k','grey']"
   ],
   "metadata": {
    "collapsed": false
   }
  },
  {
   "cell_type": "code",
   "execution_count": 227,
   "outputs": [
    {
     "name": "stdout",
     "output_type": "stream",
     "text": [
      "['A5', 'A14', 'A16', 'A18', 'A23']\n",
      "combining channels using \"mean\"\n",
      "combining channels using \"mean\"\n",
      "['C32', 'D4']\n",
      "combining channels using \"mean\"\n",
      "combining channels using \"mean\"\n",
      "['B12', 'B14', 'B23', 'B24']\n",
      "combining channels using \"mean\"\n",
      "combining channels using \"mean\"\n"
     ]
    }
   ],
   "source": [
    "\n",
    "\n",
    "evokeds=dict(nodc=evo_1,dc=evo_2)\n",
    "\n",
    "fig,axs=plt.subplots(1,3,figsize=(10,5))\n",
    "n=0\n",
    "for regio, picked in regions.items():\n",
    "    print(picked)\n",
    "\n",
    "    fig_fin=mne.viz.plot_compare_evokeds(evokeds,ci=False, picks=picked,show_sensors=True,legend='upper right',truncate_yaxis=False,axes=axs[n],combine='mean',vlines=[0,0.49,0.52],ylim=dict(eeg=[-1.5*1e6,1.5*1e6]))\n",
    "    n+=1\n"
   ],
   "metadata": {
    "collapsed": false,
    "ExecuteTime": {
     "end_time": "2025-05-13T09:25:32.329796300Z",
     "start_time": "2025-05-13T09:25:31.896555300Z"
    }
   }
  },
  {
   "cell_type": "code",
   "execution_count": 228,
   "outputs": [],
   "source": [
    "file_dir=f'ana/deconvolution/figures/waveforms_gavg_{modtype}_{erp_type}_{cond}_nodcdc.svg'\n",
    "fig.savefig(file_dir,format='svg')"
   ],
   "metadata": {
    "collapsed": false,
    "ExecuteTime": {
     "end_time": "2025-05-13T09:25:49.677527Z",
     "start_time": "2025-05-13T09:25:48.899895300Z"
    }
   }
  },
  {
   "cell_type": "markdown",
   "source": [
    "# Load erps and export to ep to then perform BF on R"
   ],
   "metadata": {
    "collapsed": false
   }
  },
  {
   "cell_type": "code",
   "execution_count": 33,
   "outputs": [
    {
     "name": "stdout",
     "output_type": "stream",
     "text": [
      "Reading ana/MNE/evo_list/maskOFF/correct/cfa/hep/norm/maskOFF_correct_cfa_hep_norm_RRCU_list-ave.fif ...\n",
      "    Read a total of 1 projection items:\n",
      "        Average EEG reference (1 x 128) active\n",
      "    Found the data of interest:\n",
      "        t =    -199.22 ...    1000.00 ms (0.13 × hep/normal/correct/unaware/R/exh/RRCU + 0.12 × hep/normal/correct/unaware/R/inh/RRCU + 0.46 × hep/normal/correct/unaware/R2/exh/RRCU + 0.30 × hep/normal/correct/unaware/R2/inh/RRCU\n",
      " G_n= g01)\n",
      "        0 CTF compensation matrices available\n",
      "        nave = 298 - aspect type = 100\n",
      "Projections have already been applied. Setting proj attribute to True.\n",
      "No baseline correction applied\n",
      "    Read a total of 1 projection items:\n",
      "        Average EEG reference (1 x 128) active\n",
      "    Found the data of interest:\n",
      "        t =    -199.22 ...    1000.00 ms (0.18 × hep/normal/correct/unaware/R/exh/RRCU + 0.11 × hep/normal/correct/unaware/R/inh/RRCU + 0.45 × hep/normal/correct/unaware/R2/exh/RRCU + 0.25 × hep/normal/correct/unaware/R2/inh/RRCU\n",
      " G_n= g03)\n",
      "        0 CTF compensation matrices available\n",
      "        nave = 212 - aspect type = 100\n",
      "Projections have already been applied. Setting proj attribute to True.\n",
      "No baseline correction applied\n",
      "    Read a total of 1 projection items:\n",
      "        Average EEG reference (1 x 128) active\n",
      "    Found the data of interest:\n",
      "        t =    -199.22 ...    1000.00 ms (0.22 × hep/normal/correct/unaware/R/exh/RRCU + 0.12 × hep/normal/correct/unaware/R/inh/RRCU + 0.32 × hep/normal/correct/unaware/R2/exh/RRCU + 0.35 × hep/normal/correct/unaware/R2/inh/RRCU\n",
      " G_n= g08)\n",
      "        0 CTF compensation matrices available\n",
      "        nave = 158 - aspect type = 100\n",
      "Projections have already been applied. Setting proj attribute to True.\n",
      "No baseline correction applied\n",
      "    Read a total of 1 projection items:\n",
      "        Average EEG reference (1 x 128) active\n",
      "    Found the data of interest:\n",
      "        t =    -199.22 ...    1000.00 ms (0.11 × hep/normal/correct/unaware/R/exh/RRCU + 0.11 × hep/normal/correct/unaware/R/inh/RRCU + 0.47 × hep/normal/correct/unaware/R2/exh/RRCU + 0.32 × hep/normal/correct/unaware/R2/inh/RRCU\n",
      " G_n= g10)\n",
      "        0 CTF compensation matrices available\n",
      "        nave = 187 - aspect type = 100\n",
      "Projections have already been applied. Setting proj attribute to True.\n",
      "No baseline correction applied\n",
      "    Read a total of 1 projection items:\n",
      "        Average EEG reference (1 x 128) active\n",
      "    Found the data of interest:\n",
      "        t =    -199.22 ...    1000.00 ms (0.17 × hep/normal/correct/unaware/R/exh/RRCU + 0.12 × hep/normal/correct/unaware/R/inh/RRCU + 0.43 × hep/normal/correct/unaware/R2/exh/RRCU + 0.27 × hep/normal/correct/unaware/R2/inh/RRCU\n",
      " G_n= g11)\n",
      "        0 CTF compensation matrices available\n",
      "        nave = 322 - aspect type = 100\n",
      "Projections have already been applied. Setting proj attribute to True.\n",
      "No baseline correction applied\n",
      "    Read a total of 1 projection items:\n",
      "        Average EEG reference (1 x 128) active\n",
      "    Found the data of interest:\n",
      "        t =    -199.22 ...    1000.00 ms (0.13 × hep/normal/correct/unaware/R/exh/RRCU + 0.16 × hep/normal/correct/unaware/R/inh/RRCU + 0.34 × hep/normal/correct/unaware/R2/exh/RRCU + 0.37 × hep/normal/correct/unaware/R2/inh/RRCU\n",
      " G_n= g12)\n",
      "        0 CTF compensation matrices available\n",
      "        nave = 153 - aspect type = 100\n",
      "Projections have already been applied. Setting proj attribute to True.\n",
      "No baseline correction applied\n",
      "    Read a total of 1 projection items:\n",
      "        Average EEG reference (1 x 128) active\n",
      "    Found the data of interest:\n",
      "        t =    -199.22 ...    1000.00 ms (0.17 × hep/normal/correct/unaware/R/exh/RRCU + 0.12 × hep/normal/correct/unaware/R/inh/RRCU + 0.42 × hep/normal/correct/unaware/R2/exh/RRCU + 0.29 × hep/normal/correct/unaware/R2/inh/RRCU + 0.00 × hep/normal/correct/unaware/RR/exh/RRCU\n",
      " G_n= g15)\n",
      "        0 CTF compensation matrices available\n",
      "        nave = 330 - aspect type = 100\n",
      "Projections have already been applied. Setting proj attribute to True.\n",
      "No baseline correction applied\n",
      "    Read a total of 1 projection items:\n",
      "        Average EEG reference (1 x 128) active\n",
      "    Found the data of interest:\n",
      "        t =    -199.22 ...    1000.00 ms (0.17 × hep/normal/correct/unaware/R/exh/RRCU + 0.15 × hep/normal/correct/unaware/R/inh/RRCU + 0.37 × hep/normal/correct/unaware/R2/exh/RRCU + 0.30 × hep/normal/correct/unaware/R2/inh/RRCU\n",
      " G_n= g16)\n",
      "        0 CTF compensation matrices available\n",
      "        nave = 297 - aspect type = 100\n",
      "Projections have already been applied. Setting proj attribute to True.\n",
      "No baseline correction applied\n",
      "    Read a total of 1 projection items:\n",
      "        Average EEG reference (1 x 128) active\n",
      "    Found the data of interest:\n",
      "        t =    -199.22 ...    1000.00 ms (0.11 × hep/normal/correct/unaware/R/exh/RRCU + 0.15 × hep/normal/correct/unaware/R/inh/RRCU + 0.34 × hep/normal/correct/unaware/R2/exh/RRCU + 0.39 × hep/normal/correct/unaware/R2/inh/RRCU\n",
      " G_n= g17)\n",
      "        0 CTF compensation matrices available\n",
      "        nave = 445 - aspect type = 100\n",
      "Projections have already been applied. Setting proj attribute to True.\n",
      "No baseline correction applied\n",
      "    Read a total of 1 projection items:\n",
      "        Average EEG reference (1 x 128) active\n",
      "    Found the data of interest:\n",
      "        t =    -199.22 ...    1000.00 ms (0.19 × hep/normal/correct/unaware/R/exh/RRCU + 0.14 × hep/normal/correct/unaware/R/inh/RRCU + 0.41 × hep/normal/correct/unaware/R2/exh/RRCU + 0.27 × hep/normal/correct/unaware/R2/inh/RRCU\n",
      " G_n= g19)\n",
      "        0 CTF compensation matrices available\n",
      "        nave = 236 - aspect type = 100\n",
      "Projections have already been applied. Setting proj attribute to True.\n",
      "No baseline correction applied\n",
      "    Read a total of 1 projection items:\n",
      "        Average EEG reference (1 x 128) active\n",
      "    Found the data of interest:\n",
      "        t =    -199.22 ...    1000.00 ms (0.11 × hep/normal/correct/unaware/R/exh/RRCU + 0.16 × hep/normal/correct/unaware/R/inh/RRCU + 0.36 × hep/normal/correct/unaware/R2/exh/RRCU + 0.37 × hep/normal/correct/unaware/R2/inh/RRCU\n",
      " G_n= g23)\n",
      "        0 CTF compensation matrices available\n",
      "        nave = 223 - aspect type = 100\n",
      "Projections have already been applied. Setting proj attribute to True.\n",
      "No baseline correction applied\n",
      "    Read a total of 1 projection items:\n",
      "        Average EEG reference (1 x 128) active\n",
      "    Found the data of interest:\n",
      "        t =    -199.22 ...    1000.00 ms (0.17 × hep/normal/correct/unaware/R/exh/RRCU + 0.09 × hep/normal/correct/unaware/R/inh/RRCU + 0.42 × hep/normal/correct/unaware/R2/exh/RRCU + 0.32 × hep/normal/correct/unaware/R2/inh/RRCU\n",
      " G_n= g24)\n",
      "        0 CTF compensation matrices available\n",
      "        nave = 338 - aspect type = 100\n",
      "Projections have already been applied. Setting proj attribute to True.\n",
      "No baseline correction applied\n",
      "    Read a total of 1 projection items:\n",
      "        Average EEG reference (1 x 128) active\n",
      "    Found the data of interest:\n",
      "        t =    -199.22 ...    1000.00 ms (0.16 × hep/normal/correct/unaware/R/exh/RRCU + 0.16 × hep/normal/correct/unaware/R/inh/RRCU + 0.39 × hep/normal/correct/unaware/R2/exh/RRCU + 0.30 × hep/normal/correct/unaware/R2/inh/RRCU\n",
      " G_n= g25)\n",
      "        0 CTF compensation matrices available\n",
      "        nave = 245 - aspect type = 100\n",
      "Projections have already been applied. Setting proj attribute to True.\n",
      "No baseline correction applied\n",
      "    Read a total of 1 projection items:\n",
      "        Average EEG reference (1 x 128) active\n",
      "    Found the data of interest:\n",
      "        t =    -199.22 ...    1000.00 ms (0.19 × hep/normal/correct/unaware/R/exh/RRCU + 0.10 × hep/normal/correct/unaware/R/inh/RRCU + 0.43 × hep/normal/correct/unaware/R2/exh/RRCU + 0.27 × hep/normal/correct/unaware/R2/inh/RRCU\n",
      " G_n= g28)\n",
      "        0 CTF compensation matrices available\n",
      "        nave = 381 - aspect type = 100\n",
      "Projections have already been applied. Setting proj attribute to True.\n",
      "No baseline correction applied\n",
      "    Read a total of 1 projection items:\n",
      "        Average EEG reference (1 x 128) active\n",
      "    Found the data of interest:\n",
      "        t =    -199.22 ...    1000.00 ms (0.15 × hep/normal/correct/unaware/R/exh/RRCU + 0.13 × hep/normal/correct/unaware/R/inh/RRCU + 0.50 × hep/normal/correct/unaware/R2/exh/RRCU + 0.22 × hep/normal/correct/unaware/R2/inh/RRCU\n",
      " G_n= g32)\n",
      "        0 CTF compensation matrices available\n",
      "        nave = 298 - aspect type = 100\n",
      "Projections have already been applied. Setting proj attribute to True.\n",
      "No baseline correction applied\n",
      "    Read a total of 1 projection items:\n",
      "        Average EEG reference (1 x 128) active\n",
      "    Found the data of interest:\n",
      "        t =    -199.22 ...    1000.00 ms (0.22 × hep/normal/correct/unaware/R/exh/RRCU + 0.12 × hep/normal/correct/unaware/R/inh/RRCU + 0.47 × hep/normal/correct/unaware/R2/exh/RRCU + 0.20 × hep/normal/correct/unaware/R2/inh/RRCU\n",
      " G_n= g33)\n",
      "        0 CTF compensation matrices available\n",
      "        nave = 376 - aspect type = 100\n",
      "Projections have already been applied. Setting proj attribute to True.\n",
      "No baseline correction applied\n",
      "    Read a total of 1 projection items:\n",
      "        Average EEG reference (1 x 128) active\n",
      "    Found the data of interest:\n",
      "        t =    -199.22 ...    1000.00 ms (0.17 × hep/normal/correct/unaware/R/exh/RRCU + 0.16 × hep/normal/correct/unaware/R/inh/RRCU + 0.36 × hep/normal/correct/unaware/R2/exh/RRCU + 0.31 × hep/normal/correct/unaware/R2/inh/RRCU\n",
      " G_n= g34)\n",
      "        0 CTF compensation matrices available\n",
      "        nave = 218 - aspect type = 100\n",
      "Projections have already been applied. Setting proj attribute to True.\n",
      "No baseline correction applied\n",
      "    Read a total of 1 projection items:\n",
      "        Average EEG reference (1 x 128) active\n",
      "    Found the data of interest:\n",
      "        t =    -199.22 ...    1000.00 ms (0.11 × hep/normal/correct/unaware/R/exh/RRCU + 0.24 × hep/normal/correct/unaware/R/inh/RRCU + 0.21 × hep/normal/correct/unaware/R2/exh/RRCU + 0.43 × hep/normal/correct/unaware/R2/inh/RRCU\n",
      " G_n= g37)\n",
      "        0 CTF compensation matrices available\n",
      "        nave = 316 - aspect type = 100\n",
      "Projections have already been applied. Setting proj attribute to True.\n",
      "No baseline correction applied\n",
      "    Read a total of 1 projection items:\n",
      "        Average EEG reference (1 x 128) active\n",
      "    Found the data of interest:\n",
      "        t =    -199.22 ...    1000.00 ms (0.19 × hep/normal/correct/unaware/R/exh/RRCU + 0.12 × hep/normal/correct/unaware/R/inh/RRCU + 0.43 × hep/normal/correct/unaware/R2/exh/RRCU + 0.25 × hep/normal/correct/unaware/R2/inh/RRCU\n",
      " G_n= g38)\n",
      "        0 CTF compensation matrices available\n",
      "        nave = 385 - aspect type = 100\n",
      "Projections have already been applied. Setting proj attribute to True.\n",
      "No baseline correction applied\n",
      "    Read a total of 1 projection items:\n",
      "        Average EEG reference (1 x 128) active\n",
      "    Found the data of interest:\n",
      "        t =    -199.22 ...    1000.00 ms (0.25 × hep/normal/correct/unaware/R/exh/RRCU + 0.10 × hep/normal/correct/unaware/R/inh/RRCU + 0.41 × hep/normal/correct/unaware/R2/exh/RRCU + 0.23 × hep/normal/correct/unaware/R2/inh/RRCU\n",
      " G_n= g39)\n",
      "        0 CTF compensation matrices available\n",
      "        nave = 448 - aspect type = 100\n",
      "Projections have already been applied. Setting proj attribute to True.\n",
      "No baseline correction applied\n",
      "    Read a total of 1 projection items:\n",
      "        Average EEG reference (1 x 128) active\n",
      "    Found the data of interest:\n",
      "        t =    -199.22 ...    1000.00 ms (0.12 × hep/normal/correct/unaware/R/exh/RRCU + 0.10 × hep/normal/correct/unaware/R/inh/RRCU + 0.53 × hep/normal/correct/unaware/R2/exh/RRCU + 0.25 × hep/normal/correct/unaware/R2/inh/RRCU\n",
      " G_n= g40)\n",
      "        0 CTF compensation matrices available\n",
      "        nave = 363 - aspect type = 100\n",
      "Projections have already been applied. Setting proj attribute to True.\n",
      "No baseline correction applied\n",
      "    Read a total of 1 projection items:\n",
      "        Average EEG reference (1 x 128) active\n",
      "    Found the data of interest:\n",
      "        t =    -199.22 ...    1000.00 ms (0.12 × hep/normal/correct/unaware/R/exh/RRCU + 0.11 × hep/normal/correct/unaware/R/inh/RRCU + 0.47 × hep/normal/correct/unaware/R2/exh/RRCU + 0.30 × hep/normal/correct/unaware/R2/inh/RRCU\n",
      " G_n= g41)\n",
      "        0 CTF compensation matrices available\n",
      "        nave = 469 - aspect type = 100\n",
      "Projections have already been applied. Setting proj attribute to True.\n",
      "No baseline correction applied\n",
      "    Read a total of 1 projection items:\n",
      "        Average EEG reference (1 x 128) active\n",
      "    Found the data of interest:\n",
      "        t =    -199.22 ...    1000.00 ms (0.15 × hep/normal/correct/unaware/R/exh/RRCU + 0.15 × hep/normal/correct/unaware/R/inh/RRCU + 0.40 × hep/normal/correct/unaware/R2/exh/RRCU + 0.30 × hep/normal/correct/unaware/R2/inh/RRCU\n",
      " G_n= g42)\n",
      "        0 CTF compensation matrices available\n",
      "        nave = 402 - aspect type = 100\n",
      "Projections have already been applied. Setting proj attribute to True.\n",
      "No baseline correction applied\n",
      "    Read a total of 1 projection items:\n",
      "        Average EEG reference (1 x 128) active\n",
      "    Found the data of interest:\n",
      "        t =    -199.22 ...    1000.00 ms (0.15 × hep/normal/correct/unaware/R/exh/RRCU + 0.14 × hep/normal/correct/unaware/R/inh/RRCU + 0.43 × hep/normal/correct/unaware/R2/exh/RRCU + 0.29 × hep/normal/correct/unaware/R2/inh/RRCU\n",
      " G_n= g44)\n",
      "        0 CTF compensation matrices available\n",
      "        nave = 487 - aspect type = 100\n",
      "Projections have already been applied. Setting proj attribute to True.\n",
      "No baseline correction applied\n",
      "    Read a total of 1 projection items:\n",
      "        Average EEG reference (1 x 128) active\n",
      "    Found the data of interest:\n",
      "        t =    -199.22 ...    1000.00 ms (0.19 × hep/normal/correct/unaware/R/exh/RRCU + 0.11 × hep/normal/correct/unaware/R/inh/RRCU + 0.44 × hep/normal/correct/unaware/R2/exh/RRCU + 0.27 × hep/normal/correct/unaware/R2/inh/RRCU\n",
      " G_n= g45)\n",
      "        0 CTF compensation matrices available\n",
      "        nave = 275 - aspect type = 100\n",
      "Projections have already been applied. Setting proj attribute to True.\n",
      "No baseline correction applied\n",
      "    Read a total of 1 projection items:\n",
      "        Average EEG reference (1 x 128) active\n",
      "    Found the data of interest:\n",
      "        t =    -199.22 ...    1000.00 ms (0.09 × hep/normal/correct/unaware/R/exh/RRCU + 0.20 × hep/normal/correct/unaware/R/inh/RRCU + 0.34 × hep/normal/correct/unaware/R2/exh/RRCU + 0.37 × hep/normal/correct/unaware/R2/inh/RRCU\n",
      " G_n= g46)\n",
      "        0 CTF compensation matrices available\n",
      "        nave = 215 - aspect type = 100\n",
      "Projections have already been applied. Setting proj attribute to True.\n",
      "No baseline correction applied\n",
      "    Read a total of 1 projection items:\n",
      "        Average EEG reference (1 x 128) active\n",
      "    Found the data of interest:\n",
      "        t =    -199.22 ...    1000.00 ms (0.13 × hep/normal/correct/unaware/R/exh/RRCU + 0.14 × hep/normal/correct/unaware/R/inh/RRCU + 0.42 × hep/normal/correct/unaware/R2/exh/RRCU + 0.31 × hep/normal/correct/unaware/R2/inh/RRCU\n",
      " G_n= g47)\n",
      "        0 CTF compensation matrices available\n",
      "        nave = 333 - aspect type = 100\n",
      "Projections have already been applied. Setting proj attribute to True.\n",
      "No baseline correction applied\n",
      "    Read a total of 1 projection items:\n",
      "        Average EEG reference (1 x 128) active\n",
      "    Found the data of interest:\n",
      "        t =    -199.22 ...    1000.00 ms (0.15 × hep/normal/correct/unaware/R/exh/RRCU + 0.13 × hep/normal/correct/unaware/R/inh/RRCU + 0.43 × hep/normal/correct/unaware/R2/exh/RRCU + 0.29 × hep/normal/correct/unaware/R2/inh/RRCU\n",
      " G_n= g49)\n",
      "        0 CTF compensation matrices available\n",
      "        nave = 318 - aspect type = 100\n",
      "Projections have already been applied. Setting proj attribute to True.\n",
      "No baseline correction applied\n",
      "    Read a total of 1 projection items:\n",
      "        Average EEG reference (1 x 128) active\n",
      "    Found the data of interest:\n",
      "        t =    -199.22 ...    1000.00 ms (0.16 × hep/normal/correct/unaware/R/exh/RRCU + 0.12 × hep/normal/correct/unaware/R/inh/RRCU + 0.47 × hep/normal/correct/unaware/R2/exh/RRCU + 0.25 × hep/normal/correct/unaware/R2/inh/RRCU\n",
      " G_n= g51)\n",
      "        0 CTF compensation matrices available\n",
      "        nave = 393 - aspect type = 100\n",
      "Projections have already been applied. Setting proj attribute to True.\n",
      "No baseline correction applied\n",
      "    Read a total of 1 projection items:\n",
      "        Average EEG reference (1 x 128) active\n",
      "    Found the data of interest:\n",
      "        t =    -199.22 ...    1000.00 ms (0.19 × hep/normal/correct/unaware/R/exh/RRCU + 0.14 × hep/normal/correct/unaware/R/inh/RRCU + 0.36 × hep/normal/correct/unaware/R2/exh/RRCU + 0.31 × hep/normal/correct/unaware/R2/inh/RRCU\n",
      " G_n= g52)\n",
      "        0 CTF compensation matrices available\n",
      "        nave = 399 - aspect type = 100\n",
      "Projections have already been applied. Setting proj attribute to True.\n",
      "No baseline correction applied\n"
     ]
    }
   ],
   "source": [
    "awa='unaware'\n",
    "if awa=='aware':\n",
    "    cond=\"RRCA\"\n",
    "elif awa=='unaware':\n",
    "    cond=\"RRCU\"\n",
    "else:\n",
    "    print('error in awa cond')\n",
    "\n",
    "\n",
    "filepath='ana/MNE/evo_list/maskOFF/correct/cfa/hep/norm/'\n",
    "filename=f\"maskOFF_correct_cfa_hep_norm_{cond}_list-ave.fif\"\n",
    "fp=filepath+filename\n",
    "evo=mne.read_evokeds(fp)"
   ],
   "metadata": {
    "collapsed": false,
    "ExecuteTime": {
     "end_time": "2025-05-07T09:29:36.108539800Z",
     "start_time": "2025-05-07T09:29:31.107468900Z"
    }
   }
  },
  {
   "cell_type": "code",
   "execution_count": 34,
   "outputs": [],
   "source": [
    "for ev in evo:\n",
    "    g_num=ev.comment[-3:]\n",
    "    ev.crop(None,0.8)\n",
    "    data=ev.data.T\n",
    "    filepath='ana/deconvolution/ep_betas/rawerps/nodc/'\n",
    "    filename=f'{g_num}_{awa}_hep_rawerps_nodc.ep'\n",
    "    fp=filepath+filename\n",
    "    np.savetxt(fp,data)\n"
   ],
   "metadata": {
    "collapsed": false,
    "ExecuteTime": {
     "end_time": "2025-05-07T09:31:22.154765600Z",
     "start_time": "2025-05-07T09:29:37.141436100Z"
    }
   }
  },
  {
   "cell_type": "code",
   "execution_count": 15,
   "outputs": [
    {
     "data": {
      "text/plain": "'g01'"
     },
     "execution_count": 15,
     "metadata": {},
     "output_type": "execute_result"
    }
   ],
   "source": [
    "\n",
    "ev.comment[-3:]"
   ],
   "metadata": {
    "collapsed": false,
    "ExecuteTime": {
     "end_time": "2025-05-07T08:09:03.216543300Z",
     "start_time": "2025-05-07T08:09:03.122789600Z"
    }
   }
  },
  {
   "cell_type": "markdown",
   "source": [
    "# Test ERPs R1 vs R2\n"
   ],
   "metadata": {
    "collapsed": false
   }
  },
  {
   "cell_type": "code",
   "execution_count": 250,
   "outputs": [
    {
     "name": "stdout",
     "output_type": "stream",
     "text": [
      "Reading ana/MNE/evo_list/maskOFF/correct/cfa/hep/norm/maskOFF_correct_cfa_hep_norm_R_list-ave.fif ...\n",
      "    Read a total of 1 projection items:\n",
      "        Average EEG reference (1 x 128) active\n",
      "    Found the data of interest:\n",
      "        t =    -199.22 ...    1000.00 ms (0.31 × hep/normal/correct/aware/R/exh/RRCA + 0.19 × hep/normal/correct/aware/R/inh/RRCA + 0.26 × hep/normal/correct/unaware/R/exh/RRCU + 0.24 × hep/normal/correct/unaware/R/inh/RRCU\n",
      " G_n= g01)\n",
      "        0 CTF compensation matrices available\n",
      "        nave = 147 - aspect type = 100\n",
      "Projections have already been applied. Setting proj attribute to True.\n",
      "No baseline correction applied\n",
      "    Read a total of 1 projection items:\n",
      "        Average EEG reference (1 x 128) active\n",
      "    Found the data of interest:\n",
      "        t =    -199.22 ...    1000.00 ms (0.36 × hep/normal/correct/aware/R/exh/RRCA + 0.31 × hep/normal/correct/aware/R/inh/RRCA + 0.21 × hep/normal/correct/unaware/R/exh/RRCU + 0.13 × hep/normal/correct/unaware/R/inh/RRCU\n",
      " G_n= g03)\n",
      "        0 CTF compensation matrices available\n",
      "        nave = 185 - aspect type = 100\n",
      "Projections have already been applied. Setting proj attribute to True.\n",
      "No baseline correction applied\n",
      "    Read a total of 1 projection items:\n",
      "        Average EEG reference (1 x 128) active\n",
      "    Found the data of interest:\n",
      "        t =    -199.22 ...    1000.00 ms (0.30 × hep/normal/correct/aware/R/exh/RRCA + 0.33 × hep/normal/correct/aware/R/inh/RRCA + 0.01 × hep/normal/correct/aware/R/inh/no_val + 0.23 × hep/normal/correct/unaware/R/exh/RRCU + 0.13 × hep/normal/correct/unaware/R/inh/RRCU\n",
      " G_n= g08)\n",
      "        0 CTF compensation matrices available\n",
      "        nave = 146 - aspect type = 100\n",
      "Projections have already been applied. Setting proj attribute to True.\n",
      "No baseline correction applied\n",
      "    Read a total of 1 projection items:\n",
      "        Average EEG reference (1 x 128) active\n",
      "    Found the data of interest:\n",
      "        t =    -199.22 ...    1000.00 ms (0.41 × hep/normal/correct/aware/R/exh/RRCA + 0.33 × hep/normal/correct/aware/R/inh/RRCA + 0.14 × hep/normal/correct/unaware/R/exh/RRCU + 0.13 × hep/normal/correct/unaware/R/inh/RRCU\n",
      " G_n= g10)\n",
      "        0 CTF compensation matrices available\n",
      "        nave = 155 - aspect type = 100\n",
      "Projections have already been applied. Setting proj attribute to True.\n",
      "No baseline correction applied\n",
      "    Read a total of 1 projection items:\n",
      "        Average EEG reference (1 x 128) active\n",
      "    Found the data of interest:\n",
      "        t =    -199.22 ...    1000.00 ms (0.28 × hep/normal/correct/aware/R/exh/RRCA + 0.23 × hep/normal/correct/aware/R/inh/RRCA + 0.28 × hep/normal/correct/unaware/R/exh/RRCU + 0.20 × hep/normal/correct/unaware/R/inh/RRCU\n",
      " G_n= g11)\n",
      "        0 CTF compensation matrices available\n",
      "        nave = 198 - aspect type = 100\n",
      "Projections have already been applied. Setting proj attribute to True.\n",
      "No baseline correction applied\n",
      "    Read a total of 1 projection items:\n",
      "        Average EEG reference (1 x 128) active\n",
      "    Found the data of interest:\n",
      "        t =    -199.22 ...    1000.00 ms (0.24 × hep/normal/correct/aware/R/exh/RRCA + 0.33 × hep/normal/correct/aware/R/inh/RRCA + 0.19 × hep/normal/correct/unaware/R/exh/RRCU + 0.01 × hep/normal/correct/unaware/R/exh/no_val + 0.23 × hep/normal/correct/unaware/R/inh/RRCU\n",
      " G_n= g12)\n",
      "        0 CTF compensation matrices available\n",
      "        nave = 104 - aspect type = 100\n",
      "Projections have already been applied. Setting proj attribute to True.\n",
      "No baseline correction applied\n",
      "    Read a total of 1 projection items:\n",
      "        Average EEG reference (1 x 128) active\n",
      "    Found the data of interest:\n",
      "        t =    -199.22 ...    1000.00 ms (0.30 × hep/normal/correct/aware/R/exh/RRCA + 0.18 × hep/normal/correct/aware/R/inh/RRCA + 0.30 × hep/normal/correct/unaware/R/exh/RRCU + 0.21 × hep/normal/correct/unaware/R/inh/RRCU\n",
      " G_n= g15)\n",
      "        0 CTF compensation matrices available\n",
      "        nave = 184 - aspect type = 100\n",
      "Projections have already been applied. Setting proj attribute to True.\n",
      "No baseline correction applied\n",
      "    Read a total of 1 projection items:\n",
      "        Average EEG reference (1 x 128) active\n",
      "    Found the data of interest:\n",
      "        t =    -199.22 ...    1000.00 ms (0.23 × hep/normal/correct/aware/R/exh/RRCA + 0.22 × hep/normal/correct/aware/R/inh/RRCA + 0.29 × hep/normal/correct/unaware/R/exh/RRCU + 0.26 × hep/normal/correct/unaware/R/inh/RRCU\n",
      " G_n= g16)\n",
      "        0 CTF compensation matrices available\n",
      "        nave = 178 - aspect type = 100\n",
      "Projections have already been applied. Setting proj attribute to True.\n",
      "No baseline correction applied\n",
      "    Read a total of 1 projection items:\n",
      "        Average EEG reference (1 x 128) active\n",
      "    Found the data of interest:\n",
      "        t =    -199.22 ...    1000.00 ms (0.20 × hep/normal/correct/aware/R/exh/RRCA + 0.25 × hep/normal/correct/aware/R/inh/RRCA + 0.24 × hep/normal/correct/unaware/R/exh/RRCU + 0.31 × hep/normal/correct/unaware/R/inh/RRCU\n",
      " G_n= g17)\n",
      "        0 CTF compensation matrices available\n",
      "        nave = 216 - aspect type = 100\n",
      "Projections have already been applied. Setting proj attribute to True.\n",
      "No baseline correction applied\n",
      "    Read a total of 1 projection items:\n",
      "        Average EEG reference (1 x 128) active\n",
      "    Found the data of interest:\n",
      "        t =    -199.22 ...    1000.00 ms (0.32 × hep/normal/correct/aware/R/exh/RRCA + 0.32 × hep/normal/correct/aware/R/inh/RRCA + 0.22 × hep/normal/correct/unaware/R/exh/RRCU + 0.15 × hep/normal/correct/unaware/R/inh/RRCU\n",
      " G_n= g19)\n",
      "        0 CTF compensation matrices available\n",
      "        nave = 209 - aspect type = 100\n",
      "Projections have already been applied. Setting proj attribute to True.\n",
      "No baseline correction applied\n",
      "    Read a total of 1 projection items:\n",
      "        Average EEG reference (1 x 128) active\n",
      "    Found the data of interest:\n",
      "        t =    -199.22 ...    1000.00 ms (0.31 × hep/normal/correct/aware/R/exh/RRCA + 0.34 × hep/normal/correct/aware/R/inh/RRCA + 0.15 × hep/normal/correct/unaware/R/exh/RRCU + 0.20 × hep/normal/correct/unaware/R/inh/RRCU\n",
      " G_n= g23)\n",
      "        0 CTF compensation matrices available\n",
      "        nave = 171 - aspect type = 100\n",
      "Projections have already been applied. Setting proj attribute to True.\n",
      "No baseline correction applied\n",
      "    Read a total of 1 projection items:\n",
      "        Average EEG reference (1 x 128) active\n",
      "    Found the data of interest:\n",
      "        t =    -199.22 ...    1000.00 ms (0.19 × hep/normal/correct/aware/R/exh/RRCA + 0.01 × hep/normal/correct/aware/R/exh/no_val + 0.16 × hep/normal/correct/aware/R/inh/RRCA + 0.42 × hep/normal/correct/unaware/R/exh/RRCU + 0.01 × hep/normal/correct/unaware/R/exh/no_val + 0.22 × hep/normal/correct/unaware/R/inh/RRCU\n",
      " G_n= g24)\n",
      "        0 CTF compensation matrices available\n",
      "        nave = 135 - aspect type = 100\n",
      "Projections have already been applied. Setting proj attribute to True.\n",
      "No baseline correction applied\n",
      "    Read a total of 1 projection items:\n",
      "        Average EEG reference (1 x 128) active\n",
      "    Found the data of interest:\n",
      "        t =    -199.22 ...    1000.00 ms (0.41 × hep/normal/correct/aware/R/exh/RRCA + 0.27 × hep/normal/correct/aware/R/inh/RRCA + 0.15 × hep/normal/correct/unaware/R/exh/RRCU + 0.16 × hep/normal/correct/unaware/R/inh/RRCU\n",
      " G_n= g25)\n",
      "        0 CTF compensation matrices available\n",
      "        nave = 246 - aspect type = 100\n",
      "Projections have already been applied. Setting proj attribute to True.\n",
      "No baseline correction applied\n",
      "    Read a total of 1 projection items:\n",
      "        Average EEG reference (1 x 128) active\n",
      "    Found the data of interest:\n",
      "        t =    -199.22 ...    1000.00 ms (0.20 × hep/normal/correct/aware/R/exh/RRCA + 0.08 × hep/normal/correct/aware/R/inh/RRCA + 0.46 × hep/normal/correct/unaware/R/exh/RRCU + 0.01 × hep/normal/correct/unaware/R/exh/no_val + 0.25 × hep/normal/correct/unaware/R/inh/RRCU\n",
      " G_n= g28)\n",
      "        0 CTF compensation matrices available\n",
      "        nave = 157 - aspect type = 100\n",
      "Projections have already been applied. Setting proj attribute to True.\n",
      "No baseline correction applied\n",
      "    Read a total of 1 projection items:\n",
      "        Average EEG reference (1 x 128) active\n",
      "    Found the data of interest:\n",
      "        t =    -199.22 ...    1000.00 ms (0.36 × hep/normal/correct/aware/R/exh/RRCA + 0.19 × hep/normal/correct/aware/R/inh/RRCA + 0.25 × hep/normal/correct/unaware/R/exh/RRCU + 0.21 × hep/normal/correct/unaware/R/inh/RRCU\n",
      " G_n= g32)\n",
      "        0 CTF compensation matrices available\n",
      "        nave = 187 - aspect type = 100\n",
      "Projections have already been applied. Setting proj attribute to True.\n",
      "No baseline correction applied\n",
      "    Read a total of 1 projection items:\n",
      "        Average EEG reference (1 x 128) active\n",
      "    Found the data of interest:\n",
      "        t =    -199.22 ...    1000.00 ms (0.31 × hep/normal/correct/aware/R/exh/RRCA + 0.18 × hep/normal/correct/aware/R/inh/RRCA + 0.33 × hep/normal/correct/unaware/R/exh/RRCU + 0.18 × hep/normal/correct/unaware/R/inh/RRCU\n",
      " G_n= g33)\n",
      "        0 CTF compensation matrices available\n",
      "        nave = 248 - aspect type = 100\n",
      "Projections have already been applied. Setting proj attribute to True.\n",
      "No baseline correction applied\n",
      "    Read a total of 1 projection items:\n",
      "        Average EEG reference (1 x 128) active\n",
      "    Found the data of interest:\n",
      "        t =    -199.22 ...    1000.00 ms (0.39 × hep/normal/correct/aware/R/exh/RRCA + 0.27 × hep/normal/correct/aware/R/inh/RRCA + 0.18 × hep/normal/correct/unaware/R/exh/RRCU + 0.17 × hep/normal/correct/unaware/R/inh/RRCU\n",
      " G_n= g34)\n",
      "        0 CTF compensation matrices available\n",
      "        nave = 206 - aspect type = 100\n",
      "Projections have already been applied. Setting proj attribute to True.\n",
      "No baseline correction applied\n",
      "    Read a total of 1 projection items:\n",
      "        Average EEG reference (1 x 128) active\n",
      "    Found the data of interest:\n",
      "        t =    -199.22 ...    1000.00 ms (0.12 × hep/normal/correct/aware/R/exh/RRCA + 0.27 × hep/normal/correct/aware/R/inh/RRCA + 0.19 × hep/normal/correct/unaware/R/exh/RRCU + 0.41 × hep/normal/correct/unaware/R/inh/RRCU\n",
      " G_n= g37)\n",
      "        0 CTF compensation matrices available\n",
      "        nave = 186 - aspect type = 100\n",
      "Projections have already been applied. Setting proj attribute to True.\n",
      "No baseline correction applied\n",
      "    Read a total of 1 projection items:\n",
      "        Average EEG reference (1 x 128) active\n",
      "    Found the data of interest:\n",
      "        t =    -199.22 ...    1000.00 ms (0.25 × hep/normal/correct/aware/R/exh/RRCA + 0.19 × hep/normal/correct/aware/R/inh/RRCA + 0.34 × hep/normal/correct/unaware/R/exh/RRCU + 0.22 × hep/normal/correct/unaware/R/inh/RRCU\n",
      " G_n= g38)\n",
      "        0 CTF compensation matrices available\n",
      "        nave = 220 - aspect type = 100\n",
      "Projections have already been applied. Setting proj attribute to True.\n",
      "No baseline correction applied\n",
      "    Read a total of 1 projection items:\n",
      "        Average EEG reference (1 x 128) active\n",
      "    Found the data of interest:\n",
      "        t =    -199.22 ...    1000.00 ms (0.15 × hep/normal/correct/aware/R/exh/RRCA + 0.17 × hep/normal/correct/aware/R/inh/RRCA + 0.49 × hep/normal/correct/unaware/R/exh/RRCU + 0.19 × hep/normal/correct/unaware/R/inh/RRCU\n",
      " G_n= g39)\n",
      "        0 CTF compensation matrices available\n",
      "        nave = 234 - aspect type = 100\n",
      "Projections have already been applied. Setting proj attribute to True.\n",
      "No baseline correction applied\n",
      "    Read a total of 1 projection items:\n",
      "        Average EEG reference (1 x 128) active\n",
      "    Found the data of interest:\n",
      "        t =    -199.22 ...    1000.00 ms (0.24 × hep/normal/correct/aware/R/exh/RRCA + 0.15 × hep/normal/correct/aware/R/inh/RRCA + 0.34 × hep/normal/correct/unaware/R/exh/RRCU + 0.28 × hep/normal/correct/unaware/R/inh/RRCU\n",
      " G_n= g40)\n",
      "        0 CTF compensation matrices available\n",
      "        nave = 130 - aspect type = 100\n",
      "Projections have already been applied. Setting proj attribute to True.\n",
      "No baseline correction applied\n",
      "    Read a total of 1 projection items:\n",
      "        Average EEG reference (1 x 128) active\n",
      "    Found the data of interest:\n",
      "        t =    -199.22 ...    1000.00 ms (0.20 × hep/normal/correct/aware/R/exh/RRCA + 0.24 × hep/normal/correct/aware/R/inh/RRCA + 0.28 × hep/normal/correct/unaware/R/exh/RRCU + 0.27 × hep/normal/correct/unaware/R/inh/RRCU\n",
      " G_n= g41)\n",
      "        0 CTF compensation matrices available\n",
      "        nave = 190 - aspect type = 100\n",
      "Projections have already been applied. Setting proj attribute to True.\n",
      "No baseline correction applied\n",
      "    Read a total of 1 projection items:\n",
      "        Average EEG reference (1 x 128) active\n",
      "    Found the data of interest:\n",
      "        t =    -199.22 ...    1000.00 ms (0.24 × hep/normal/correct/aware/R/exh/RRCA + 0.21 × hep/normal/correct/aware/R/inh/RRCA + 0.28 × hep/normal/correct/unaware/R/exh/RRCU + 0.27 × hep/normal/correct/unaware/R/inh/RRCU\n",
      " G_n= g42)\n",
      "        0 CTF compensation matrices available\n",
      "        nave = 223 - aspect type = 100\n",
      "Projections have already been applied. Setting proj attribute to True.\n",
      "No baseline correction applied\n",
      "    Read a total of 1 projection items:\n",
      "        Average EEG reference (1 x 128) active\n",
      "    Found the data of interest:\n",
      "        t =    -199.22 ...    1000.00 ms (0.23 × hep/normal/correct/aware/R/exh/RRCA + 0.16 × hep/normal/correct/aware/R/inh/RRCA + 0.32 × hep/normal/correct/unaware/R/exh/RRCU + 0.28 × hep/normal/correct/unaware/R/inh/RRCU\n",
      " G_n= g44)\n",
      "        0 CTF compensation matrices available\n",
      "        nave = 232 - aspect type = 100\n",
      "Projections have already been applied. Setting proj attribute to True.\n",
      "No baseline correction applied\n",
      "    Read a total of 1 projection items:\n",
      "        Average EEG reference (1 x 128) active\n",
      "    Found the data of interest:\n",
      "        t =    -199.22 ...    1000.00 ms (0.39 × hep/normal/correct/aware/R/exh/RRCA + 0.01 × hep/normal/correct/aware/R/exh/no_val + 0.18 × hep/normal/correct/aware/R/inh/RRCA + 0.27 × hep/normal/correct/unaware/R/exh/RRCU + 0.15 × hep/normal/correct/unaware/R/inh/RRCU\n",
      " G_n= g45)\n",
      "        0 CTF compensation matrices available\n",
      "        nave = 188 - aspect type = 100\n",
      "Projections have already been applied. Setting proj attribute to True.\n",
      "No baseline correction applied\n",
      "    Read a total of 1 projection items:\n",
      "        Average EEG reference (1 x 128) active\n",
      "    Found the data of interest:\n",
      "        t =    -199.22 ...    1000.00 ms (0.19 × hep/normal/correct/aware/R/exh/RRCA + 0.38 × hep/normal/correct/aware/R/inh/RRCA + 0.13 × hep/normal/correct/unaware/R/exh/RRCU + 0.30 × hep/normal/correct/unaware/R/inh/RRCU\n",
      " G_n= g46)\n",
      "        0 CTF compensation matrices available\n",
      "        nave = 142 - aspect type = 100\n",
      "Projections have already been applied. Setting proj attribute to True.\n",
      "No baseline correction applied\n",
      "    Read a total of 1 projection items:\n",
      "        Average EEG reference (1 x 128) active\n",
      "    Found the data of interest:\n",
      "        t =    -199.22 ...    1000.00 ms (0.28 × hep/normal/correct/aware/R/exh/RRCA + 0.30 × hep/normal/correct/aware/R/inh/RRCA + 0.20 × hep/normal/correct/unaware/R/exh/RRCU + 0.22 × hep/normal/correct/unaware/R/inh/RRCU\n",
      " G_n= g47)\n",
      "        0 CTF compensation matrices available\n",
      "        nave = 215 - aspect type = 100\n",
      "Projections have already been applied. Setting proj attribute to True.\n",
      "No baseline correction applied\n",
      "    Read a total of 1 projection items:\n",
      "        Average EEG reference (1 x 128) active\n",
      "    Found the data of interest:\n",
      "        t =    -199.22 ...    1000.00 ms (0.29 × hep/normal/correct/aware/R/exh/RRCA + 0.22 × hep/normal/correct/aware/R/inh/RRCA + 0.26 × hep/normal/correct/unaware/R/exh/RRCU + 0.23 × hep/normal/correct/unaware/R/inh/RRCU\n",
      " G_n= g49)\n",
      "        0 CTF compensation matrices available\n",
      "        nave = 182 - aspect type = 100\n",
      "Projections have already been applied. Setting proj attribute to True.\n",
      "No baseline correction applied\n",
      "    Read a total of 1 projection items:\n",
      "        Average EEG reference (1 x 128) active\n",
      "    Found the data of interest:\n",
      "        t =    -199.22 ...    1000.00 ms (0.34 × hep/normal/correct/aware/R/exh/RRCA + 0.16 × hep/normal/correct/aware/R/inh/RRCA + 0.28 × hep/normal/correct/unaware/R/exh/RRCU + 0.22 × hep/normal/correct/unaware/R/inh/RRCU\n",
      " G_n= g51)\n",
      "        0 CTF compensation matrices available\n",
      "        nave = 221 - aspect type = 100\n",
      "Projections have already been applied. Setting proj attribute to True.\n",
      "No baseline correction applied\n",
      "    Read a total of 1 projection items:\n",
      "        Average EEG reference (1 x 128) active\n",
      "    Found the data of interest:\n",
      "        t =    -199.22 ...    1000.00 ms (0.21 × hep/normal/correct/aware/R/exh/RRCA + 0.15 × hep/normal/correct/aware/R/inh/RRCA + 0.37 × hep/normal/correct/unaware/R/exh/RRCU + 0.27 × hep/normal/correct/unaware/R/inh/RRCU\n",
      " G_n= g52)\n",
      "        0 CTF compensation matrices available\n",
      "        nave = 208 - aspect type = 100\n",
      "Projections have already been applied. Setting proj attribute to True.\n",
      "No baseline correction applied\n",
      "Reading ana/MNE/evo_list/maskOFF/correct/cfa/hep/norm/maskOFF_correct_cfa_hep_norm_R2_list-ave.fif ...\n",
      "    Read a total of 1 projection items:\n",
      "        Average EEG reference (1 x 128) active\n",
      "    Found the data of interest:\n",
      "        t =    -199.22 ...    1000.00 ms (0.33 × hep/normal/correct/aware/R2/exh/RRCA + 0.22 × hep/normal/correct/aware/R2/inh/RRCA + 0.27 × hep/normal/correct/unaware/R2/exh/RRCU + 0.18 × hep/normal/correct/unaware/R2/inh/RRCU\n",
      " G_n= g01)\n",
      "        0 CTF compensation matrices available\n",
      "        nave = 496 - aspect type = 100\n",
      "Projections have already been applied. Setting proj attribute to True.\n",
      "No baseline correction applied\n",
      "    Read a total of 1 projection items:\n",
      "        Average EEG reference (1 x 128) active\n",
      "    Found the data of interest:\n",
      "        t =    -199.22 ...    1000.00 ms (0.39 × hep/normal/correct/aware/R2/exh/RRCA + 0.23 × hep/normal/correct/aware/R2/inh/RRCA + 0.24 × hep/normal/correct/unaware/R2/exh/RRCU + 0.14 × hep/normal/correct/unaware/R2/inh/RRCU\n",
      " G_n= g03)\n",
      "        0 CTF compensation matrices available\n",
      "        nave = 399 - aspect type = 100\n",
      "Projections have already been applied. Setting proj attribute to True.\n",
      "No baseline correction applied\n",
      "    Read a total of 1 projection items:\n",
      "        Average EEG reference (1 x 128) active\n",
      "    Found the data of interest:\n",
      "        t =    -199.22 ...    1000.00 ms (0.34 × hep/normal/correct/aware/R2/exh/RRCA + 0.00 × hep/normal/correct/aware/R2/exh/no_val + 0.36 × hep/normal/correct/aware/R2/inh/RRCA + 0.14 × hep/normal/correct/unaware/R2/exh/RRCU + 0.15 × hep/normal/correct/unaware/R2/inh/RRCU\n",
      " G_n= g08)\n",
      "        0 CTF compensation matrices available\n",
      "        nave = 357 - aspect type = 100\n",
      "Projections have already been applied. Setting proj attribute to True.\n",
      "No baseline correction applied\n",
      "    Read a total of 1 projection items:\n",
      "        Average EEG reference (1 x 128) active\n",
      "    Found the data of interest:\n",
      "        t =    -199.22 ...    1000.00 ms (0.41 × hep/normal/correct/aware/R2/exh/RRCA + 0.00 × hep/normal/correct/aware/R2/exh/no_val + 0.25 × hep/normal/correct/aware/R2/inh/RRCA + 0.00 × hep/normal/correct/aware/R2/inh/no_val + 0.20 × hep/normal/correct/unaware/R2/exh/RRCU + 0.14 × hep/normal/correct/unaware/R2/inh/RRCU\n",
      " G_n= g10)\n",
      "        0 CTF compensation matrices available\n",
      "        nave = 434 - aspect type = 100\n",
      "Projections have already been applied. Setting proj attribute to True.\n",
      "No baseline correction applied\n",
      "    Read a total of 1 projection items:\n",
      "        Average EEG reference (1 x 128) active\n",
      "    Found the data of interest:\n",
      "        t =    -199.22 ...    1000.00 ms (0.29 × hep/normal/correct/aware/R2/exh/RRCA + 0.22 × hep/normal/correct/aware/R2/inh/RRCA + 0.30 × hep/normal/correct/unaware/R2/exh/RRCU + 0.19 × hep/normal/correct/unaware/R2/inh/RRCU\n",
      " G_n= g11)\n",
      "        0 CTF compensation matrices available\n",
      "        nave = 461 - aspect type = 100\n",
      "Projections have already been applied. Setting proj attribute to True.\n",
      "No baseline correction applied\n",
      "    Read a total of 1 projection items:\n",
      "        Average EEG reference (1 x 128) active\n",
      "    Found the data of interest:\n",
      "        t =    -199.22 ...    1000.00 ms (0.24 × hep/normal/correct/aware/R2/exh/RRCA + 0.23 × hep/normal/correct/aware/R2/inh/RRCA + 0.25 × hep/normal/correct/unaware/R2/exh/RRCU + 0.28 × hep/normal/correct/unaware/R2/inh/RRCU\n",
      " G_n= g12)\n",
      "        0 CTF compensation matrices available\n",
      "        nave = 204 - aspect type = 100\n",
      "Projections have already been applied. Setting proj attribute to True.\n",
      "No baseline correction applied\n",
      "    Read a total of 1 projection items:\n",
      "        Average EEG reference (1 x 128) active\n",
      "    Found the data of interest:\n",
      "        t =    -199.22 ...    1000.00 ms (0.27 × hep/normal/correct/aware/R2/exh/RRCA + 0.17 × hep/normal/correct/aware/R2/inh/RRCA + 0.33 × hep/normal/correct/unaware/R2/exh/RRCU + 0.23 × hep/normal/correct/unaware/R2/inh/RRCU\n",
      " G_n= g15)\n",
      "        0 CTF compensation matrices available\n",
      "        nave = 418 - aspect type = 100\n",
      "Projections have already been applied. Setting proj attribute to True.\n",
      "No baseline correction applied\n",
      "    Read a total of 1 projection items:\n",
      "        Average EEG reference (1 x 128) active\n",
      "    Found the data of interest:\n",
      "        t =    -199.22 ...    1000.00 ms (0.26 × hep/normal/correct/aware/R2/exh/RRCA + 0.26 × hep/normal/correct/aware/R2/inh/RRCA + 0.27 × hep/normal/correct/unaware/R2/exh/RRCU + 0.22 × hep/normal/correct/unaware/R2/inh/RRCU\n",
      " G_n= g16)\n",
      "        0 CTF compensation matrices available\n",
      "        nave = 414 - aspect type = 100\n",
      "Projections have already been applied. Setting proj attribute to True.\n",
      "No baseline correction applied\n",
      "    Read a total of 1 projection items:\n",
      "        Average EEG reference (1 x 128) active\n",
      "    Found the data of interest:\n",
      "        t =    -199.22 ...    1000.00 ms (0.20 × hep/normal/correct/aware/R2/exh/RRCA + 0.20 × hep/normal/correct/aware/R2/inh/RRCA + 0.28 × hep/normal/correct/unaware/R2/exh/RRCU + 0.32 × hep/normal/correct/unaware/R2/inh/RRCU\n",
      " G_n= g17)\n",
      "        0 CTF compensation matrices available\n",
      "        nave = 547 - aspect type = 100\n",
      "Projections have already been applied. Setting proj attribute to True.\n",
      "No baseline correction applied\n",
      "    Read a total of 1 projection items:\n",
      "        Average EEG reference (1 x 128) active\n",
      "    Found the data of interest:\n",
      "        t =    -199.22 ...    1000.00 ms (0.37 × hep/normal/correct/aware/R2/exh/RRCA + 0.00 × hep/normal/correct/aware/R2/exh/no_val + 0.27 × hep/normal/correct/aware/R2/inh/RRCA + 0.22 × hep/normal/correct/unaware/R2/exh/RRCU + 0.14 × hep/normal/correct/unaware/R2/inh/RRCU\n",
      " G_n= g19)\n",
      "        0 CTF compensation matrices available\n",
      "        nave = 441 - aspect type = 100\n",
      "Projections have already been applied. Setting proj attribute to True.\n",
      "No baseline correction applied\n",
      "    Read a total of 1 projection items:\n",
      "        Average EEG reference (1 x 128) active\n",
      "    Found the data of interest:\n",
      "        t =    -199.22 ...    1000.00 ms (0.34 × hep/normal/correct/aware/R2/exh/RRCA + 0.32 × hep/normal/correct/aware/R2/inh/RRCA + 0.17 × hep/normal/correct/unaware/R2/exh/RRCU + 0.17 × hep/normal/correct/unaware/R2/inh/RRCU\n",
      " G_n= g23)\n",
      "        0 CTF compensation matrices available\n",
      "        nave = 477 - aspect type = 100\n",
      "Projections have already been applied. Setting proj attribute to True.\n",
      "No baseline correction applied\n",
      "    Read a total of 1 projection items:\n",
      "        Average EEG reference (1 x 128) active\n",
      "    Found the data of interest:\n",
      "        t =    -199.22 ...    1000.00 ms (0.17 × hep/normal/correct/aware/R2/exh/RRCA + 0.16 × hep/normal/correct/aware/R2/inh/RRCA + 0.38 × hep/normal/correct/unaware/R2/exh/RRCU + 0.29 × hep/normal/correct/unaware/R2/inh/RRCU\n",
      " G_n= g24)\n",
      "        0 CTF compensation matrices available\n",
      "        nave = 372 - aspect type = 100\n",
      "Projections have already been applied. Setting proj attribute to True.\n",
      "No baseline correction applied\n",
      "    Read a total of 1 projection items:\n",
      "        Average EEG reference (1 x 128) active\n",
      "    Found the data of interest:\n",
      "        t =    -199.22 ...    1000.00 ms (0.38 × hep/normal/correct/aware/R2/exh/RRCA + 0.28 × hep/normal/correct/aware/R2/inh/RRCA + 0.19 × hep/normal/correct/unaware/R2/exh/RRCU + 0.15 × hep/normal/correct/unaware/R2/inh/RRCU\n",
      " G_n= g25)\n",
      "        0 CTF compensation matrices available\n",
      "        nave = 493 - aspect type = 100\n",
      "Projections have already been applied. Setting proj attribute to True.\n",
      "No baseline correction applied\n",
      "    Read a total of 1 projection items:\n",
      "        Average EEG reference (1 x 128) active\n",
      "    Found the data of interest:\n",
      "        t =    -199.22 ...    1000.00 ms (0.22 × hep/normal/correct/aware/R2/exh/RRCA + 0.12 × hep/normal/correct/aware/R2/inh/RRCA + 0.40 × hep/normal/correct/unaware/R2/exh/RRCU + 0.25 × hep/normal/correct/unaware/R2/inh/RRCU\n",
      " G_n= g28)\n",
      "        0 CTF compensation matrices available\n",
      "        nave = 409 - aspect type = 100\n",
      "Projections have already been applied. Setting proj attribute to True.\n",
      "No baseline correction applied\n",
      "    Read a total of 1 projection items:\n",
      "        Average EEG reference (1 x 128) active\n",
      "    Found the data of interest:\n",
      "        t =    -199.22 ...    1000.00 ms (0.37 × hep/normal/correct/aware/R2/exh/RRCA + 0.18 × hep/normal/correct/aware/R2/inh/RRCA + 0.32 × hep/normal/correct/unaware/R2/exh/RRCU + 0.14 × hep/normal/correct/unaware/R2/inh/RRCU\n",
      " G_n= g32)\n",
      "        0 CTF compensation matrices available\n",
      "        nave = 469 - aspect type = 100\n",
      "Projections have already been applied. Setting proj attribute to True.\n",
      "No baseline correction applied\n",
      "    Read a total of 1 projection items:\n",
      "        Average EEG reference (1 x 128) active\n",
      "    Found the data of interest:\n",
      "        t =    -199.22 ...    1000.00 ms (0.28 × hep/normal/correct/aware/R2/exh/RRCA + 0.19 × hep/normal/correct/aware/R2/inh/RRCA + 0.37 × hep/normal/correct/unaware/R2/exh/RRCU + 0.16 × hep/normal/correct/unaware/R2/inh/RRCU\n",
      " G_n= g33)\n",
      "        0 CTF compensation matrices available\n",
      "        nave = 474 - aspect type = 100\n",
      "Projections have already been applied. Setting proj attribute to True.\n",
      "No baseline correction applied\n",
      "    Read a total of 1 projection items:\n",
      "        Average EEG reference (1 x 128) active\n",
      "    Found the data of interest:\n",
      "        t =    -199.22 ...    1000.00 ms (0.42 × hep/normal/correct/aware/R2/exh/RRCA + 0.21 × hep/normal/correct/aware/R2/inh/RRCA + 0.19 × hep/normal/correct/unaware/R2/exh/RRCU + 0.17 × hep/normal/correct/unaware/R2/inh/RRCU\n",
      " G_n= g34)\n",
      "        0 CTF compensation matrices available\n",
      "        nave = 406 - aspect type = 100\n",
      "Projections have already been applied. Setting proj attribute to True.\n",
      "No baseline correction applied\n",
      "    Read a total of 1 projection items:\n",
      "        Average EEG reference (1 x 128) active\n",
      "    Found the data of interest:\n",
      "        t =    -199.22 ...    1000.00 ms (0.13 × hep/normal/correct/aware/R2/exh/RRCA + 0.31 × hep/normal/correct/aware/R2/inh/RRCA + 0.19 × hep/normal/correct/unaware/R2/exh/RRCU + 0.38 × hep/normal/correct/unaware/R2/inh/RRCU\n",
      " G_n= g37)\n",
      "        0 CTF compensation matrices available\n",
      "        nave = 362 - aspect type = 100\n",
      "Projections have already been applied. Setting proj attribute to True.\n",
      "No baseline correction applied\n",
      "    Read a total of 1 projection items:\n",
      "        Average EEG reference (1 x 128) active\n",
      "    Found the data of interest:\n",
      "        t =    -199.22 ...    1000.00 ms (0.27 × hep/normal/correct/aware/R2/exh/RRCA + 0.17 × hep/normal/correct/aware/R2/inh/RRCA + 0.35 × hep/normal/correct/unaware/R2/exh/RRCU + 0.20 × hep/normal/correct/unaware/R2/inh/RRCU + 0.00 × hep/normal/correct/unaware/R2/inh/no_val\n",
      " G_n= g38)\n",
      "        0 CTF compensation matrices available\n",
      "        nave = 474 - aspect type = 100\n",
      "Projections have already been applied. Setting proj attribute to True.\n",
      "No baseline correction applied\n",
      "    Read a total of 1 projection items:\n",
      "        Average EEG reference (1 x 128) active\n",
      "    Found the data of interest:\n",
      "        t =    -199.22 ...    1000.00 ms (0.21 × hep/normal/correct/aware/R2/exh/RRCA + 0.14 × hep/normal/correct/aware/R2/inh/RRCA + 0.00 × hep/normal/correct/aware/R2/inh/no_val + 0.42 × hep/normal/correct/unaware/R2/exh/RRCU + 0.24 × hep/normal/correct/unaware/R2/inh/RRCU\n",
      " G_n= g39)\n",
      "        0 CTF compensation matrices available\n",
      "        nave = 441 - aspect type = 100\n",
      "Projections have already been applied. Setting proj attribute to True.\n",
      "No baseline correction applied\n",
      "    Read a total of 1 projection items:\n",
      "        Average EEG reference (1 x 128) active\n",
      "    Found the data of interest:\n",
      "        t =    -199.22 ...    1000.00 ms (0.25 × hep/normal/correct/aware/R2/exh/RRCA + 0.15 × hep/normal/correct/aware/R2/inh/RRCA + 0.41 × hep/normal/correct/unaware/R2/exh/RRCU + 0.19 × hep/normal/correct/unaware/R2/inh/RRCU + 0.00 × hep/normal/correct/unaware/R2/inh/no_val\n",
      " G_n= g40)\n",
      "        0 CTF compensation matrices available\n",
      "        nave = 474 - aspect type = 100\n",
      "Projections have already been applied. Setting proj attribute to True.\n",
      "No baseline correction applied\n",
      "    Read a total of 1 projection items:\n",
      "        Average EEG reference (1 x 128) active\n",
      "    Found the data of interest:\n",
      "        t =    -199.22 ...    1000.00 ms (0.22 × hep/normal/correct/aware/R2/exh/RRCA + 0.13 × hep/normal/correct/aware/R2/inh/RRCA + 0.39 × hep/normal/correct/unaware/R2/exh/RRCU + 0.00 × hep/normal/correct/unaware/R2/exh/no_val + 0.25 × hep/normal/correct/unaware/R2/inh/RRCU\n",
      " G_n= g41)\n",
      "        0 CTF compensation matrices available\n",
      "        nave = 561 - aspect type = 100\n",
      "Projections have already been applied. Setting proj attribute to True.\n",
      "No baseline correction applied\n",
      "    Read a total of 1 projection items:\n",
      "        Average EEG reference (1 x 128) active\n",
      "    Found the data of interest:\n",
      "        t =    -199.22 ...    1000.00 ms (0.24 × hep/normal/correct/aware/R2/exh/RRCA + 0.23 × hep/normal/correct/aware/R2/inh/RRCA + 0.30 × hep/normal/correct/unaware/R2/exh/RRCU + 0.23 × hep/normal/correct/unaware/R2/inh/RRCU\n",
      " G_n= g42)\n",
      "        0 CTF compensation matrices available\n",
      "        nave = 533 - aspect type = 100\n",
      "Projections have already been applied. Setting proj attribute to True.\n",
      "No baseline correction applied\n",
      "    Read a total of 1 projection items:\n",
      "        Average EEG reference (1 x 128) active\n",
      "    Found the data of interest:\n",
      "        t =    -199.22 ...    1000.00 ms (0.24 × hep/normal/correct/aware/R2/exh/RRCA + 0.14 × hep/normal/correct/aware/R2/inh/RRCA + 0.00 × hep/normal/correct/aware/R2/inh/no_val + 0.37 × hep/normal/correct/unaware/R2/exh/RRCU + 0.25 × hep/normal/correct/unaware/R2/inh/RRCU\n",
      " G_n= g44)\n",
      "        0 CTF compensation matrices available\n",
      "        nave = 557 - aspect type = 100\n",
      "Projections have already been applied. Setting proj attribute to True.\n",
      "No baseline correction applied\n",
      "    Read a total of 1 projection items:\n",
      "        Average EEG reference (1 x 128) active\n",
      "    Found the data of interest:\n",
      "        t =    -199.22 ...    1000.00 ms (0.41 × hep/normal/correct/aware/R2/exh/RRCA + 0.00 × hep/normal/correct/aware/R2/exh/no_val + 0.20 × hep/normal/correct/aware/R2/inh/RRCA + 0.24 × hep/normal/correct/unaware/R2/exh/RRCU + 0.15 × hep/normal/correct/unaware/R2/inh/RRCU\n",
      " G_n= g45)\n",
      "        0 CTF compensation matrices available\n",
      "        nave = 496 - aspect type = 100\n",
      "Projections have already been applied. Setting proj attribute to True.\n",
      "No baseline correction applied\n",
      "    Read a total of 1 projection items:\n",
      "        Average EEG reference (1 x 128) active\n",
      "    Found the data of interest:\n",
      "        t =    -199.22 ...    1000.00 ms (0.34 × hep/normal/correct/aware/R2/exh/RRCA + 0.00 × hep/normal/correct/aware/R2/exh/no_val + 0.30 × hep/normal/correct/aware/R2/inh/RRCA + 0.17 × hep/normal/correct/unaware/R2/exh/RRCU + 0.18 × hep/normal/correct/unaware/R2/inh/RRCU\n",
      " G_n= g46)\n",
      "        0 CTF compensation matrices available\n",
      "        nave = 435 - aspect type = 100\n",
      "Projections have already been applied. Setting proj attribute to True.\n",
      "No baseline correction applied\n",
      "    Read a total of 1 projection items:\n",
      "        Average EEG reference (1 x 128) active\n",
      "    Found the data of interest:\n",
      "        t =    -199.22 ...    1000.00 ms (0.32 × hep/normal/correct/aware/R2/exh/RRCA + 0.24 × hep/normal/correct/aware/R2/inh/RRCA + 0.25 × hep/normal/correct/unaware/R2/exh/RRCU + 0.19 × hep/normal/correct/unaware/R2/inh/RRCU\n",
      " G_n= g47)\n",
      "        0 CTF compensation matrices available\n",
      "        nave = 553 - aspect type = 100\n",
      "Projections have already been applied. Setting proj attribute to True.\n",
      "No baseline correction applied\n",
      "    Read a total of 1 projection items:\n",
      "        Average EEG reference (1 x 128) active\n",
      "    Found the data of interest:\n",
      "        t =    -199.22 ...    1000.00 ms (0.30 × hep/normal/correct/aware/R2/exh/RRCA + 0.16 × hep/normal/correct/aware/R2/inh/RRCA + 0.32 × hep/normal/correct/unaware/R2/exh/RRCU + 0.21 × hep/normal/correct/unaware/R2/inh/RRCU\n",
      " G_n= g49)\n",
      "        0 CTF compensation matrices available\n",
      "        nave = 424 - aspect type = 100\n",
      "Projections have already been applied. Setting proj attribute to True.\n",
      "No baseline correction applied\n",
      "    Read a total of 1 projection items:\n",
      "        Average EEG reference (1 x 128) active\n",
      "    Found the data of interest:\n",
      "        t =    -199.22 ...    1000.00 ms (0.32 × hep/normal/correct/aware/R2/exh/RRCA + 0.13 × hep/normal/correct/aware/R2/inh/RRCA + 0.36 × hep/normal/correct/unaware/R2/exh/RRCU + 0.19 × hep/normal/correct/unaware/R2/inh/RRCU\n",
      " G_n= g51)\n",
      "        0 CTF compensation matrices available\n",
      "        nave = 515 - aspect type = 100\n",
      "Projections have already been applied. Setting proj attribute to True.\n",
      "No baseline correction applied\n",
      "    Read a total of 1 projection items:\n",
      "        Average EEG reference (1 x 128) active\n",
      "    Found the data of interest:\n",
      "        t =    -199.22 ...    1000.00 ms (0.22 × hep/normal/correct/aware/R2/exh/RRCA + 0.18 × hep/normal/correct/aware/R2/inh/RRCA + 0.32 × hep/normal/correct/unaware/R2/exh/RRCU + 0.28 × hep/normal/correct/unaware/R2/inh/RRCU\n",
      " G_n= g52)\n",
      "        0 CTF compensation matrices available\n",
      "        nave = 445 - aspect type = 100\n",
      "Projections have already been applied. Setting proj attribute to True.\n",
      "No baseline correction applied\n"
     ]
    }
   ],
   "source": [
    "cond1='R'\n",
    "cond2='R2'\n",
    "filepath='ana/MNE/evo_list/maskOFF/correct/cfa/hep/norm/'\n",
    "filename_1=f\"maskOFF_correct_cfa_hep_norm_{cond1}_list-ave.fif\"\n",
    "fp_1=filepath+filename_1\n",
    "evo_1=mne.read_evokeds(fp_1)\n",
    "filename_2=f\"maskOFF_correct_cfa_hep_norm_{cond2}_list-ave.fif\"\n",
    "fp_2=filepath+filename_2\n",
    "evo_2=mne.read_evokeds(fp_2)"
   ],
   "metadata": {
    "collapsed": false,
    "ExecuteTime": {
     "end_time": "2025-05-13T14:07:14.999617500Z",
     "start_time": "2025-05-13T14:07:08.100189800Z"
    }
   }
  },
  {
   "cell_type": "code",
   "execution_count": 136,
   "outputs": [
    {
     "name": "stderr",
     "output_type": "stream",
     "text": [
      "C:\\Users\\Vivi\\Documents\\GitHub\\unfold_proj\\stats\\stats_helper.py:134: RuntimeWarning: tmin is not in Evoked time interval. tmin is set to evoked.tmin (-0.199219 sec)\n",
      "  data_crop = evoked[0].copy().crop(crop_value[0], crop_value[1])\n",
      "C:\\Users\\Vivi\\Documents\\GitHub\\unfold_proj\\stats\\stats_helper.py:151: RuntimeWarning: tmin is not in Evoked time interval. tmin is set to evoked.tmin (-0.199219 sec)\n",
      "  X[idx, :, :] = ev.copy().crop(crop_value[0], crop_value[1]).data\n",
      "C:\\Users\\Vivi\\Documents\\GitHub\\unfold_proj\\stats\\stats_helper.py:151: RuntimeWarning: tmin is not in Evoked time interval. tmin is set to evoked.tmin (-0.199219 sec)\n",
      "  X[idx, :, :] = ev.copy().crop(crop_value[0], crop_value[1]).data\n",
      "C:\\Users\\Vivi\\Documents\\GitHub\\unfold_proj\\stats\\stats_helper.py:151: RuntimeWarning: tmin is not in Evoked time interval. tmin is set to evoked.tmin (-0.199219 sec)\n",
      "  X[idx, :, :] = ev.copy().crop(crop_value[0], crop_value[1]).data\n",
      "C:\\Users\\Vivi\\Documents\\GitHub\\unfold_proj\\stats\\stats_helper.py:151: RuntimeWarning: tmin is not in Evoked time interval. tmin is set to evoked.tmin (-0.199219 sec)\n",
      "  X[idx, :, :] = ev.copy().crop(crop_value[0], crop_value[1]).data\n",
      "C:\\Users\\Vivi\\Documents\\GitHub\\unfold_proj\\stats\\stats_helper.py:151: RuntimeWarning: tmin is not in Evoked time interval. tmin is set to evoked.tmin (-0.199219 sec)\n",
      "  X[idx, :, :] = ev.copy().crop(crop_value[0], crop_value[1]).data\n",
      "C:\\Users\\Vivi\\Documents\\GitHub\\unfold_proj\\stats\\stats_helper.py:151: RuntimeWarning: tmin is not in Evoked time interval. tmin is set to evoked.tmin (-0.199219 sec)\n",
      "  X[idx, :, :] = ev.copy().crop(crop_value[0], crop_value[1]).data\n",
      "C:\\Users\\Vivi\\Documents\\GitHub\\unfold_proj\\stats\\stats_helper.py:151: RuntimeWarning: tmin is not in Evoked time interval. tmin is set to evoked.tmin (-0.199219 sec)\n",
      "  X[idx, :, :] = ev.copy().crop(crop_value[0], crop_value[1]).data\n",
      "C:\\Users\\Vivi\\Documents\\GitHub\\unfold_proj\\stats\\stats_helper.py:151: RuntimeWarning: tmin is not in Evoked time interval. tmin is set to evoked.tmin (-0.199219 sec)\n",
      "  X[idx, :, :] = ev.copy().crop(crop_value[0], crop_value[1]).data\n",
      "C:\\Users\\Vivi\\Documents\\GitHub\\unfold_proj\\stats\\stats_helper.py:151: RuntimeWarning: tmin is not in Evoked time interval. tmin is set to evoked.tmin (-0.199219 sec)\n",
      "  X[idx, :, :] = ev.copy().crop(crop_value[0], crop_value[1]).data\n",
      "C:\\Users\\Vivi\\Documents\\GitHub\\unfold_proj\\stats\\stats_helper.py:151: RuntimeWarning: tmin is not in Evoked time interval. tmin is set to evoked.tmin (-0.199219 sec)\n",
      "  X[idx, :, :] = ev.copy().crop(crop_value[0], crop_value[1]).data\n",
      "C:\\Users\\Vivi\\Documents\\GitHub\\unfold_proj\\stats\\stats_helper.py:151: RuntimeWarning: tmin is not in Evoked time interval. tmin is set to evoked.tmin (-0.199219 sec)\n",
      "  X[idx, :, :] = ev.copy().crop(crop_value[0], crop_value[1]).data\n",
      "C:\\Users\\Vivi\\Documents\\GitHub\\unfold_proj\\stats\\stats_helper.py:151: RuntimeWarning: tmin is not in Evoked time interval. tmin is set to evoked.tmin (-0.199219 sec)\n",
      "  X[idx, :, :] = ev.copy().crop(crop_value[0], crop_value[1]).data\n",
      "C:\\Users\\Vivi\\Documents\\GitHub\\unfold_proj\\stats\\stats_helper.py:151: RuntimeWarning: tmin is not in Evoked time interval. tmin is set to evoked.tmin (-0.199219 sec)\n",
      "  X[idx, :, :] = ev.copy().crop(crop_value[0], crop_value[1]).data\n",
      "C:\\Users\\Vivi\\Documents\\GitHub\\unfold_proj\\stats\\stats_helper.py:151: RuntimeWarning: tmin is not in Evoked time interval. tmin is set to evoked.tmin (-0.199219 sec)\n",
      "  X[idx, :, :] = ev.copy().crop(crop_value[0], crop_value[1]).data\n",
      "C:\\Users\\Vivi\\Documents\\GitHub\\unfold_proj\\stats\\stats_helper.py:151: RuntimeWarning: tmin is not in Evoked time interval. tmin is set to evoked.tmin (-0.199219 sec)\n",
      "  X[idx, :, :] = ev.copy().crop(crop_value[0], crop_value[1]).data\n",
      "C:\\Users\\Vivi\\Documents\\GitHub\\unfold_proj\\stats\\stats_helper.py:151: RuntimeWarning: tmin is not in Evoked time interval. tmin is set to evoked.tmin (-0.199219 sec)\n",
      "  X[idx, :, :] = ev.copy().crop(crop_value[0], crop_value[1]).data\n",
      "C:\\Users\\Vivi\\Documents\\GitHub\\unfold_proj\\stats\\stats_helper.py:151: RuntimeWarning: tmin is not in Evoked time interval. tmin is set to evoked.tmin (-0.199219 sec)\n",
      "  X[idx, :, :] = ev.copy().crop(crop_value[0], crop_value[1]).data\n",
      "C:\\Users\\Vivi\\Documents\\GitHub\\unfold_proj\\stats\\stats_helper.py:151: RuntimeWarning: tmin is not in Evoked time interval. tmin is set to evoked.tmin (-0.199219 sec)\n",
      "  X[idx, :, :] = ev.copy().crop(crop_value[0], crop_value[1]).data\n",
      "C:\\Users\\Vivi\\Documents\\GitHub\\unfold_proj\\stats\\stats_helper.py:151: RuntimeWarning: tmin is not in Evoked time interval. tmin is set to evoked.tmin (-0.199219 sec)\n",
      "  X[idx, :, :] = ev.copy().crop(crop_value[0], crop_value[1]).data\n",
      "C:\\Users\\Vivi\\Documents\\GitHub\\unfold_proj\\stats\\stats_helper.py:151: RuntimeWarning: tmin is not in Evoked time interval. tmin is set to evoked.tmin (-0.199219 sec)\n",
      "  X[idx, :, :] = ev.copy().crop(crop_value[0], crop_value[1]).data\n",
      "C:\\Users\\Vivi\\Documents\\GitHub\\unfold_proj\\stats\\stats_helper.py:151: RuntimeWarning: tmin is not in Evoked time interval. tmin is set to evoked.tmin (-0.199219 sec)\n",
      "  X[idx, :, :] = ev.copy().crop(crop_value[0], crop_value[1]).data\n",
      "C:\\Users\\Vivi\\Documents\\GitHub\\unfold_proj\\stats\\stats_helper.py:151: RuntimeWarning: tmin is not in Evoked time interval. tmin is set to evoked.tmin (-0.199219 sec)\n",
      "  X[idx, :, :] = ev.copy().crop(crop_value[0], crop_value[1]).data\n",
      "C:\\Users\\Vivi\\Documents\\GitHub\\unfold_proj\\stats\\stats_helper.py:151: RuntimeWarning: tmin is not in Evoked time interval. tmin is set to evoked.tmin (-0.199219 sec)\n",
      "  X[idx, :, :] = ev.copy().crop(crop_value[0], crop_value[1]).data\n",
      "C:\\Users\\Vivi\\Documents\\GitHub\\unfold_proj\\stats\\stats_helper.py:151: RuntimeWarning: tmin is not in Evoked time interval. tmin is set to evoked.tmin (-0.199219 sec)\n",
      "  X[idx, :, :] = ev.copy().crop(crop_value[0], crop_value[1]).data\n",
      "C:\\Users\\Vivi\\Documents\\GitHub\\unfold_proj\\stats\\stats_helper.py:151: RuntimeWarning: tmin is not in Evoked time interval. tmin is set to evoked.tmin (-0.199219 sec)\n",
      "  X[idx, :, :] = ev.copy().crop(crop_value[0], crop_value[1]).data\n",
      "C:\\Users\\Vivi\\Documents\\GitHub\\unfold_proj\\stats\\stats_helper.py:151: RuntimeWarning: tmin is not in Evoked time interval. tmin is set to evoked.tmin (-0.199219 sec)\n",
      "  X[idx, :, :] = ev.copy().crop(crop_value[0], crop_value[1]).data\n",
      "C:\\Users\\Vivi\\Documents\\GitHub\\unfold_proj\\stats\\stats_helper.py:151: RuntimeWarning: tmin is not in Evoked time interval. tmin is set to evoked.tmin (-0.199219 sec)\n",
      "  X[idx, :, :] = ev.copy().crop(crop_value[0], crop_value[1]).data\n",
      "C:\\Users\\Vivi\\Documents\\GitHub\\unfold_proj\\stats\\stats_helper.py:151: RuntimeWarning: tmin is not in Evoked time interval. tmin is set to evoked.tmin (-0.199219 sec)\n",
      "  X[idx, :, :] = ev.copy().crop(crop_value[0], crop_value[1]).data\n",
      "C:\\Users\\Vivi\\Documents\\GitHub\\unfold_proj\\stats\\stats_helper.py:151: RuntimeWarning: tmin is not in Evoked time interval. tmin is set to evoked.tmin (-0.199219 sec)\n",
      "  X[idx, :, :] = ev.copy().crop(crop_value[0], crop_value[1]).data\n",
      "C:\\Users\\Vivi\\Documents\\GitHub\\unfold_proj\\stats\\stats_helper.py:151: RuntimeWarning: tmin is not in Evoked time interval. tmin is set to evoked.tmin (-0.199219 sec)\n",
      "  X[idx, :, :] = ev.copy().crop(crop_value[0], crop_value[1]).data\n",
      "C:\\Users\\Vivi\\Documents\\GitHub\\unfold_proj\\stats\\stats_helper.py:134: RuntimeWarning: tmin is not in Evoked time interval. tmin is set to evoked.tmin (-0.199219 sec)\n",
      "  data_crop = evoked[0].copy().crop(crop_value[0], crop_value[1])\n",
      "C:\\Users\\Vivi\\Documents\\GitHub\\unfold_proj\\stats\\stats_helper.py:151: RuntimeWarning: tmin is not in Evoked time interval. tmin is set to evoked.tmin (-0.199219 sec)\n",
      "  X[idx, :, :] = ev.copy().crop(crop_value[0], crop_value[1]).data\n",
      "C:\\Users\\Vivi\\Documents\\GitHub\\unfold_proj\\stats\\stats_helper.py:151: RuntimeWarning: tmin is not in Evoked time interval. tmin is set to evoked.tmin (-0.199219 sec)\n",
      "  X[idx, :, :] = ev.copy().crop(crop_value[0], crop_value[1]).data\n",
      "C:\\Users\\Vivi\\Documents\\GitHub\\unfold_proj\\stats\\stats_helper.py:151: RuntimeWarning: tmin is not in Evoked time interval. tmin is set to evoked.tmin (-0.199219 sec)\n",
      "  X[idx, :, :] = ev.copy().crop(crop_value[0], crop_value[1]).data\n",
      "C:\\Users\\Vivi\\Documents\\GitHub\\unfold_proj\\stats\\stats_helper.py:151: RuntimeWarning: tmin is not in Evoked time interval. tmin is set to evoked.tmin (-0.199219 sec)\n",
      "  X[idx, :, :] = ev.copy().crop(crop_value[0], crop_value[1]).data\n",
      "C:\\Users\\Vivi\\Documents\\GitHub\\unfold_proj\\stats\\stats_helper.py:151: RuntimeWarning: tmin is not in Evoked time interval. tmin is set to evoked.tmin (-0.199219 sec)\n",
      "  X[idx, :, :] = ev.copy().crop(crop_value[0], crop_value[1]).data\n",
      "C:\\Users\\Vivi\\Documents\\GitHub\\unfold_proj\\stats\\stats_helper.py:151: RuntimeWarning: tmin is not in Evoked time interval. tmin is set to evoked.tmin (-0.199219 sec)\n",
      "  X[idx, :, :] = ev.copy().crop(crop_value[0], crop_value[1]).data\n",
      "C:\\Users\\Vivi\\Documents\\GitHub\\unfold_proj\\stats\\stats_helper.py:151: RuntimeWarning: tmin is not in Evoked time interval. tmin is set to evoked.tmin (-0.199219 sec)\n",
      "  X[idx, :, :] = ev.copy().crop(crop_value[0], crop_value[1]).data\n",
      "C:\\Users\\Vivi\\Documents\\GitHub\\unfold_proj\\stats\\stats_helper.py:151: RuntimeWarning: tmin is not in Evoked time interval. tmin is set to evoked.tmin (-0.199219 sec)\n",
      "  X[idx, :, :] = ev.copy().crop(crop_value[0], crop_value[1]).data\n",
      "C:\\Users\\Vivi\\Documents\\GitHub\\unfold_proj\\stats\\stats_helper.py:151: RuntimeWarning: tmin is not in Evoked time interval. tmin is set to evoked.tmin (-0.199219 sec)\n",
      "  X[idx, :, :] = ev.copy().crop(crop_value[0], crop_value[1]).data\n",
      "C:\\Users\\Vivi\\Documents\\GitHub\\unfold_proj\\stats\\stats_helper.py:151: RuntimeWarning: tmin is not in Evoked time interval. tmin is set to evoked.tmin (-0.199219 sec)\n",
      "  X[idx, :, :] = ev.copy().crop(crop_value[0], crop_value[1]).data\n",
      "C:\\Users\\Vivi\\Documents\\GitHub\\unfold_proj\\stats\\stats_helper.py:151: RuntimeWarning: tmin is not in Evoked time interval. tmin is set to evoked.tmin (-0.199219 sec)\n",
      "  X[idx, :, :] = ev.copy().crop(crop_value[0], crop_value[1]).data\n",
      "C:\\Users\\Vivi\\Documents\\GitHub\\unfold_proj\\stats\\stats_helper.py:151: RuntimeWarning: tmin is not in Evoked time interval. tmin is set to evoked.tmin (-0.199219 sec)\n",
      "  X[idx, :, :] = ev.copy().crop(crop_value[0], crop_value[1]).data\n",
      "C:\\Users\\Vivi\\Documents\\GitHub\\unfold_proj\\stats\\stats_helper.py:151: RuntimeWarning: tmin is not in Evoked time interval. tmin is set to evoked.tmin (-0.199219 sec)\n",
      "  X[idx, :, :] = ev.copy().crop(crop_value[0], crop_value[1]).data\n",
      "C:\\Users\\Vivi\\Documents\\GitHub\\unfold_proj\\stats\\stats_helper.py:151: RuntimeWarning: tmin is not in Evoked time interval. tmin is set to evoked.tmin (-0.199219 sec)\n",
      "  X[idx, :, :] = ev.copy().crop(crop_value[0], crop_value[1]).data\n",
      "C:\\Users\\Vivi\\Documents\\GitHub\\unfold_proj\\stats\\stats_helper.py:151: RuntimeWarning: tmin is not in Evoked time interval. tmin is set to evoked.tmin (-0.199219 sec)\n",
      "  X[idx, :, :] = ev.copy().crop(crop_value[0], crop_value[1]).data\n",
      "C:\\Users\\Vivi\\Documents\\GitHub\\unfold_proj\\stats\\stats_helper.py:151: RuntimeWarning: tmin is not in Evoked time interval. tmin is set to evoked.tmin (-0.199219 sec)\n",
      "  X[idx, :, :] = ev.copy().crop(crop_value[0], crop_value[1]).data\n",
      "C:\\Users\\Vivi\\Documents\\GitHub\\unfold_proj\\stats\\stats_helper.py:151: RuntimeWarning: tmin is not in Evoked time interval. tmin is set to evoked.tmin (-0.199219 sec)\n",
      "  X[idx, :, :] = ev.copy().crop(crop_value[0], crop_value[1]).data\n",
      "C:\\Users\\Vivi\\Documents\\GitHub\\unfold_proj\\stats\\stats_helper.py:151: RuntimeWarning: tmin is not in Evoked time interval. tmin is set to evoked.tmin (-0.199219 sec)\n",
      "  X[idx, :, :] = ev.copy().crop(crop_value[0], crop_value[1]).data\n",
      "C:\\Users\\Vivi\\Documents\\GitHub\\unfold_proj\\stats\\stats_helper.py:151: RuntimeWarning: tmin is not in Evoked time interval. tmin is set to evoked.tmin (-0.199219 sec)\n",
      "  X[idx, :, :] = ev.copy().crop(crop_value[0], crop_value[1]).data\n",
      "C:\\Users\\Vivi\\Documents\\GitHub\\unfold_proj\\stats\\stats_helper.py:151: RuntimeWarning: tmin is not in Evoked time interval. tmin is set to evoked.tmin (-0.199219 sec)\n",
      "  X[idx, :, :] = ev.copy().crop(crop_value[0], crop_value[1]).data\n",
      "C:\\Users\\Vivi\\Documents\\GitHub\\unfold_proj\\stats\\stats_helper.py:151: RuntimeWarning: tmin is not in Evoked time interval. tmin is set to evoked.tmin (-0.199219 sec)\n",
      "  X[idx, :, :] = ev.copy().crop(crop_value[0], crop_value[1]).data\n",
      "C:\\Users\\Vivi\\Documents\\GitHub\\unfold_proj\\stats\\stats_helper.py:151: RuntimeWarning: tmin is not in Evoked time interval. tmin is set to evoked.tmin (-0.199219 sec)\n",
      "  X[idx, :, :] = ev.copy().crop(crop_value[0], crop_value[1]).data\n",
      "C:\\Users\\Vivi\\Documents\\GitHub\\unfold_proj\\stats\\stats_helper.py:151: RuntimeWarning: tmin is not in Evoked time interval. tmin is set to evoked.tmin (-0.199219 sec)\n",
      "  X[idx, :, :] = ev.copy().crop(crop_value[0], crop_value[1]).data\n",
      "C:\\Users\\Vivi\\Documents\\GitHub\\unfold_proj\\stats\\stats_helper.py:151: RuntimeWarning: tmin is not in Evoked time interval. tmin is set to evoked.tmin (-0.199219 sec)\n",
      "  X[idx, :, :] = ev.copy().crop(crop_value[0], crop_value[1]).data\n",
      "C:\\Users\\Vivi\\Documents\\GitHub\\unfold_proj\\stats\\stats_helper.py:151: RuntimeWarning: tmin is not in Evoked time interval. tmin is set to evoked.tmin (-0.199219 sec)\n",
      "  X[idx, :, :] = ev.copy().crop(crop_value[0], crop_value[1]).data\n",
      "C:\\Users\\Vivi\\Documents\\GitHub\\unfold_proj\\stats\\stats_helper.py:151: RuntimeWarning: tmin is not in Evoked time interval. tmin is set to evoked.tmin (-0.199219 sec)\n",
      "  X[idx, :, :] = ev.copy().crop(crop_value[0], crop_value[1]).data\n",
      "C:\\Users\\Vivi\\Documents\\GitHub\\unfold_proj\\stats\\stats_helper.py:151: RuntimeWarning: tmin is not in Evoked time interval. tmin is set to evoked.tmin (-0.199219 sec)\n",
      "  X[idx, :, :] = ev.copy().crop(crop_value[0], crop_value[1]).data\n",
      "C:\\Users\\Vivi\\Documents\\GitHub\\unfold_proj\\stats\\stats_helper.py:151: RuntimeWarning: tmin is not in Evoked time interval. tmin is set to evoked.tmin (-0.199219 sec)\n",
      "  X[idx, :, :] = ev.copy().crop(crop_value[0], crop_value[1]).data\n",
      "C:\\Users\\Vivi\\Documents\\GitHub\\unfold_proj\\stats\\stats_helper.py:151: RuntimeWarning: tmin is not in Evoked time interval. tmin is set to evoked.tmin (-0.199219 sec)\n",
      "  X[idx, :, :] = ev.copy().crop(crop_value[0], crop_value[1]).data\n",
      "C:\\Users\\Vivi\\Documents\\GitHub\\unfold_proj\\stats\\stats_helper.py:151: RuntimeWarning: tmin is not in Evoked time interval. tmin is set to evoked.tmin (-0.199219 sec)\n",
      "  X[idx, :, :] = ev.copy().crop(crop_value[0], crop_value[1]).data\n"
     ]
    },
    {
     "name": "stdout",
     "output_type": "stream",
     "text": [
      "(30, 128, 257)\n",
      "(30, 128, 257)\n",
      "-0.2\n"
     ]
    },
    {
     "data": {
      "text/plain": "(array([[ 0.38364904,  0.13064933, -0.13025776, ...,  4.68183834,\n          4.56078523,  4.53161644],\n        [-0.96970458, -1.26204709, -1.55719402, ...,  6.7411199 ,\n          6.56867121,  6.38699104],\n        [-2.41905023, -2.62215091, -2.84065058, ...,  7.16505974,\n          6.9884192 ,  6.85274007],\n        ...,\n        [-2.02571562, -2.17316039, -2.07879787, ...,  1.19254948,\n          1.53183285,  1.85181908],\n        [-0.76686227, -0.82565364, -0.724548  , ..., -1.01394771,\n         -0.76216541, -0.41024876],\n        [-0.5046647 , -0.40400419, -0.12667367, ..., -2.5585053 ,\n         -2.24770685, -2.03072342]]),\n array([[7.04036946e-01, 8.96954818e-01, 8.97261850e-01, ...,\n         6.13746020e-05, 8.58252735e-05, 9.30373004e-05],\n        [3.40212435e-01, 2.16987846e-01, 1.30271753e-01, ...,\n         2.13294570e-07, 3.39012885e-07, 5.54081094e-07],\n        [2.20635038e-02, 1.37763397e-02, 8.15033823e-03, ...,\n         6.91903443e-08, 1.10339093e-07, 1.58280983e-07],\n        ...,\n        [5.20826956e-02, 3.80789003e-02, 4.65888173e-02, ...,\n         2.42712633e-01, 1.36401067e-01, 7.42580365e-02],\n        [4.49361689e-01, 4.15741481e-01, 4.74534922e-01, ...,\n         3.18993090e-01, 4.52116017e-01, 6.84638658e-01],\n        [6.17607810e-01, 6.89173592e-01, 9.00072905e-01, ...,\n         1.59967473e-02, 3.23692742e-02, 5.15410632e-02]]))"
     },
     "execution_count": 136,
     "metadata": {},
     "output_type": "execute_result"
    }
   ],
   "source": [
    "s_hp.tTest_ana([evo_1,evo_2],crop_value=(-0.2,0.8),p_val=.005)"
   ],
   "metadata": {
    "collapsed": false,
    "ExecuteTime": {
     "end_time": "2025-05-13T07:56:48.779416200Z",
     "start_time": "2025-05-13T07:56:47.955123100Z"
    }
   }
  },
  {
   "cell_type": "code",
   "execution_count": 263,
   "outputs": [
    {
     "name": "stdout",
     "output_type": "stream",
     "text": [
      "combining channels using \"mean\"\n"
     ]
    },
    {
     "name": "stderr",
     "output_type": "stream",
     "text": [
      "C:\\Users\\Vivi\\AppData\\Local\\Temp\\ipykernel_4024\\3109885288.py:3: RuntimeWarning: Only 1 channel in \"picks\"; cannot combine by method \"mean\".\n",
      "  fig_fin=mne.viz.plot_compare_evokeds(evokeds,ci=False, picks=picked,show_sensors=True,legend='upper right',truncate_yaxis=False,combine='mean')\n"
     ]
    }
   ],
   "source": [
    "evokeds=dict(R=evo_1)\n",
    "picked=('A23')\n",
    "fig_fin=mne.viz.plot_compare_evokeds(evokeds,ci=False, picks=picked,show_sensors=True,legend='upper right',truncate_yaxis=False,combine='mean')\n"
   ],
   "metadata": {
    "collapsed": false,
    "ExecuteTime": {
     "end_time": "2025-05-13T14:13:55.353322100Z",
     "start_time": "2025-05-13T14:13:55.131136900Z"
    }
   }
  },
  {
   "cell_type": "code",
   "execution_count": 265,
   "outputs": [],
   "source": [
    "modtype='rawerps'\n",
    "erp_type='hep'\n",
    "cond='R'\n",
    "file_dir=f'ana/deconvolution/figures/waveforms_gavg_{modtype}_{erp_type}_{cond}_nodc.svg'\n",
    "fig_fin[0].savefig(file_dir,format='svg')"
   ],
   "metadata": {
    "collapsed": false,
    "ExecuteTime": {
     "end_time": "2025-05-13T14:14:28.755648900Z",
     "start_time": "2025-05-13T14:14:28.515180200Z"
    }
   }
  },
  {
   "cell_type": "code",
   "execution_count": 266,
   "outputs": [
    {
     "name": "stdout",
     "output_type": "stream",
     "text": [
      "combining channels using \"mean\"\n"
     ]
    },
    {
     "name": "stderr",
     "output_type": "stream",
     "text": [
      "C:\\Users\\Vivi\\AppData\\Local\\Temp\\ipykernel_4024\\548891214.py:2: RuntimeWarning: Only 1 channel in \"picks\"; cannot combine by method \"mean\".\n",
      "  fig_fin=mne.viz.plot_compare_evokeds(evokeds,ci=False, picks=picked,show_sensors=True,legend='upper right',truncate_yaxis=False,combine='mean')\n"
     ]
    }
   ],
   "source": [
    "evokeds=dict(R2=evo_2)\n",
    "fig_fin=mne.viz.plot_compare_evokeds(evokeds,ci=False, picks=picked,show_sensors=True,legend='upper right',truncate_yaxis=False,combine='mean')"
   ],
   "metadata": {
    "collapsed": false,
    "ExecuteTime": {
     "end_time": "2025-05-13T14:14:35.735100300Z",
     "start_time": "2025-05-13T14:14:35.510677200Z"
    }
   }
  },
  {
   "cell_type": "code",
   "execution_count": 267,
   "outputs": [],
   "source": [
    "cond='R2'\n",
    "file_dir=f'ana/deconvolution/figures/waveforms_gavg_{modtype}_{erp_type}_{cond}_nodc.svg'\n",
    "fig_fin[0].savefig(file_dir,format='svg')"
   ],
   "metadata": {
    "collapsed": false,
    "ExecuteTime": {
     "end_time": "2025-05-13T14:14:36.832535300Z",
     "start_time": "2025-05-13T14:14:36.610181600Z"
    }
   }
  },
  {
   "cell_type": "code",
   "execution_count": null,
   "outputs": [],
   "source": [],
   "metadata": {
    "collapsed": false
   }
  }
 ],
 "metadata": {
  "kernelspec": {
   "name": "mne",
   "language": "python",
   "display_name": "Python (mne)"
  },
  "language_info": {
   "codemirror_mode": {
    "name": "ipython",
    "version": 2
   },
   "file_extension": ".py",
   "mimetype": "text/x-python",
   "name": "python",
   "nbconvert_exporter": "python",
   "pygments_lexer": "ipython2",
   "version": "2.7.6"
  }
 },
 "nbformat": 4,
 "nbformat_minor": 5
}
