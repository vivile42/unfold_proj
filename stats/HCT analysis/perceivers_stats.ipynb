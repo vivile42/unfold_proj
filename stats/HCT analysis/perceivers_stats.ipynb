{
 "cells": [
  {
   "cell_type": "code",
   "execution_count": 1,
   "outputs": [
    {
     "name": "stderr",
     "output_type": "stream",
     "text": [
      "C:\\Users\\Vivi\\anaconda3\\envs\\mne\\lib\\site-packages\\outdated\\utils.py:14: OutdatedPackageWarning: The package pingouin is out of date. Your version is 0.5.3, the latest is 0.5.5.\n",
      "Set the environment variable OUTDATED_IGNORE=1 to disable these warnings.\n",
      "  return warn(\n",
      "C:\\Users\\Vivi\\anaconda3\\envs\\mne\\lib\\site-packages\\outdated\\utils.py:14: OutdatedPackageWarning: The package outdated is out of date. Your version is 0.2.1, the latest is 0.2.2.\n",
      "Set the environment variable OUTDATED_IGNORE=1 to disable these warnings.\n",
      "  return warn(\n"
     ]
    }
   ],
   "source": [
    "\n",
    "import pandas as pd\n",
    "import re #regex library to format fast to read into pd\n",
    "import os\n",
    "\n",
    "import matplotlib.pyplot as plt\n",
    "import feather\n",
    "\n",
    "import numpy as np\n",
    "import platform\n",
    "import mne\n",
    "\n",
    "\n",
    "from mne.channels import find_ch_adjacency, make_1020_channel_selections\n",
    "from mne.stats import spatio_temporal_cluster_test\n",
    "from mne.stats import (ttest_1samp_no_p, bonferroni_correction, fdr_correction,\n",
    "\n",
    "\n",
    "                       permutation_t_test, permutation_cluster_1samp_test,spatio_temporal_cluster_1samp_test)\n",
    "import sys\n",
    "if platform.system()=='Darwin':\n",
    "    os.chdir('/Volumes/BBC/BBC/WP1/data/EEG/tsk/')\n",
    "    #sys.path.append('/Users/leupinv/BBC/WP1/data/Code/python/BBC')\n",
    "    #if this doesn't work pound line right above this, restart the kernel, rerun the cell.\n",
    "    #Then uncomment the same line and rerun\n",
    "\n",
    "else:\n",
    "    #os.chdir('Z:/BBC/WP1/data/EEG/tsk')\n",
    "    #sys.path.append('C:/Users/Vivi/switchdrive/BBC/WP1/data/Code/python/BBC')\n",
    "    os.chdir('Z:/BBC/WP1/data/EEG/tsk')\n",
    "\n",
    "from base.files_in_out import getListOfFiles,GetFiles\n",
    "from stats.stats_helper import filter_list, tTest_ana\n",
    "import stats.t_tests_cluster as clus\n",
    "import stats.stats_helper as s_hp\n",
    "import base.base_constants as cs\n",
    "from stats.stats_helper import filter_list, tTest_ana, filter_list_equal"
   ],
   "metadata": {
    "collapsed": false,
    "ExecuteTime": {
     "end_time": "2025-08-29T15:52:16.133513600Z",
     "start_time": "2025-08-29T15:52:14.772653300Z"
    }
   }
  },
  {
   "cell_type": "code",
   "execution_count": 2,
   "outputs": [],
   "source": [
    "%load_ext autoreload\n",
    "%autoreload 2\n",
    "import matplotlib as mpl\n",
    "mpl.rcParams['svg.fonttype']='none'\n",
    "mpl.rcParams['text.usetex']=False\n",
    "plt.style.use('default')\n",
    "\n",
    "mpl.rcParams['svg.fonttype']='none'\n",
    "mpl.rcParams['text.usetex']=False"
   ],
   "metadata": {
    "collapsed": false,
    "ExecuteTime": {
     "end_time": "2025-08-29T15:52:19.710536400Z",
     "start_time": "2025-08-29T15:52:19.574756700Z"
    }
   }
  },
  {
   "cell_type": "code",
   "execution_count": 3,
   "outputs": [],
   "source": [
    "def data_cutter(data, time_limits=[-0.3, 0.8], new_time_limits=[0.2, 0.6], sfreq=256):\n",
    "    \"\"\"\n",
    "    Cuts a 3D EEG data array ( time x electrodes) based on specified time limits.\n",
    "    Parameters:\n",
    "        data (np.ndarray): EEG data of shape (electrodes, time)\n",
    "        time_limits (list of float): Original epoch time range in seconds (e.g., [-0.3, 0.8])\n",
    "        new_time_limits (list of float): Desired time range to extract (e.g., [0.2, 0.6])\n",
    "        sfreq (int): Sampling frequency in Hz (default is 256)\n",
    "    Returns:\n",
    "        np.ndarray: The cut data with shape (new_time_points,electrodes)\n",
    "    \"\"\"\n",
    "    # Calculate the sample indices corresponding to the new time limits\n",
    "    start_idx = int(np.round((new_time_limits[0] - time_limits[0]) * sfreq))\n",
    "    end_idx = int(np.round((new_time_limits[1] - time_limits[0]) * sfreq))\n",
    "    # Cut the data along the time dimension (axis=1)\n",
    "    return data[start_idx:end_idx,:]\n",
    "\n"
   ],
   "metadata": {
    "collapsed": false,
    "ExecuteTime": {
     "end_time": "2025-08-29T15:52:21.221375400Z",
     "start_time": "2025-08-29T15:52:21.096330100Z"
    }
   }
  },
  {
   "cell_type": "markdown",
   "source": [
    "# Figure 2b\n",
    "HCT data and descriptives"
   ],
   "metadata": {
    "collapsed": false
   }
  },
  {
   "cell_type": "markdown",
   "source": [],
   "metadata": {
    "collapsed": false
   }
  },
  {
   "cell_type": "code",
   "execution_count": 4,
   "outputs": [],
   "source": [
    "filepath='Z:/BBC\\WP1\\data\\EEG\\int/ana/behav/group_n_int_acc_df.feather'\n",
    "hbc_df=pd.read_feather(filepath)"
   ],
   "metadata": {
    "collapsed": false,
    "ExecuteTime": {
     "end_time": "2025-08-29T15:52:33.805502200Z",
     "start_time": "2025-08-29T15:52:33.624452900Z"
    }
   }
  },
  {
   "cell_type": "code",
   "execution_count": 5,
   "outputs": [
    {
     "data": {
      "text/plain": "<AxesSubplot:xlabel='mean_int', ylabel='Count'>"
     },
     "execution_count": 5,
     "metadata": {},
     "output_type": "execute_result"
    },
    {
     "data": {
      "text/plain": "<Figure size 432x288 with 1 Axes>",
      "image/png": "[encoded data removed]"
     },
     "metadata": {
      "needs_background": "light"
     },
     "output_type": "display_data"
    }
   ],
   "source": [
    "import seaborn as sns\n",
    "sns.histplot(hbc_df['mean_int'],bins=10)"
   ],
   "metadata": {
    "collapsed": false,
    "ExecuteTime": {
     "end_time": "2025-08-24T13:51:29.309402600Z",
     "start_time": "2025-08-24T13:51:28.976715900Z"
    }
   }
  },
  {
   "cell_type": "code",
   "execution_count": 5,
   "outputs": [
    {
     "ename": "NameError",
     "evalue": "name 'sns' is not defined",
     "output_type": "error",
     "traceback": [
      "\u001B[1;31m---------------------------------------------------------------------------\u001B[0m",
      "\u001B[1;31mNameError\u001B[0m                                 Traceback (most recent call last)",
      "Input \u001B[1;32mIn [5]\u001B[0m, in \u001B[0;36m<cell line: 1>\u001B[1;34m()\u001B[0m\n\u001B[1;32m----> 1\u001B[0m ax\u001B[38;5;241m=\u001B[39m\u001B[43msns\u001B[49m\u001B[38;5;241m.\u001B[39mviolinplot(data\u001B[38;5;241m=\u001B[39mhbc_df,x\u001B[38;5;241m=\u001B[39m\u001B[38;5;124m'\u001B[39m\u001B[38;5;124mmean_int\u001B[39m\u001B[38;5;124m'\u001B[39m,inner\u001B[38;5;241m=\u001B[39m\u001B[38;5;124m'\u001B[39m\u001B[38;5;124mbox\u001B[39m\u001B[38;5;124m'\u001B[39m)\n\u001B[0;32m      2\u001B[0m med\u001B[38;5;241m=\u001B[39mhbc_df[\u001B[38;5;124m'\u001B[39m\u001B[38;5;124mmean_int\u001B[39m\u001B[38;5;124m'\u001B[39m]\u001B[38;5;241m.\u001B[39mmedian()\n\u001B[0;32m      3\u001B[0m ax\u001B[38;5;241m.\u001B[39mvlines(x\u001B[38;5;241m=\u001B[39mmed,ymin\u001B[38;5;241m=\u001B[39m\u001B[38;5;241m-\u001B[39m\u001B[38;5;241m0.4\u001B[39m,ymax\u001B[38;5;241m=\u001B[39m\u001B[38;5;241m0.4\u001B[39m,color\u001B[38;5;241m=\u001B[39m\u001B[38;5;124m\"\u001B[39m\u001B[38;5;124mred\u001B[39m\u001B[38;5;124m\"\u001B[39m,linewidth\u001B[38;5;241m=\u001B[39m\u001B[38;5;241m2.5\u001B[39m)\n",
      "\u001B[1;31mNameError\u001B[0m: name 'sns' is not defined"
     ]
    }
   ],
   "source": [
    "ax=sns.violinplot(data=hbc_df,x='mean_int',inner='box')\n",
    "med=hbc_df['mean_int'].median()\n",
    "ax.vlines(x=med,ymin=-0.4,ymax=0.4,color=\"red\",linewidth=2.5)\n",
    "#ax.set_xlim(0,1)"
   ],
   "metadata": {
    "collapsed": false,
    "ExecuteTime": {
     "end_time": "2025-08-29T15:52:38.269192600Z",
     "start_time": "2025-08-29T15:52:37.507853800Z"
    }
   }
  },
  {
   "cell_type": "code",
   "execution_count": 57,
   "outputs": [
    {
     "data": {
      "text/plain": "0.403133414077417"
     },
     "execution_count": 57,
     "metadata": {},
     "output_type": "execute_result"
    }
   ],
   "source": [
    "hbc_df['mean_int'].median()"
   ],
   "metadata": {
    "collapsed": false,
    "ExecuteTime": {
     "end_time": "2025-08-25T12:52:31.753216300Z",
     "start_time": "2025-08-25T12:52:31.587396900Z"
    }
   }
  },
  {
   "cell_type": "code",
   "execution_count": 56,
   "outputs": [],
   "source": [
    "plt.tight_layout()\n",
    "file_dir='ana/deconvolution/figures/violinplot_HCT.svg'\n",
    "plt.savefig(file_dir, format='svg')\n",
    "plt.close()"
   ],
   "metadata": {
    "collapsed": false,
    "ExecuteTime": {
     "end_time": "2025-08-25T07:56:31.798055700Z",
     "start_time": "2025-08-25T07:56:31.531364Z"
    }
   }
  },
  {
   "cell_type": "code",
   "execution_count": 30,
   "outputs": [
    {
     "data": {
      "text/plain": "count    30.000000\nmean      0.415272\nstd       0.257280\nmin       0.011364\n25%       0.199489\n50%       0.403133\n75%       0.601167\nmax       0.890804\nName: mean_int, dtype: float64"
     },
     "execution_count": 30,
     "metadata": {},
     "output_type": "execute_result"
    }
   ],
   "source": [
    "hbc_df['mean_int'].describe()"
   ],
   "metadata": {
    "collapsed": false,
    "ExecuteTime": {
     "end_time": "2025-08-24T14:42:19.597858400Z",
     "start_time": "2025-08-24T14:42:19.554036800Z"
    }
   }
  },
  {
   "cell_type": "code",
   "execution_count": 6,
   "outputs": [],
   "source": [
    "med=hbc_df['mean_int'].median()\n",
    "hbc_low=hbc_df[hbc_df['mean_int']<med]"
   ],
   "metadata": {
    "collapsed": false,
    "ExecuteTime": {
     "end_time": "2025-08-29T15:52:50.518049200Z",
     "start_time": "2025-08-29T15:52:50.393003500Z"
    }
   }
  },
  {
   "cell_type": "code",
   "execution_count": 7,
   "outputs": [
    {
     "data": {
      "text/plain": "   20_mean_int  30_mean_int  45_mean_int  mean_int g_num  n_none cond\n0     0.461154     0.384027     0.363454  0.402878   g03       0    n\n0     0.106725     0.149676     0.123702  0.126701   g08       0    n\n0     0.380000     0.360657     0.287543  0.342733   g11       0    n\n0     0.239240     0.164935     0.181460  0.195212   g15       0    n\n0     0.068182     0.221687     0.125870  0.138579   g17       0    n\n0     0.293272     0.318080     0.296244  0.303104   g19       1    n\n0     0.243399     0.184168     0.145937  0.191168   g25       0    n\n0     0.127435     0.065104     0.113834  0.102125   g32       0    n\n0     0.206296     0.589286     0.233701  0.343094   g37       0    n\n0     0.408409     0.424122     0.300513  0.377681   g38       0    n\n0     0.034091     0.000000     0.000000  0.011364   g39       0    n\n0     0.000000     0.102273     0.000000  0.034091   g40       0    n\n0     0.125000     0.304032     0.207936  0.212323   g47       0    n\n0     0.534112     0.268056     0.199074  0.333747   g51       0    n\n0     0.000000     0.000000     0.052703  0.017568   g52       0    n",
      "text/html": "<div>\n<style scoped>\n    .dataframe tbody tr th:only-of-type {\n        vertical-align: middle;\n    }\n\n    .dataframe tbody tr th {\n        vertical-align: top;\n    }\n\n    .dataframe thead th {\n        text-align: right;\n    }\n</style>\n<table border=\"1\" class=\"dataframe\">\n  <thead>\n    <tr style=\"text-align: right;\">\n      <th></th>\n      <th>20_mean_int</th>\n      <th>30_mean_int</th>\n      <th>45_mean_int</th>\n      <th>mean_int</th>\n      <th>g_num</th>\n      <th>n_none</th>\n      <th>cond</th>\n    </tr>\n  </thead>\n  <tbody>\n    <tr>\n      <th>0</th>\n      <td>0.461154</td>\n      <td>0.384027</td>\n      <td>0.363454</td>\n      <td>0.402878</td>\n      <td>g03</td>\n      <td>0</td>\n      <td>n</td>\n    </tr>\n    <tr>\n      <th>0</th>\n      <td>0.106725</td>\n      <td>0.149676</td>\n      <td>0.123702</td>\n      <td>0.126701</td>\n      <td>g08</td>\n      <td>0</td>\n      <td>n</td>\n    </tr>\n    <tr>\n      <th>0</th>\n      <td>0.380000</td>\n      <td>0.360657</td>\n      <td>0.287543</td>\n      <td>0.342733</td>\n      <td>g11</td>\n      <td>0</td>\n      <td>n</td>\n    </tr>\n    <tr>\n      <th>0</th>\n      <td>0.239240</td>\n      <td>0.164935</td>\n      <td>0.181460</td>\n      <td>0.195212</td>\n      <td>g15</td>\n      <td>0</td>\n      <td>n</td>\n    </tr>\n    <tr>\n      <th>0</th>\n      <td>0.068182</td>\n      <td>0.221687</td>\n      <td>0.125870</td>\n      <td>0.138579</td>\n      <td>g17</td>\n      <td>0</td>\n      <td>n</td>\n    </tr>\n    <tr>\n      <th>0</th>\n      <td>0.293272</td>\n      <td>0.318080</td>\n      <td>0.296244</td>\n      <td>0.303104</td>\n      <td>g19</td>\n      <td>1</td>\n      <td>n</td>\n    </tr>\n    <tr>\n      <th>0</th>\n      <td>0.243399</td>\n      <td>0.184168</td>\n      <td>0.145937</td>\n      <td>0.191168</td>\n      <td>g25</td>\n      <td>0</td>\n      <td>n</td>\n    </tr>\n    <tr>\n      <th>0</th>\n      <td>0.127435</td>\n      <td>0.065104</td>\n      <td>0.113834</td>\n      <td>0.102125</td>\n      <td>g32</td>\n      <td>0</td>\n      <td>n</td>\n    </tr>\n    <tr>\n      <th>0</th>\n      <td>0.206296</td>\n      <td>0.589286</td>\n      <td>0.233701</td>\n      <td>0.343094</td>\n      <td>g37</td>\n      <td>0</td>\n      <td>n</td>\n    </tr>\n    <tr>\n      <th>0</th>\n      <td>0.408409</td>\n      <td>0.424122</td>\n      <td>0.300513</td>\n      <td>0.377681</td>\n      <td>g38</td>\n      <td>0</td>\n      <td>n</td>\n    </tr>\n    <tr>\n      <th>0</th>\n      <td>0.034091</td>\n      <td>0.000000</td>\n      <td>0.000000</td>\n      <td>0.011364</td>\n      <td>g39</td>\n      <td>0</td>\n      <td>n</td>\n    </tr>\n    <tr>\n      <th>0</th>\n      <td>0.000000</td>\n      <td>0.102273</td>\n      <td>0.000000</td>\n      <td>0.034091</td>\n      <td>g40</td>\n      <td>0</td>\n      <td>n</td>\n    </tr>\n    <tr>\n      <th>0</th>\n      <td>0.125000</td>\n      <td>0.304032</td>\n      <td>0.207936</td>\n      <td>0.212323</td>\n      <td>g47</td>\n      <td>0</td>\n      <td>n</td>\n    </tr>\n    <tr>\n      <th>0</th>\n      <td>0.534112</td>\n      <td>0.268056</td>\n      <td>0.199074</td>\n      <td>0.333747</td>\n      <td>g51</td>\n      <td>0</td>\n      <td>n</td>\n    </tr>\n    <tr>\n      <th>0</th>\n      <td>0.000000</td>\n      <td>0.000000</td>\n      <td>0.052703</td>\n      <td>0.017568</td>\n      <td>g52</td>\n      <td>0</td>\n      <td>n</td>\n    </tr>\n  </tbody>\n</table>\n</div>"
     },
     "execution_count": 7,
     "metadata": {},
     "output_type": "execute_result"
    }
   ],
   "source": [
    "hbc_low"
   ],
   "metadata": {
    "collapsed": false,
    "ExecuteTime": {
     "end_time": "2025-08-29T15:52:51.154374900Z",
     "start_time": "2025-08-29T15:52:51.003499500Z"
    }
   }
  },
  {
   "cell_type": "code",
   "execution_count": 8,
   "outputs": [],
   "source": [
    "g_num_low=hbc_low['g_num']"
   ],
   "metadata": {
    "collapsed": false,
    "ExecuteTime": {
     "end_time": "2025-08-29T15:52:51.749379800Z",
     "start_time": "2025-08-29T15:52:51.625326700Z"
    }
   }
  },
  {
   "cell_type": "code",
   "execution_count": 9,
   "outputs": [
    {
     "data": {
      "text/plain": "   20_mean_int  30_mean_int  45_mean_int  mean_int g_num  n_none cond\n0     0.426692     0.522783     0.519980  0.489818   g01       0    n\n0     0.486038     0.351905     0.487202  0.441715   g10       0    n\n0     0.722756     0.529632     0.566982  0.606457   g12       0    n\n0     0.876105     0.836507     0.719530  0.810714   g16       0    n\n0     0.697713     0.600105     0.738817  0.678878   g23       0    n\n0     0.486025     0.635263     0.305222  0.475503   g24       0    n\n0     0.627002     0.674194     0.563873  0.621689   g28       0    n\n0     0.482172     0.385714     0.342279  0.403388   g33       0    n\n0     0.443182     0.411319     0.425769  0.426757   g34       0    n\n0     0.771711     0.762931     0.775898  0.770180   g41       0    n\n0     0.543297     0.489583     0.496554  0.511650   g42       1    n\n0     0.737772     0.725643     0.719163  0.727526   g44       0    n\n0     0.965368     0.834173     0.872870  0.890804   g45       0    n\n0     0.950000     0.826613     0.879584  0.885399   g46       0    n\n0     0.564989     0.561080     0.629831  0.585300   g49       0    n",
      "text/html": "<div>\n<style scoped>\n    .dataframe tbody tr th:only-of-type {\n        vertical-align: middle;\n    }\n\n    .dataframe tbody tr th {\n        vertical-align: top;\n    }\n\n    .dataframe thead th {\n        text-align: right;\n    }\n</style>\n<table border=\"1\" class=\"dataframe\">\n  <thead>\n    <tr style=\"text-align: right;\">\n      <th></th>\n      <th>20_mean_int</th>\n      <th>30_mean_int</th>\n      <th>45_mean_int</th>\n      <th>mean_int</th>\n      <th>g_num</th>\n      <th>n_none</th>\n      <th>cond</th>\n    </tr>\n  </thead>\n  <tbody>\n    <tr>\n      <th>0</th>\n      <td>0.426692</td>\n      <td>0.522783</td>\n      <td>0.519980</td>\n      <td>0.489818</td>\n      <td>g01</td>\n      <td>0</td>\n      <td>n</td>\n    </tr>\n    <tr>\n      <th>0</th>\n      <td>0.486038</td>\n      <td>0.351905</td>\n      <td>0.487202</td>\n      <td>0.441715</td>\n      <td>g10</td>\n      <td>0</td>\n      <td>n</td>\n    </tr>\n    <tr>\n      <th>0</th>\n      <td>0.722756</td>\n      <td>0.529632</td>\n      <td>0.566982</td>\n      <td>0.606457</td>\n      <td>g12</td>\n      <td>0</td>\n      <td>n</td>\n    </tr>\n    <tr>\n      <th>0</th>\n      <td>0.876105</td>\n      <td>0.836507</td>\n      <td>0.719530</td>\n      <td>0.810714</td>\n      <td>g16</td>\n      <td>0</td>\n      <td>n</td>\n    </tr>\n    <tr>\n      <th>0</th>\n      <td>0.697713</td>\n      <td>0.600105</td>\n      <td>0.738817</td>\n      <td>0.678878</td>\n      <td>g23</td>\n      <td>0</td>\n      <td>n</td>\n    </tr>\n    <tr>\n      <th>0</th>\n      <td>0.486025</td>\n      <td>0.635263</td>\n      <td>0.305222</td>\n      <td>0.475503</td>\n      <td>g24</td>\n      <td>0</td>\n      <td>n</td>\n    </tr>\n    <tr>\n      <th>0</th>\n      <td>0.627002</td>\n      <td>0.674194</td>\n      <td>0.563873</td>\n      <td>0.621689</td>\n      <td>g28</td>\n      <td>0</td>\n      <td>n</td>\n    </tr>\n    <tr>\n      <th>0</th>\n      <td>0.482172</td>\n      <td>0.385714</td>\n      <td>0.342279</td>\n      <td>0.403388</td>\n      <td>g33</td>\n      <td>0</td>\n      <td>n</td>\n    </tr>\n    <tr>\n      <th>0</th>\n      <td>0.443182</td>\n      <td>0.411319</td>\n      <td>0.425769</td>\n      <td>0.426757</td>\n      <td>g34</td>\n      <td>0</td>\n      <td>n</td>\n    </tr>\n    <tr>\n      <th>0</th>\n      <td>0.771711</td>\n      <td>0.762931</td>\n      <td>0.775898</td>\n      <td>0.770180</td>\n      <td>g41</td>\n      <td>0</td>\n      <td>n</td>\n    </tr>\n    <tr>\n      <th>0</th>\n      <td>0.543297</td>\n      <td>0.489583</td>\n      <td>0.496554</td>\n      <td>0.511650</td>\n      <td>g42</td>\n      <td>1</td>\n      <td>n</td>\n    </tr>\n    <tr>\n      <th>0</th>\n      <td>0.737772</td>\n      <td>0.725643</td>\n      <td>0.719163</td>\n      <td>0.727526</td>\n      <td>g44</td>\n      <td>0</td>\n      <td>n</td>\n    </tr>\n    <tr>\n      <th>0</th>\n      <td>0.965368</td>\n      <td>0.834173</td>\n      <td>0.872870</td>\n      <td>0.890804</td>\n      <td>g45</td>\n      <td>0</td>\n      <td>n</td>\n    </tr>\n    <tr>\n      <th>0</th>\n      <td>0.950000</td>\n      <td>0.826613</td>\n      <td>0.879584</td>\n      <td>0.885399</td>\n      <td>g46</td>\n      <td>0</td>\n      <td>n</td>\n    </tr>\n    <tr>\n      <th>0</th>\n      <td>0.564989</td>\n      <td>0.561080</td>\n      <td>0.629831</td>\n      <td>0.585300</td>\n      <td>g49</td>\n      <td>0</td>\n      <td>n</td>\n    </tr>\n  </tbody>\n</table>\n</div>"
     },
     "execution_count": 9,
     "metadata": {},
     "output_type": "execute_result"
    }
   ],
   "source": [
    "hbc_high=hbc_df[hbc_df['mean_int']>=med]\n",
    "hbc_high"
   ],
   "metadata": {
    "collapsed": false,
    "ExecuteTime": {
     "end_time": "2025-08-29T15:52:52.565517300Z",
     "start_time": "2025-08-29T15:52:52.391850200Z"
    }
   }
  },
  {
   "cell_type": "code",
   "execution_count": 10,
   "outputs": [],
   "source": [
    "g_num_high=hbc_high['g_num']"
   ],
   "metadata": {
    "collapsed": false,
    "ExecuteTime": {
     "end_time": "2025-08-29T15:52:53.716635100Z",
     "start_time": "2025-08-29T15:52:53.596423600Z"
    }
   }
  },
  {
   "cell_type": "code",
   "execution_count": 11,
   "outputs": [
    {
     "data": {
      "text/plain": "count    15.000000\nmean      0.621719\nstd       0.165764\nmin       0.403388\n25%       0.482661\n50%       0.606457\n75%       0.748853\nmax       0.890804\nName: mean_int, dtype: float64"
     },
     "execution_count": 11,
     "metadata": {},
     "output_type": "execute_result"
    }
   ],
   "source": [
    "hbc_high['mean_int'].describe()"
   ],
   "metadata": {
    "collapsed": false,
    "ExecuteTime": {
     "end_time": "2025-08-29T15:52:54.210244500Z",
     "start_time": "2025-08-29T15:52:54.079252300Z"
    }
   }
  },
  {
   "cell_type": "code",
   "execution_count": 37,
   "outputs": [
    {
     "data": {
      "text/plain": "count    15.000000\nmean      0.208825\nstd       0.135303\nmin       0.011364\n25%       0.114413\n50%       0.195212\n75%       0.338240\nmax       0.402878\nName: mean_int, dtype: float64"
     },
     "execution_count": 37,
     "metadata": {},
     "output_type": "execute_result"
    }
   ],
   "source": [
    "hbc_low['mean_int'].describe()"
   ],
   "metadata": {
    "collapsed": false,
    "ExecuteTime": {
     "end_time": "2025-08-24T14:42:45.611089500Z",
     "start_time": "2025-08-24T14:42:45.537436700Z"
    }
   }
  },
  {
   "cell_type": "markdown",
   "source": [
    "## Topographies and mass univariate t-tests"
   ],
   "metadata": {
    "collapsed": false
   }
  },
  {
   "cell_type": "code",
   "execution_count": 12,
   "outputs": [],
   "source": [
    "g_num='g01'\n",
    "file_dir=f'ana/deconvolution/ep_betas/modfit/dc/{g_num}_modfit_hep_awareness_unaware_dc.ep'\n",
    "f = open(file_dir)\n"
   ],
   "metadata": {
    "collapsed": false,
    "ExecuteTime": {
     "end_time": "2025-08-29T15:53:01.475413900Z",
     "start_time": "2025-08-29T15:53:01.309832Z"
    }
   }
  },
  {
   "cell_type": "code",
   "execution_count": 13,
   "outputs": [
    {
     "data": {
      "text/plain": "(204, 128)"
     },
     "execution_count": 13,
     "metadata": {},
     "output_type": "execute_result"
    }
   ],
   "source": [
    "data=np.loadtxt(file_dir)\n",
    "data=data_cutter(data,time_limits=[-0.2,0.8],new_time_limits=[-0.1,0.7])\n",
    "\n",
    "data.shape"
   ],
   "metadata": {
    "collapsed": false,
    "ExecuteTime": {
     "end_time": "2025-08-29T15:53:02.162449300Z",
     "start_time": "2025-08-29T15:53:01.937918800Z"
    }
   }
  },
  {
   "cell_type": "markdown",
   "source": [
    "set hbc_cond= low for low perceivers, and hbc_cond= high for high perceivers\n",
    "dc indicates whether it is with or without deconvolution"
   ],
   "metadata": {
    "collapsed": false
   }
  },
  {
   "cell_type": "code",
   "execution_count": 32,
   "outputs": [],
   "source": [
    "erp_type='hep'\n",
    "modtype='awafit'\n",
    "hbc_cond='high'\n",
    "if hbc_cond=='high':\n",
    "    subject_list=g_num_high\n",
    "elif hbc_cond=='low':\n",
    "    subject_list=g_num_low\n",
    "\n",
    "X_awa=np.empty((len(subject_list),data.shape[1],data.shape[0]))\n",
    "dc='dc'\n",
    "for idx,g_num in enumerate(subject_list):\n",
    "    file_dir=f'ana/deconvolution/ep_betas/awafit/{dc}/{g_num}_aware_hep__Intercept__{dc}.ep'\n",
    "    data=np.loadtxt(file_dir)\n",
    "    data=data_cutter(data,time_limits=[-0.2,0.8],new_time_limits=[-0.1,0.7])\n",
    "\n",
    "\n",
    "    X_awa[idx,:,:]=data.T\n",
    "\n",
    "\n"
   ],
   "metadata": {
    "collapsed": false,
    "ExecuteTime": {
     "end_time": "2025-08-29T15:56:05.308552Z",
     "start_time": "2025-08-29T15:56:03.341487300Z"
    }
   }
  },
  {
   "cell_type": "code",
   "execution_count": 33,
   "outputs": [],
   "source": [
    "\n",
    "X_unawa=np.empty((len(subject_list),data.shape[1],data.shape[0]))\n",
    "for idx,g_num in enumerate(subject_list):\n",
    "    file_dir=f'ana/deconvolution/ep_betas/awafit/{dc}/{g_num}_unaware_hep__Intercept__{dc}.ep'\n",
    "\n",
    "    data=np.loadtxt(file_dir)\n",
    "    data=data_cutter(data,time_limits=[-0.2,0.8],new_time_limits=[-0.1,0.7])\n",
    "\n",
    "    X_unawa[idx,:,:]=data.T\n",
    "\n",
    "\n"
   ],
   "metadata": {
    "collapsed": false,
    "ExecuteTime": {
     "end_time": "2025-08-29T15:56:08.292805300Z",
     "start_time": "2025-08-29T15:56:06.276907700Z"
    }
   }
  },
  {
   "cell_type": "code",
   "execution_count": 34,
   "outputs": [],
   "source": [
    "X=X_awa-X_unawa"
   ],
   "metadata": {
    "collapsed": false,
    "ExecuteTime": {
     "end_time": "2025-08-29T15:56:08.399348900Z",
     "start_time": "2025-08-29T15:56:08.292805300Z"
    }
   }
  },
  {
   "cell_type": "markdown",
   "source": [
    "%matplotlib qt\n",
    "\n",
    "s_hp.get_tTest(X,crop_value=[-0.1,0.7],FDR=False,p_val=0.01,plot_times=[0.505],averages=0.015)"
   ],
   "metadata": {
    "collapsed": false
   }
  },
  {
   "cell_type": "markdown",
   "source": [
    "### load bayes factor from R\n",
    "obtained from file bayes_unfold_hbc.Rmd"
   ],
   "metadata": {
    "collapsed": false
   }
  },
  {
   "cell_type": "code",
   "execution_count": 35,
   "outputs": [],
   "source": [
    "cond=\"awareness\"\n",
    "dc_type=dc\n",
    "\n",
    "#load corresponding file\n",
    "\n",
    "\n",
    "\n",
    "file_dir=f'ana/deconvolution/stats/BF_matrix_{modtype}_{erp_type}_{cond}_{dc_type}_hbc_{hbc_cond}.ep'\n",
    "f = open(file_dir)"
   ],
   "metadata": {
    "collapsed": false,
    "ExecuteTime": {
     "end_time": "2025-08-29T15:56:10.830509100Z",
     "start_time": "2025-08-29T15:56:10.686121300Z"
    }
   }
  },
  {
   "cell_type": "code",
   "execution_count": 36,
   "outputs": [
    {
     "data": {
      "text/plain": "(128, 204)"
     },
     "execution_count": 36,
     "metadata": {},
     "output_type": "execute_result"
    }
   ],
   "source": [
    "data_BF=np.loadtxt(file_dir)\n",
    "data_BF=data_BF\n",
    "data_BF=data_cutter(data_BF.T,time_limits=[-0.2,0.8],new_time_limits=[-0.1,0.7]).T\n",
    "data_BF.shape"
   ],
   "metadata": {
    "collapsed": false,
    "ExecuteTime": {
     "end_time": "2025-08-29T15:56:11.679093500Z",
     "start_time": "2025-08-29T15:56:11.457792600Z"
    }
   }
  },
  {
   "cell_type": "markdown",
   "source": [],
   "metadata": {
    "collapsed": false
   }
  },
  {
   "cell_type": "code",
   "execution_count": 37,
   "outputs": [
    {
     "name": "stdout",
     "output_type": "stream",
     "text": [
      "-0.1\n",
      "number of time pointst: 8\n",
      "length of minimum time points to be significant: 1\n",
      "at the moment if only one TF is significant the electrode will be displayed as sig\n",
      "(128, 204)\n"
     ]
    },
    {
     "data": {
      "text/plain": "(array([[-0.11564065, -0.52007216, -0.55017029, ..., -0.39050353,\n         -0.54095694, -0.68752393],\n        [-0.30724482, -0.51184353, -0.51162173, ..., -0.410549  ,\n         -0.56231032, -0.78324207],\n        [-0.2635998 , -0.32379735, -0.24608239, ..., -0.30196494,\n         -0.47851536, -0.77093666],\n        ...,\n        [ 0.04788682,  0.16720237,  0.24001018, ...,  1.7665723 ,\n          2.08093523,  2.17729497],\n        [ 0.34163427,  0.38478619,  0.34016895, ...,  1.36390627,\n          1.62204564,  1.75492153],\n        [-0.23479559, -0.16868217, -0.23031047, ...,  0.77244147,\n          0.95610798,  1.05127634]]),\n array([[0.90957967, 0.61113901, 0.59087296, ..., 0.70204169, 0.59704013,\n         0.50298443],\n        [0.76317983, 0.61673868, 0.61688997, ..., 0.68761754, 0.58279674,\n         0.44653321],\n        [0.79592854, 0.75087795, 0.80918968, ..., 0.76711804, 0.63967024,\n         0.45355969],\n        ...,\n        [0.96248287, 0.86960189, 0.81380098, ..., 0.0990845 , 0.05628107,\n         0.04705832],\n        [0.73769988, 0.70617797, 0.73877932, ..., 0.1941249 , 0.12708977,\n         0.10112152],\n        [0.81776672, 0.86845943, 0.82118185, ..., 0.45269673, 0.35523734,\n         0.31094009]]))"
     },
     "execution_count": 37,
     "metadata": {},
     "output_type": "execute_result"
    }
   ],
   "source": [
    "%matplotlib qt\n",
    "filepath=f'{modtype}_{erp_type}_{cond}_{dc_type}_hbc_{hbc_cond}'\n",
    "s_hp.get_tTest(X,crop_value=[-0.1,0.7],FDR=False,mask_BF=data_BF,BF=True, plot_times=[0.505],averages=0.015,png=filepath)"
   ],
   "metadata": {
    "collapsed": false,
    "ExecuteTime": {
     "end_time": "2025-08-29T15:56:20.397568800Z",
     "start_time": "2025-08-29T15:56:14.807491100Z"
    }
   }
  },
  {
   "cell_type": "markdown",
   "source": [
    "# Figure 5\n",
    "high perceivers aware vs unaware"
   ],
   "metadata": {
    "collapsed": false
   }
  },
  {
   "cell_type": "code",
   "execution_count": 96,
   "outputs": [],
   "source": [
    "g_num='g01'\n",
    "file_dir=f'ana/deconvolution/ep_betas/awafit/dc/{g_num}_aware_hep__Intercept__dc.ep'\n",
    "f = open(file_dir)\n"
   ],
   "metadata": {
    "collapsed": false,
    "ExecuteTime": {
     "end_time": "2025-08-20T13:12:14.228313200Z",
     "start_time": "2025-08-20T13:12:14.061969400Z"
    }
   }
  },
  {
   "cell_type": "code",
   "execution_count": 97,
   "outputs": [
    {
     "data": {
      "text/plain": "(256, 128)"
     },
     "execution_count": 97,
     "metadata": {},
     "output_type": "execute_result"
    }
   ],
   "source": [
    "data=np.loadtxt(file_dir)\n",
    "data.shape"
   ],
   "metadata": {
    "collapsed": false,
    "ExecuteTime": {
     "end_time": "2025-08-20T13:12:15.384397200Z",
     "start_time": "2025-08-20T13:12:15.082702300Z"
    }
   }
  },
  {
   "cell_type": "code",
   "execution_count": 104,
   "outputs": [],
   "source": [
    "hbc_cond='high'\n",
    "if hbc_cond=='high':\n",
    "    subject_list=g_num_high\n",
    "elif hbc_cond=='low':\n",
    "    subject_list=g_num_low\n",
    "else:\n",
    "    subject_list=None\n",
    "\n",
    "\n",
    "X=np.empty((len(subject_list),data.shape[1],data.shape[0]))\n",
    "sys_cond='unaware'\n",
    "fit='awafit'\n",
    "dc='nodc'\n",
    "beta_type=\"_Intercept_\"\n",
    "\n",
    "for idx,g_num in enumerate(subject_list):\n",
    "    file_dir=f'ana/deconvolution/ep_betas/{fit}/{dc}/{g_num}_{sys_cond}_hep_{beta_type}_{dc}.ep'\n",
    "    data=np.loadtxt(file_dir)\n",
    "\n",
    "    X[idx,:,:]=data.T\n",
    "\n",
    "\n",
    "\n"
   ],
   "metadata": {
    "collapsed": false,
    "ExecuteTime": {
     "end_time": "2025-08-20T13:13:23.537676200Z",
     "start_time": "2025-08-20T13:13:20.288950200Z"
    }
   }
  },
  {
   "cell_type": "code",
   "execution_count": 105,
   "outputs": [],
   "source": [
    "gavg=np.mean(X,0).T\n",
    "filename=f'ana/deconvolution/ep_betas/{fit}/{dc}/gavg_{fit}_hep_{sys_cond}_{dc}_hbc_{hbc_cond}.ep'\n",
    "\n",
    "np.savetxt(filename,gavg)"
   ],
   "metadata": {
    "collapsed": false,
    "ExecuteTime": {
     "end_time": "2025-08-20T13:13:29.515676400Z",
     "start_time": "2025-08-20T13:13:24.439883700Z"
    }
   }
  },
  {
   "cell_type": "markdown",
   "source": [
    "## plot low perceivers per awa vs unawa"
   ],
   "metadata": {
    "collapsed": false
   }
  },
  {
   "cell_type": "code",
   "execution_count": 69,
   "outputs": [],
   "source": [
    "\n",
    "#define variables\n",
    "modtype='awafit'\n",
    "\n",
    "erp_type=\"hep\"\n",
    "cond='aware'\n",
    "dc_type=\"dc\"\n",
    "hbc_cond='low'\n",
    "\n",
    "#load corresponding file\n",
    "\n",
    "\n",
    "file_dir=f'ana/deconvolution/ep_betas/{modtype}/{dc_type}/gavg_{modtype}_{erp_type}_{cond}_{dc_type}_hbc_{hbc_cond}.ep'\n",
    "f = open(file_dir)"
   ],
   "metadata": {
    "collapsed": false,
    "ExecuteTime": {
     "end_time": "2025-08-20T08:09:13.741223600Z",
     "start_time": "2025-08-20T08:09:13.604664400Z"
    }
   }
  },
  {
   "cell_type": "code",
   "execution_count": 70,
   "outputs": [
    {
     "data": {
      "text/plain": "(256, 128)"
     },
     "execution_count": 70,
     "metadata": {},
     "output_type": "execute_result"
    }
   ],
   "source": [
    "data_aware=np.loadtxt(file_dir)\n",
    "data_aware=data_cutter(data_aware,time_limits=[-0.2,0.8],new_time_limits=[-0.1,0.7])\n",
    "data.shape"
   ],
   "metadata": {
    "collapsed": false,
    "ExecuteTime": {
     "end_time": "2025-08-20T08:09:14.631794600Z",
     "start_time": "2025-08-20T08:09:14.281306900Z"
    }
   }
  },
  {
   "cell_type": "code",
   "execution_count": 71,
   "outputs": [],
   "source": [
    "\n",
    "#define variables\n",
    "modtype='awafit'\n",
    "\n",
    "cond='unaware'\n",
    "\n",
    "\n",
    "#load corresponding file\n",
    "\n",
    "\n",
    "file_dir=f'ana/deconvolution/ep_betas/{modtype}/{dc_type}/gavg_{modtype}_{erp_type}_{cond}_{dc_type}_hbc_{hbc_cond}.ep'\n",
    "f = open(file_dir)"
   ],
   "metadata": {
    "collapsed": false,
    "ExecuteTime": {
     "end_time": "2025-08-20T08:09:15.151275700Z",
     "start_time": "2025-08-20T08:09:14.961204Z"
    }
   }
  },
  {
   "cell_type": "code",
   "execution_count": 72,
   "outputs": [],
   "source": [
    "data_unaware=np.loadtxt(file_dir)\n",
    "data_unaware=data_cutter(data_unaware,time_limits=[-0.2,0.8],new_time_limits=[-0.1,0.7])\n"
   ],
   "metadata": {
    "collapsed": false,
    "ExecuteTime": {
     "end_time": "2025-08-20T08:09:16.345965300Z",
     "start_time": "2025-08-20T08:09:15.786430800Z"
    }
   }
  },
  {
   "cell_type": "code",
   "execution_count": 72,
   "outputs": [],
   "source": [
    "\n"
   ],
   "metadata": {
    "collapsed": false,
    "ExecuteTime": {
     "end_time": "2025-08-20T08:09:16.345965300Z",
     "start_time": "2025-08-20T08:09:16.283765700Z"
    }
   }
  },
  {
   "cell_type": "code",
   "execution_count": 73,
   "outputs": [],
   "source": [
    "def get_evo(data,tmin=-0.1):\n",
    "    biosemi_montage = mne.channels.make_standard_montage('biosemi128')\n",
    "\n",
    "    info = mne.create_info(ch_names=biosemi_montage.ch_names, sfreq=256.,\n",
    "                           ch_types='eeg')\n",
    "    evok=mne.EvokedArray(data,info,tmin=tmin)\n",
    "    evok.set_montage(biosemi_montage)\n",
    "    return evok"
   ],
   "metadata": {
    "collapsed": false,
    "ExecuteTime": {
     "end_time": "2025-08-20T08:09:16.796340800Z",
     "start_time": "2025-08-20T08:09:16.660219Z"
    }
   }
  },
  {
   "cell_type": "markdown",
   "source": [],
   "metadata": {
    "collapsed": false
   }
  },
  {
   "cell_type": "code",
   "execution_count": 74,
   "outputs": [],
   "source": [
    "evo_awa=get_evo(data_aware.T)\n",
    "evo_unawa=get_evo(data_unaware.T)"
   ],
   "metadata": {
    "collapsed": false,
    "ExecuteTime": {
     "end_time": "2025-08-20T08:09:17.492453100Z",
     "start_time": "2025-08-20T08:09:17.368340400Z"
    }
   }
  },
  {
   "cell_type": "code",
   "execution_count": 75,
   "outputs": [],
   "source": [
    "regions=dict(dc_post=['A5','A14','A16','A18','A23'],dc_front=['C32','D4'],nodc=['B12','B14','B23','B24'] )"
   ],
   "metadata": {
    "collapsed": false,
    "ExecuteTime": {
     "end_time": "2025-08-20T08:09:17.798223400Z",
     "start_time": "2025-08-20T08:09:17.694813900Z"
    }
   }
  },
  {
   "cell_type": "code",
   "execution_count": 76,
   "outputs": [
    {
     "name": "stdout",
     "output_type": "stream",
     "text": [
      "['A5', 'A14', 'A16', 'A18', 'A23']\n",
      "combining channels using \"mean\"\n",
      "combining channels using \"mean\"\n",
      "['C32', 'D4']\n",
      "combining channels using \"mean\"\n",
      "combining channels using \"mean\"\n",
      "['B12', 'B14', 'B23', 'B24']\n",
      "combining channels using \"mean\"\n",
      "combining channels using \"mean\"\n"
     ]
    }
   ],
   "source": [
    "%matplotlib qt\n",
    "\n",
    "evokeds=dict(aware=evo_awa,unaware=evo_unawa)\n",
    "\n",
    "fig,axs=plt.subplots(1,3,figsize=(10,5))\n",
    "n=0\n",
    "BF_lim=3\n",
    "for regio, picked in regions.items():\n",
    "    print(picked)\n",
    "\n",
    "    fig_fin=mne.viz.plot_compare_evokeds(evokeds,ci=False, colors=['r','g'],picks=picked,show_sensors=True,legend='upper right',truncate_yaxis=False,axes=axs[n],combine='mean',vlines=[0,0.49,0.52,0.7],ylim=dict(eeg=[-1.5*1e6,1.5*1e6]),truncate_xaxis=False)\n",
    "\n",
    "    n+=1\n"
   ],
   "metadata": {
    "collapsed": false,
    "ExecuteTime": {
     "end_time": "2025-08-20T08:09:19.504770700Z",
     "start_time": "2025-08-20T08:09:18.952908500Z"
    }
   }
  },
  {
   "cell_type": "code",
   "execution_count": 77,
   "outputs": [],
   "source": [
    "file_dir=f'ana/deconvolution/figures/waveforms_gavg_{modtype}_{erp_type}_{cond}_{dc_type}_hbc_{hbc_cond}.svg'\n",
    "fig_fin[0].savefig(file_dir,format='svg')"
   ],
   "metadata": {
    "collapsed": false,
    "ExecuteTime": {
     "end_time": "2025-08-20T08:09:20.532808500Z",
     "start_time": "2025-08-20T08:09:19.948024800Z"
    }
   }
  },
  {
   "cell_type": "code",
   "execution_count": null,
   "outputs": [],
   "source": [],
   "metadata": {
    "collapsed": false
   }
  },
  {
   "cell_type": "code",
   "execution_count": null,
   "outputs": [],
   "source": [],
   "metadata": {
    "collapsed": false
   }
  },
  {
   "cell_type": "code",
   "execution_count": null,
   "outputs": [],
   "source": [],
   "metadata": {
    "collapsed": false
   }
  },
  {
   "cell_type": "markdown",
   "source": [],
   "metadata": {
    "collapsed": false
   }
  }
 ],
 "metadata": {
  "kernelspec": {
   "name": "conda-env-mne-py",
   "language": "python",
   "display_name": "Python [conda env:mne]"
  },
  "language_info": {
   "codemirror_mode": {
    "name": "ipython",
    "version": 2
   },
   "file_extension": ".py",
   "mimetype": "text/x-python",
   "name": "python",
   "nbconvert_exporter": "python",
   "pygments_lexer": "ipython2",
   "version": "2.7.6"
  }
 },
 "nbformat": 4,
 "nbformat_minor": 0
}
