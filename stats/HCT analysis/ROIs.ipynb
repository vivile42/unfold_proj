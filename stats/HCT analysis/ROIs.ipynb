{
 "cells": [
  {
   "cell_type": "code",
   "execution_count": 1,
   "outputs": [
    {
     "name": "stderr",
     "output_type": "stream",
     "text": [
      "C:\\Users\\Vivi\\anaconda3\\envs\\mne\\lib\\site-packages\\outdated\\utils.py:14: OutdatedPackageWarning: The package pingouin is out of date. Your version is 0.5.3, the latest is 0.5.5.\n",
      "Set the environment variable OUTDATED_IGNORE=1 to disable these warnings.\n",
      "  return warn(\n",
      "C:\\Users\\Vivi\\anaconda3\\envs\\mne\\lib\\site-packages\\outdated\\utils.py:14: OutdatedPackageWarning: The package outdated is out of date. Your version is 0.2.1, the latest is 0.2.2.\n",
      "Set the environment variable OUTDATED_IGNORE=1 to disable these warnings.\n",
      "  return warn(\n"
     ]
    }
   ],
   "source": [
    "\n",
    "import pandas as pd\n",
    "import re #regex library to format fast to read into pd\n",
    "import os\n",
    "\n",
    "import matplotlib.pyplot as plt\n",
    "import feather\n",
    "\n",
    "import numpy as np\n",
    "import platform\n",
    "import mne\n",
    "\n",
    "\n",
    "from mne.channels import find_ch_adjacency, make_1020_channel_selections\n",
    "from mne.stats import spatio_temporal_cluster_test\n",
    "from mne.stats import (ttest_1samp_no_p, bonferroni_correction, fdr_correction,\n",
    "\n",
    "\n",
    "                       permutation_t_test, permutation_cluster_1samp_test,spatio_temporal_cluster_1samp_test)\n",
    "import sys\n",
    "if platform.system()=='Darwin':\n",
    "    os.chdir('/Volumes/BBC/BBC/WP1/data/EEG/tsk/')\n",
    "    #sys.path.append('/Users/leupinv/BBC/WP1/data/Code/python/BBC')\n",
    "    #if this doesn't work pound line right above this, restart the kernel, rerun the cell.\n",
    "    #Then uncomment the same line and rerun\n",
    "\n",
    "else:\n",
    "    #os.chdir('Z:/BBC/WP1/data/EEG/tsk')\n",
    "    #sys.path.append('C:/Users/Vivi/switchdrive/BBC/WP1/data/Code/python/BBC')\n",
    "    os.chdir('Z:/BBC/WP1/data/EEG/tsk')\n",
    "\n",
    "from base.files_in_out import getListOfFiles,GetFiles\n",
    "from stats.stats_helper import filter_list, tTest_ana\n",
    "import stats.t_tests_cluster as clus\n",
    "import stats.stats_helper as s_hp\n",
    "import base.base_constants as cs\n",
    "from stats.stats_helper import filter_list, tTest_ana, filter_list_equal"
   ],
   "metadata": {
    "collapsed": false,
    "ExecuteTime": {
     "end_time": "2025-08-20T07:30:17.531423400Z",
     "start_time": "2025-08-20T07:30:14.485492Z"
    }
   }
  },
  {
   "cell_type": "code",
   "execution_count": 2,
   "outputs": [],
   "source": [
    "%load_ext autoreload\n",
    "%autoreload 2\n",
    "import matplotlib as mpl\n",
    "mpl.rcParams['svg.fonttype']='none'\n",
    "mpl.rcParams['text.usetex']=False\n",
    "plt.style.use('default')\n",
    "\n",
    "mpl.rcParams['svg.fonttype']='none'\n",
    "mpl.rcParams['text.usetex']=False"
   ],
   "metadata": {
    "collapsed": false,
    "ExecuteTime": {
     "end_time": "2025-08-20T07:30:18.148476800Z",
     "start_time": "2025-08-20T07:30:18.002513Z"
    }
   }
  },
  {
   "cell_type": "code",
   "execution_count": 3,
   "outputs": [],
   "source": [
    "def data_cutter(data, time_limits=[-0.3, 0.8], new_time_limits=[0.2, 0.6], sfreq=256):\n",
    "    \"\"\"\n",
    "    Cuts a 3D EEG data array ( time x electrodes) based on specified time limits.\n",
    "    Parameters:\n",
    "        data (np.ndarray): EEG data of shape (electrodes, time)\n",
    "        time_limits (list of float): Original epoch time range in seconds (e.g., [-0.3, 0.8])\n",
    "        new_time_limits (list of float): Desired time range to extract (e.g., [0.2, 0.6])\n",
    "        sfreq (int): Sampling frequency in Hz (default is 256)\n",
    "    Returns:\n",
    "        np.ndarray: The cut data with shape (new_time_points,electrodes)\n",
    "    \"\"\"\n",
    "    # Calculate the sample indices corresponding to the new time limits\n",
    "    start_idx = int(np.round((new_time_limits[0] - time_limits[0]) * sfreq))\n",
    "    end_idx = int(np.round((new_time_limits[1] - time_limits[0]) * sfreq))\n",
    "    # Cut the data along the time dimension (axis=1)\n",
    "    return data[start_idx:end_idx,:]\n",
    "\n"
   ],
   "metadata": {
    "collapsed": false,
    "ExecuteTime": {
     "end_time": "2025-08-20T07:30:26.575022200Z",
     "start_time": "2025-08-20T07:30:26.473129900Z"
    }
   }
  },
  {
   "cell_type": "code",
   "execution_count": 4,
   "outputs": [],
   "source": [
    "def get_evo(data,tmin=-0.1):\n",
    "    biosemi_montage = mne.channels.make_standard_montage('biosemi128')\n",
    "\n",
    "    info = mne.create_info(ch_names=biosemi_montage.ch_names, sfreq=256.,\n",
    "                           ch_types='eeg')\n",
    "    evok=mne.EvokedArray(data,info,tmin=tmin)\n",
    "    evok.set_montage(biosemi_montage)\n",
    "    return evok"
   ],
   "metadata": {
    "collapsed": false,
    "ExecuteTime": {
     "end_time": "2025-08-20T07:30:27.632334800Z",
     "start_time": "2025-08-20T07:30:27.515444200Z"
    }
   }
  },
  {
   "cell_type": "markdown",
   "source": [
    "# DF to perform ROI analysis\n",
    "the actual analysis are on R in the file ROI_unfold_hbc"
   ],
   "metadata": {
    "collapsed": false
   }
  },
  {
   "cell_type": "code",
   "execution_count": 5,
   "outputs": [],
   "source": [
    "filepath='Z:/BBC\\WP1\\data\\EEG\\int/ana/behav/group_n_int_acc_df.feather'\n",
    "hbc_df=pd.read_feather(filepath)"
   ],
   "metadata": {
    "collapsed": false,
    "ExecuteTime": {
     "end_time": "2025-08-20T07:30:30.558251300Z",
     "start_time": "2025-08-20T07:30:30.386909Z"
    }
   }
  },
  {
   "cell_type": "code",
   "execution_count": 6,
   "outputs": [],
   "source": [
    "med=hbc_df['mean_int'].median()\n",
    "hbc_df['h_per'] = (hbc_df['mean_int'] >= med).astype(int)"
   ],
   "metadata": {
    "collapsed": false,
    "ExecuteTime": {
     "end_time": "2025-08-20T07:30:31.032537Z",
     "start_time": "2025-08-20T07:30:30.917066500Z"
    }
   }
  },
  {
   "cell_type": "code",
   "execution_count": 7,
   "outputs": [],
   "source": [
    "hbc_df=hbc_df[['g_num','mean_int','h_per']]"
   ],
   "metadata": {
    "collapsed": false,
    "ExecuteTime": {
     "end_time": "2025-08-20T07:30:31.689630800Z",
     "start_time": "2025-08-20T07:30:31.567114800Z"
    }
   }
  },
  {
   "cell_type": "code",
   "execution_count": null,
   "outputs": [],
   "source": [],
   "metadata": {
    "collapsed": false
   }
  },
  {
   "cell_type": "code",
   "execution_count": null,
   "outputs": [],
   "source": [],
   "metadata": {
    "collapsed": false
   }
  },
  {
   "cell_type": "code",
   "execution_count": null,
   "outputs": [],
   "source": [],
   "metadata": {
    "collapsed": false
   }
  },
  {
   "cell_type": "markdown",
   "source": [
    "## aware vs unaware in aware fit"
   ],
   "metadata": {
    "collapsed": false
   }
  },
  {
   "cell_type": "code",
   "execution_count": 9,
   "outputs": [],
   "source": [
    "regions=dict(dc_post=['A5','A14','A16','A18','A23'],dc_front=['C32','D4'],nodc=['B12','B14','B23','B24'] )"
   ],
   "metadata": {
    "collapsed": false,
    "ExecuteTime": {
     "end_time": "2025-08-20T07:32:21.507482300Z",
     "start_time": "2025-08-20T07:32:21.401508300Z"
    }
   }
  },
  {
   "cell_type": "markdown",
   "source": [
    "erp_type='hep'\n",
    "modtype='awafit'\n",
    "hbc_cond='low'\n",
    "if hbc_cond=='high':\n",
    "    subject_list=g_num_high\n",
    "elif hbc_cond=='low':\n",
    "    subject_list=g_num_low"
   ],
   "metadata": {
    "collapsed": false
   }
  },
  {
   "cell_type": "code",
   "execution_count": 41,
   "outputs": [],
   "source": [
    "\n",
    "subject_list=cs.G_N\n",
    "awareness_list=['aware','unaware']\n",
    "dc_list=['dc','nodc']\n",
    "\n",
    "\n",
    "all_results=[]\n",
    "\n",
    "for awareness_cond in awareness_list:\n",
    "    for dc_cond in dc_list:\n",
    "        for idx,g_num in enumerate(subject_list):\n",
    "            subject_results={}\n",
    "            subject_results['g_num']=g_num\n",
    "            file_dir=f'ana/deconvolution/ep_betas/awafit/{dc_cond}/{g_num}_{awareness_cond}_hep__Intercept__{dc_cond}.ep'\n",
    "            data=np.loadtxt(file_dir)\n",
    "            data=data_cutter(data,time_limits=[-0.2,0.8],new_time_limits=[-0.1,0.7])\n",
    "            subject_results['awareness']=awareness_cond\n",
    "            subject_results['dc']=dc_cond\n",
    "\n",
    "            for region in regions.keys():\n",
    "                evo_1=get_evo(data.T)\n",
    "                evo_1.pick_channels(regions[region])\n",
    "                data_erp=evo_1.data\n",
    "                data_region=data_cutter(data_erp.T,time_limits=[-0.1,0.7],new_time_limits=[0.49,0.52])\n",
    "                subject_results[region]=data_region.mean()\n",
    "\n",
    "            all_results.append(subject_results)\n",
    "\n",
    "            df=pd.DataFrame(all_results)\n",
    "\n"
   ],
   "metadata": {
    "collapsed": false,
    "ExecuteTime": {
     "end_time": "2025-08-18T09:35:12.667081900Z",
     "start_time": "2025-08-18T09:34:47.937557100Z"
    }
   }
  },
  {
   "cell_type": "code",
   "execution_count": 41,
   "outputs": [],
   "source": [],
   "metadata": {
    "collapsed": false,
    "ExecuteTime": {
     "end_time": "2025-08-18T10:05:19.976428800Z",
     "start_time": "2025-08-18T10:05:19.926694300Z"
    }
   }
  },
  {
   "cell_type": "code",
   "execution_count": 42,
   "outputs": [
    {
     "data": {
      "text/plain": "    g_num awareness    dc   dc_post  dc_front      nodc\n0     g01     aware    dc -0.592519  1.204980 -0.249928\n1     g03     aware    dc -0.777534  0.751541 -0.702656\n2     g08     aware    dc -0.245768  0.781978 -0.172146\n3     g10     aware    dc -0.169978  0.312345 -0.353291\n4     g11     aware    dc -1.237423  0.875180  0.073668\n..    ...       ...   ...       ...       ...       ...\n115   g46   unaware  nodc -0.758388  0.380957  0.948056\n116   g47   unaware  nodc  0.163072  0.309736  0.101673\n117   g49   unaware  nodc  0.469250 -0.719561 -0.167920\n118   g51   unaware  nodc -0.006452 -0.241782 -0.073540\n119   g52   unaware  nodc  0.389231 -0.115059 -0.123898\n\n[120 rows x 6 columns]",
      "text/html": "<div>\n<style scoped>\n    .dataframe tbody tr th:only-of-type {\n        vertical-align: middle;\n    }\n\n    .dataframe tbody tr th {\n        vertical-align: top;\n    }\n\n    .dataframe thead th {\n        text-align: right;\n    }\n</style>\n<table border=\"1\" class=\"dataframe\">\n  <thead>\n    <tr style=\"text-align: right;\">\n      <th></th>\n      <th>g_num</th>\n      <th>awareness</th>\n      <th>dc</th>\n      <th>dc_post</th>\n      <th>dc_front</th>\n      <th>nodc</th>\n    </tr>\n  </thead>\n  <tbody>\n    <tr>\n      <th>0</th>\n      <td>g01</td>\n      <td>aware</td>\n      <td>dc</td>\n      <td>-0.592519</td>\n      <td>1.204980</td>\n      <td>-0.249928</td>\n    </tr>\n    <tr>\n      <th>1</th>\n      <td>g03</td>\n      <td>aware</td>\n      <td>dc</td>\n      <td>-0.777534</td>\n      <td>0.751541</td>\n      <td>-0.702656</td>\n    </tr>\n    <tr>\n      <th>2</th>\n      <td>g08</td>\n      <td>aware</td>\n      <td>dc</td>\n      <td>-0.245768</td>\n      <td>0.781978</td>\n      <td>-0.172146</td>\n    </tr>\n    <tr>\n      <th>3</th>\n      <td>g10</td>\n      <td>aware</td>\n      <td>dc</td>\n      <td>-0.169978</td>\n      <td>0.312345</td>\n      <td>-0.353291</td>\n    </tr>\n    <tr>\n      <th>4</th>\n      <td>g11</td>\n      <td>aware</td>\n      <td>dc</td>\n      <td>-1.237423</td>\n      <td>0.875180</td>\n      <td>0.073668</td>\n    </tr>\n    <tr>\n      <th>...</th>\n      <td>...</td>\n      <td>...</td>\n      <td>...</td>\n      <td>...</td>\n      <td>...</td>\n      <td>...</td>\n    </tr>\n    <tr>\n      <th>115</th>\n      <td>g46</td>\n      <td>unaware</td>\n      <td>nodc</td>\n      <td>-0.758388</td>\n      <td>0.380957</td>\n      <td>0.948056</td>\n    </tr>\n    <tr>\n      <th>116</th>\n      <td>g47</td>\n      <td>unaware</td>\n      <td>nodc</td>\n      <td>0.163072</td>\n      <td>0.309736</td>\n      <td>0.101673</td>\n    </tr>\n    <tr>\n      <th>117</th>\n      <td>g49</td>\n      <td>unaware</td>\n      <td>nodc</td>\n      <td>0.469250</td>\n      <td>-0.719561</td>\n      <td>-0.167920</td>\n    </tr>\n    <tr>\n      <th>118</th>\n      <td>g51</td>\n      <td>unaware</td>\n      <td>nodc</td>\n      <td>-0.006452</td>\n      <td>-0.241782</td>\n      <td>-0.073540</td>\n    </tr>\n    <tr>\n      <th>119</th>\n      <td>g52</td>\n      <td>unaware</td>\n      <td>nodc</td>\n      <td>0.389231</td>\n      <td>-0.115059</td>\n      <td>-0.123898</td>\n    </tr>\n  </tbody>\n</table>\n<p>120 rows × 6 columns</p>\n</div>"
     },
     "execution_count": 42,
     "metadata": {},
     "output_type": "execute_result"
    }
   ],
   "source": [
    "df"
   ],
   "metadata": {
    "collapsed": false,
    "ExecuteTime": {
     "end_time": "2025-08-18T10:05:21.301724Z",
     "start_time": "2025-08-18T10:05:21.098778700Z"
    }
   }
  },
  {
   "cell_type": "code",
   "execution_count": 43,
   "outputs": [],
   "source": [
    "df_final=df.merge(hbc_df,on='g_num')"
   ],
   "metadata": {
    "collapsed": false,
    "ExecuteTime": {
     "end_time": "2025-08-18T10:05:23.533033300Z",
     "start_time": "2025-08-18T10:05:23.417105800Z"
    }
   }
  },
  {
   "cell_type": "code",
   "execution_count": 44,
   "outputs": [
    {
     "data": {
      "text/plain": "    g_num awareness    dc   dc_post  dc_front      nodc  mean_int  h_per\n0     g01     aware    dc -0.592519  1.204980 -0.249928  0.489818      1\n1     g01     aware  nodc -0.474549  1.117957 -0.575139  0.489818      1\n2     g01   unaware    dc -0.392548  0.993822 -0.201834  0.489818      1\n3     g01   unaware  nodc -0.467532  1.116099 -0.524208  0.489818      1\n4     g03     aware    dc -0.777534  0.751541 -0.702656  0.402878      0\n..    ...       ...   ...       ...       ...       ...       ...    ...\n115   g51   unaware  nodc -0.006452 -0.241782 -0.073540  0.333747      0\n116   g52     aware    dc -0.175531  0.399921 -0.973764  0.017568      0\n117   g52     aware  nodc  0.196500  0.371109 -0.742729  0.017568      0\n118   g52   unaware    dc  0.086484 -0.070891 -0.460125  0.017568      0\n119   g52   unaware  nodc  0.389231 -0.115059 -0.123898  0.017568      0\n\n[120 rows x 8 columns]",
      "text/html": "<div>\n<style scoped>\n    .dataframe tbody tr th:only-of-type {\n        vertical-align: middle;\n    }\n\n    .dataframe tbody tr th {\n        vertical-align: top;\n    }\n\n    .dataframe thead th {\n        text-align: right;\n    }\n</style>\n<table border=\"1\" class=\"dataframe\">\n  <thead>\n    <tr style=\"text-align: right;\">\n      <th></th>\n      <th>g_num</th>\n      <th>awareness</th>\n      <th>dc</th>\n      <th>dc_post</th>\n      <th>dc_front</th>\n      <th>nodc</th>\n      <th>mean_int</th>\n      <th>h_per</th>\n    </tr>\n  </thead>\n  <tbody>\n    <tr>\n      <th>0</th>\n      <td>g01</td>\n      <td>aware</td>\n      <td>dc</td>\n      <td>-0.592519</td>\n      <td>1.204980</td>\n      <td>-0.249928</td>\n      <td>0.489818</td>\n      <td>1</td>\n    </tr>\n    <tr>\n      <th>1</th>\n      <td>g01</td>\n      <td>aware</td>\n      <td>nodc</td>\n      <td>-0.474549</td>\n      <td>1.117957</td>\n      <td>-0.575139</td>\n      <td>0.489818</td>\n      <td>1</td>\n    </tr>\n    <tr>\n      <th>2</th>\n      <td>g01</td>\n      <td>unaware</td>\n      <td>dc</td>\n      <td>-0.392548</td>\n      <td>0.993822</td>\n      <td>-0.201834</td>\n      <td>0.489818</td>\n      <td>1</td>\n    </tr>\n    <tr>\n      <th>3</th>\n      <td>g01</td>\n      <td>unaware</td>\n      <td>nodc</td>\n      <td>-0.467532</td>\n      <td>1.116099</td>\n      <td>-0.524208</td>\n      <td>0.489818</td>\n      <td>1</td>\n    </tr>\n    <tr>\n      <th>4</th>\n      <td>g03</td>\n      <td>aware</td>\n      <td>dc</td>\n      <td>-0.777534</td>\n      <td>0.751541</td>\n      <td>-0.702656</td>\n      <td>0.402878</td>\n      <td>0</td>\n    </tr>\n    <tr>\n      <th>...</th>\n      <td>...</td>\n      <td>...</td>\n      <td>...</td>\n      <td>...</td>\n      <td>...</td>\n      <td>...</td>\n      <td>...</td>\n      <td>...</td>\n    </tr>\n    <tr>\n      <th>115</th>\n      <td>g51</td>\n      <td>unaware</td>\n      <td>nodc</td>\n      <td>-0.006452</td>\n      <td>-0.241782</td>\n      <td>-0.073540</td>\n      <td>0.333747</td>\n      <td>0</td>\n    </tr>\n    <tr>\n      <th>116</th>\n      <td>g52</td>\n      <td>aware</td>\n      <td>dc</td>\n      <td>-0.175531</td>\n      <td>0.399921</td>\n      <td>-0.973764</td>\n      <td>0.017568</td>\n      <td>0</td>\n    </tr>\n    <tr>\n      <th>117</th>\n      <td>g52</td>\n      <td>aware</td>\n      <td>nodc</td>\n      <td>0.196500</td>\n      <td>0.371109</td>\n      <td>-0.742729</td>\n      <td>0.017568</td>\n      <td>0</td>\n    </tr>\n    <tr>\n      <th>118</th>\n      <td>g52</td>\n      <td>unaware</td>\n      <td>dc</td>\n      <td>0.086484</td>\n      <td>-0.070891</td>\n      <td>-0.460125</td>\n      <td>0.017568</td>\n      <td>0</td>\n    </tr>\n    <tr>\n      <th>119</th>\n      <td>g52</td>\n      <td>unaware</td>\n      <td>nodc</td>\n      <td>0.389231</td>\n      <td>-0.115059</td>\n      <td>-0.123898</td>\n      <td>0.017568</td>\n      <td>0</td>\n    </tr>\n  </tbody>\n</table>\n<p>120 rows × 8 columns</p>\n</div>"
     },
     "execution_count": 44,
     "metadata": {},
     "output_type": "execute_result"
    }
   ],
   "source": [
    "df_final"
   ],
   "metadata": {
    "collapsed": false,
    "ExecuteTime": {
     "end_time": "2025-08-18T10:05:29.498265300Z",
     "start_time": "2025-08-18T10:05:29.382532300Z"
    }
   }
  },
  {
   "cell_type": "code",
   "execution_count": 46,
   "outputs": [],
   "source": [
    "file_dir=f'ana/deconvolution/stats/ROI_df_int.csv'\n",
    "df_final.to_csv(file_dir)"
   ],
   "metadata": {
    "collapsed": false,
    "ExecuteTime": {
     "end_time": "2025-08-18T10:09:41.925011800Z",
     "start_time": "2025-08-18T10:09:41.699618900Z"
    }
   }
  },
  {
   "cell_type": "code",
   "execution_count": null,
   "outputs": [],
   "source": [],
   "metadata": {
    "collapsed": false
   }
  }
 ],
 "metadata": {
  "kernelspec": {
   "name": "mne",
   "language": "python",
   "display_name": "Python (mne)"
  },
  "language_info": {
   "codemirror_mode": {
    "name": "ipython",
    "version": 2
   },
   "file_extension": ".py",
   "mimetype": "text/x-python",
   "name": "python",
   "nbconvert_exporter": "python",
   "pygments_lexer": "ipython2",
   "version": "2.7.6"
  }
 },
 "nbformat": 4,
 "nbformat_minor": 0
}
